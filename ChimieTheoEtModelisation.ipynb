{
 "cells": [
  {
   "cell_type": "code",
   "execution_count": null,
   "id": "c298741c-734b-4c09-bc03-f7d51713af5d",
   "metadata": {},
   "outputs": [],
   "source": [
    "#########################################################################################################################################################\n",
    "# exécutez cette première cellule Python, qui définit le style visuel de ces notebooks et qui initialise quelques variables et fonctions parfois utiles #\n",
    "#########################################################################################################################################################\n",
    "\n",
    "import os\n",
    "import sys\n",
    "\n",
    "# commenter les lignes ci-dessous si vous n'exécutez pas le notebook dans l'environnement pyPhysChem\n",
    "print(os.getcwd())\n",
    "cwd0 = './config/'\n",
    "sys.path.append(cwd0)\n",
    "\n",
    "import visualID_Eng as vID\n",
    "from visualID_Eng import fg,bg,hl,color\n",
    "vID.init(cwd0)\n",
    "import tools4pyPhysChem as t4pPC\n",
    "\n",
    "__author__ = \"romuald.poteau@utoulouse.fr\"\n",
    "__version__ = \"20250915\""
   ]
  },
  {
   "cell_type": "markdown",
   "id": "13e96966-4590-47a1-bad8-efb75f94a900",
   "metadata": {},
   "source": [
    "# Chimie Théorique et Modélisation : modèles simples<br>Feuilles de calcul Python\n",
    "\n",
    "<figure>\n",
    "  <img src=\"./MiscImages/Introductions/datascience_3.png\" style=\"margin-left:auto; margin-right:auto; display: block; width:700px\" id=\"img_python_PhysChem\" alt=\"python et physico-chimie\">\n",
    "  <figcaption>fait par l'auteur, avec l'aide de Dall-E, ChatGPT-4o (Nov. 2024)</figcaption>\n",
    "</figure>\n",
    "\n",
    "## À qui ce notebook est-il destiné et comment travailler avec ?\n",
    "\n",
    "<div class=\"intro\">\n",
    "\n",
    "Ce notebook Python est destiné à tou(te)s les étudiant(e)s qui suivent un enseignement d'introduction à l'\"atomistique et la liaison chimique\", qu'on préfère intituler les **modèles simples en chimie théorique et modélisation**. \n",
    "\n",
    "**Vous pensez qu'avoir des compétences en Python est sans intérêt pour vous ?** C'est une **erreur**, Python étant ***a minima* une super calculatrice scientifique**. \n",
    "Acquérir une maîtrise de Python représente un avantage incontournable pour tout(e) étudiant(e) en sciences, en lui fournissant les **compétences techniques** indispensables pour stimuler la réflexion et l'innovation dans son domaine scientifique. Mais maîtriser Python ne se limite pas à développer des compétences techniques, cela peut vous permettre également de **mieux comprendre un domaine** en approfondissant l'analyse des données, en explorant de **nouvelles approches méthodologiques et numériques**, et en **visualisant des phénomènes complexes** sous des angles inédits. Bref, ça peut vous **aider à comprendre** et à **vous poser des questions différemment**.\n",
    "\n",
    "Tout(e) étudiant(e) curieux(se) peut s'approprier toutes les parties du notebook. Néanmoins, voici comment vous pourriez **sélectionner les parties qui sont les plus adaptées à votre parcours**, selon que vous êtes dans un parcours...\n",
    "\n",
    "- **chimie** ou **physico-chimie** : concentrez-vous avant tout sur les applications numériques, sur les outils de résolution numériques d'équations, sur les graphiques, sur l'utilisation de \"macrocommandes\" en sachant lire \"la doc\" pour appeler la commande avec les bons paramètres\n",
    "- **informatique** : Développer du code sans comprendre le contexte utilisateur est insuffisant. Au-delà de cette première approche, des fonctions et classes Python sont intégrées au notebook, afin de faciliter l'utlisation de certaines bibliothèques ou de dépasser leurs limites. Analysez le code, qui exploite le caractère orienté objet du langage Python, et qui - modestement - essaie d'automatiser des processus et de créer des applications logicielles performantes. Et ne passez pas à côté des applications numériques, pour vous aider à aborder différemment le domaine de la chimie. \n",
    "- **mathématiques** : les parties exploitant `sympy`, bibliothèque qui facilite le calcul symbolique, sont faites pour vous. Ne négligez cependant pas les parties  numériques ni la partie analyse du code Python si vous êtes attiré(e) par les mathématiques appliquées.\n",
    "- **physique** : simuler et comprendre des phénomènes physiques nécessitant entre autres de résoudre des équations complexes et d'analyser des données expérimentales, vous pouvez essayer de vous approprier l'ensemble des exercices\n",
    "- **sciences de l'ingénieur ou prépa concours** : vous serez régulièrement confrontés à la nécécessité de résoudre de façon optimale des problèmes complexes, d'automatiser des calculs et d'analyser des données dans divers domaines de l'ingénierie. Avoir des compétences numériques, en programmation, et en manipulation des données est incontournable. Des compétences en calcul symbolique (bibliothèque `sympy`) sont un plus.\n",
    "\n",
    "<div style=\"color:#4a7d93\">\n",
    "    \n",
    "**Les compétences Python travaillées seront précisées en fin de chaque exercice.**\n",
    "\n",
    "</div>\n",
    "\n",
    "Dans l'environnement `pyPhysChem` &ndash; <u>c'est-à-dire si vous clonez l'espace de dépôt sur votre ordinateur, ce qui est fortement recommandé </u> &ndash; les exercices apparaissent sur fond bleu, comme dans l'exemple ci-dessous\n",
    "</div>\n",
    "<br>\n",
    "<div class=\"ex\" title=\"lorem ipsum\">\n",
    "\n",
    "*Lorem ipsum dolor sit amet, consectetuer adipiscing elit. Maecenas porttitor congue massa. Fusce posuere, magna sed pulvinar ultricies, purus lectus malesuada libero, sit amet commodo magna eros quis urna. Nunc viverra imperdiet enim. Fusce est. Vivamus a tellus. Pellentesque habitant morbi tristique senectus et netus et malesuada fames ac turpis egestas. Proin pharetra nonummy pede. Mauris et orci. Aenean nec lorem. In porttitor. Donec laoreet nonummy augue. Suspendisse dui purus, scelerisque at, vulputate vitae, pretium mattis, nunc. Mauris eget neque at sem venenatis eleifend. Ut nonummy.*\n",
    "\n",
    "Mais d'où sort cette phrase ?\n",
    "\n",
    "<div style=\"color:#4a7d93\">\n",
    "\n",
    "**Compétence travaillée :** rechercher l'origine du *lorem ipsum* et quelle est son utilisation dans le monde numérique.\n",
    "</div>\n",
    "</div>"
   ]
  },
  {
   "cell_type": "markdown",
   "id": "db110ee3-8478-40f7-bebb-e4a9bd8b994f",
   "metadata": {},
   "source": [
    "## Python repose sur des API!\n",
    "\n",
    "<div class=\"intro\">\n",
    "\n",
    "### Qu’est-ce qu’une API ?\n",
    "\n",
    "Une **API** (*Application Programming Interface*, interface de programmation applicative) est un ensemble de règles et de fonctions qui permet à deux programmes de communiquer.  \n",
    "\n",
    "👉 Analogie : c’est comme le **menu d’un restaurant**  \n",
    "- Vous (l’utilisateur) choisissez un plat → **la requête**  \n",
    "- La cuisine (le serveur) le prépare → **le traitement**  \n",
    "- Le serveur ou le serveur de salle (l’API) vous apporte le plat → **la réponse**  \n",
    "\n",
    "Vous n’avez pas besoin de savoir comment la cuisine fonctionne, seulement comment lire le menu (la documentation de l’API).\n",
    "\n",
    "<figure> \n",
    "<img width = \"800px\" src=\"./MiscImages/What-is-an-API.png\" alt=\"API\" />\n",
    "</figure>\n",
    "\n",
    "### Les API en Python\n",
    "\n",
    "Python repose sur les API à tous les niveaux :\n",
    "\n",
    "- **API des bibliothèques** :  \n",
    "  Chaque bibliothèque (NumPy, Pandas, RDKit…) expose des fonctions et des classes qui constituent son API.  \n",
    "  ```python\n",
    "  import math\n",
    "  math.sqrt(16)   # API de la bibliothèque math\n",
    "- **API système** :  \n",
    "  Lire/écrire des fichiers, accéder au système d’exploitation, travailler avec des réseaux.\n",
    "- **API externes** :  \n",
    "  Python peut interroger des services externes (ex. Materials Project, PubChem) via leurs API web.\n",
    "\n",
    "En résumé : Python est construit sur des API — vous les utilisez en permanence sans avoir besoin de connaître le code interne\n",
    "\n",
    "### Intérêts des API (pour un étudiant ou un chercheur)\n",
    "\n",
    "- **Ne pas réinventer la roue**  \n",
    "  → Au lieu de réécrire un algorithme ou de recompiler une base de données, on utilise directement les fonctions mises à disposition par l’API.\n",
    "\n",
    "- **Gagner du temps et réduire les erreurs**  \n",
    "  → Les API offrent des fonctions **testées et fiables**.  \n",
    "  Exemple : `numpy.linalg.eig` pour calculer des valeurs propres, plutôt que coder soi-même une décomposition.\n",
    "\n",
    "- **Accéder à des ressources complexes**  \n",
    "  → Les API donnent accès à des bases de données gigantesques (*Materials Project*, *PubChem*…) ou à des systèmes lourds (serveurs, clusters) qu’on ne pourrait pas manipuler directement.\n",
    "\n",
    "- **Standardiser les échanges**  \n",
    "  → Une API définit une façon **claire et documentée** d’interagir avec un service. Tout le monde parle le même langage.\n",
    "\n",
    "- **Interopérabilité**  \n",
    "  → Grâce aux API, Python peut dialoguer avec des programmes écrits en C, Fortran, Java, ou avec des services web distants, sans se soucier des détails internes.\n",
    "\n",
    "</div>"
   ]
  },
  {
   "cell_type": "markdown",
   "id": "76f9e6f7-0407-488c-947b-304db936fd3f",
   "metadata": {},
   "source": [
    "## Importation des constantes fondamentales\n",
    "\n",
    "### Introduction\n",
    "\n",
    "<div class=\"intro\">\n",
    "\n",
    "En chimie, on a fréquemment besoin d'utiliser des [constantes physiques](https://en.wikipedia.org/wiki/Physical_constant), telles que la vitesse de la lumière $c$, la masse du proton $m_p$, le nombre d'Avogadro $N_A$, la constante de Planck $h$, la constante des gaz parfaits $R$, etc...\n",
    "\n",
    "Une constante physique est une quantité physique dont la valeur numérique est fixe. Contrairement à une constante mathématique, elle implique une grandeur physiquement mesurable.\n",
    "\n",
    "On a souvent besoin également de certaines [constantes mathématiques](https://en.wikipedia.org/wiki/Mathematical_constant), comme le nombre $\\pi$, le nombre d'Euler $e$, l'unité imaginaire $i$, etc...\n",
    "\n",
    "La plupart de ces constantes sont disponibles dans la bibliothèque `SciPy`, qui est l’une des bibliothèques de Python permettant de faire le calcul scientifique. Celle-ci dépend de la bibliothèque `NumPy` qui permet la manipulation des tableaux à *N* dimensions. La liste des constantes et des unités est disponible dans la [documentation en ligne de](https://docs.scipy.org/doc/scipy/reference/constants.html#scipy.constants.physical_constants) `SciPy`, ou bien par l'utilisation d'une commande Python. Pour y accéder, il faut importer `scipy.constants`.\n",
    "\n",
    "</div>\n",
    "<br>\n",
    "<div class=\"rqT\" title=\"SciPy ? A quoi ça sert ?\">\n",
    "\n",
    "`SciPy` est une bibliothèque open-source en Python utilisée pour les calculs scientifiques et techniques. Elle fournit des outils pour l'optimisation, l'intégration, l'interpolation, l'algèbre linéaire, les statistiques, et d'autres domaines des mathématiques appliquées. Voir l'article de [wikipedia](https://fr.wikipedia.org/wiki/SciPy) et le [site du projet](https://scipy.org/). **Elle est utile dans <u>tous</u> les domaines scientifiques**.\n",
    "</div>\n",
    "<br>\n",
    "<div class=\"intro\">\n",
    "\n",
    "<div style=\"color:#4a7d93\">\n",
    "    \n",
    "<u>**Compétences Python travaillées dans cette section**:</u>\n",
    "\n",
    "- importer des bibliothèques existantes et exploiter les fonctions incluses\n",
    "- faire appel au *i*ème élément (`[i]`) d'une liste, d'un multiplet, ou d'un tableau\n",
    "- afficher le contenu d'une variable à l'aide de la commande `print`\n",
    "- lire une documentation en ligne en anglais\n",
    "</div></div>"
   ]
  },
  {
   "cell_type": "code",
   "execution_count": null,
   "id": "a1c5ea48-e718-4e1a-8cd7-e05d33c4ea4d",
   "metadata": {},
   "outputs": [],
   "source": [
    "import scipy.constants as sc"
   ]
  },
  {
   "cell_type": "markdown",
   "id": "c8519661-7251-49d2-8c36-04c045bab5a8",
   "metadata": {},
   "source": [
    "### Valeur, unité et précision d'une constante fondamentale\n",
    "\n",
    "<div class=\"intro\">\n",
    "    \n",
    "Prenons l'exemple de la masse de l'électron, dont on lit dans la  [documentation en ligne de](https://docs.scipy.org/doc/scipy/reference/constants.html) `SciPy`, que la clef qui indexe $m_e$ est `electron mass`. On va afficher sa valeur, son unité, et l'incertitude *absolue* de cette constante, renvoyées sous forme de multiplet (*tuple* en anglais) de 3 valeurs.\n",
    "</div>"
   ]
  },
  {
   "cell_type": "code",
   "execution_count": null,
   "id": "0d6475d4-2df2-48e4-bbeb-3401e81ba4c8",
   "metadata": {},
   "outputs": [],
   "source": [
    "print(sc.physical_constants[\"electron mass\"])"
   ]
  },
  {
   "cell_type": "markdown",
   "id": "7cc07c0a-26f6-4431-84b9-8e8912947e1d",
   "metadata": {},
   "source": [
    "<div class=\"intro\">\n",
    "\n",
    "Dans un premier temps, on va se contenter de stocker la constante dans une variable.\n",
    "</div>"
   ]
  },
  {
   "cell_type": "code",
   "execution_count": null,
   "id": "784ac36d-0099-4591-b775-59eea2d67450",
   "metadata": {},
   "outputs": [],
   "source": [
    "me = sc.physical_constants[\"electron mass\"][0]\n",
    "print(me)"
   ]
  },
  {
   "cell_type": "markdown",
   "id": "b8818a49-467c-40d0-a67f-9a36a78d9a52",
   "metadata": {},
   "source": [
    "<div class=\"intro\">\n",
    "\n",
    "**Un mot sur l'incertitude du module `physical_constants` de `SciPy`.** C'est une incertitude absolue qui est contenue dans le 3ème terme du multiplet. Pour rappel, on écrit la valeur d'une mesure avec son incertitude absolue selon la relation :\n",
    "    \n",
    "$$m_{\\mathrm{e}}\\pm\\Delta m_{\\mathrm{e}}$$\n",
    "\n",
    "ce qui veut dire que $m_{\\mathrm{e}}$ est en réalité compris entre deux valeurs $m_{\\mathrm{e}} - \\Delta m_{\\mathrm{e}}$ et $m_{\\mathrm{e}} + \\Delta m_{\\mathrm{e}}$ :\n",
    "</div>\n",
    "\n",
    "<div class=\"intro\">\n",
    "</div>"
   ]
  },
  {
   "cell_type": "code",
   "execution_count": null,
   "id": "a75e0634-d526-4293-b8d2-e9ea0ac05aeb",
   "metadata": {},
   "outputs": [],
   "source": [
    "me_p = sc.physical_constants[\"electron mass\"][2]\n",
    "me_u = sc.physical_constants[\"electron mass\"][1]\n",
    "print(\"Masse de l'électron = \",me,\"±\",me_p,me_u)"
   ]
  },
  {
   "cell_type": "markdown",
   "id": "2357adc5-0e6b-4a32-989d-0a275e11b5f1",
   "metadata": {},
   "source": [
    "### Affichage des constantes puis importation de leurs valeurs dans des variables"
   ]
  },
  {
   "cell_type": "code",
   "execution_count": null,
   "id": "0b38fbee-2afc-4b38-8661-42e5b4e3b276",
   "metadata": {},
   "outputs": [],
   "source": [
    "print(f'Constante de Planck, h: {sc.physical_constants[\"Planck constant\"]}')\n",
    "print()\n",
    "print(f'Charge élémentaire, e: {sc.physical_constants[\"elementary charge\"]}')\n",
    "print()\n",
    "print(f'Vitesse de la lumière dans la vide, c: {sc.physical_constants[\"speed of light in vacuum\"]}')\n",
    "print()\n",
    "print(f'Masse de l\\'électron, me: {sc.physical_constants[\"electron mass\"]}')\n",
    "print()\n",
    "print(f'Masse du proton, mp: {sc.physical_constants[\"proton mass\"]}')\n",
    "print()\n",
    "print(f'Masse du neutron, mn: {sc.physical_constants[\"neutron mass\"]}')\n"
   ]
  },
  {
   "cell_type": "code",
   "execution_count": null,
   "id": "cf3f5423-7fad-4e1a-8ae1-03853e57cb24",
   "metadata": {},
   "outputs": [],
   "source": [
    "h = sc.physical_constants[\"Planck constant\"][0]\n",
    "e = sc.physical_constants[\"elementary charge\"][0]\n",
    "c = sc.physical_constants[\"speed of light in vacuum\"][0]\n",
    "me = sc.physical_constants[\"electron mass\"][0]\n",
    "mp = sc.physical_constants[\"proton mass\"][0]\n",
    "mn = sc.physical_constants[\"neutron mass\"][0]"
   ]
  },
  {
   "cell_type": "markdown",
   "id": "838d0c4d-222a-4b93-a5bf-ba4620707de2",
   "metadata": {},
   "source": [
    "<div class=\"ex\" title=\"Nombre d'Avogadro\">\n",
    "\n",
    "**1.** Afficher la valeur du nombre d'Avogadro, son incertitude et son unité, qui sont disponibles dans la bibliothèque `SciPy`\n",
    "\n",
    "**2.** Sauver la valeur du nombre d'Avogadro dans une variable `NA`, <u>sans utiliser un copier-coller de la valeur</u>\n",
    "\n",
    "**3.** Afficher le contenu de la variable `NA` en écrivant : Nombre d'Avogadro = *valeur unité*\n",
    "\n",
    "<div style=\"color:#4a7d93\">\n",
    "    \n",
    "<u>**Compétences Python travaillées**:</u>\n",
    "    \n",
    "- lire une documentation en ligne en anglais (la [liste des constantes physiques de `SciPy`](https://docs.scipy.org/doc/scipy/reference/constants.html#scipy.constants.physical_constants))\n",
    "- importer des bibliothèques existantes et exploiter les fonctions incluses\n",
    "- sauver une valeur numérique dans une variable\n",
    "- afficher le contenu d'une variable, en contextualisant\n",
    "</div>\n",
    "</div>"
   ]
  },
  {
   "cell_type": "code",
   "execution_count": null,
   "id": "806af8ef-4205-4337-bd56-7d49138f6f2d",
   "metadata": {},
   "outputs": [],
   "source": [
    "# entrez votre code dans cette cellule \"Python\"\n",
    "\n",
    "#Q1\n",
    "\n",
    "#Q2\n",
    "\n",
    "#Q3\n"
   ]
  },
  {
   "cell_type": "markdown",
   "id": "9cb74977-770a-4869-b593-cbf3d711f37c",
   "metadata": {},
   "source": [
    "<div class=\"solFr\">\n",
    "\n",
    "Vous voulez une solution possible à cet exercice ? Décommentez la commande `# %load ./SolutionsToExercises/...` ci-dessous (*il faut exécuter deux fois le contenu de la cellule : la première fois pour charger le contenu du fichier python et la deuxième pour exécuter le code python qui a été charge*) \n",
    "\n",
    "</div>"
   ]
  },
  {
   "cell_type": "code",
   "execution_count": null,
   "id": "c0b4dd34-5dc2-4df7-83dc-4bd3c7dc37fc",
   "metadata": {
    "tags": []
   },
   "outputs": [],
   "source": [
    "# %load ./SolutionsToExercises/CTM/Avogadro.py"
   ]
  },
  {
   "cell_type": "markdown",
   "id": "9dd9a70c-4b30-43b4-a449-9065444ad537",
   "metadata": {},
   "source": [
    "## Quelques rappels mathématiques importants"
   ]
  },
  {
   "cell_type": "markdown",
   "id": "b177747b-fa31-41a8-9397-5336b5a37d92",
   "metadata": {},
   "source": [
    "### Chiffres significatifs\n",
    "\n",
    "<div class=\"intro\">\n",
    "\n",
    "Reprenons l'introduction de l'[article de wikipedia](https://fr.wikipedia.org/wiki/Chiffre_significatif) à ce sujet : *le nombre de chiffres significatifs indique la précision d'une mesure physique. Il s'agit des chiffres connus avec certitude ou compris dans un intervalle d'incertitude. La précision (ou l'incertitude) avec laquelle on connaît la valeur d'une grandeur dépend de la mesure, c'est-à-dire de l'ensemble d'opérations ayant pour but de déterminer la valeur d'une grandeur.*\n",
    "\n",
    "*<u>Exemple</u> : 12 345 a cinq chiffres significatifs. Son premier chiffre incertain est le 5. Cet exemple est équivalent à 12 345 ± 1 ou encore 12 345(1)*\n",
    "\n",
    "<u>Exemple</u>  : *m* = 100,0016 g avec une incertitude de 0,0011 g = 100,0016(11) g = 100,0016 ± 0,0011 g\n",
    "</div>\n",
    "\n",
    "<div class=\"intro\">\n",
    "    \n",
    "Il existe une bibliothèque Python, `sigfig` qui peut assister le scientifique dans **l'affichage** des variables avec un nombre de chiffres significatifs défini par l'utilisateur. La fonction qui nous intéresse s'appelle `round`, dont des exemples sont donnés ci-dessous.\n",
    "</div>\n",
    "<br>\n",
    "<div class=\"rq\">\n",
    "    \n",
    "`sigfig` n'étant pas fourni avec une distribution Python standard, il faut d'abord l'installer, par exemple avec la commande `pip`, qu'on peut lancer directement depuis le notebook.\n",
    "\n",
    "<span style=\"color:red\"><u>**Attention !**</u> La commande pip prend du temps, d'une part le temps de téléchargement, d'autre part la durée nécessaire pour l'installation et la vérification de la compatibilité. **Il est donc normal que ça reste apparemment bloqué pendant de très longues secondes**</span>\n",
    "</div>"
   ]
  },
  {
   "cell_type": "code",
   "execution_count": null,
   "id": "92bca4db-7dca-4759-a922-2ca8d9be6b89",
   "metadata": {},
   "outputs": [],
   "source": [
    "# enlever le commentaire de la ligne ci-dessous si votre distribution Python n'intègre pas sigfig\n",
    "# à faire une fois seulement, l'installation est définitive \n",
    "#!pip install sigfig "
   ]
  },
  {
   "cell_type": "code",
   "execution_count": null,
   "id": "9792b896-4188-40ab-84a5-ba4d4f3b2d6d",
   "metadata": {},
   "outputs": [],
   "source": [
    "me = sc.physical_constants[\"electron mass\"][0] #valeur\n",
    "me_p = sc.physical_constants[\"electron mass\"][2] #précision\n",
    "me_u = sc.physical_constants[\"electron mass\"][1] #unité\n",
    "print(\"Masse de l'électron = \",me,\"±\",me_p,me_u)\n",
    "\n",
    "from sigfig import round\n",
    "print(round(me,me_p))\n",
    "print(round(me,me_p,format='Drake'))\n",
    "print()\n",
    "print(round(me,me_p,notation='scientific'))"
   ]
  },
  {
   "cell_type": "markdown",
   "id": "0faf1aa2-71e9-4c52-9545-ffea0b46059c",
   "metadata": {},
   "source": [
    "<div class=\"rq\">\n",
    "\n",
    "    \n",
    "- `sigfig` ne permet malheureusement pas de combiner le format Drake et la notation scientfique\n",
    "- pour définir le nombre de décimales, on peut utliiser fonction `round` de `NumPy` ou bien celle de `sigfig` avec l'option `decimals` :\n",
    "\n",
    "```Python\n",
    "import numpy as np\n",
    "np.round(12.542352,2) #arrondit à deux décimales = 12.54\n",
    "```\n",
    "<br>\n",
    "\n",
    "```Python\n",
    "from sigfig import round\n",
    "round(12.542352,decimals = 2) #arrondit à deux décimales = 12.54\n",
    "```\n",
    "\n",
    "</div>"
   ]
  },
  {
   "cell_type": "markdown",
   "id": "cd9a1c74-54a0-4122-95dd-98ea3ff9c0b1",
   "metadata": {},
   "source": [
    "<div class=\"ex\" title=\"Chiffres significatifs\">\n",
    "\n",
    "**1.** Écrire les nombres A ci-dessous  avec le même nombre de chiffres significatifs que le nombre B qui lui est associé\n",
    "\n",
    "- A = 12,876782320 ; B = 3,1416\n",
    "- A = 125678,000034 ; B = 0,000056\n",
    "\n",
    "**2.** Exprimer chaque nombre ci-dessous en tenant compte du nombre de chiffres significatifs (cs) demandé\n",
    "\n",
    "- 0,006738 ; 3 cs\n",
    "- 43,715 &times;  10<sup>3</sup> ; 4 cs (utiliser la notation scientifique)\n",
    "\n",
    "**3.** Effectuez les opérations suivantes en tenant compte des chiffres significatifs. Ne pas oublier d'afficher l'unité !\n",
    "\n",
    "- 1,20 x 10<sup>2</sup> V x 2,5 A\n",
    "- 0,288 g / 0,4 cm<sup>3</sup>\n",
    "- 10,8 g + 0,125 g + 4,25 g\n",
    "- 1,5 x 10<sup>3</sup> mL - 3 x 10<sup>2</sup> mL\n",
    "\n",
    "<div style=\"color:#4a7d93\">\n",
    "    \n",
    "<u>**Compétences Python travaillées**:</u>\n",
    "    \n",
    "- installer une bibliothèque Python afin d'ajouter des fonctionnalités à sa distribution de base\n",
    "- importer des bibliothèques existantes et exploiter les fonctions incluses\n",
    "</div>\n",
    "</div>\n",
    "<br>\n",
    "<div class=\"hint\">\n",
    "\n",
    "Rappels concernant les chiffres significatifs : \n",
    "- multiplications et divisions : c’est toujours \"le plus petit qui l’emporte\"\n",
    "- additions et soustractions :  le résultat ne doit pas avoir plus de décimales que le nombre qui en comporte le moins (1,07 + 16,0 = 17,07 → 17,1)\n",
    "</div>"
   ]
  },
  {
   "cell_type": "code",
   "execution_count": null,
   "id": "4800f7ba-e3b7-4b7e-811e-26ea7d62a7b5",
   "metadata": {},
   "outputs": [],
   "source": [
    "# entrez votre code dans cette cellule \"Python\"\n",
    "\n",
    "#Q1\n",
    "\n",
    "#Q2\n",
    "\n",
    "#Q3\n"
   ]
  },
  {
   "cell_type": "markdown",
   "id": "4ef56e69-62e0-4802-9b44-8decc74c3521",
   "metadata": {},
   "source": [
    "<div class=\"solFr\">\n",
    "\n",
    "Vous voulez une solution possible à cet exercice ? Décommentez la commande `# %load ./SolutionsToExercises/...` ci-dessous (*il faut exécuter deux fois le contenu de la cellule : la première fois pour charger le contenu du fichier python et la deuxième pour exécuter le code python qui a été charge*) \n",
    "\n",
    "</div>"
   ]
  },
  {
   "cell_type": "code",
   "execution_count": null,
   "id": "3d13f4a1-789d-444f-8324-b5c0a4a04164",
   "metadata": {
    "tags": []
   },
   "outputs": [],
   "source": [
    "# %load ./SolutionsToExercises/CTM/cs.py"
   ]
  },
  {
   "cell_type": "markdown",
   "id": "7a1c5c50-ff7e-4f45-a98b-3831ab7ff3a7",
   "metadata": {},
   "source": [
    "### développement en cours (à suivre...)"
   ]
  },
  {
   "cell_type": "markdown",
   "id": "37740165-1c87-4cec-b116-6d618b09d8f2",
   "metadata": {},
   "source": [
    "## Chapitre 1 : Pré-requis et généralités\n",
    "\n",
    "### Isotopes et abondance natutelle\n",
    "\n",
    "#### Résolutions numériques"
   ]
  },
  {
   "cell_type": "markdown",
   "id": "0b8643fc-7d6f-4097-bff3-5923451a86af",
   "metadata": {},
   "source": [
    "<div class=\"ex\" title=\"Masse molaire du lithium naturel\">\n",
    "\n",
    "Selon les tables de données atomiques, il existe 5 isotopes du lithium :\n",
    "\n",
    "| isotope | *M* / g.mol<sup>-1</sup> | *t*<sub>1/2</sub> / s |\n",
    "|:-------------:|:-------------|:-------------:|\n",
    "|<sup>6</sup>Li|\t6,015 122 3(5)|stable|\n",
    "|<sup>7</sup>Li|\t7,016 004 0(5)|stable|\n",
    "|<sup>8</sup>Li|\t8,022486|0,84|\n",
    "|<sup>9</sup>Li|\t9,026789|0,178|\n",
    "|<sup>11</sup>Li|11,04379|0,0087|\n",
    "\n",
    "Or, le spectre de masse du lithium naturel, ci-dessous, ne présente que deux pics :\n",
    "\n",
    "<img src=\"MiscImages/Exercises/spectreMasse-Li.png\" style=\"margin-left:auto; margin-right:auto; display: block; width:200px\" id=\"img_massSpLi\" alt=\"spectre de masse de Li\"/>\n",
    "\n",
    "**1.** Quelle est la masse molaire du lithium à l'état naturel ?\n",
    "\n",
    "**2.** Afficher le résultat avec le nombre de chiffres significatifs approprié, ainsi qu'avec l'unité\n",
    "\n",
    "<div style=\"color:#4a7d93\">\n",
    "    \n",
    "<u>**Compétences Python travaillées**:</u>\n",
    "    \n",
    "- calculer avec Python\n",
    "- importer des bibliothèques existantes et exploiter les fonctions incluses\n",
    "</div></div>"
   ]
  },
  {
   "cell_type": "code",
   "execution_count": null,
   "id": "5d1a8ac9-95ab-4533-b81b-69a6fa52f4a5",
   "metadata": {},
   "outputs": [],
   "source": [
    "# entrez votre code dans cette cellule \"Python\"\n",
    "\n",
    "#Q1\n",
    "\n",
    "#Q2"
   ]
  },
  {
   "cell_type": "markdown",
   "id": "8b64b5b0-2810-4e00-9329-4a8439d6f477",
   "metadata": {},
   "source": [
    "<div class=\"solFr\">\n",
    "\n",
    "Vous voulez une solution possible à cet exercice ? Décommentez la commande `# %load ./SolutionsToExercises/...` ci-dessous (*il faut exécuter deux fois le contenu de la cellule : la première fois pour charger le contenu du fichier python et la deuxième pour exécuter le code python qui a été charge*) \n",
    "\n",
    "</div>"
   ]
  },
  {
   "cell_type": "code",
   "execution_count": null,
   "id": "5132c2f4-c259-45bc-ad16-416dca18bac4",
   "metadata": {
    "tags": []
   },
   "outputs": [],
   "source": [
    "# %load ./SolutionsToExercises/CTM/MMLi.py"
   ]
  },
  {
   "cell_type": "markdown",
   "id": "3aacd01c-c5d9-4cbe-894e-23e5fb150296",
   "metadata": {},
   "source": [
    "<div class=\"ex\" title=\"Abondance naturelle des isotopes de l'élément bore\">\n",
    "Le bore naturel (Z=5) est constitué de 2 isotopes : <sup>10</sup>B et <sup>11</sup>B  dont les masses molaires sont respectivement égales à M<sub>1</sub> = 10,0129 g.mol<sup>-1</sup> et M<sub>2</sub> = 11,0093 g.mol<sup>-1</sup>.\n",
    "    \n",
    "**1.** Sachant que la masse molaire du bore naturel est M = 10,8110 g.mol<sup>-1</sup>, quelles sont les proportions relatives de ces deux isotopes dans le bore naturel, que l'on notera p<sub>1</sub> et p<sub>2</sub> ?\n",
    "\n",
    "**2.** Ecrire p<sub>1</sub> et p<sub>2</sub> avec le nombre de chiffres significatifs approprié. On utilisera pour cela la fonction `round` de la [bibliothèque `sigfig`](https://pypi.org/project/sigfig/)\n",
    "\n",
    "<div style=\"color:#4a7d93\">\n",
    "    \n",
    "<u>**Compétences Python travaillées**:</u>\n",
    "    \n",
    "- calculer avec Python\n",
    "- importer des bibliothèques existantes et exploiter les fonctions incluses\n",
    "- appliquer des méthodes numériques pour résoudre un système d'équations\n",
    "</div>\n",
    "</div>\n",
    "<br>\n",
    "\n",
    "<div class=\"hint\">\n",
    "\n",
    "- on recherche deux inconnues, p1 et p2. Il faut formuler un système de deux équations à deux inconnues. Dans ce cas, le système s'exprime comme :\n",
    "$$p_1M_1 + p_2M_2 = M$$\n",
    "$$p_1 + p_2 = 1$$\n",
    "\n",
    "- puis il faut résoudre le système. On va utiliser la fonction `solve` fournie par le module `linalg` de `numpy`. Il faut d'abord transformer le système ci-dessus en tableaux\n",
    "    - le premier va contenir les valeurs associées aux inconnues *p*<sub>1</sub> et *p*<sub>2</sub> dans la partie gauche de ces deux équations\n",
    "$$A=\\left[\\begin{array}{cc}\n",
    "M_{1} & M_{2}\\\\\n",
    "1 & 1\n",
    "\\end{array}\\right]$$\n",
    "    - le second va contenir les valeurs de la partie droite des équations\n",
    "$$y=\\left[\\begin{array}{c}\n",
    "M\\\\\n",
    "1\n",
    "\\end{array}\\right]$$\n",
    "\n",
    "Ces deux tableaux doivent être exprimés sous forme de tableaux `numpy` :\n",
    "\n",
    "```python\n",
    "A = np.array([\n",
    "             [M1,M2],\n",
    "             [1,1]\n",
    "             ])\n",
    "y = np.array([M,1])\n",
    "```\n",
    "\n",
    "Puis on peut faire appel à `solve` :\n",
    "```\n",
    "np.linalg.solve(A, y)\n",
    "```\n",
    "\n",
    "- on sauvera la solution dans 2 variables `p1` et `p2`, ce qui facilitera la gestion par `sigfig`, qui ne sait travailler ni sur des tableaux ni sur des listes\n",
    "</div>"
   ]
  },
  {
   "cell_type": "markdown",
   "id": "fdae1db6-abb8-424a-886d-dbfae08f0863",
   "metadata": {},
   "source": [
    "<div class=\"rq\">\n",
    "\n",
    "C'est à vous de gérer la précision, c'est-à-dire le nombre de chiffres significatifs, compte tenu de la précision des données. La bibliothèque `sigfig` peut ensuite être utilisée pour vous aider à afficher les abondances naturelles avec le nombre de chiffres significatifs approprié, c'est-à-dire 6 dans cette application. \n",
    "</div>"
   ]
  },
  {
   "cell_type": "code",
   "execution_count": null,
   "id": "c546502f-d9eb-4df0-86f0-ee5ef9ba579f",
   "metadata": {},
   "outputs": [],
   "source": [
    "# entrez votre code dans cette cellule \"Python\"\n",
    "\n",
    "#Q1\n",
    "\n",
    "#Q2\n"
   ]
  },
  {
   "cell_type": "markdown",
   "id": "c0f5f996-734a-4b27-8f22-c78a4de2ac65",
   "metadata": {},
   "source": [
    "<div class=\"solFr\">\n",
    "\n",
    "Vous voulez une solution possible à cet exercice ? Décommentez la commande `# %load ./SolutionsToExercises/...` ci-dessous (*il faut exécuter deux fois le contenu de la cellule : la première fois pour charger le contenu du fichier python et la deuxième pour exécuter le code python qui a été charge*) \n",
    "\n",
    "</div>"
   ]
  },
  {
   "cell_type": "code",
   "execution_count": null,
   "id": "d3a0ac49-32fb-4958-8e34-9190efe4bd03",
   "metadata": {
    "tags": []
   },
   "outputs": [],
   "source": [
    "# %load ./SolutionsToExercises/CTM/isotopesB.py"
   ]
  },
  {
   "cell_type": "markdown",
   "id": "a6af448d-4048-4064-b1ba-5b75ae1549e9",
   "metadata": {},
   "source": [
    "#### Résolution analytique\n",
    "\n",
    "<div class=\"intro\">\n",
    "    \n",
    "On va utiliser un programme CAS (Computer Algebra System), c'est-à-dire un logiciel utilisé pour effectuer des calculs algébriques symboliques, comme la manipulation d'expressions mathématiques, la résolution d'équations, et le calcul de dérivées et d'intégrales, de manière exacte plutôt que numérique.\n",
    "\n",
    "On va plus précisément utiliser pour cela la [bibliothèque Python `SymPy`](https://www.sympy.org/). Elle permet de manipuler des expressions mathématiques sous forme symbolique plutôt que numérique. Les outils d'algèbre symbolique sont particulièrement utiles dans le contexte de l'enseignement, de la recherche, ou du développement d'outils mathématiques où il est nécessaire de manipuler des expressions mathématiques de manière exacte, plutôt que d'avoir recours à des approximations numériques.\n",
    "\n",
    "Ce sont des compétences Python qu'il est utile de maîtriser en mathématiques, physique, sciences de l'ingénieur. Rien n'interdit aux chimistes et physico-chimistes d'essayer de comprendre ce qui va être fait.\n",
    "</div>\n",
    "<br>\n",
    "<div class=\"intro\">\n",
    "\n",
    "**Mode d'emploi :**\n",
    "    \n",
    "- si `SymPy` n'est pas encore installé, vous pouvez l'ajouter en exécutant la commande suivante dans une cellule du notebook :  `!pip install sympy`\n",
    "- vous devez importer la bibliothèque. Pourquoi ne pas lui attribuer un raccourci : `import sympy as sym`\n",
    "\n",
    "Supposons que vous devez résoudre le système suivant\n",
    "\n",
    "$$\\begin{align*}\n",
    "2x + 3y &= 6 \\\\\n",
    "x - y &= 2\n",
    "\\end{align*}$$\n",
    "\n",
    "- il vous faut d'abord déclarer les variables symboliques, qui sont ici *x* et *y*\n",
    "\n",
    "    ```python\n",
    "    from sympy import symbols\n",
    "    x, y = symbols('x y')\n",
    "    ```\n",
    "\n",
    "- vous pouvez ensuite définir vos équations, avec la fonction `Eq()` de `SymPy`. Par exemple, `Eq(2*x + 3*y, 6)` représente l'équation $2x+3y=6$ \n",
    "\n",
    "    ```python\n",
    "    from sympy import Eq\n",
    "    eq1 = Eq(2*x + 3*y, 6)\n",
    "    eq2 = Eq(x - y, 2)\n",
    "    ```\n",
    "\n",
    "- utilisez la fonction `solve` de SymPy pour résoudre le système d'équations. Sa syntaxe générale est `solve(equations, variables)`. `equations` peut être une seule équation ou un tuple de plusieurs équations. Idem pour `variables`. Dans ce cas, ça donne\n",
    "\n",
    "    ```python\n",
    "    from sympy import solve\n",
    "    solution = solve((eq1, eq2), (x, y))\n",
    "    ```\n",
    "\n",
    "- `solve` retourne un dictionnaire avec les solutions des variables\n",
    "\n",
    "Voici ce que ça donne :\n",
    "</div>"
   ]
  },
  {
   "cell_type": "code",
   "execution_count": null,
   "id": "5d9ec144-0191-4e1e-9a60-2fbab65721d4",
   "metadata": {},
   "outputs": [],
   "source": [
    "# enlever le commentaire ci-dessous si la bibliothèque sympy n'est pas installée sur votre distribution, ce qui est probable\n",
    "# à faire une fois seulement, l'installation est définitive \n",
    "# !pip install sympy"
   ]
  },
  {
   "cell_type": "code",
   "execution_count": null,
   "id": "f36678d8-e37f-4bf0-99b0-2b6edd1ffe52",
   "metadata": {},
   "outputs": [],
   "source": [
    "from sympy import symbols\n",
    "x, y = symbols('x y')\n",
    "\n",
    "from sympy import Eq\n",
    "eq1 = Eq(2*x + 3*y, 6)\n",
    "eq2 = Eq(x - y, 2)\n",
    "\n",
    "from sympy import solve\n",
    "solution = solve((eq1, eq2), (x, y))\n",
    "\n",
    "print(solution)"
   ]
  },
  {
   "cell_type": "markdown",
   "id": "7d0ceac2-f173-4816-b1f9-4174755856c6",
   "metadata": {},
   "source": [
    "<div class=\"ex\" title=\"Abondance isotopique\">\n",
    "\n",
    "Utiliser la fonction `solve` de `SymPy` pour résoudre l'exercice \"*Abondance naturelle des isotopes de l'élément bore*\".\n",
    "\n",
    "<div style=\"color:#4a7d93\">\n",
    "    \n",
    "<u>**Compétences Python travaillées**:</u>\n",
    "    \n",
    "- installer une bibliothèque Python afin d'ajouter des fonctionnalités à sa distribution de base\n",
    "- importer des bibliothèques existantes et exploiter les fonctions incluses\n",
    "- appliquer des méthodes symboliques pour résoudre un système d'équations\n",
    "</div>\n",
    "</div>\n",
    "<br>\n",
    "<div class=\"hint\">\n",
    "\n",
    "Pour faire l'application numérique, vous devrez utiliser la fonction `subs` de `SymPy`. Elle permet en effet de remplacer une variable symbolique par une valeur numérique. Voici un exemple d'application :\n",
    "\n",
    "```python\n",
    "x = symbols('x')\n",
    "y = symbols('y')\n",
    "expr = x**2 + y**2\n",
    "expr_ = expr.subs({x: 1, y: 2})\n",
    "print(expr_)\n",
    "```\n",
    "\n",
    "La commande print va afficher 5.\n",
    "</div>"
   ]
  },
  {
   "cell_type": "code",
   "execution_count": null,
   "id": "09874269-b733-4dbe-86a8-40d9918cdb79",
   "metadata": {},
   "outputs": [],
   "source": [
    "# entrez votre code dans cette cellule \"Python\"\n",
    "\n"
   ]
  },
  {
   "cell_type": "markdown",
   "id": "83836035-3642-4dee-bd16-c6449bdea641",
   "metadata": {},
   "source": [
    "<div class=\"solFr\">\n",
    "\n",
    "Vous voulez une solution possible à cet exercice ? Décommentez la commande `# %load ./SolutionsToExercises/...` ci-dessous (*il faut exécuter deux fois le contenu de la cellule : la première fois pour charger le contenu du fichier python et la deuxième pour exécuter le code python qui a été charge*) \n",
    "\n",
    "</div>"
   ]
  },
  {
   "cell_type": "code",
   "execution_count": null,
   "id": "ad7740b1-8b5a-4977-af9f-6f4431754c20",
   "metadata": {
    "tags": []
   },
   "outputs": [],
   "source": [
    "# %load ./SolutionsToExercises/CTM/isotopesB_sympy.py"
   ]
  },
  {
   "cell_type": "markdown",
   "id": "e1914eca-e83f-4107-b452-2147aebcb312",
   "metadata": {},
   "source": [
    "## Chapitre 3 : Atomes et orbitales atomiques (OA)"
   ]
  },
  {
   "cell_type": "markdown",
   "id": "b4d5394e-9a31-47ef-aeee-4e674fccb20c",
   "metadata": {},
   "source": [
    "### Atome d'hydrogène\n",
    "\n",
    "<div class=\"ex\" title=\"Atome d'hydrogène : niveaux d'énergie\">\n",
    "\n",
    "On rappelle que *Z*=1 et *A*=1 pour H et que l'énergie électronique est donnée par la formule :\n",
    "\n",
    "$$E_{n}(\\mathrm{H})=-\\frac{E_{i_{1}}(\\mathrm{H})}{n^{2}}$$\n",
    "\n",
    "où *n* est le nombre quantique principal et où $E_{i_{1}}(\\mathrm{H})$, l'énergie d'ionisation de H, vaut 13,598 eV.\n",
    "\n",
    "$E_{i_{1}}(\\mathrm{H})$ peut être calculée en appliquant la formule ci-dessous\n",
    "\n",
    "$$E_{i_{1}}=\\frac{1}{8}\\frac{\\mu_{\\mathrm{H}}e^{4}}{\\left(h\\times\\varepsilon_{0}\\right)^{2}}$$\n",
    "\n",
    "où : \n",
    "- *h* est la constante de Planck\n",
    "- $\\varepsilon_{0}$ (\"epsilon zéro\") est la permittivité du vide ou encore la constante (di)électrique\n",
    "- *e* est la charge élémentaire\n",
    "- $\\mu_{\\mathrm{H}}$ est la masse réduite de <u>un</u> atome d'hydrogène, calculée par la formule :\n",
    "\n",
    "$$\\mu_{\\mathrm{H}}=\\frac{m_{e}m_{p}}{m_{e}+m_{p}}$$\n",
    "\n",
    "**1.** Afficher les constantes fondamentales *h*, $\\varepsilon_{0}$, $m_{e}$, $m_{p}$ et *e* de la bibliothèque `scipy`, leur précision et leur incertitude absolue. Puis sauver leurs valeurs dans des variables `h`, `eps0`, `me`, `mp`, `e`.\n",
    "\n",
    "**2.** Utiliser ces variables pour retrouver la valeur de l'énergie d'ionisation de H en eV.\n",
    "\n",
    "**3.** Calculer, en eV, les énergies des 10 premiers états de l'atome d'hydrogène. Utiliser la fonction `round(x,m)` de `numpy` pour arrondir les énergies à 3 décimales (`m`=3)\n",
    "\n",
    "<div style=\"color:#4a7d93\">\n",
    "    \n",
    "<u>**Compétences Python travaillées**:</u>\n",
    "    \n",
    "- calculer avec Python\n",
    "- importer des bibliothèques existantes et exploiter les fonctions ou données incluses\n",
    "- maîtriser une boucle afin d'automatiser un traitement de données\n",
    "\n",
    "</div>\n",
    "</div>\n",
    "<br>\n",
    "<div class=\"hint\">\n",
    "\n",
    "- la constante électrique du vide $\\varepsilon_{0}$ est indexée dans `scipy` sous le nom de `vacuum electric permittivity`\n",
    "- calculer d'abord $\\mu_{\\mathrm{H}}$ et sauver la valeur dans une variable `muH`\n",
    "- utiliser la grandeur physique appropriée de `scipy` pour faire la conversion de joule en eV\n",
    "- utiliser une boucle pour répondre à la question 2\n",
    "</div>"
   ]
  },
  {
   "cell_type": "code",
   "execution_count": null,
   "id": "dd257c0e-a5b7-4785-b09e-c7d758a84a88",
   "metadata": {},
   "outputs": [],
   "source": [
    "# entrez votre code dans cette cellule \"Python\"\n",
    "\n",
    "#Q1\n",
    "\n",
    "#Q2\n",
    "\n",
    "#Q3\n"
   ]
  },
  {
   "cell_type": "markdown",
   "id": "06e1cb56-b641-4fd9-9dd3-8ca006a35985",
   "metadata": {},
   "source": [
    "<div class=\"solFr\">\n",
    "\n",
    "Vous voulez une solution possible à cet exercice ? Décommentez la commande `# %load ./SolutionsToExercises/...` ci-dessous (*il faut exécuter deux fois le contenu de la cellule : la première fois pour charger le contenu du fichier python et la deuxième pour exécuter le code python qui a été charge*) \n",
    "\n",
    "</div>"
   ]
  },
  {
   "cell_type": "code",
   "execution_count": null,
   "id": "b707a892-5af0-45ec-9fb9-b046f97fc9ca",
   "metadata": {
    "tags": []
   },
   "outputs": [],
   "source": [
    "# %load ./SolutionsToExercises/CTM/H_En.py"
   ]
  },
  {
   "cell_type": "markdown",
   "id": "bf0d0518-7299-4cd0-9a53-1c23f0941839",
   "metadata": {},
   "source": [
    "<div class=\"ex\" title=\"Atome d'hydrogène : transitions électroniques\">\n",
    "\n",
    "La relation de Planck-Einstein est une relation de base de la mécanique quantique. Elle permet de calculer l'énergie transportée par un photon : $E=h\\nu$, où :\n",
    "\n",
    "- E est l'énergie du photon (en joules)\n",
    "- h est la constante de Planck (en J⋅s)\n",
    "- $\\nu$ (\"nu\") est la fréquence (en hertz) de l'onde électromagnétique associée au photon considéré\n",
    "\n",
    "Dans le cas d'une onde électromagnétique se propageant dans le vide, fréquence $\\nu$ (\"nu\") et longueur d'onde $\\lambda$ (\"lambda\", en mètres) sont liées par la relation $\\nu = c/\\lambda$ \n",
    "\n",
    "La relation de Planck-Einstein s'écrit alors\n",
    "\n",
    "$$E=\\frac{hc}{\\lambda}$$\n",
    "\n",
    "c'est-à-dire que connaissant l'énergie d'un photon on peut calculer sa longueur d'onde par\n",
    "\n",
    "$$\\lambda=\\frac{hc}{E}$$\n",
    "\n",
    "On trouve dans certains formulaires de calcul qu'on peut directement calculer la longueur d'onde en nm, à partir d'une énergie exprimée en eV :\n",
    "\n",
    "$$\\lambda[\\mathrm{nm}]=\\frac{1239,84}{E[\\mathrm{eV}]}$$\n",
    "\n",
    "**1.** Retrouver la valeur au numérateur, et la sauver dans une variable `eV2nm` (\"eV to nanometers\")\n",
    "\n",
    "**2.** La transition la plus intense du spectre d'émission de l'atome d'hydrogène correspond à la transition 3 &rarr; 2. Calculer, en eV, la différence d'énergie entre les deux états. En déduire la longueur d'onde en nm. Les afficher avec 3 & 1 décimale, respectivement.\n",
    "\n",
    "**3.** La série de Balmer est la série de raies spectrales de l'atome d'hydrogène correspondant à une transition électronique d'un état quantique de nombre principal *n* &ge; 3 vers l'état *n* = 2. Calculer, en nm, les longueurs d'onde des 6 premières transitions de la série de Balmer, et les afficher avec 1 décimale.\n",
    "\n",
    "**4.** Faire le même travail pour les séries de Lyman (transitions *n* &ge; 2 vers l'état *n* = 1) et de Brackett (transitions de *n* &ge; 4 vers l'état *n* = 1). Ces raies sont-elles identifiables par un oeil humain ?\n",
    "\n",
    "<div style=\"color:#4a7d93\">\n",
    "    \n",
    "<u>**Compétences Python travaillées**:</u>\n",
    "    \n",
    "- calculer avec Python\n",
    "- importer des bibliothèques existantes et exploiter les fonctions ou données incluses\n",
    "- maîtriser une boucle afin d'automatiser un traitement de données\n",
    "\n",
    "</div>\n",
    "</div>\n",
    "<br>\n",
    "<div class=\"hint\">\n",
    "\n",
    "- question 1\n",
    "    - utiliser à nouveau les constantes fondamentales appropriées de l'exercice précédent, et les compléter si nécessaire\n",
    "    - 1 nm = 10<sup>-9</sup> m = `1e-9` m\n",
    "    - &lambda;[m] = &lambda;[nm] &times; `1e9`\n",
    "    - *E*[J]/*e* = *E*[eV]\n",
    "- question 2\n",
    "    - utiliser la valeur de $E_{i_{1}}(\\mathrm{H})$ calculée précédemment\n",
    "    - la relation $\\lambda[\\mathrm{nm}]={1239,84}/{E[\\mathrm{eV}]}$ peut s'appliquer à des différences d'énergie\n",
    "- question 3\n",
    "    - définir une fonction `E(n)`, qui renvoie, en eV, l'énergie d'un état quantique de nombre principal *n*\n",
    "    - utiliser une boucle\n",
    "    - utiliser la fonction `round` de `numpy`\n",
    "\n",
    "\n",
    "</div>\n",
    "<br>\n",
    "<div class=\"rq\">\n",
    "\n",
    "!! `lambda` est une fonction de `Python`. Ne pas l'utiliser comme variable !!\n",
    "</div>"
   ]
  },
  {
   "cell_type": "code",
   "execution_count": null,
   "id": "14d36402-1d55-429b-8ca4-cb8de2236652",
   "metadata": {},
   "outputs": [],
   "source": [
    "# entrez votre code dans cette cellule \"Python\"\n",
    "\n",
    "#Q1\n",
    "\n",
    "#Q2\n",
    "\n",
    "#Q3\n",
    "\n",
    "#Q4\n"
   ]
  },
  {
   "cell_type": "markdown",
   "id": "938367e1-6a6c-40ca-b8c5-1da9ceabe43d",
   "metadata": {},
   "source": [
    "<div class=\"solFr\">\n",
    "\n",
    "Vous voulez une solution possible à cet exercice ? Décommentez la commande `# %load ./SolutionsToExercises/...` ci-dessous (*il faut exécuter deux fois le contenu de la cellule : la première fois pour charger le contenu du fichier python et la deuxième pour exécuter le code python qui a été charge*) \n",
    "\n",
    "</div>"
   ]
  },
  {
   "cell_type": "code",
   "execution_count": null,
   "id": "0a95dba9-3849-4847-b192-c740d59d82a0",
   "metadata": {
    "tags": []
   },
   "outputs": [],
   "source": [
    "# %load ./SolutionsToExercises/CTM/H_Tn.py"
   ]
  },
  {
   "cell_type": "markdown",
   "id": "9cfe09d3-bcba-411b-b543-da30bad4b6ca",
   "metadata": {},
   "source": [
    "### Configurations électroniques fondamentales\n",
    "\n",
    "<div class=\"intro\">\n",
    "\n",
    "On va utiliser la bibliothèque Python `mendeleev`, qui est un outil conçu pour fournir un accès facile aux données du tableau périodique des éléments et à diverses propriétés atomiques. Elle est nommée en l'honneur de [Dmitri Mendeleïev](https://fr.wikipedia.org/wiki/Dmitri_Mendele%C3%AFev), le chimiste russe qui a créé le premier tableau périodique.\n",
    "\n",
    "Pour récupérer les informations d'un élément, il faut\n",
    "\n",
    "- commencer par importer le module `element` de la bibliothèque `mendeleev`\n",
    "- puis dire quel est l'élément dont on veut connaître les propriétés, en le désignant par son symbole chimique (attention au respect majuscule/minuscule) ou par son numéro atomique, ou par son nom anglais\n",
    "\n",
    "```Python\n",
    "from mendeleev import element\n",
    "\n",
    "chlore = element('Cl')\n",
    "hydrogène = element(1)\n",
    "carbone = element('Carbon')\n",
    "```\n",
    "<br>\n",
    "\n",
    "On peut ensuite accéder aux propriétés... si on connaît leur nom. Les données disponibles et leur origine sont indiquées sur la [page data de la documentation](https://mendeleev.readthedocs.io/en/stable/data.html).\n",
    "\n",
    "Par exemple,\n",
    "\n",
    "```Python\n",
    "chlore.econf\n",
    "```\n",
    "renvoie la configuration électronique du chlore. On peut aussi l'obtenir directement avec la commande \n",
    "\n",
    "```Python\n",
    "element('Cl').econf\n",
    "```\n",
    "\n",
    "</div>\n",
    "<br>\n",
    "<div class=\"rq\">\n",
    "\n",
    "**C'est quoi cette commande `chlore.econf` ? Pourquoi pas `econf(chlore)`?**\n",
    "\n",
    "c'est lié au fait que Python obéit au principe de la programmation orientée objet. `econf` est un **attribut** de l'objet `chlore`.  Les objets ont des attributs, qui sont des variables associées à l'objet et qui contiennent des données. Dans le plupart des bibliothèques Python, il existe également des fonctions qui s'appliquent aux objets. Supposons qu'il existe une fonction, `cloud`, qui renvoie de quoi dessiner le nuage électronique d'un atome. On l'appelerait comme `chlore.cloud()`. *Notez les parenthèses.* Supposons que cette fonction dessine par défaut le nuage électronique total, mais qu'elle puisse prendre en paramètre le numéro de la couche pour dessiner le nuage électronique restreint à ces électrons-là. On écrirait par exemple, pour la 2ème couche, `chlore.cloud(2)`.\n",
    "</div>\n",
    "<br>\n",
    "<div class=\"intro\">\n",
    "\n",
    "**Principales commandes**\n",
    "\n",
    "- `element(X).ec` (*attribut*) : renvoie la CEF complète de l'élément identifié par X, où X = Z ou \"symbole atomique\" ou \"name of the element\" \n",
    "- `element(X).econf` (*attribut*) : renvoie la CEF de l'élément identifié par X, exprimée à partir de celle du gaz noble de la période précédente . Bizarrement, 1 n'est jamais indiqué quand une sous-couche est occupée par un seul électron. \n",
    "- `element(X).ec.unpaired_electrons()` (*fonction*) : calcule et renvoie le nombre d'électrons célibataires de X\n",
    "- `element(X).ec.ionize(n)` (*fonction*) : renvoie la CEF du cation X^(n+)\n",
    "- `element(X).oxistates` (*attribut*) : renvoie les états d'oxydation <u>les plus courants</u> de l'élément X\n",
    "</div>"
   ]
  },
  {
   "cell_type": "code",
   "execution_count": null,
   "id": "1a478912-faf9-45a1-a32b-cd11ba564da9",
   "metadata": {},
   "outputs": [],
   "source": [
    "# enlever le commentaire de la ligne ci-dessous si votre distribution Python n'intègre pas mendeleev, ce qui est le plus probable\n",
    "# à faire une fois seulement, l'installation est définitive \n",
    "# !pip install mendeleev "
   ]
  },
  {
   "cell_type": "code",
   "execution_count": null,
   "id": "b802ff26-27e8-463e-b1a1-0287c8492c96",
   "metadata": {},
   "outputs": [],
   "source": [
    "from mendeleev import element\n",
    "Cu = element(29)\n",
    "print(\"CEF de Cu =\",Cu.ec,\"=\",Cu.econf)\n",
    "print(\"Nombre d'électrons célibataires de Cu =\",Cu.ec.unpaired_electrons())\n",
    "print(\"État(s) d'oxydation le(s) plus courant(s) de Cu =\",Cu.oxistates)\n",
    "print(\"CEF de Cu2+ =\",element(29).ec.ionize(2))\n",
    "print(\"Nombre d'électrons célibataires de Cu2+ =\",Cu.ec.ionize(2).unpaired_electrons())"
   ]
  },
  {
   "cell_type": "markdown",
   "id": "93f42b80-d6cd-4ae2-909e-ed0f985c488e",
   "metadata": {},
   "source": [
    "<div class=\"ex\" title=\"CEF des éléments. Métaux de transition\">\n",
    "\n",
    "**1.** Utiliser les données de la bibliothèque `mendeleev` pour afficher la configuration électronique fondamentale (CEF) des éléments ci-dessous, ainsi que leur nombre d'électrons non célibataire. Afficher également le numéro atomique, contenu dans la variable (ou attribut) `atomic_number`, utilisée à la place de `ec` ou de `econf`.\n",
    "\n",
    "- l'aluminium (Al)\n",
    "- le calcium (Ca)\n",
    "- le scandium (Sc)\n",
    "- le chrome (Cr)\n",
    "\n",
    "**2.** Afficher les états d'oxydation les plus courants de l'or (Au). En déduire que Au est bien un métal de transition. \n",
    "\n",
    "<div style=\"color:#4a7d93\">\n",
    "    \n",
    "<u>**Compétences Python travaillées**:</u>\n",
    "    \n",
    "- importer des bibliothèques existantes et exploiter les fonctions ou données incluses\n",
    "\n",
    "</div>\n",
    "</div>"
   ]
  },
  {
   "cell_type": "code",
   "execution_count": null,
   "id": "5ea8fc1d-3851-4d97-b407-7bf9da667a92",
   "metadata": {},
   "outputs": [],
   "source": [
    "# entrez votre code dans cette cellule \"Python\"\n",
    "\n",
    "#Q1\n",
    "\n",
    "#Q2\n",
    "\n"
   ]
  },
  {
   "cell_type": "markdown",
   "id": "11e1b23d-7a20-4034-bc0c-2228466ffb1f",
   "metadata": {},
   "source": [
    "<div class=\"solFr\">\n",
    "\n",
    "Vous voulez une solution possible à cet exercice ? Décommentez la commande `# %load ./SolutionsToExercises/...` ci-dessous (*il faut exécuter deux fois le contenu de la cellule : la première fois pour charger le contenu du fichier python et la deuxième pour exécuter le code python qui a été charge*) \n",
    "\n",
    "</div>"
   ]
  },
  {
   "cell_type": "code",
   "execution_count": null,
   "id": "189b9241-f582-4df2-bb85-f42e0f6ce3a4",
   "metadata": {
    "tags": []
   },
   "outputs": [],
   "source": [
    "# %load ./SolutionsToExercises/CTM/CEF_MT.py"
   ]
  },
  {
   "cell_type": "markdown",
   "id": "028d30c0-98f6-4b01-8bf0-8ff807b7d52a",
   "metadata": {},
   "source": [
    "<div class=\"rq\">\n",
    "\n",
    "Il est utile de rappeler la définition d'un métal de transition : **Un métal de transition, ou élément de transition, est, selon la définition de l'IUPAC, « un élément chimique dont les atomes ont une sous-couche électronique d incomplète, ou qui peuvent former des cations dont la sous-couche électronique d est incomplète**. [L'article de wikipedia sur le sujet est très bien écrit](https://fr.wikipedia.org/wiki/M%C3%A9tal_de_transition). \n",
    "\n",
    "La sous-couche *d* de Au est complète (5*d*<sup>10</sup>), mais Au est bien un métal de transition, puisque Au<sup>3+</sup>, cation connu (donc stable) de Au, possède une sous-couche *d* incomplète (5*d*<sup>8</sup>).\n",
    "</div>"
   ]
  },
  {
   "cell_type": "markdown",
   "id": "7d79b2d9-a216-41fc-91c3-f4cef2336c5e",
   "metadata": {},
   "source": [
    "## Chapitre 4 : le tableau périodique des éléments\n",
    "\n",
    "<div class=\"intro\">\n",
    "\n",
    "On va principalement utiliser la bibliothèque `mendeleev`, et le tableau de données qui est renvoyé par la fonction `create_vis_dataframe()` du package `mendeleev.vis`. Ce tableau contient numéros atomiques, noms des éléments en anglais, noms des familles en anglais, rayons covalents, affinité électronique etc... Il peut ensuite être **utilisé pour dessiner des tableaux périodiques**, par exemple avec `matplotlib`. Mais il y **manque des données** comme les noms en français, les énergies de première ionisation (pourtant disponibles dans la base de données de `mendeleev`) etc. Si on veut franciser `mendeleev` et y transférer certaines données physico-chimique de sa base de données vers ce tableau, il va donc falloir le *patcher*.\n",
    "\n",
    "Pour simplifier la vie de l'utilisateur, `mendeleev` met à disposition des commandes graphiques pour **visualiser le tableau périodique**. L'une d'entre elles s'appuie sur la bibliothèque **`bokeh`**, qui permet de générer des **visualisations web interactives** directement depuis du code Python. Ca marche aussi dans un environnement de jupyter notebook. `bokeh` ne faisant en général pas partie de la distribution standard, il faut **l'installer à la première utilisation**.\n",
    "\n",
    "On aimerait de surcroît, pour chaque élément, connaître sa \"carte de visite\", comme la date de découverte, l'origine du nom, l'utilisation principale etc. Toutes ces données sont contenues dans la base de données de `mendeleev`, mais il faut une commande Python pour afficher chacune de ces informations.\n",
    "</div>"
   ]
  },
  {
   "cell_type": "markdown",
   "id": "fff12d2c-28e0-4ed5-bd33-2202c29cdfd0",
   "metadata": {},
   "source": [
    "### Développements d'outils Python\n",
    "\n",
    "<div class=\"intro\">\n",
    "\n",
    "L'exercice ci-dessous consiste à analyser un code Python qui a été développé à la fois pour simplifier l'utilisation de `mendeleev` et pour le *patcher*, selon les orientations définies dans l'introduction ci-dessus. \n",
    "\n",
    "</div>"
   ]
  },
  {
   "cell_type": "markdown",
   "id": "4637eb76-1c72-4153-83e0-c18f7fee72d4",
   "metadata": {},
   "source": [
    "<div class=\"ex\" title=\"Construction d'une classe Python\">\n",
    "\n",
    "Cet exercice s'adresse aux étudiants en informatique et plus généralement à tous ceux et toutes celles d'entre vous qui veulent acquérir la compétence *développement d'outils dans un langage orienté objet*, tel que Python.\n",
    "\n",
    "On a construit une classe `TableauPeriodique` afin d'amender `mendeleev`:\n",
    "\n",
    "- avec une partie *pach*  pour ajouter les noms en français, ajouter les énergies d'ionisation dans le tableau qui permet de dessiner le tableau périodique, changer les informations interactives qui se superposent au tableau quand on passe la souris dessus, changer les éléments du groupe 12 en métaux alors que `mendeleev` les classe comme des métaux de transition, etc...\n",
    "- avec l'introduction d'une nouvelle commande `prop()`\n",
    "\n",
    "<div style=\"color:#4a7d93\">\n",
    "    \n",
    "<u>**Compétences Python travaillées**:</u>\n",
    "    \n",
    "- maîtriser la syntaxe et la sémantique de Python afin d'écrire des programmes fonctionnels\n",
    "- installer une bibliothèque si elle ne fait pas partie de votre environnement Python de base\n",
    "- importer des bibliothèques existantes et exploiter les fonctions ou données incluses\n",
    "- maîtriser une boucle afin d'automatiser un traitement de données\n",
    "- créer des fonctions spécifiques utilisant les fonctions et les classes élémentaires génériques fournies par le langage\n",
    "- connaître les grands principes de la programmation orientée objet (encapsulation, héritage ...) et les notions associées (constructeur, attributs, méthodes ...) en vue de les mettre en oeuvre en Python afin d'écrire des programmes modulaires et évolutifs\n",
    "- définir ses propres classes d'objet en vue de créer des objets correspondants parfaitement aux données manipulées\n",
    "- documenter une classe et ses méthodes en vue d'améliorer sa qualité et sa ré-utilisabiilité\n",
    "\n",
    "</div>\n",
    "</div>"
   ]
  },
  {
   "cell_type": "code",
   "execution_count": null,
   "id": "809751f8-16bf-474c-89e1-32eee89ffb1e",
   "metadata": {},
   "outputs": [],
   "source": [
    "# enlever le commentaire de la ligne ci-dessous si votre distribution Python n'intègre pas bokeh (Anaconda l'intègre par défaut)\n",
    "# à faire une fois seulement, l'installation est définitive \n",
    "# !pip install bokeh\n",
    "# !pip install jupyter_bokeh"
   ]
  },
  {
   "cell_type": "code",
   "execution_count": null,
   "id": "bd1f07a4-c9f1-4416-b828-0e0a693c30c7",
   "metadata": {},
   "outputs": [],
   "source": [
    "# enlever le commentaire de la ligne ci-dessous si votre distribution Python n'intègre pas mendeleev, ce qui est le plus probable\n",
    "# ... et si vous ne l'avez pas déjà installé dans un exercice précédent\n",
    "# !pip install mendeleev "
   ]
  },
  {
   "cell_type": "code",
   "execution_count": null,
   "id": "9fd2acca-312f-4e5b-a4ea-e83c18bf68eb",
   "metadata": {},
   "outputs": [],
   "source": [
    "class TableauPeriodique:\n",
    "    nomsFr=['Hydrogène','Hélium','Lithium','Béryllium','Bore','Carbone','Azote','Oxygène',\n",
    "            'Fluor','Néon','Sodium','Magnésium','Aluminium','Silicium','Phosphore','Soufre',\n",
    "            'Chlore','Argon','Potassium','Calcium','Scandium','Titane','Vanadium','Chrome',\n",
    "            'Manganèse','Fer','Cobalt','Nickel','Cuivre','Zinc','Gallium','Germanium',\n",
    "            'Arsenic','Sélénium','Brome','Krypton','Rubidium','Strontium','Yttrium',\n",
    "            'Zirconium','Niobium','Molybdène','Technétium','Ruthénium','Rhodium',\n",
    "            'Palladium','Argent','Cadmium','Indium',\n",
    "            'Étain','Antimoine','Tellure','Iode','Xénon','Césium','Baryum','Lanthane','Cérium',\n",
    "            'Praséodyme','Néodyme','Prométhium','Samarium','Europium','Gadolinium','Terbium',\n",
    "            'Dysprosium','Holmium','Erbium','Thulium','Ytterbium','Lutetium','Hafnium','Tantale',\n",
    "            'Tungstène','Rhénium','Osmium','Iridium','Platine','Or','Mercure','Thallium','Plomb',\n",
    "            'Bismuth','Polonium','Astate','Radon','Francium','Radium','Actinium','Thorium','Protactinium',\n",
    "            'Uranium','Neptunium','Plutonium','Americium','Curium','Berkelium','Californium','Einsteinium',\n",
    "            'Fermium','Mendelevium','Nobelium','Lawrencium','Rutherfordium','Dubnium','Seaborgium','Bohrium',\n",
    "            'Hassium','Meitnerium','Darmstadtium','Roentgenium','Copernicium','Nihonium','Flerovium',\n",
    "            'Moscovium','Livermorium','Tennesse','Oganesson',\n",
    "            ]\n",
    "    trad = {'Nonmetals':'Non métal',\n",
    "            'Noble gases':'Gaz noble',\n",
    "            'Alkali metals':'Métal alcalin',\n",
    "            'Alkaline earth metals':'Métal alcalino-terreux',\n",
    "            'Metalloids':'Métalloïde',\n",
    "            'Halogens':'Halogène',\n",
    "            'Poor metals':'Métal pauvre',\n",
    "            'Transition metals':'Métal de transition',\n",
    "            'Lanthanides':'Lanthanide',\n",
    "            'Actinides':'Actinide',\n",
    "            'Metals':'Métal',\n",
    "           }\n",
    "\n",
    "    def __init__(self):\n",
    "        from mendeleev.vis import create_vis_dataframe\n",
    "        self.elements = create_vis_dataframe()\n",
    "        self.patch_elements()\n",
    "\n",
    "    def patch_elements(self):\n",
    "        '''\n",
    "        Ce patch, appliqué à self.elements, créé par l'appel à create_vis_dataframe(), va servir à :\n",
    "        - ajouter des informations en français : les noms des éléments et des séries (familles) auxquelles ils appartiennent\n",
    "        - retirer les éléments du groupe 12 de la famille des métaux de transition, qui est le choix CONTESTABLE par défaut de la bibliothèque mendeleev\n",
    "        input : elements est un dataframe pandas préalablement créé par la fonction create_vis_dataframe() de mendeleev.vis\n",
    "        output : elements avec deux nouvelles colonnes name_seriesFr et nom, qui contient dorénavant les noms des éléments en français\n",
    "                        + correction des données name_series et series_id pour les éléments Zn, Cd, Hg, Cn\n",
    "                        + de nouvelles colonnes qui contiennent l'énergie de première ionisation et les isotopes naturels\n",
    "        '''\n",
    "        def series_eng2fr(s):\n",
    "            '''Correspondance entre nom des séries (familles) en anglais et en français'''\n",
    "            s = TableauPeriodique.trad[s]\n",
    "            return s\n",
    "\n",
    "        def name_eng2fr():\n",
    "            self.elements[\"nom\"] = TableauPeriodique.nomsFr\n",
    "            return\n",
    "\n",
    "        def ajouter_donnees():\n",
    "            import numpy as np\n",
    "            from mendeleev.fetch import fetch_table, fetch_ionization_energies\n",
    "            import pandas as pd\n",
    "            # dfElts = fetch_table(\"elements\")\n",
    "            # display(dfElts)\n",
    "            dfEi1 = fetch_ionization_energies(degree = 1)\n",
    "            # display(dfEi1)\n",
    "            b = pd.DataFrame({'atomic_number':[x for x in range(1, 119)]})\n",
    "            dfEi1tot = pd.merge(left=dfEi1, right=b, on='atomic_number', how='outer').sort_values(by='atomic_number')\n",
    "            self.elements[\"Ei1\"] = dfEi1tot[\"IE1\"]\n",
    "        \n",
    "        # les éléments du groupe 12 ne sont pas des métaux de transition\n",
    "        self.elements.loc[29,\"name_series\"] = 'Metals'\n",
    "        self.elements.loc[47,\"name_series\"] = 'Metals'\n",
    "        self.elements.loc[79,\"name_series\"] = 'Metals'\n",
    "        self.elements.loc[111,\"name_series\"] = 'Metals'\n",
    "        self.elements.loc[29,\"series_id\"] = 11\n",
    "        self.elements.loc[47,\"series_id\"] = 11\n",
    "        self.elements.loc[79,\"series_id\"] = 11\n",
    "        self.elements.loc[111,\"series_id\"] = 11\n",
    "        self.elements.loc[29,\"color\"] = \"#bbd3a5\"\n",
    "        self.elements.loc[47,\"color\"] =  \"#bbd3a5\"\n",
    "        self.elements.loc[79,\"color\"] =  \"#bbd3a5\"\n",
    "        self.elements.loc[111,\"color\"] =  \"#bbd3a5\"\n",
    "        # english > français. Ajout d'une nouvelle colonne \n",
    "        self.elements[\"name_seriesFr\"] = self.elements[\"name_series\"].apply(series_eng2fr)\n",
    "        # english > français. Noms des éléments en français changés dans la colonne name\n",
    "        name_eng2fr()\n",
    "        ajouter_donnees()\n",
    "        return\n",
    "\n",
    "    def prop(self,elt_id):\n",
    "        from mendeleev import element\n",
    "\n",
    "        elt = element(elt_id)\n",
    "        print(f\"Nom de l'élement = {TableauPeriodique.nomsFr[elt.atomic_number-1]} ({elt.symbol}, Z = {elt.atomic_number})\")\n",
    "        print(f\"Nom en anglais = {elt.name}\")\n",
    "        print(f\"Origine du nom = {elt.name_origin}\")\n",
    "        print()\n",
    "        print(f\"CEF = {elt.ec} = {elt.econf}\")\n",
    "        print(f\"Nombre d'électrons célibataires = {elt.ec.unpaired_electrons()}\")    \n",
    "        print(f\"Groupe {elt.group_id}, Période {elt.period}, bloc {elt.block}\")\n",
    "        print(f\"Famille = {self.elements.loc[elt.atomic_number-1,'name_seriesFr']}\")\n",
    "        print()\n",
    "        print(f\"Masse molaire = {elt.atomic_weight} g/mol\")\n",
    "        isotopes = \"\"\n",
    "        X = elt.symbol\n",
    "        for i in elt.isotopes:\n",
    "            if i.abundance is not None:\n",
    "                isotopes = isotopes + str(i.mass_number)+ \"^\" + X + f\"({i.abundance}%) / \"\n",
    "        print(\"Isotopes naturels = \",isotopes[:-2])\n",
    "        print()\n",
    "        if elt.electronegativity(scale='pauling') is None:\n",
    "            print(f\"Électronégativité de Pauling = Non définie\")\n",
    "        else:\n",
    "            print(f\"Électronégativité de Pauling = {elt.electronegativity(scale='pauling')}\")\n",
    "        print(f\"Énergie de 1ère ionisation = {elt.ionenergies[1]:.2f} eV\")\n",
    "        if elt.electron_affinity is None:\n",
    "            print(f\"Affinité électronique = Non définie\")\n",
    "        else:\n",
    "            print(f\"Afinité électronique = {elt.electron_affinity:.2f} eV\")\n",
    "        print(f\"Rayon atomique = {elt.atomic_radius:.1f} pm\")\n",
    "        print()\n",
    "        print(\"▶ Description : \",elt.description)\n",
    "        print(\"▶ Sources : \",elt.sources)\n",
    "        print(\"▶ Utilisation : \",elt.uses)\n",
    "        print(\"---------------------------------------------------------------------------------------\")\n",
    "        print()\n",
    "\n",
    "    def afficher(self):\n",
    "        from bokeh.plotting import show, output_notebook\n",
    "        from mendeleev.vis import periodic_table_bokeh\n",
    "        \n",
    "        # Toute cette partie du code est une copie du module bokeh de mendeleev.vis\n",
    "        # La fonction periodic_table_bokeh étant faiblement configurable avec des args/kwargs,\n",
    "        # elle est adaptée ici pour un affichage personnalisé\n",
    "        \n",
    "        from collections import OrderedDict\n",
    "        \n",
    "        import pandas as pd\n",
    "        from pandas.api.types import is_float_dtype\n",
    "        \n",
    "        from bokeh.plotting import figure\n",
    "        from bokeh.models import HoverTool, ColumnDataSource, FixedTicker\n",
    "        \n",
    "        from mendeleev.vis.utils import colormap_column\n",
    "        \n",
    "        \n",
    "        def periodic_table_bokeh(\n",
    "            elements: pd.DataFrame,\n",
    "            attribute: str = \"atomic_weight\",\n",
    "            cmap: str = \"RdBu_r\",\n",
    "            colorby: str = \"color\",\n",
    "            decimals: int = 3,\n",
    "            height: int = 800,\n",
    "            missing: str = \"#ffffff\",\n",
    "            title: str = \"Periodic Table\",\n",
    "            wide_layout: bool = False,\n",
    "            width: int = 1200,\n",
    "        ):\n",
    "            \"\"\"\n",
    "            Use Bokeh backend to plot the periodic table. Adaptation by Romuald Poteau (romuald.poteau@univ-tlse3.fr) of the orignal periodic_table_bokeh() function of the mendeleev library\n",
    "        \n",
    "            Args:\n",
    "                elements : Pandas DataFrame with the elements data. Needs to have `x` and `y`\n",
    "                    columns with coordianates for each tile.\n",
    "                attribute : Name of the attribute to be displayed\n",
    "                cmap : Colormap to use, see matplotlib colormaps\n",
    "                colorby : Name of the column containig the colors\n",
    "                decimals : Number of decimals to be displayed in the bottom row of each cell\n",
    "                height : Height of the figure in pixels\n",
    "                missing : Hex code of the color to be used for the missing values\n",
    "                title : Title to appear above the periodic table\n",
    "                wide_layout: wide layout variant of the periodic table\n",
    "                width : Width of the figure in pixels\n",
    "            \"\"\"\n",
    "        \n",
    "            if any(col not in elements.columns for col in [\"x\", \"y\"]):\n",
    "                raise ValueError(\n",
    "                    \"Coordinate columns named 'x' and 'y' are required \"\n",
    "                    \"in 'elements' DataFrame. Consider using \"\n",
    "                    \"'mendeleev.vis.utils.create_vis_dataframe' and try again.\"\n",
    "                )\n",
    "        \n",
    "            # additional columns for positioning of the text\n",
    "        \n",
    "            elements.loc[:, \"y_anumber\"] = elements[\"y\"] - 0.3\n",
    "            elements.loc[:, \"y_name\"] = elements[\"y\"] + 0.2\n",
    "        \n",
    "            if attribute:\n",
    "                elements.loc[elements[attribute].notnull(), \"y_prop\"] = (\n",
    "                    elements.loc[elements[attribute].notnull(), \"y\"] + 0.35\n",
    "                )\n",
    "            else:\n",
    "                elements.loc[:, \"y_prop\"] = elements[\"y\"] + 0.35\n",
    "        \n",
    "            ac = \"display_attribute\"\n",
    "            if is_float_dtype(elements[attribute]):\n",
    "                elements[ac] = elements[attribute].round(decimals=decimals)\n",
    "            else:\n",
    "                elements[ac] = elements[attribute]\n",
    "        \n",
    "            if colorby == \"attribute\":\n",
    "                colored = colormap_column(elements, attribute, cmap=cmap, missing=missing)\n",
    "                elements.loc[:, \"attribute_color\"] = colored\n",
    "                colorby = \"attribute_color\"\n",
    "        \n",
    "            # bokeh configuration\n",
    "        \n",
    "            source = ColumnDataSource(data=elements)\n",
    "        \n",
    "            TOOLS = \"hover,save,reset\"\n",
    "        \n",
    "            fig = figure(\n",
    "                title=title,\n",
    "                tools=TOOLS,\n",
    "                x_axis_location=\"above\",\n",
    "                x_range=(elements.x.min() - 0.5, elements.x.max() + 0.5),\n",
    "                y_range=(elements.y.max() + 0.5, elements.y.min() - 0.5),\n",
    "                width=width,\n",
    "                height=height,\n",
    "                toolbar_location=\"above\",\n",
    "                toolbar_sticky=False,\n",
    "            )\n",
    "        \n",
    "            fig.rect(\"x\", \"y\", 0.9, 0.9, source=source, color=colorby, fill_alpha=0.6)\n",
    "        \n",
    "            # adjust the ticks and axis bounds\n",
    "            fig.yaxis.bounds = (1, 7)\n",
    "            fig.axis[1].ticker.num_minor_ticks = 0\n",
    "            if wide_layout:\n",
    "                # Turn off tick labels\n",
    "                fig.axis[0].major_label_text_font_size = \"0pt\"\n",
    "                # Turn off tick marks\n",
    "                fig.axis[0].major_tick_line_color = None  # turn off major ticks\n",
    "                fig.axis[0].ticker.num_minor_ticks = 0  # turn off minor ticks\n",
    "            else:\n",
    "                fig.axis[0].ticker = FixedTicker(ticks=list(range(1, 19)))\n",
    "        \n",
    "            text_props = {\n",
    "                \"source\": source,\n",
    "                \"angle\": 0,\n",
    "                \"color\": \"black\",\n",
    "                \"text_align\": \"center\",\n",
    "                \"text_baseline\": \"middle\",\n",
    "            }\n",
    "        \n",
    "            fig.text(\n",
    "                x=\"x\",\n",
    "                y=\"y\",\n",
    "                text=\"symbol\",\n",
    "                text_font_style=\"bold\",\n",
    "                text_font_size=\"15pt\",\n",
    "                **text_props,\n",
    "            )\n",
    "            fig.text(\n",
    "                x=\"x\", y=\"y_anumber\", text=\"atomic_number\", text_font_size=\"9pt\", **text_props\n",
    "            )\n",
    "            fig.text(x=\"x\", y=\"y_name\", text=\"name\", text_font_size=\"6pt\", **text_props)\n",
    "            fig.text(x=\"x\", y=\"y_prop\", text=ac, text_font_size=\"7pt\", **text_props)\n",
    "        \n",
    "            fig.grid.grid_line_color = None\n",
    "        \n",
    "            hover = fig.select(dict(type=HoverTool))\n",
    "            hover.tooltips = OrderedDict(\n",
    "                [\n",
    "                    (\"nom\", \"@nom\"),\n",
    "                    (\"name\", \"@name\"),\n",
    "                    (\"famille\", \"@name_seriesFr\"),\n",
    "                    (\"numéro atomique\", \"@atomic_number\"),\n",
    "                    (\"masse molaire\", \"@atomic_weight\"),\n",
    "                    (\"rayon atomique\", \"@atomic_radius\"),\n",
    "                    (\"énergie de première ionisation\", \"@Ei1\"),\n",
    "                    (\"affinité électronique\", \"@electron_affinity\"),\n",
    "                    (\"EN Pauling\", \"@en_pauling\"),\n",
    "                    (\"CEF\", \"@electronic_configuration\"),\n",
    "                ]\n",
    "            )\n",
    "        \n",
    "            return fig\n",
    "\n",
    "        output_notebook()\n",
    "\n",
    "        fig = periodic_table_bokeh(self.elements, colorby=\"color\")\n",
    "        show(fig)"
   ]
  },
  {
   "cell_type": "markdown",
   "id": "97244c85-4051-4701-a7a2-e7cb850e6c27",
   "metadata": {},
   "source": [
    "### Affichage du tableau périodique et exploitation de \"macro commandes\"\n",
    "\n",
    "<div class=\"intro\">\n",
    "\n",
    "Une classe Python a été développée dans la section précédente, afin d'étendre, corriger et simplifier l'utilisation de la bibliothèque `mendeleev`. La simplification consiste en la création de macro-commandes qui exécutent plusieurs fonctions de `mendeleev` et qui vont chercher plusieurs données de cette bibliothèque. \n",
    "\n",
    "Pour l'utiliser, il faut :\n",
    "\n",
    "- exécuter le code précédent (`class TableauPeriodique`)\n",
    "- créer un tableau périodique à partir de la classe `TableauPeriodique` (on dit qu'on crée une instance de la classe, c'est-à-dire un objet numérique est créé à partir d'une classe). Appelons-le `tp` ou `toto` ou `MyPeriodicTable`, peu importe. La commande est `tp = TableauPeriodique()`\n",
    "- on a dorénavant accès aux fonctions de la classe qui permettent d'afficher des données\n",
    "    - un tableau périodique graphique et interactif, avec la commande `tp.afficher()`\n",
    "    - une brève carte de visite d'un élément donné, avec la commande `tp.prop(input)` où `input` est soit le numéro atomique de l'élement, soit le symbole atomique écrit entre guillemets (car c'est une chaîne de caractères!). Attention à écrire la première lettre du symbole en lettre majuscule\n",
    "</div>"
   ]
  },
  {
   "cell_type": "markdown",
   "id": "b39ea1ee-66f6-4c85-9258-a5ccc65e9c97",
   "metadata": {},
   "source": [
    "<div class=\"ex\" title=\"Tableau périodique des éléments\">\n",
    "\n",
    "**1.** Afficher, grâce à la classe `TableauPeriodique()` définie précédemment le tableau périodique interactif des élements<br>\n",
    "*indice*: la création d'une instance Tableau Périodique se fait par la commande `tp = TableauPeriodique()`\n",
    "\n",
    "**2.** À l'aide de la commande `prop()` de la classe `TableauPeriodique()`, afficher la \"carte d'identité\" de :\n",
    "\n",
    "- l'élément de numéro atomique 44\n",
    "- l'élément carbone (symbole C)\n",
    "- l'élement zinc (symbole Zn)\n",
    "</div>"
   ]
  },
  {
   "cell_type": "code",
   "execution_count": null,
   "id": "7b7d61be-e52d-47c3-bea3-aee7a5d4c743",
   "metadata": {},
   "outputs": [],
   "source": [
    "# entrez votre code dans cette cellule \"Python\"\n",
    "\n",
    "#Q1\n",
    "\n",
    "#Q2\n"
   ]
  },
  {
   "cell_type": "markdown",
   "id": "af9a961c-4944-4530-be8a-eae62cab06a2",
   "metadata": {},
   "source": [
    "<div class=\"solFr\">\n",
    "\n",
    "Vous voulez une solution possible à cet exercice ? Décommentez la commande `# %load ./SolutionsToExercises/...` ci-dessous (*il faut exécuter deux fois le contenu de la cellule : la première fois pour charger le contenu du fichier python et la deuxième pour exécuter le code python qui a été charge*) \n",
    "\n",
    "</div>"
   ]
  },
  {
   "cell_type": "code",
   "execution_count": null,
   "id": "7977c9ef-90be-4129-8da2-5e640c41858c",
   "metadata": {
    "tags": []
   },
   "outputs": [],
   "source": [
    "# %load ./SolutionsToExercises/CTM/tp.py"
   ]
  },
  {
   "cell_type": "markdown",
   "id": "ad49437f-713e-4a29-b562-ded074a11064",
   "metadata": {},
   "source": [
    "<div class=\"rqT\" title=\"C'est quoi ce NaN dans certaines données?\">\n",
    "\n",
    "Ça veut dire *Not A Number*. C'est utilisé lorsqu'une donnée est manquante. C'est par exemple le cas ici pour l'affinité électronique de la plupart des gaz rares, qui ne sont effectivement pas stables sous forme anionique\n",
    "</div>"
   ]
  },
  {
   "cell_type": "markdown",
   "id": "ba7a5c0c-7026-4124-bcc3-fd956363b6e2",
   "metadata": {},
   "source": [
    "<div class=\"rq\">\n",
    "\n",
    "Pourquoi utiliser cette bibliothèque `mendeleev` alors qu'il existe tant de ressources sur internet, y compris des IA comme ChatGPT ?\n",
    "\n",
    "Parce que c'est une base de données thématique, dont les informations sont sourcées - ce qui n'empêche pas des erreurs, mais permet une indispensable traçabilité. \n",
    "</div>"
   ]
  },
  {
   "cell_type": "markdown",
   "id": "15d0dfa2-31da-4cb8-8892-cfc801ab3aff",
   "metadata": {},
   "source": [
    "### Évolution des propriétés des éléments, périodicité\n",
    "\n",
    "<div class=\"intro\">\n",
    "\n",
    "L'un des attributs d'un objet de la classe `TableauPeriodique` est un tableau qui contient de nombreuses propriétés de chacun des éléments du tableau périodique. Ce tableau est en réalité un \"dataframe\" de la bibliothèque `pandas`. La commande `display` permet d'en voir un extrait (les tables de données trop grandes sont par défaut affichées de façon tronquée). La fonction `info()` associée au tableau permet de lister les noms de toutes les colonnes de la table et combien il y a de données par colonne. Par exemple, on verra que la propriété #2, c'est-à-dire le rayon atomique (`atomic_radius`), n'est définie que pour 90 éléments. Les données numériques manquantes sont remplacées par `NaN`, c'est-à-dire le raccourci de Not A Number.\n",
    "\n",
    "Voici les commandes à exécuter :\n",
    "\n",
    "```python\n",
    "# création d'une instance Tableau Périodique\n",
    "tp = TableauPeriodique()\n",
    "\n",
    "# affichage du tableau \"elements\" qui est une des données associées au tableau périodique \"tp\"\n",
    "display(tp.elements)\n",
    "\n",
    "# affichage de la liste des propriétés contenues dans le tableau, et du nombre de données par propriété\n",
    "print(tp.elements.info())\n",
    "```\n",
    "\n",
    "</div>\n",
    "<br>\n",
    "<div class=\"ex\" title=\"Affichage, sous forme de table, des données utilisées pour tracer le Tableau Périodique\">\n",
    "\n",
    "Copier/coller le code ci-dessus, et examiner le résultat et la structure de la table\n",
    "</div>"
   ]
  },
  {
   "cell_type": "code",
   "execution_count": null,
   "id": "931f5c00-3de4-4314-a86d-3f0f90a86731",
   "metadata": {},
   "outputs": [],
   "source": [
    "# entrez votre code dans cette cellule \"Python\"\n",
    "\n"
   ]
  },
  {
   "cell_type": "markdown",
   "id": "ac5867f6-c707-4352-abbe-a808d47360d4",
   "metadata": {},
   "source": [
    "<div class=\"solFr\">\n",
    "\n",
    "Vous voulez une solution possible à cet exercice ? Décommentez la commande `# %load ./SolutionsToExercises/...` ci-dessous (*il faut exécuter deux fois le contenu de la cellule : la première fois pour charger le contenu du fichier python et la deuxième pour exécuter le code python qui a été charge*) \n",
    "\n",
    "</div>"
   ]
  },
  {
   "cell_type": "code",
   "execution_count": null,
   "id": "a8c44d4e-0941-4469-bf43-804ef8d086fa",
   "metadata": {
    "tags": []
   },
   "outputs": [],
   "source": [
    "# %load ./SolutionsToExercises/CTM/tp_tab.py"
   ]
  },
  {
   "cell_type": "markdown",
   "id": "0a399536-fbba-40ff-b616-832d0533348d",
   "metadata": {},
   "source": [
    "<div class=\"intro\">\n",
    "\n",
    "Pour récupérer le contenu d'une colonne il suffit d'indiquer l'en-tête de la colonne, entre crochets et entre guillemets.\n",
    "Par exemple, `Z = tp.elements[\"atomic_number\"]` permet de récupérer le contenu numérique de la colonne du tableau `tp.elements` repérée par l'en-tête `atomic_number`.\n",
    "</div>\n",
    "<br>\n",
    "\n",
    "<div class=\"ex\" title=\"Sauvegarde dans une variable du contenu d'une colonne du tableau elements\">\n",
    "\n",
    "Sauver le contenu de la colonne `symbol` de `elements` dans une variable `S`. Puis afficher `S`.\n",
    "</div>"
   ]
  },
  {
   "cell_type": "code",
   "execution_count": null,
   "id": "5402a82f-a8fc-4676-a00b-35abf0afd630",
   "metadata": {},
   "outputs": [],
   "source": [
    "# entrez votre code dans cette cellule \"Python\"\n",
    "\n"
   ]
  },
  {
   "cell_type": "markdown",
   "id": "c21479b4-ecc2-40a1-a898-2ab441056d2d",
   "metadata": {},
   "source": [
    "<div class=\"solFr\">\n",
    "\n",
    "Vous voulez une solution possible à cet exercice ? Décommentez la commande `# %load ./SolutionsToExercises/...` ci-dessous (*il faut exécuter deux fois le contenu de la cellule : la première fois pour charger le contenu du fichier python et la deuxième pour exécuter le code python qui a été charge*) \n",
    "\n",
    "</div>"
   ]
  },
  {
   "cell_type": "code",
   "execution_count": null,
   "id": "7edadbf4-5ae7-4548-b333-a2793206017b",
   "metadata": {
    "tags": []
   },
   "outputs": [],
   "source": [
    "# %load ./SolutionsToExercises/CTM/tp_varcol.py"
   ]
  },
  {
   "cell_type": "markdown",
   "id": "4d4cd5ec-49e5-43dd-86fb-8b1c123f9c2e",
   "metadata": {},
   "source": [
    "<div class=\"rq\">\n",
    "\n",
    "- Le contenu de la première colonne est l'index de la ligne. Et en Python la numérotation commence par 0 et non par 1.\n",
    "- `print()` n'affiche par défaut que les 5 premières et 5 dernières valeurs des longues listes. \n",
    "</div>"
   ]
  },
  {
   "cell_type": "markdown",
   "id": "b2fdca27-d6ac-4d2e-bfb4-1b2c3d099b74",
   "metadata": {},
   "source": [
    "<div class=\"intro\">\n",
    "\n",
    "On peut maintenant exploiter cette riche source de données pour tracer l'évolution de certaines propriétés des éléments du tableau périodique en fonction du numéro atomique `Z`. La bibliothèque graphique principale de Python est la bibliothèque `matplotlib`. Un tracé simple d'une fonction $y=f(x)$ s'obtient par la commance `plot(x,y)`.\n",
    "</div>\n",
    "<br>\n",
    "\n",
    "<div class=\"ex\" title=\"Analyse du code (simple) permettant de tracer l'énergie de première ionisation, Ei1, en fonction de Z\">\n",
    "\n",
    "Analyser et exécuter le code commenté ci-dessous\n",
    "</div>"
   ]
  },
  {
   "cell_type": "code",
   "execution_count": null,
   "id": "dbc70e87-e727-4312-a77d-85018029745e",
   "metadata": {},
   "outputs": [],
   "source": [
    "# importation du module pyplot de matplotlib\n",
    "from matplotlib import pyplot as plt\n",
    "tp = TableauPeriodique()\n",
    "\n",
    "# sauvegarde du numéro atomique, de l'énergie de première ionisation, et de la couleur des cases du tableau périosique,\n",
    "# qui a été tracé par familles\n",
    "Z = tp.elements[\"atomic_number\"]\n",
    "Ei1 = tp.elements[\"Ei1\"]\n",
    "color = tp.elements[\"color\"]\n",
    "\n",
    "# l'unité par défaut pour dimensionner les figures est le pouce (inches)\n",
    "cm2i = 1/2.54 # conversion de cm en pouces\n",
    "# création d'un objet \"figure\", et définition de la taille du tracé (30cm x 12cm)\n",
    "fig, ax = plt.subplots(figsize=(30*cm2i,12*cm2i))\n",
    "\n",
    "# numéros atomiques des gaz nobles, les éléments qui clôturent chaque période\n",
    "xticks=[2,10,18,36,54,86,118]\n",
    "# les graduations de l'axe des abscisses vont être tracées pour les numéros atomiques des gaz nobles\n",
    "ax.set_xticks(xticks)\n",
    "# ajout d'une grille verticale pour bien repérer où se finit chaque période\n",
    "plt.grid(color='r', linestyle='--', linewidth=0.5, axis=\"x\")\n",
    "\n",
    "# tracé de Ei1 en fonction de Z\n",
    "plt.plot(Z,Ei1,linewidth=0.5)\n",
    "# on superpose les points sous forme de symbole \"o\" (scatter plot), ce qui permet une fantaisie :\n",
    "# les symboles ont la couleur de la famille à laquelle appartient l'élémént\n",
    "plt.scatter(Z,Ei1,marker=\"o\",c=color)\n",
    "\n",
    "# comme tout graphe, il faut ajouter la légende de chaque axe, avec l'unité de la variable, si c'est pertinent\n",
    "plt.xlabel(\"Numéro atomique (Z)\")\n",
    "plt.ylabel(\"Ei1 / eV\")\n",
    "\n",
    "# on a fini de définir les options, on peut tracer le graphe\n",
    "plt.show()"
   ]
  },
  {
   "cell_type": "markdown",
   "id": "ebca191e-8a31-49d2-8a67-e6633ec3607c",
   "metadata": {},
   "source": [
    "<div class=\"rq\">\n",
    "\n",
    "Le code semble long, mais si on enlève tous les commentaires, il se résume par \n",
    "\n",
    "```python\n",
    "from matplotlib import pyplot as plt\n",
    "tp = TableauPeriodique()\n",
    "Z = tp.elements[\"atomic_number\"]\n",
    "Ei1 = tp.elements[\"Ei1\"]\n",
    "color = tp.elements[\"color\"]\n",
    "\n",
    "cm2i = 1/2.54\n",
    "fig, ax = plt.subplots(figsize=(30*cm2i,12*cm2i))\n",
    "xticks=[2,10,18,36,54,86,118]\n",
    "ax.set_xticks(xticks)\n",
    "plt.grid(color='r', linestyle='--', linewidth=0.5, axis=\"x\")\n",
    "plt.plot(Z,Ei1,linewidth=0.5)\n",
    "plt.scatter(Z,Ei1,marker=\"o\",c=color)\n",
    "plt.xlabel(\"Numéro atomique (Z)\")\n",
    "plt.ylabel(\"Ei1 / eV\")\n",
    "plt.show()\n",
    "```\n",
    "</div>"
   ]
  },
  {
   "cell_type": "markdown",
   "id": "1c1b9b82-cbdc-4313-a452-5e1d35f1db23",
   "metadata": {},
   "source": [
    "<div class=\"ex\" title=\"Tracé de l'électronégativité de Pauling en fonction de Z\">\n",
    "\n",
    "**1.** Adapter le code précédent pour tracer l'électronégativité de Pauling (&chi;<sub>P</sub>) en fonction de *Z*. Comparer avec vos cours et TD sur ce sujet. Les tendances attendues sont-elles observées ?\n",
    "\n",
    "**2.** Il y a des trous dans le tracé. Quelle en est l'origine ?\n",
    "</div>"
   ]
  },
  {
   "cell_type": "code",
   "execution_count": null,
   "id": "0ade4cf9-0fc6-4131-bf55-83bf34fd2724",
   "metadata": {},
   "outputs": [],
   "source": [
    "# entrez votre code dans cette cellule \"Python\"\n",
    "\n",
    "#Q1\n",
    "\n"
   ]
  },
  {
   "cell_type": "markdown",
   "id": "d80f9573-9c6b-48aa-a302-eeccfb4d04af",
   "metadata": {},
   "source": [
    "<div class=\"solFr\">\n",
    "\n",
    "Vous voulez une solution possible à cet exercice ? Décommentez la commande `# %load ./SolutionsToExercises/...` ci-dessous (*il faut exécuter deux fois le contenu de la cellule : la première fois pour charger le contenu du fichier python et la deuxième pour exécuter le code python qui a été charge*) \n",
    "\n",
    "</div>"
   ]
  },
  {
   "cell_type": "code",
   "execution_count": null,
   "id": "57a906d6-b7ff-4fd8-8c16-f577d093aa4f",
   "metadata": {
    "tags": []
   },
   "outputs": [],
   "source": [
    "# %load ./SolutionsToExercises/CTM/elt_EN_P.py"
   ]
  },
  {
   "cell_type": "markdown",
   "id": "99c0d18f-dba5-4242-9e83-42d32aa50059",
   "metadata": {},
   "source": [
    "<div class=\"rqT\" title=\"Commentaires & réponse à la question 2\">\n",
    "\n",
    "- l'électronégativité a tendance à augmenter de la gauche vers la droite dans une période\n",
    "\n",
    "- l'électronégativité diminue dans un groupe\n",
    "\n",
    "- l'élément le plus électrongétif est le fluor\n",
    "\n",
    "- le carbone et l'hydrogène ont des électronégativités similaires, alors que l'oxygène est beaucoup plus électronégatif que H\n",
    "\n",
    "- on observe une absence de valeurs pour la plupart des gaz nobles. Ce n'est pas parce que des données ont été oubliées dans la table exportée par la bibliothèque `mendeleev`. Ces gaz ne formant presque jamais de liaisons covalentes, il n'est pas possible de mesurer une valeur d'électronégativité pour eux dans le cadre de l'échelle de Pauling, qui repose sur des mesures d'énergies de liaison covalente entre différents atomes. Il n'existe donc pas de valeur.\n",
    "</div>"
   ]
  },
  {
   "cell_type": "markdown",
   "id": "2fcd5c64-a82c-49f6-96fa-39ac2da52f80",
   "metadata": {},
   "source": [
    "<div class=\"ex\" title=\"Tracé du rayon covalent en fonction de Z\">\n",
    "\n",
    "**1.** Adapter le code précédent pour tracer le rayon covalent déterminé par Pyykko (`covalent_radius_pyykko`) en fonction de *Z*.\n",
    "\n",
    "**2.** Comparer avec vos cours et TD sur ce sujet. Les tendances attendues sont-elles observées ?\n",
    "\n",
    "</div>"
   ]
  },
  {
   "cell_type": "code",
   "execution_count": null,
   "id": "0364f541-20ea-4c22-8d52-03164cc403c3",
   "metadata": {},
   "outputs": [],
   "source": [
    "# entrez votre code dans cette cellule \"Python\"\n",
    "\n",
    "#Q1\n",
    "\n"
   ]
  },
  {
   "cell_type": "markdown",
   "id": "fe12cc81-22df-41f5-b291-329107530359",
   "metadata": {},
   "source": [
    "<div class=\"solFr\">\n",
    "\n",
    "Vous voulez une solution possible à cet exercice ? Décommentez la commande `# %load ./SolutionsToExercises/...` ci-dessous (*il faut exécuter deux fois le contenu de la cellule : la première fois pour charger le contenu du fichier python et la deuxième pour exécuter le code python qui a été charge*) \n",
    "\n",
    "</div>"
   ]
  },
  {
   "cell_type": "code",
   "execution_count": null,
   "id": "e61145d7-f215-4630-b336-b67ab1f24f99",
   "metadata": {
    "tags": []
   },
   "outputs": [],
   "source": [
    "# %load ./SolutionsToExercises/CTM/elt_Rcov.py"
   ]
  },
  {
   "cell_type": "markdown",
   "id": "4a6d9f74-1ce4-4ac5-b213-cfd15f73d46b",
   "metadata": {},
   "source": [
    "<div class=\"rqT\" title=\"Réponse à la question 2\">\n",
    "\n",
    "- le rayon atomique a tendance à diminuer de la gauche vers la droite dans une période, en relation avec l'effet attractif croissant du noyau\n",
    "\n",
    "- le rayon atomique augmente en descendant dans un groupe, en relation avec l'augmentation du nombre de couches électroniques occupées\n",
    "</div>"
   ]
  },
  {
   "cell_type": "markdown",
   "id": "e1416868-bf28-472c-b3c6-aa7ccab43812",
   "metadata": {},
   "source": [
    "## Chapitre 6 : représentation 2D des molécules, et analyse automatisée de certaines propriétés\n",
    "\n",
    "### Introduction\n",
    "\n",
    "<div class=\"intro\">\n",
    "\n",
    "On va utiliser `RDKit`, bibliothèque open-source très utilie dans le domaine de la **chemo-informatique**. C'est un domaine de recherche interdisciplinaire qui **combine la chimie avec l'informatique et les technologies de l'information**. Son objectif est de modéliser, analyser et comprendre des structures chimiques et des processus moléculaires à l'aide d'outils numériques. \n",
    "\n",
    "`RDKit` est conçu pour gérer des tâches informatiques moléculaires telles que la similarité moléculaire, la recherche de sous-structures, la prédiction de propriétés moléculaires, le calcul de descripteurs moléculaires, et la visualisation 2D des molécules.  \n",
    "\n",
    "La boîte à outils propose un ensemble complet de fonctionnalités, y compris l'empreinte moléculaire, la gestion des réactions chimiques,  et le criblage virtuel basé sur la structure. `RDKit` est largement utilisé dans la découverte de médicaments, la recherche environnementale et d'autres domaines où l'analyse des données chimiques est essentielle. `RDKit` a révolutionné la chemo-informatique et est devenu un outil indispensable dans l'intelligence artificielle et la science des données appliqués à la chimie. Sa large gamme de fonctionnalités offre aux chercheurs et scientifiques des outils puissants. La maîtrise de `RDKit` est en particulier très recherchée dans certains services de R&D&I de l'industrie pharmaceutique. \n",
    "\n",
    "</div>\n",
    "<br>\n",
    "<div class=\"intro\">\n",
    "\n",
    "`RDKit` va ici être utilisé de façon très modeste, principalement pour afficher les **représentations topologiques** de molécules. Comme il intègre de nombreux algorithmes qui \"connaissent la chimie\", en particulier la liaison chimique, on va principalement l'utiliser pour afficher **l'hybridation des atomes**, souligner la présence de **systèmes aromatiques**, analyser de la **conjugaison**. \n",
    "</div>\n",
    "<br>\n",
    "<div class=\"rqT\" title = \"Attention !!!\">\n",
    "\n",
    "Les analyses et propriétés délivrées par `RDKit` sont basées sur des algorithmes, qui ne sont pas infaillibles. <span style=\"color:red\">**Soyez toujours critiques et utilisez votre intelligence, supérieure à celle des algorithmes</span>**. \n",
    "</div>\n",
    "<br>\n",
    "<div class=\"introT\" title=\"Comment démarrer ?\">\n",
    "\n",
    "`RDKit` exploite les [SMILES](https://fr.wikipedia.org/wiki/Simplified_Molecular_Input_Line_Entry_System) comme un format standard pour représenter, analyser et manipuler des structures chimiques de manière efficace. Les SMILES sont une représentation textuelle simplifiée des molécules, en liaison directe avedc leur représentation topologique, et permettant de décrire la structure d'une molécule sous forme de chaîne de caractères. Voici quelques exemples de SMILES :\n",
    "\n",
    "- l'éthanol C<sub>2</sub>H<sub>2</sub>OH : `CCO`\n",
    "- l'acide acétique H<sub>3</sub>C-COOH : `CC(=O)O`\n",
    "- le diazote N<sub>2</sub> : `N#N`\n",
    "- le sulfate de cuivre Cu<sup>2+</sup>, SO<sub>4</sub><sup>2-</sup> : `[Cu+2].[O-]S(=O)(=O)[O-]` (où le . désigne une liaison ionique entre les Cu<sup>2+</sup> et SO<sub>4</sub><sup>2-</sup>)\n",
    "</div>\n",
    "\n",
    "<br>\n",
    "<div class=\"introT\" title=\"SMILES ???\">\n",
    "    \n",
    "**FAQ : *je ne suis pas spécialiste du langage SMILES. Est-ce que je peux trouver quelque part les SMILES des molécules les plus courantes?***\n",
    "\n",
    "Sans problème. \n",
    "- on les trouve dans les articles de Wikipedia consacrés à un composé moléculaire donné, comme dans le cas de l'[acide acétique](https://fr.wikipedia.org/wiki/Acide_ac%C3%A9tique)\n",
    "- on peut également consulter les bases de données (BDD) chimiques en ligne, comme [PubChem](https://pubchem.ncbi.nlm.nih.gov/) (*bien que cette BDD soit en anglais, vous pouvez tenter d'entrer un nom en français. Le SMILES s'affiche pour chaque molécule renvoyée par la recherche, juste en-dessous de son nom IUPAC, c'est-à-dire son nom en nomenclature officielle*)\n",
    "</div>\n",
    "<br>\n",
    "<div class=\"introT\" title=\"Comment utiliser rdkit de façon basique?\">\n",
    "\n",
    "On va prendre l'exemple de l'éthanol. Mais avant tout il faut installer rdkit, si nécessaire.\n",
    "</div>"
   ]
  },
  {
   "cell_type": "code",
   "execution_count": null,
   "id": "554591b2-5b18-4336-8f00-f10156d888c5",
   "metadata": {},
   "outputs": [],
   "source": [
    "# enlever le commentaire de la ligne ci-dessous si votre distribution Python n'intègre pas rdkit, ce qui est le plus probable\n",
    "# à faire une fois seulement, l'installation est définitive \n",
    "# !pip install rdkit "
   ]
  },
  {
   "cell_type": "code",
   "execution_count": null,
   "id": "1adf0c1f-a57c-476d-85ca-735fbac79bea",
   "metadata": {},
   "outputs": [],
   "source": [
    "from rdkit import Chem\n",
    "from rdkit.Chem import Draw\n",
    "from IPython.display import display\n",
    "\n",
    "mol = Chem.MolFromSmiles(\"CCO\")  # éthanol\n",
    "img = Draw.MolToImage(mol, size=(200,200))\n",
    "display(img)"
   ]
  },
  {
   "cell_type": "markdown",
   "id": "d4db3b2f-91dc-420b-93b8-7695dbe557e5",
   "metadata": {},
   "source": [
    "<div class=\"ex\" title=\"Représentation du rétinal\">\n",
    "\n",
    "Le rétinal joue un rôle clé dans la vision en permettant la conversion de l’énergie lumineuse en signal nerveux.\n",
    "\n",
    "1. Rechercher sur [PubChem](https://pubchem.ncbi.nlm.nih.gov/) le codage SMILES de la molécule de rétinal (*retinal*)\n",
    "2. Afficher la molécule à l'aide de rdkit, en tant qu'image de dimension 700x300\n",
    "</div>"
   ]
  },
  {
   "cell_type": "code",
   "execution_count": null,
   "id": "20ec9dc9-634f-49a0-92b0-00515aa33185",
   "metadata": {},
   "outputs": [],
   "source": [
    "# entrez votre code dans cette cellule \"Python\"\n",
    "\n"
   ]
  },
  {
   "cell_type": "markdown",
   "id": "0484b235-27a6-4a46-9f6f-f2ba72512249",
   "metadata": {},
   "source": [
    "<div class=\"solFr\">\n",
    "\n",
    "Vous voulez une solution possible à cet exercice ? Décommentez la commande `# %load ./SolutionsToExercises/...` ci-dessous (*il faut exécuter deux fois le contenu de la cellule : la première fois pour charger le contenu du fichier python et la deuxième pour exécuter le code python qui a été charge*) \n",
    "\n",
    "</div>"
   ]
  },
  {
   "cell_type": "code",
   "execution_count": null,
   "id": "46dc3aaf-b50b-47d8-b43c-35d940695ce5",
   "metadata": {
    "tags": []
   },
   "outputs": [],
   "source": [
    "# %load ./SolutionsToExercises/CTM/retinal.py"
   ]
  },
  {
   "cell_type": "markdown",
   "id": "fdc58f48-3344-4f20-a758-0b44df9f0acb",
   "metadata": {},
   "source": [
    "### Outil Python pour visualiser les structures topologiques de molécules, basé sur `RDKit`\n",
    "\n",
    "#### Code python\n",
    "\n",
    "<div class=\"intro\">\n",
    "\n",
    "L'exercice ci-dessous consiste à analyser un code Python qui a été développé à la fois pour simplifier l'utilisation de `rdkit` et pour adapter certains de ses résultats au programme de L1 chimie. \n",
    "\n",
    "</div>"
   ]
  },
  {
   "cell_type": "markdown",
   "id": "2e54064b-b2cc-4785-88c0-89ae21eac202",
   "metadata": {},
   "source": [
    "<div class=\"ex\" title=\"Construction d'une classe Python\">\n",
    "\n",
    "Cet exercice s'adresse aux étudiants en informatique et plus généralement à tous ceux et toutes celles d'entre vous qui veulent acquérir la compétence *développement d'outils dans un langage orienté objet*, tel que Python.\n",
    "\n",
    "On a construit une classe `easy_rdkit` afin principalement de simplifier l'affichage de molécules et de leurs propriétés avec `rdkit`.\n",
    "\n",
    "Utilisation :\n",
    "1. instantier une molécule par son SMILES, entré comme une chaîne de caractères, c'est-à-dire entre guillemets. Dans le cas de l'histidine, ça donne : `histidine = easy_rdkit(\"O=C([C@H](CC1=CNC=N1)N)O\")`\n",
    "2. afficher la molécule, éventuellement avec des options : `histidine.show_mol(show_hybrid=True,plot_conjugation=True)`\n",
    "\n",
    "<div style=\"color:#4a7d93\">\n",
    "    \n",
    "<u>**Compétences Python travaillées**:</u>\n",
    "    \n",
    "- maîtriser la syntaxe et la sémantique de Python afin d'écrire des programmes fonctionnels\n",
    "- installer une bibliothèque si elle ne fait pas partie de votre environnement Python de base\n",
    "- importer des bibliothèques existantes et exploiter les fonctions ou données incluses\n",
    "- maîtriser une boucle afin d'automatiser un traitement de données\n",
    "- créer des fonctions spécifiques utilisant les fonctions et les classes élémentaires génériques fournies par le langage\n",
    "- connaître les grands principes de la programmation orientée objet (encapsulation, héritage ...) et les notions associées (constructeur, attributs, méthodes ...) en vue de les mettre en oeuvre en Python afin d'écrire des programmes modulaires et évolutifs\n",
    "- définir ses propres classes d'objet en vue de créer des objets correspondants parfaitement aux données manipulées\n",
    "- documenter une classe et ses méthodes en vue d'améliorer sa qualité et sa ré-utilisabiilité\n",
    "\n",
    "</div>\n",
    "</div>"
   ]
  },
  {
   "cell_type": "code",
   "execution_count": null,
   "id": "1bd45c2c-7c6c-4457-bfcf-92e44f2b44d7",
   "metadata": {},
   "outputs": [],
   "source": [
    "import rdkit\n",
    "from rdkit import Chem\n",
    "from rdkit.Chem.rdchem import GetPeriodicTable\n",
    "import pandas as pd\n",
    "\n",
    "class easy_rdkit():\n",
    "\n",
    "    def __init__(self,smiles):\n",
    "        self.mol=Chem.MolFromSmiles(smiles)\n",
    "        self.smiles = smiles\n",
    "        \n",
    "    def analyze_lewis(self):\n",
    "        if self.mol is None:\n",
    "            raise ValueError(f\"Molécule invalide pour {self.smiles} (SMILES incorrect ?)\")\n",
    "        \n",
    "        pt = GetPeriodicTable()\n",
    "        rows = []\n",
    "    \n",
    "        for atom in self.mol.GetAtoms():\n",
    "            Z = atom.GetAtomicNum()\n",
    "            valence_e = pt.GetNOuterElecs(Z)\n",
    "            bonding_e = atom.GetTotalValence()\n",
    "            formal_charge = atom.GetFormalCharge()\n",
    "            num_bonds = int(sum(bond.GetBondTypeAsDouble() for bond in atom.GetBonds()))\n",
    "            # hybridization = atom.GetHybridization()\n",
    "            nonbonding = valence_e - bonding_e - formal_charge\n",
    "    \n",
    "            lone_pairs = max(0, nonbonding // 2)\n",
    "    \n",
    "            if Z==1 or Z==2:  # règle du duet\n",
    "                target = 2\n",
    "            else:       # règle de l’octet\n",
    "                target = 8\n",
    "    \n",
    "            missing_e = max(0, target/2 - (bonding_e + 2*lone_pairs))\n",
    "            vacancies = int(missing_e)\n",
    "            total_e = 2*(lone_pairs + bonding_e)\n",
    "    \n",
    "            if total_e > 8:\n",
    "                octet_msg = \"❌ hypercoordiné\"\n",
    "            elif total_e < 8:\n",
    "                octet_msg = \"❌ électron-déficient\"\n",
    "            elif total_e == 8:\n",
    "                octet_msg = \"✅ octet\"    \n",
    "            elif total_e == 2 and (Z == 1 or Z == 2):\n",
    "                octet_msg = \"✅ duet\"\n",
    "            else:\n",
    "                octet_msg = \"🤔\"\n",
    "            rows.append({\n",
    "                \"index atome\": atom.GetIdx(),\n",
    "                \"symbole\": atom.GetSymbol(),\n",
    "                \"e- valence\": valence_e,\n",
    "                \"e- liants\": bonding_e,\n",
    "                \"charge formelle\": formal_charge,\n",
    "                \"doublets non-liants (DNL)\": lone_pairs,\n",
    "                \"lacunes ([])\": vacancies,\n",
    "                \"nombre de liaisons\": num_bonds,\n",
    "                \"e- total (octet ?)\": total_e,\n",
    "                \"O/H/D ?\": octet_msg\n",
    "            })\n",
    "        return pd.DataFrame(rows)    \n",
    "            \n",
    "    def show_mol(self,\n",
    "                 size: tuple=(400,400),\n",
    "                 show_Lewis: bool=False,\n",
    "                 plot_conjugation: bool=False,\n",
    "                 plot_aromatic: bool=False,\n",
    "                 show_n: bool=False,\n",
    "                 show_hybrid: bool=False,\n",
    "                 show_H: bool=False,\n",
    "                 rep3D: bool=False,\n",
    "                 highlightAtoms: list=[],\n",
    "                 legend: str=''\n",
    "                ):\n",
    "        '''\n",
    "        Exploite les outils d'affichage 2D de RDKit, et permet de superposer certaines propriétés\n",
    "        Ne peut afficher qu'une molécule à la fois\n",
    "        - size : dimension de la figure en pixels (défaut : 400x400)\n",
    "        - show_Lewis : analyse la structure de Lewis et ajout de labels sur chaque atome (défaut : False)\n",
    "        - plot_conjugation : surligne les liaisons conjuguées (défaut : False)\n",
    "        - plot_aromatic : surligne les atomes et liaisons des fragments moléculaires aromatiques (défaut : False)\n",
    "        - show_n : ajoute le numéro de chaque atome (défaut : False)\n",
    "        - show_hybrid : ajoute l'état d'hybridation des atomes non terminaux (défaut : False)\n",
    "        - show_H : ajoute les hydrogènes, considérés comme implicites par défaut (défaut : False)\n",
    "        - rep3D : pseudo dessin 3D qui prend en compte les conflits stériques entre atomes (défaut : False). Active show_H à True \n",
    "        - highlightAtoms : liste des numéros des atomes qu'on souhaite surligner\n",
    "        - legend : ajoute le contenu de la variable comme légende du dessin\n",
    "        '''\n",
    "        from rdkit.Chem.Draw import rdMolDraw2D\n",
    "        from rdkit import Chem\n",
    "        from rdkit.Chem import GetPeriodicTable, Draw\n",
    "        from rdkit.Chem import AllChem\n",
    "        import pandas as pd\n",
    "        from IPython.display import SVG\n",
    "        from PIL import Image\n",
    "\n",
    "        def safe_add_hs():\n",
    "            try:\n",
    "                return Chem.AddHs(self.mol)\n",
    "            except Exception as e:\n",
    "                print(f\"[Warning] Impossible d'ajouter les H pour {self.smiles} ({e}), on garde la version brute.\")\n",
    "                return mol      \n",
    "        \n",
    "        if show_H and not show_Lewis:\n",
    "            mol = Chem.AddHs(self.mol)\n",
    "        else:\n",
    "            mol = self.mol\n",
    "        if show_Lewis:\n",
    "            mol = safe_add_hs()\n",
    "            self.mol = mol\n",
    "            df = self.analyze_lewis()\n",
    "            lewis_info = {row[\"index atome\"]: (row[\"doublets non-liants (DNL)\"], row[\"lacunes ([])\"])\n",
    "                          for _, row in df.iterrows()}\n",
    "        else:\n",
    "            df = None\n",
    "            \n",
    "        if rep3D:\n",
    "            mol = Chem.AddHs(self.mol)\n",
    "            self.mol = mol\n",
    "            AllChem.EmbedMolecule(mol)\n",
    "                \n",
    "        d2d = rdMolDraw2D.MolDraw2DSVG(size[0],size[1])\n",
    "        \n",
    "        atoms = list(mol.GetAtoms())\n",
    "    \n",
    "        if plot_conjugation:\n",
    "            from collections import defaultdict\n",
    "            Chem.SetConjugation(mol)\n",
    "            colors = [(0.0, 0.0, 1.0, 0.4)]\n",
    "            athighlights = defaultdict(list)\n",
    "            arads = {}\n",
    "            bndhighlights = defaultdict(list)\n",
    "            for bond in mol.GetBonds():\n",
    "                aid1 = bond.GetBeginAtomIdx()\n",
    "                aid2 = bond.GetEndAtomIdx()\n",
    "            \n",
    "                if bond.GetIsConjugated():\n",
    "                    bid = mol.GetBondBetweenAtoms(aid1,aid2).GetIdx()\n",
    "                    bndhighlights[bid].append(colors[0])\n",
    "            \n",
    "        if plot_aromatic:\n",
    "            from collections import defaultdict\n",
    "            colors = [(1.0, 0.0, 0.0, 0.4)]\n",
    "            athighlights = defaultdict(list)\n",
    "            arads = {}\n",
    "            for a in atoms:\n",
    "                if a.GetIsAromatic():\n",
    "                    aid = a.GetIdx()\n",
    "                    athighlights[aid].append(colors[0])\n",
    "                    arads[aid] = 0.3\n",
    "                    \n",
    "            bndhighlights = defaultdict(list)\n",
    "            for bond in mol.GetBonds():\n",
    "                aid1 = bond.GetBeginAtomIdx()\n",
    "                aid2 = bond.GetEndAtomIdx()\n",
    "            \n",
    "                if bond.GetIsAromatic():\n",
    "                    bid = mol.GetBondBetweenAtoms(aid1,aid2).GetIdx()\n",
    "                    bndhighlights[bid].append(colors[0])\n",
    "            \n",
    "        if show_hybrid or show_Lewis:\n",
    "            for i,atom in enumerate(atoms):\n",
    "                # print(i,atom.GetDegree(),atom.GetImplicitValence())\n",
    "                note_parts = []\n",
    "                if show_hybrid and(atom.GetValence(rdkit.Chem.rdchem.ValenceType.IMPLICIT) > 0 or atom.GetDegree() > 1):\n",
    "                    note_parts.append(str(atom.GetHybridization()))\n",
    "                if show_Lewis and i in lewis_info:\n",
    "                    lp, vac = lewis_info[i]\n",
    "                    if lp > 0:\n",
    "                        note_parts.append(f\" {lp}DNL\")\n",
    "                    if vac > 0:\n",
    "                        note_parts.append(f\" {vac}[]\")\n",
    "                if note_parts:\n",
    "                    mol.GetAtomWithIdx(i).SetProp('atomNote',\"\".join(note_parts))\n",
    "                # print(f\"Atom {i+1:3}: {atom.GetAtomicNum():3} {atom.GetSymbol():>2} {atom.GetHybridization()}\")\n",
    "            if show_Lewis:\n",
    "                display(df)\n",
    "    \n",
    "        if show_n:\n",
    "            d2d.drawOptions().addAtomIndices=show_n\n",
    "    \n",
    "        if plot_aromatic or plot_conjugation:\n",
    "            d2d.DrawMoleculeWithHighlights(mol,legend,dict(athighlights),dict(bndhighlights),arads,{})\n",
    "        else:\n",
    "            d2d.DrawMolecule(mol,legend=legend, highlightAtoms=highlightAtoms)\n",
    "            \n",
    "        d2d.FinishDrawing()\n",
    "        display(SVG(d2d.GetDrawingText()))\n",
    "\n",
    "        return"
   ]
  },
  {
   "cell_type": "code",
   "execution_count": null,
   "id": "eed5eba3-6f5d-4361-a2fc-0205a6b8f6ce",
   "metadata": {},
   "outputs": [],
   "source": [
    "# example d'application\n",
    "histidine = easy_rdkit(\"c2ccc(c1ccccn1)nc2\")\n",
    "histidine.show_mol(show_hybrid=True,plot_conjugation=True)"
   ]
  },
  {
   "cell_type": "code",
   "execution_count": null,
   "id": "1603ba68-74f0-4468-8e02-3f4f2358ddae",
   "metadata": {},
   "outputs": [],
   "source": [
    "# documentation de show_mol, pour voir les autres options de show_mol\n",
    "help(easy_rdkit.show_mol)"
   ]
  },
  {
   "cell_type": "markdown",
   "id": "e6bbb83d-8e28-42ed-b8de-7e7ee162052a",
   "metadata": {},
   "source": [
    "#### Exemples d'utilisation de la classe `easy_rdkit`"
   ]
  },
  {
   "cell_type": "markdown",
   "id": "2281ce00-4520-459b-8d89-cf0a46cc0726",
   "metadata": {},
   "source": [
    "<div class=\"ex\" title=\"Utilisation de la classe easy_rdkit\">\n",
    "\n",
    "Cet exercice s'adresse à tou(te)s\n",
    "\n",
    "**1.** Lire le sujet de l'exercice précédent, ainsi que la documentation de la fonction `show_mol()` qui est intégrée à son code Python et qui a été affichée par `help(easy_rdkit.show_mol)`. Exécuter ensuite la cellule qui contient la classe `easy_rdkit`, et enfin appliquer la classe au cas de l'histidine\n",
    "\n",
    "**2.** Le code SMILES de la molécule de paracétamol, composé chimique bien connu utilisé comme antalgique (anti-douleur) et antipyrétique (anti-fièvre), est : `CC(=O)NC1=CC=C(C=C1)O`.\n",
    "- créer un objet `mol` à l'aide de la classe `easy_rdkit`\n",
    "- afficher la molécule, à l'aide de la fonction `show_mol` de la classe `easy_rdkit`, en y ajoutant d'éventuels fragments moléculaires aromatiques\n",
    "- afficher à nouveau la molécule en y soulignant le(s) système(s) conjugué(s) éventuellement trouvés par `RDKit` et en ajoutant les hydrogènes\n",
    "\n",
    "<div style=\"color:#4a7d93\">\n",
    "    \n",
    "<u>**Compétences Python travaillées**:</u>\n",
    "    \n",
    "- exploiter une classe de \"macro-commandes\" exploitant une ou plusieurs bibliothèques Python\n",
    "- lire la documentation d'une classe ou de ses fonctions (si elle est bien faite, il n'est pas utile de d'analyser le code Python pour comprendre ce que fait la fonction)\n",
    "\n",
    "</div>\n",
    "</div>"
   ]
  },
  {
   "cell_type": "code",
   "execution_count": null,
   "id": "8b09a533-5c06-4c69-b36c-a86fb01a78c9",
   "metadata": {},
   "outputs": [],
   "source": [
    "# entrez votre code dans cette cellule \"Python\"\n",
    "\n",
    "#Q2\n"
   ]
  },
  {
   "cell_type": "markdown",
   "id": "5af03379-9452-4591-9785-c7eac2123072",
   "metadata": {},
   "source": [
    "<div class=\"solFr\">\n",
    "\n",
    "Vous voulez une solution possible à cet exercice ? Décommentez la commande `# %load ./SolutionsToExercises/...` ci-dessous (*il faut exécuter deux fois le contenu de la cellule : la première fois pour charger le contenu du fichier python et la deuxième pour exécuter le code python qui a été charge*) \n",
    "\n",
    "</div>"
   ]
  },
  {
   "cell_type": "code",
   "execution_count": null,
   "id": "eb4ca8a3-558f-4a45-b5df-890694209320",
   "metadata": {
    "tags": []
   },
   "outputs": [],
   "source": [
    "# %load ./SolutionsToExercises/CTM/rdkit_paracetamol.py"
   ]
  },
  {
   "cell_type": "markdown",
   "id": "7d9355f7-9647-4846-bfeb-9b9debc70e1d",
   "metadata": {},
   "source": [
    "### Structures de Lewis"
   ]
  },
  {
   "cell_type": "markdown",
   "id": "c9516d97-8ee3-4384-8e58-d72461bbb332",
   "metadata": {},
   "source": [
    "<div class=\"ex\">\n",
    "\n",
    "Dans cette partie, vous pouvez entrer une molécule sous forme de **SMILES**  et le script calcule et produit automatiquement :  \n",
    "- les doublets non liants,  \n",
    "- les lacunes électroniques,  \n",
    "- un schéma annoté de la molécule,  \n",
    "- et des warnings si la règle de l’octet est dépassée ou si le SMILES n'est pas valide.  \n",
    "\n",
    "Voici quelques exemples que vous pouvez tester\n",
    "- Eau : `O`  \n",
    "- Ammoniac : `N`  \n",
    "- Dioxygène : `O=O`  \n",
    "- Trifluorure de bore : `B(F)(F)(F)` (exemple de composé où B est **déficient en électrons**)\n",
    "- Dioxyde de carbone : `O=C=O`  \n",
    "- Hexafluorure de soufre : `S(F)(F)(F)(F)(F)(F)` (exemple de composé où S est **hypervalent**)\n",
    "- l'iodure de méthylmagnésium : `[CH3][Mg][I]` (exemple de composé où Mg est **déficient en électrons**)\n",
    "\n",
    "</div>"
   ]
  },
  {
   "cell_type": "code",
   "execution_count": null,
   "id": "54256b11",
   "metadata": {},
   "outputs": [],
   "source": [
    "# entrez votre code dans cette cellule \"Python\"\n",
    "\n"
   ]
  },
  {
   "cell_type": "markdown",
   "id": "c1d6df34-3d03-44f2-b20b-d78a219d6f3b",
   "metadata": {},
   "source": [
    "<div class=\"solFr\">\n",
    "\n",
    "Vous voulez une solution possible à cet exercice ? Décommentez la commande `# %load ./SolutionsToExercises/...` ci-dessous (*il faut exécuter deux fois le contenu de la cellule : la première fois pour charger le contenu du fichier python et la deuxième pour exécuter le code python qui a été charge*) \n",
    "\n",
    "</div>"
   ]
  },
  {
   "cell_type": "code",
   "execution_count": null,
   "id": "6dee6252",
   "metadata": {
    "tags": []
   },
   "outputs": [],
   "source": [
    "# %load ./SolutionsToExercises/CTM/rdkit_Lewis_simple.py"
   ]
  },
  {
   "cell_type": "markdown",
   "id": "2c1777c5-09bb-4a4f-a45a-821226f99da8",
   "metadata": {},
   "source": [
    "<div class=\"ex\">\n",
    "\n",
    "Entrez le SMILES de la molécule de monoxyde de carbone. On rappelle que le code pour une liaison triple est #.\n",
    "\n",
    "En cas d'affichage d'un message d'erreur, peut-être est-ce le SMILES qui est incorrect. Consultez le cours et les TD, ainsi que la [page PubChem du monoxyde de carbone](https://pubchem.ncbi.nlm.nih.gov/compound/Carbon-Monoxide#section=Names-and-Identifiers), où vous trouverez le SMILES correct\n",
    "\n",
    "</div>"
   ]
  },
  {
   "cell_type": "code",
   "execution_count": null,
   "id": "6d2b7558-e753-48a6-a7c6-bdce0b8ca517",
   "metadata": {},
   "outputs": [],
   "source": [
    "# entrez votre code dans cette cellule \"Python\"\n",
    "\n"
   ]
  },
  {
   "cell_type": "markdown",
   "id": "8cd5b4d0-66b7-4acf-9219-f1923eb26ba7",
   "metadata": {},
   "source": [
    "<div class=\"solFr\">\n",
    "\n",
    "Vous voulez une solution possible à cet exercice ? Décommentez la commande `# %load ./SolutionsToExercises/...` ci-dessous (*il faut exécuter deux fois le contenu de la cellule : la première fois pour charger le contenu du fichier python et la deuxième pour exécuter le code python qui a été charge*) \n",
    "\n",
    "</div>"
   ]
  },
  {
   "cell_type": "code",
   "execution_count": null,
   "id": "99e667cd-051c-4d8a-9721-8e58749be2a0",
   "metadata": {
    "tags": []
   },
   "outputs": [],
   "source": [
    "# %load ./SolutionsToExercises/CTM/rdkit_Lewis_CO.py"
   ]
  },
  {
   "cell_type": "markdown",
   "id": "cdc81825-2376-44e2-8a3f-225e6823447b",
   "metadata": {},
   "source": [
    "<div class=\"ex\">\n",
    "\n",
    "Entrez le SMILES des molécules suivantes\n",
    "\n",
    "- l'acide phosphorique, `\"P(=O)(O)(O)(O)\"`\n",
    "- le tétrafluorure de xénon, `\"[Xe](F)(F)(F)(F)\"`\n",
    "- la molécule de purine, `\"C1=C2C(=NC=N1)N=CN2\"`\n",
    "- le tétrafluoroborate, BF<sub>4</sub><sup>–</sup>\n",
    "\n",
    "</div>"
   ]
  },
  {
   "cell_type": "code",
   "execution_count": null,
   "id": "ec4aa910-d5fa-4341-a4be-c1aa4a043ea3",
   "metadata": {},
   "outputs": [],
   "source": [
    "# entrez votre code dans cette cellule \"Python\"\n",
    "\n"
   ]
  },
  {
   "cell_type": "markdown",
   "id": "e8fa0a1a-9a90-4ff6-88e9-1fbbf9bab3a0",
   "metadata": {},
   "source": [
    "<div class=\"solFr\">\n",
    "\n",
    "Vous voulez une solution possible à cet exercice ? Décommentez la commande `# %load ./SolutionsToExercises/...` ci-dessous (*il faut exécuter deux fois le contenu de la cellule : la première fois pour charger le contenu du fichier python et la deuxième pour exécuter le code python qui a été charge*) \n",
    "\n",
    "</div>"
   ]
  },
  {
   "cell_type": "code",
   "execution_count": null,
   "id": "ff791a89-2cc7-4f16-a977-f71270bdf3b8",
   "metadata": {
    "tags": []
   },
   "outputs": [],
   "source": [
    "# %load ./SolutionsToExercises/CTM/rdkit_Lewis_autres.py"
   ]
  },
  {
   "cell_type": "markdown",
   "id": "3b158411-2def-4275-b0e3-e36a3f938f4e",
   "metadata": {},
   "source": [
    "### Conjugaison\n",
    "\n",
    "<div class=\"ex\" title=\" Liaisons π localisées et délocalisées\">\n",
    "\n",
    "On considère les composés suivants :\n",
    "\n",
    "<img src=\"MiscImages/Exercises/pi-localisés-délocalisés.png\" style=\"margin-left:auto; margin-right:auto; display: block; width:400px\" id=\"img_MolConji\" alt=\"systèmes pi conjugués ou non?\"/>\n",
    "\n",
    "**1.** Identifiez, d'après vos connaissances, ceux dont les liaisons π sont localisées ou délocalisées.\n",
    "\n",
    "**2.** Vérifiez graphiquement vos réponses à l'aide de la fonction `show_mol()` de `rdkit_madeSimpler`, sachant que leurs codes SMILES sont : \n",
    "- 1: `C=CC=C`\n",
    "- 2 : `C/C=C/C`\n",
    "- 3 : `C=CCC=C`\n",
    "- 4 : `C1C=CC=C1`\n",
    "- 5 : `C1CC=CC1`\n",
    "- 6 : `C1C(C=CC1=C)=C`\n",
    "- 7 : `C1CCC=CC1`\n",
    "- 8 : `C1=CC=CC=C1`\n",
    "\n",
    "Indiquer le numéro du composé dans la légende de chaque schéma.\n",
    "\n",
    "**3.** Affichez les états d'hybridation des composés 3 et 6.\n",
    "</div>"
   ]
  },
  {
   "cell_type": "code",
   "execution_count": null,
   "id": "640685a9-0cb5-4efe-b417-549dbe059176",
   "metadata": {},
   "outputs": [],
   "source": [
    "# entrez votre code dans cette cellule \"Python\"\n",
    "\n",
    "#Q2\n",
    "\n",
    "#Q3\n"
   ]
  },
  {
   "cell_type": "markdown",
   "id": "dadf3ab1-ee27-4285-8595-ed6734eb23f5",
   "metadata": {},
   "source": [
    "<div class=\"solFr\">\n",
    "\n",
    "Vous voulez une solution possible à cet exercice ? Décommentez la commande `# %load ./SolutionsToExercises/...` ci-dessous (*il faut exécuter deux fois le contenu de la cellule : la première fois pour charger le contenu du fichier python et la deuxième pour exécuter le code python qui a été charge*) \n",
    "\n",
    "</div>"
   ]
  },
  {
   "cell_type": "code",
   "execution_count": null,
   "id": "380b24da-1f26-44d6-a758-2451207e835a",
   "metadata": {
    "tags": []
   },
   "outputs": [],
   "source": [
    "# %load ./SolutionsToExercises/CTM/rdkit_piLocDeloc.py"
   ]
  },
  {
   "cell_type": "markdown",
   "id": "2951c475-b956-4666-b4da-84890ae2354e",
   "metadata": {},
   "source": [
    "## Want to know more about Python?\n",
    "\n",
    "<div class=\"intro\">\n",
    "\n",
    "- [\"Python in the Physical Chemistry Lab (PPCL)\" in a nutshell (pyPhysChem)/Eng](./PPCL.ipynb). Écrit dans un contexte physico-chimique et pour un apprentissage progressif, et un peu superficiel. Des tas de notions ne sont pas abordées, mais c'est un bon point de départ pour survoler le sujet\n",
    "- Le tutoriel python de référence :\n",
    "    - [en Français](https://docs.python.org/fr/3/tutorial/)\n",
    "    - [in English](https://docs.python.org/3/tutorial/index.html)\n",
    "</div>"
   ]
  },
  {
   "cell_type": "markdown",
   "id": "2855956b-abbf-4d22-a9f5-ca87559bd04a",
   "metadata": {},
   "source": [
    "## Fin... provisoire"
   ]
  },
  {
   "cell_type": "code",
   "execution_count": null,
   "id": "d8a65063-d6e4-4da5-b5f3-8c809f9545aa",
   "metadata": {},
   "outputs": [],
   "source": [
    "print(f\"Ceci est la version {__version__}\")"
   ]
  },
  {
   "cell_type": "code",
   "execution_count": null,
   "id": "8320ad0b-06ee-4903-bca4-2aa28e0b5985",
   "metadata": {},
   "outputs": [],
   "source": [
    "vID.end(cwd0)"
   ]
  },
  {
   "cell_type": "code",
   "execution_count": null,
   "id": "6305ecf5-d785-4012-8bb2-74ac91218794",
   "metadata": {},
   "outputs": [],
   "source": []
  }
 ],
 "metadata": {
  "kernelspec": {
   "display_name": "Python 3 (ipykernel)",
   "language": "python",
   "name": "python3"
  },
  "language_info": {
   "codemirror_mode": {
    "name": "ipython",
    "version": 3
   },
   "file_extension": ".py",
   "mimetype": "text/x-python",
   "name": "python",
   "nbconvert_exporter": "python",
   "pygments_lexer": "ipython3",
   "version": "3.11.13"
  }
 },
 "nbformat": 4,
 "nbformat_minor": 5
}
