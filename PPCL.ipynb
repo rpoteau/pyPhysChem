{
 "cells": [
  {
   "cell_type": "code",
   "execution_count": 1,
   "id": "c8f0e76a-d0dc-4db7-8a3e-a642f2fe1b7e",
   "metadata": {},
   "outputs": [
    {
     "name": "stdout",
     "output_type": "stream",
     "text": [
      "/home/romuald/ENSEIGNEMENT/1-JupyterNotebooks/pyPhysChem\n"
     ]
    },
    {
     "data": {
      "text/html": [
       "<style>\n",
       "h1, h2, h3, h4, h5, h6 {\n",
       "  font-family: Verdana, \"DejaVu Sans\", \"Bitstream Vera Sans\", Geneva, sans-serif;\n",
       "  font-weight: bold;\n",
       "}\n",
       "body, intro, introE, introT, rq, rqE, rqT, ex, exE, app, appE, sol, todo, hint, hintE, figure  {\n",
       "  font-family: Verdana, \"DejaVu Sans\", \"Bitstream Vera Sans\", Geneva, sans-serif;\n",
       "  font-weight: 400;\n",
       "  font-size: 12px;\n",
       "}\n",
       "h1 {\n",
       "  border: 0 solid #333;\n",
       "  padding: 30px ;\n",
       "  color: white;\n",
       "  background: #b11d01;\n",
       "  text-align: center;\n",
       "}\n",
       "h2 {\n",
       "  border: 3px solid #333;\n",
       "  padding: 18px ;\n",
       "  color: #b11d01;\n",
       "  background: #ffffff;\n",
       "  text-align: center;\n",
       "}\n",
       "h3 {\n",
       "  border: 0 solid #333;\n",
       "  padding: 12px ;\n",
       "  color: #000000;\n",
       "  background: #c1c1c1;\n",
       "  text-align: left;\n",
       "}\n",
       "h4 {\n",
       "  border: 0 solid #333;\n",
       "  padding: 2px ;\n",
       "  color: #000000;\n",
       "  background: #d9fffc;\n",
       "  text-align: left;\n",
       "}\n",
       "h5 {\n",
       "  border: 1px solid #333;\n",
       "  padding: 2px ;\n",
       "  color: #000000;\n",
       "  background: #ffffff;\n",
       "  text-align: left;\n",
       "}\n",
       ".introT::before {    \n",
       "    content: attr(title);\n",
       "    background-color: #cecece;\n",
       "    margin-left:-0.5em;\n",
       "    margin-right:-0.5em;\n",
       "    padding-left:0.5em;\n",
       "    padding-right:0.5em;\n",
       "    font-weight: 600;\n",
       "    display: block;\n",
       "}\n",
       ".introT {    \n",
       "    background-color: #cecece80;\n",
       "    border-color: #969696;\n",
       "    border-left: 5px solid #969696;\n",
       "    padding: 0.5em;\n",
       "}\n",
       ".intro {    \n",
       "    background-color: #cecece80;\n",
       "    border-color: #969696;\n",
       "    border-left: 5px solid #969696;\n",
       "    padding: 0.5em;\n",
       "}\n",
       ".introE {    \n",
       "    background-color: #cecece80;\n",
       "    border-color: #969696;\n",
       "    border-left: 5px solid #969696;\n",
       "    padding: 0.5em;\n",
       "    color : #117996;\n",
       "}\n",
       ".rq::before {    \n",
       "    background-color: #fcd3d3;\n",
       "    color: #ff0000;\n",
       "    content:\"Remarque\";\n",
       "    margin-left:-0.5em;\n",
       "    margin-right:-0.5em;\n",
       "    padding-left:0.5em;\n",
       "    padding-right:0.5em;\n",
       "    font-weight: 600;\n",
       "    display: block;\n",
       "}\n",
       ".rq {    \n",
       "    background-color: #fcf2f2;\n",
       "    border-color: #dFb5b4;\n",
       "    border-left: 5px solid #dfb5b4;\n",
       "    padding: 0.5em;\n",
       "}\n",
       ".rqE::before {    \n",
       "    background-color: #fcd3d3;\n",
       "    color: #ff0000;\n",
       "    content:\"Pay attention\";\n",
       "    margin-left:-0.5em;\n",
       "    margin-right:-0.5em;\n",
       "    padding-left:0.5em;\n",
       "    padding-right:0.5em;\n",
       "    font-weight: 600;\n",
       "    display: block;\n",
       "}\n",
       ".rqE {    \n",
       "    background-color: #fcd3d380;\n",
       "    border-color: #dFb5b4;\n",
       "    border-left: 5px solid #dfb5b4;\n",
       "    padding: 0.5em;\n",
       "}\n",
       ".rqT::before {    \n",
       "    background-color: #fcd3d3;\n",
       "    color: #ff0000;\n",
       "    content: attr(title);\n",
       "    margin-left:-0.5em;\n",
       "    margin-right:-0.5em;\n",
       "    padding-left:0.5em;\n",
       "    padding-right:0.5em;\n",
       "    font-weight: 600;\n",
       "    display: block;\n",
       "}\n",
       ".rqT {    \n",
       "    background-color: #fcd3d380;\n",
       "    border-color: #dFb5b4;\n",
       "    border-left: 5px solid #dfb5b4;\n",
       "    padding: 0.5em;\n",
       "}\n",
       ".exold {    \n",
       "    background-color: #b2dbea80;\n",
       "    border-color: #0055ff;\n",
       "    border-left: 10px solid #0055ff;\n",
       "    padding: 0.5em;\n",
       "}\n",
       ".ex {    \n",
       "    background-color: #b2dbea80;\n",
       "    padding: 0.5em;\n",
       "    padding-top: 0em;\n",
       "    position:relative;\n",
       "}\n",
       ".ex::before {\n",
       "    background-color: #b2dbea;\n",
       "    content:\"Exercice. \" attr(title);\n",
       "    margin-left:-0.5em;\n",
       "    margin-right:-0.5em;\n",
       "    padding-left:0.5em;\n",
       "    padding-right:0.5em;\n",
       "    font-weight: 600;\n",
       "    display: block;\n",
       "}\n",
       ".exE {    \n",
       "    background-color: #b2dbea80;\n",
       "    padding: 0.5em;\n",
       "    padding-top: 0em;\n",
       "    position:relative;\n",
       "    color : #117996;\n",
       "}\n",
       ".exE::before {\n",
       "    background-color: #b2dbea;\n",
       "    content:\"Exercise. \" attr(title);\n",
       "    margin-left:-0.5em;\n",
       "    margin-right:-0.5em;\n",
       "    padding-left:0.5em;\n",
       "    padding-right:0.5em;\n",
       "    font-weight: 600;\n",
       "    display: block;\n",
       "    color : #117996;\n",
       "}\n",
       ".hint {    \n",
       "    background-color: #dede6f80;\n",
       "    padding: 0.5em;\n",
       "    padding-top: 0em;\n",
       "    position:relative;\n",
       "    color : ##37665f;\n",
       "}\n",
       ".hint::before {\n",
       "    background-color: #dede6f;\n",
       "    content:\"Indice(s). \" attr(title);\n",
       "    margin-left:-0.5em;\n",
       "    margin-right:-0.5em;\n",
       "    padding-left:0.5em;\n",
       "    padding-right:0.5em;\n",
       "    font-weight: 600;\n",
       "    display: block;\n",
       "    color : ##37665f;\n",
       "}\n",
       ".hintE {    \n",
       "    background-color: #dede6f80;\n",
       "    padding: 0.5em;\n",
       "    padding-top: 0em;\n",
       "    position:relative;\n",
       "    color : ##37665f;\n",
       "}\n",
       ".hintE::before {\n",
       "    background-color: #dede6f;\n",
       "    content:\"Hint(s). \" attr(title);\n",
       "    margin-left:-0.5em;\n",
       "    margin-right:-0.5em;\n",
       "    padding-left:0.5em;\n",
       "    padding-right:0.5em;\n",
       "    font-weight: 600;\n",
       "    display: block;\n",
       "    color : ##37665f;\n",
       "}\n",
       ".app {    \n",
       "    background-color: #b2dbea80;\n",
       "    padding: 0.5em;\n",
       "    padding-top: 0em;\n",
       "    position:relative;\n",
       "}\n",
       ".app::before {\n",
       "    background-color: #b2dbea;\n",
       "    content:\"Application\";\n",
       "    margin-left:-0.5em;\n",
       "    margin-right:-0.5em;\n",
       "    padding-left:0.5em;\n",
       "    padding-right:0.5em;\n",
       "    font-weight: 600;\n",
       "    display: block;\n",
       "}\n",
       ".appE {    \n",
       "    background-color: #b2dbea80;\n",
       "    padding: 0.5em;\n",
       "    padding-top: 0em;\n",
       "    color : #117996;\n",
       "    position:relative;\n",
       "}\n",
       ".appE::before {\n",
       "    background-color: #b2dbea;\n",
       "    content:\"Application\";\n",
       "    margin-left:-0.5em;\n",
       "    margin-right:-0.5em;\n",
       "    padding-left:0.5em;\n",
       "    padding-right:0.5em;\n",
       "    font-weight: 600;\n",
       "    color : #117996;\n",
       "    display: block;\n",
       "}\n",
       ".solFr {    \n",
       "    background-color: #bbeab880;\n",
       "    padding: 0.5em;\n",
       "    padding-top: 0em;\n",
       "    position:relative;\n",
       "}\n",
       ".solFr::before {\n",
       "    background-color: #bbeab8;\n",
       "    content:\"Solution\";\n",
       "    margin-left:-0.5em;\n",
       "    margin-right:-0.5em;\n",
       "    padding-left:0.5em;\n",
       "    padding-right:0.5em;\n",
       "    font-weight: 600;\n",
       "    display: block;\n",
       "}.sol {    \n",
       "    background-color: #bbeab880;\n",
       "    padding: 0.5em;\n",
       "    padding-top: 0em;\n",
       "    position:relative;\n",
       "}\n",
       ".sol::before {\n",
       "    background-color: #bbeab8;\n",
       "    content:\"Answer\";\n",
       "    margin-left:-0.5em;\n",
       "    margin-right:-0.5em;\n",
       "    padding-left:0.5em;\n",
       "    padding-right:0.5em;\n",
       "    font-weight: 600;\n",
       "    display: block;\n",
       "}\n",
       ".com {    \n",
       "    background-color: #ffff7f80;\n",
       "    padding: 0.5em;\n",
       "    padding-top: 0em;\n",
       "    position:relative;\n",
       "}\n",
       ".com::before {\n",
       "    background-color: #ffff7f;\n",
       "    content:\"Comment.\";\n",
       "    margin-left:-0.5em;\n",
       "    margin-right:-0.5em;\n",
       "    padding-left:0.5em;\n",
       "    padding-right:0.5em;\n",
       "    font-weight: 600;\n",
       "    display: block;\n",
       "}\n",
       "div.todo:before {\n",
       "    content:url(data:image/png;base64,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);\n",
       "    float:left;\n",
       "    margin-left:20px;\n",
       "    margin-right:20px;\n",
       "    margin-top:20px;\n",
       "    margin-bottom:20px;\n",
       "}\n",
       "div.todo{\n",
       "    font-size: 1.1em;\n",
       "    margin-top:40px;\n",
       "    background-color: #b2dbea80;\n",
       "}\n",
       "div.todo ul{\n",
       "    margin: 0.2em;\n",
       "}\n",
       "div.todo li{\n",
       "    margin-left:60px;\n",
       "    margin-top:0;\n",
       "    margin-bottom:0;\n",
       "}\n",
       "\n",
       "figure {\n",
       "    border: 0px;\n",
       "    text-align: center;\n",
       "    margin: 5px; /* adjust as needed */\n",
       "    display: block;\n",
       "    margin: auto;\n",
       "}\n",
       "figure img {\n",
       "    vertical-align: top;\n",
       "    text-align: center;\n",
       "    display: block;\n",
       "    margin: auto;\n",
       "}\n",
       "figure figcaption {\n",
       "    border: 0px;\n",
       "    text-align: center;\n",
       "    font-size: 11px;\n",
       "    margin: auto;\n",
       "}\n",
       "\n",
       "</style>\n"
      ],
      "text/plain": [
       "<IPython.core.display.HTML object>"
      ]
     },
     "metadata": {},
     "output_type": "display_data"
    },
    {
     "data": {
      "text/markdown": [
       "**Start at:** Monday 25 November 2024, 10:49:46  \n",
       "**Hostname:** localhost.localdomain (Linux)"
      ],
      "text/plain": [
       "<IPython.core.display.Markdown object>"
      ]
     },
     "metadata": {},
     "output_type": "display_data"
    },
    {
     "data": {
      "text/markdown": [
       "<p style=\"text-align: center\"><img width=\"800px\" src=\"./config/svg/pyPhysChemBanner.svg\" style=\"margin-left:auto; margin-right:auto\"/></p>"
      ],
      "text/plain": [
       "<IPython.core.display.Markdown object>"
      ]
     },
     "metadata": {},
     "output_type": "display_data"
    }
   ],
   "source": [
    "import os\n",
    "import sys\n",
    "\n",
    "print(os.getcwd())\n",
    "cwd0 = './config/'\n",
    "sys.path.append(cwd0)\n",
    "\n",
    "import visualID_Eng as vID\n",
    "from visualID_Eng import color\n",
    "vID.init(cwd0)\n",
    "import tools4pyPhysChem as t4pPC\n",
    "\n",
    "__author__ = \"romuald.poteau@univ-tlse3.fr\"\n",
    "__version__ = \"20241110\""
   ]
  },
  {
   "cell_type": "markdown",
   "id": "7da5f784-11d5-4b2a-8f4a-659939ba129d",
   "metadata": {},
   "source": [
    "# \"Python in the Physical Chemistry Lab (PPCL)\" in a nutshell\n",
    "\n",
    "<a href=\"https://en.wikipedia.org/wiki/Monty_Python\" target=\"_blank\"><img src=\"MiscImages/MontyPythonsFlyingCircus.png\" style=\"margin-left:auto; margin-right:auto; display: block; width:400px\" id=\"img_MontyPython\" alt=\"Monty Python's Flying Circus\"/></a>\n",
    "\n",
    "<div class=\"introT\" title=\"Why python?\">\n",
    "\n",
    "- it's free\n",
    "- it's powerful\n",
    "- it has numerous libraries for data analysis, scientific computing and machine learning\n",
    "- it's object-oriented\n",
    "- it's portable\n",
    "- it's easy to learn\n",
    "- it's easy to use and understand\n",
    "- it's named after Monty Python (Python creator Guido van Rossum named it after the BBC comedy series [*Monty Python’s Flying Circus*](https://en.wikipedia.org/wiki/Monty_Python%27s_Flying_Circus))\n",
    "\n",
    "</div>\n",
    "<br>\n",
    "<div class=\"rqE\">\n",
    "\n",
    "**This Python computer lab assumes a very basic knowledge of a programming language and algorithm development.**\n",
    "\n",
    "</div>\n"
   ]
  },
  {
   "cell_type": "markdown",
   "id": "dde1fdf8-50b8-4957-815d-70c8174dce0e",
   "metadata": {},
   "source": [
    "## Getting started with Jupyter notebooks and Jupyter-lab\n",
    "\n",
    "<div class=\"intro\">\n",
    "\n",
    "**JupyterLab** is a powerful, flexible interface for creating and sharing documents that combine live code, equations, visualizations, and narrative text.  Here’s a quick guide to help you get started:\n",
    "\n",
    "**1. Opening JupyterLab**\n",
    "- Launch JupyterLab by running `jupyter-lab` in your command line or terminal. This will open the JupyterLab interface in your browser.\n",
    "- The interface includes a file browser on the left (&#128193; icon), where you can navigate to open an existing notebook (.ipynb file) or create a new one.\n",
    "\n",
    "**2. Working in JupyterLab**\n",
    "- Each notebook consists of cells, and there are mainly two types:\n",
    "  - **Code cells** for writing and executing code (e.g., Python).\n",
    "  - **Markdown cells** for formatted text, headers, lists, figures and equations. It is closely related to the HTML language\n",
    "- To switch cell types, click on a cell, and choose the type from the toolbar or right-click menu.\n",
    "\n",
    "**3. Running Code**\n",
    "- To run a code cell, click anywhere inside it and press `Shift + Enter`. The output (if any) will appear just below the cell.\n",
    "- Alternatively, use the “Run” button in the toolbar.\n",
    "    <img src=\"MiscImages/ToolbarJupyterNotebook.svg\" style=\"margin-left:auto; margin-right:auto; display: block; width:300px\" id=\"img_TBJN\" alt=\"Jupyter notebook toolbar\"/>\n",
    "\n",
    "**4. Saving and Organizing Your Work**\n",
    "- JupyterLab autosaves frequently, but you can manually save by pressing `Ctrl + S` or clicking the save icon.\n",
    "- JupyterLab allows you to organize multiple notebooks, text files, and consoles in a tabbed workspace, making it easier to manage multiple files or analyses in one session.\n",
    "\n",
    "**5. Additional Tips**\n",
    "- Restarting the kernel clears all stored variables and data, helping to resolve unexpected results and recover from errors or crashes. You can applly this operation from the “Kernel” menu to reset your session.\n",
    "- JupyterLab supports a range of extensions to enhance functionality, from version control to additional plotting tools, which you can access through the extension manager.\n",
    "- If you click on a Mardown cell by accident, you will see the coding. The corresponding formatted text, images, tables or equations will be rendered by running the cell (`Shift + Enter` or play button)\n",
    "\n",
    "**Ready?** Put down your mobile phone &#x1F4F5;, please, and let's enter into the Python realm. &#x1F451;&#x1F40D;&#x1F451;\n",
    "\n",
    "</div>"
   ]
  },
  {
   "cell_type": "markdown",
   "id": "8aafe844-adc8-4de0-9853-92da56380b9a",
   "metadata": {},
   "source": [
    "## First steps\n",
    "\n",
    "<div class=\"intro\">\n",
    "\n",
    "Let's start this Python interactive session with basic operations\n",
    "</div>"
   ]
  },
  {
   "cell_type": "code",
   "execution_count": 2,
   "id": "c5ca8ecf-9e92-4880-a35d-6e7acaf0b485",
   "metadata": {},
   "outputs": [
    {
     "data": {
      "text/plain": [
       "11"
      ]
     },
     "execution_count": 2,
     "metadata": {},
     "output_type": "execute_result"
    }
   ],
   "source": [
    "# Every line that starts with a # character is a comment\n",
    "\n",
    "# addition\n",
    "3 + 8 # it a also possible to add a comment after a command"
   ]
  },
  {
   "cell_type": "code",
   "execution_count": 3,
   "id": "31382ecd-477f-46cb-b2fd-848261ba9331",
   "metadata": {},
   "outputs": [
    {
     "data": {
      "text/plain": [
       "3.5"
      ]
     },
     "execution_count": 3,
     "metadata": {},
     "output_type": "execute_result"
    }
   ],
   "source": [
    "#This is a new cell. It is possible to define several operations or commands in a cell\n",
    "# multiplication\n",
    "3*2\n",
    "\n",
    "#division\n",
    "7/2"
   ]
  },
  {
   "cell_type": "code",
   "execution_count": 4,
   "id": "9da162e5-9d01-4d87-a921-e2333efcdc87",
   "metadata": {},
   "outputs": [
    {
     "name": "stdout",
     "output_type": "stream",
     "text": [
      "6\n",
      "3.5\n"
     ]
    }
   ],
   "source": [
    "# As you can understand, only the result of the last operation is shown in Jupyter notebooks' cells\n",
    "# Let's use the print command to see the outcome of each operation\n",
    "print(3*2)\n",
    "print(7/2)"
   ]
  },
  {
   "cell_type": "markdown",
   "id": "b529e884-225d-4cd5-be80-84f363bfe0e2",
   "metadata": {},
   "source": [
    "<div class=\"rqE\">\n",
    "\n",
    "**It's not very convenient to print operations, isn't it?** &#x1F615; This '*last operation show-up*' is specific to Jupyter Notebooks.\n",
    "\n",
    "There is actually a trick that consists in importing a so-called `InteractiveShell` and then to setup a config option\n",
    "</div>"
   ]
  },
  {
   "cell_type": "code",
   "execution_count": null,
   "id": "8930f4da-e6fc-4414-9e67-9f4c72f59ce1",
   "metadata": {},
   "outputs": [],
   "source": [
    "#these two lines can be added at the beginning of a Jupyter notebook if you find this behavior more convenient\n",
    "# !! this configuration will be applied from the next executed cell\n",
    "from IPython.core.interactiveshell import InteractiveShell\n",
    "InteractiveShell.ast_node_interactivity = \"all\"\n",
    "\n",
    "# InteractiveShell.ast_node_interactivity = \"none\" reverts the situation"
   ]
  },
  {
   "cell_type": "code",
   "execution_count": 5,
   "id": "9528c24c-5c9e-448b-95fe-bff70fd40ede",
   "metadata": {},
   "outputs": [
    {
     "data": {
      "text/plain": [
       "5.196152422706632"
      ]
     },
     "execution_count": 5,
     "metadata": {},
     "output_type": "execute_result"
    }
   ],
   "source": [
    "3*2\n",
    "7/2\n",
    "\n",
    "#Euclidean division - or division with remainder\n",
    "7//2 #quotient\n",
    "7%2  #remainder\n",
    "\n",
    "#exponent\n",
    "10**2\n",
    "3**(3/2)\n",
    "(3**3)**(1/2)"
   ]
  },
  {
   "cell_type": "markdown",
   "id": "e882b771-864d-42b3-9220-fd40141f89e2",
   "metadata": {},
   "source": [
    "<div class=\"intro\">\n",
    "\n",
    "Now we want to use basic functions such as sine, cosine, logarithm, exponential, etc... Let's start first with the sine function, aka `sin`\n",
    "\n",
    "</div>"
   ]
  },
  {
   "cell_type": "code",
   "execution_count": 6,
   "id": "42f3d96c-d8e2-4e35-9966-5a5f2e672591",
   "metadata": {},
   "outputs": [
    {
     "ename": "NameError",
     "evalue": "name 'sin' is not defined",
     "output_type": "error",
     "traceback": [
      "\u001b[0;31m---------------------------------------------------------------------------\u001b[0m",
      "\u001b[0;31mNameError\u001b[0m                                 Traceback (most recent call last)",
      "Cell \u001b[0;32mIn[6], line 1\u001b[0m\n\u001b[0;32m----> 1\u001b[0m \u001b[43msin\u001b[49m(\u001b[38;5;241m10\u001b[39m)\n",
      "\u001b[0;31mNameError\u001b[0m: name 'sin' is not defined"
     ]
    }
   ],
   "source": [
    "sin(10)"
   ]
  },
  {
   "cell_type": "markdown",
   "id": "76b0c563-261a-4506-ab55-9d718bd17272",
   "metadata": {},
   "source": [
    "<div class=\"rqE\">\n",
    "\n",
    "`name 'sin' is not defined` !!??\n",
    "    \n",
    "**What the hell! This basic calculator is crap &#x1F4A9;!!???** Not exactly. But we need to use a math library that knows all the usual math functions. To do this, we need to import the libraries at some point in the python code, before calling the function\n",
    "    \n",
    "There are two main mathematical libraries: `math` and `numpy`.\n",
    "    \n",
    "Let's compare them in the next Python cell\n",
    "\n",
    "</div>"
   ]
  },
  {
   "cell_type": "code",
   "execution_count": 7,
   "id": "2effa44e-6ca4-44ba-b7f0-2f5124bd22d5",
   "metadata": {},
   "outputs": [
    {
     "data": {
      "text/plain": [
       "1.0"
      ]
     },
     "execution_count": 7,
     "metadata": {},
     "output_type": "execute_result"
    }
   ],
   "source": [
    "import math\n",
    "import numpy as np #np is now a shortcut for numpy\n",
    "\n",
    "#Hopefully, both functions will give the same values\n",
    "math.sin(3.1416/2)\n",
    "np.sin(3.1416/2)\n",
    "\n",
    "# by the way, the pi number is not known by default, it must be called either from the math or numpy libraries\n",
    "math.pi\n",
    "np.pi\n",
    "\n",
    "#let's now calculate the sine of pi. You can of course mix functions and variables from different libraries\n",
    "math.sin(math.pi/2)\n",
    "math.sin(np.pi/2)\n",
    "np.sin(math.pi/2)\n",
    "np.sin(np.pi/2)"
   ]
  },
  {
   "cell_type": "markdown",
   "id": "486afcdb-75a5-4df5-ad2b-49e8328a7d78",
   "metadata": {},
   "source": [
    "<div class=\"rqE\">\n",
    "\n",
    "**What is the best choice between `math` and `numpy`?** It depends. `math.sin` works on a single number, whilst the numpy version works on numpy arrays and is tremendously faster due to the benefits of vectorization. For the moment, this notion of arrays may seem obscure to you, but we will soon introduce them, together with lists.\n",
    "    \n",
    "All mathematical functions available in `numpy` are listed on [this webpage](https://numpy.org/doc/stable/reference/routines.math.html#), whereas those available in the `math` library are listed [here](https://docs.python.org/3/library/math.html). The `math` library is actually a module of the [Python Standard Library](https://docs.python.org/3/library/index.html#the-python-standard-library).\n",
    "\n",
    "</div>"
   ]
  },
  {
   "cell_type": "markdown",
   "id": "2f462887-6dbb-4b2a-891a-940e02ce679f",
   "metadata": {},
   "source": [
    "### Variables\n",
    "\n",
    "<div class=\"intro\">\n",
    "They are useful if you want to store a number to use later in another calculation.\n",
    "</div>"
   ]
  },
  {
   "cell_type": "code",
   "execution_count": 8,
   "id": "043f0075-2f52-4d60-b5af-611acfd148c5",
   "metadata": {
    "tags": []
   },
   "outputs": [
    {
     "name": "stdout",
     "output_type": "stream",
     "text": [
      "6\n"
     ]
    },
    {
     "data": {
      "text/plain": [
       "263.15"
      ]
     },
     "execution_count": 8,
     "metadata": {},
     "output_type": "execute_result"
    }
   ],
   "source": [
    "c = 2*3 #the result of the operation will not be displayed. You must use print to do so\n",
    "print(c)\n",
    "\n",
    "# Let's now use a variable to perform several celsius to kelvin conversions\n",
    "C2K = 273.15 #Don't make a mistake here, or all your calculations will be wrong\n",
    "C2K+25\n",
    "C2K+150\n",
    "C2K-10"
   ]
  },
  {
   "cell_type": "markdown",
   "id": "028278f2-bb0f-4c88-8825-2fe7706f8cda",
   "metadata": {},
   "source": [
    "<div class=\"rqE\">\n",
    "\n",
    "An alternative would be to systematically type in the 273.15 conversion factor or copy and paste its value every time you need it. This is a bad idea. In such a situation it is strongly recommended to use variables\n",
    "\n",
    "</div>"
   ]
  },
  {
   "cell_type": "code",
   "execution_count": 9,
   "id": "3640bdcb-277b-4c76-8e21-128e86fa7995",
   "metadata": {},
   "outputs": [
    {
     "ename": "NameError",
     "evalue": "name 'c2K' is not defined",
     "output_type": "error",
     "traceback": [
      "\u001b[0;31m---------------------------------------------------------------------------\u001b[0m",
      "\u001b[0;31mNameError\u001b[0m                                 Traceback (most recent call last)",
      "Cell \u001b[0;32mIn[9], line 3\u001b[0m\n\u001b[1;32m      1\u001b[0m \u001b[38;5;66;03m#let's use again the C2K conversion factor\u001b[39;00m\n\u001b[0;32m----> 3\u001b[0m \u001b[43mc2K\u001b[49m \u001b[38;5;241m+\u001b[39m \u001b[38;5;241m1047.3\u001b[39m\n",
      "\u001b[0;31mNameError\u001b[0m: name 'c2K' is not defined"
     ]
    }
   ],
   "source": [
    "#let's use again the C2K conversion factor\n",
    "\n",
    "c2K + 1047.3"
   ]
  },
  {
   "cell_type": "markdown",
   "id": "80814fef-2274-4c8c-a59a-b8c6c5e1b695",
   "metadata": {},
   "source": [
    "<div class=\"rqE\">\n",
    "\n",
    "what is actually illustrated here is that the `c2K` variable is unknown, as opposed to `C2K`. Yes, in Python **upper-case and lower-case letters are not the same**\n",
    "\n",
    "</div>"
   ]
  },
  {
   "cell_type": "code",
   "execution_count": 10,
   "id": "eac296f7-35d9-403f-b16d-8f1ffdfa3570",
   "metadata": {
    "tags": []
   },
   "outputs": [
    {
     "data": {
      "text/plain": [
       "1320.4499999999998"
      ]
     },
     "execution_count": 10,
     "metadata": {},
     "output_type": "execute_result"
    }
   ],
   "source": [
    "C2K + 1047.3"
   ]
  },
  {
   "cell_type": "markdown",
   "id": "e28bd108-3a1d-40e3-a743-11a50f39245a",
   "metadata": {},
   "source": [
    "<div class=\"intro\">\n",
    "\n",
    "Let's now use variables to apply the Law of Mass Action to the calculation of equilibrium constants. We introduce it by using a general chemical reaction equation in which reactants A and B react to give products C and D:\n",
    "    \n",
    "*a*A + *b*B = *c*C + *d*C\n",
    "    \n",
    "The mass action law states that if the system is at equilibrium at a given temperature *T*, then the following ratio is a constant, the so-called equilibrium constant *K*.\n",
    "\n",
    "$$\\frac{[\\mathrm{C}]_\\mathrm{eq}^c [\\mathrm{D}]_\\mathrm{eq}^d}{[\\mathrm{A}]_\\mathrm{eq}^a [\\mathrm{B}]_\\mathrm{eq}^b}=K$$\n",
    "\n",
    "Another useful quantity if the so-called Gibbs free energy change of the reaction, $\\Delta_rG°$, that is directly related to the equilibrium constant by to the following equation:\n",
    "    \n",
    "$$\\Delta_rG° = -RT \\ln K(T)$$\n",
    "    \n",
    "where *R* is the ideal gas constant, which is exactly 8.31446261815324 J⋅K$^{-1}$⋅mol$^{-1}$\n",
    "    \n",
    "There are several interests in calculating $\\Delta_rG°$, one of them being that its sign can be used to predict the ratio of products to reactants:\n",
    "    \n",
    "- if $\\Delta_rG°$ < 0, then $K$ > 1 ⟺ products are favored over reactants at equilibrium\n",
    "- if $\\Delta_rG°$ > 0, then $K$ < 1 ⟺ reactants are favored over products at equilibrium\n",
    "- if $\\Delta_rG°$ $\\sim$ 0, then $K$ $\\sim$ 1 ⟺ the amount of products will be roughly equal to the amount of reactants at equilibrium\n",
    "\n",
    "</div>\n",
    "\n",
    "<br>\n",
    "    \n",
    "<div class=\"app\">\n",
    "\n",
    "The decomposition reaction of N$_2$O$_4$ to NO$_2$ can be summarized as N$_2$O$_4$ = 2NO$_2$.\n",
    "\n",
    "Starting, at 25°C, from [N$_2$O$_4$]$_0$ = 0.0500 mol.L$^{-1}$, the N$_2$O$_4$ mixtures at equilibrium is found to be [N$_2$O$_4$]$_\\mathrm{eq}$ = 0.0417 mol⋅L$^{-1}$ and [NO$_2$]$_\\mathrm{eq}$ = 0.0165 mol.L$^{-1}$.\n",
    "\n",
    "**1.** Calculate *K* at 25°C.\n",
    "\n",
    "**2.** Then calculate $\\Delta_rG°$ for this reaction (hint: the natural logarithm can be either calculated by the `np.log` or `math.log` functions).\n",
    "</div>"
   ]
  },
  {
   "cell_type": "code",
   "execution_count": 11,
   "id": "ed73bf00-6ceb-48dc-bd76-0bed50127414",
   "metadata": {},
   "outputs": [],
   "source": [
    "# insert your code here\n",
    "\n",
    "#Q1\n",
    "\n",
    "#Q2\n",
    "\n"
   ]
  },
  {
   "cell_type": "markdown",
   "id": "77208d65-f499-4ea8-a710-a8163a7d0d1c",
   "metadata": {},
   "source": [
    "<div class=\"sol\">\n",
    "\n",
    "Want to see a possible answer? Uncomment the `# %load ./SolutionsToExercises/...` command below\n",
    "\n",
    "</div>"
   ]
  },
  {
   "cell_type": "code",
   "execution_count": 4,
   "id": "af6f9a38-c595-43de-bc92-a4f9314aeb0e",
   "metadata": {
    "tags": []
   },
   "outputs": [],
   "source": [
    "# %load ./SolutionsToExercises/PPCL/decompositionRx.py"
   ]
  },
  {
   "cell_type": "markdown",
   "id": "e5fe4328-9edd-4237-9d7f-c115d5e5b31e",
   "metadata": {},
   "source": [
    "### Physical and mathematical constants"
   ]
  },
  {
   "cell_type": "markdown",
   "id": "74f84cd7-23e2-4d2b-a637-2f37323509a4",
   "metadata": {},
   "source": [
    "<div class=\"intro\">\n",
    "\n",
    "The \"algorithmic\" is obviously less straightforward than the \"calculator\" way. **Yet, such longer piece of code is to be preferred.**\n",
    "- First, it is more readable. So if you save your notebook as a kind of well-organized calculation spreadsheet, you can later on use the same code and variables, or redo the same application\n",
    "- Secondly, it can be generalized in terms of a function that could be used several times. This is the purpose of the following subsection, which consists of defining a function with *T* and *K* as arguments, that will return $\\Delta_rG°$\n",
    "    \n",
    "But before that, it is time to introduce an interesting module that is worth to be known by physicists and chemists, the `constants` module of the SciPy library, where SciPy is is an open-source library for mathematics, science, and engineering. \n",
    "\n",
    "The list of constants is available [online](https://docs.scipy.org/doc/scipy/reference/constants.html). The code below illustrates how to call the module, and how to use the physical and mathematical constants.\n",
    "\n",
    "</div>"
   ]
  },
  {
   "cell_type": "code",
   "execution_count": null,
   "id": "2f48a0e3-23ed-4246-8b56-fa465b17c94b",
   "metadata": {},
   "outputs": [],
   "source": [
    "import scipy.constants as sc\n",
    "print(sc.value(\"molar gas constant\"))\n",
    "print(sc.unit(\"molar gas constant\"))\n",
    "\n",
    "print(sc.zero_Celsius) # it is not defined as a constant in SciPy, but with units\n",
    "\n",
    "# the previous code becomes:\n",
    "# Question 1\n",
    "CP = 0.0165 #as concentration of product\n",
    "CR = 0.0417 #as concentration of reactant\n",
    "K = CP**2/CR\n",
    "# Question 2\n",
    "R = sc.value(\"molar gas constant\") #the sc.unit(\"molar gas constant\") command let us know that it is defined in the SI\n",
    "C2K = sc.zero_Celsius\n",
    "T = C2K + 25\n",
    "DG = -R*T*math.log(K)\n",
    "print(K, DG)"
   ]
  },
  {
   "cell_type": "markdown",
   "id": "e63eb1d4-0e5e-48a5-9293-3d60bccc8a11",
   "metadata": {
    "tags": []
   },
   "source": [
    "### Formatted printing and significant figures\n",
    "\n",
    "<div class=\"intro\">\n",
    "\n",
    "As seen in the previous lines, we can easily print things to the screen. It is also possible to use \"\" and commas to print text, as done below:\n",
    "    \n",
    "</div>"
   ]
  },
  {
   "cell_type": "code",
   "execution_count": null,
   "id": "89a617f1-7a3b-4d34-b345-44d4ad60ddec",
   "metadata": {},
   "outputs": [],
   "source": [
    "print(\"K = \",K,\"   DeltaG = \",DG)"
   ]
  },
  {
   "cell_type": "markdown",
   "id": "f49c25f4-2a3b-47e8-a044-09650a6b7b2a",
   "metadata": {},
   "source": [
    "<div class=\"intro\">\n",
    "\n",
    "The `print` command displays as many digits as Python's precision allows: floating point numbers are represented with a precision of up to 15 significant digits. So how can you manage significant figures? Well, it is recommended to store floating point numbers in variables with the highest precision of Python, and to print them with the desired precision.\n",
    "\n",
    "To do so, we can specify how many significant figures we want overall, or we can specify how many significant figures we want after the decimal point. Let's start with the former, using the so-called f-string formatting of the `print` command. To specify a level of precision, we need to use a colon (:), followed by a decimal point, along with some integer representing the degree of precision. We place this inside the curly braces for an f-string, after the value we want to format.\n",
    "    \n",
    "What a loooooong explanation! &#x1F914; &#x1F635;&#x200D;&#x1F4AB; Let's move to the next Python cell to see that it's quite easy to understand and manage: \n",
    "    \n",
    "</div>"
   ]
  },
  {
   "cell_type": "code",
   "execution_count": null,
   "id": "1809e8e0-d4e8-4f45-b4c4-5e358882712a",
   "metadata": {},
   "outputs": [],
   "source": [
    "print(f\"K = {K:.4}  DeltaG = {DG:.4}\")\n",
    "print(\"This formatting operation actually performs rounding or converts a number in scientific notation, with the appropriate number of digits\")"
   ]
  },
  {
   "cell_type": "markdown",
   "id": "2e4a9ba5-0ea1-424b-bae7-33008e152e9d",
   "metadata": {},
   "source": [
    "<div class=\"intro\">\n",
    "So how do we specify 4 decimal places? We just need to add an `f`, which means that we want our floatting point number displayed as a \"fixed point number\":\n",
    "</div>"
   ]
  },
  {
   "cell_type": "code",
   "execution_count": null,
   "id": "70838774-243d-4af1-954f-711344c877f0",
   "metadata": {},
   "outputs": [],
   "source": [
    "print(f\"K = {K:.4f}  DeltaG = {DG:.4f}\")"
   ]
  },
  {
   "cell_type": "markdown",
   "id": "7857b8a5-4cd7-4533-8071-d950e9478ffb",
   "metadata": {},
   "source": [
    "## Lists and arrays"
   ]
  },
  {
   "cell_type": "markdown",
   "id": "f7939f38-cd4e-4280-aa6b-1af5e0ae09a2",
   "metadata": {},
   "source": [
    "### Lists\n",
    "\n",
    "<div class=\"intro\">\n",
    "    \n",
    "A list is a data structure that's built into Python and holds a collection of items. Their main characteristics are:\n",
    "\n",
    "- list items are enclosed in square brackets, like this: [item1, item2, item3]\n",
    "- lists are ordered – *i.e.* the items in the list appear in a specific order. This enables us to use an index to access to any item\n",
    "- it is possible to add or remove items after a list's creation\n",
    "- Elements can be of different data types: you can combine strings, integers, and objects in the same list\n",
    "\n",
    "Lists can be the preferred choice if you need to store a relatively short sequence of items and you don't plan to do any mathematical operations with it.\n",
    "\n",
    "Let's first start with a list that contains only integers. It will also be shown how to add new items to a list and how to remove an item:\n",
    "</div>"
   ]
  },
  {
   "cell_type": "code",
   "execution_count": null,
   "id": "87416f4b-17c0-4566-bf4b-bc2ca2adf815",
   "metadata": {},
   "outputs": [],
   "source": [
    "my_list = [3, 2, 10, 12, 3, 1]\n",
    "print(\"my_list = \",my_list)\n",
    "my_list.extend([6, 2, 8])\n",
    "print(\"my_list extended = \",my_list)\n",
    "del my_list[1]\n",
    "print(\"my_list after deletion of item [1] = \",my_list)\n",
    "type(my_list)"
   ]
  },
  {
   "cell_type": "markdown",
   "id": "922bec6c-a01c-4249-80b8-2c902d0f7277",
   "metadata": {},
   "source": [
    "<div class=\"rqE\">\n",
    "\n",
    "It's actually the second item that has been deleted. **It's because the list index starts with 0 in Python**. So, the index value of the first item is 0, that of the second item is 1, etc...\n",
    "\n",
    "</div>"
   ]
  },
  {
   "cell_type": "markdown",
   "id": "d73391f4-b3d6-44b4-a1f8-f1784c223d31",
   "metadata": {},
   "source": [
    "### Arrays\n",
    "\n",
    "<div class=\"intro\">\n",
    "    \n",
    "An array is also a data structure that stores a collection of items. Like lists, arrays are enclosed in square brackets, they are ordered, and they can be modified\n",
    "\n",
    "But the array's ability to store different data types is less obvious, it depends on the kind of array used.\n",
    "\n",
    "To use arrays in Python, you need to import either an `array` module or the `NumPy` package, which is the fundamental package for numerical computing in Python. `NumPy` arrays support different data types. Let's give an example:\n",
    "</div>"
   ]
  },
  {
   "cell_type": "code",
   "execution_count": null,
   "id": "31ab2fca-3109-4456-9293-c15c8cfbc589",
   "metadata": {},
   "outputs": [],
   "source": [
    "import numpy as np #np is now a shortcut for numpy\n",
    "\n",
    "my_array = np.array([3, 2, 10, 12, 3, 1])\n",
    "print(\"my_array = \",my_array) #you will see that items are not separated with commas\n",
    "print(\"item 1 of my_array = \",my_array[1])\n",
    "my_array = np.append(my_array,[55, 147, 309])\n",
    "print(\"my_array = \",my_array)\n",
    "type(my_array)"
   ]
  },
  {
   "cell_type": "markdown",
   "id": "4cd01830-c7c3-4b43-be9d-e75f8e09b0bb",
   "metadata": {},
   "source": [
    "<div class=\"rqE\">\n",
    "\n",
    "Arrays are great for numerical operations, whereas lists cannot directly handle math operations. **An important feature is that operations can simultaneously be applied to all array elements**. Let's illustrate this: \n",
    "\n",
    "</div>"
   ]
  },
  {
   "cell_type": "code",
   "execution_count": null,
   "id": "4b821013-53c6-4bae-b62c-fc698ca3f1f1",
   "metadata": {},
   "outputs": [],
   "source": [
    "array2 = 2*my_array - 1\n",
    "print(\"array2 = \",array2)"
   ]
  },
  {
   "cell_type": "code",
   "execution_count": null,
   "id": "2908312b-49ff-4469-b4f9-a25e18203c7c",
   "metadata": {},
   "outputs": [],
   "source": [
    "my_array = np.array([3, 2, 10, 12, 3, 1, \"Albert Einstein\"])\n",
    "print(my_array)\n",
    "array2 = 2*my_array - 1"
   ]
  },
  {
   "cell_type": "markdown",
   "id": "9d954b49-716a-45e2-b5a0-73fdfc515c12",
   "metadata": {},
   "source": [
    "<div class=\"rqE\">\n",
    "\n",
    "The last cell execution returned the following error. Why? It's because `my_array` contains both numbers (`int64` type, as integer) and strings (`<U21` type, as unicode). This `2*my_array` command generates an error, since it is not possible to do numerical applications on such hybrid arrays.\n",
    "\n",
    "\n",
    "```Python\n",
    "---------------------------------------------------------------------------\n",
    "UFuncTypeError                            Traceback (most recent call last)\n",
    "Input In [20], in <cell line: 3>()\n",
    "      1 my_array = np.array([3, 2, 10, 12, 3, 1, \"Albert Einstein\"])\n",
    "      2 print(my_array)\n",
    "----> 3 array2 = 2*my_array - 1\n",
    "\n",
    "UFuncTypeError: ufunc 'multiply' did not contain a loop with signature matching types (dtype('int64'), dtype('<U21')) -> None\n",
    "```\n",
    "\n",
    "</div>"
   ]
  },
  {
   "cell_type": "markdown",
   "id": "5663ef69-58b7-4e56-83b6-2964688c4741",
   "metadata": {
    "tags": []
   },
   "source": [
    "### How to easily read arrays from text files in Python?\n",
    "\n",
    "<div class=\"intro\">\n",
    "    \n",
    "Data files can be loaded into a Python code in several ways. We will concentrate here on the reading of data saved as columns under the so-called CSV format, using the `genfromtxt` function of the NumPy library. \n",
    "\n",
    "CSV stands for \"comma-separated values\". A CSV file is a delimited text file that uses a comma, or any other delimiter such a ; or TAB, etc... to separate values.\n",
    "A CSV file consists of one or more lines which consists of one or more values separated by commas. In addition, all the lines of a CSV file have the same number of values.\n",
    "\n",
    "Typically, you use a CSV file to store tabular data in plain text. The CSV file format is quite popular and supported by many software applications such as Microsoft Excel and Google Spreadsheet.read CSV files.\n",
    "    \n",
    "</div>\n",
    "\n",
    "<br>\n",
    "<div class=\"app\">\n",
    "    \n",
    "Let's now have a look at the content of a file named `VolcanoPlot-woA.csv`, contained in the `MiscData/` folder. If you open it with an editor, or directly with this Jupyter tool, you will see\n",
    "```\n",
    "DGads;log i0\n",
    "-12.876146;-6.5492228\n",
    "-8.5595008;-6.7668394\n",
    "-9.9983824;-5.7029361\n",
    "-6.3089424;-5.1830743\n",
    "-6.272048;-4.9775475\n",
    "-7.4526688;-2.8013817\n",
    "-3.3573904;-2.91019\n",
    "-2.3243472;-3.4784111\n",
    "-2.1029808;-2.5958549\n",
    "0.6272048;-3.611399\n",
    "1.8816144;-4.9654577\n",
    "4.3904336;-5.2314335\n",
    "10.441115;-6.3316062\n",
    "11.806208;-7.5889465\n",
    "17.008318;-7.4075993\n",
    "```\n",
    "\n",
    "The CSV file has a header row that includes the titles of each column. Each row in the file contains the same number of cells, which are separated by semicolons. \n",
    "\n",
    "You can also import it in a spreadsheet program, that will display:\n",
    "<img src=\"MiscData/VolcanoPlot-SpreadSheet-woA.png\" style=\"margin-left:auto; margin-right:auto; display: block; width:220px\" id=\"img_VolcanoPlotData\" alt=\"Volcano plot data for the hydrogen reaction\"/>\n",
    "\n",
    "**1.** Use the `genfromtxt` function of `numpy` to read the content of `MiscData/VolcanoPlot-woA.csv`. Don't forget to remove the first line, *i.e.* the header, and to setup the appropriate delimiter.\n",
    "\n",
    "**2.** Use again `genfromtxt` function of `numpy` to read the content of `MiscData/VolcanoPlot-woA.csv`. Now setup the `unpack` option to `True`. If True, the returned array is transposed, so that each column may be returned using, for example `x, y, z = genfromtxt(...)` for a 3-column CSV datafile.\n",
    "</div>"
   ]
  },
  {
   "cell_type": "code",
   "execution_count": null,
   "id": "fb3c570e-1f42-40be-adb0-599e1f80eab4",
   "metadata": {},
   "outputs": [],
   "source": [
    "#Q1\n",
    "data = np.genfromtxt(\"./MiscData/VolcanoPlot-woA.csv\",delimiter=\";\",skip_header=1)\n",
    "print(data)\n",
    "type(data)"
   ]
  },
  {
   "cell_type": "code",
   "execution_count": null,
   "id": "4588a5ed-54fe-4e33-8ead-910d5e333063",
   "metadata": {},
   "outputs": [],
   "source": [
    "#Q2\n",
    "DG, logi0 = np.genfromtxt(\"./MiscData/VolcanoPlot-woA.csv\", delimiter=\";\", skip_header=1, unpack=True)\n",
    "print(\"DeltaG = \",DG)\n",
    "print(\"log(i0) = \",logi0)"
   ]
  },
  {
   "cell_type": "markdown",
   "id": "4651727c-dcc7-4354-a662-bb4619e48010",
   "metadata": {},
   "source": [
    "## Functions and plotting, with a word about indentation\n",
    "\n",
    "<div class=\"intro\">\n",
    "    \n",
    "**Do you want to plot a function?** Then you need to know how to define it. Among other applications\n",
    "</div>\n",
    "\n",
    "\n",
    "### Definition of a function\n",
    "\n",
    "<div class=\"intro\">\n",
    "\n",
    "A function is a piece of code that we want to use multiple times but don't want to write out each time. This typically involves taking some input, manipulating the input and returning an output. It only runs when it is called. In Python a function is defined using the `def` keyword:\n",
    "```Python\n",
    "def my_function1(message):\n",
    "  print(message)\n",
    "```\n",
    "\n",
    "To call a function, use the function name followed by parenthesis. Arguments are specified inside the parentheses. You can add as many arguments as you want, just separate them with a comma.\n",
    "\n",
    "```Python\n",
    "my_function1(\"Hello from a function\")\n",
    "```\n",
    "\n",
    "This call will simply return `My message is:  Hello from a function`.\n",
    "\n",
    "Let's implement it:\n",
    "</div>"
   ]
  },
  {
   "cell_type": "code",
   "execution_count": null,
   "id": "8ec978a4-34b3-45db-8b8a-342239f06539",
   "metadata": {},
   "outputs": [],
   "source": [
    "def my_function1(message):\n",
    "    print(\"My message is: \",message)\n",
    "print(\"This is outside the function\")\n",
    "my_function1(\"Hello from a function\")"
   ]
  },
  {
   "cell_type": "markdown",
   "id": "21b18d2b-4e53-4482-be3b-9d28e4c70fee",
   "metadata": {},
   "source": [
    "<div class=\"rqE\">\n",
    "\n",
    "The `print(\"My message is: \",message)` statement belongs to an **indented block**, consisting in this case of one statement. The indentation tells Python which statements are in the function, and which are outside it.\n",
    "\n",
    "In the main block of the previous cell, you first print  `This is outside the function` and then you call  `my_function1`, that has been previously defined at the beginning of this cell.\n",
    "</div>\n",
    "<br>\n",
    "<div class=\"rqT\" title=\"Indented blocks\">\n",
    "With indented blocks, Python almost forces programmers to produce uniform, regular, and readable code. They must line up their code vertically, in columns, according to its logical structure\n",
    "</div>"
   ]
  },
  {
   "cell_type": "markdown",
   "id": "7d9677ee-2aec-48d0-808e-74522b7b03f0",
   "metadata": {},
   "source": [
    "<div class=\"intro\">\n",
    "    \n",
    "To let a function return a value, use the return statement:\n",
    "\n",
    "```\n",
    "def my_function2(a,b,x):\n",
    "  return a*x+b\n",
    "```\n",
    "\n",
    "For example, the call `my_function2(2,1,3)` will return `7`.\n",
    "\n",
    "You can either print it (`print(my_function2(2,1,3))`) or store it in a variable (`y = my_function2(2,1,3)`).\n",
    "\n",
    "</div>"
   ]
  },
  {
   "cell_type": "code",
   "execution_count": null,
   "id": "e63a733e-88e0-41b5-adac-d777b6a989ad",
   "metadata": {},
   "outputs": [],
   "source": [
    "def my_function2(a,b,x):\n",
    "  return a*x+b\n",
    "y = my_function2(2,1,3)\n",
    "print(y)"
   ]
  },
  {
   "cell_type": "markdown",
   "id": "14e3d885-b818-4741-8b21-e1dd9dadec6d",
   "metadata": {},
   "source": [
    "<div class=\"app\">\n",
    "\n",
    "We are now going to define a `DrG(K,T)` function that will return the standard change in free energy of a reaction, $\\Delta_rG°$, as a function of the equilibrium constant (*K*) and the temperature (*T*):\n",
    "$$\\Delta_rG° = -RT \\ln K(T)$$\n",
    "\n",
    "The function will start with a docstring section. They are documentation strings that are used as comments and they are added below a function or module to describe what it does.\n",
    "</div>"
   ]
  },
  {
   "cell_type": "code",
   "execution_count": null,
   "id": "ebb860cf-92e6-4d84-9bc5-d0256a4e5a2d",
   "metadata": {},
   "outputs": [],
   "source": [
    "# insert your code here\n"
   ]
  },
  {
   "cell_type": "markdown",
   "id": "34681a72-b7c8-43cc-85e2-ee9d29015806",
   "metadata": {},
   "source": [
    "<div class=\"sol\">\n",
    "\n",
    "Want to see a possible answer? Uncomment the `# %load ./SolutionsToExercises/...` command below\n",
    "\n",
    "</div>"
   ]
  },
  {
   "cell_type": "code",
   "execution_count": 2,
   "id": "e4b06ca5-9142-4c7a-9158-5f072b873c72",
   "metadata": {},
   "outputs": [],
   "source": [
    "# %load ./SolutionsToExercises/PPCL/DrG.py"
   ]
  },
  {
   "cell_type": "markdown",
   "id": "cfa2f06f-5f9b-43ae-81c7-6922c865cbcb",
   "metadata": {},
   "source": [
    "<div class=\"rqE\">\n",
    "    \n",
    "<span style=\"color:red\">**Why a docstring section?**</span> **<u>It's part of a good practice</u>** &#x1F44C;\n",
    "    \n",
    "There is no obligation. But let's suppose that you have stored the previous `DrG` function in an external python library. You do not remember how `DrG` exactly works and which arguments it needs. Probably an equilibrium constant and a temperature, but in which order? Must the temperature be given in Celsius or directly in Kelvin? Whats is the unit of the returned DrG value? Such answers can be obtained thanks to a well-written `docstring` section:\n",
    "- it helps users to properly address a function\n",
    "- it also helps the main coder remember the function of any code after a long time\n",
    "- it also helps other coders who want to work on the same project\n",
    "- **could it be relevant in the Physical Chemistry lab?** Of course. First of all for the main developer, that is you. But let's also assume that you **develop a collaborative lab notebook** in the framework of a **lab project**. An accurate and concise `docstring` section will be of utmost importance to make the notebook and its functions usable and improvable by all group members.\n",
    "\n",
    "As a user, you just have to type `help(method)` in order to know how to use it:\n",
    "</div>"
   ]
  },
  {
   "cell_type": "code",
   "execution_count": null,
   "id": "a8df32ad-8723-47d4-8ab7-1c6e511d4dad",
   "metadata": {},
   "outputs": [],
   "source": [
    "def nmol(w,M):\n",
    "    # this is a docstring\n",
    "    \"\"\"\n",
    "    This function returns n=w/M\n",
    "    \n",
    "    input:\n",
    "        - w = weight of the sample\n",
    "        - M = molar mass of the substance\n",
    "    output:\n",
    "        - n in mol\n",
    "    prints/saves: nothing\n",
    "    \"\"\" #end of the docstring\n",
    "    import numpy as np\n",
    "    return w/M"
   ]
  },
  {
   "cell_type": "code",
   "execution_count": null,
   "id": "954e58d9-0e15-4a0a-b039-245058a3f338",
   "metadata": {},
   "outputs": [],
   "source": [
    "help(nmol)"
   ]
  },
  {
   "cell_type": "markdown",
   "id": "01dd49b5-96ab-499d-9055-8ba3344567c1",
   "metadata": {},
   "source": [
    "<div class=\"app\">\n",
    "\n",
    "**1.** Define an array `K` with the following equilibrium constants values: 0.05, 0.1, 0.5, 1, 5, 10, 30, 50, 100, 500, 1000\n",
    "\n",
    "**2.** Use the previously defined `DrG(K,T)` function to calculate all corresponding $\\Delta_rG°$ at once\n",
    "    \n",
    "</div>"
   ]
  },
  {
   "cell_type": "code",
   "execution_count": null,
   "id": "601b67ed-c31d-4132-ba90-fc7e313b99ef",
   "metadata": {},
   "outputs": [],
   "source": [
    "# insert your code here\n"
   ]
  },
  {
   "cell_type": "markdown",
   "id": "8678729e-72f1-4645-aec0-1d18dff33d4a",
   "metadata": {},
   "source": [
    "<div class=\"sol\">\n",
    "\n",
    "Want to see a possible answer? Uncomment the `# %load ./SolutionsToExercises/...` command below\n",
    "\n",
    "</div>"
   ]
  },
  {
   "cell_type": "code",
   "execution_count": null,
   "id": "26b1ed31-33e2-437c-a7d2-c5b3f4b9a1ec",
   "metadata": {},
   "outputs": [],
   "source": [
    "# %load ./SolutionsToExercises/PPCL/DrG_array.py"
   ]
  },
  {
   "cell_type": "markdown",
   "id": "1c3412c4-db0f-4a92-9590-9cacaa3225ab",
   "metadata": {},
   "source": [
    "<div class=\"rq\">\n",
    "Like everything else in Python, functions are just objects\n",
    "</div>"
   ]
  },
  {
   "cell_type": "markdown",
   "id": "cced3e3c-9096-4bc1-998d-395b036f68f7",
   "metadata": {},
   "source": [
    "### Plotting\n",
    "\n",
    "<div class=\"intro\">\n",
    "    \n",
    "There are no plotting functions in the Python Standard Library Python, so we have to import a module for this task. The most widely used one is the `pyplot` module of the [Matplotlib library](https://matplotlib.org/stable/tutorials/introductory/quick_start.html), which is a widely used and useful plotting library. Simple plots are then easy to create and customize. \n",
    "</div>\n",
    "<br>\n",
    "<div class=\"app\">\n",
    "\n",
    "\n",
    "Let's start by plotting $\\Delta_rG°(25°C)$ as a function of *K*\n",
    "</div>\n",
    "<br>\n",
    "<div class=\"rqE\">\n",
    "\n",
    "**It is assumed that you have already defined a `DrG(K,T)` function and that you have defined a K array in the previous application. If not, uncomment the next cell**\n",
    "</div>"
   ]
  },
  {
   "cell_type": "code",
   "execution_count": null,
   "id": "9d908a21-322d-4165-bf0f-60fda19b5100",
   "metadata": {},
   "outputs": [],
   "source": [
    "# import numpy as np\n",
    "\n",
    "# def DrG(K,t):\n",
    "#     # this is a docstring\n",
    "#     \"\"\"\n",
    "#     This function returns the standard change in free energy of a reaction, ΔrG°\n",
    "    \n",
    "#     input:\n",
    "#         - K = equilibrium constant\n",
    "#         - t = temperature in Celsius\n",
    "#     output:\n",
    "#         - ΔrG° in J K-1 mol-1\n",
    "#     prints/saves: nothing\n",
    "#     \"\"\" #end of the docstring\n",
    "#     import numpy as np\n",
    "#     import scipy.constants as sc\n",
    "#     R = sc.value(\"molar gas constant\") #the sc.unit(\"molar gas constant\") command previously applied let us know that it is defined in the SI\n",
    "#     C2K = sc.zero_Celsius\n",
    "#     T = C2K + t\n",
    "#     return -R*T*np.log(K)\n",
    "    \n",
    "# K = np.array([0.05, 0.1, 0.5, 1, 5, 10, 30, 50, 100, 500, 1000])"
   ]
  },
  {
   "cell_type": "code",
   "execution_count": null,
   "id": "d1de62c5-9c46-49a3-9891-30ce6ac00ea6",
   "metadata": {},
   "outputs": [],
   "source": [
    "#set the interactivity parameter to 'none'. Function calls will display nothing from now on\n",
    "from IPython.core.interactiveshell import InteractiveShell\n",
    "InteractiveShell.ast_node_interactivity = \"none\""
   ]
  },
  {
   "cell_type": "code",
   "execution_count": null,
   "id": "bac66527-60d9-4675-aeba-f3740dfe46a4",
   "metadata": {},
   "outputs": [],
   "source": [
    "# import the required module\n",
    "import matplotlib.pyplot as plt\n",
    "\n",
    "# plotting the points \n",
    "plt.plot(K, DrG(K,25),marker=\"o\")\n",
    "  \n",
    "# naming the x axis\n",
    "plt.xlabel('equilibrium constant K')\n",
    "\n",
    "# naming the y axis\n",
    "plt.ylabel('Gibbs free energy / J.mol-1')\n",
    "\n",
    "# giving a title to my graph\n",
    "plt.title('My first graph: DrG° as a function of K, at 25°C')\n",
    "\n",
    "# function to show the plot\n",
    "plt.show()"
   ]
  },
  {
   "cell_type": "code",
   "execution_count": null,
   "id": "75d84a7f-dce6-4a90-b862-7f7fded88c4a",
   "metadata": {},
   "outputs": [],
   "source": [
    "#this sets the figure size\n",
    "plt.figure(figsize=(12,8))\n",
    "\n",
    "# plot the points \n",
    "plt.plot(K, DrG(K,25), color='r', linewidth=3, marker=\"o\")\n",
    "\n",
    "# name the x and y axis\n",
    "plt.xlabel('equilibrium constant K',size=14,fontweight='bold',color='blue')\n",
    "plt.ylabel('Gibbs free energy / J.mol-1',size=14,fontweight='bold',color='blue')\n",
    "# set tick labels font size\n",
    "plt.xticks(fontsize=16,fontweight='bold')\n",
    "plt.yticks(fontsize=16,fontweight='bold')\n",
    "# give a title to the graph\n",
    "plt.title('My first graph: Delta_rG° as a function of K, at 25°C',fontweight='bold')\n",
    "\n",
    "# it is also possible to save a plot, if you want to insert it in a document (text, presentation, ...)\n",
    "plt.savefig('./FiguresCreatedInNotebooks/fig1-Pyt4PC.png',dpi=300,transparent=True)\n",
    "\n",
    "# show the plot. The image is then closed and freed from memory. This is why plt.savefig or any other option must be called before plt.show\n",
    "plt.show()\n"
   ]
  },
  {
   "cell_type": "markdown",
   "id": "c3d60916-ed65-4add-a6d7-9890dc2171ca",
   "metadata": {},
   "source": [
    "<div class=\"app\">\n",
    "\n",
    "Let's now work again on the `VolcanoPlot-woA.csv` datafile, contained in the `MiscData/` folder. According to its header, this file contains a first column named DGads and a second one named log i0. Explaining in details what these properties are would be far beyond the scope of this notebook. Let's just say that what is reported here is related to the electrocatalytic production of molecular hydrogen at a metal electrode. The $\\log(i_0)$ property is the exchange current density, it is related the quantity of hydrogen produced. DGads is the so-called Gibbs energy of adsorption of hydrogen at the electrode, $\\Delta_\\mathrm{ads}G°$. Each ($\\Delta_\\mathrm{ads}G°$, $\\log(i_0)$) couple characterizes the efficiency of a specific metal electrode. The plot is expected to look like a **Sabatier-like volcano**, with the best electrode materials on the peak. Well. It's time to bring this digression to an end.\n",
    "    \n",
    "</div>"
   ]
  },
  {
   "cell_type": "code",
   "execution_count": null,
   "id": "82133a22-de87-4efb-839b-ec7076e02cf3",
   "metadata": {},
   "outputs": [],
   "source": [
    "# import the required module\n",
    "import matplotlib.pyplot as plt\n",
    "\n",
    "plt.figure(figsize=(12,8))\n",
    "plt.plot(DG, logi0, color='r', linestyle='', marker=\"o\",markersize=16)\n",
    "plt.xlabel('Gibbs adsorption energy',size=14,fontweight='bold',color='blue')\n",
    "plt.ylabel('log(i0)',size=14,fontweight='bold',color='blue')\n",
    "plt.xticks(fontsize=16,fontweight='bold')\n",
    "plt.yticks(fontsize=16,fontweight='bold')\n",
    "\n",
    "plt.show()"
   ]
  },
  {
   "cell_type": "markdown",
   "id": "c828abfc-11e2-4646-9d78-022c1a954b01",
   "metadata": {},
   "source": [
    "<div class=\"rqE\">\n",
    "\n",
    "**Hey!** It barely looks as a volcano &#x1F30B;! &#x1F914;\n",
    "    \n",
    "</div>\n",
    "<br>\n",
    "<div class=\"intro\">\n",
    "\n",
    "Well, the volcano plot is a somewhat idealized concept, not to mention the experimental uncertainties on $\\Delta_\\mathrm{ads}G°$ and $\\log(i_0)$. To highlight the volcano shape of these data, we need to **smooth** them. The idea is to create an approximating function that attempts to capture important patterns in the data, while leaving out noise. We will use for that the Savitzky–Golay digital filter available in a library called **SciPy**. This library provides fundamental algorithms for scientific computing in Python. One of its modules, `scipy.signal` is a signal processing toolbox that currently contains some filtering functions. The Savitzky–Golay digital filter, `savgol_filter`, is part of the `scipy.signal` toolbox.\n",
    "    \n",
    "</div>\n",
    "<br>\n",
    "<div class=\"app\">\n",
    "\n",
    "Compare the next cell with the previous one to find the differences between them.\n",
    "</div>"
   ]
  },
  {
   "cell_type": "code",
   "execution_count": null,
   "id": "53ec5a79-2ce3-456b-a73a-d507b4fa9333",
   "metadata": {},
   "outputs": [],
   "source": [
    "# import the required modules\n",
    "import matplotlib.pyplot as plt\n",
    "from scipy.signal import savgol_filter\n",
    "DGhat, logi0hat = savgol_filter((DG,logi0), 11, 3)  # These two parameters are the length of the filter window,\n",
    "                                                    # Followed by the order of the polynomial used to fit the samples\n",
    "                                                    # We have played a bit to find a combination of parameters that nicely smooths the data\n",
    "\n",
    "plt.figure(figsize=(12,8))\n",
    "plt.plot(DG, logi0, color='r', linestyle='', marker=\"o\",markersize=16) # plot of the experimental (DG, logi0) couple \n",
    "plt.plot(DGhat, logi0hat, color='b', linestyle='--', linewidth=4)  # plot of the smoothed data, displayed as a dashed line\n",
    "plt.xlabel('Gibbs adsorption energy',size=14,fontweight='bold',color='blue')\n",
    "plt.ylabel('log(i0)',size=14,fontweight='bold',color='blue')\n",
    "plt.ylabel('log(i0)',size=14,fontweight='bold',color='blue')\n",
    "plt.xticks(fontsize=16,fontweight='bold')\n",
    "plt.yticks(fontsize=16,fontweight='bold')\n",
    "\n",
    "plt.show()"
   ]
  },
  {
   "cell_type": "markdown",
   "id": "cbfbb0af-f799-484b-918a-8e9673b424bf",
   "metadata": {},
   "source": [
    "<div class=\"rqE\">\n",
    "\n",
    "The volcano shape of the ($\\Delta_\\mathrm{ads}G°$, $\\log(i_0)$) data is somewhat more convincing now, isn't it? &#x1F4AA;\n",
    "    \n",
    "**Take-home message**: there is probably a method or function somewhere in a general python library that meets your needs and that is worth using instead of developing your own code. Just ask your favorite search engine... And try to find a simple tutorial, not a one written ~~by a nerd~~ by a pythonic programmer &#x1F913;. At least not in the first place.\n",
    "    \n",
    "</div>"
   ]
  },
  {
   "cell_type": "markdown",
   "id": "a39b5810-dd85-4b3c-a2d1-e74fa921e820",
   "metadata": {},
   "source": [
    "## Model fitting\n",
    "\n",
    "### The linear regression case\n",
    "\n",
    "<div class=\"intro\">\n",
    "    \n",
    "Regression is a basic and commonly used type of predictive analysis, that can be applied to various areas in business and academic studies. It predicts the value of unknown data by using another related and known data value. **Linear** regression mathematically models the unknown (or dependent) variable and the known (or independent) variable as a linear equation.\n",
    "\n",
    "In this context, a lot of chemical analysis relies on our ability to fit a line as close as possible to a whole dataset. If necessary and if possible, an equation, hereafter called the model, is linearized. This the case of the Arrhenius equation, widely used in chemical kinetics:\n",
    "$$k=A\\exp(-E_a/RT)$$\n",
    "\n",
    "where, *k* is the rate constant at temperature *T*, *A* is the pre-exponential factor, and *R* is the ideal gas constant. $E_a$ is the minimum energy molecules must possess in order to react to form a product. The following table contains *k* values experimentally measured at various temperatures *T*.\n",
    "    \n",
    "| Experiment | *T* / K | *k* / s$^{-1}$ |\n",
    "| :---------------: |:---------------:| :---------------:|\n",
    "|A|283|0.13|\n",
    "|B|293|0.29|\n",
    "|C|308|0.45|\n",
    "|D|318|0.70|\n",
    "\n",
    "Given the Arrhenius equation, there is an exponential relationship between *k* and *T*, and fitting the model with the data will give access to two kinetic values specific of the underlying reaction mechanism: *A* and $E_a$.\n",
    "\n",
    "The model can be easily transformed into a linear equation by considering its logarithm:\n",
    "\n",
    "$$\\ln (k) = -E_a/RT + \\ln (A) $$\n",
    "\n",
    "The plot of $\\ln (k)$ as a function of $\\frac{1}{RT}$ is expected to be a line, $-E_a$ being its slope and $\\ln (A)$ its *y*-intercept.\n",
    "\n",
    "</div>\n",
    "<br>\n",
    "<div class=\"rqE\">\n",
    "\n",
    "**Do not make a confusion between smoothing and model fitting**. Let's adapt what is said in [Wikipedia](https://en.wikipedia.org/wiki/Smoothing) on this topic: curve fitting often involves the use of an **explicit function form** for the result, whereas the immediate results from smoothing are the \"smoothed\" values with no final explicit functional form\n",
    "\n",
    "</div>"
   ]
  },
  {
   "cell_type": "markdown",
   "id": "b3a4a0b3-06b3-4a09-b944-cf71d1c4b60d",
   "metadata": {},
   "source": [
    "<div class=\"app\">\n",
    "\n",
    "Linear regression is illustrated in the next python cell, using the `linregress` method of the `stats` module of the `scipy` library. Accordinf to the [online manual](https://docs.scipy.org/doc/scipy/reference/generated/scipy.stats.linregress.html), `linregress` returns the slope, the intercept, and the *R*-value, which square  is equal to the coefficient of determination $R^2$.\n",
    "\n",
    "**1.** Define two arrays, `Texp` and `kexp`, with the experimental data measured in experiments A-D.\n",
    "    \n",
    "**2.** Plot $\\ln(k_\\mathrm{exp})$ as a function of $\\frac{1}{RT_\\mathrm{exp}}$. Yet, the experimental uncertainty involves that the 4 couples are not perfectly aligned. Plot $\\ln(k_\\mathrm{exp})$ as a function of $\\frac{1}{RT_\\mathrm{exp}}$ using markers only, *i.e.* do not connect data with lines.\n",
    "</div>"
   ]
  },
  {
   "cell_type": "code",
   "execution_count": null,
   "id": "11623f9f-09d7-4a5e-b581-37deabd9c797",
   "metadata": {},
   "outputs": [],
   "source": [
    "# insert your code here\n",
    "import numpy as np\n",
    "#Q1\n",
    "\n",
    "#Q2\n"
   ]
  },
  {
   "cell_type": "markdown",
   "id": "c13f8779-e852-4df2-a00f-65ba3e0d59be",
   "metadata": {},
   "source": [
    "<div class=\"sol\">\n",
    "\n",
    "Want to see a possible answer? Uncomment the `# %load ./SolutionsToExercises/...` command below\n",
    "\n",
    "</div>"
   ]
  },
  {
   "cell_type": "code",
   "execution_count": null,
   "id": "91992178-e9e9-446c-87aa-fbc0d51ca8f5",
   "metadata": {},
   "outputs": [],
   "source": [
    "# %load ./SolutionsToExercises/PPCL/Arrhenius-A.py"
   ]
  },
  {
   "cell_type": "markdown",
   "id": "2b63feb3-2823-4577-976b-754e08aa25af",
   "metadata": {},
   "source": [
    "<div class=\"app\">\n",
    "\n",
    "**3.** Use the `linregress` function of `scipy.stats` to find $E_a$ and $\\ln (A)$. Evaluate the performance of this regression model with the coefficient of determination, $R^2$ (R-squared). The closer to 1 the R-squared value is, the better the model is.\n",
    "\n",
    "**4.** $R^2$ tells how well the values fit compared to the original values. But the best way to evaluate the quality of the fit and the actual linear behavior of the data is to plot the couples of data and the fitted line on the same graph. To do that:\n",
    "- first define a function `kArr` (Arr as Arrhenius) that will take the temperature $T$ and the fitted $A$ and $E_a$ parameters as arguments\n",
    "- do a scatter plot $\\ln(k_\\mathrm{exp})$ as a function of $\\frac{1}{RT_\\mathrm{exp}}$, *i.e.* using the option `linestyle=''`\n",
    "- superimpose on the same graph the plot of a `kfit` numpy array, that will contain `np.log(kArr(Texp,A,Ea))` for all $T_\\mathrm{exp}$ values\n",
    "\n",
    "**5.** Use the fitted linear model to predict the value of the rate constant *k* at *T* = 300K and at *T* = 373.15K.\n",
    "</div>"
   ]
  },
  {
   "cell_type": "code",
   "execution_count": null,
   "id": "da6eeb2d-0880-4c59-b058-841833a631b6",
   "metadata": {},
   "outputs": [],
   "source": [
    "# insert your code here\n",
    "#Q3\n",
    "\n",
    "#Q4\n",
    "\n",
    "#Q5\n"
   ]
  },
  {
   "cell_type": "markdown",
   "id": "278c75be-d57e-4133-a2d8-f298cfd64a3f",
   "metadata": {},
   "source": [
    "<div class=\"sol\">\n",
    "\n",
    "Want to see a possible answer? Uncomment the `# %load ./SolutionsToExercises/...` command below\n",
    "\n",
    "</div>"
   ]
  },
  {
   "cell_type": "code",
   "execution_count": null,
   "id": "3b0976de-e6d9-4e1d-92eb-55a0a9049db3",
   "metadata": {},
   "outputs": [],
   "source": [
    "# %load ./SolutionsToExercises/PPCL/Arrhenius-B.py"
   ]
  },
  {
   "cell_type": "markdown",
   "id": "4ead2899-2770-4860-bef0-5382f11d18fe",
   "metadata": {},
   "source": [
    "<div class=\"rqE\">\n",
    "\n",
    "Given that the temperature domain of the experimental data couples is [283-318]K, the 300K value for *k* is an interpolated value, whilst the 373.15K value for *k* is extrapolated.\n",
    "\n",
    "</div>\n",
    "<br>\n",
    "\n",
    "<div class=\"app\">\n",
    "\n",
    "**6.** Plot again the [$\\frac{1}{RT_\\mathrm{exp}}$, $\\ln(k_\\mathrm{exp})$] couples on a graph as well as the [$\\frac{1}{RT_\\mathrm{exp}}$, $\\ln(k_\\mathrm{Arr})$] couples.\n",
    "<br>\n",
    "But this time, plot the line in the [273.15, 400]K domain in order to highlight that the $k_\\mathrm{Arr}$ model applies beyond the [283-318]K domain. It is suggested to use the `np.linspace` function. The `numpy` manual says that:\n",
    "\n",
    "`np.linspace(start, stop, n)` returns *n* evenly spaced samples, calculated over the interval [*start*, *stop*]\n",
    "\n",
    "</div>"
   ]
  },
  {
   "cell_type": "code",
   "execution_count": null,
   "id": "4025f432-380f-414a-b4a4-47449297cbac",
   "metadata": {},
   "outputs": [],
   "source": [
    "# insert your code here\n",
    "#Q6\n"
   ]
  },
  {
   "cell_type": "markdown",
   "id": "5541bea8-2388-4382-bbb2-99d90a32dca2",
   "metadata": {},
   "source": [
    "<div class=\"sol\">\n",
    "\n",
    "Want to see a possible answer? Uncomment the `# %load ./SolutionsToExercises/...` command below\n",
    "\n",
    "</div>"
   ]
  },
  {
   "cell_type": "code",
   "execution_count": null,
   "id": "f6296819-d18b-4417-9302-aed40a02e8dd",
   "metadata": {},
   "outputs": [],
   "source": [
    "# %load ./SolutionsToExercises/PPCL/Arrhenius-C.py"
   ]
  },
  {
   "cell_type": "markdown",
   "id": "37752579-c213-4241-b602-14ad8ffef71d",
   "metadata": {},
   "source": [
    "<div class=\"rqE\">\n",
    "    \n",
    "**I have the feeling that you have a question !!** &#x1F642;\n",
    "    \n",
    "\n",
    "&#x1F64B; \"*Would-it be possible to directly find values for the parameters $E_a$ and $A$ of the $k(T)=\\exp (-\\frac{E_a}{RT})$ function that best describe the $[T_\\mathrm{exp}, k_\\mathrm{exp}]$ set of data?*\"\n",
    "    \n",
    "**I knew it!**  &#x1F643; Yes, of course. This is a [nonlinear regression](https://en.wikipedia.org/wiki/Nonlinear_regression) problem. It will be introduced in the next subsection.\n",
    "\n",
    "</div>"
   ]
  },
  {
   "cell_type": "markdown",
   "id": "f96437fc-860e-4dfd-9a55-07b202ee8196",
   "metadata": {
    "tags": []
   },
   "source": [
    "### Non-linear models\n",
    "\n",
    "<div class=\"intro\">\n",
    "\n",
    "Nonlinear regression is a form of regression analysis in which data *y* are modeled by a function which is a nonlinear combination of the model parameters *a*, *b*, ...and depends on at least one variable *x*:\n",
    "$$y=f(x,\\alpha)$$\n",
    "where $\\alpha=a,b,c,...$\n",
    "    \n",
    "The log transformation of $k=A\\exp(-E_a/RT)$ allowed a linear model to fit experimental data that are otherwise possible only with nonlinear regression.\n",
    "    \n",
    "Nonlinear regression is a very powerful alternative to linear regression. It provides more flexibility in fitting curves because you can **define your own model**, in conjuction with an optimizer. The SciPy `optimize` includes solvers for several tasks, including curve fitting. It can be done with the `curve_fit` method. It takes several arguments as input - the name of the model function $f(x,\\alpha)$ and then two arrays, one for *x* and the second for *y*, and it returns the optimal values for the $\\alpha$ parameters, *i.e.* parameters that makes the $f(x,\\alpha)$ model as close as possible to all experimental couples $(x_i,y_i)$.\n",
    "\n",
    "It will also return a `pcov` 2D-array, that contains information about the accuracy of the fitting process, see the [online manual](https://docs.scipy.org/doc/scipy/reference/generated/scipy.optimize.curve_fit.html). Using and analyzing `pcov` is beyond the scope of the present notebook.\n",
    "\n",
    "</div>"
   ]
  },
  {
   "cell_type": "markdown",
   "id": "3489115a-d6d7-4f85-8246-0a9049fe4df4",
   "metadata": {},
   "source": [
    "<div class=\"app\">\n",
    "\n",
    "**1.** Define a function `kArr` that will return the rate constant calculated after the Arrhenius equation. It will take three arguments: a temperature `T` (in K), the pre-exponential factor `A` and the activation energy, `Ea` (in J/mol). Use the molar gas constant, *R*, of the `scipy.constants` module.\n",
    "    \n",
    "**2.** Use again the two previously defined `Texp` and `kexp` arrays, *i.e.* with the experimental data measured in experiments A-D. Directly search for the fitted parameters of the Arrhenius function. Name them `ANL` and `EaNL` - NL as non linear - to distinguish them from from those obtained by linear regression. Compare `ANL` and `EaNL` with the parameters `A` and `Ea` optimized by linear regression. \n",
    "    \n",
    "**3.** Do a scatter plot of $k_\\mathrm{exp}$ as a function of $RT_\\mathrm{exp}$, *i.e.* using the option `linestyle=''`. Superimpose on the same graph the plot of `kArr(Texp,A,Ea)` and of `kArr(Texp,ANL,EaNL)` as a function of $\\frac{1}{RT_\\mathrm{exp}}$\n",
    "</div>\n",
    "<br>\n",
    "<div class=\"rqT\" title=\"Uncomment the next cell if you did not answer to the linear regression problem or loaded the solution for this exercise\"></div>"
   ]
  },
  {
   "cell_type": "code",
   "execution_count": null,
   "id": "c1933aa8-89f1-48fe-b5be-9881a60ec291",
   "metadata": {},
   "outputs": [],
   "source": [
    "# Ea = 33950.020\n",
    "# A = 270281.181\n",
    "# kfit =  np.array([0.14642778, 0.23959994, 0.47232723, 0.71663619])\n",
    "\n",
    "# Texp = np.array([283,293,308,318])\n",
    "# kexp = np.array([0.13,0.29,0.45,0.70])"
   ]
  },
  {
   "cell_type": "code",
   "execution_count": null,
   "id": "96d27343-2655-440b-9348-1175c2e0a0bd",
   "metadata": {},
   "outputs": [],
   "source": [
    "import numpy as np\n",
    "#Q1\n",
    "def kArr(T,A,Ea):\n",
    "    \"\"\"\n",
    "    input:\n",
    "        - T = temperature, in K\n",
    "        - A = pre-exponental factor\n",
    "        - Ea = activation energy, in J.mol-1\n",
    "    returns:\n",
    "        the rate constant, k, in the same unit as A\n",
    "    \"\"\"\n",
    "    import numpy as np\n",
    "    import scipy.constants as sc\n",
    "    R = sc.value(\"molar gas constant\")\n",
    "    return A*np.exp(-Ea/(R*T))\n",
    "\n",
    "#Q2\n",
    "from scipy.optimize import curve_fit\n",
    "fitexp, fitcov = curve_fit(kArr, Texp, kexp)\n",
    "ANL = fitexp[0]\n",
    "EaNL = fitexp[1]\n",
    "\n",
    "kfit2 = kArr(Texp,ANL,EaNL)\n",
    "\n",
    "print(\"A and Ea obtained by linear regression\")\n",
    "print(f\"Ea  = {Ea:8.3f} J.mol-1\\nA   = {A:8.3f} s-1\") # \\n = new line\n",
    "print(\"A and Ea obtained by non linear regression\")\n",
    "print(f\"Ea  = {EaNL:8.3f} J.mol-1\\nA   = {ANL:8.3f} s-1\")\n",
    "\n",
    "#Q3\n",
    "plt.figure(figsize=(12,8))\n",
    "plt.plot(Texp, kexp, color='r', linestyle='', marker=\"o\", markersize=14, label=\"exp. values\")\n",
    "plt.plot(Texp, kfit2, color='b', linestyle='', marker=\"x\", markersize=14, label=\"fitted values (non linear regression)\")\n",
    "plt.plot(Texp, kfit, color='g', linestyle='', marker=\"+\", markersize=14, label=\"fitted values (linear regression)\")\n",
    "plt.xlabel('T / K',size=14,fontweight='bold',color='blue')\n",
    "plt.ylabel('k / s-1',size=14,fontweight='bold',color='blue')\n",
    "plt.xticks(fontsize=16,fontweight='bold')\n",
    "plt.yticks(fontsize=16,fontweight='bold')\n",
    "plt.legend()\n",
    "plt.show()"
   ]
  },
  {
   "cell_type": "markdown",
   "id": "f36ed453-f336-446a-bb76-442cf0ecbdbf",
   "metadata": {},
   "source": [
    "<div class=\"rqE\">\n",
    "    \n",
    "**This is a plot of the segments between the four pairs of experimental data, it does not look like an exponential function!** \n",
    "\n",
    "Yes. This is what the `plot` method of `matplotlib.pyplot` does. It draws a line from point to point.\n",
    "\n",
    "You want to improve the plot, *i.e.* to draw an actual \"smoother\" exponential function? You just have to define a denser grid of points.\n",
    "\n",
    "</div>"
   ]
  },
  {
   "cell_type": "markdown",
   "id": "f63fba93-7886-4f2d-b6a4-044aecefe1dc",
   "metadata": {},
   "source": [
    "<div class=\"app\">\n",
    "    \n",
    "**4.** Use `np.linspace` to define 100 temperatures between T(exp A) - 10K and T(exp D) + 10K. It is suggested to name the array `Tdense`\n",
    "\n",
    "**5.** Calculate the corresponding Arrhenius constants, `kfitL` and `kfitNL`, using `A` and `Ea` and then `ANL` and `EaNL`, respectively.\n",
    "    \n",
    "**6.** Plot on the same graph:\n",
    "\n",
    "- a scatter plot of $k_\\mathrm{exp}$ as a function of $RT_\\mathrm{exp}$, *i.e.* using the option `linestyle=''`\n",
    "- a standard plot of `kfitL` as a function of `Tdense`\n",
    "- a standard plot of `kfitNL` as a function of `Tdense`\n",
    "\n",
    "Don't forget to add a legend.\n",
    "\n",
    "</div>"
   ]
  },
  {
   "cell_type": "code",
   "execution_count": null,
   "id": "aecdb308-c2d5-4fd3-94a3-37896daf0fcd",
   "metadata": {},
   "outputs": [],
   "source": [
    "#Q4\n",
    "Tdense = np.linspace(Texp[0]-10,Texp[-1]+10,100)\n",
    "\n",
    "#Q5\n",
    "kfitL = kArr(Tdense,A,Ea)\n",
    "kfitNL = kArr(Tdense,ANL,EaNL)\n",
    "\n",
    "#Q6\n",
    "plt.figure(figsize=(12,8))\n",
    "plt.plot(Texp, kexp, color='r', linestyle='', marker=\"o\", markersize=14, label=\"exp. values\")\n",
    "plt.plot(Tdense, kfitL, color='g', linestyle='-', linewidth=3, marker=\"\", label=\"fitted values (linear regression)\")\n",
    "plt.plot(Tdense, kfitNL, color='b', linestyle='-', linewidth=3, marker=\"\", label=\"fitted values (non linear regression)\")\n",
    "plt.xlabel('T / K',size=14,fontweight='bold',color='blue')\n",
    "plt.ylabel('k / s-1',size=14,fontweight='bold',color='blue')\n",
    "plt.xticks(fontsize=16,fontweight='bold')\n",
    "plt.yticks(fontsize=16,fontweight='bold')\n",
    "plt.legend()\n",
    "plt.show()"
   ]
  },
  {
   "cell_type": "markdown",
   "id": "33670d77-c0b3-48af-bc86-09fce2e7e70d",
   "metadata": {},
   "source": [
    "<div class=\"rqE\">\n",
    "    \n",
    "Even though the optimized parameters differ, the resulting plots are very close. Evaluating the best fit is beyond the scope of this notebook.\n",
    "\n",
    "</div>"
   ]
  },
  {
   "cell_type": "markdown",
   "id": "337cf4c9-b006-41c5-95e8-d660fdc74c38",
   "metadata": {
    "tags": []
   },
   "source": [
    "## Numerical integrals and derivatives\n",
    "\n",
    "### Definite integrals\n",
    "\n",
    "<div class=\"intro\">\n",
    "\n",
    "Is it necessary to recall that \"*definite integrals can be interpreted as the signed area of the region in the plane that is bounded by the graph of a given function between two points in the real line. Conventionally, areas above the horizontal axis of the plane are positive while areas below are negative*\" ([Wikipedia](https://en.wikipedia.org/wiki/Integral)).\n",
    "    \n",
    "We will now consider an integration process from a pragmatic point of view, *i.e.* the calculation of an area under a curve. We will use the `integrate` sub-package of `SciPy`, that provides several integration techniques. Methods for integrating functions include `trapezoid` ([trapezoidal rule](https://en.wikipedia.org/wiki/Trapezoidal_rule) to compute integral) and `simpson` (uses [Simpson's rule](https://en.wikipedia.org/wiki/Simpson%27s_rule) to compute integral from samples).\n",
    "    \n",
    "In the following, the `simpson` method will be used to numerically integrate functions *f(x)*, *i.e* to compute integral from samples. In other words, the functions are not defined by an equation, such as $f(x)=x^2$, but by data. The function will first be plotted, and the area under the curve will be highlighted using the `fill_between` functionality of `matplotlib`. The area will then be calculated and printed. The plot is of course optional, `simpson` does not need it. But never trust algorithms... or the way you call them. A preliminary plot is recommended to qualitatively check the relevance of the definite integral you just computed. \n",
    "\n",
    "</div>"
   ]
  },
  {
   "cell_type": "code",
   "execution_count": null,
   "id": "e580c5d0-a1c6-4f00-a8fa-7a3b8b195820",
   "metadata": {},
   "outputs": [],
   "source": [
    "from scipy.integrate import simpson\n",
    "help(simpson)"
   ]
  },
  {
   "cell_type": "markdown",
   "id": "57c34ca7-c481-48fb-9cd8-9e9ff839a0b6",
   "metadata": {},
   "source": [
    "<div class=\"app\">\n",
    "\n",
    "**1.** Tranform these three lists as arrays. Name them `x`, `f1`, `f2` and `f3`.\n",
    "- *x* = [-5.,-4.5,-4.,-3.5,-3.,-2.5,-2.,-1.5,-1.,-0.5,0.,0.5,1.,1.5,2.,2.5,3.,3.5,4.,4.5,5.]\n",
    "- *f1* = [25.,20.25,16.,12.25,9.,6.25,4.,2.25,1.,0.25,0.,0.25,1.,2.25,4.,6.25,9.,12.25,16.,20.25,25.]\n",
    "- *f2* = [-25.,-20.25,-16.,-12.25,-9.,-6.25,-4.,-2.25,-1.,-0.25,-0.,-0.25,-1.,-2.25,-4.,-6.25,-9.,-12.25,-16.,-20.25,-25.]\n",
    "- *f3* = [-125.,-91.125,-64.,-42.875,-27.,-15.625,-8.,-3.375,-1.,-0.125,0.,0.125,1.,3.375,8.,15.625,27.,42.875,64.,91.125,125.]\n",
    "\n",
    "**2.** Plot *f1(x)*, *f2(x)* and *f3(x)* on three separate graphs. You will also highlight the area under each curve, using the `fill_between` function of `matplotlib.pyplot`, aka `plt`. Plot positive and negative areas in blue and red, respectively.\n",
    "\n",
    "**3.** Calculate the area under each curve, using the `simpson` method of the `scipy.integrate` module.\n",
    "</div>"
   ]
  },
  {
   "cell_type": "code",
   "execution_count": null,
   "id": "958e9687-41fb-484d-8506-8d45cbedb56b",
   "metadata": {},
   "outputs": [],
   "source": [
    "import numpy as np #np is now a shortcut for numpy\n",
    "import matplotlib.pyplot as plt #plt is now a shortcut for matplotlib.pyplot\n",
    "from scipy.integrate import simpson\n",
    "\n",
    "#Q1\n",
    "x = np.array([-5.,-4.5,-4.,-3.5,-3.,-2.5,-2.,-1.5,-1.,-0.5,0.,0.5,1.,1.5,2.,2.5,3.,3.5,4.,4.5,5.])\n",
    "f1 = np.array([25.,20.25,16.,12.25,9.,6.25,4.,2.25,1.,0.25,0.,0.25,1.,2.25,4.,6.25,9.,12.25,16.,20.25,25.])\n",
    "f2 = np.array([-25.,-20.25,-16.,-12.25,-9.,-6.25,-4.,-2.25,-1.,-0.25,-0.,-0.25,-1.,-2.25,-4.,-6.25,-9.,-12.25,-16.,-20.25,-25.])\n",
    "f3 = np.array([-125.,-91.125,-64.,-42.875,-27.,-15.625,-8.,-3.375,-1.,-0.125,0.,0.125,1.,3.375,8.,15.625,27.,42.875,64.,91.125,125.])\n",
    "\n",
    "#Q2\n",
    "#f1\n",
    "plt.plot(x, f1, linewidth=2, marker=\"o\")\n",
    "plt.fill_between(x, f1, alpha=0.15, color='#00aaff') # alpha is a transparency factor (1 = opaque, 0 = fully translucent)\n",
    "plt.show()\n",
    "\n",
    "#f2\n",
    "plt.plot(x, f2, linewidth=2, marker=\"o\")\n",
    "plt.fill_between(x, f2, alpha=0.15, color='#ff0000') # alpha is a transparaecy factor (1 = opaque, 0 = fully translucent)\n",
    "plt.show()\n",
    "\n",
    "#f3\n",
    "plt.plot(x, f3, linewidth=2, marker=\"o\")\n",
    "plt.fill_between(x[0:11], f3[0:11], alpha=0.15, color='#ff0000')\n",
    "plt.fill_between(x[10:21], f3[10:21], alpha=0.15, color='#00aaff')\n",
    "plt.show()\n",
    "\n",
    "#Q3\n",
    "Area = simpson(f1, x=x)\n",
    "print(\"f1. area = \",Area) #the sum of the two areas is positive\n",
    "Area = simpson(f2, x=x)\n",
    "print(\"f2. area = \",Area) #the sum of the two areas is negative\n",
    "Area = simpson(f3, x=x)\n",
    "print(\"f3. area = \",Area)  #the sum of the two areas is = 0"
   ]
  },
  {
   "cell_type": "markdown",
   "id": "7d8de1ee-f9a5-4739-aceb-d03b0ee421be",
   "metadata": {},
   "source": [
    "<div class=\"rqE\">\n",
    "\n",
    "The three functions are actually numerical representations of:\n",
    "- $f_1(x) = x^2$, a positive even function\n",
    "- $f_2(x) = -x^2$, a negative even function\n",
    "- $f_3(x) = x^3$, an odd function\n",
    "    \n",
    "They have been integrated between -5 and +5:\n",
    "\n",
    "$$A=\\int_{-5}^{5}f(x)dx$$\n",
    "\n",
    "Calculated areas, *A*, are in line with your basic knowledge, aren't they?:\n",
    "- $A(f_1)$ is positive\n",
    "- $A(f_2)$ is negative\n",
    "- $A$ of the odd function $f_3$ is zero.\n",
    " \n",
    "</div>"
   ]
  },
  {
   "cell_type": "markdown",
   "id": "291118bb-2fe9-46b1-93cc-c6ec03200632",
   "metadata": {
    "tags": []
   },
   "source": [
    "<div class=\"intro\">\n",
    "\n",
    "Function area measurements are very important in various spectroscopy techniques, such as Visible-Ultra-Violet (VUV), Nuclear Magnetic Resonance (NMR), chromatography... For example, the area under 1H-NMR peaks is **proportional** to the number of hydrogens which that signal represents. \n",
    "    \n",
    "Even if you are not (yet) familiar with NMR, you must at least know that **equivalent H in a molecule** will give the **same signal** (it is said that they resonate at the same frequency). For example, all H atoms of a methyl group (CH3) will give the same signal. In this way, by integrating the different NMR peaks, information regarding the relative numbers of chemically distinct hydrogens can be found. Actually, the integrated intensities, in conjunction with the positions of the peaks, called chemical shifts, and with the signal splittings (called spin-spin coupling), enable structural assignments. \n",
    "</div>\n",
    "<br>\n",
    "<div class=\"app\">\n",
    "\n",
    "The 1H NMR spectrum of propan-1-ol, C<sub>3</sub>H<sub>8</sub>O, has been recorded and saved in the `NMR-Propan-1-ol.csv` file that can be found in the `MiscData` folder. The first column contains the x-axis data, *i.e.* the chemical shift (unit = ppm), whereas the second column contains the y-axis data, *i.e.* the intensity of the NMR signal (arbitrary unit).\n",
    "    \n",
    "Plot the spectrum, inverting the ppm scale - this is a standard convention in NMR. The commands for inverting the x scale are:\n",
    "\n",
    "```Python\n",
    "ax = plt.gca() # this is a way to define advanced plot options\n",
    "ax.invert_xaxis() # self-explanatory\n",
    "```\n",
    "    \n",
    "</div>"
   ]
  },
  {
   "cell_type": "code",
   "execution_count": null,
   "id": "bca1950f-5d66-496e-b54a-6fa26c06e6ae",
   "metadata": {
    "tags": []
   },
   "outputs": [],
   "source": [
    "import numpy as np #np is now a shortcut for numpy\n",
    "import matplotlib.pyplot as plt #plt is now a shortcut for matplotlib.pyplot\n",
    "\n",
    "delta, I = np.genfromtxt(\"./MiscData/NMR-Propan-1-ol.csv\", delimiter=\";\", skip_header=1, unpack=True)\n",
    "\n",
    "plt.figure(figsize=(12,6))\n",
    "plt.plot(delta, I)\n",
    "plt.xticks(fontsize=16,fontweight='bold')\n",
    "plt.yticks(fontsize=16,fontweight='bold')\n",
    "plt.xlabel('chemical shift / ppm',size=14,fontweight='bold',color='blue')\n",
    "plt.ylabel('intensity / arb. unit',size=14,fontweight='bold',color='blue')\n",
    "plt.title('1H NMR spectrum of propan-1-ol in CDCl3',size=14)\n",
    "plt.grid(which='major', axis='x', linestyle='-.') #vertical grid at major ticks. Useful to better see where the peaks are\n",
    "ax = plt.gca() # this is a way to deefined advanced plot options\n",
    "ax.invert_xaxis() # self-explanatory\n",
    "import matplotlib.ticker as ticker\n",
    "ax.xaxis.set_major_locator(ticker.MultipleLocator(1)) # sets a tick for every integer multiple of the base (here 1) within the view interval\n",
    "  \n",
    "plt.show()"
   ]
  },
  {
   "cell_type": "markdown",
   "id": "e9bbd914-6d97-4184-a6a0-2cb713df6267",
   "metadata": {},
   "source": [
    "<div class=\"app\">\n",
    "\n",
    "The previous plot shows that there are four signals, located between:\n",
    "- [0.85, 1.0] ppm\n",
    "- [1.45, 1.70] ppm\n",
    "- [2.25, 2.35] ppm\n",
    "- [3.5, 3.65] ppm\n",
    "    \n",
    "The 0 ppm peak is a reference peak, *i.e.* it is not a peak of the analyzed molecule, and the small peak at 7.2 ppm is an impurity.\n",
    "    \n",
    "For each of these four intervals:\n",
    "\n",
    "**1.** Extract a subset of chemical shifts (delta) and intensities (I).\n",
    "<br>A **pythonic** way to do that is (i) to identify which part of the `delta` array falls in each range; (ii) to store the corresponding chemical shifts and intensities in intermediate arrays, hereafter named `I_xtr` and `delta_xtr`, and that will be used both for the plot and the integration. This is what we suggest to implement:\n",
    "    \n",
    "```Python\n",
    "# delta is the array that contains chemical shifts in the whole [0-10] ppm range\n",
    "a = 3.5\n",
    "b = 3.65\n",
    "interval = (delta > a) & (delta < b) #returns an array with True values if delta belongs to the [a,b] domain and False otherwise\n",
    "# a common use for `np.nonzero` is to find the indices of an array where a condition is True\n",
    "ind = np.nonzero(interval)\n",
    "#selection of intensities and chemical shifts in the [a,b] range\n",
    "I_xtr = I[ind]\n",
    "delta_xtr=delta[ind]\n",
    "```\n",
    "\n",
    "<br>\n",
    "\n",
    "The `nonzero()` method of numPy,\n",
    "```Python\n",
    "ind = np.nonzero(table)\n",
    "```\n",
    "\n",
    "returns in the `ind` array the indices of the `table` array where a condition is True\n",
    "<br>\n",
    "    \n",
    "**2.** Plot this subset, and use as well the `plt.fill_between` method to highlight the area below the peaks.\n",
    "    \n",
    "**3.** Calculate and print the peaks area. The, find out, from these areas, the number of hydrogen atoms that are at the origin of each peak.\n",
    "</div>"
   ]
  },
  {
   "cell_type": "code",
   "execution_count": null,
   "id": "de90e80b-086d-463b-9ac4-1108ea531694",
   "metadata": {},
   "outputs": [],
   "source": [
    "from scipy.integrate import simpson\n",
    "\n",
    "#Q1 and Q2\n",
    "a = 3.5\n",
    "b = 3.65\n",
    "# don't forget that delta is an array that contains chemical shifts in the whole [0-10] ppm range\n",
    "interval = (delta > a) & (delta < b) #returns an array with True values if delta belongs to the [a,b] domain and False otherwise\n",
    "# uncomment the next line if you want to see the content of the interval table\n",
    "#print(interval) \n",
    "# a common use for `np.nonzero` is to find the indices of an array where a condition is True\n",
    "ind = np.nonzero(interval)\n",
    "# uncomment the next line if you want to see the content of the ind table\n",
    "# print(ind)\n",
    "#selection of intensities and chemical shifts in the [a,b] range\n",
    "I_xtr = I[ind]\n",
    "delta_xtr=delta[ind]\n",
    "plt.plot(delta_xtr, I_xtr)\n",
    "plt.fill_between(delta_xtr, I_xtr, alpha=0.15, color='#00aaff')\n",
    "ax = plt.gca()\n",
    "ax.invert_xaxis()\n",
    "plt.show()\n",
    "A1 = simpson(I_xtr, x=delta_xtr)\n",
    "print(\"peak(s) area = \",A1)\n",
    "\n",
    "a = 2.25\n",
    "b = 2.35\n",
    "interval = (delta > a) & (delta < b)\n",
    "ind = np.nonzero(interval)\n",
    "I_xtr = I[ind]\n",
    "delta_xtr=delta[ind]\n",
    "plt.plot(delta_xtr, I_xtr)\n",
    "plt.fill_between(delta_xtr, I_xtr, alpha=0.15, color='#00aaff')\n",
    "ax = plt.gca()\n",
    "ax.invert_xaxis()\n",
    "plt.show()\n",
    "A2 = simpson(I_xtr, x=delta_xtr)\n",
    "print(\"peak(s) area = \",A2)\n",
    "\n",
    "a = 1.45\n",
    "b = 1.70\n",
    "interval = (delta > a) & (delta < b)\n",
    "ind = np.nonzero(interval)\n",
    "I_xtr = I[ind]\n",
    "delta_xtr=delta[ind]\n",
    "plt.plot(delta_xtr, I_xtr)\n",
    "plt.fill_between(delta_xtr, I_xtr, alpha=0.15, color='#00aaff')\n",
    "ax = plt.gca()\n",
    "ax.invert_xaxis()\n",
    "plt.show()\n",
    "A3 = simpson(I_xtr, x=delta_xtr)\n",
    "print(\"peak(s) area = \",A3)\n",
    "\n",
    "a = 0.85\n",
    "b = 1.0\n",
    "interval = (delta > a) & (delta < b)\n",
    "ind = np.nonzero(interval)\n",
    "I_xtr = I[ind]\n",
    "delta_xtr=delta[ind]\n",
    "plt.plot(delta_xtr, I_xtr)\n",
    "plt.fill_between(delta_xtr, I_xtr, alpha=0.15, color='#00aaff')\n",
    "ax = plt.gca()\n",
    "ax.invert_xaxis()\n",
    "plt.show()\n",
    "A4 = simpson(I_xtr, x=delta_xtr)\n",
    "print(\"peak(s) area = \",A4)\n",
    "\n",
    "#Q3\n",
    "nH = 8\n",
    "sumA = A1 + A2 + A3 + A4\n",
    "n1 = nH * A1/sumA\n",
    "n2 = nH * A2/sumA\n",
    "n3 = nH * A3/sumA\n",
    "n4 = nH * A4/sumA\n",
    "print(\"number of hydrogens = \",n1,n2,n3,n4)\n",
    "print(\"number of hydrogens = \",np.round(n1),np.round(n2),np.round(n3),np.round(n4)) #makes it easier to read"
   ]
  },
  {
   "cell_type": "markdown",
   "id": "84a4095c-a77d-4645-ad56-549c116b613b",
   "metadata": {},
   "source": [
    "<div class=\"rqT\" title=\"Do you want to generalize this code?\">\n",
    "\n",
    "If you need to analyze an NMR spectrum with many peaks, repeating the same code several times is not the best way to proceed. This will make the notebook difficult to read, and in the end you may make mistakes that are hard to find. Let's develop functions in order to avoid this.\n",
    "    \n",
    "If you **don't feel ready** or **don't care to know how to write functions** because the previous copy and paste of similar code parts suits you, you can safely skip the next Python cell &#x1F447;, up to the [*Derivatives* sub-section](#derivatives). But try to come back one day! &#x1F468;&#x200D;&#x1F4BB; &#x1F469;&#x200D;&#x1F4BB;\n",
    "</div>"
   ]
  },
  {
   "cell_type": "code",
   "execution_count": null,
   "id": "d18a6b2f-50b8-4e0a-a832-a155630a7316",
   "metadata": {},
   "outputs": [],
   "source": [
    "def zoomNMR(limits,delta,I,plot=True):\n",
    "    \"\"\"\n",
    "    plots a 1D NMR spectrum zoomed-in between limits and calculates the area in this interval, using the simpson method of scipy.integrate\n",
    "    input:\n",
    "        - limits = numpy array with the two limits of integration/zoom\n",
    "        - delta = a numpy array with chemical shifts\n",
    "        - I = a numpy array with the corresponding intensites: I = f(delta)\n",
    "        - plot = boolean (default:True)\n",
    "    returns:\n",
    "        the area below the I = f(delta) in the limits[0]-limits[1] interval\n",
    "        i.e. integral(I)dI between limits[0] and limits[1]\n",
    "    plots:\n",
    "        a spectrum zoomed in the limits[0]-limits[1] domain if the plot variable is set to True\n",
    "    \"\"\"\n",
    "    from scipy.integrate import simpson\n",
    "    interval = (delta > limits[0]) & (delta < limits[1])\n",
    "    ind = np.nonzero(interval)\n",
    "    I_zoom = I[ind]\n",
    "    delta_zoom=delta[ind]\n",
    "    if (plot):\n",
    "        plt.plot(delta_zoom, I_zoom)\n",
    "        plt.fill_between(delta_zoom, I_zoom, alpha=0.15, color='#00aaff')\n",
    "        ax = plt.gca()\n",
    "        ax.invert_xaxis()\n",
    "        plt.show()\n",
    "    A = simpson(I_zoom, x=delta_zoom)\n",
    "    return A\n",
    "\n",
    "def Calc_nXperMultiplet(nXtot,nMultiplets,AMultiplets):\n",
    "    \"\"\"\n",
    "    calculates the number of nuclei X for all NMR signals\n",
    "    input:\n",
    "        - nXtot = total number of nuclei (eg number of protons)\n",
    "        - nMultiplets = total number of peaks\n",
    "        - AMultiplets = numpy table with the area for each NMR peak (expecting nMultiplets values)\n",
    "    returns:\n",
    "        a numpy array that contains the number of nuclei X for each peak\n",
    "    \"\"\"\n",
    "    sumA = 0.\n",
    "    n = np.zeros(nMultiplets) #create a numpy array with nMultiplets zeros\n",
    "    for i in range(nMultiplets):\n",
    "        sumA += AMultiplets[i]\n",
    "    for i in range(nMultiplets):\n",
    "        n[i] = nXtot * AMultiplets[i]/sumA\n",
    "    return n\n",
    "    \n",
    "nMultiplets = 4\n",
    "limits=np.array([[0.85,1.0],\n",
    "                 [2.25,2.35],\n",
    "                 [1.45,1.70],\n",
    "                 [3.5,3.65]\n",
    "                 ])\n",
    "# on the contrary to lists, an array cannot be increased with new items. It must first be initialized with the appropriate size \n",
    "# the A array is initialized with zeros\n",
    "A=np.zeros(nMultiplets)\n",
    "\n",
    "nH = 8\n",
    "for i in range(nMultiplets):\n",
    "    A[i] = zoomNMR(limits[i],delta,I,True)\n",
    "\n",
    "n = Calc_nXperMultiplet(nH, nMultiplets, A)\n",
    "\n",
    "for i in range(nMultiplets):\n",
    "    print(f\"[{limits[i][0]:.2f}-{limits[i][1]:.2f}] ppm --> {n[i]:.1f} H\")"
   ]
  },
  {
   "cell_type": "markdown",
   "id": "b65a0e1b-a3cf-4598-82cc-a57f1286c9ce",
   "metadata": {
    "tags": []
   },
   "source": [
    "### <a name=\"derivatives\"></a>Derivatives\n",
    "\n",
    "<div class=\"intro\">\n",
    "\n",
    "Let's now move to thermodynamics, and more specifically to two thermodynamic properties: the enthalpy, $H$, and the heat capacity at constant pressure, $C_P$. The enthalpy value of a chemical system is determined entirely by the temperature, pressure, and composition of this system. $H$ has the dimensions of **energy**.\n",
    "\n",
    "If we consider a constant pressure process, it can be shown that the first derivative of *H* with respect to temperature is nothing else but $C_P$:\n",
    "\n",
    "$$C_{P}(T)=\\left(\\frac{\\partial H}{\\partial T}\\right)_{P}$$\n",
    "\n",
    "$C_P(T)$ is actually the amount of heat to be supplied to an object to produce a unit change in its temperature *T*. It is usually expressed as Joules per Kelvin in terms of the actual amount of material being considered, most commonly a mole.\n",
    "\n",
    "</div>\n",
    "<br>\n",
    "<div class=\"app\">\n",
    "\n",
    "In the next cell, we will:\n",
    "    \n",
    "**1.** load with `np.genfromtxt` *H* values experimentally found for copper (Cu) under *P* = 1 bar, at various temperatures (first column = *T* in K, second column = *H* in kJ․mol$^{-1}$)\n",
    "\n",
    "**2.** plot *H* as a function of *T*. It will give the opportunity to annotate specific parts on the graph\n",
    "\n",
    "**3.** convert *H* in J․mol$^{-1}$, before the calculation of $C_P$ as $\\left(\\frac{\\partial H}{\\partial T}\\right)_{P}$\n",
    "    \n",
    "</div>"
   ]
  },
  {
   "cell_type": "code",
   "execution_count": null,
   "id": "03b7d865-dd31-4c02-b956-6d6865e7510f",
   "metadata": {},
   "outputs": [],
   "source": [
    "T,H = np.genfromtxt(\"./MiscData/H0-Cu.csv\", delimiter=\"\\t\", skip_header=1, unpack=True)\n",
    "#T and H are numpy arrays\n",
    "# uncomment the next two lines if you want to check the content of T and H\n",
    "#print(\"Temperature = \",T)\n",
    "#print(\"Enthalpy = \",H)\n",
    "\n",
    "plt.figure(figsize=(12,8))\n",
    "plt.plot(T, H, color='darkblue', linestyle='-', marker=\"o\",markersize=10)\n",
    "plt.xlabel('Temperature / K',size=14,fontweight='bold',color='blue')\n",
    "plt.ylabel('H° - H°(298.15K) / kJ.mol-1',size=14,fontweight='bold',color='blue')\n",
    "plt.xticks(fontsize=16,fontweight='bold')\n",
    "plt.yticks(fontsize=16,fontweight='bold')\n",
    "\n",
    "#annotation on th graph of the phase transitions\n",
    "#play a bit with the xoff and yoff values to see what happens\n",
    "xoff = -10\n",
    "yoff = 50\n",
    "plt.annotate(\"1st phase transition\", ha='center', xy=(1358,42.798), xytext=(xoff, yoff), textcoords='offset points',fontsize=14,color='r',arrowprops=dict(color='red', width=0.1))\n",
    "plt.annotate(\"2nd phase transition\", ha='center', xy=(2843.261,392.257), xytext=(xoff, yoff), textcoords='offset points',fontsize=14,color='r',arrowprops=dict(color='red', width=0.1))\n",
    "\n",
    "plt.show()"
   ]
  },
  {
   "cell_type": "markdown",
   "id": "299da978-fbc0-467b-8b49-85fc64685897",
   "metadata": {},
   "source": [
    "<div class=\"rqE\">\n",
    "\n",
    "**There are two very interesting features at ∼1350 K and ∼2850 K**: a sudden increase of *H*. This pattern is characteristic of **phase transitions** (e.g. solid ↔ liquid or liquid ↔ gas). During these transitions very large changes in the value of the enthalpy for a substance occur without any noticeable change in temperature.\n",
    "    \n",
    "Two phase transitions occur in this temperature domain:\n",
    "- a fusion of solid Cu at $T_\\mathrm{fus}$ = 1358 K (*i.e.* a phase transition solid ↔ liquid)\n",
    "- a vaporization of liquid Cu at $T_\\mathrm{vap}$ = 2843.2 K (*i.e.* a phase transition liquid ↔ gas)\n",
    "    \n",
    "</div>\n",
    "<br>\n",
    "<div class=\"intro\">\n",
    "    \n",
    "We are now going to calculate $C_p$ as the firt derivative of *H* with respect to *T*. Yet, we do not have a function $H(T)$, but values of *H* measured for different temperatures. So we have to numerically calculate the first derivative. The simplest way to do that is by calculating for each temperature $T_i$:\n",
    "\n",
    "$$C_p(T_i) = H'(T_{i}) = \\frac{\\Delta H}{\\Delta T} = \\frac{H(T_{i+1})-H(T_{i})}{T_{i+1}-T_{i}}$$\n",
    "\n",
    "The `gradient(y,x)` function of `NumPy` can do such calculation, using a more accurate formulation. In practice, it returns the first derivative at each point of an array y, which values are located at the positions contained in the x array.\n",
    "</div>\n",
    "<br>\n",
    "<div class=\"app\">\n",
    "\n",
    "In the next cell, we are going to:\n",
    "\n",
    "**1.** calculate $C_P$ as the derivative of *H* with respect to *T*, using `np.gradient`\n",
    "\n",
    "**2.** plot $C_P$ as a function of *T*\n",
    "</div>\n",
    "<br>\n",
    "<div class=\"rqE\">\n",
    "\n",
    "But first of all, a gentle mathematical reminder... The plot of $H(T)$ shows two discontinuities of the curve at each phase transition. Given the genuine definition of the first derivative, *i.e.*:\n",
    "\n",
    "$$f'(a)=\\lim_{h\\rightarrow0}\\frac{f(a+h)-f(x)}{h}$$\n",
    "\n",
    "and given as well what you know about derivatives, what is the expected value of $C_P$ at phase transitions?...    \n",
    "\n",
    "$C_{P}\\rightarrow+\\infty$ !! (since *h* = 0 either at $T_\\mathrm{fus}$ and $T_\\mathrm{vap}$)\n",
    "    \n",
    "In other words, if *f* is differentiable at *a*, then *f* must also be **continuous** at *a*\n",
    "    \n",
    "This why a very large numerical value is found for $C_P$ at $T_\\mathrm{fus}$ and $T_\\mathrm{vap}$. It involves to set the limits of the y axis (see code below).\n",
    "\n",
    "</div>"
   ]
  },
  {
   "cell_type": "code",
   "execution_count": null,
   "id": "6e1c9128-7f35-466e-a2eb-bea162f09cd3",
   "metadata": {},
   "outputs": [],
   "source": [
    "T,H = np.genfromtxt(\"./MiscData/H0-Cu.csv\", delimiter=\"\\t\", skip_header=1, unpack=True)\n",
    "# conversion of H to J.mol-1\n",
    "H *= 1000.\n",
    "\n",
    "# first calculate Cp as the gradient of H with respect to T\n",
    "Cp = np.gradient(H, T)\n",
    "\n",
    "# now plot Cp as a function of T\n",
    "plt.figure(figsize=(12,8))\n",
    "plt.plot(T, Cp, color='r', linestyle='-', marker=\"o\",markersize=5)\n",
    "plt.xlabel('Temperature / K',size=14,fontweight='bold',color='blue')\n",
    "plt.ylabel('Cp / J.mol-1.K-1',size=14,fontweight='bold',color='blue')\n",
    "plt.xticks(fontsize=16,fontweight='bold')\n",
    "plt.yticks(fontsize=16,fontweight='bold')\n",
    "#set the limits of the y axis due to the high Cp values\n",
    "plt.ylim(0,200)"
   ]
  },
  {
   "cell_type": "markdown",
   "id": "897851df-67b5-43a5-9fa8-bfb0f641b2a2",
   "metadata": {},
   "source": [
    "## Advanced control using conditional branching and looping structures\n",
    "\n",
    "### Loops\n",
    "\n",
    "<div class=\"intro\">\n",
    "\n",
    "In computer programming, loops are used to repeat a block of code. The `for` loop is used to run a block of code for a certain number of times. It is used to iterate over any sequences such as lists, range of numbers,.. The simplest way to figure out how it works is to run the blocks of codes below:\n",
    "</div>"
   ]
  },
  {
   "cell_type": "code",
   "execution_count": null,
   "id": "9ccc28bb-7381-4df5-9838-7fd8a955b22f",
   "metadata": {},
   "outputs": [],
   "source": [
    "superheroes = [\"Superman\", \"Homelander\", \"Silver Surfer\", \"Batman\"]\n",
    "for i in superheroes:\n",
    "    print(i)\n",
    "    print(\"-- End of the list ?? --\") #this print command belongs to the indented block => it's part of the loop"
   ]
  },
  {
   "cell_type": "code",
   "execution_count": null,
   "id": "8f22322b-6d49-4a5d-9f88-e9ea87718ffa",
   "metadata": {},
   "outputs": [],
   "source": [
    "superheroes = [\"Superman\", \"Homelander\", \"Silver Surfer\", \"Batman\"]\n",
    "for i in superheroes:\n",
    "    print(i)\n",
    "print(\"-- End of the list !! --\") #this print command does not belong to the indented block => it's outside the loop"
   ]
  },
  {
   "cell_type": "markdown",
   "id": "a33f5549-50ed-449f-935e-e5a2a81f8b84",
   "metadata": {},
   "source": [
    "<div class=\"rqE\">\n",
    "\n",
    "The `print(i)` command must belong to an **indented block**, consisting in this case of one statement. The indentation tells Python which statements are in the loop, and which are outside the loop.\n",
    "</div>"
   ]
  },
  {
   "cell_type": "markdown",
   "id": "6cdd18ac-c4e6-41ef-bb58-c0b8c0c8a232",
   "metadata": {},
   "source": [
    "<div class=\"app\">\n",
    "\n",
    "We want to annotate all the points on the graph with the name of the electrode, using a built-in `annotate` function of `matplotlib.pyplot` (aka `plt`) that takes the text, and then the x and y coordinates of the point.\n",
    "    \n",
    "A `VolcanoPlot-wA.csv` file, contained in the `MiscData/` folder differs from the previoulsy loaded `VolcanoPlot-woA.csv` file by a third column that contains the chemical composition of the electrode:\n",
    "\n",
    "<img src=\"MiscData/VolcanoPlot-SpreadSheet-wA.png\" style=\"margin-left:auto; margin-right:auto; display: block; width:300px\" id=\"img_VolcanoPlotData2\" alt=\"Volcano plot data for the hydrogen reaction\"/>\n",
    "    \n",
    "**1.** Read this file with `np.genfromtxt`. \n",
    "\n",
    "**2.** Then plot again $\\log(i_0)$ as a function of $\\Delta_\\mathrm{ads}G$ and smooth the function\n",
    "\n",
    "**3.** Finally annotate each point by the corresponding chemical composition of the electrode. Mind that `np.annotate` cannot receive arrrays as arguments. Use a loop to annotate all points.\n",
    "</div>"
   ]
  },
  {
   "cell_type": "code",
   "execution_count": null,
   "id": "84d02462-e813-4e32-bfdb-3b11e72e4cad",
   "metadata": {},
   "outputs": [],
   "source": [
    "import numpy as np #np is now a shortcut for numpy\n",
    "import matplotlib.pyplot as plt #plt is now a shortcut for matplotlib.pyplot\n",
    "\n",
    "# np.genfromtxt can be a pain in the ass when you have to read both floats and text\n",
    "# the most reliable way is to explicitly define each column type, namely float, float and '|U10'\n",
    "# '|U10'??? yes, as unicode 10-character string. Well, never mind, just copy/paste\n",
    "# And if the width of the text column increases 10 caracters, increase '|U10' to the appropriate '|Un' statement\n",
    "DG, logi0, electrode = np.genfromtxt(\"./MiscData/VolcanoPlot-wA.csv\", delimiter=\";\", skip_header=1, dtype=(float,float,'|U10'), unpack=True)\n",
    "# that was the tricky part, now it's easy\n",
    "print(\"DeltaG = \",DG)\n",
    "print(\"log(i0) = \",logi0)\n",
    "print(\"electrode = \",electrode)"
   ]
  },
  {
   "cell_type": "code",
   "execution_count": null,
   "id": "c77870e0-d7bf-407b-81cd-83227e3e4dd1",
   "metadata": {},
   "outputs": [],
   "source": [
    "from scipy.signal import savgol_filter\n",
    "DGhat, logi0hat = savgol_filter((DG,logi0), 11, 3)\n",
    "\n",
    "plt.figure(figsize=(12,8))\n",
    "plt.plot(DG, logi0, color='r', linestyle='', marker=\"o\",markersize=16)\n",
    "plt.plot(DGhat, logi0hat, color='b', linestyle='--', linewidth=4, alpha=0.3) #alpha is the degree of transparency of the graph (opaque -> alpha = 1, fully translucent -> alpha = 0)\n",
    "plt.xlabel('Gibbs adsorption energy',size=14,fontweight='bold',color='blue')\n",
    "plt.ylabel('log(i0)',size=14,fontweight='bold',color='blue')\n",
    "plt.xticks(fontsize=16,fontweight='bold')\n",
    "plt.yticks(fontsize=16,fontweight='bold')\n",
    "\n",
    "# annotation\n",
    "for i in range(len(electrode)):\n",
    "    plt.annotate(electrode[i], xy=(DG[i]+0.6,logi0[i]),fontsize=14,fontweight='bold')\n",
    "\n",
    "plt.savefig('./FiguresCreatedInNotebooks/fig2-Pyt4PC.png',dpi=300,transparent=True)\n",
    "plt.show()\n"
   ]
  },
  {
   "cell_type": "markdown",
   "id": "08ae871c-54ce-4253-98a8-a2349fbba8ec",
   "metadata": {},
   "source": [
    "<div class=\"rqE\">\n",
    "\n",
    "The identification of the best electrocatalytic electrodes for the production of molecular hydrogen is now straightforward... provided of course that you know how to analyze such volcano plots: it is pure platinum or palladium electrodes, because they lie on top of the volcano. &#x1F60E;\n",
    "</div>"
   ]
  },
  {
   "cell_type": "markdown",
   "id": "9fd68672-9151-4581-a0c5-6d1babb2b2f5",
   "metadata": {},
   "source": [
    "### Conditional branching and interactive script with `input()`\n",
    "\n",
    "<div class=\"intro\">\n",
    " \n",
    "Conditional branching is the term used to describe the set of operations such as `if <condition> do <something> else do <something else>`\n",
    "\n",
    "Let's start simple. It also gives the opportunity to introduce the `input` command, that takes input from the user and returns it *as a string*:\n",
    "</div>"
   ]
  },
  {
   "cell_type": "code",
   "execution_count": null,
   "id": "e6a484ca-56fa-43b5-a9ac-5d11442a86a3",
   "metadata": {},
   "outputs": [],
   "source": [
    "#The input() function reads a line from the input and converts it into a string\n",
    "a = input(\"Please give a number\")\n",
    "# conversion of the input into a float using the float() function\n",
    "a = float(a)\n",
    "if a >= 0:\n",
    "    print(\"the input value is >= zero\") # this print command belongs to the \"do <something>\"\" indented block\n",
    "                                        # it will be ran if the a >= 0 condition returns True\n",
    "else:\n",
    "    print(\"the input value is < zero\") #this print command belongs to the \"do <something else>\" indented block\n",
    "                                       # it will be ran if the a >= 0 condition returns False"
   ]
  },
  {
   "cell_type": "markdown",
   "id": "af5ace3a-2b89-4b6c-bfe1-41564a8292fe",
   "metadata": {},
   "source": [
    "<div class=\"intro\">\n",
    " \n",
    "There are often choices programs have to make that are not simply `True` or `False`. For situations in which there are three or more choices, there is the `elif` keyword, which is an abbreviation for else, if:\n",
    "</div>"
   ]
  },
  {
   "cell_type": "code",
   "execution_count": null,
   "id": "e7161d7b-b9ae-48a5-b545-1a38ca164042",
   "metadata": {},
   "outputs": [],
   "source": [
    "#the string can directly be imported an a float\n",
    "a = float(input(\"Please give a number\"))\n",
    "if a > 0:\n",
    "    print(\"the input value is > zero\")\n",
    "elif a == 0: # it's an == operator that compares the value or equality of two objects\n",
    "    print(\"the input value is = zero\")\n",
    "else:\n",
    "    print(\"the input value is < zero\")"
   ]
  },
  {
   "cell_type": "markdown",
   "id": "99ee1df8-f0a7-4d2b-8ee0-58aa3647b20e",
   "metadata": {},
   "source": [
    "## A word about object-oriented programming (OOP) in Python\n",
    "\n",
    "<div class=\"intro\">\n",
    "\n",
    "The next short Python script illustrates the practical consequence of **object-oriented programming** (**OOP**) in Python. Let's consider a NumPy array, named `dummy`. Since it is declared as `dummy = np.array([items])`, it is a **NumPy object**. It is actually NumPy’s main object. As such, all methods (or functions) defined in the NumPy library apply to this `dummy` object.\n",
    "    \n",
    "NumPy provides several methods, among them the calculation of the mean value of an array (`mean()`), its maximum (`max()`) and minimum (`min()`) value. As you can see in the next cell, you can use them either by calling:\n",
    "- `np.function(dummy)` → It is quite straightforward to understand this statement: the `np.function()` is applied to the `dummy` argument\n",
    "- `dummy.function()` → This second statement is directly related to OOP: `dummy` being a `numpy` object, `dummy.function()` is the so-called **dot notation** that also involves that the `function()` method is applied to the `dummy` object. \n",
    "\n",
    "Both notations yield the same results... hopefully :-):\n",
    "</div>"
   ]
  },
  {
   "cell_type": "code",
   "execution_count": null,
   "id": "b2482979-0f6e-4a3d-ad7f-c85414cb8c25",
   "metadata": {},
   "outputs": [],
   "source": [
    "import numpy as np #np is now a shortcut for numpy\n",
    "\n",
    "dummy = np.array([-20, -10, -5, -3, -2, -1, -0.1, 0, 0.1, 1, 2, 3, 5, 10, 20])\n",
    "print(\"mean = \",np.mean(dummy), \"max = \", np.max(dummy), \"min = \", np.min(dummy))\n",
    "print(\"mean = \",dummy.mean(), \"max = \", dummy.max(), \"min = \", dummy.min())"
   ]
  },
  {
   "cell_type": "markdown",
   "id": "4dd7bdf7-1c56-4cd1-b71a-6286ca1ccbf3",
   "metadata": {},
   "source": [
    "<div class=\"rqE\">\n",
    "\n",
    "**Don't forget, in the dot notation, the () after the name of the function (or method)**. Otherwise, the Python interpreter will assume that you are calling a variable (a so-called *instance attribute* or *class attribute*) associated to the `dummy` object. For example, `dummy.size` returns the number of elements of the `dummy` array.\n",
    "</div>"
   ]
  },
  {
   "cell_type": "code",
   "execution_count": null,
   "id": "feca8efe-b0d6-4655-8615-4765550b3b11",
   "metadata": {},
   "outputs": [],
   "source": [
    "print(\"Test 1. Number of elements of the dummy array = \",dummy.size)"
   ]
  },
  {
   "cell_type": "code",
   "execution_count": null,
   "id": "750b8de2-f4d3-4653-8dd6-14ea06e45be4",
   "metadata": {},
   "outputs": [],
   "source": [
    "print(\"Test 2. Number of elements of the dummy array = \",dummy.size())"
   ]
  },
  {
   "cell_type": "markdown",
   "id": "5d6a73ba-2eca-4841-9779-d53b44a50f52",
   "metadata": {},
   "source": [
    "<div class=\"rqE\">\n",
    "\n",
    "The second statement (Test 2) returned an error, saying about `dummy.size()` that the `'int' object is not callable`:\n",
    "```Python\n",
    "TypeError                                 Traceback (most recent call last)\n",
    "Input In [56], in <cell line: 1>()\n",
    "----> 1 print(\"Test 2. Number of elements of the dummy array = \",==dummy.size()==)\n",
    "\n",
    "TypeError: 'int' object is not callable\n",
    "```\n",
    "    \n",
    "It's because since `size` returns an integer number, `size()` means that you try to call an integer value as a function, which makes no sense.\n",
    "    \n",
    "**<span style=\"color:red\">FAQ</span>: &#x1F64B; \"<i>It seems a little bit complicated. <span style=\"color:red\">Can I skip this part?</span></i>\"** \n",
    "\n",
    "At the beginning, why not. But understanding this kind of behavior will save you a lot of trouble when you develop your applications in Python, even simple ones. Don't waste too much time trying to Google the origin of the errors generated by your codes. **Understanding this very important \"OOP stuff\" will save you a lot of time.** We will also see in the same notebook that this OOP approach allows the fine tuning of plots.\n",
    "\n",
    "And if you want to develop advanced applications, it is a must. And a valuable skill on the labor market.\n",
    "</div>"
   ]
  },
  {
   "cell_type": "markdown",
   "id": "d407f4a7-9a5d-4b9c-a092-28a5162fb3a0",
   "metadata": {},
   "source": [
    "<div class=\"rqT\" title=\"Do you want to know more?\">\n",
    "\n",
    "Let's develop a simple application. **If you don't feel comfortable, jump to the *[Python fancy plotting](#pfp)* section &#x1F447; and come back later.**\n",
    "</div>\n",
    "<br>\n",
    "<div class=\"app\">\n",
    "\n",
    "We will now define a class named [`square`](https://en.wikipedia.org/wiki/Square). \n",
    "\n",
    "**1.** Define as **class attributes** (or class variables) all properties inherited by any square\n",
    "- \"regular quadrilateral\" species string variable\n",
    "- logical variable to specify that a square is a regular polygon\n",
    "- \"number of sides\" integer variable\n",
    "- \"internal and central angles\" (in Degrees) float variables\n",
    "\n",
    "**2.** Every new square object will be defined by its side length variable, *i.e.* it must be a so-called **instance attribute**\n",
    "    \n",
    "**3.** Implement several **class methods** (or class functions) that can be applied to square objects:\n",
    "- perimeter()\n",
    "- area()\n",
    "- circumradius()\n",
    "- inscribed circle radius()\n",
    "</div>"
   ]
  },
  {
   "cell_type": "code",
   "execution_count": null,
   "id": "8b1664b9-bbf9-4c3b-9c09-5a3802c19400",
   "metadata": {},
   "outputs": [],
   "source": [
    "#Question 1\n",
    "class square:\n",
    "    # class attributes are class variables that are inherited by every object of a class. The value of class attributes remain the same for every new object\n",
    "    species = \"regular quadrilateral\"\n",
    "    RegPolygon = True\n",
    "    nsides = 4\n",
    "    InternalAngle= 360.0/nsides # class variables can also be defined by simple operations\n",
    "    CentralAngle = InternalAngle\n",
    "\n",
    "#Question 2\n",
    "    #  instance attributes, which are defined in the __init__() function, are class variables that allow us to define different values for each object of a class\n",
    "    def __init__(self, sidelength): #self stands for square,and it is used to access variables that belongs to the class\n",
    "        self.sidelength = sidelength\n",
    "\n",
    "#Question 3\n",
    "    # class Methods: you can define as many methods as you want in a class using the def keyword.\n",
    "    # Each method must have the first parameter, generally named as self, which refers to the calling instance\n",
    "    def perimeter(self):\n",
    "        \"\"\"returns the perimeter of a square as a function of the side length\"\"\"\n",
    "        return self.nsides*self.sidelength;\n",
    "    def area(self):\n",
    "        \"\"\"returns the area of a square as a function of the side length\"\"\"\n",
    "        return self.sidelength**2\n",
    "    def cradius(self):\n",
    "        \"\"\"returns the circumradius of a square as a function of the side length\"\"\"\n",
    "        return self.sidelength*np.sqrt(2)/2\n",
    "    def iradius(self):\n",
    "        \"\"\"returns the radius of the circle inscribed in the square as a function of the side length\"\"\"\n",
    "        return self.sidelength/2"
   ]
  },
  {
   "cell_type": "markdown",
   "id": "785dfe8c-b7e3-4a85-aa03-c4ae13dfd34d",
   "metadata": {},
   "source": [
    "<div class=\"app\">\n",
    "\n",
    "\n",
    "**4.** Now, use the square class:\n",
    "\n",
    "- define a new square, with a side length of 3\n",
    "- check that the side length instance attribute is 3, indeed\n",
    "- print the class attributes: species, regular polygon, number of sides, internal angle, central angle\n",
    "- print its perimeter, calculated either through the dot notation or the method(instance attribute) notation\n",
    "- print the three other properties,calculated through dot notation \n",
    "</div>"
   ]
  },
  {
   "cell_type": "code",
   "execution_count": null,
   "id": "a6ddf9ad-7fcd-4416-866d-74e36d6fd7a6",
   "metadata": {},
   "outputs": [],
   "source": [
    "#Question 4\n",
    "square1 = square(3) #we create an instance of our square class to create a square1 object. Given the __init__ definition of the class, 2 is the length instance attribute\n",
    "\n",
    "print(\"instance attribute\")\n",
    "print(\"side length = \",square1.sidelength, \"unit of length\") # checking instance attribute through dot notation\n",
    "\n",
    "print()\n",
    "print(\"class attributes\")\n",
    "print(\"Species = \",square1.species) # checking class attribute through dot notation\n",
    "print(\"Regular polygon = \",square1.RegPolygon) # checking class attribute through dot notation\n",
    "print(\"Number of sides = \",square1.nsides) # checking class attribute through dot notation\n",
    "print(\"Internal angle = \",square1.InternalAngle,\"°\") # checking class attribute through dot notation\n",
    "print(\"Central angle = \",square1.CentralAngle,\"°\") # checking class attribute through dot notation\n",
    "\n",
    "print()\n",
    "print(\"perimeter function\")\n",
    "#accessing the perimeter method through dot notation and through method(instance attribute) notation\n",
    "print(\"Perimeter = \",square1.perimeter(), \"units of length\") \n",
    "print(\"Perimeter = \",square.perimeter(square1), \"units of length\")\n",
    "\n",
    "print()\n",
    "print(\"other functions\")\n",
    "#accessing other properties through dot notation \n",
    "print(\"Area = \",square1.area(), \"(units of length)^2\") \n",
    "print(\"Circumradius = \",square1.cradius(), \"units of length\") \n",
    "print(\"Radius of the inner circle = \",square1.iradius(), \"units of length\") "
   ]
  },
  {
   "cell_type": "markdown",
   "id": "b846e35b-ad61-46d2-974e-0e729643701d",
   "metadata": {},
   "source": [
    "## <a name=\"pfp\"></a>Python fancy plotting: object-oriented approach and animated plots\n",
    "\n",
    "### Object-oriented approach"
   ]
  },
  {
   "cell_type": "markdown",
   "id": "aaa6b050-e12b-4958-80a7-0d89706bc547",
   "metadata": {},
   "source": [
    "<div class=\"intro\"\n",
    "     \n",
    "While it is easy to quickly generate plots with the `matplotlib.pyplot` module, the use of **object-oriented approach** is recommended as it gives **more control and customization** of your plots. The main idea behind using the more formal object-oriented method is to create figure and axes objects and then just call methods or attributes from these objects.\n",
    "\n",
    "Each plot that we see in a figure, is an `axes` object. The `axes` object holds the actual data that we are going to display. It will also contain X- and Y-axis labels, a title.\n",
    "\n",
    "Don't make a confusion between `axes` and `axis` objects. `axis` objects set the data limits. They also contain the ticks and ticks labels. They belong to an `axes` object.\n",
    "</div>"
   ]
  },
  {
   "cell_type": "code",
   "execution_count": null,
   "id": "33ae162b-f924-4c67-affe-de97a048393b",
   "metadata": {},
   "outputs": [],
   "source": [
    "import numpy as np\n",
    "import matplotlib.pyplot as plt\n",
    "\n",
    "fig, axes = plt.subplots(figsize=(10, 6)) #new fig and axes instances\n",
    "tmin = 0.\n",
    "tmax = 3600.\n",
    "t = np.linspace(tmin,tmax,60)\n",
    "\n",
    "def CA(k, CA0, t):\n",
    "    return CA0*np.exp(-k*t)\n",
    "\n",
    "CA0 = 0.1 #mol.L-1\n",
    "k = 1e-3\n",
    "\n",
    "axes.set_xlim(tmin,tmax)\n",
    "axes.set_xlabel(\"time/s\",size=14,weight='bold',color='b')\n",
    "axes.set_ylabel(\"[A]\",size=14,weight='bold',color='b')\n",
    "axes.tick_params(axis='both', labelsize=16,labelcolor='red') # powerful command, but it does not provide a fontweight option\n",
    "for tick in axes.xaxis.get_majorticklabels(): tick.set_fontweight('bold') #it is both powerful (you can specify the type of a specific tick) and annoying\n",
    "for tick in axes.yaxis.get_majorticklabels(): tick.set_fontweight('bold')\n",
    "\n",
    "axes.plot(t,CA(k,CA0,t),label=f\"k = {k:.1e}\",linewidth=3)\n",
    "\n",
    "axes.legend(loc = 'best', fontsize=18)\n",
    "plt.show()"
   ]
  },
  {
   "cell_type": "markdown",
   "id": "4555f834-d129-473a-b316-4208f022bebe",
   "metadata": {},
   "source": [
    "### Animated plots"
   ]
  },
  {
   "cell_type": "markdown",
   "id": "2477f90c-1c51-4e71-9bb2-af33cbb4f73d",
   "metadata": {},
   "source": [
    "<div class=\"intro\">\n",
    "\n",
    "Now that you are an advanced python programmer &#x1F4AA;, try to analyze the next piece of code for yourself. But first, let's provide some context.\n",
    "\n",
    "The intent is to draw an animated plot of an exponential decay $C(t)$ of the type\n",
    "    \n",
    "$$C(t) = C_0 \\exp(-kt)$$\n",
    "\n",
    "where:\n",
    "- $C(t)$ is the quantity at time *t*\n",
    "- *t* is the time \n",
    "- $C_0$ is the initial quantity, *i.e.* $C(t=0)$\n",
    "- *k* is the exponential decay constant of this process.\n",
    "\n",
    "You will see one day, if not already learned, that this equation is the so-called integrated form of the rate law for a first-order chemical reaction R &rarr; P. $C_0$ is the initial concentration of reactant R, *k* is the rate constant of this reaction, and $C(t)$ is the concentration of R at time *t*.\n",
    "</div>"
   ]
  },
  {
   "cell_type": "code",
   "execution_count": null,
   "id": "8f498e3d-1a33-4c06-b9f6-47ee0e227d2a",
   "metadata": {},
   "outputs": [],
   "source": [
    "import numpy as np\n",
    "import matplotlib.pyplot as plt\n",
    "from matplotlib.animation import FuncAnimation\n",
    "tmin = 0.\n",
    "tmax = 3600.\n",
    "t = np.linspace(tmin,tmax,60)\n",
    "\n",
    "def C(k, C0, t):\n",
    "    return C0*np.exp(-k*t)\n",
    "\n",
    "C0 = 0.1 #mol.L-1\n",
    "k = np.linspace(1e-4,1e-2,30)\n",
    "\n",
    "fig, axes = plt.subplots(figsize=(10, 6)) \n",
    "\n",
    "def func(i):\n",
    "    axes.clear()\n",
    "    axes.set_xlim(tmin,tmax)\n",
    "    axes.set_xlabel(\"time/s\",size=14,weight='bold',color='b')\n",
    "    axes.set_ylabel(\"C(t)\",size=14,weight='bold',color='b')\n",
    "    axes.tick_params(axis='both', labelsize=16,labelcolor='red') # powerful command, but it does not provide a fontweight option\n",
    "    for tick in axes.xaxis.get_majorticklabels(): tick.set_fontweight('bold') #it is both powerful (you can specify the type of a specific tick) and annoying\n",
    "    for tick in axes.yaxis.get_majorticklabels(): tick.set_fontweight('bold')\n",
    "    axes.plot(t,C(k[i],C0,t),label=f\"k = {k[i]:.1e}\",linewidth=3)\n",
    "    axes.legend(loc = 'best', fontsize=18)\n",
    "    return\n",
    "\n",
    "from IPython.display import HTML, display\n",
    "ani = FuncAnimation(fig, func, fargs=(), interval=100, frames=np.size(k))\n",
    "plt.close(fig=fig) #very important (don't ask why...)\n",
    "display(HTML(ani.to_jshtml()))"
   ]
  },
  {
   "cell_type": "markdown",
   "id": "bd182737-1de2-44cd-babd-d135f5da955a",
   "metadata": {},
   "source": [
    "<div class=\"rqE\">\n",
    "\n",
    "As you can see, the higher *k* is, the faster the decrease in *C*, *i.e.* the reactant R is transformed more and more rapidly into the product of the reaction, P.\n",
    "</div>"
   ]
  },
  {
   "cell_type": "markdown",
   "id": "f6f80ce7-8b4f-4579-90e7-565436eaed1f",
   "metadata": {},
   "source": [
    "## Interactive matplotlib plots\n",
    "\n",
    "<div class=\"intro\">\n",
    "\n",
    "It requires the `ipympl` library, that is specifically called as a widget. It enables using the interactive features of matplotlib in Jupyter Notebooks, Jupyter Lab and Google Colab. You can basically zoom (&#9744; icon), switch between views (&larr; and &rarr; icons), move the graph (&#9532; icon) and revert to the initial view (&#127968; icon)\n",
    "</div>"
   ]
  },
  {
   "cell_type": "code",
   "execution_count": null,
   "id": "2d156a8b-765d-435e-b164-1599c728ae2d",
   "metadata": {},
   "outputs": [],
   "source": [
    "#enables the widget backend\n",
    "%matplotlib ipympl\n",
    "import matplotlib.pyplot as plt\n",
    "import numpy as np\n",
    "\n",
    "fig, ax = plt.subplots()\n",
    "\n",
    "\n",
    "x = np.linspace(0, 2*np.pi, 100)\n",
    "y = np.sin(3*x)\n",
    "ax.plot(x, y)\n",
    "plt.show()"
   ]
  },
  {
   "cell_type": "code",
   "execution_count": null,
   "id": "6e471261-c1ba-4c57-8495-01965c515b07",
   "metadata": {},
   "outputs": [],
   "source": [
    "plt.close(fig)\n",
    "%matplotlib inline\n",
    "fig, ax = plt.subplots()\n",
    "\n",
    "\n",
    "x = np.linspace(0, 2*np.pi, 100)\n",
    "y = np.sin(3*x)\n",
    "ax.plot(x, y)\n",
    "plt.show()"
   ]
  },
  {
   "cell_type": "markdown",
   "id": "660f6494-9824-4660-8ae8-3377fe1f96bf",
   "metadata": {},
   "source": [
    "## Final words\n",
    "\n",
    "<div class=\"rqE\">\n",
    "\n",
    "Let's cite Bravenec and Ward [1]: \"*Programming in Python empowers scientists to apply their knowledge to scales beyond what can be accomplished with manual effort. Whether automating operations for large volumes of data, solving numerical problems, or creating simulations, there's a wealth of applications out there. **We've only just scratched the surface**.*\" **One cannot but agree.** &#x1F642;\n",
    "\n",
    "**<span style=\"color:red\">Going deeper into the fantastic and vast capabilities of python and its libraries is the goal of this open course.</span>** &#x1F973;\n",
    "</div>"
   ]
  },
  {
   "cell_type": "markdown",
   "id": "c453c5df-7854-45b8-b110-35ad9f4c6278",
   "metadata": {},
   "source": [
    "## Bibliography\n",
    "\n",
    "[1] A. D. Bravenec & K. D. Ward (**2022**). Interactive Python Notebooks for Physical Chemistry, *J. Chem. Ed.* **100**:933–940, [10.1021/acs.jchemed.2c00665](https://doi.org/10.1021/acs.jchemed.2c00665)"
   ]
  },
  {
   "cell_type": "code",
   "execution_count": null,
   "id": "33152a52-ebcf-4cf2-8058-90d0fbaf35b1",
   "metadata": {},
   "outputs": [],
   "source": [
    "vID.end(cwd0)"
   ]
  },
  {
   "cell_type": "code",
   "execution_count": null,
   "id": "44deee4c-9f34-49f7-a641-da3d0da901de",
   "metadata": {},
   "outputs": [],
   "source": []
  }
 ],
 "metadata": {
  "kernelspec": {
   "display_name": "Python 3 (ipykernel)",
   "language": "python",
   "name": "python3"
  },
  "language_info": {
   "codemirror_mode": {
    "name": "ipython",
    "version": 3
   },
   "file_extension": ".py",
   "mimetype": "text/x-python",
   "name": "python",
   "nbconvert_exporter": "python",
   "pygments_lexer": "ipython3",
   "version": "3.11.11"
  },
  "toc-autonumbering": true,
  "toc-showcode": false,
  "toc-showmarkdowntxt": false
 },
 "nbformat": 4,
 "nbformat_minor": 5
}
