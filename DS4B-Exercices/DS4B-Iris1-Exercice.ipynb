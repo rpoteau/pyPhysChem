{
 "cells": [
  {
   "cell_type": "code",
   "execution_count": 1,
   "id": "1c082d1a-68f5-4753-ba48-1960c2eae64f",
   "metadata": {},
   "outputs": [
    {
     "data": {
      "text/html": [
       "<style>\n",
       "h1, h2, h3, h4, h5, h6 {\n",
       "  font-family: Verdana, \"DejaVu Sans\", \"Bitstream Vera Sans\", Geneva, sans-serif;\n",
       "  font-weight: bold;\n",
       "}\n",
       "body, ex, exE {\n",
       "  font-family: Verdana, \"DejaVu Sans\", \"Bitstream Vera Sans\", Geneva, sans-serif;\n",
       "  font-weight: 200;\n",
       "}\n",
       "h1 {\n",
       "  border: 0 solid #333;\n",
       "  padding: 30px ;\n",
       "  color: white;\n",
       "  background: #b11d01;\n",
       "  text-align: center;\n",
       "}\n",
       "h2 {\n",
       "  border: 3px solid #333;\n",
       "  padding: 18px ;\n",
       "  color: #b11d01;\n",
       "  background: #ffffff;\n",
       "  text-align: center;\n",
       "}\n",
       "h3 {\n",
       "  border: 0 solid #333;\n",
       "  padding: 12px ;\n",
       "  color: #000000;\n",
       "  background: #c1c1c1;\n",
       "  text-align: left;\n",
       "}\n",
       "h4 {\n",
       "  border: 0 solid #333;\n",
       "  padding: 2px ;\n",
       "  color: #000000;\n",
       "  background: #d9fffc;\n",
       "  text-align: left;\n",
       "}\n",
       "h5 {\n",
       "  border: 1px solid #333;\n",
       "  padding: 2px ;\n",
       "  color: #000000;\n",
       "  background: #ffffff;\n",
       "  text-align: left;\n",
       "}\n",
       ".intro {    \n",
       "    background-color: #f1f1f1;\n",
       "    border-color: #969696;\n",
       "    border-left: 5px solid #969696;\n",
       "    padding: 0.5em;\n",
       "    font-weight: 200;\n",
       "    }\n",
       ".introE {    \n",
       "    background-color: #f1f1f1;\n",
       "    border-color: #969696;\n",
       "    border-left: 5px solid #969696;\n",
       "    padding: 0.5em;\n",
       "    font-weight: 200;\n",
       "    color : #117996;\n",
       "    }\n",
       ".rq {    \n",
       "    background-color: #fcf2f2;\n",
       "    border-color: #dFb5b4;\n",
       "    border-left: 5px solid #dfb5b4;\n",
       "    padding: 0.5em;\n",
       "    font-weight: 200;\n",
       "    }\n",
       ".rqE {    \n",
       "    background-color: #fcf2f2;\n",
       "    border-color: #dFb5b4;\n",
       "    border-left: 5px solid #dfb5b4;\n",
       "    padding: 0.5em;\n",
       "    font-weight: 200;\n",
       "    color : #117996;\n",
       "    }\n",
       ".exold {    \n",
       "    background-color: #b2dbea80;\n",
       "    border-color: #0055ff;\n",
       "    border-left: 10px solid #0055ff;\n",
       "    padding: 0.5em;\n",
       "    font-weight: 200;\n",
       "    }\n",
       ".ex {    \n",
       "    background-color: #b2dbea80;\n",
       "    padding: 0.5em;\n",
       "    padding-top: 0em;\n",
       "    font-weight: 200;\n",
       "    position:relative;\n",
       "    }\n",
       ".ex::before {\n",
       "    background-color: #b2dbea;\n",
       "    content:\"Exercice\";\n",
       "    margin-left:-0.5em;\n",
       "    margin-right:-0.5em;\n",
       "    padding-left:0.5em;\n",
       "    padding-right:0.5em;\n",
       "    font-weight: 600;\n",
       "    display: block;\n",
       "    }\n",
       ".exE {    \n",
       "    background-color: #b2dbea80;\n",
       "    padding: 0.5em;\n",
       "    padding-top: 0em;\n",
       "    font-weight: 200;\n",
       "    position:relative;\n",
       "    color : #117996;\n",
       "    }\n",
       ".exE::before {\n",
       "    background-color: #b2dbea;\n",
       "    content:\"Exercise\";\n",
       "    margin-left:-0.5em;\n",
       "    margin-right:-0.5em;\n",
       "    padding-left:0.5em;\n",
       "    padding-right:0.5em;\n",
       "    font-weight: 600;\n",
       "    display: block;\n",
       "    color : #117996;\n",
       "    }\n",
       ".app {    \n",
       "    background-color: #b2dbea80;\n",
       "    padding: 0.5em;\n",
       "    padding-top: 0em;\n",
       "    font-weight: 200;\n",
       "    position:relative;\n",
       "    }\n",
       ".app::before {\n",
       "    background-color: #b2dbea;\n",
       "    content:\"Application\";\n",
       "    margin-left:-0.5em;\n",
       "    margin-right:-0.5em;\n",
       "    padding-left:0.5em;\n",
       "    padding-right:0.5em;\n",
       "    font-weight: 600;\n",
       "    display: block;\n",
       "    }\n",
       ".appE {    \n",
       "    background-color: #b2dbea80;\n",
       "    padding: 0.5em;\n",
       "    padding-top: 0em;\n",
       "    font-weight: 200;\n",
       "    color : #117996;\n",
       "    position:relative;\n",
       "    }\n",
       ".appE::before {\n",
       "    background-color: #b2dbea;\n",
       "    content:\"Application\";\n",
       "    margin-left:-0.5em;\n",
       "    margin-right:-0.5em;\n",
       "    padding-left:0.5em;\n",
       "    padding-right:0.5em;\n",
       "    font-weight: 600;\n",
       "    color : #117996;\n",
       "    display: block;\n",
       "    }\n",
       "</style>\n"
      ],
      "text/plain": [
       "<IPython.core.display.HTML object>"
      ]
     },
     "metadata": {},
     "output_type": "display_data"
    },
    {
     "data": {
      "text/markdown": [
       "**Début à:** Sunday 21 May 2023, 18:36:27  \n",
       "**Hostname:** localhost.localdomain (Linux)"
      ],
      "text/plain": [
       "<IPython.core.display.Markdown object>"
      ]
     },
     "metadata": {},
     "output_type": "display_data"
    },
    {
     "data": {
      "text/markdown": [
       "<p style=\"text-align: center\"><img width=\"800px\" src=\"../config/svg/logoDebut.svg\" style=\"margin-left:auto; margin-right:auto\"/></p>"
      ],
      "text/plain": [
       "<IPython.core.display.Markdown object>"
      ]
     },
     "metadata": {},
     "output_type": "display_data"
    }
   ],
   "source": [
    "import os\n",
    "import sys\n",
    "\n",
    "cwd0 = '../config/'\n",
    "sys.path.append(cwd0)\n",
    "\n",
    "import visualID as vID\n",
    "from visualID import color\n",
    "vID.init(cwd0)"
   ]
  },
  {
   "cell_type": "markdown",
   "id": "a3dbeee0-b1d0-45c1-b4ea-015d4bdcad2b",
   "metadata": {
    "tags": []
   },
   "source": [
    "## **Exercices.** Lecture et analyse de bases de données par la librairie pandas.<br><br>*Reading and analyzis of databases with the pandas library*"
   ]
  },
  {
   "cell_type": "markdown",
   "id": "7c74e1d9-cb96-497f-9850-7055980ffda5",
   "metadata": {},
   "source": [
    "### Importation des modules utiles<br>*Importation of the useful libraries*"
   ]
  },
  {
   "cell_type": "code",
   "execution_count": 1,
   "id": "980c6253-4599-424e-9f27-58458ce5dfce",
   "metadata": {},
   "outputs": [],
   "source": [
    "# exécutez cette cellule, sans la modifier\n",
    "# run this cell, without any modification\n",
    "%matplotlib inline\n",
    "import numpy as np \n",
    "from pylab import *\n",
    "# d'autres bibliothèques seront importées au fur et à mesure des besoins\n",
    "# other libraries will be imported \"on the fly\", when necessary"
   ]
  },
  {
   "cell_type": "markdown",
   "id": "4eaa0817-b483-4b65-a7cc-5881af9d9695",
   "metadata": {},
   "source": [
    "### **Exercice 1**. Création des données aux formats `np.array` & `pandas`<br>*Creation of data under the `np.array` & `pandas` formats*"
   ]
  },
  {
   "cell_type": "markdown",
   "id": "b92757b9-fe7a-4ef0-99b5-d88d36311284",
   "metadata": {
    "tags": []
   },
   "source": [
    "<div class=\"intro\">La première partie a pour but de créer des données au format <code>pandas</code>. Certaines séries de données sont corrélées entre elles. On vérifiera dans la deuxième partie que la carte thermique est cohérente avec les corrélations</div>\n",
    "<div class=\"introE\">The goal of the first part is to create data and to store them as <code>pandas</code> dataframes. Some series are correlated. We will check in the second part that the heatmap is consistent with these correlations.</div>"
   ]
  },
  {
   "cell_type": "markdown",
   "id": "d37f2fb2-e7e9-4265-bdc5-b7b2ea3b6a6d",
   "metadata": {},
   "source": [
    "#### **1.** Création des données<br>*Creation of datas*\n",
    "\n",
    "<div class=\"intro\">\n",
    "\n",
    "Vous n'avez aucune intervention à faire dans la cellule suivante, à part l'exécuter. On va générer :\n",
    "- un jeu de 100 valeurs aléatoires `X1`, comprises entre [-10, 10]\n",
    "- un deuxième jeu de 100 valeurs aléatoires `X2`, dans le même intervalle\n",
    "- des valeurs bruitées, autour d'une fonction $f_1(x)=2x$, calculées pour chacune des valeurs de `X1`\n",
    "- des valeurs bruitées, autour d'une fonction $f_2(x)=-3x$, calculées également pour chacune des valeurs de `X1`\n",
    "\n",
    "Les données `(X1, f1(X1))` et `(X1, f2(X1))` sont stockées dans deux tableaux `data1` et `data2`.\n",
    "</div>\n",
    "<div class=\"introE\">\n",
    "\n",
    "Do not change anything in the next cell, just run it. This piece of code will generate:\n",
    "- a set of 100 random numbers `X1`, ranging between [-10, 10]\n",
    "- a second set of 100 random numbers `X2`, ranging in the same domain\n",
    "- numbers that follow the $f_1(x)=2x$ function, after addition of a random noise, and calculated for all data of the `X1` array\n",
    "- numbers that follow the $f_2(x)=-3x$ function, after addition of a random noise, and also calculated for all data of the `X1` array\n",
    "    \n",
    "`(X1, f1(X1))` et `(X1, f2(X1))` data are stored into two arrays, `data1` and `data2`.\n",
    "\n",
    "</div>"
   ]
  },
  {
   "cell_type": "code",
   "execution_count": null,
   "id": "0609668d-5c13-4d62-9b58-5021edec44ae",
   "metadata": {
    "tags": []
   },
   "outputs": [],
   "source": [
    "# exécutez cette cellule, sans la modifier\n",
    "# run this cell, without any modification\n",
    "import random\n",
    "\n",
    "def noiseF(f, X):\n",
    "    noise = 2\n",
    "    N = noise * np.random.normal(0,1,nbp)\n",
    "    # c_ \"translates slice objects to concatenation along the second axis of the resulting 2D array\" (cf doc)\n",
    "    # en d'autres termes on concatène les colonnes de A & B quand on appelle c_(A,B) \n",
    "    tab = np.c_[X,f(X)+N]\n",
    "    return tab \n",
    "\n",
    "def f1(x):\n",
    "    return 2*x\n",
    "def f2(x):\n",
    "    return -3*x\n",
    "\n",
    "nbp = 100\n",
    "xmin = -10\n",
    "xmax = 10. \n",
    "# tableaux/arrays X1 & X2\n",
    "# random.uniform(low=0.0, high=1.0, size=None)\n",
    "X1 = np.random.uniform(xmin,xmax,nbp)\n",
    "X2 = np.random.uniform(xmin,xmax,nbp)\n",
    "\n",
    "data1 = noiseF(f1,X1)\n",
    "data2 = noiseF(f2,X1)"
   ]
  },
  {
   "cell_type": "markdown",
   "id": "f76d2877",
   "metadata": {},
   "source": [
    "#### **2.** Affichage des données contenues dans `data1` et `data2`<br>*Displaying the data stored in `data1` and `data2`*\n",
    "\n",
    "<div class=\"intro\">\n",
    "\n",
    "Affichez le `type` des tableaux `data1` et `data2` ainsi que leur forme (`shape`), puis enfin leur contenu\n",
    "    \n",
    "</div>\n",
    "<div class=\"introE\">\n",
    "\n",
    "Display the `type` of arrays `data1` and `data2`, as well as their `shape`, and finally their content\n",
    "</div>"
   ]
  },
  {
   "cell_type": "code",
   "execution_count": null,
   "id": "72a6f50f",
   "metadata": {},
   "outputs": [],
   "source": [
    "# entrez ci-dessous votre code python / write your code here\n"
   ]
  },
  {
   "cell_type": "markdown",
   "id": "221c8c5a",
   "metadata": {},
   "source": [
    "<div class=\"rq\">\n",
    "\n",
    "Vous venez de vérifier que `data1` et `data2` sont des tableaux à deux dimensions au format `numpy`. La première colonne contient 100 valeurs de $x$, et la deuxième les valeurs de $f_i(x)$ correspondantes \n",
    "\n",
    "</div>\n",
    "<div class=\"rqE\">\n",
    "\n",
    "You have just checked that `data1` et `data2` are `numpy` 2D arrays. 100 $x$ values are stored in the first column, whilst the second one contains the 100 corresponding $f_i(x)$ values. \n",
    "\n",
    "</div>"
   ]
  },
  {
   "cell_type": "markdown",
   "id": "8e632d27-4c4c-4eb2-8c78-bb86f611de00",
   "metadata": {},
   "source": [
    "#### **3.** Quelques manipulations simples de tableaux<br>*Basic manipulation of arrays*\n",
    "\n",
    "<div class=\"intro\">\n",
    "\n",
    "Affichez seulement les valeurs de $x$ contenues dans `data1`, puis seulement les valeurs de $f_1(x)$, c'est-à-dire les contenus de la première puis de la deuxième colonne. Vérifiez au passage que $f_2(x)$ a bien été évaluée pour les mêmes valeurs de $x$ que $f_1(x)$, et ce *sans afficher les valeurs de $x$ de `data2`* \n",
    "\n",
    "</div>\n",
    "\n",
    "<div class=\"introE\">\n",
    "\n",
    "Display only the values of $x$ contained in `data1`, then only the values of $f_1(x)$ , *i.e.*, the contents of the first and then the second column. Check that $f_2(x)$ has been evaluated for the same values of $x$ as $f_1(x)$ , without displaying the values of $x$ of `data2`\n",
    "\n",
    "</div>"
   ]
  },
  {
   "cell_type": "code",
   "execution_count": null,
   "id": "cc8cd3dc",
   "metadata": {},
   "outputs": [],
   "source": [
    "# entrez ci-dessous votre code python / write your code here\n",
    "\n",
    "# Remarque : on peut faire un peu mieux, en utilisant np.all(), qui renvoie True si tous les éléments\n",
    "# d'un tableau numpy sont True et qui renvoie False dans le cas contraire\n",
    "# Note: we can do a little better, using np.all(), which returns True if all elements\n",
    "# of a numpy array are True and returns False otherwise\n",
    "print()\n",
    "print(\"numpy.all() : \",(data1[:,0] == data2[:,0]).all())"
   ]
  },
  {
   "cell_type": "markdown",
   "id": "5571a9f0",
   "metadata": {},
   "source": [
    "<div class=\"rq\">\n",
    "\n",
    "Par la suite, les tableaux $x$, $f_1(x)$ et $f_2(x)$ seront désignés `X1`, `X2`, `f1` et `f2`\n",
    "\n",
    "</div>\n",
    "\n",
    "<div class=\"rqE\">\n",
    "\n",
    "From now on, arrays $x$, $f_1(x)$ and $f_2(x)$ will be named `X1`, `X2`, `f1` et `f2`\n",
    "\n",
    "</div>"
   ]
  },
  {
   "cell_type": "markdown",
   "id": "f76be34f-d139-465c-bc3c-9b94888c71f0",
   "metadata": {
    "tags": []
   },
   "source": [
    "#### **4.** Tracé des fonctions `f1` et `f2`<br>*Plotting of the `f1` and `f2` functions* \n",
    "\n",
    "<div class=\"intro\">\n",
    "\n",
    "On va tracer les 2 fonctions pour voir à quoi elles ressemblent.  Vérifiez *de visu* que les distributions de points sont cohérentes avec les expressions des fonctions. On suggère d'utiliser la fonction `scatter`, qui prend principalement 2 variables. On recommande d'ajouter un label à chaque tracé : <br>\n",
    "`scatter(tableau des valeurs de x, tableau des valeurs de y, label='votrelabel')`\n",
    "    \n",
    "</div>\n",
    "<div class=\"introE\">\n",
    "\n",
    "We will plot the 2 functions to see what they look like.  Visually check that the data distributions are consistent with the expressions of the functions. It is advisable to use the `scatter` function, which mainly takes 2 variables. It is recommended to add a label to each graph: <br>\n",
    "`scatter(x array, y array, label='yourlabel')`\n",
    "    \n",
    "</div>"
   ]
  },
  {
   "cell_type": "code",
   "execution_count": null,
   "id": "8e895c21-5dc6-4645-80c3-c4f1373dae25",
   "metadata": {
    "tags": []
   },
   "outputs": [],
   "source": [
    "# définition de la taille de la figure / figure size\n",
    "figure(figsize = (8,6))\n",
    "\n",
    "# entrez ci-dessous votre code python / write your code here\n"
   ]
  },
  {
   "cell_type": "markdown",
   "id": "1bd9925d-0f34-4c23-8694-ad5d9ab41420",
   "metadata": {},
   "source": [
    "#### **5.** Création et affichage d'un dataframe au format pandas<br>*Creating and displaying a pandas dataframe*\n",
    "\n",
    "<div class=\"intro\">\n",
    "\n",
    "- Stockez ces données au format pandas dans un dataframe nommé `df`. Les deux premières colonnes du tableau `df` vont contenir les valeurs de X1 et X2, et les suivantes les valeurs que prennent les fonctions f1 et f2 pour chacune des valeurs de X1\n",
    "\n",
    "-  Affichez le tableau `df`, qui contient les données</div>\n",
    "\n",
    "<div class=\"introE\">\n",
    "\n",
    "- Store this data in pandas format in dataframe named `df`. The first two columns of the array `df` will contain the values for `X1` and `X2`, and the following columns will contain the values that the functions `f1` and `f2` take for each of the values of `X1`\n",
    "\n",
    "- Display the `df` dataframe, which contains the data</div>"
   ]
  },
  {
   "cell_type": "code",
   "execution_count": null,
   "id": "df00dc62-0e25-4245-b559-c775ad89eddc",
   "metadata": {
    "tags": []
   },
   "outputs": [],
   "source": [
    "import pandas as pd\n",
    "\n",
    "# le tableau pandas (i.e. un dataframe) df est crée par cette ligne, X1 étant la première colonne\n",
    "# a pandas table (i.e. a dataframe) df is created below, X1 being the first column\n",
    "df = pd.DataFrame(X1, columns = ['X1'])\n",
    "\n",
    "# entrez ci-dessous votre code python pour compléter le dataframe df / write your code here to complete the df dataframe\n",
    "\n",
    "\n",
    "# entrez ci-dessous votre code python pour afficher le contenu de df / write your code here to display the df dataframe\n"
   ]
  },
  {
   "cell_type": "markdown",
   "id": "d6f37d34",
   "metadata": {},
   "source": [
    "### **Exercice 2.** Analyse statistique basique des données et recherche de possibles corrélations entre données<br>*Basic statistical analysis of the data and correlation analysis*"
   ]
  },
  {
   "cell_type": "markdown",
   "id": "89b66888-4ff2-4db6-a7dc-0dfac066d150",
   "metadata": {},
   "source": [
    "#### **1.** Statistiques descriptives<br>*Descriptive statistics*\n",
    "\n",
    "<div class=\"intro\">\n",
    "\n",
    "Afficher les statistiques descriptives des données contenues dans `df`, c'est-à-dire moyenne, écart-type, etc... (*suggestion*: utiliser la fonction `describe` de `pandas`)\n",
    "\n",
    "</div>\n",
    "\n",
    "<div class=\"introE\">\n",
    "\n",
    "Print the descriptive statistics of the data stored in `df`, *i.e.* mean, standard deviation, etc... (*hint*: use the`describe` function of `pandas`)\n",
    "\n",
    "</div>"
   ]
  },
  {
   "cell_type": "code",
   "execution_count": null,
   "id": "6ebbd7ab-dad2-410e-aef7-3537fc3620dd",
   "metadata": {
    "tags": []
   },
   "outputs": [],
   "source": [
    "# entrez ci-dessous votre code python / write your code here\n"
   ]
  },
  {
   "cell_type": "markdown",
   "id": "9aac5cb2-2a82-4c14-938e-6d8c679e2e17",
   "metadata": {
    "tags": []
   },
   "source": [
    "#### **2.** Recherche des possibles corrélations entre les données<br>*Correlation analysis*\n",
    "\n",
    "<div class=\"intro\">\n",
    "\n",
    "Tracer toutes ces données les unes en fonctions des autres (*suggestion*: utiliser la fonction `pairplot` de `seaborn`)\n",
    "</div>\n",
    "\n",
    "<div class=\"introE\">\n",
    "    \n",
    "Plot pairwise relationships between variables within the `df`  dataset. (*hint*: use the `pairplot` function of `seaborn`)\n",
    "</div>"
   ]
  },
  {
   "cell_type": "code",
   "execution_count": null,
   "id": "31b8481d-f068-4437-ba73-f98a123c0626",
   "metadata": {
    "tags": []
   },
   "outputs": [],
   "source": [
    "import seaborn as sns\n",
    "# entrez ci-dessous votre code python / write your code here\n"
   ]
  },
  {
   "cell_type": "markdown",
   "id": "49d415f5-b70b-4420-b9ff-48220311110a",
   "metadata": {
    "tags": []
   },
   "source": [
    "#### **3.** Carte thermique<br>*Heatmap*\n",
    "\n",
    "<div class=\"intro\">\n",
    "\n",
    "Tracer une carte thermique (*suggestion*: utiliser la fonction `heatmap` de `seaborn`, avec les options `annot = True, cmap='coolwarm'` et en utilisant les bornes appropriées `vmin` et `vmax`. Le tableau (matrice) de corrélation entre données est quant à lui calculé avec la fonction `corr` de `pandas`)\n",
    "\n",
    "</div>\n",
    "\n",
    "<div class=\"introE\">\n",
    "\n",
    "Plot a heatmap (*hint*: use the `heatmap` tool of `seaborn`, with arguments `annot = True, cmap='coolwarm'` and by using appropriate `vmin` et `vmax` values. The pairwise correlation matrix will be computed with the `corr` function imported from `pandas`)\n",
    "\n",
    "</div>"
   ]
  },
  {
   "cell_type": "code",
   "execution_count": null,
   "id": "2c2b2230-d70b-4a03-9ba2-71f8fc78184d",
   "metadata": {
    "tags": []
   },
   "outputs": [],
   "source": [
    "# définition de la taille de la figure et d'une dimension de caractères qui rende la figure lisible\n",
    "# setup of the figure and font sizes\n",
    "plt.figure(figsize = (8,6))\n",
    "sns.set(font_scale=1.2)\n",
    "\n",
    "# entrez ci-dessous votre code python / write your code here\n"
   ]
  },
  {
   "cell_type": "markdown",
   "id": "ad2c66a5-4b03-4d8b-8446-6bf54a03af9d",
   "metadata": {},
   "source": [
    "<div class=\"rq\">\n",
    "Si tout va bien, vous venez d'obtenir la carte thermique suivante (<i>les valeurs peuvent légèrement changer compte tenu du bruit statistique,</i> cf variable <code>noise</code></i>).\n",
    "<br><br>\n",
    "<b>Commentaires</b><br>\n",
    "    <li> les deux séries de variables `X1` et `X2` ont été générées aléatoirement. Les deux séries sont indépendantes l'une de l'autre, ou bien cela signifierait qu'il y a un problème avec le générateur utilisé\n",
    "    <li> `f1` et `f2` sont des fonctions des nombres contenus dans `X1`. Il ne peut donc pas y avoir de corrélation statistique avec `X2`.\n",
    "    <li> `f1` étant une fonction croissante de `X1` (au bruit statistique près), il y a corrélation positive entre les deux. On ne peut pas obtenir 1 à cause de la petite fluctuation positive introduite (reprenez le sujet et créez un bruit élevé en augmentant la valeur de <code>noise</code>). \n",
    "    <li> il y a une forte corrélation négative entre `f2` et `X1`, puisque `f2` est une fonction qui décroit en fonction de `X1`\n",
    "    <li> la forte corrélation négative entre `f1` et `f2` est également attendue\n",
    "\n",
    "<p style=\"text-align: center\"><img width=\"500px\" src=\"./svg-images/heatmap1-saved-C.png\" style=\"margin-left:auto; margin-right:auto\" id=\"img_heatmap1\"/></p>   \n",
    "\n",
    "</div>\n",
    "\n",
    "<div class=\"rqE\">\n",
    "\n",
    "If all went well, you have just obtained the previous heat map (<i>the values may change slightly due to statistical noise</i>, see variable `noise`).\n",
    "\n",
    "<b>Comments</b><br>\n",
    "- the two series of variables `X1` and `X2` were generated randomly. The two series are independent of each other, or it would mean that there is a problem with the generator used\n",
    "- `f1` and `f2` are functions of the numbers contained in `X1`. Therefore, there can be no statistical correlation with `X2`.\n",
    "- `f1` being an increasing function of `X1` (except for statistical noise), there is a positive correlation between the two. We cannot obtain 1 because of the small positive fluctuation introduced (go back to the subject and create a high noise by increasing the value of `noise`).\n",
    "- there is a strong negative correlation between `f2` and `X1`, since `f2` is a function that decreases as a function of `X1`\n",
    "- the strong negative correlation between `f1` and `f2` is also expected\n",
    "</div>"
   ]
  },
  {
   "cell_type": "code",
   "execution_count": 3,
   "id": "5d5b4fc5-0398-4ff3-84a2-2e2110ded1c5",
   "metadata": {},
   "outputs": [
    {
     "data": {
      "text/markdown": [
       "**Fin à:** Thursday 03 November 2022, 21:30:48  \n",
       "**Durée:** 00:00:55 984ms"
      ],
      "text/plain": [
       "<IPython.core.display.Markdown object>"
      ]
     },
     "metadata": {},
     "output_type": "display_data"
    },
    {
     "data": {
      "text/markdown": [
       "<p style=\"text-align: center\"><img width=\"800px\" src=\"../config/svg/logoFin.svg\" style=\"margin-left:auto; margin-right:auto\"/></p>"
      ],
      "text/plain": [
       "<IPython.core.display.Markdown object>"
      ]
     },
     "metadata": {},
     "output_type": "display_data"
    }
   ],
   "source": [
    "vID.end(cwd0)"
   ]
  },
  {
   "cell_type": "code",
   "execution_count": null,
   "id": "baa5e3a5-143a-4172-81e8-cfb631ea74df",
   "metadata": {},
   "outputs": [],
   "source": []
  }
 ],
 "metadata": {
  "kernelspec": {
   "display_name": "Python 3 (ipykernel)",
   "language": "python",
   "name": "python3"
  },
  "language_info": {
   "codemirror_mode": {
    "name": "ipython",
    "version": 3
   },
   "file_extension": ".py",
   "mimetype": "text/x-python",
   "name": "python",
   "nbconvert_exporter": "python",
   "pygments_lexer": "ipython3",
   "version": "3.11.11"
  },
  "toc-autonumbering": false
 },
 "nbformat": 4,
 "nbformat_minor": 5
}
