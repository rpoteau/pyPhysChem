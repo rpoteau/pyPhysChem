{
 "cells": [
  {
   "cell_type": "code",
   "execution_count": 1,
   "id": "24204e03-3c3b-4602-9279-2fba56b7afba",
   "metadata": {},
   "outputs": [],
   "source": [
    "import pandas as pd"
   ]
  },
  {
   "cell_type": "markdown",
   "id": "4016dc2b-f095-476f-94bf-bd3557d512cd",
   "metadata": {},
   "source": [
    "## Predicting Concrete strength"
   ]
  },
  {
   "cell_type": "code",
   "execution_count": 2,
   "id": "06261ae3-8782-44c4-9a38-23cc88839f50",
   "metadata": {},
   "outputs": [
    {
     "name": "stdout",
     "output_type": "stream",
     "text": [
      "<class 'pandas.core.frame.DataFrame'>\n",
      "RangeIndex: 103 entries, 0 to 102\n",
      "Data columns (total 11 columns):\n",
      " #   Column                              Non-Null Count  Dtype  \n",
      "---  ------                              --------------  -----  \n",
      " 0   No                                  103 non-null    int64  \n",
      " 1   Cement                              103 non-null    float64\n",
      " 2   Slag                                103 non-null    float64\n",
      " 3   Fly ash                             103 non-null    float64\n",
      " 4   Water                               103 non-null    float64\n",
      " 5   SP                                  103 non-null    float64\n",
      " 6   Coarse Aggr.                        103 non-null    float64\n",
      " 7   Fine Aggr.                          103 non-null    float64\n",
      " 8   SLUMP(cm)                           103 non-null    float64\n",
      " 9   FLOW(cm)                            103 non-null    float64\n",
      " 10  Compressive Strength (28-day)(Mpa)  103 non-null    float64\n",
      "dtypes: float64(10), int64(1)\n",
      "memory usage: 9.0 KB\n"
     ]
    },
    {
     "data": {
      "text/html": [
       "<div>\n",
       "<style scoped>\n",
       "    .dataframe tbody tr th:only-of-type {\n",
       "        vertical-align: middle;\n",
       "    }\n",
       "\n",
       "    .dataframe tbody tr th {\n",
       "        vertical-align: top;\n",
       "    }\n",
       "\n",
       "    .dataframe thead th {\n",
       "        text-align: right;\n",
       "    }\n",
       "</style>\n",
       "<table border=\"1\" class=\"dataframe\">\n",
       "  <thead>\n",
       "    <tr style=\"text-align: right;\">\n",
       "      <th></th>\n",
       "      <th>No</th>\n",
       "      <th>Cement</th>\n",
       "      <th>Slag</th>\n",
       "      <th>Fly ash</th>\n",
       "      <th>Water</th>\n",
       "      <th>SP</th>\n",
       "      <th>Coarse Aggr.</th>\n",
       "      <th>Fine Aggr.</th>\n",
       "      <th>SLUMP(cm)</th>\n",
       "      <th>FLOW(cm)</th>\n",
       "      <th>Compressive Strength (28-day)(Mpa)</th>\n",
       "    </tr>\n",
       "  </thead>\n",
       "  <tbody>\n",
       "    <tr>\n",
       "      <th>0</th>\n",
       "      <td>1</td>\n",
       "      <td>273.0</td>\n",
       "      <td>82.0</td>\n",
       "      <td>105.0</td>\n",
       "      <td>210.0</td>\n",
       "      <td>9.0</td>\n",
       "      <td>904.0</td>\n",
       "      <td>680.0</td>\n",
       "      <td>23.0</td>\n",
       "      <td>62.0</td>\n",
       "      <td>34.99</td>\n",
       "    </tr>\n",
       "    <tr>\n",
       "      <th>1</th>\n",
       "      <td>2</td>\n",
       "      <td>163.0</td>\n",
       "      <td>149.0</td>\n",
       "      <td>191.0</td>\n",
       "      <td>180.0</td>\n",
       "      <td>12.0</td>\n",
       "      <td>843.0</td>\n",
       "      <td>746.0</td>\n",
       "      <td>0.0</td>\n",
       "      <td>20.0</td>\n",
       "      <td>41.14</td>\n",
       "    </tr>\n",
       "    <tr>\n",
       "      <th>2</th>\n",
       "      <td>3</td>\n",
       "      <td>162.0</td>\n",
       "      <td>148.0</td>\n",
       "      <td>191.0</td>\n",
       "      <td>179.0</td>\n",
       "      <td>16.0</td>\n",
       "      <td>840.0</td>\n",
       "      <td>743.0</td>\n",
       "      <td>1.0</td>\n",
       "      <td>20.0</td>\n",
       "      <td>41.81</td>\n",
       "    </tr>\n",
       "    <tr>\n",
       "      <th>3</th>\n",
       "      <td>4</td>\n",
       "      <td>162.0</td>\n",
       "      <td>148.0</td>\n",
       "      <td>190.0</td>\n",
       "      <td>179.0</td>\n",
       "      <td>19.0</td>\n",
       "      <td>838.0</td>\n",
       "      <td>741.0</td>\n",
       "      <td>3.0</td>\n",
       "      <td>21.5</td>\n",
       "      <td>42.08</td>\n",
       "    </tr>\n",
       "    <tr>\n",
       "      <th>4</th>\n",
       "      <td>5</td>\n",
       "      <td>154.0</td>\n",
       "      <td>112.0</td>\n",
       "      <td>144.0</td>\n",
       "      <td>220.0</td>\n",
       "      <td>10.0</td>\n",
       "      <td>923.0</td>\n",
       "      <td>658.0</td>\n",
       "      <td>20.0</td>\n",
       "      <td>64.0</td>\n",
       "      <td>26.82</td>\n",
       "    </tr>\n",
       "  </tbody>\n",
       "</table>\n",
       "</div>"
      ],
      "text/plain": [
       "   No  Cement   Slag  Fly ash  Water    SP  Coarse Aggr.  Fine Aggr.  \\\n",
       "0   1   273.0   82.0    105.0  210.0   9.0         904.0       680.0   \n",
       "1   2   163.0  149.0    191.0  180.0  12.0         843.0       746.0   \n",
       "2   3   162.0  148.0    191.0  179.0  16.0         840.0       743.0   \n",
       "3   4   162.0  148.0    190.0  179.0  19.0         838.0       741.0   \n",
       "4   5   154.0  112.0    144.0  220.0  10.0         923.0       658.0   \n",
       "\n",
       "   SLUMP(cm)  FLOW(cm)  Compressive Strength (28-day)(Mpa)  \n",
       "0       23.0      62.0                               34.99  \n",
       "1        0.0      20.0                               41.14  \n",
       "2        1.0      20.0                               41.81  \n",
       "3        3.0      21.5                               42.08  \n",
       "4       20.0      64.0                               26.82  "
      ]
     },
     "execution_count": 2,
     "metadata": {},
     "output_type": "execute_result"
    }
   ],
   "source": [
    "concrete = pd.read_csv('slump_test.data',sep=',')\n",
    "concrete.info()\n",
    "concrete.head()"
   ]
  },
  {
   "cell_type": "markdown",
   "id": "d130380f-ccba-436c-b38a-05f11eb262eb",
   "metadata": {},
   "source": [
    "The dataset information are the following : \n",
    "The data set includes 103 data points. There are 7 input variables, and 3 output \n",
    "variables in the data set.  The initial data set included 78 data. After several \n",
    "years, we got 25 new data points.\n",
    "\n",
    "----------------------------------------------------------------------------------------\n",
    "\n",
    "Attribute Information:\n",
    "\n",
    "Input variables (7)(component kg in one M^3 concrete):\n",
    "Cement\n",
    "Slag\n",
    "Fly ash\n",
    "Water\n",
    "SP\n",
    "Coarse Aggr.\n",
    "Fine Aggr.\n",
    "\n",
    "Output variables (3):\n",
    "SLUMP (cm)\n",
    "FLOW (cm)\n",
    "28-day Compressive Strength (Mpa) \n",
    "\n"
   ]
  },
  {
   "cell_type": "markdown",
   "id": "ecf06b07-94e2-40c4-9e8e-964f3d5090a4",
   "metadata": {},
   "source": [
    "The aim of the project is to predict the variables as a function of the concrete composition. In this aim, carry out the following workflow."
   ]
  },
  {
   "cell_type": "code",
   "execution_count": 1,
   "id": "db1ddc40-d365-4d9c-b7f9-4853bc1aa9d9",
   "metadata": {},
   "outputs": [],
   "source": [
    "import pandas as pd\n",
    "from matplotlib import pyplot as plt"
   ]
  },
  {
   "cell_type": "markdown",
   "id": "aabf4221-1d9c-42d0-99c3-b005d0d0e976",
   "metadata": {},
   "source": [
    "1. Split the dataset in X and Y and in training and test set."
   ]
  },
  {
   "cell_type": "code",
   "execution_count": null,
   "id": "6c7cf887-bd61-435f-a4dc-2ae7e6d81680",
   "metadata": {},
   "outputs": [],
   "source": []
  },
  {
   "cell_type": "code",
   "execution_count": null,
   "id": "08e5aec2-a664-4be9-8fe4-198f92882fb0",
   "metadata": {},
   "outputs": [],
   "source": []
  },
  {
   "cell_type": "markdown",
   "id": "5c13dc1e-d9a5-43aa-bd02-003e49d79f2f",
   "metadata": {},
   "source": [
    "2. Define the model (use tensorflow)"
   ]
  },
  {
   "cell_type": "code",
   "execution_count": 10,
   "id": "5204e15d-7333-4330-ad1b-b1af44a96ea1",
   "metadata": {},
   "outputs": [],
   "source": []
  },
  {
   "cell_type": "code",
   "execution_count": null,
   "id": "c0bd79a1-e2e1-4ccf-a933-54e1d86d8e13",
   "metadata": {},
   "outputs": [],
   "source": []
  },
  {
   "cell_type": "markdown",
   "id": "70c80146-9e92-411b-8b0b-4a29f84e936a",
   "metadata": {},
   "source": [
    "3. Train the model"
   ]
  },
  {
   "cell_type": "code",
   "execution_count": null,
   "id": "1b208e21-e4c5-4e36-9bc5-53ba54ca4812",
   "metadata": {},
   "outputs": [],
   "source": []
  },
  {
   "cell_type": "code",
   "execution_count": null,
   "id": "d29830df-bf16-424b-9fde-5ba4a2065c57",
   "metadata": {},
   "outputs": [],
   "source": []
  },
  {
   "cell_type": "markdown",
   "id": "26db4e67-5245-42a0-a3ea-f25f133cf1f5",
   "metadata": {},
   "source": [
    "4. Look at the training "
   ]
  },
  {
   "cell_type": "code",
   "execution_count": null,
   "id": "daee0ab1-0a01-47d5-9635-9de1fc0120ca",
   "metadata": {},
   "outputs": [],
   "source": []
  },
  {
   "cell_type": "code",
   "execution_count": null,
   "id": "ca1bfc55-eb75-40c8-b536-779b57a8e89c",
   "metadata": {},
   "outputs": [],
   "source": []
  },
  {
   "cell_type": "markdown",
   "id": "ef2d998b-3d9d-4138-a55d-f5d18b0f820e",
   "metadata": {},
   "source": [
    "5. Compare with experiment"
   ]
  },
  {
   "cell_type": "code",
   "execution_count": null,
   "id": "02b0f7f2-d154-460f-9337-81456fdea126",
   "metadata": {},
   "outputs": [],
   "source": []
  },
  {
   "cell_type": "code",
   "execution_count": null,
   "id": "a6af78e5-988a-4adc-a3d2-19c343c170bc",
   "metadata": {},
   "outputs": [],
   "source": []
  },
  {
   "cell_type": "markdown",
   "id": "46317ea3-e554-4971-ad07-ad42a10af9a5",
   "metadata": {},
   "source": [
    "And now play with it to improve the procedure : standardize the input data, change the model ... "
   ]
  },
  {
   "cell_type": "code",
   "execution_count": null,
   "id": "825d331d-3cd6-42da-ae93-a6a1b001ef53",
   "metadata": {},
   "outputs": [],
   "source": []
  },
  {
   "cell_type": "code",
   "execution_count": null,
   "id": "61f1bf40-a289-4101-9b5f-9a5b36fbd359",
   "metadata": {},
   "outputs": [],
   "source": []
  }
 ],
 "metadata": {
  "kernelspec": {
   "display_name": "Python 3 (ipykernel)",
   "language": "python",
   "name": "python3"
  },
  "language_info": {
   "codemirror_mode": {
    "name": "ipython",
    "version": 3
   },
   "file_extension": ".py",
   "mimetype": "text/x-python",
   "name": "python",
   "nbconvert_exporter": "python",
   "pygments_lexer": "ipython3",
   "version": "3.11.13"
  }
 },
 "nbformat": 4,
 "nbformat_minor": 5
}
