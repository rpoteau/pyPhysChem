{
 "cells": [
  {
   "cell_type": "code",
   "execution_count": 1,
   "id": "c98662e7",
   "metadata": {
    "tags": []
   },
   "outputs": [
    {
     "name": "stdout",
     "output_type": "stream",
     "text": [
      "/home/romuald/ENSEIGNEMENT/0-JupyterNotebooks/pyPhysChem\n"
     ]
    },
    {
     "data": {
      "text/html": [
       "<style>\n",
       "h1, h2, h3, h4, h5, h6 {\n",
       "  font-family: Verdana, \"DejaVu Sans\", \"Bitstream Vera Sans\", Geneva, sans-serif;\n",
       "  font-weight: bold;\n",
       "}\n",
       "body, exercice {\n",
       "  font-family: Verdana, \"DejaVu Sans\", \"Bitstream Vera Sans\", Geneva, sans-serif;\n",
       "  font-weight: 200;\n",
       "}\n",
       "h1 {\n",
       "  border: 0 solid #333;\n",
       "  padding: 30px ;\n",
       "  color: white;\n",
       "  background: #b11d01;\n",
       "  text-align: center;\n",
       "}\n",
       "h2 {\n",
       "  border: 3px solid #333;\n",
       "  padding: 18px ;\n",
       "  color: #b11d01;\n",
       "  background: #ffffff;\n",
       "  text-align: center;\n",
       "}\n",
       "h3 {\n",
       "  border: 0 solid #333;\n",
       "  padding: 12px ;\n",
       "  color: #000000;\n",
       "  background: #c1c1c1;\n",
       "  text-align: left;\n",
       "}\n",
       "h4 {\n",
       "  border: 0 solid #333;\n",
       "  padding: 2px ;\n",
       "  color: #000000;\n",
       "  background: #d9fffc;\n",
       "  text-align: left;\n",
       "}\n",
       "h5 {\n",
       "  border: 1px solid #333;\n",
       "  padding: 2px ;\n",
       "  color: #000000;\n",
       "  background: #ffffff;\n",
       "  text-align: left;\n",
       "}\n",
       ".rq {    \n",
       "    background-color: #fcf2f2;\n",
       "    border-color: #dFb5b4;\n",
       "    border-left: 5px solid #dfb5b4;\n",
       "    padding: 0.5em;\n",
       "    font-weight: 200;\n",
       "    }\n",
       ".intro {    \n",
       "    background-color: #f1f1f1;\n",
       "    border-color: #969696;\n",
       "    border-left: 5px solid #969696;\n",
       "    padding: 0.5em;\n",
       "    font-weight: 200;\n",
       "    }\n",
       ".exold {    \n",
       "    background-color: #b2dbea80;\n",
       "    border-color: #0055ff;\n",
       "    border-left: 10px solid #0055ff;\n",
       "    padding: 0.5em;\n",
       "    font-weight: 200;\n",
       "    }\n",
       ".ex {    \n",
       "    background-color: #b2dbea80;\n",
       "    padding: 0.5em;\n",
       "    padding-top: 0em;\n",
       "    font-weight: 200;\n",
       "    position:relative;\n",
       "    }\n",
       ".ex::before {\n",
       "    background-color: #b2dbea;\n",
       "    content:\"Exercice\";\n",
       "    margin-left:-0.5em;\n",
       "    margin-right:-0.5em;\n",
       "    padding-left:0.5em;\n",
       "    padding-right:0.5em;\n",
       "    font-weight: 600;\n",
       "    display: block;\n",
       "    }\n",
       ".app {    \n",
       "    background-color: #b2dbea80;\n",
       "    padding: 0.5em;\n",
       "    padding-top: 0em;\n",
       "    font-weight: 200;\n",
       "    position:relative;\n",
       "    }\n",
       ".app::before {\n",
       "    background-color: #b2dbea;\n",
       "    content:\"Application\";\n",
       "    margin-left:-0.5em;\n",
       "    margin-right:-0.5em;\n",
       "    padding-left:0.5em;\n",
       "    padding-right:0.5em;\n",
       "    font-weight: 600;\n",
       "    display: block;\n",
       "    }\n",
       "</style>\n"
      ],
      "text/plain": [
       "<IPython.core.display.HTML object>"
      ]
     },
     "metadata": {},
     "output_type": "display_data"
    },
    {
     "data": {
      "text/markdown": [
       "**Début à:** Wednesday 05 April 2023, 12:28:02  \n",
       "**Hostname:** insa-12842 (Linux)"
      ],
      "text/plain": [
       "<IPython.core.display.Markdown object>"
      ]
     },
     "metadata": {},
     "output_type": "display_data"
    },
    {
     "data": {
      "text/markdown": [
       "<p style=\"text-align: center\"><img width=\"800px\" src=\"./config/svg/logoDebut.svg\" style=\"margin-left:auto; margin-right:auto\"/></p>"
      ],
      "text/plain": [
       "<IPython.core.display.Markdown object>"
      ]
     },
     "metadata": {},
     "output_type": "display_data"
    }
   ],
   "source": [
    "import os\n",
    "import sys\n",
    "\n",
    "print(os.getcwd())\n",
    "cwd0 = './config/'\n",
    "sys.path.append(cwd0)\n",
    "\n",
    "import visualID as vID\n",
    "from visualID import color\n",
    "vID.init(cwd0)"
   ]
  },
  {
   "cell_type": "markdown",
   "id": "8a01427f",
   "metadata": {
    "tags": []
   },
   "source": [
    "# Traitement statistique de données<br>(data science pour débutants)\n",
    "contact: romuald.poteau@univ-tlse3.fr\n",
    "\n",
    "## Introduction  \n",
    "\n",
    "### Contexte de cette série de Cours/TP\n",
    "\n",
    "#### La science des données\n",
    "\n",
    "<div class=\"intro\">\n",
    "    \n",
    "La communauté scientifique est aujourd'hui productrice d'un nombre gigantesque de données de recherche, qui s'inscrivent dans le contexte actuel du Big Data et de la Science Ouverte, dépeint par Jim Gray (Microsoft, 2007) comme l’ère d'un 4ème [paradigme](https://www.cnrtl.fr/definition/paradigme/substantif), dit de la “**science dirigée par les données massives**”. Quels sont les trois premiers paradigmes ? Ils sont résumés dans la [figure](https://gricad-gitlab.univ-grenoble-alpes.fr/talks/fidle/-/wikis/home) ci-dessous :\n",
    "\n",
    "<p style=\"text-align: center\"><img width=\"750px\" src=\"DS4B-svg/4thParadigm.png\" style=\"margin-left:auto; margin-right:auto\" id=\"img_4thParadigm\"></img></p>\n",
    "\n",
    "<ol type=\"1\">\n",
    "<li> L'activité scientifique a démarré il y a quelques millénaires avec une méthodologie empirique basée sur l'observation des phénomènes observables\n",
    "<li> Depuis quelques siècles, les pratiques scientifiques deviennent de plus en plus théoriques, utilisent des modèles, font massivement appel à des lois et des concepts\n",
    "<li> Depuis le milieu du XXème siècle environ, les scientifiques utilisent des ordinateurs pour modéliser des phénomènes complexes. Programmation et simulations numériques deviennent un outil de travail du chercheur\n",
    "</ol>\n",
    "\n",
    "Pour citer [wikipedia](https://fr.wikipedia.org/wiki/Science_des_donn%C3%A9es), \"*la science des données est l'<span style=\"color:red\"><b>extraction de connaissances</b></span> [à partir] d’ensembles de données*\". On va dans cette série de cours/TP apprendre à lire des données et à en extraire des connaissances :\n",
    "    \n",
    "- soit sous forme de relation mathématique\n",
    "- soit sous forme d'une boîte noire qui va trouver à notre place une relation qui semblerait exister entre ces donnnées, sans hélas nous délivrer une relation mathématique.\n",
    "</div>\n",
    "\n",
    "#### La base de données utilisée ici pour illustrer cette thématique\n",
    "\n",
    "<div class=\"intro\">\n",
    "\n",
    "Ce sujet exploite une base de données très utilisées pour l'apprentissage de méthodes statistiques, la base **IRIS** : \n",
    "- elle regroupe les caractéristiques de trois espèces de fleurs d’Iris : Setosa, Versicolor et Virginica\n",
    "- la base regroupe 50 observations par espèce (soit 150 **individus**)\n",
    "- chaque observation repose sur 4 caractéristiques (c'est-à-dire 4 **variables**): longueur et largeur de sépales ainsi que longueur et largeur de pétales\n",
    "\n",
    "<p style=\"text-align: center\"><img width=\"500px\" src=\"./DS4B-iris-images/iris.png\" style=\"margin-left:auto; margin-right:auto\" id=\"img_iris\"></img></p>\n",
    "\n",
    "Une page [wikipedia](https://fr.wikipedia.org/wiki/Iris_de_Fisher) porte sur ce dataset, qui contient à la fois des données numériques (largeur & longueur de pétales et sépales) et descriptives (types d'iris).\n",
    "</div>\n",
    "\n",
    "### Objectifs\n",
    "\n",
    "<div class=\"intro\">\n",
    "- Lecture de données numériques et descriptives\n",
    "- Analyse graphique des données\n",
    "- Savoir identifier des corrélations statistiques entre données\n",
    "- Etablissement de relations mathématiques entres données numériques (régression)\n",
    "- Mise au point d'algorithmes prédictifs\n",
    "- Posséder le bagage minimal pour participer à des travaux de R&D&I mêlant travaux expérimentaux et sciences des données\n",
    "- Utiliser une méthode de compression des données (ici l'analyse en composantes principales) \n",
    "</div>\n",
    "\n",
    "### Compétences\n",
    "\n",
    "<div class=\"rq\">\n",
    "    \n",
    "**À l'issue de cette série de TP, vous saurez :**\n",
    "\n",
    "<span style=\"color:red\"><b>1ère partie (Lecture et analyse de la base de données par la librairie pandas)</b></span>  \n",
    "<li> <b>lire</b> un tableau de données et les en-têtes de colonnes\n",
    "<li> <b>manipuler</b> un ensemble de données\n",
    "<li> <b>visualiser</b> graphiquement les données\n",
    "<li> <b>identifier graphiquement</b> d'éventuelles <b>corrélations statistiques</b> entre données\n",
    "</div><br>\n",
    "\n",
    "\n",
    "<div class=\"rq\">\n",
    "<span style=\"color:red\"><b>2ème partie (Statistiques et régression)</b></span>\n",
    "<li> <b>déterminer</b>, à partir de données connues, une <b>relation mathématique</b> estimée entre deux variables <i>x</i> et <i>y</i> (<b>ajustement de courbes</b>)\n",
    "<li> <b>calculer<b> la précision de cette <b>relation hypothétique</b>\n",
    "    <li> <b>prévoir</b>, <u>grâce à cette relation mathématique</u>, la valeur de <i>y</i> en fonction d'une valeur quelconque de <i>x</i>\n",
    "</div><br>\n",
    "\n",
    "\n",
    "<div class=\"rq\">\n",
    "<span style=\"color:red\"><b>3ème partie (Apprentissage automatique appliqué à la classification = régression logistique)</b></span>\n",
    "<li> <b>définir</b> un <b>réseau de neurones</b> simple\n",
    "<li> <b>séparer</b> les données en deux jeux, d'<b>apprentissage</b> et de <b>test</b>\n",
    "<li> <b>prévoir</b>, <u>sur la base d'un réseau de neurones qui a appris de données connues</u>, la valeur d'une variable <i>y</i> en fonction de plusieurs descripteurs <i>x</i>\n",
    "<li> <b>dialoguer</b>, dans un contexte R&D&I, avec un data scientist qui voudra exploiter vos données chimiques (théoriques ou expérimentales) pour faire de l'analyse prédictive\n",
    "</div><br>\n",
    "    \n",
    "<!-- <div class=\"rq\">\n",
    "<span style=\"color:red\"><b>4th part (Machine Learning)</b></span>\n",
    "<li> <b>simplification of the complexity</b> in high-dimensional data while <b>retaining trends and patterns</b>\n",
    "<li> <b>data compression</b>\n",
    "<li> <b>advanced use</b> of machine learning methods, in the context of logistic regression\n",
    "</div>\n",
    " -->\n",
    "### Prérequis / *Prerequisite*\n",
    "\n",
    "<div class=\"intro\">\n",
    "\n",
    "- des connaissances de bases en statistiques / *basic knowledge in statistics*\n",
    "- la notion de régression linéaire, pratiquée par exemple avec un tableur type excel ou libreoffice calc / *the notion of linear regression, practiced for example with a spreadsheet like excel or libreoffice calc*\n",
    "- débutant avancé avec / *advanced beginner with*\n",
    "    - numpy\n",
    "    - matplotlib\n",
    "    - listes et tableaux / *lists and arrays*\n",
    "    - boucles (for) / *loops (for)*\n",
    "    - tests conditionnels (if) / *conditional testing (if)*\n",
    "- connaître les bases de seaborn serait un plus / *knowledge of seaborn basics would be a plus*\n",
    "\n",
    "</div>"
   ]
  },
  {
   "cell_type": "markdown",
   "id": "b4b29e9a-1cce-4eb3-b6e1-3425b7a4cfac",
   "metadata": {},
   "source": [
    "## **Table des matières / *Table of contents***\n",
    "\n",
    "- **1**. [Lecture et analyse de la base de données \"iris\" par la librairie pandas](./DS4B-Iris1.ipynb). en Français / *in French*\n",
    "\n",
    "    - [Exercices.](./DS4B-Exercices/DS4B-Iris1-Exercice.ipynb)\n",
    "    - [Corrigé.](./DS4B-Exercices/DS4B-Iris1-Correction-Exercice.ipynb)\n",
    "- **2**. [Statistiques et régression](./DS4B-Iris2.ipynb). en Français / *in French*\n",
    "    - [Exercices.](./DS4B-Exercices/DS4B-Iris2-Exercice.ipynb)\n",
    "    - [Corrigé.](./DS4B-Exercices/DS4B-Iris2-Correction-Exercice.ipynb)\n",
    "- **3**. [Apprentissage supervisé (supervised Machine Learning) appliqué à la classification (régression logistique)](./DS4B-Iris3.ipynb). en Français / *in French*\n",
    "    - [Exercices.](./DS4B-Exercices/DS4B-Iris3-Exercice.ipynb)\n",
    "    - [Corrigé.](./DS4B-Exercices/DS4B-Iris3-Correction-Exercice.ipynb)  "
   ]
  },
  {
   "cell_type": "code",
   "execution_count": 4,
   "id": "23550d42-7fbe-4463-9459-6e94a77a16a2",
   "metadata": {},
   "outputs": [
    {
     "data": {
      "text/markdown": [
       "**Fin à:** Sunday 30 October 2022, 18:39:22  \n",
       "**Durée:** 00:00:13 380ms"
      ],
      "text/plain": [
       "<IPython.core.display.Markdown object>"
      ]
     },
     "metadata": {},
     "output_type": "display_data"
    },
    {
     "data": {
      "text/markdown": [
       "<p style=\"text-align: center\"><img width=\"800px\" src=\"./config/svg/logoFin.svg\" style=\"margin-left:auto; margin-right:auto\"/></p>"
      ],
      "text/plain": [
       "<IPython.core.display.Markdown object>"
      ]
     },
     "metadata": {},
     "output_type": "display_data"
    }
   ],
   "source": [
    "vID.end(cwd0)"
   ]
  },
  {
   "cell_type": "code",
   "execution_count": null,
   "id": "d6713d82-0090-4644-bb50-1e8c25b7d71c",
   "metadata": {},
   "outputs": [],
   "source": []
  }
 ],
 "metadata": {
  "kernelspec": {
   "display_name": "Python 3 (ipykernel)",
   "language": "python",
   "name": "python3"
  },
  "language_info": {
   "codemirror_mode": {
    "name": "ipython",
    "version": 3
   },
   "file_extension": ".py",
   "mimetype": "text/x-python",
   "name": "python",
   "nbconvert_exporter": "python",
   "pygments_lexer": "ipython3",
   "version": "3.11.11"
  },
  "toc-autonumbering": false,
  "toc-showmarkdowntxt": false
 },
 "nbformat": 4,
 "nbformat_minor": 5
}
