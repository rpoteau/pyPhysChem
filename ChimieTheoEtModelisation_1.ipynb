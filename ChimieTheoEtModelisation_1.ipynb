{
 "cells": [
  {
   "cell_type": "code",
   "execution_count": 1,
   "id": "c298741c-734b-4c09-bc03-f7d51713af5d",
   "metadata": {},
   "outputs": [
    {
     "name": "stdout",
     "output_type": "stream",
     "text": [
      "/home/romuald/ENSEIGNEMENT/1-JupyterNotebooks/pyPhysChem\n"
     ]
    },
    {
     "data": {
      "text/html": [
       "<style>\n",
       "h1, h2, h3, h4, h5, h6 {\n",
       "  font-family: Verdana, \"DejaVu Sans\", \"Bitstream Vera Sans\", Geneva, sans-serif;\n",
       "  font-weight: bold;\n",
       "}\n",
       "body, intro, introE, introT, rq, rqE, rqT, ex, exE, app, appE, sol, todo, hint, hintE, figure  {\n",
       "  font-family: Verdana, \"DejaVu Sans\", \"Bitstream Vera Sans\", Geneva, sans-serif;\n",
       "  font-weight: 400;\n",
       "  font-size: 12px;\n",
       "}\n",
       "h1 {\n",
       "  border: 0 solid #333;\n",
       "  padding: 30px ;\n",
       "  color: white;\n",
       "  background: #b11d01;\n",
       "  text-align: center;\n",
       "}\n",
       "h2 {\n",
       "  border: 3px solid #333;\n",
       "  padding: 18px ;\n",
       "  color: #b11d01;\n",
       "  background: #ffffff;\n",
       "  text-align: center;\n",
       "}\n",
       "h3 {\n",
       "  border: 0 solid #333;\n",
       "  padding: 12px ;\n",
       "  color: #000000;\n",
       "  background: #c1c1c1;\n",
       "  text-align: left;\n",
       "}\n",
       "h4 {\n",
       "  border: 0 solid #333;\n",
       "  padding: 2px ;\n",
       "  color: #000000;\n",
       "  background: #d9fffc;\n",
       "  text-align: left;\n",
       "}\n",
       "h5 {\n",
       "  border: 1px solid #333;\n",
       "  padding: 2px ;\n",
       "  color: #000000;\n",
       "  background: #ffffff;\n",
       "  text-align: left;\n",
       "}\n",
       ".introT::before {    \n",
       "    content: attr(title);\n",
       "    background-color: #cecece;\n",
       "    margin-left:-0.5em;\n",
       "    margin-right:-0.5em;\n",
       "    padding-left:0.5em;\n",
       "    padding-right:0.5em;\n",
       "    font-weight: 600;\n",
       "    display: block;\n",
       "}\n",
       ".introT {    \n",
       "    background-color: #cecece80;\n",
       "    border-color: #969696;\n",
       "    border-left: 5px solid #969696;\n",
       "    padding: 0.5em;\n",
       "}\n",
       ".intro {    \n",
       "    background-color: #cecece80;\n",
       "    border-color: #969696;\n",
       "    border-left: 5px solid #969696;\n",
       "    padding: 0.5em;\n",
       "}\n",
       ".introE {    \n",
       "    background-color: #cecece80;\n",
       "    border-color: #969696;\n",
       "    border-left: 5px solid #969696;\n",
       "    padding: 0.5em;\n",
       "    color : #117996;\n",
       "}\n",
       ".rq::before {    \n",
       "    background-color: #fcd3d3;\n",
       "    color: #ff0000;\n",
       "    content:\"Remarque\";\n",
       "    margin-left:-0.5em;\n",
       "    margin-right:-0.5em;\n",
       "    padding-left:0.5em;\n",
       "    padding-right:0.5em;\n",
       "    font-weight: 600;\n",
       "    display: block;\n",
       "}\n",
       ".rq {    \n",
       "    background-color: #fcf2f2;\n",
       "    border-color: #dFb5b4;\n",
       "    border-left: 5px solid #dfb5b4;\n",
       "    padding: 0.5em;\n",
       "}\n",
       ".rqE::before {    \n",
       "    background-color: #fcd3d3;\n",
       "    color: #ff0000;\n",
       "    content:\"Pay attention\";\n",
       "    margin-left:-0.5em;\n",
       "    margin-right:-0.5em;\n",
       "    padding-left:0.5em;\n",
       "    padding-right:0.5em;\n",
       "    font-weight: 600;\n",
       "    display: block;\n",
       "}\n",
       ".rqE {    \n",
       "    background-color: #fcd3d380;\n",
       "    border-color: #dFb5b4;\n",
       "    border-left: 5px solid #dfb5b4;\n",
       "    padding: 0.5em;\n",
       "}\n",
       ".rqT::before {    \n",
       "    background-color: #fcd3d3;\n",
       "    color: #ff0000;\n",
       "    content: attr(title);\n",
       "    margin-left:-0.5em;\n",
       "    margin-right:-0.5em;\n",
       "    padding-left:0.5em;\n",
       "    padding-right:0.5em;\n",
       "    font-weight: 600;\n",
       "    display: block;\n",
       "}\n",
       ".rqT {    \n",
       "    background-color: #fcd3d380;\n",
       "    border-color: #dFb5b4;\n",
       "    border-left: 5px solid #dfb5b4;\n",
       "    padding: 0.5em;\n",
       "}\n",
       ".exold {    \n",
       "    background-color: #b2dbea80;\n",
       "    border-color: #0055ff;\n",
       "    border-left: 10px solid #0055ff;\n",
       "    padding: 0.5em;\n",
       "}\n",
       ".ex {    \n",
       "    background-color: #b2dbea80;\n",
       "    padding: 0.5em;\n",
       "    padding-top: 0em;\n",
       "    position:relative;\n",
       "}\n",
       ".ex::before {\n",
       "    background-color: #b2dbea;\n",
       "    content:\"Exercice. \" attr(title);\n",
       "    margin-left:-0.5em;\n",
       "    margin-right:-0.5em;\n",
       "    padding-left:0.5em;\n",
       "    padding-right:0.5em;\n",
       "    font-weight: 600;\n",
       "    display: block;\n",
       "}\n",
       ".exE {    \n",
       "    background-color: #b2dbea80;\n",
       "    padding: 0.5em;\n",
       "    padding-top: 0em;\n",
       "    position:relative;\n",
       "    color : #117996;\n",
       "}\n",
       ".exE::before {\n",
       "    background-color: #b2dbea;\n",
       "    content:\"Exercise. \" attr(title);\n",
       "    margin-left:-0.5em;\n",
       "    margin-right:-0.5em;\n",
       "    padding-left:0.5em;\n",
       "    padding-right:0.5em;\n",
       "    font-weight: 600;\n",
       "    display: block;\n",
       "    color : #117996;\n",
       "}\n",
       ".hint {    \n",
       "    background-color: #dede6f80;\n",
       "    padding: 0.5em;\n",
       "    padding-top: 0em;\n",
       "    position:relative;\n",
       "    color : ##37665f;\n",
       "}\n",
       ".hint::before {\n",
       "    background-color: #dede6f;\n",
       "    content:\"Indice(s). \" attr(title);\n",
       "    margin-left:-0.5em;\n",
       "    margin-right:-0.5em;\n",
       "    padding-left:0.5em;\n",
       "    padding-right:0.5em;\n",
       "    font-weight: 600;\n",
       "    display: block;\n",
       "    color : ##37665f;\n",
       "}\n",
       ".hintE {    \n",
       "    background-color: #dede6f80;\n",
       "    padding: 0.5em;\n",
       "    padding-top: 0em;\n",
       "    position:relative;\n",
       "    color : ##37665f;\n",
       "}\n",
       ".hintE::before {\n",
       "    background-color: #dede6f;\n",
       "    content:\"Hint(s). \" attr(title);\n",
       "    margin-left:-0.5em;\n",
       "    margin-right:-0.5em;\n",
       "    padding-left:0.5em;\n",
       "    padding-right:0.5em;\n",
       "    font-weight: 600;\n",
       "    display: block;\n",
       "    color : ##37665f;\n",
       "}\n",
       ".app {    \n",
       "    background-color: #b2dbea80;\n",
       "    padding: 0.5em;\n",
       "    padding-top: 0em;\n",
       "    position:relative;\n",
       "}\n",
       ".app::before {\n",
       "    background-color: #b2dbea;\n",
       "    content:\"Application\";\n",
       "    margin-left:-0.5em;\n",
       "    margin-right:-0.5em;\n",
       "    padding-left:0.5em;\n",
       "    padding-right:0.5em;\n",
       "    font-weight: 600;\n",
       "    display: block;\n",
       "}\n",
       ".appE {    \n",
       "    background-color: #b2dbea80;\n",
       "    padding: 0.5em;\n",
       "    padding-top: 0em;\n",
       "    color : #117996;\n",
       "    position:relative;\n",
       "}\n",
       ".appE::before {\n",
       "    background-color: #b2dbea;\n",
       "    content:\"Application\";\n",
       "    margin-left:-0.5em;\n",
       "    margin-right:-0.5em;\n",
       "    padding-left:0.5em;\n",
       "    padding-right:0.5em;\n",
       "    font-weight: 600;\n",
       "    color : #117996;\n",
       "    display: block;\n",
       "}\n",
       ".solFr {    \n",
       "    background-color: #bbeab880;\n",
       "    padding: 0.5em;\n",
       "    padding-top: 0em;\n",
       "    position:relative;\n",
       "}\n",
       ".solFr::before {\n",
       "    background-color: #bbeab8;\n",
       "    content:\"Solution\";\n",
       "    margin-left:-0.5em;\n",
       "    margin-right:-0.5em;\n",
       "    padding-left:0.5em;\n",
       "    padding-right:0.5em;\n",
       "    font-weight: 600;\n",
       "    display: block;\n",
       "}.sol {    \n",
       "    background-color: #bbeab880;\n",
       "    padding: 0.5em;\n",
       "    padding-top: 0em;\n",
       "    position:relative;\n",
       "}\n",
       ".sol::before {\n",
       "    background-color: #bbeab8;\n",
       "    content:\"Answer\";\n",
       "    margin-left:-0.5em;\n",
       "    margin-right:-0.5em;\n",
       "    padding-left:0.5em;\n",
       "    padding-right:0.5em;\n",
       "    font-weight: 600;\n",
       "    display: block;\n",
       "}\n",
       ".com {    \n",
       "    background-color: #ffff7f80;\n",
       "    padding: 0.5em;\n",
       "    padding-top: 0em;\n",
       "    position:relative;\n",
       "}\n",
       ".com::before {\n",
       "    background-color: #ffff7f;\n",
       "    content:\"Comment.\";\n",
       "    margin-left:-0.5em;\n",
       "    margin-right:-0.5em;\n",
       "    padding-left:0.5em;\n",
       "    padding-right:0.5em;\n",
       "    font-weight: 600;\n",
       "    display: block;\n",
       "}\n",
       "div.todo:before {\n",
       "    content:url(data:image/png;base64,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);\n",
       "    float:left;\n",
       "    margin-left:20px;\n",
       "    margin-right:20px;\n",
       "    margin-top:20px;\n",
       "    margin-bottom:20px;\n",
       "}\n",
       "div.todo{\n",
       "    font-size: 1.1em;\n",
       "    margin-top:40px;\n",
       "    background-color: #b2dbea80;\n",
       "}\n",
       "div.todo ul{\n",
       "    margin: 0.2em;\n",
       "}\n",
       "div.todo li{\n",
       "    margin-left:60px;\n",
       "    margin-top:0;\n",
       "    margin-bottom:0;\n",
       "}\n",
       "\n",
       "figure {\n",
       "    border: 0px;\n",
       "    text-align: center;\n",
       "    margin: 5px; /* adjust as needed */\n",
       "    display: block;\n",
       "    margin: auto;\n",
       "}\n",
       "figure img {\n",
       "    vertical-align: top;\n",
       "    text-align: center;\n",
       "    display: block;\n",
       "    margin: auto;\n",
       "}\n",
       "figure figcaption {\n",
       "    border: 0px;\n",
       "    text-align: center;\n",
       "    font-size: 11px;\n",
       "    margin: auto;\n",
       "}\n",
       "\n",
       "</style>\n"
      ],
      "text/plain": [
       "<IPython.core.display.HTML object>"
      ]
     },
     "metadata": {},
     "output_type": "display_data"
    },
    {
     "data": {
      "text/markdown": [
       "**Start at:** Friday 12 September 2025, 21:17:28  \n",
       "**Hostname:** device-9.home (Linux)"
      ],
      "text/plain": [
       "<IPython.core.display.Markdown object>"
      ]
     },
     "metadata": {},
     "output_type": "display_data"
    },
    {
     "data": {
      "text/markdown": [
       "<p style=\"text-align: center\"><img width=\"800px\" src=\"./config/svg/pyPhysChemBanner.svg\" style=\"margin-left:auto; margin-right:auto\"/></p>"
      ],
      "text/plain": [
       "<IPython.core.display.Markdown object>"
      ]
     },
     "metadata": {},
     "output_type": "display_data"
    }
   ],
   "source": [
    "#########################################################################################################################################################\n",
    "# exécutez cette première cellule Python, qui définit le style visuel de ces notebooks et qui initialise quelques variables et fonctions parfois utiles #\n",
    "#########################################################################################################################################################\n",
    "\n",
    "import os\n",
    "import sys\n",
    "\n",
    "# commenter les lignes ci-dessous si vous n'exécutez pas le notebook dans l'environnement pyPhysChem\n",
    "print(os.getcwd())\n",
    "cwd0 = './config/'\n",
    "sys.path.append(cwd0)\n",
    "\n",
    "import visualID_Eng as vID\n",
    "from visualID_Eng import fg,bg,hl,color\n",
    "vID.init(cwd0)\n",
    "import tools4pyPhysChem as t4pPC\n",
    "\n",
    "__author__ = \"romuald.poteau@utoulouse.fr\"\n",
    "__version__ = \"20250915\""
   ]
  },
  {
   "cell_type": "markdown",
   "id": "13e96966-4590-47a1-bad8-efb75f94a900",
   "metadata": {},
   "source": [
    "# Chimie Théorique et Modélisation : modèles simples<br>Feuilles de calcul Python\n",
    "\n",
    "<figure>\n",
    "  <img src=\"./MiscImages/Introductions/datascience_3.png\" style=\"margin-left:auto; margin-right:auto; display: block; width:700px\" id=\"img_python_PhysChem\" alt=\"python et physico-chimie\">\n",
    "  <figcaption>fait par l'auteur, avec l'aide de Dall-E, ChatGPT-4o (Nov. 2024)</figcaption>\n",
    "</figure>\n",
    "\n",
    "## À qui ce notebook est-il destiné et comment travailler avec ?\n",
    "\n",
    "<div class=\"intro\">\n",
    "\n",
    "Ce notebook Python est destiné à tou(te)s les étudiant(e)s qui suivent un enseignement d'introduction à l'\"atomistique et la liaison chimique\", qu'on préfère intituler les **modèles simples en chimie théorique et modélisation**. \n",
    "\n",
    "**Vous pensez qu'avoir des compétences en Python est sans intérêt pour vous ?** C'est une **erreur**, Python étant ***a minima* une super calculatrice scientifique**. \n",
    "Acquérir une maîtrise de Python représente un avantage incontournable pour tout(e) étudiant(e) en sciences, en lui fournissant les **compétences techniques** indispensables pour stimuler la réflexion et l'innovation dans son domaine scientifique. Mais maîtriser Python ne se limite pas à développer des compétences techniques, cela peut vous permettre également de **mieux comprendre un domaine** en approfondissant l'analyse des données, en explorant de **nouvelles approches méthodologiques et numériques**, et en **visualisant des phénomènes complexes** sous des angles inédits. Bref, ça peut vous **aider à comprendre** et à **vous poser des questions différemment**.\n",
    "\n",
    "Tout(e) étudiant(e) curieux(se) peut s'approprier toutes les parties du notebook. Néanmoins, voici comment vous pourriez **sélectionner les parties qui sont les plus adaptées à votre parcours**, selon que vous êtes dans un parcours...\n",
    "\n",
    "- **chimie** ou **physico-chimie** : concentrez-vous avant tout sur les applications numériques, sur les outils de résolution numériques d'équations, sur les graphiques, sur l'utilisation de \"macrocommandes\" en sachant lire \"la doc\" pour appeler la commande avec les bons paramètres\n",
    "- **informatique** : Développer du code sans comprendre le contexte utilisateur est insuffisant. Au-delà de cette première approche, des fonctions et classes Python sont intégrées au notebook, afin de faciliter l'utlisation de certaines bibliothèques ou de dépasser leurs limites. Analysez le code, qui exploite le caractère orienté objet du langage Python, et qui - modestement - essaie d'automatiser des processus et de créer des applications logicielles performantes. Et ne passez pas à côté des applications numériques, pour vous aider à aborder différemment le domaine de la chimie. \n",
    "- **mathématiques** : les parties exploitant `sympy`, bibliothèque qui facilite le calcul symbolique, sont faites pour vous. Ne négligez cependant pas les parties  numériques ni la partie analyse du code Python si vous êtes attiré(e) par les mathématiques appliquées.\n",
    "- **physique** : simuler et comprendre des phénomènes physiques nécessitant entre autres de résoudre des équations complexes et d'analyser des données expérimentales, vous pouvez essayer de vous approprier l'ensemble des exercices\n",
    "- **sciences de l'ingénieur ou prépa concours** : vous serez régulièrement confrontés à la nécécessité de résoudre de façon optimale des problèmes complexes, d'automatiser des calculs et d'analyser des données dans divers domaines de l'ingénierie. Avoir des compétences numériques, en programmation, et en manipulation des données est incontournable. Des compétences en calcul symbolique (bibliothèque `sympy`) sont un plus.\n",
    "\n",
    "<div style=\"color:#4a7d93\">\n",
    "    \n",
    "**Les compétences Python travaillées seront précisées en fin de chaque exercice.**\n",
    "\n",
    "</div>\n",
    "\n",
    "Dans l'environnement `pyPhysChem` &ndash; <u>c'est-à-dire si vous clonez l'espace de dépôt sur votre ordinateur, ce qui est fortement recommandé </u> &ndash; les exercices apparaissent sur fond bleu, comme dans l'exemple ci-dessous\n",
    "</div>\n",
    "<br>\n",
    "<div class=\"ex\" title=\"lorem ipsum\">\n",
    "\n",
    "*Lorem ipsum dolor sit amet, consectetuer adipiscing elit. Maecenas porttitor congue massa. Fusce posuere, magna sed pulvinar ultricies, purus lectus malesuada libero, sit amet commodo magna eros quis urna. Nunc viverra imperdiet enim. Fusce est. Vivamus a tellus. Pellentesque habitant morbi tristique senectus et netus et malesuada fames ac turpis egestas. Proin pharetra nonummy pede. Mauris et orci. Aenean nec lorem. In porttitor. Donec laoreet nonummy augue. Suspendisse dui purus, scelerisque at, vulputate vitae, pretium mattis, nunc. Mauris eget neque at sem venenatis eleifend. Ut nonummy.*\n",
    "\n",
    "Mais d'où sort cette phrase ?\n",
    "\n",
    "<div style=\"color:#4a7d93\">\n",
    "\n",
    "**Compétence travaillée :** rechercher l'origine du *lorem ipsum* et quelle est son utilisation dans le monde numérique.\n",
    "</div>\n",
    "</div>"
   ]
  },
  {
   "cell_type": "markdown",
   "id": "76f9e6f7-0407-488c-947b-304db936fd3f",
   "metadata": {},
   "source": [
    "## Importation des constantes fondamentales\n",
    "\n",
    "### Introduction\n",
    "\n",
    "<div class=\"intro\">\n",
    "\n",
    "En chimie, on a fréquemment besoin d'utiliser des [constantes physiques](https://en.wikipedia.org/wiki/Physical_constant), telles que la vitesse de la lumière $c$, la masse du proton $m_p$, le nombre d'Avogadro $N_A$, la constante de Planck $h$, la constante des gaz parfaits $R$, etc...\n",
    "\n",
    "Une constante physique est une quantité physique dont la valeur numérique est fixe. Contrairement à une constante mathématique, elle implique une grandeur physiquement mesurable.\n",
    "\n",
    "On a souvent besoin également de certaines [constantes mathématiques](https://en.wikipedia.org/wiki/Mathematical_constant), comme le nombre $\\pi$, le nombre d'Euler $e$, l'unité imaginaire $i$, etc...\n",
    "\n",
    "La plupart de ces constantes sont disponibles dans la bibliothèque `SciPy`, qui est l’une des bibliothèques de Python permettant de faire le calcul scientifique. Celle-ci dépend de la bibliothèque `NumPy` qui permet la manipulation des tableaux à *N* dimensions. La liste des constantes et des unités est disponible dans la [documentation en ligne de](https://docs.scipy.org/doc/scipy/reference/constants.html#scipy.constants.physical_constants) `SciPy`, ou bien par l'utilisation d'une commande Python. Pour y accéder, il faut importer `scipy.constants`.\n",
    "\n",
    "</div>\n",
    "<br>\n",
    "<div class=\"rqT\" title=\"SciPy ? A quoi ça sert ?\">\n",
    "\n",
    "`SciPy` est une bibliothèque open-source en Python utilisée pour les calculs scientifiques et techniques. Elle fournit des outils pour l'optimisation, l'intégration, l'interpolation, l'algèbre linéaire, les statistiques, et d'autres domaines des mathématiques appliquées. Voir l'article de [wikipedia](https://fr.wikipedia.org/wiki/SciPy) et le [site du projet](https://scipy.org/). **Elle est utile dans <u>tous</u> les domaines scientifiques**.\n",
    "</div>\n",
    "<br>\n",
    "<div class=\"intro\">\n",
    "\n",
    "<div style=\"color:#4a7d93\">\n",
    "    \n",
    "<u>**Compétences Python travaillées dans cette section**:</u>\n",
    "\n",
    "- importer des bibliothèques existantes et exploiter les fonctions incluses\n",
    "- faire appel au *i*ème élément (`[i]`) d'une liste, d'un multiplet, ou d'un tableau\n",
    "- afficher le contenu d'une variable à l'aide de la commande `print`\n",
    "- lire une documentation en ligne en anglais\n",
    "</div></div>"
   ]
  },
  {
   "cell_type": "code",
   "execution_count": 2,
   "id": "a1c5ea48-e718-4e1a-8cd7-e05d33c4ea4d",
   "metadata": {},
   "outputs": [],
   "source": [
    "import scipy.constants as sc"
   ]
  },
  {
   "cell_type": "markdown",
   "id": "c8519661-7251-49d2-8c36-04c045bab5a8",
   "metadata": {},
   "source": [
    "### Valeur, unité et précision d'une constante fondamentale\n",
    "\n",
    "<div class=\"intro\">\n",
    "    \n",
    "Prenons l'exemple de la masse de l'électron, dont on lit dans la  [documentation en ligne de](https://docs.scipy.org/doc/scipy/reference/constants.html) `SciPy`, que la clef qui indexe $m_e$ est `electron mass`. On va afficher sa valeur, son unité, et l'incertitude *absolue* de cette constante, renvoyées sous forme de multiplet (*tuple* en anglais) de 3 valeurs.\n",
    "</div>"
   ]
  },
  {
   "cell_type": "code",
   "execution_count": 3,
   "id": "0d6475d4-2df2-48e4-bbeb-3401e81ba4c8",
   "metadata": {},
   "outputs": [
    {
     "name": "stdout",
     "output_type": "stream",
     "text": [
      "(9.1093837139e-31, 'kg', 2.8e-40)\n"
     ]
    }
   ],
   "source": [
    "print(sc.physical_constants[\"electron mass\"])"
   ]
  },
  {
   "cell_type": "markdown",
   "id": "7cc07c0a-26f6-4431-84b9-8e8912947e1d",
   "metadata": {},
   "source": [
    "<div class=\"intro\">\n",
    "\n",
    "Dans un premier temps, on va se contenter de stocker la constante dans une variable.\n",
    "</div>"
   ]
  },
  {
   "cell_type": "code",
   "execution_count": 4,
   "id": "784ac36d-0099-4591-b775-59eea2d67450",
   "metadata": {},
   "outputs": [
    {
     "name": "stdout",
     "output_type": "stream",
     "text": [
      "ERROR! Session/line number was not unique in database. History logging moved to new session 3\n",
      "9.1093837139e-31\n"
     ]
    }
   ],
   "source": [
    "me = sc.physical_constants[\"electron mass\"][0]\n",
    "print(me)"
   ]
  },
  {
   "cell_type": "markdown",
   "id": "b8818a49-467c-40d0-a67f-9a36a78d9a52",
   "metadata": {},
   "source": [
    "<div class=\"intro\">\n",
    "\n",
    "**Un mot sur l'incertitude du module `physical_constants` de `SciPy`.** C'est une incertitude absolue qui est contenue dans le 3ème terme du multiplet. Pour rappel, on écrit la valeur d'une mesure avec son incertitude absolue selon la relation :\n",
    "    \n",
    "$$m_{\\mathrm{e}}\\pm\\Delta m_{\\mathrm{e}}$$\n",
    "\n",
    "ce qui veut dire que $m_{\\mathrm{e}}$ est en réalité compris entre deux valeurs $m_{\\mathrm{e}} - \\Delta m_{\\mathrm{e}}$ et $m_{\\mathrm{e}} + \\Delta m_{\\mathrm{e}}$ :\n",
    "</div>\n",
    "\n",
    "<div class=\"intro\">\n",
    "</div>"
   ]
  },
  {
   "cell_type": "code",
   "execution_count": 5,
   "id": "a75e0634-d526-4293-b8d2-e9ea0ac05aeb",
   "metadata": {},
   "outputs": [
    {
     "name": "stdout",
     "output_type": "stream",
     "text": [
      "Masse de l'électron =  9.1093837139e-31 ± 2.8e-40 kg\n"
     ]
    }
   ],
   "source": [
    "me_p = sc.physical_constants[\"electron mass\"][2]\n",
    "me_u = sc.physical_constants[\"electron mass\"][1]\n",
    "print(\"Masse de l'électron = \",me,\"±\",me_p,me_u)"
   ]
  },
  {
   "cell_type": "markdown",
   "id": "2357adc5-0e6b-4a32-989d-0a275e11b5f1",
   "metadata": {},
   "source": [
    "### Affichage des constantes puis importation de leurs valeurs dans des variables"
   ]
  },
  {
   "cell_type": "code",
   "execution_count": 6,
   "id": "0b38fbee-2afc-4b38-8661-42e5b4e3b276",
   "metadata": {},
   "outputs": [
    {
     "name": "stdout",
     "output_type": "stream",
     "text": [
      "Constante de Planck, h: (6.62607015e-34, 'J Hz^-1', 0.0)\n",
      "\n",
      "Charge élémentaire, e: (1.602176634e-19, 'C', 0.0)\n",
      "\n",
      "Vitesse de la lumière dans la vide, c: (299792458.0, 'm s^-1', 0.0)\n",
      "\n",
      "Masse de l'électron, me: (9.1093837139e-31, 'kg', 2.8e-40)\n",
      "\n",
      "Masse du proton, mp: (1.67262192595e-27, 'kg', 5.2e-37)\n",
      "\n",
      "Masse du neutron, mn: (1.67492750056e-27, 'kg', 8.5e-37)\n"
     ]
    }
   ],
   "source": [
    "print(f'Constante de Planck, h: {sc.physical_constants[\"Planck constant\"]}')\n",
    "print()\n",
    "print(f'Charge élémentaire, e: {sc.physical_constants[\"elementary charge\"]}')\n",
    "print()\n",
    "print(f'Vitesse de la lumière dans la vide, c: {sc.physical_constants[\"speed of light in vacuum\"]}')\n",
    "print()\n",
    "print(f'Masse de l\\'électron, me: {sc.physical_constants[\"electron mass\"]}')\n",
    "print()\n",
    "print(f'Masse du proton, mp: {sc.physical_constants[\"proton mass\"]}')\n",
    "print()\n",
    "print(f'Masse du neutron, mn: {sc.physical_constants[\"neutron mass\"]}')\n"
   ]
  },
  {
   "cell_type": "code",
   "execution_count": 7,
   "id": "cf3f5423-7fad-4e1a-8ae1-03853e57cb24",
   "metadata": {},
   "outputs": [],
   "source": [
    "h = sc.physical_constants[\"Planck constant\"][0]\n",
    "e = sc.physical_constants[\"elementary charge\"][0]\n",
    "c = sc.physical_constants[\"speed of light in vacuum\"][0]\n",
    "me = sc.physical_constants[\"electron mass\"][0]\n",
    "mp = sc.physical_constants[\"proton mass\"][0]\n",
    "mn = sc.physical_constants[\"neutron mass\"][0]"
   ]
  },
  {
   "cell_type": "markdown",
   "id": "838d0c4d-222a-4b93-a5bf-ba4620707de2",
   "metadata": {},
   "source": [
    "<div class=\"ex\" title=\"Nombre d'Avogadro\">\n",
    "\n",
    "**1.** Afficher la valeur du nombre d'Avogadro, son incertitude et son unité, qui sont disponibles dans la bibliothèque `SciPy`\n",
    "\n",
    "**2.** Sauver la valeur du nombre d'Avogadro dans une variable `NA`, <u>sans utiliser un copier-coller</u>\n",
    "\n",
    "**3.** Afficher le contenu de la variable `NA` en écrivant : Nombre d'Avogadro = *valeur unité*\n",
    "\n",
    "<div style=\"color:#4a7d93\">\n",
    "    \n",
    "<u>**Compétences Python travaillées**:</u>\n",
    "    \n",
    "- lire une documentation en ligne en anglais (la [liste des constantes physiques de `SciPy`](https://docs.scipy.org/doc/scipy/reference/constants.html#scipy.constants.physical_constants))\n",
    "- importer des bibliothèques existantes et exploiter les fonctions incluses\n",
    "- sauver une valeur numérique dans une variable\n",
    "- afficher le contenu d'une variable, en contextualisant\n",
    "</div>\n",
    "</div>"
   ]
  },
  {
   "cell_type": "code",
   "execution_count": 8,
   "id": "806af8ef-4205-4337-bd56-7d49138f6f2d",
   "metadata": {},
   "outputs": [],
   "source": [
    "# entrez votre code dans cette cellule \"Python\"\n",
    "\n",
    "#Q1\n",
    "\n",
    "#Q2\n",
    "\n",
    "#Q3\n"
   ]
  },
  {
   "cell_type": "markdown",
   "id": "9cb74977-770a-4869-b593-cbf3d711f37c",
   "metadata": {},
   "source": [
    "<div class=\"solFr\">\n",
    "\n",
    "Vous voulez une solution possible à cet exercice ? Décommentez la commande `# %load ./SolutionsToExercises/...` ci-dessous (*il faut exécuter deux fois le contenu de la cellule : la première fois pour charger le contenu du fichier python et la deuxième pour exécuter le code python qui a été charge*) \n",
    "\n",
    "</div>"
   ]
  },
  {
   "cell_type": "code",
   "execution_count": 9,
   "id": "c0b4dd34-5dc2-4df7-83dc-4bd3c7dc37fc",
   "metadata": {
    "tags": []
   },
   "outputs": [],
   "source": [
    "# %load ./SolutionsToExercises/CTM/Avogadro.py"
   ]
  },
  {
   "cell_type": "markdown",
   "id": "9dd9a70c-4b30-43b4-a449-9065444ad537",
   "metadata": {},
   "source": [
    "## Quelques rappels mathématiques importants"
   ]
  },
  {
   "cell_type": "markdown",
   "id": "b177747b-fa31-41a8-9397-5336b5a37d92",
   "metadata": {},
   "source": [
    "### Chiffres significatifs\n",
    "\n",
    "<div class=\"intro\">\n",
    "\n",
    "Reprenons l'introduction de l'[article de wikipedia](https://fr.wikipedia.org/wiki/Chiffre_significatif) à ce sujet : *le nombre de chiffres significatifs indique la précision d'une mesure physique. Il s'agit des chiffres connus avec certitude ou compris dans un intervalle d'incertitude. La précision (ou l'incertitude) avec laquelle on connaît la valeur d'une grandeur dépend de la mesure, c'est-à-dire de l'ensemble d'opérations ayant pour but de déterminer la valeur d'une grandeur.*\n",
    "\n",
    "*<u>Exemple</u> : 12 345 a cinq chiffres significatifs. Son premier chiffre incertain est le 5. Cet exemple est équivalent à 12 345 ± 1 ou encore 12 345(1)*\n",
    "\n",
    "<u>Exemple</u>  : *m* = 100,0016 g avec une incertitude de 0,0011 g = 100,0016(11) g = 100,0016 ± 0,0011 g\n",
    "</div>\n",
    "\n",
    "<div class=\"intro\">\n",
    "    \n",
    "Il existe une bibliothèque Python, `sigfig` qui peut assister le scientifique dans **l'affichage** des variables avec un nombre de chiffres significatifs défini par l'utilisateur. La fonction qui nous intéresse s'appelle `round`, dont des exemples sont donnés ci-dessous.\n",
    "</div>\n",
    "<br>\n",
    "<div class=\"rq\">\n",
    "    \n",
    "`sigfig` n'étant pas fourni avec une distribution Python standard, il faut d'abord l'installer, par exemple avec la commande `pip`, qu'on peut lancer directement depuis le notebook.\n",
    "\n",
    "<span style=\"color:red\"><u>**Attention !**</u> La commande pip prend du temps, d'une part le temps de téléchargement, d'autre part la durée nécessaire pour l'installation et la vérification de la compatibilité. **Il est donc normal que ça reste apparemment bloqué pendant de très longues secondes**</span>\n",
    "</div>"
   ]
  },
  {
   "cell_type": "code",
   "execution_count": 10,
   "id": "92bca4db-7dca-4759-a922-2ca8d9be6b89",
   "metadata": {},
   "outputs": [],
   "source": [
    "# enlever le commentaire de la ligne ci-dessous si votre distribution Python n'intègre pas sigfig\n",
    "# à faire une fois seulement, l'installation est définitive \n",
    "#!pip install sigfig "
   ]
  },
  {
   "cell_type": "code",
   "execution_count": 11,
   "id": "9792b896-4188-40ab-84a5-ba4d4f3b2d6d",
   "metadata": {},
   "outputs": [
    {
     "name": "stdout",
     "output_type": "stream",
     "text": [
      "0.0000000000000000000000000000009109383714 ± 0.0000000000000000000000000000000000000003\n",
      "0.000 000 000 000 000 000 000 000 000 000 910 938 371 39(28)\n",
      "\n",
      "9.109383714E-31 ± 0.000000003E-31\n"
     ]
    }
   ],
   "source": [
    "from sigfig import round\n",
    "print(round(me,me_p))\n",
    "print(round(me,me_p,format='Drake'))\n",
    "print()\n",
    "print(round(me,me_p,notation='scientific'))"
   ]
  },
  {
   "cell_type": "markdown",
   "id": "0faf1aa2-71e9-4c52-9545-ffea0b46059c",
   "metadata": {},
   "source": [
    "<div class=\"rq\">\n",
    "\n",
    "    \n",
    "- `sigfig` ne permet malheureusement pas de combiner le format Drake et la notation scientfique\n",
    "- pour définir le nombre de décimales, on peut utliiser fonction `round` de `NumPy` ou bien celle de `sigfig` avec l'option `decimals` :\n",
    "\n",
    "```Python\n",
    "import numpy as np\n",
    "np.round(12.542352,2) #arrondit à deux décimales = 12.54\n",
    "```\n",
    "<br>\n",
    "\n",
    "```Python\n",
    "from sigfig import round\n",
    "round(12.542352,decimals = 2) #arrondit à deux décimales = 12.54\n",
    "```\n",
    "\n",
    "</div>"
   ]
  },
  {
   "cell_type": "markdown",
   "id": "cd9a1c74-54a0-4122-95dd-98ea3ff9c0b1",
   "metadata": {},
   "source": [
    "<div class=\"ex\" title=\"Chiffres significatifs\">\n",
    "\n",
    "**1.** Écrire les nombres A ci-dessous  avec le même nombre de chiffres significatifs que le nombre B qui lui est associé\n",
    "\n",
    "- A = 12,876782320 ; B = 3,1416\n",
    "- A = 125678,000034 ; B = 0,000056\n",
    "\n",
    "**2.** Exprimer chaque nombre ci-dessous en tenant compte du nombre de chiffres significatifs (cs) demandé\n",
    "\n",
    "- 0,006738 ; 3 cs\n",
    "- 43,715 &times;  10<sup>3</sup> ; 4 cs (utiliser la notation scientifique)\n",
    "\n",
    "**3.** Effectuez les opérations suivantes en tenant compte des chiffres significatifs. Ne pas oublier d'afficher l'unité !\n",
    "\n",
    "- 1,20 x 10<sup>2</sup> V x 2,5 A\n",
    "- 0,288 g / 0,4 cm<sup>3</sup>\n",
    "- 10,8 g + 0,125 g + 4,25 g\n",
    "- 1,5 x 10<sup>3</sup> mL - 3 x 10<sup>2</sup> mL\n",
    "\n",
    "<div style=\"color:#4a7d93\">\n",
    "    \n",
    "<u>**Compétences Python travaillées**:</u>\n",
    "    \n",
    "- installer une bibliothèque Python afin d'ajouter des fonctionnalités à sa distribution de base\n",
    "- importer des bibliothèques existantes et exploiter les fonctions incluses\n",
    "</div>\n",
    "</div>\n",
    "<br>\n",
    "<div class=\"hint\">\n",
    "\n",
    "Rappels concernant les chiffres significatifs : \n",
    "- multiplications et divisions : c’est toujours \"le plus petit qui l’emporte\"\n",
    "- additions et soustractions :  le résultat ne doit pas avoir plus de décimales que le nombre qui en comporte le moins (1,07 + 16,0 = 17,07 → 17,1)\n",
    "</div>"
   ]
  },
  {
   "cell_type": "code",
   "execution_count": 12,
   "id": "4800f7ba-e3b7-4b7e-811e-26ea7d62a7b5",
   "metadata": {},
   "outputs": [],
   "source": [
    "# entrez votre code dans cette cellule \"Python\"\n",
    "\n",
    "#Q1\n",
    "\n",
    "#Q2\n",
    "\n",
    "#Q3\n"
   ]
  },
  {
   "cell_type": "markdown",
   "id": "4ef56e69-62e0-4802-9b44-8decc74c3521",
   "metadata": {},
   "source": [
    "<div class=\"solFr\">\n",
    "\n",
    "Vous voulez une solution possible à cet exercice ? Décommentez la commande `# %load ./SolutionsToExercises/...` ci-dessous (*il faut exécuter deux fois le contenu de la cellule : la première fois pour charger le contenu du fichier python et la deuxième pour exécuter le code python qui a été charge*) \n",
    "\n",
    "</div>"
   ]
  },
  {
   "cell_type": "code",
   "execution_count": 13,
   "id": "3d13f4a1-789d-444f-8324-b5c0a4a04164",
   "metadata": {
    "tags": []
   },
   "outputs": [],
   "source": [
    "# %load ./SolutionsToExercises/CTM/cs.py"
   ]
  },
  {
   "cell_type": "markdown",
   "id": "7a1c5c50-ff7e-4f45-a98b-3831ab7ff3a7",
   "metadata": {},
   "source": [
    "### développement en cours (à suivre...)"
   ]
  },
  {
   "cell_type": "markdown",
   "id": "37740165-1c87-4cec-b116-6d618b09d8f2",
   "metadata": {},
   "source": [
    "## Chapitre 1 : Pré-requis et généralités\n",
    "\n",
    "### Isotopes et abondance natutelle\n",
    "\n",
    "#### Résolutions numériques"
   ]
  },
  {
   "cell_type": "markdown",
   "id": "0b8643fc-7d6f-4097-bff3-5923451a86af",
   "metadata": {},
   "source": [
    "<div class=\"ex\" title=\"Masse molaire du lithium naturel\">\n",
    "\n",
    "Selon les tables de données atomiques, il existe 5 isotopes du lithium :\n",
    "\n",
    "| isotope | *M* / g.mol<sup>-1</sup> | *t*<sub>1/2</sub> / s |\n",
    "|:-------------:|:-------------|:-------------:|\n",
    "|<sup>6</sup>Li|\t6,015 122 3(5)|stable|\n",
    "|<sup>7</sup>Li|\t7,016 004 0(5)|stable|\n",
    "|<sup>8</sup>Li|\t8,022486|0,84|\n",
    "|<sup>9</sup>Li|\t9,026789|0,178|\n",
    "|<sup>11</sup>Li|11,04379|0,0087|\n",
    "\n",
    "Or, le spectre de masse du lithium naturel, ci-dessous, ne présente que deux pics :\n",
    "\n",
    "<img src=\"MiscImages/Exercises/spectreMasse-Li.png\" style=\"margin-left:auto; margin-right:auto; display: block; width:200px\" id=\"img_massSpLi\" alt=\"spectre de masse de Li\"/>\n",
    "\n",
    "**1.** Quelle est la masse molaire du lithium à l'état naturel ?\n",
    "\n",
    "**2.** Afficher le résultat avec le nombre de chiffres significatifs approprié, ainsi qu'avec l'unité\n",
    "\n",
    "<div style=\"color:#4a7d93\">\n",
    "    \n",
    "<u>**Compétences Python travaillées**:</u>\n",
    "    \n",
    "- calculer avec Python\n",
    "- importer des bibliothèques existantes et exploiter les fonctions incluses\n",
    "</div></div>"
   ]
  },
  {
   "cell_type": "code",
   "execution_count": 14,
   "id": "5d1a8ac9-95ab-4533-b81b-69a6fa52f4a5",
   "metadata": {},
   "outputs": [],
   "source": [
    "# entrez votre code dans cette cellule \"Python\"\n",
    "\n",
    "#Q1\n",
    "\n",
    "#Q2"
   ]
  },
  {
   "cell_type": "markdown",
   "id": "8b64b5b0-2810-4e00-9329-4a8439d6f477",
   "metadata": {},
   "source": [
    "<div class=\"solFr\">\n",
    "\n",
    "Vous voulez une solution possible à cet exercice ? Décommentez la commande `# %load ./SolutionsToExercises/...` ci-dessous (*il faut exécuter deux fois le contenu de la cellule : la première fois pour charger le contenu du fichier python et la deuxième pour exécuter le code python qui a été charge*) \n",
    "\n",
    "</div>"
   ]
  },
  {
   "cell_type": "code",
   "execution_count": 15,
   "id": "5132c2f4-c259-45bc-ad16-416dca18bac4",
   "metadata": {
    "tags": []
   },
   "outputs": [],
   "source": [
    "# %load ./SolutionsToExercises/CTM/MMLi.py"
   ]
  },
  {
   "cell_type": "markdown",
   "id": "3aacd01c-c5d9-4cbe-894e-23e5fb150296",
   "metadata": {},
   "source": [
    "<div class=\"ex\" title=\"Abondance naturelle des isotopes de l'élément bore\">\n",
    "Le bore naturel (Z=5) est constitué de 2 isotopes : <sup>10</sup>B et <sup>11</sup>B  dont les masses molaires sont respectivement égales à M<sub>1</sub> = 10,0129 g.mol<sup>-1</sup> et M<sub>2</sub> = 11,0093 g.mol<sup>-1</sup>.\n",
    "    \n",
    "**1.** Sachant que la masse molaire du bore naturel est M = 10,8110 g.mol<sup>-1</sup>, quelles sont les proportions relatives de ces deux isotopes dans le bore naturel, que l'on notera p<sub>1</sub> et p<sub>2</sub> ?\n",
    "\n",
    "**2.** Ecrire p<sub>1</sub> et p<sub>2</sub> avec le nombre de chiffres significatifs approprié. On utilisera pour cela la fonction `round` de la [bibliothèque `sigfig`](https://pypi.org/project/sigfig/)\n",
    "\n",
    "<div style=\"color:#4a7d93\">\n",
    "    \n",
    "<u>**Compétences Python travaillées**:</u>\n",
    "    \n",
    "- calculer avec Python\n",
    "- importer des bibliothèques existantes et exploiter les fonctions incluses\n",
    "- appliquer des méthodes numériques pour résoudre un système d'équations\n",
    "</div>\n",
    "</div>\n",
    "<br>\n",
    "\n",
    "<div class=\"hint\">\n",
    "\n",
    "- on recherche deux inconnues, p1 et p2. Il faut formuler un système de deux équations à deux inconnues. Dans ce cas, le système s'exprime comme :\n",
    "$$p_1M_1 + p_2M_2 = M$$\n",
    "$$p_1 + p_2 = 1$$\n",
    "\n",
    "- puis il faut résoudre le système. On va utiliser la fonction `solve` fournie par le module `linalg` de `numpy`. Il faut d'abord transformer le système ci-dessus en tableaux\n",
    "    - le premier va contenir les valeurs associées aux inconnues *p*<sub>1</sub> et *p*<sub>2</sub> dans la partie gauche de ces deux équations\n",
    "$$A=\\left[\\begin{array}{cc}\n",
    "M_{1} & M_{2}\\\\\n",
    "1 & 1\n",
    "\\end{array}\\right]$$\n",
    "    - le second va contenir les valeurs de la partie droite des équations\n",
    "$$y=\\left[\\begin{array}{c}\n",
    "M\\\\\n",
    "1\n",
    "\\end{array}\\right]$$\n",
    "\n",
    "Ces deux tableaux doivent être exprimés sous forme de tableaux `numpy` :\n",
    "\n",
    "```python\n",
    "A = np.array([\n",
    "             [M1,M2],\n",
    "             [1,1]\n",
    "             ])\n",
    "y = np.array([M,1])\n",
    "```\n",
    "\n",
    "Puis on peut faire appel à `solve` :\n",
    "```\n",
    "np.linalg.solve(A, y)\n",
    "```\n",
    "\n",
    "- on sauvera la solution dans 2 variables `p1` et `p2`, ce qui facilitera la gestion par `sigfig`, qui ne sait travailler ni sur des tableaux ni sur des listes\n",
    "</div>"
   ]
  },
  {
   "cell_type": "markdown",
   "id": "fdae1db6-abb8-424a-886d-dbfae08f0863",
   "metadata": {},
   "source": [
    "<div class=\"rq\">\n",
    "\n",
    "C'est à vous de gérer la précision, c'est-à-dire le nombre de chiffres significatifs, compte tenu de la précision des données. La bibliothèque `sigfig` peut ensuite être utilisée pour vous aider à afficher les abondances naturelles avec le nombre de chiffres significatifs approprié, c'est-à-dire 6 dans cette application. \n",
    "</div>"
   ]
  },
  {
   "cell_type": "code",
   "execution_count": 16,
   "id": "c546502f-d9eb-4df0-86f0-ee5ef9ba579f",
   "metadata": {},
   "outputs": [],
   "source": [
    "# entrez votre code dans cette cellule \"Python\"\n",
    "\n",
    "#Q1\n",
    "\n",
    "#Q2\n"
   ]
  },
  {
   "cell_type": "markdown",
   "id": "c0f5f996-734a-4b27-8f22-c78a4de2ac65",
   "metadata": {},
   "source": [
    "<div class=\"solFr\">\n",
    "\n",
    "Vous voulez une solution possible à cet exercice ? Décommentez la commande `# %load ./SolutionsToExercises/...` ci-dessous (*il faut exécuter deux fois le contenu de la cellule : la première fois pour charger le contenu du fichier python et la deuxième pour exécuter le code python qui a été charge*) \n",
    "\n",
    "</div>"
   ]
  },
  {
   "cell_type": "code",
   "execution_count": 17,
   "id": "d3a0ac49-32fb-4958-8e34-9190efe4bd03",
   "metadata": {
    "tags": []
   },
   "outputs": [],
   "source": [
    "# %load ./SolutionsToExercises/CTM/isotopesB.py"
   ]
  },
  {
   "cell_type": "markdown",
   "id": "a6af448d-4048-4064-b1ba-5b75ae1549e9",
   "metadata": {},
   "source": [
    "#### Résolution analytique\n",
    "\n",
    "<div class=\"intro\">\n",
    "    \n",
    "On va utiliser un programme CAS (Computer Algebra System), c'est-à-dire un logiciel utilisé pour effectuer des calculs algébriques symboliques, comme la manipulation d'expressions mathématiques, la résolution d'équations, et le calcul de dérivées et d'intégrales, de manière exacte plutôt que numérique.\n",
    "\n",
    "On va plus précisément utiliser pour cela la [bibliothèque Python `SymPy`](https://www.sympy.org/). Elle permet de manipuler des expressions mathématiques sous forme symbolique plutôt que numérique. Les outils d'algèbre symbolique sont particulièrement utiles dans le contexte de l'enseignement, de la recherche, ou du développement d'outils mathématiques où il est nécessaire de manipuler des expressions mathématiques de manière exacte, plutôt que d'avoir recours à des approximations numériques.\n",
    "\n",
    "Ce sont des compétences Python qu'il est utile de maîtriser en mathématiques, physique, sciences de l'ingénieur. Rien n'interdit aux chimistes et physico-chimistes d'essayer de comprendre ce qui va être fait.\n",
    "</div>\n",
    "<br>\n",
    "<div class=\"intro\">\n",
    "\n",
    "**Mode d'emploi :**\n",
    "    \n",
    "- si `SymPy` n'est pas encore installé, vous pouvez l'ajouter en exécutant la commande suivante dans une cellule du notebook :  `!pip install sympy`\n",
    "- vous devez importer la bibliothèque. Pourquoi ne pas lui attribuer un raccourci : `import sympy as sym`\n",
    "\n",
    "Supposons que vous devez résoudre le système suivant\n",
    "\n",
    "$$\\begin{align*}\n",
    "2x + 3y &= 6 \\\\\n",
    "x - y &= 2\n",
    "\\end{align*}$$\n",
    "\n",
    "- il vous faut d'abord déclarer les variables symboliques, qui sont ici *x* et *y*\n",
    "\n",
    "    ```python\n",
    "    from sympy import symbols\n",
    "    x, y = symbols('x y')\n",
    "    ```\n",
    "\n",
    "- vous pouvez ensuite définir vos équations, avec la fonction `Eq()` de `SymPy`. Par exemple, `Eq(2*x + 3*y, 6)` représente l'équation $2x+3y=6$ \n",
    "\n",
    "    ```python\n",
    "    from sympy import Eq\n",
    "    eq1 = Eq(2*x + 3*y, 6)\n",
    "    eq2 = Eq(x - y, 2)\n",
    "    ```\n",
    "\n",
    "- utilisez la fonction `solve` de SymPy pour résoudre le système d'équations. Sa syntaxe générale est `solve(equations, variables)`. `equations` peut être une seule équation ou un tuple de plusieurs équations. Idem pour `variables`. Dans ce cas, ça donne\n",
    "\n",
    "    ```python\n",
    "    from sympy import solve\n",
    "    solution = solve((eq1, eq2), (x, y))\n",
    "    ```\n",
    "\n",
    "- `solve` retourne un dictionnaire avec les solutions des variables\n",
    "\n",
    "Voici ce que ça donne :\n",
    "</div>"
   ]
  },
  {
   "cell_type": "code",
   "execution_count": 18,
   "id": "5d9ec144-0191-4e1e-9a60-2fbab65721d4",
   "metadata": {},
   "outputs": [],
   "source": [
    "# enlever le commentaire ci-dessous si la bibliothèque sympy n'est pas installée sur votre distribution, ce qui est probable\n",
    "# à faire une fois seulement, l'installation est définitive \n",
    "# !pip install sympy"
   ]
  },
  {
   "cell_type": "code",
   "execution_count": 19,
   "id": "f36678d8-e37f-4bf0-99b0-2b6edd1ffe52",
   "metadata": {},
   "outputs": [
    {
     "name": "stdout",
     "output_type": "stream",
     "text": [
      "{x: 12/5, y: 2/5}\n"
     ]
    }
   ],
   "source": [
    "from sympy import symbols\n",
    "x, y = symbols('x y')\n",
    "\n",
    "from sympy import Eq\n",
    "eq1 = Eq(2*x + 3*y, 6)\n",
    "eq2 = Eq(x - y, 2)\n",
    "\n",
    "from sympy import solve\n",
    "solution = solve((eq1, eq2), (x, y))\n",
    "\n",
    "print(solution)"
   ]
  },
  {
   "cell_type": "markdown",
   "id": "7d0ceac2-f173-4816-b1f9-4174755856c6",
   "metadata": {},
   "source": [
    "<div class=\"ex\" title=\"Abondance isotopique\">\n",
    "\n",
    "Utiliser la fonction `solve` de `SymPy` pour résoudre l'exercice \"*Abondance naturelle des isotopes de l'élément bore*\".\n",
    "\n",
    "<div style=\"color:#4a7d93\">\n",
    "    \n",
    "<u>**Compétences Python travaillées**:</u>\n",
    "    \n",
    "- installer une bibliothèque Python afin d'ajouter des fonctionnalités à sa distribution de base\n",
    "- importer des bibliothèques existantes et exploiter les fonctions incluses\n",
    "- appliquer des méthodes symboliques pour résoudre un système d'équations\n",
    "</div>\n",
    "</div>\n",
    "<br>\n",
    "<div class=\"hint\">\n",
    "\n",
    "Pour faire l'application numérique, vous devrez utiliser la fonction `subs` de `SymPy`. Elle permet en effet de remplacer une variable symbolique par une valeur numérique. Voici un exemple d'application :\n",
    "\n",
    "```python\n",
    "x = symbols('x')\n",
    "y = symbols('y')\n",
    "expr = x**2 + y**2\n",
    "expr_ = expr.subs({x: 1, y: 2})\n",
    "print(expr_)\n",
    "```\n",
    "\n",
    "La commande print va afficher 5.\n",
    "</div>"
   ]
  },
  {
   "cell_type": "code",
   "execution_count": 20,
   "id": "09874269-b733-4dbe-86a8-40d9918cdb79",
   "metadata": {},
   "outputs": [],
   "source": [
    "# entrez votre code dans cette cellule \"Python\"\n",
    "\n"
   ]
  },
  {
   "cell_type": "markdown",
   "id": "83836035-3642-4dee-bd16-c6449bdea641",
   "metadata": {},
   "source": [
    "<div class=\"solFr\">\n",
    "\n",
    "Vous voulez une solution possible à cet exercice ? Décommentez la commande `# %load ./SolutionsToExercises/...` ci-dessous (*il faut exécuter deux fois le contenu de la cellule : la première fois pour charger le contenu du fichier python et la deuxième pour exécuter le code python qui a été charge*) \n",
    "\n",
    "</div>"
   ]
  },
  {
   "cell_type": "code",
   "execution_count": 21,
   "id": "ad7740b1-8b5a-4977-af9f-6f4431754c20",
   "metadata": {
    "tags": []
   },
   "outputs": [],
   "source": [
    "# %load ./SolutionsToExercises/CTM/isotopesB_sympy.py"
   ]
  },
  {
   "cell_type": "markdown",
   "id": "e1914eca-e83f-4107-b452-2147aebcb312",
   "metadata": {},
   "source": [
    "## Chapitre 3 : Atomes et orbitales atomiques (OA)"
   ]
  },
  {
   "cell_type": "markdown",
   "id": "b4d5394e-9a31-47ef-aeee-4e674fccb20c",
   "metadata": {},
   "source": [
    "### Atome d'hydrogène\n",
    "\n",
    "<div class=\"ex\" title=\"Atome d'hydrogène : niveaux d'énergie\">\n",
    "\n",
    "On rappelle que *Z*=1 et *A*=1 pour H et que l'énergie électronique est donnée par la formule :\n",
    "\n",
    "$$E_{n}(\\mathrm{H})=-\\frac{E_{i_{1}}(\\mathrm{H})}{n^{2}}$$\n",
    "\n",
    "où *n* est le nombre quantique principal et où $E_{i_{1}}(\\mathrm{H})$, l'énergie d'ionisation de H, vaut 13,598 eV.\n",
    "\n",
    "$E_{i_{1}}(\\mathrm{H})$ peut être calculée en appliquant la formule ci-dessous\n",
    "\n",
    "$$E_{i_{1}}=\\frac{1}{8}\\frac{\\mu_{\\mathrm{H}}e^{4}}{\\left(h\\times\\varepsilon_{0}\\right)^{2}}$$\n",
    "\n",
    "où : \n",
    "- *h* est la constante de Planck\n",
    "- $\\varepsilon_{0}$ (\"epsilon zéro\") est la permittivité du vide ou encore la constante (di)électrique\n",
    "- *e* est la charge élémentaire\n",
    "- $\\mu_{\\mathrm{H}}$ est la masse réduite de <u>un</u> atome d'hydrogène, calculée par la formule :\n",
    "\n",
    "$$\\mu_{\\mathrm{H}}=\\frac{m_{e}m_{p}}{m_{e}+m_{p}}$$\n",
    "\n",
    "**1.** Afficher les constantes fondamentales *h*, $\\varepsilon_{0}$, $m_{e}$, $m_{p}$ et *e* de la bibliothèque `scipy`, leur précision et leur incertitude absolue. Puis sauver leurs valeurs dans des variables `h`, `eps0`, `me`, `mp`, `e`.\n",
    "\n",
    "**2.** Utiliser ces variables pour retrouver la valeur de l'énergie d'ionisation de H en eV.\n",
    "\n",
    "**3.** Calculer, en eV, les énergies des 10 premiers états de l'atome d'hydrogène. Utiliser la fonction `round(x,m)` de `numpy` pour arrondir les énergies à 3 décimales (`m`=3)\n",
    "\n",
    "<div style=\"color:#4a7d93\">\n",
    "    \n",
    "<u>**Compétences Python travaillées**:</u>\n",
    "    \n",
    "- calculer avec Python\n",
    "- importer des bibliothèques existantes et exploiter les fonctions ou données incluses\n",
    "- maîtriser une boucle afin d'automatiser un traitement de données\n",
    "\n",
    "</div>\n",
    "</div>\n",
    "<br>\n",
    "<div class=\"hint\">\n",
    "\n",
    "- la constante électrique du vide $\\varepsilon_{0}$ est indexée dans `scipy` sous le nom de `vacuum electric permittivity`\n",
    "- calculer d'abord $\\mu_{\\mathrm{H}}$ et sauver la valeur dans une variable `muH`\n",
    "- utiliser la grandeur physique appropriée de `scipy` pour faire la conversion de joule en eV\n",
    "- utiliser une boucle pour répondre à la question 2\n",
    "</div>"
   ]
  },
  {
   "cell_type": "code",
   "execution_count": 22,
   "id": "dd257c0e-a5b7-4785-b09e-c7d758a84a88",
   "metadata": {},
   "outputs": [],
   "source": [
    "# entrez votre code dans cette cellule \"Python\"\n",
    "\n",
    "#Q1\n",
    "\n",
    "#Q2\n",
    "\n",
    "#Q3\n"
   ]
  },
  {
   "cell_type": "markdown",
   "id": "06e1cb56-b641-4fd9-9dd3-8ca006a35985",
   "metadata": {},
   "source": [
    "<div class=\"solFr\">\n",
    "\n",
    "Vous voulez une solution possible à cet exercice ? Décommentez la commande `# %load ./SolutionsToExercises/...` ci-dessous (*il faut exécuter deux fois le contenu de la cellule : la première fois pour charger le contenu du fichier python et la deuxième pour exécuter le code python qui a été charge*) \n",
    "\n",
    "</div>"
   ]
  },
  {
   "cell_type": "code",
   "execution_count": 23,
   "id": "b707a892-5af0-45ec-9fb9-b046f97fc9ca",
   "metadata": {
    "tags": []
   },
   "outputs": [],
   "source": [
    "# %load ./SolutionsToExercises/CTM/H_En.py"
   ]
  },
  {
   "cell_type": "markdown",
   "id": "bf0d0518-7299-4cd0-9a53-1c23f0941839",
   "metadata": {},
   "source": [
    "<div class=\"ex\" title=\"Atome d'hydrogène : transitions électroniques\">\n",
    "\n",
    "La relation de Planck-Einstein est une relation de base de la mécanique quantique. Elle permet de calculer l'énergie transportée par un photon : $E=h\\nu$, où :\n",
    "\n",
    "- E est l'énergie du photon (en joules)\n",
    "- h est la constante de Planck (en J⋅s)\n",
    "- $\\nu$ (\"nu\") est la fréquence (en hertz) de l'onde électromagnétique associée au photon considéré\n",
    "\n",
    "Dans le cas d'une onde électromagnétique se propageant dans le vide, fréquence $\\nu$ (\"nu\") et longueur d'onde $\\lambda$ (\"lambda\", en mètres) sont liées par la relation $\\nu = c/\\lambda$ \n",
    "\n",
    "La relation de Planck-Einstein s'écrit alors\n",
    "\n",
    "$$E=\\frac{hc}{\\lambda}$$\n",
    "\n",
    "c'est-à-dire que connaissant l'énergie d'un photon on peut calculer sa longueur d'onde par\n",
    "\n",
    "$$\\lambda=\\frac{hc}{E}$$\n",
    "\n",
    "On trouve dans certains formulaires de calcul qu'on peut directement calculer la longueur d'onde en nm, à partir d'une énergie exprimée en eV :\n",
    "\n",
    "$$\\lambda[\\mathrm{nm}]=\\frac{1239,84}{E[\\mathrm{eV}]}$$\n",
    "\n",
    "**1.** Retrouver la valeur au numérateur, et la sauver dans une variable `eV2nm` (\"eV to nanometers\")\n",
    "\n",
    "**2.** La transition la plus intense du spectre d'émission de l'atome d'hydrogène correspond à la transition 3 &rarr; 2. Calculer, en eV, la différence d'énergie entre les deux états. En déduire la longueur d'onde en nm. Les afficher avec 3 & 1 décimale, respectivement.\n",
    "\n",
    "**3.** La série de Balmer est la série de raies spectrales de l'atome d'hydrogène correspondant à une transition électronique d'un état quantique de nombre principal *n* &ge; 3 vers l'état *n* = 2. Calculer, en nm, les longueurs d'onde des 6 premières transitions de la série de Balmer, et les afficher avec 1 décimale.\n",
    "\n",
    "**4.** Faire le même travail pour les séries de Lyman (transitions *n* &ge; 2 vers l'état *n* = 1) et de Brackett (transitions de *n* &ge; 4 vers l'état *n* = 1). Ces raies sont-elles identifiables par un oeil humain ?\n",
    "\n",
    "<div style=\"color:#4a7d93\">\n",
    "    \n",
    "<u>**Compétences Python travaillées**:</u>\n",
    "    \n",
    "- calculer avec Python\n",
    "- importer des bibliothèques existantes et exploiter les fonctions ou données incluses\n",
    "- maîtriser une boucle afin d'automatiser un traitement de données\n",
    "\n",
    "</div>\n",
    "</div>\n",
    "<br>\n",
    "<div class=\"hint\">\n",
    "\n",
    "- question 1\n",
    "    - utiliser à nouveau les constantes fondamentales appropriées de l'exercice précédent, et les compléter si nécessaire\n",
    "    - 1 nm = 10<sup>-9</sup> m = `1e-9` m\n",
    "    - &lambda;[m] = &lambda;[nm] &times; `1e9`\n",
    "    - *E*[J]/*e* = *E*[eV]\n",
    "- question 2\n",
    "    - utiliser la valeur de $E_{i_{1}}(\\mathrm{H})$ calculée précédemment\n",
    "    - la relation $\\lambda[\\mathrm{nm}]={1239,84}/{E[\\mathrm{eV}]}$ peut s'appliquer à des différences d'énergie\n",
    "- question 3\n",
    "    - définir une fonction `E(n)`, qui renvoie, en eV, l'énergie d'un état quantique de nombre principal *n*\n",
    "    - utiliser une boucle\n",
    "    - utiliser la fonction `round` de `numpy`\n",
    "\n",
    "\n",
    "</div>\n",
    "<br>\n",
    "<div class=\"rq\">\n",
    "\n",
    "!! `lambda` est une fonction de `Python`. Ne pas l'utiliser comme variable !!\n",
    "</div>"
   ]
  },
  {
   "cell_type": "code",
   "execution_count": 24,
   "id": "14d36402-1d55-429b-8ca4-cb8de2236652",
   "metadata": {},
   "outputs": [],
   "source": [
    "# entrez votre code dans cette cellule \"Python\"\n",
    "\n",
    "#Q1\n",
    "\n",
    "#Q2\n",
    "\n",
    "#Q3\n",
    "\n",
    "#Q4\n"
   ]
  },
  {
   "cell_type": "markdown",
   "id": "938367e1-6a6c-40ca-b8c5-1da9ceabe43d",
   "metadata": {},
   "source": [
    "<div class=\"solFr\">\n",
    "\n",
    "Vous voulez une solution possible à cet exercice ? Décommentez la commande `# %load ./SolutionsToExercises/...` ci-dessous (*il faut exécuter deux fois le contenu de la cellule : la première fois pour charger le contenu du fichier python et la deuxième pour exécuter le code python qui a été charge*) \n",
    "\n",
    "</div>"
   ]
  },
  {
   "cell_type": "code",
   "execution_count": 25,
   "id": "0a95dba9-3849-4847-b192-c740d59d82a0",
   "metadata": {
    "tags": []
   },
   "outputs": [],
   "source": [
    "# %load ./SolutionsToExercises/CTM/H_Tn.py"
   ]
  },
  {
   "cell_type": "markdown",
   "id": "9cfe09d3-bcba-411b-b543-da30bad4b6ca",
   "metadata": {},
   "source": [
    "### Configurations électroniques fondamentales\n",
    "\n",
    "<div class=\"intro\">\n",
    "\n",
    "On va utiliser la bibliothèque Python `mendeleev`, qui est un outil conçu pour fournir un accès facile aux données du tableau périodique des éléments et à diverses propriétés atomiques. Elle est nommée en l'honneur de [Dmitri Mendeleïev](https://fr.wikipedia.org/wiki/Dmitri_Mendele%C3%AFev), le chimiste russe qui a créé le premier tableau périodique.\n",
    "\n",
    "Pour récupérer les informations d'un élément, il faut\n",
    "\n",
    "- commencer par importer le module `element` de la bibliothèque `mendeleev`\n",
    "- puis dire quel est l'élément dont on veut connaître les propriétés, en le désignant par son symbole chimique (attention au respect majuscule/minuscule) ou par son numéro atomique, ou par son nom anglais\n",
    "\n",
    "```Python\n",
    "from mendeleev import element\n",
    "\n",
    "chlore = element('Cl')\n",
    "hydrogène = element(1)\n",
    "carbone = element('Carbon')\n",
    "```\n",
    "<br>\n",
    "\n",
    "On peut ensuite accéder aux propriétés... si on connaît leur nom. Les données disponibles et leur origine sont indiquées sur la [page data de la documentation](https://mendeleev.readthedocs.io/en/stable/data.html).\n",
    "\n",
    "Par exemple,\n",
    "\n",
    "```Python\n",
    "chlore.econf\n",
    "```\n",
    "renvoie la configuration électronique du chlore. On peut aussi l'obtenir directement avec la commande \n",
    "\n",
    "```Python\n",
    "element('Cl').econf\n",
    "```\n",
    "\n",
    "</div>\n",
    "<br>\n",
    "<div class=\"rq\">\n",
    "\n",
    "**C'est quoi cette commande `chlore.econf` ? Pourquoi pas `econf(chlore)`?**\n",
    "\n",
    "c'est lié au fait que Python obéit au principe de la programmation orientée objet. `econf` est un **attribut** de l'objet `chlore`.  Les objets ont des attributs, qui sont des variables associées à l'objet et qui contiennent des données. Dans le plupart des bibliothèques Python, il existe également des fonctions qui s'appliquent aux objets. Supposons qu'il existe une fonction, `cloud`, qui renvoie de quoi dessiner le nuage électronique d'un atome. On l'appelerait comme `chlore.cloud()`. *Notez les parenthèses.* Supposons que cette fonction dessine par défaut le nuage électronique total, mais qu'elle puisse prendre en paramètre le numéro de la couche pour dessiner le nuage électronique restreint à ces électrons-là. On écrirait par exemple, pour la 2ème couche, `chlore.cloud(2)`.\n",
    "</div>\n",
    "<br>\n",
    "<div class=\"intro\">\n",
    "\n",
    "**Principales commandes**\n",
    "\n",
    "- `element(X).ec` (*attribut*) : renvoie la CEF complète de l'élément identifié par X, où X = Z ou \"symbole atomique\" ou \"name of the element\" \n",
    "- `element(X).econf` (*attribut*) : renvoie la CEF de l'élément identifié par X, exprimée à partir de celle du gaz noble de la période précédente . Bizarrement, 1 n'est jamais indiqué quand une sous-couche est occupée par un seul électron. \n",
    "- `element(X).ec.unpaired_electrons()` (*fonction*) : calcule et renvoie le nombre d'électrons célibataires de X\n",
    "- `element(X).ec.ionize(n)` (*fonction*) : renvoie la CEF du cation X^(n+)\n",
    "- `element(X).oxistates` (*attribut*) : renvoie les états d'oxydation <u>les plus courants</u> de l'élément X\n",
    "</div>"
   ]
  },
  {
   "cell_type": "code",
   "execution_count": 26,
   "id": "1a478912-faf9-45a1-a32b-cd11ba564da9",
   "metadata": {},
   "outputs": [],
   "source": [
    "# enlever le commentaire de la ligne ci-dessous si votre distribution Python n'intègre pas mendeleev, ce qui est le plus probable\n",
    "# à faire une fois seulement, l'installation est définitive \n",
    "# !pip install mendeleev "
   ]
  },
  {
   "cell_type": "code",
   "execution_count": 27,
   "id": "b802ff26-27e8-463e-b1a1-0287c8492c96",
   "metadata": {},
   "outputs": [
    {
     "name": "stdout",
     "output_type": "stream",
     "text": [
      "CEF de Cu = 1s2 2s2 2p6 3s2 3p6 3d10 4s1 = [Ar] 3d10 4s\n",
      "Nombre d'électrons célibataires de Cu = 1\n",
      "État(s) d'oxydation le(s) plus courant(s) de Cu = [2]\n",
      "CEF de Cu2+ = 1s2 2s2 2p6 3s2 3p6 3d9\n",
      "Nombre d'électrons célibataires de Cu2+ = 1\n"
     ]
    }
   ],
   "source": [
    "from mendeleev import element\n",
    "Cu = element(29)\n",
    "print(\"CEF de Cu =\",Cu.ec,\"=\",Cu.econf)\n",
    "print(\"Nombre d'électrons célibataires de Cu =\",Cu.ec.unpaired_electrons())\n",
    "print(\"État(s) d'oxydation le(s) plus courant(s) de Cu =\",Cu.oxistates)\n",
    "print(\"CEF de Cu2+ =\",element(29).ec.ionize(2))\n",
    "print(\"Nombre d'électrons célibataires de Cu2+ =\",Cu.ec.ionize(2).unpaired_electrons())"
   ]
  },
  {
   "cell_type": "markdown",
   "id": "93f42b80-d6cd-4ae2-909e-ed0f985c488e",
   "metadata": {},
   "source": [
    "<div class=\"ex\" title=\"CEF des éléments. Métaux de transition\">\n",
    "\n",
    "**1.** Utiliser les données de la bibliothèque `mendeleev` pour afficher la configuration électronique fondamentale (CEF) des éléments ci-dessous, ainsi que leur nombre d'électrons non célibataire. Afficher également le numéro atomique, contenu dans la variable (ou attribut) `atomic_number`, utilisée à la place de `ec` ou de `econf`.\n",
    "\n",
    "- l'aluminium (Al)\n",
    "- le calcium (Ca)\n",
    "- le scandium (Sc)\n",
    "- le chrome (Cr)\n",
    "\n",
    "**2.** Afficher les états d'oxydation les plus courants de l'or (Au). En déduire que Au est bien un métal de transition. \n",
    "\n",
    "<div style=\"color:#4a7d93\">\n",
    "    \n",
    "<u>**Compétences Python travaillées**:</u>\n",
    "    \n",
    "- importer des bibliothèques existantes et exploiter les fonctions ou données incluses\n",
    "\n",
    "</div>\n",
    "</div>"
   ]
  },
  {
   "cell_type": "code",
   "execution_count": 28,
   "id": "5ea8fc1d-3851-4d97-b407-7bf9da667a92",
   "metadata": {},
   "outputs": [],
   "source": [
    "# entrez votre code dans cette cellule \"Python\"\n",
    "\n",
    "#Q1\n",
    "\n",
    "#Q2\n",
    "\n"
   ]
  },
  {
   "cell_type": "markdown",
   "id": "11e1b23d-7a20-4034-bc0c-2228466ffb1f",
   "metadata": {},
   "source": [
    "<div class=\"solFr\">\n",
    "\n",
    "Vous voulez une solution possible à cet exercice ? Décommentez la commande `# %load ./SolutionsToExercises/...` ci-dessous (*il faut exécuter deux fois le contenu de la cellule : la première fois pour charger le contenu du fichier python et la deuxième pour exécuter le code python qui a été charge*) \n",
    "\n",
    "</div>"
   ]
  },
  {
   "cell_type": "code",
   "execution_count": 29,
   "id": "189b9241-f582-4df2-bb85-f42e0f6ce3a4",
   "metadata": {
    "tags": []
   },
   "outputs": [],
   "source": [
    "# %load ./SolutionsToExercises/CTM/CEF_MT.py"
   ]
  },
  {
   "cell_type": "markdown",
   "id": "028d30c0-98f6-4b01-8bf0-8ff807b7d52a",
   "metadata": {},
   "source": [
    "<div class=\"rq\">\n",
    "\n",
    "Il est utile de rappeler la définition d'un métal de transition : **Un métal de transition, ou élément de transition, est, selon la définition de l'IUPAC, « un élément chimique dont les atomes ont une sous-couche électronique d incomplète, ou qui peuvent former des cations dont la sous-couche électronique d est incomplète**. [L'article de wikipedia sur le sujet est très bien écrit](https://fr.wikipedia.org/wiki/M%C3%A9tal_de_transition). \n",
    "\n",
    "La sous-couche *d* de Au est complète (5*d*<sup>10</sup>), mais Au est bien un métal de transition, puisque Au<sup>3+</sup>, cation connu (donc stable) de Au, possède une sous-couche *d* incomplète (5*d*<sup>8</sup>).\n",
    "</div>"
   ]
  },
  {
   "cell_type": "markdown",
   "id": "7d79b2d9-a216-41fc-91c3-f4cef2336c5e",
   "metadata": {},
   "source": [
    "## Chapitre 4 : le tableau périodique des éléments\n",
    "\n",
    "<div class=\"intro\">\n",
    "\n",
    "On va principalement utiliser la bibliothèque `mendeleev`, et le tableau de données qui est renvoyé par la fonction `create_vis_dataframe()` du package `mendeleev.vis`. Ce tableau contient numéros atomiques, noms des éléments en anglais, noms des familles en anglais, rayons covalents, affinité électronique etc... Il peut ensuite être **utilisé pour dessiner des tableaux périodiques**, par exemple avec `matplotlib`. Mais il y **manque des données** comme les noms en français, les énergies de première ionisation (pourtant disponibles dans la base de données de `mendeleev`) etc. Si on veut franciser `mendeleev` et y transférer certaines données physico-chimique de sa base de données vers ce tableau, il va donc falloir le *patcher*.\n",
    "\n",
    "Pour simplifier la vie de l'utilisateur, `mendeleev` met à disposition des commandes graphiques pour **visualiser le tableau périodique**. L'une d'entre elles s'appuie sur la bibliothèque **`bokeh`**, qui permet de générer des **visualisations web interactives** directement depuis du code Python. Ca marche aussi dans un environnement de jupyter notebook. `bokeh` ne faisant en général pas partie de la distribution standard, il faut **l'installer à la première utilisation**.\n",
    "\n",
    "On aimerait de surcroît, pour chaque élément, connaître sa \"carte de visite\", comme la date de découverte, l'origine du nom, l'utilisation principale etc. Toutes ces données sont contenues dans la base de données de `mendeleev`, mais il faut une commande Python pour afficher chacune de ces informations.\n",
    "</div>"
   ]
  },
  {
   "cell_type": "markdown",
   "id": "fff12d2c-28e0-4ed5-bd33-2202c29cdfd0",
   "metadata": {},
   "source": [
    "### Développements d'outils Python\n",
    "\n",
    "<div class=\"intro\">\n",
    "\n",
    "L'exercice ci-dessous consiste à analyser un code Python qui a été développé à la fois pour simplifier l'utilisation de `mendeleev` et pour le *patcher*, selon les orientations définies dans l'introduction ci-dessus. \n",
    "\n",
    "</div>"
   ]
  },
  {
   "cell_type": "markdown",
   "id": "4637eb76-1c72-4153-83e0-c18f7fee72d4",
   "metadata": {},
   "source": [
    "<div class=\"ex\" title=\"Construction d'une classe Python\">\n",
    "\n",
    "Cet exercice s'adresse aux étudiants en informatique et plus généralement à tous ceux et toutes celles d'entre vous qui veulent acquérir la compétence *développement d'outils dans un langage orienté objet*, tel que Python.\n",
    "\n",
    "On a construit une classe `TableauPeriodique` afin d'amender `mendeleev`:\n",
    "\n",
    "- avec une partie *pach*  pour ajouter les noms en français, ajouter les énergies d'ionisation dans le tableau qui permet de dessiner le tableau périodique, changer les informations interactives qui se superposent au tableau quand on passe la souris dessus, changer les éléments du groupe 12 en métaux alors que `mendeleev` les classe comme des métaux de transition, etc...\n",
    "- avec l'introduction d'une nouvelle commande `prop()`\n",
    "\n",
    "<div style=\"color:#4a7d93\">\n",
    "    \n",
    "<u>**Compétences Python travaillées**:</u>\n",
    "    \n",
    "- maîtriser la syntaxe et la sémantique de Python afin d'écrire des programmes fonctionnels\n",
    "- installer une bibliothèque si elle ne fait pas partie de votre environnement Python de base\n",
    "- importer des bibliothèques existantes et exploiter les fonctions ou données incluses\n",
    "- maîtriser une boucle afin d'automatiser un traitement de données\n",
    "- créer des fonctions spécifiques utilisant les fonctions et les classes élémentaires génériques fournies par le langage\n",
    "- connaître les grands principes de la programmation orientée objet (encapsulation, héritage ...) et les notions associées (constructeur, attributs, méthodes ...) en vue de les mettre en oeuvre en Python afin d'écrire des programmes modulaires et évolutifs\n",
    "- définir ses propres classes d'objet en vue de créer des objets correspondants parfaitement aux données manipulées\n",
    "- documenter une classe et ses méthodes en vue d'améliorer sa qualité et sa ré-utilisabiilité\n",
    "\n",
    "</div>\n",
    "</div>"
   ]
  },
  {
   "cell_type": "code",
   "execution_count": 30,
   "id": "809751f8-16bf-474c-89e1-32eee89ffb1e",
   "metadata": {},
   "outputs": [],
   "source": [
    "# enlever le commentaire de la ligne ci-dessous si votre distribution Python n'intègre pas bokeh (Anaconda l'intègre par défaut)\n",
    "# à faire une fois seulement, l'installation est définitive \n",
    "# !pip install bokeh\n",
    "# !pip install jupyter_bokeh"
   ]
  },
  {
   "cell_type": "code",
   "execution_count": 31,
   "id": "bd1f07a4-c9f1-4416-b828-0e0a693c30c7",
   "metadata": {},
   "outputs": [],
   "source": [
    "# enlever le commentaire de la ligne ci-dessous si votre distribution Python n'intègre pas mendeleev, ce qui est le plus probable\n",
    "# ... et si vous ne l'avez pas déjà installé dans un exercice précédent\n",
    "# !pip install mendeleev "
   ]
  },
  {
   "cell_type": "code",
   "execution_count": 32,
   "id": "9fd2acca-312f-4e5b-a4ea-e83c18bf68eb",
   "metadata": {},
   "outputs": [],
   "source": [
    "class TableauPeriodique:\n",
    "    nomsFr=['Hydrogène','Hélium','Lithium','Béryllium','Bore','Carbone','Azote','Oxygène',\n",
    "            'Fluor','Néon','Sodium','Magnésium','Aluminium','Silicium','Phosphore','Soufre',\n",
    "            'Chlore','Argon','Potassium','Calcium','Scandium','Titane','Vanadium','Chrome',\n",
    "            'Manganèse','Fer','Cobalt','Nickel','Cuivre','Zinc','Gallium','Germanium',\n",
    "            'Arsenic','Sélénium','Brome','Krypton','Rubidium','Strontium','Yttrium',\n",
    "            'Zirconium','Niobium','Molybdène','Technétium','Ruthénium','Rhodium',\n",
    "            'Palladium','Argent','Cadmium','Indium',\n",
    "            'Étain','Antimoine','Tellure','Iode','Xénon','Césium','Baryum','Lanthane','Cérium',\n",
    "            'Praséodyme','Néodyme','Prométhium','Samarium','Europium','Gadolinium','Terbium',\n",
    "            'Dysprosium','Holmium','Erbium','Thulium','Ytterbium','Lutetium','Hafnium','Tantale',\n",
    "            'Tungstène','Rhénium','Osmium','Iridium','Platine','Or','Mercure','Thallium','Plomb',\n",
    "            'Bismuth','Polonium','Astate','Radon','Francium','Radium','Actinium','Thorium','Protactinium',\n",
    "            'Uranium','Neptunium','Plutonium','Americium','Curium','Berkelium','Californium','Einsteinium',\n",
    "            'Fermium','Mendelevium','Nobelium','Lawrencium','Rutherfordium','Dubnium','Seaborgium','Bohrium',\n",
    "            'Hassium','Meitnerium','Darmstadtium','Roentgenium','Copernicium','Nihonium','Flerovium',\n",
    "            'Moscovium','Livermorium','Tennesse','Oganesson',\n",
    "            ]\n",
    "    trad = {'Nonmetals':'Non métal',\n",
    "            'Noble gases':'Gaz noble',\n",
    "            'Alkali metals':'Métal alcalin',\n",
    "            'Alkaline earth metals':'Métal alcalino-terreux',\n",
    "            'Metalloids':'Métalloïde',\n",
    "            'Halogens':'Halogène',\n",
    "            'Poor metals':'Métal pauvre',\n",
    "            'Transition metals':'Métal de transition',\n",
    "            'Lanthanides':'Lanthanide',\n",
    "            'Actinides':'Actinide',\n",
    "            'Metals':'Métal',\n",
    "           }\n",
    "\n",
    "    def __init__(self):\n",
    "        from mendeleev.vis import create_vis_dataframe\n",
    "        self.elements = create_vis_dataframe()\n",
    "        self.patch_elements()\n",
    "\n",
    "    def patch_elements(self):\n",
    "        '''\n",
    "        Ce patch, appliqué à self.elements, créé par l'appel à create_vis_dataframe(), va servir à :\n",
    "        - ajouter des informations en français : les noms des éléments et des séries (familles) auxquelles ils appartiennent\n",
    "        - retirer les éléments du groupe 12 de la famille des métaux de transition, qui est le choix CONTESTABLE par défaut de la bibliothèque mendeleev\n",
    "        input : elements est un dataframe pandas préalablement créé par la fonction create_vis_dataframe() de mendeleev.vis\n",
    "        output : elements avec deux nouvelles colonnes name_seriesFr et nom, qui contient dorénavant les noms des éléments en français\n",
    "                        + correction des données name_series et series_id pour les éléments Zn, Cd, Hg, Cn\n",
    "                        + de nouvelles colonnes qui contiennent l'énergie de première ionisation et les isotopes naturels\n",
    "        '''\n",
    "        def series_eng2fr(s):\n",
    "            '''Correspondance entre nom des séries (familles) en anglais et en français'''\n",
    "            s = TableauPeriodique.trad[s]\n",
    "            return s\n",
    "\n",
    "        def name_eng2fr():\n",
    "            self.elements[\"nom\"] = TableauPeriodique.nomsFr\n",
    "            return\n",
    "\n",
    "        def ajouter_donnees():\n",
    "            import numpy as np\n",
    "            from mendeleev.fetch import fetch_table, fetch_ionization_energies\n",
    "            import pandas as pd\n",
    "            # dfElts = fetch_table(\"elements\")\n",
    "            # display(dfElts)\n",
    "            dfEi1 = fetch_ionization_energies(degree = 1)\n",
    "            # display(dfEi1)\n",
    "            b = pd.DataFrame({'atomic_number':[x for x in range(1, 119)]})\n",
    "            dfEi1tot = pd.merge(left=dfEi1, right=b, on='atomic_number', how='outer').sort_values(by='atomic_number')\n",
    "            self.elements[\"Ei1\"] = dfEi1tot[\"IE1\"]\n",
    "        \n",
    "        # les éléments du groupe 12 ne sont pas des métaux de transition\n",
    "        self.elements.loc[29,\"name_series\"] = 'Metals'\n",
    "        self.elements.loc[47,\"name_series\"] = 'Metals'\n",
    "        self.elements.loc[79,\"name_series\"] = 'Metals'\n",
    "        self.elements.loc[111,\"name_series\"] = 'Metals'\n",
    "        self.elements.loc[29,\"series_id\"] = 11\n",
    "        self.elements.loc[47,\"series_id\"] = 11\n",
    "        self.elements.loc[79,\"series_id\"] = 11\n",
    "        self.elements.loc[111,\"series_id\"] = 11\n",
    "        self.elements.loc[29,\"color\"] = \"#bbd3a5\"\n",
    "        self.elements.loc[47,\"color\"] =  \"#bbd3a5\"\n",
    "        self.elements.loc[79,\"color\"] =  \"#bbd3a5\"\n",
    "        self.elements.loc[111,\"color\"] =  \"#bbd3a5\"\n",
    "        # english > français. Ajout d'une nouvelle colonne \n",
    "        self.elements[\"name_seriesFr\"] = self.elements[\"name_series\"].apply(series_eng2fr)\n",
    "        # english > français. Noms des éléments en français changés dans la colonne name\n",
    "        name_eng2fr()\n",
    "        ajouter_donnees()\n",
    "        return\n",
    "\n",
    "    def prop(self,elt_id):\n",
    "        from mendeleev import element\n",
    "\n",
    "        elt = element(elt_id)\n",
    "        print(f\"Nom de l'élement = {TableauPeriodique.nomsFr[elt.atomic_number-1]} ({elt.symbol}, Z = {elt.atomic_number})\")\n",
    "        print(f\"Nom en anglais = {elt.name}\")\n",
    "        print(f\"Origine du nom = {elt.name_origin}\")\n",
    "        print()\n",
    "        print(f\"CEF = {elt.ec} = {elt.econf}\")\n",
    "        print(f\"Nombre d'électrons célibataires = {elt.ec.unpaired_electrons()}\")    \n",
    "        print(f\"Groupe {elt.group_id}, Période {elt.period}, bloc {elt.block}\")\n",
    "        print(f\"Famille = {self.elements.loc[elt.atomic_number-1,'name_seriesFr']}\")\n",
    "        print()\n",
    "        print(f\"Masse molaire = {elt.atomic_weight} g/mol\")\n",
    "        isotopes = \"\"\n",
    "        X = elt.symbol\n",
    "        for i in elt.isotopes:\n",
    "            if i.abundance is not None:\n",
    "                isotopes = isotopes + str(i.mass_number)+ \"^\" + X + f\"({i.abundance}%) / \"\n",
    "        print(\"Isotopes naturels = \",isotopes[:-2])\n",
    "        print()\n",
    "        if elt.electronegativity(scale='pauling') is None:\n",
    "            print(f\"Électronégativité de Pauling = Non définie\")\n",
    "        else:\n",
    "            print(f\"Électronégativité de Pauling = {elt.electronegativity(scale='pauling')}\")\n",
    "        print(f\"Énergie de 1ère ionisation = {elt.ionenergies[1]:.2f} eV\")\n",
    "        if elt.electron_affinity is None:\n",
    "            print(f\"Affinité électronique = Non définie\")\n",
    "        else:\n",
    "            print(f\"Afinité électronique = {elt.electron_affinity:.2f} eV\")\n",
    "        print(f\"Rayon atomique = {elt.atomic_radius:.1f} pm\")\n",
    "        print()\n",
    "        print(\"▶ Description : \",elt.description)\n",
    "        print(\"▶ Sources : \",elt.sources)\n",
    "        print(\"▶ Utilisation : \",elt.uses)\n",
    "        print(\"---------------------------------------------------------------------------------------\")\n",
    "        print()\n",
    "\n",
    "    def afficher(self):\n",
    "        from bokeh.plotting import show, output_notebook\n",
    "        from mendeleev.vis import periodic_table_bokeh\n",
    "        \n",
    "        # Toute cette partie du code est une copie du module bokeh de mendeleev.vis\n",
    "        # La fonction periodic_table_bokeh étant faiblement configurable avec des args/kwargs,\n",
    "        # elle est adaptée ici pour un affichage personnalisé\n",
    "        \n",
    "        from collections import OrderedDict\n",
    "        \n",
    "        import pandas as pd\n",
    "        from pandas.api.types import is_float_dtype\n",
    "        \n",
    "        from bokeh.plotting import figure\n",
    "        from bokeh.models import HoverTool, ColumnDataSource, FixedTicker\n",
    "        \n",
    "        from mendeleev.vis.utils import colormap_column\n",
    "        \n",
    "        \n",
    "        def periodic_table_bokeh(\n",
    "            elements: pd.DataFrame,\n",
    "            attribute: str = \"atomic_weight\",\n",
    "            cmap: str = \"RdBu_r\",\n",
    "            colorby: str = \"color\",\n",
    "            decimals: int = 3,\n",
    "            height: int = 800,\n",
    "            missing: str = \"#ffffff\",\n",
    "            title: str = \"Periodic Table\",\n",
    "            wide_layout: bool = False,\n",
    "            width: int = 1200,\n",
    "        ):\n",
    "            \"\"\"\n",
    "            Use Bokeh backend to plot the periodic table. Adaptation by Romuald Poteau (romuald.poteau@univ-tlse3.fr) of the orignal periodic_table_bokeh() function of the mendeleev library\n",
    "        \n",
    "            Args:\n",
    "                elements : Pandas DataFrame with the elements data. Needs to have `x` and `y`\n",
    "                    columns with coordianates for each tile.\n",
    "                attribute : Name of the attribute to be displayed\n",
    "                cmap : Colormap to use, see matplotlib colormaps\n",
    "                colorby : Name of the column containig the colors\n",
    "                decimals : Number of decimals to be displayed in the bottom row of each cell\n",
    "                height : Height of the figure in pixels\n",
    "                missing : Hex code of the color to be used for the missing values\n",
    "                title : Title to appear above the periodic table\n",
    "                wide_layout: wide layout variant of the periodic table\n",
    "                width : Width of the figure in pixels\n",
    "            \"\"\"\n",
    "        \n",
    "            if any(col not in elements.columns for col in [\"x\", \"y\"]):\n",
    "                raise ValueError(\n",
    "                    \"Coordinate columns named 'x' and 'y' are required \"\n",
    "                    \"in 'elements' DataFrame. Consider using \"\n",
    "                    \"'mendeleev.vis.utils.create_vis_dataframe' and try again.\"\n",
    "                )\n",
    "        \n",
    "            # additional columns for positioning of the text\n",
    "        \n",
    "            elements.loc[:, \"y_anumber\"] = elements[\"y\"] - 0.3\n",
    "            elements.loc[:, \"y_name\"] = elements[\"y\"] + 0.2\n",
    "        \n",
    "            if attribute:\n",
    "                elements.loc[elements[attribute].notnull(), \"y_prop\"] = (\n",
    "                    elements.loc[elements[attribute].notnull(), \"y\"] + 0.35\n",
    "                )\n",
    "            else:\n",
    "                elements.loc[:, \"y_prop\"] = elements[\"y\"] + 0.35\n",
    "        \n",
    "            ac = \"display_attribute\"\n",
    "            if is_float_dtype(elements[attribute]):\n",
    "                elements[ac] = elements[attribute].round(decimals=decimals)\n",
    "            else:\n",
    "                elements[ac] = elements[attribute]\n",
    "        \n",
    "            if colorby == \"attribute\":\n",
    "                colored = colormap_column(elements, attribute, cmap=cmap, missing=missing)\n",
    "                elements.loc[:, \"attribute_color\"] = colored\n",
    "                colorby = \"attribute_color\"\n",
    "        \n",
    "            # bokeh configuration\n",
    "        \n",
    "            source = ColumnDataSource(data=elements)\n",
    "        \n",
    "            TOOLS = \"hover,save,reset\"\n",
    "        \n",
    "            fig = figure(\n",
    "                title=title,\n",
    "                tools=TOOLS,\n",
    "                x_axis_location=\"above\",\n",
    "                x_range=(elements.x.min() - 0.5, elements.x.max() + 0.5),\n",
    "                y_range=(elements.y.max() + 0.5, elements.y.min() - 0.5),\n",
    "                width=width,\n",
    "                height=height,\n",
    "                toolbar_location=\"above\",\n",
    "                toolbar_sticky=False,\n",
    "            )\n",
    "        \n",
    "            fig.rect(\"x\", \"y\", 0.9, 0.9, source=source, color=colorby, fill_alpha=0.6)\n",
    "        \n",
    "            # adjust the ticks and axis bounds\n",
    "            fig.yaxis.bounds = (1, 7)\n",
    "            fig.axis[1].ticker.num_minor_ticks = 0\n",
    "            if wide_layout:\n",
    "                # Turn off tick labels\n",
    "                fig.axis[0].major_label_text_font_size = \"0pt\"\n",
    "                # Turn off tick marks\n",
    "                fig.axis[0].major_tick_line_color = None  # turn off major ticks\n",
    "                fig.axis[0].ticker.num_minor_ticks = 0  # turn off minor ticks\n",
    "            else:\n",
    "                fig.axis[0].ticker = FixedTicker(ticks=list(range(1, 19)))\n",
    "        \n",
    "            text_props = {\n",
    "                \"source\": source,\n",
    "                \"angle\": 0,\n",
    "                \"color\": \"black\",\n",
    "                \"text_align\": \"center\",\n",
    "                \"text_baseline\": \"middle\",\n",
    "            }\n",
    "        \n",
    "            fig.text(\n",
    "                x=\"x\",\n",
    "                y=\"y\",\n",
    "                text=\"symbol\",\n",
    "                text_font_style=\"bold\",\n",
    "                text_font_size=\"15pt\",\n",
    "                **text_props,\n",
    "            )\n",
    "            fig.text(\n",
    "                x=\"x\", y=\"y_anumber\", text=\"atomic_number\", text_font_size=\"9pt\", **text_props\n",
    "            )\n",
    "            fig.text(x=\"x\", y=\"y_name\", text=\"name\", text_font_size=\"6pt\", **text_props)\n",
    "            fig.text(x=\"x\", y=\"y_prop\", text=ac, text_font_size=\"7pt\", **text_props)\n",
    "        \n",
    "            fig.grid.grid_line_color = None\n",
    "        \n",
    "            hover = fig.select(dict(type=HoverTool))\n",
    "            hover.tooltips = OrderedDict(\n",
    "                [\n",
    "                    (\"nom\", \"@nom\"),\n",
    "                    (\"name\", \"@name\"),\n",
    "                    (\"famille\", \"@name_seriesFr\"),\n",
    "                    (\"numéro atomique\", \"@atomic_number\"),\n",
    "                    (\"masse molaire\", \"@atomic_weight\"),\n",
    "                    (\"rayon atomique\", \"@atomic_radius\"),\n",
    "                    (\"énergie de première ionisation\", \"@Ei1\"),\n",
    "                    (\"affinité électronique\", \"@electron_affinity\"),\n",
    "                    (\"EN Pauling\", \"@en_pauling\"),\n",
    "                    (\"CEF\", \"@electronic_configuration\"),\n",
    "                ]\n",
    "            )\n",
    "        \n",
    "            return fig\n",
    "\n",
    "        output_notebook()\n",
    "\n",
    "        fig = periodic_table_bokeh(self.elements, colorby=\"color\")\n",
    "        show(fig)"
   ]
  },
  {
   "cell_type": "markdown",
   "id": "97244c85-4051-4701-a7a2-e7cb850e6c27",
   "metadata": {},
   "source": [
    "### Affichage du tableau périodique et exploitation de \"macro commandes\"\n",
    "\n",
    "<div class=\"intro\">\n",
    "\n",
    "Une classe Python a été développée dans la section précédente, afin d'étendre, corriger et simplifier l'utilisation de la bibliothèque `mendeleev`. La simplification consiste en la création de macro-commandes qui exécutent plusieurs fonctions de `mendeleev` et qui vont chercher plusieurs données de cette bibliothèque. \n",
    "\n",
    "Pour l'utiliser, il faut :\n",
    "\n",
    "- exécuter le code précédent (`class TableauPeriodique`)\n",
    "- créer un tableau périodique à partir de la classe `TableauPeriodique` (on dit qu'on crée une instance de la classe, c'est-à-dire un objet numérique est créé à partir d'une classe). Appelons-le `tp` ou `toto` ou `MyPeriodicTable`, peu importe. La commande est `tp = TableauPeriodique()`\n",
    "- on a dorénavant accès aux fonctions de la classe qui permettent d'afficher des données\n",
    "    - un tableau périodique graphique et interactif, avec la commande `tp.afficher()`\n",
    "    - une brève carte de visite d'un élément donné, avec la commande `tp.prop(input)` où `input` est soit le numéro atomique de l'élement, soit le symbole atomique écrit entre guillemets (car c'est une chaîne de caractères!). Attention à écrire la première lettre du symbole en lettre majuscule\n",
    "</div>"
   ]
  },
  {
   "cell_type": "markdown",
   "id": "b39ea1ee-66f6-4c85-9258-a5ccc65e9c97",
   "metadata": {},
   "source": [
    "<div class=\"ex\" title=\"Tableau périodique des éléments\">\n",
    "\n",
    "**1.** Afficher, grâce à la classe `TableauPeriodique()` définie précédemment le tableau périodique interactif des élements<br>\n",
    "*indice*: la création d'une instance Tableau Périodique se fait par la commande `tp = TableauPeriodique()`\n",
    "\n",
    "**2.** À l'aide de la commande `prop()` de la classe `TableauPeriodique()`, afficher la \"carte d'identité\" de :\n",
    "\n",
    "- l'élément de numéro atomique 44\n",
    "- l'élément carbone (symbole C)\n",
    "- l'élement zinc (symbole Zn)\n",
    "</div>"
   ]
  },
  {
   "cell_type": "code",
   "execution_count": 33,
   "id": "7b7d61be-e52d-47c3-bea3-aee7a5d4c743",
   "metadata": {},
   "outputs": [],
   "source": [
    "# entrez votre code dans cette cellule \"Python\"\n",
    "\n",
    "#Q1\n",
    "\n",
    "#Q2\n"
   ]
  },
  {
   "cell_type": "markdown",
   "id": "af9a961c-4944-4530-be8a-eae62cab06a2",
   "metadata": {},
   "source": [
    "<div class=\"solFr\">\n",
    "\n",
    "Vous voulez une solution possible à cet exercice ? Décommentez la commande `# %load ./SolutionsToExercises/...` ci-dessous (*il faut exécuter deux fois le contenu de la cellule : la première fois pour charger le contenu du fichier python et la deuxième pour exécuter le code python qui a été charge*) \n",
    "\n",
    "</div>"
   ]
  },
  {
   "cell_type": "code",
   "execution_count": 34,
   "id": "7977c9ef-90be-4129-8da2-5e640c41858c",
   "metadata": {
    "tags": []
   },
   "outputs": [],
   "source": [
    "# %load ./SolutionsToExercises/CTM/tp.py"
   ]
  },
  {
   "cell_type": "markdown",
   "id": "ad49437f-713e-4a29-b562-ded074a11064",
   "metadata": {},
   "source": [
    "<div class=\"rqT\" title=\"C'est quoi ce NaN dans certaines données?\">\n",
    "\n",
    "Ça veut dire *Not A Number*. C'est utilisé lorsqu'une donnée est manquante. C'est par exemple le cas ici pour l'affinité électronique de la plupart des gaz rares, qui ne sont effectivement pas stables sous forme anionique\n",
    "</div>"
   ]
  },
  {
   "cell_type": "markdown",
   "id": "ba7a5c0c-7026-4124-bcc3-fd956363b6e2",
   "metadata": {},
   "source": [
    "<div class=\"rq\">\n",
    "\n",
    "Pourquoi utiliser cette bibliothèque `mendeleev` alors qu'il existe tant de ressources sur internet, y compris des IA comme ChatGPT ?\n",
    "\n",
    "Parce que c'est une base de données thématique, dont les informations sont sourcées - ce qui n'empêche pas des erreurs, mais permet une indispensable traçabilité. \n",
    "</div>"
   ]
  },
  {
   "cell_type": "markdown",
   "id": "15d0dfa2-31da-4cb8-8892-cfc801ab3aff",
   "metadata": {},
   "source": [
    "### Évolution des propriétés des éléments, périodicité\n",
    "\n",
    "<div class=\"intro\">\n",
    "\n",
    "L'un des attributs d'un objet de la classe `TableauPeriodique` est un tableau qui contient de nombreuses propriétés de chacun des éléments du tableau périodique. Ce tableau est en réalité un \"dataframe\" de la bibliothèque `pandas`. La commande `display` permet d'en voir un extrait (les tables de données trop grandes sont par défaut affichées de façon tronquée). La fonction `info()` associée au tableau permet de lister les noms de toutes les colonnes de la table et combien il y a de données par colonne. Par exemple, on verra que la propriété #2, c'est-à-dire le rayon atomique (`atomic_radius`), n'est définie que pour 90 éléments. Les données numériques manquantes sont remplacées par `NaN`, c'est-à-dire le raccourci de Not A Number.\n",
    "\n",
    "Voici les commandes à exécuter :\n",
    "\n",
    "```python\n",
    "# création d'une instance Tableau Périodique\n",
    "tp = TableauPeriodique()\n",
    "\n",
    "# affichage du tableau \"elements\" qui est une des données associées au tableau périodique \"tp\"\n",
    "display(tp.elements)\n",
    "\n",
    "# affichage de la liste des propriétés contenues dans le tableau, et du nombre de données par propriété\n",
    "print(tp.elements.info())\n",
    "```\n",
    "\n",
    "</div>\n",
    "<br>\n",
    "<div class=\"ex\" title=\"Affichage, sous forme de table, des données utilisées pour tracer le Tableau Périodique\">\n",
    "\n",
    "Copier/coller le code ci-dessus, et examiner le résultat et la structure de la table\n",
    "</div>"
   ]
  },
  {
   "cell_type": "code",
   "execution_count": 35,
   "id": "931f5c00-3de4-4314-a86d-3f0f90a86731",
   "metadata": {},
   "outputs": [],
   "source": [
    "# entrez votre code dans cette cellule \"Python\"\n",
    "\n"
   ]
  },
  {
   "cell_type": "markdown",
   "id": "ac5867f6-c707-4352-abbe-a808d47360d4",
   "metadata": {},
   "source": [
    "<div class=\"solFr\">\n",
    "\n",
    "Vous voulez une solution possible à cet exercice ? Décommentez la commande `# %load ./SolutionsToExercises/...` ci-dessous (*il faut exécuter deux fois le contenu de la cellule : la première fois pour charger le contenu du fichier python et la deuxième pour exécuter le code python qui a été charge*) \n",
    "\n",
    "</div>"
   ]
  },
  {
   "cell_type": "code",
   "execution_count": 36,
   "id": "a8c44d4e-0941-4469-bf43-804ef8d086fa",
   "metadata": {
    "tags": []
   },
   "outputs": [],
   "source": [
    "# %load ./SolutionsToExercises/CTM/tp_tab.py"
   ]
  },
  {
   "cell_type": "markdown",
   "id": "0a399536-fbba-40ff-b616-832d0533348d",
   "metadata": {},
   "source": [
    "<div class=\"intro\">\n",
    "\n",
    "Pour récupérer le contenu d'une colonne il suffit d'indiquer l'en-tête de la colonne, entre crochets et entre guillemets.\n",
    "Par exemple, `Z = tp.elements[\"atomic_number\"]` permet de récupérer le contenu numérique de la colonne du tableau `tp.elements` repérée par l'en-tête `atomic_number`.\n",
    "</div>\n",
    "<br>\n",
    "\n",
    "<div class=\"ex\" title=\"Sauvegarde dans une variable du contenu d'une colonne du tableau elements\">\n",
    "\n",
    "Sauver le contenu de la colonne `symbol` de `elements` dans une variable `Z`. Puis afficher `Z`.\n",
    "</div>"
   ]
  },
  {
   "cell_type": "code",
   "execution_count": 37,
   "id": "5402a82f-a8fc-4676-a00b-35abf0afd630",
   "metadata": {},
   "outputs": [],
   "source": [
    "# entrez votre code dans cette cellule \"Python\"\n",
    "\n"
   ]
  },
  {
   "cell_type": "markdown",
   "id": "c21479b4-ecc2-40a1-a898-2ab441056d2d",
   "metadata": {},
   "source": [
    "<div class=\"solFr\">\n",
    "\n",
    "Vous voulez une solution possible à cet exercice ? Décommentez la commande `# %load ./SolutionsToExercises/...` ci-dessous (*il faut exécuter deux fois le contenu de la cellule : la première fois pour charger le contenu du fichier python et la deuxième pour exécuter le code python qui a été charge*) \n",
    "\n",
    "</div>"
   ]
  },
  {
   "cell_type": "code",
   "execution_count": 38,
   "id": "7edadbf4-5ae7-4548-b333-a2793206017b",
   "metadata": {
    "tags": []
   },
   "outputs": [],
   "source": [
    "# %load ./SolutionsToExercises/CTM/tp_varcol.py"
   ]
  },
  {
   "cell_type": "markdown",
   "id": "4d4cd5ec-49e5-43dd-86fb-8b1c123f9c2e",
   "metadata": {},
   "source": [
    "<div class=\"rq\">\n",
    "\n",
    "- Le contenu de la première colonne est l'index de la ligne. Et en Python la numérotation commence par 0 et non par 1.\n",
    "- `print()` n'affiche par défaut que les 5 premières et 5 dernières valeurs des longues listes. \n",
    "</div>"
   ]
  },
  {
   "cell_type": "markdown",
   "id": "b2fdca27-d6ac-4d2e-bfb4-1b2c3d099b74",
   "metadata": {},
   "source": [
    "<div class=\"intro\">\n",
    "\n",
    "On peut maintenant exploiter cette riche source de données pour tracer l'évolution de certaines propriétés des éléments du tableau périodique en fonction du numéro atomique `Z`. La bibliothèque graphique principale de Python est la bibliothèque `matplotlib`. Un tracé simple d'une fonction $y=f(x)$ s'obtient par la commance `plot(x,y)`.\n",
    "</div>\n",
    "<br>\n",
    "\n",
    "<div class=\"ex\" title=\"Analyse du code (simple) permettant de tracer l'énergie de première ionisation, Ei1, en fonction de Z\">\n",
    "\n",
    "Analyser et exécuter le code commenté ci-dessous\n",
    "</div>"
   ]
  },
  {
   "cell_type": "code",
   "execution_count": 39,
   "id": "dbc70e87-e727-4312-a77d-85018029745e",
   "metadata": {},
   "outputs": [
    {
     "name": "stderr",
     "output_type": "stream",
     "text": [
      "/home/romuald/Python3/base/lib/python3.11/site-packages/mendeleev/vis/utils.py:43: FutureWarning: DataFrameGroupBy.apply operated on the grouping columns. This behavior is deprecated, and in a future version of pandas the grouping columns will be excluded from the operation. Either pass `include_groups=False` to exclude the groupings or explicitly select the grouping columns after groupby to silence this warning.\n",
      "  .apply(lambda x: x[\"atomic_number\"] - x[\"atomic_number\"].min())\n"
     ]
    },
    {
     "data": {
      "image/png": "[encoded data removed]",
      "text/plain": [
       "<Figure size 1181.1x472.441 with 1 Axes>"
      ]
     },
     "metadata": {},
     "output_type": "display_data"
    }
   ],
   "source": [
    "# importation du module pyplot de matplotlib\n",
    "from matplotlib import pyplot as plt\n",
    "tp = TableauPeriodique()\n",
    "\n",
    "# sauvegarde du numéro atomique, de l'énergie de première ionisation, et de la couleur des cases du tableau périosique,\n",
    "# qui a été tracé par familles\n",
    "Z = tp.elements[\"atomic_number\"]\n",
    "Ei1 = tp.elements[\"Ei1\"]\n",
    "color = tp.elements[\"color\"]\n",
    "\n",
    "# l'unité par défaut pour dimensionner les figures est le pouce (inches)\n",
    "cm2i = 1/2.54 # conversion de cm en pouces\n",
    "# création d'un objet \"figure\", et définition de la taille du tracé (30cm x 12cm)\n",
    "fig, ax = plt.subplots(figsize=(30*cm2i,12*cm2i))\n",
    "\n",
    "# numéros atomiques des gaz nobles, les éléments qui clôturent chaque période\n",
    "xticks=[2,10,18,36,54,86,118]\n",
    "# les graduations de l'axe des abscisses vont être tracées pour les numéros atomiques des gaz nobles\n",
    "ax.set_xticks(xticks)\n",
    "# ajout d'une grille verticale pour bien repérer où se finit chaque période\n",
    "plt.grid(color='r', linestyle='--', linewidth=0.5, axis=\"x\")\n",
    "\n",
    "# tracé de Ei1 en fonction de Z\n",
    "plt.plot(Z,Ei1,linewidth=0.5)\n",
    "# on superpose les points sous forme de symbole \"o\" (scatter plot), ce qui permet une fantaisie :\n",
    "# les symboles ont la couleur de la famille à laquelle appartient l'élémént\n",
    "plt.scatter(Z,Ei1,marker=\"o\",c=color)\n",
    "\n",
    "# comme tout graphe, il faut ajouter la légende de chaque axe, avec l'unité de la variable, si c'est pertinent\n",
    "plt.xlabel(\"Numéro atomique (Z)\")\n",
    "plt.ylabel(\"Ei1 / eV\")\n",
    "\n",
    "# on a fini de définir les options, on peut tracer le graphe\n",
    "plt.show()"
   ]
  },
  {
   "cell_type": "markdown",
   "id": "ebca191e-8a31-49d2-8a67-e6633ec3607c",
   "metadata": {},
   "source": [
    "<div class=\"rq\">\n",
    "\n",
    "Le code semble long, mais si on enlève tous les commentaires, il se résume par \n",
    "\n",
    "```python\n",
    "from matplotlib import pyplot as plt\n",
    "tp = TableauPeriodique()\n",
    "Z = tp.elements[\"atomic_number\"]\n",
    "Ei1 = tp.elements[\"Ei1\"]\n",
    "color = tp.elements[\"color\"]\n",
    "\n",
    "cm2i = 1/2.54\n",
    "fig, ax = plt.subplots(figsize=(30*cm2i,12*cm2i))\n",
    "xticks=[2,10,18,36,54,86,118]\n",
    "ax.set_xticks(xticks)\n",
    "plt.grid(color='r', linestyle='--', linewidth=0.5, axis=\"x\")\n",
    "plt.plot(Z,Ei1,linewidth=0.5)\n",
    "plt.scatter(Z,Ei1,marker=\"o\",c=color)\n",
    "plt.xlabel(\"Numéro atomique (Z)\")\n",
    "plt.ylabel(\"Ei1 / eV\")\n",
    "plt.show()\n",
    "```\n",
    "</div>"
   ]
  },
  {
   "cell_type": "markdown",
   "id": "1c1b9b82-cbdc-4313-a452-5e1d35f1db23",
   "metadata": {},
   "source": [
    "<div class=\"ex\" title=\"Tracé de l'électronégativité de Pauling en fonction de Z\">\n",
    "\n",
    "**1.** Adapter le code précédent pour tracer l'électronégativité de Pauling (&chi;<sub>P</sub>) en fonction de *Z*. Comparer avec vos cours et TD sur ce sujet. Les tendances attendues sont-elles observées ?\n",
    "\n",
    "**2.** Il y a des trous dans le tracé. Quelle en est l'origine ?\n",
    "</div>"
   ]
  },
  {
   "cell_type": "code",
   "execution_count": 40,
   "id": "0ade4cf9-0fc6-4131-bf55-83bf34fd2724",
   "metadata": {},
   "outputs": [],
   "source": [
    "# entrez votre code dans cette cellule \"Python\"\n",
    "\n",
    "#Q1\n",
    "\n"
   ]
  },
  {
   "cell_type": "markdown",
   "id": "d80f9573-9c6b-48aa-a302-eeccfb4d04af",
   "metadata": {},
   "source": [
    "<div class=\"solFr\">\n",
    "\n",
    "Vous voulez une solution possible à cet exercice ? Décommentez la commande `# %load ./SolutionsToExercises/...` ci-dessous (*il faut exécuter deux fois le contenu de la cellule : la première fois pour charger le contenu du fichier python et la deuxième pour exécuter le code python qui a été charge*) \n",
    "\n",
    "</div>"
   ]
  },
  {
   "cell_type": "code",
   "execution_count": 41,
   "id": "57a906d6-b7ff-4fd8-8c16-f577d093aa4f",
   "metadata": {
    "tags": []
   },
   "outputs": [],
   "source": [
    "# %load ./SolutionsToExercises/CTM/elt_EN_P.py"
   ]
  },
  {
   "cell_type": "markdown",
   "id": "99c0d18f-dba5-4242-9e83-42d32aa50059",
   "metadata": {},
   "source": [
    "<div class=\"rqT\" title=\"Commentaires & réponse à la question 2\">\n",
    "\n",
    "- l'électronégativité a tendance à augmenter de la gauche vers la droite dans une période\n",
    "\n",
    "- l'électronégativité diminue dans un groupe\n",
    "\n",
    "- l'élément le plus électrongétif est le fluor\n",
    "\n",
    "- le carbone et l'hydrogène ont des électronégativités similaires, alors que l'oxygène est beaucoup plus électronégatif que H\n",
    "\n",
    "- on observe une absence de valeurs pour la plupart des gaz nobles. Ce n'est pas parce que des données ont été oubliées dans la table exportée par la bibliothèque `mendeleev`. Ces gaz ne formant presque jamais de liaisons covalentes, il n'est pas possible de mesurer une valeur d'électronégativité pour eux dans le cadre de l'échelle de Pauling, qui repose sur des mesures d'énergies de liaison covalente entre différents atomes. Il n'existe donc pas de valeur.\n",
    "</div>"
   ]
  },
  {
   "cell_type": "markdown",
   "id": "2fcd5c64-a82c-49f6-96fa-39ac2da52f80",
   "metadata": {},
   "source": [
    "<div class=\"ex\" title=\"Tracé du rayon covalent en fonction de Z\">\n",
    "\n",
    "**1.** Adapter le code précédent pour tracer le rayon covalent déterminé par Pyykko (`covalent_radius_pyykko`) en fonction de *Z*.\n",
    "\n",
    "**2.** Comparer avec vos cours et TD sur ce sujet. Les tendances attendues sont-elles observées ?\n",
    "\n",
    "</div>"
   ]
  },
  {
   "cell_type": "code",
   "execution_count": 42,
   "id": "0364f541-20ea-4c22-8d52-03164cc403c3",
   "metadata": {},
   "outputs": [],
   "source": [
    "# entrez votre code dans cette cellule \"Python\"\n",
    "\n",
    "#Q1\n",
    "\n"
   ]
  },
  {
   "cell_type": "markdown",
   "id": "fe12cc81-22df-41f5-b291-329107530359",
   "metadata": {},
   "source": [
    "<div class=\"solFr\">\n",
    "\n",
    "Vous voulez une solution possible à cet exercice ? Décommentez la commande `# %load ./SolutionsToExercises/...` ci-dessous (*il faut exécuter deux fois le contenu de la cellule : la première fois pour charger le contenu du fichier python et la deuxième pour exécuter le code python qui a été charge*) \n",
    "\n",
    "</div>"
   ]
  },
  {
   "cell_type": "code",
   "execution_count": 43,
   "id": "e61145d7-f215-4630-b336-b67ab1f24f99",
   "metadata": {
    "tags": []
   },
   "outputs": [],
   "source": [
    "# %load ./SolutionsToExercises/CTM/elt_Rcov.py"
   ]
  },
  {
   "cell_type": "markdown",
   "id": "4a6d9f74-1ce4-4ac5-b213-cfd15f73d46b",
   "metadata": {},
   "source": [
    "<div class=\"rqT\" title=\"Réponse à la question 2\">\n",
    "\n",
    "- le rayon atomique a tendance à diminuer de la gauche vers la droite dans une période, en relation avec l'effet attractif croissant du noyau\n",
    "\n",
    "- le rayon atomique augmente en descendant dans un groupe, en relation avec l'augmentation du nombre de couches électroniques occupées\n",
    "</div>"
   ]
  },
  {
   "cell_type": "markdown",
   "id": "e1416868-bf28-472c-b3c6-aa7ccab43812",
   "metadata": {},
   "source": [
    "## Chapitre 6 : représentation 2D des molécules, et analyse automatisée de certaines propriétés\n",
    "\n",
    "### Introduction\n",
    "\n",
    "<div class=\"intro\">\n",
    "\n",
    "On va utiliser `RDKit`, bibliothèque open-source très utilie dans le domaine de la **chemo-informatique**. C'est un domaine de recherche interdisciplinaire qui **combine la chimie avec l'informatique et les technologies de l'information**. Son objectif est de modéliser, analyser et comprendre des structures chimiques et des processus moléculaires à l'aide d'outils numériques. \n",
    "\n",
    "`RDKit` est conçu pour gérer des tâches informatiques moléculaires telles que la similarité moléculaire, la recherche de sous-structures, la prédiction de propriétés moléculaires, le calcul de descripteurs moléculaires, et la visualisation 2D des molécules.  \n",
    "\n",
    "La boîte à outils propose un ensemble complet de fonctionnalités, y compris l'empreinte moléculaire, la gestion des réactions chimiques,  et le criblage virtuel basé sur la structure. `RDKit` est largement utilisé dans la découverte de médicaments, la recherche environnementale et d'autres domaines où l'analyse des données chimiques est essentielle. `RDKit` a révolutionné la chemo-informatique et est devenu un outil indispensable dans l'intelligence artificielle et la science des données appliqués à la chimie. Sa large gamme de fonctionnalités offre aux chercheurs et scientifiques des outils puissants. La maîtrise de `RDKit` est en particulier très recherchée dans certains services de R&D&I de l'industrie pharmaceutique. \n",
    "\n",
    "</div>\n",
    "<br>\n",
    "<div class=\"intro\">\n",
    "\n",
    "`RDKit` va ici être utilisé de façon très modeste, principalement pour afficher les **représentations topologiques** de molécules. Comme il intègre de nombreux algorithmes qui \"connaissent la chimie\", en particulier la liaison chimique, on va principalement l'utiliser pour afficher **l'hybridation des atomes**, souligner la présence de **systèmes aromatiques**, analyser de la **conjugaison**. \n",
    "</div>\n",
    "<br>\n",
    "<div class=\"rqT\" title = \"Attention !!!\">\n",
    "\n",
    "Les analyses et propriétés délivrées par `RDKit` sont basées sur des algorithmes, qui ne sont pas infaillibles. <span style=\"color:red\">**Soyez toujours critiques et utilisez votre intelligence, supérieure à celle des algorithmes</span>**. \n",
    "</div>\n",
    "<br>\n",
    "<div class=\"introT\" title=\"Comment démarrer ?\">\n",
    "\n",
    "`RDKit` exploite les [SMILES](https://fr.wikipedia.org/wiki/Simplified_Molecular_Input_Line_Entry_System) comme un format standard pour représenter, analyser et manipuler des structures chimiques de manière efficace. Les SMILES sont une représentation textuelle simplifiée des molécules, en liaison directe avedc leur représentation topologique, et permettant de décrire la structure d'une molécule sous forme de chaîne de caractères. Voici quelques exemples de SMILES :\n",
    "\n",
    "- l'éthanol C<sub>2</sub>H<sub>2</sub>OH : `CCO`\n",
    "- l'acide acétique H<sub>3</sub>C-COOH : `CC(=O)O`\n",
    "- le diazote N<sub>2</sub> : `N#N`\n",
    "- le sulfate de cuivre Cu<sup>2+</sup>, SO<sub>4</sub><sup>2-</sup> : `[Cu+2].[O-]S(=O)(=O)[O-]` (où le . désigne une liaison ionique entre les Cu<sup>2+</sup> et SO<sub>4</sub><sup>2-</sup>)\n",
    "</div>\n",
    "\n",
    "<br>\n",
    "<div class=\"introT\" title=\"SMILES ???\">\n",
    "    \n",
    "**FAQ : *je ne suis pas spécialiste du langage SMILES. Est-ce que je peux trouver quelque part les SMILES des molécules les plus courantes?***\n",
    "\n",
    "Sans problème. \n",
    "- on les trouve dans les articles de Wikipedia consacrés à un composé moléculaire donné, comme dans le cas de l'[acide acétique](https://fr.wikipedia.org/wiki/Acide_ac%C3%A9tique)\n",
    "- on peut également consulter les bases de données (BDD) chimiques en ligne, comme [PubChem](https://pubchem.ncbi.nlm.nih.gov/) (*bien que cette BDD soit en anglais, vous pouvez tenter d'entrer un nom en français. Le SMILES s'affiche pour chaque molécule renvoyée par la recherche, juste en-dessous de son nom IUPAC, c'est-à-dire son nom en nomenclature officielle*)\n",
    "</div>\n",
    "<br>\n",
    "<div class=\"introT\" title=\"Comment utiliser rdkit de façon basique?\">\n",
    "</div>"
   ]
  },
  {
   "cell_type": "code",
   "execution_count": 44,
   "id": "1adf0c1f-a57c-476d-85ca-735fbac79bea",
   "metadata": {},
   "outputs": [
    {
     "data": {
      "image/jpeg": "[encoded data removed]",
      "image/png": "[encoded data removed]",
      "text/plain": [
       "<PIL.PngImagePlugin.PngImageFile image mode=RGB size=200x200>"
      ]
     },
     "metadata": {},
     "output_type": "display_data"
    }
   ],
   "source": [
    "from rdkit import Chem\n",
    "from rdkit.Chem import Draw\n",
    "from IPython.display import display\n",
    "\n",
    "mol = Chem.MolFromSmiles(\"CCO\")  # éthanol\n",
    "img = Draw.MolToImage(mol, size=(200,200))\n",
    "display(img)"
   ]
  },
  {
   "cell_type": "markdown",
   "id": "d4db3b2f-91dc-420b-93b8-7695dbe557e5",
   "metadata": {},
   "source": [
    "<div class=\"ex\" title=\"Représentation du rétinal\">\n",
    "\n",
    "Le rétinal joue un rôle clé dans la vision en permettant la conversion de l’énergie lumineuse en signal nerveux.\n",
    "\n",
    "1. Rechercher sur [PubChem](https://pubchem.ncbi.nlm.nih.gov/) le codage SMILES de la molécule de rétinal (*retinal*)\n",
    "2. Afficher la molécule à l'aide de rdkit, en tant qu'image de dimension 700x300\n",
    "</div>"
   ]
  },
  {
   "cell_type": "code",
   "execution_count": 45,
   "id": "20ec9dc9-634f-49a0-92b0-00515aa33185",
   "metadata": {},
   "outputs": [],
   "source": [
    "# entrez votre code dans cette cellule \"Python\"\n",
    "\n"
   ]
  },
  {
   "cell_type": "markdown",
   "id": "0484b235-27a6-4a46-9f6f-f2ba72512249",
   "metadata": {},
   "source": [
    "<div class=\"solFr\">\n",
    "\n",
    "Vous voulez une solution possible à cet exercice ? Décommentez la commande `# %load ./SolutionsToExercises/...` ci-dessous (*il faut exécuter deux fois le contenu de la cellule : la première fois pour charger le contenu du fichier python et la deuxième pour exécuter le code python qui a été charge*) \n",
    "\n",
    "</div>"
   ]
  },
  {
   "cell_type": "code",
   "execution_count": 46,
   "id": "46dc3aaf-b50b-47d8-b43c-35d940695ce5",
   "metadata": {
    "tags": []
   },
   "outputs": [],
   "source": [
    "# %load ./SolutionsToExercises/CTM/retinal.py"
   ]
  },
  {
   "cell_type": "markdown",
   "id": "fdc58f48-3344-4f20-a758-0b44df9f0acb",
   "metadata": {},
   "source": [
    "### Outil Python pour visualiser les structures topologiques de molécules, basé sur `RDKit`\n",
    "\n",
    "#### Code python\n",
    "\n",
    "<div class=\"intro\">\n",
    "\n",
    "L'exercice ci-dessous consiste à analyser un code Python qui a été développé à la fois pour simplifier l'utilisation de `rdkit` et pour adapter certains de ses résultats au programme de L1 chimie. \n",
    "\n",
    "</div>"
   ]
  },
  {
   "cell_type": "markdown",
   "id": "2e54064b-b2cc-4785-88c0-89ae21eac202",
   "metadata": {},
   "source": [
    "<div class=\"ex\" title=\"Construction d'une classe Python\">\n",
    "\n",
    "Cet exercice s'adresse aux étudiants en informatique et plus généralement à tous ceux et toutes celles d'entre vous qui veulent acquérir la compétence *développement d'outils dans un langage orienté objet*, tel que Python.\n",
    "\n",
    "On a construit une classe `easy_rdkit` afin principalement de simplifier l'affichage de molécules et de leurs propriétés avec `rdkit`.\n",
    "\n",
    "Utilisation :\n",
    "1. instantier une molécule par son SMILES, entré comme une chaîne de caractères, c'est-à-dire entre guillemets. Dans le cas de l'histidine, ça donne : `histidine = easy_rdkit(\"O=C([C@H](CC1=CNC=N1)N)O\")`\n",
    "2. afficher la molécule, éventuellement avec des options : `histidine.show_mol(show_hybrid=True,plot_conjugation=True)`\n",
    "\n",
    "<div style=\"color:#4a7d93\">\n",
    "    \n",
    "<u>**Compétences Python travaillées**:</u>\n",
    "    \n",
    "- maîtriser la syntaxe et la sémantique de Python afin d'écrire des programmes fonctionnels\n",
    "- installer une bibliothèque si elle ne fait pas partie de votre environnement Python de base\n",
    "- importer des bibliothèques existantes et exploiter les fonctions ou données incluses\n",
    "- maîtriser une boucle afin d'automatiser un traitement de données\n",
    "- créer des fonctions spécifiques utilisant les fonctions et les classes élémentaires génériques fournies par le langage\n",
    "- connaître les grands principes de la programmation orientée objet (encapsulation, héritage ...) et les notions associées (constructeur, attributs, méthodes ...) en vue de les mettre en oeuvre en Python afin d'écrire des programmes modulaires et évolutifs\n",
    "- définir ses propres classes d'objet en vue de créer des objets correspondants parfaitement aux données manipulées\n",
    "- documenter une classe et ses méthodes en vue d'améliorer sa qualité et sa ré-utilisabiilité\n",
    "\n",
    "</div>\n",
    "</div>"
   ]
  },
  {
   "cell_type": "code",
   "execution_count": 47,
   "id": "554591b2-5b18-4336-8f00-f10156d888c5",
   "metadata": {},
   "outputs": [],
   "source": [
    "# enlever le commentaire de la ligne ci-dessous si votre distribution Python n'intègre pas rdkit, ce qui est le plus probable\n",
    "# à faire une fois seulement, l'installation est définitive \n",
    "# !pip install rdkit "
   ]
  },
  {
   "cell_type": "code",
   "execution_count": 48,
   "id": "1bd45c2c-7c6c-4457-bfcf-92e44f2b44d7",
   "metadata": {},
   "outputs": [],
   "source": [
    "import rdkit\n",
    "from rdkit import Chem\n",
    "from rdkit.Chem.rdchem import GetPeriodicTable\n",
    "import pandas as pd\n",
    "\n",
    "class easy_rdkit():\n",
    "\n",
    "    def __init__(self,smiles):\n",
    "        self.mol=Chem.MolFromSmiles(smiles)\n",
    "        self.smiles = smiles\n",
    "        \n",
    "    def analyze_lewis(self):\n",
    "        if self.mol is None:\n",
    "            raise ValueError(f\"Molécule invalide pour {self.smiles} (SMILES incorrect ?)\")\n",
    "        \n",
    "        pt = GetPeriodicTable()\n",
    "        rows = []\n",
    "    \n",
    "        for atom in self.mol.GetAtoms():\n",
    "            Z = atom.GetAtomicNum()\n",
    "            valence_e = pt.GetNOuterElecs(Z)\n",
    "            bonding_e = atom.GetTotalValence()\n",
    "            formal_charge = atom.GetFormalCharge()\n",
    "            num_bonds = int(sum(bond.GetBondTypeAsDouble() for bond in atom.GetBonds()))\n",
    "            # hybridization = atom.GetHybridization()\n",
    "            nonbonding = valence_e - bonding_e - formal_charge\n",
    "    \n",
    "            lone_pairs = max(0, nonbonding // 2)\n",
    "    \n",
    "            if Z==1 or Z==2:  # règle du duet\n",
    "                target = 2\n",
    "            else:       # règle de l’octet\n",
    "                target = 8\n",
    "    \n",
    "            missing_e = max(0, target/2 - (bonding_e + 2*lone_pairs))\n",
    "            vacancies = int(missing_e)\n",
    "            total_e = 2*(lone_pairs + bonding_e)\n",
    "    \n",
    "            if total_e > 8:\n",
    "                octet_msg = \"❌ hypercoordiné\"\n",
    "            elif total_e < 8:\n",
    "                octet_msg = \"❌ électron-déficient\"\n",
    "            elif total_e == 8:\n",
    "                octet_msg = \"✅ octet\"    \n",
    "            elif total_e == 2 and (Z == 1 or Z == 2):\n",
    "                octet_msg = \"✅ duet\"\n",
    "            else:\n",
    "                octet_msg = \"🤔\"\n",
    "            rows.append({\n",
    "                \"index atome\": atom.GetIdx(),\n",
    "                \"symbole\": atom.GetSymbol(),\n",
    "                \"e- valence\": valence_e,\n",
    "                \"e- liants\": bonding_e,\n",
    "                \"charge formelle\": formal_charge,\n",
    "                \"doublets non-liants (DNL)\": lone_pairs,\n",
    "                \"lacunes ([])\": vacancies,\n",
    "                \"nombre de liaisons\": num_bonds,\n",
    "                \"e- total (octet ?)\": total_e,\n",
    "                \"O/H/D ?\": octet_msg\n",
    "            })\n",
    "        return pd.DataFrame(rows)    \n",
    "            \n",
    "    def show_mol(self,\n",
    "                 size: tuple=(400,400),\n",
    "                 show_Lewis: bool=False,\n",
    "                 plot_conjugation: bool=False,\n",
    "                 plot_aromatic: bool=False,\n",
    "                 show_n: bool=False,\n",
    "                 show_hybrid: bool=False,\n",
    "                 show_H: bool=False,\n",
    "                 rep3D: bool=False,\n",
    "                 highlightAtoms: list=[],\n",
    "                 legend: str=''\n",
    "                ):\n",
    "        '''\n",
    "        Exploite les outils d'affichage 2D de RDKit, et permet de superposer certaines propriétés\n",
    "        Ne peut afficher qu'une molécule à la fois\n",
    "        - size : dimension de la figure en pixels (défaut : 400x400)\n",
    "        - show_Lewis : analyse la structure de Lewis et ajout de labels sur chaque atome (défaut : False)\n",
    "        - plot_conjugation : surligne les liaisons conjuguées (défaut : False)\n",
    "        - plot_aromatic : surligne les atomes et liaisons des fragments moléculaires aromatiques (défaut : False)\n",
    "        - show_n : ajoute le numéro de chaque atome (défaut : False)\n",
    "        - show_hybrid : ajoute l'état d'hybridation des atomes non terminaux (défaut : False)\n",
    "        - show_H : ajoute les hydrogènes, considérés comme implicites par défaut (défaut : False)\n",
    "        - rep3D : pseudo dessin 3D qui prend en compte les conflits stériques entre atomes (défaut : False). Active show_H à True \n",
    "        - highlightAtoms : liste des numéros des atomes qu'on souhaite surligner\n",
    "        - legend : ajoute le contenu de la variable comme légende du dessin\n",
    "        '''\n",
    "        from rdkit.Chem.Draw import rdMolDraw2D\n",
    "        from rdkit import Chem\n",
    "        from rdkit.Chem import GetPeriodicTable, Draw\n",
    "        from rdkit.Chem import AllChem\n",
    "        import pandas as pd\n",
    "        from IPython.display import SVG\n",
    "        from PIL import Image\n",
    "\n",
    "        def safe_add_hs():\n",
    "            try:\n",
    "                return Chem.AddHs(self.mol)\n",
    "            except Exception as e:\n",
    "                print(f\"[Warning] Impossible d'ajouter les H pour {self.smiles} ({e}), on garde la version brute.\")\n",
    "                return mol      \n",
    "        \n",
    "        if show_H and not show_Lewis:\n",
    "            mol = Chem.AddHs(self.mol)\n",
    "        else:\n",
    "            mol = self.mol\n",
    "        if show_Lewis:\n",
    "            mol = safe_add_hs()\n",
    "            self.mol = mol\n",
    "            df = self.analyze_lewis()\n",
    "            lewis_info = {row[\"index atome\"]: (row[\"doublets non-liants (DNL)\"], row[\"lacunes ([])\"])\n",
    "                          for _, row in df.iterrows()}\n",
    "        else:\n",
    "            df = None\n",
    "            \n",
    "        if rep3D:\n",
    "            mol = Chem.AddHs(self.mol)\n",
    "            self.mol = mol\n",
    "            AllChem.EmbedMolecule(mol)\n",
    "                \n",
    "        d2d = rdMolDraw2D.MolDraw2DSVG(size[0],size[1])\n",
    "        \n",
    "        atoms = list(mol.GetAtoms())\n",
    "    \n",
    "        if plot_conjugation:\n",
    "            from collections import defaultdict\n",
    "            Chem.SetConjugation(mol)\n",
    "            colors = [(0.0, 0.0, 1.0, 0.4)]\n",
    "            athighlights = defaultdict(list)\n",
    "            arads = {}\n",
    "            bndhighlights = defaultdict(list)\n",
    "            for bond in mol.GetBonds():\n",
    "                aid1 = bond.GetBeginAtomIdx()\n",
    "                aid2 = bond.GetEndAtomIdx()\n",
    "            \n",
    "                if bond.GetIsConjugated():\n",
    "                    bid = mol.GetBondBetweenAtoms(aid1,aid2).GetIdx()\n",
    "                    bndhighlights[bid].append(colors[0])\n",
    "            \n",
    "        if plot_aromatic:\n",
    "            from collections import defaultdict\n",
    "            colors = [(1.0, 0.0, 0.0, 0.4)]\n",
    "            athighlights = defaultdict(list)\n",
    "            arads = {}\n",
    "            for a in atoms:\n",
    "                if a.GetIsAromatic():\n",
    "                    aid = a.GetIdx()\n",
    "                    athighlights[aid].append(colors[0])\n",
    "                    arads[aid] = 0.3\n",
    "                    \n",
    "            bndhighlights = defaultdict(list)\n",
    "            for bond in mol.GetBonds():\n",
    "                aid1 = bond.GetBeginAtomIdx()\n",
    "                aid2 = bond.GetEndAtomIdx()\n",
    "            \n",
    "                if bond.GetIsAromatic():\n",
    "                    bid = mol.GetBondBetweenAtoms(aid1,aid2).GetIdx()\n",
    "                    bndhighlights[bid].append(colors[0])\n",
    "            \n",
    "        if show_hybrid or show_Lewis:\n",
    "            for i,atom in enumerate(atoms):\n",
    "                # print(i,atom.GetDegree(),atom.GetImplicitValence())\n",
    "                note_parts = []\n",
    "                if show_hybrid and(atom.GetValence(rdkit.Chem.rdchem.ValenceType.IMPLICIT) > 0 or atom.GetDegree() > 1):\n",
    "                    note_parts.append(str(atom.GetHybridization()))\n",
    "                if show_Lewis and i in lewis_info:\n",
    "                    lp, vac = lewis_info[i]\n",
    "                    if lp > 0:\n",
    "                        note_parts.append(f\" {lp}DNL\")\n",
    "                    if vac > 0:\n",
    "                        note_parts.append(f\" {vac}[]\")\n",
    "                if note_parts:\n",
    "                    mol.GetAtomWithIdx(i).SetProp('atomNote',\"\".join(note_parts))\n",
    "                # print(f\"Atom {i+1:3}: {atom.GetAtomicNum():3} {atom.GetSymbol():>2} {atom.GetHybridization()}\")\n",
    "            if show_Lewis:\n",
    "                display(df)\n",
    "    \n",
    "        if show_n:\n",
    "            d2d.drawOptions().addAtomIndices=show_n\n",
    "    \n",
    "        if plot_aromatic or plot_conjugation:\n",
    "            d2d.DrawMoleculeWithHighlights(mol,legend,dict(athighlights),dict(bndhighlights),arads,{})\n",
    "        else:\n",
    "            d2d.DrawMolecule(mol,legend=legend, highlightAtoms=highlightAtoms)\n",
    "            \n",
    "        d2d.FinishDrawing()\n",
    "        display(SVG(d2d.GetDrawingText()))\n",
    "\n",
    "        return"
   ]
  },
  {
   "cell_type": "code",
   "execution_count": 49,
   "id": "eed5eba3-6f5d-4361-a2fc-0205a6b8f6ce",
   "metadata": {},
   "outputs": [
    {
     "data": {
      "image/svg+xml": [
       "<svg xmlns=\"http://www.w3.org/2000/svg\" xmlns:rdkit=\"http://www.rdkit.org/xml\" xmlns:xlink=\"http://www.w3.org/1999/xlink\" version=\"1.1\" baseProfile=\"full\" xml:space=\"preserve\" width=\"400px\" height=\"400px\" viewBox=\"0 0 400 400\">\n",
       "<!-- END OF HEADER -->\n",
       "<rect style=\"opacity:1.0;fill:#FFFFFF;stroke:none\" width=\"400.0\" height=\"400.0\" x=\"0.0\" y=\"0.0\"> </rect>\n",
       "<path class=\"bond-0 atom-0 atom-1\" d=\"M 357.8,204.1 L 327.7,256.2 L 313.1,247.8 L 343.2,195.7 Z\" style=\"fill:#0000FF66;fill-rule:evenodd;fill-opacity:0.4;stroke:#0000FF66;stroke-width:2.0px;stroke-linecap:butt;stroke-linejoin:miter;stroke-miterlimit:10;stroke-opacity:0.4;\"/>\n",
       "<path class=\"bond-1 atom-1 atom-2\" d=\"M 320.4,260.4 L 260.2,260.4 L 260.2,243.6 L 320.4,243.6 Z\" style=\"fill:#0000FF66;fill-rule:evenodd;fill-opacity:0.4;stroke:#0000FF66;stroke-width:2.0px;stroke-linecap:butt;stroke-linejoin:miter;stroke-miterlimit:10;stroke-opacity:0.4;\"/>\n",
       "<path class=\"bond-2 atom-2 atom-3\" d=\"M 252.9,256.2 L 222.8,204.1 L 237.4,195.7 L 267.5,247.8 Z\" style=\"fill:#0000FF66;fill-rule:evenodd;fill-opacity:0.4;stroke:#0000FF66;stroke-width:2.0px;stroke-linecap:butt;stroke-linejoin:miter;stroke-miterlimit:10;stroke-opacity:0.4;\"/>\n",
       "<path class=\"bond-3 atom-3 atom-4\" d=\"M 230.1,208.3 L 169.9,208.3 L 169.9,191.5 L 230.1,191.5 Z\" style=\"fill:#0000FF66;fill-rule:evenodd;fill-opacity:0.4;stroke:#0000FF66;stroke-width:2.0px;stroke-linecap:butt;stroke-linejoin:miter;stroke-miterlimit:10;stroke-opacity:0.4;\"/>\n",
       "<path class=\"bond-4 atom-4 atom-5\" d=\"M 162.6,204.1 L 132.5,152.0 L 147.1,143.5 L 177.2,195.7 Z\" style=\"fill:#0000FF66;fill-rule:evenodd;fill-opacity:0.4;stroke:#0000FF66;stroke-width:2.0px;stroke-linecap:butt;stroke-linejoin:miter;stroke-miterlimit:10;stroke-opacity:0.4;\"/>\n",
       "<path class=\"bond-5 atom-5 atom-6\" d=\"M 139.8,156.2 L 79.6,156.2 L 79.6,139.3 L 139.8,139.3 Z\" style=\"fill:#0000FF66;fill-rule:evenodd;fill-opacity:0.4;stroke:#0000FF66;stroke-width:2.0px;stroke-linecap:butt;stroke-linejoin:miter;stroke-miterlimit:10;stroke-opacity:0.4;\"/>\n",
       "<path class=\"bond-6 atom-6 atom-7\" d=\"M 86.9,152.0 L 56.8,204.1 L 42.2,195.7 L 72.3,143.5 Z\" style=\"fill:#0000FF66;fill-rule:evenodd;fill-opacity:0.4;stroke:#0000FF66;stroke-width:2.0px;stroke-linecap:butt;stroke-linejoin:miter;stroke-miterlimit:10;stroke-opacity:0.4;\"/>\n",
       "<path class=\"bond-7 atom-7 atom-8\" d=\"M 56.8,195.7 L 86.9,247.8 L 72.3,256.2 L 42.2,204.1 Z\" style=\"fill:#0000FF66;fill-rule:evenodd;fill-opacity:0.4;stroke:#0000FF66;stroke-width:2.0px;stroke-linecap:butt;stroke-linejoin:miter;stroke-miterlimit:10;stroke-opacity:0.4;\"/>\n",
       "<path class=\"bond-8 atom-8 atom-9\" d=\"M 79.6,243.6 L 139.8,243.6 L 139.8,260.4 L 79.6,260.4 Z\" style=\"fill:#0000FF66;fill-rule:evenodd;fill-opacity:0.4;stroke:#0000FF66;stroke-width:2.0px;stroke-linecap:butt;stroke-linejoin:miter;stroke-miterlimit:10;stroke-opacity:0.4;\"/>\n",
       "<path class=\"bond-9 atom-3 atom-10\" d=\"M 222.8,195.7 L 252.9,143.5 L 267.5,152.0 L 237.4,204.1 Z\" style=\"fill:#0000FF66;fill-rule:evenodd;fill-opacity:0.4;stroke:#0000FF66;stroke-width:2.0px;stroke-linecap:butt;stroke-linejoin:miter;stroke-miterlimit:10;stroke-opacity:0.4;\"/>\n",
       "<path class=\"bond-10 atom-10 atom-11\" d=\"M 260.2,139.3 L 320.4,139.3 L 320.4,156.2 L 260.2,156.2 Z\" style=\"fill:#0000FF66;fill-rule:evenodd;fill-opacity:0.4;stroke:#0000FF66;stroke-width:2.0px;stroke-linecap:butt;stroke-linejoin:miter;stroke-miterlimit:10;stroke-opacity:0.4;\"/>\n",
       "<path class=\"bond-11 atom-9 atom-4\" d=\"M 132.5,247.8 L 162.6,195.7 L 177.2,204.1 L 147.1,256.2 Z\" style=\"fill:#0000FF66;fill-rule:evenodd;fill-opacity:0.4;stroke:#0000FF66;stroke-width:2.0px;stroke-linecap:butt;stroke-linejoin:miter;stroke-miterlimit:10;stroke-opacity:0.4;\"/>\n",
       "<path class=\"bond-12 atom-11 atom-0\" d=\"M 327.7,143.5 L 357.8,195.7 L 343.2,204.1 L 313.1,152.0 Z\" style=\"fill:#0000FF66;fill-rule:evenodd;fill-opacity:0.4;stroke:#0000FF66;stroke-width:2.0px;stroke-linecap:butt;stroke-linejoin:miter;stroke-miterlimit:10;stroke-opacity:0.4;\"/>\n",
       "<path class=\"bond-0 atom-0 atom-1\" d=\"M 350.5,199.9 L 320.4,252.0\" style=\"fill:none;fill-rule:evenodd;stroke:#000000;stroke-width:2.0px;stroke-linecap:butt;stroke-linejoin:miter;stroke-opacity:1\"/>\n",
       "<path class=\"bond-0 atom-0 atom-1\" d=\"M 340.1,199.9 L 315.2,243.0\" style=\"fill:none;fill-rule:evenodd;stroke:#000000;stroke-width:2.0px;stroke-linecap:butt;stroke-linejoin:miter;stroke-opacity:1\"/>\n",
       "<path class=\"bond-1 atom-1 atom-2\" d=\"M 320.4,252.0 L 260.2,252.0\" style=\"fill:none;fill-rule:evenodd;stroke:#000000;stroke-width:2.0px;stroke-linecap:butt;stroke-linejoin:miter;stroke-opacity:1\"/>\n",
       "<path class=\"bond-2 atom-2 atom-3\" d=\"M 260.2,252.0 L 230.1,199.9\" style=\"fill:none;fill-rule:evenodd;stroke:#000000;stroke-width:2.0px;stroke-linecap:butt;stroke-linejoin:miter;stroke-opacity:1\"/>\n",
       "<path class=\"bond-2 atom-2 atom-3\" d=\"M 265.4,243.0 L 240.5,199.9\" style=\"fill:none;fill-rule:evenodd;stroke:#000000;stroke-width:2.0px;stroke-linecap:butt;stroke-linejoin:miter;stroke-opacity:1\"/>\n",
       "<path class=\"bond-3 atom-3 atom-4\" d=\"M 230.1,199.9 L 169.9,199.9\" style=\"fill:none;fill-rule:evenodd;stroke:#000000;stroke-width:2.0px;stroke-linecap:butt;stroke-linejoin:miter;stroke-opacity:1\"/>\n",
       "<path class=\"bond-4 atom-4 atom-5\" d=\"M 169.9,199.9 L 139.8,147.8\" style=\"fill:none;fill-rule:evenodd;stroke:#000000;stroke-width:2.0px;stroke-linecap:butt;stroke-linejoin:miter;stroke-opacity:1\"/>\n",
       "<path class=\"bond-4 atom-4 atom-5\" d=\"M 159.5,199.9 L 134.6,156.8\" style=\"fill:none;fill-rule:evenodd;stroke:#000000;stroke-width:2.0px;stroke-linecap:butt;stroke-linejoin:miter;stroke-opacity:1\"/>\n",
       "<path class=\"bond-5 atom-5 atom-6\" d=\"M 139.8,147.8 L 79.6,147.8\" style=\"fill:none;fill-rule:evenodd;stroke:#000000;stroke-width:2.0px;stroke-linecap:butt;stroke-linejoin:miter;stroke-opacity:1\"/>\n",
       "<path class=\"bond-6 atom-6 atom-7\" d=\"M 79.6,147.8 L 49.5,199.9\" style=\"fill:none;fill-rule:evenodd;stroke:#000000;stroke-width:2.0px;stroke-linecap:butt;stroke-linejoin:miter;stroke-opacity:1\"/>\n",
       "<path class=\"bond-6 atom-6 atom-7\" d=\"M 84.8,156.8 L 59.9,199.9\" style=\"fill:none;fill-rule:evenodd;stroke:#000000;stroke-width:2.0px;stroke-linecap:butt;stroke-linejoin:miter;stroke-opacity:1\"/>\n",
       "<path class=\"bond-7 atom-7 atom-8\" d=\"M 49.5,199.9 L 79.6,252.0\" style=\"fill:none;fill-rule:evenodd;stroke:#000000;stroke-width:2.0px;stroke-linecap:butt;stroke-linejoin:miter;stroke-opacity:1\"/>\n",
       "<path class=\"bond-8 atom-8 atom-9\" d=\"M 79.6,252.0 L 105.5,252.0\" style=\"fill:none;fill-rule:evenodd;stroke:#000000;stroke-width:2.0px;stroke-linecap:butt;stroke-linejoin:miter;stroke-opacity:1\"/>\n",
       "<path class=\"bond-8 atom-8 atom-9\" d=\"M 105.5,252.0 L 131.4,252.0\" style=\"fill:none;fill-rule:evenodd;stroke:#0000FF;stroke-width:2.0px;stroke-linecap:butt;stroke-linejoin:miter;stroke-opacity:1\"/>\n",
       "<path class=\"bond-8 atom-8 atom-9\" d=\"M 84.8,243.0 L 108.1,243.0\" style=\"fill:none;fill-rule:evenodd;stroke:#000000;stroke-width:2.0px;stroke-linecap:butt;stroke-linejoin:miter;stroke-opacity:1\"/>\n",
       "<path class=\"bond-8 atom-8 atom-9\" d=\"M 108.1,243.0 L 131.4,243.0\" style=\"fill:none;fill-rule:evenodd;stroke:#0000FF;stroke-width:2.0px;stroke-linecap:butt;stroke-linejoin:miter;stroke-opacity:1\"/>\n",
       "<path class=\"bond-9 atom-3 atom-10\" d=\"M 230.1,199.9 L 242.1,179.1\" style=\"fill:none;fill-rule:evenodd;stroke:#000000;stroke-width:2.0px;stroke-linecap:butt;stroke-linejoin:miter;stroke-opacity:1\"/>\n",
       "<path class=\"bond-9 atom-3 atom-10\" d=\"M 242.1,179.1 L 254.1,158.3\" style=\"fill:none;fill-rule:evenodd;stroke:#0000FF;stroke-width:2.0px;stroke-linecap:butt;stroke-linejoin:miter;stroke-opacity:1\"/>\n",
       "<path class=\"bond-10 atom-10 atom-11\" d=\"M 268.6,147.8 L 294.5,147.8\" style=\"fill:none;fill-rule:evenodd;stroke:#0000FF;stroke-width:2.0px;stroke-linecap:butt;stroke-linejoin:miter;stroke-opacity:1\"/>\n",
       "<path class=\"bond-10 atom-10 atom-11\" d=\"M 294.5,147.8 L 320.4,147.8\" style=\"fill:none;fill-rule:evenodd;stroke:#000000;stroke-width:2.0px;stroke-linecap:butt;stroke-linejoin:miter;stroke-opacity:1\"/>\n",
       "<path class=\"bond-10 atom-10 atom-11\" d=\"M 268.6,156.8 L 291.9,156.8\" style=\"fill:none;fill-rule:evenodd;stroke:#0000FF;stroke-width:2.0px;stroke-linecap:butt;stroke-linejoin:miter;stroke-opacity:1\"/>\n",
       "<path class=\"bond-10 atom-10 atom-11\" d=\"M 291.9,156.8 L 315.2,156.8\" style=\"fill:none;fill-rule:evenodd;stroke:#000000;stroke-width:2.0px;stroke-linecap:butt;stroke-linejoin:miter;stroke-opacity:1\"/>\n",
       "<path class=\"bond-11 atom-9 atom-4\" d=\"M 145.9,241.5 L 157.9,220.7\" style=\"fill:none;fill-rule:evenodd;stroke:#0000FF;stroke-width:2.0px;stroke-linecap:butt;stroke-linejoin:miter;stroke-opacity:1\"/>\n",
       "<path class=\"bond-11 atom-9 atom-4\" d=\"M 157.9,220.7 L 169.9,199.9\" style=\"fill:none;fill-rule:evenodd;stroke:#000000;stroke-width:2.0px;stroke-linecap:butt;stroke-linejoin:miter;stroke-opacity:1\"/>\n",
       "<path class=\"bond-12 atom-11 atom-0\" d=\"M 320.4,147.8 L 350.5,199.9\" style=\"fill:none;fill-rule:evenodd;stroke:#000000;stroke-width:2.0px;stroke-linecap:butt;stroke-linejoin:miter;stroke-opacity:1\"/>\n",
       "<path d=\"M 349.0,202.5 L 350.5,199.9 L 349.0,197.3\" style=\"fill:none;stroke:#000000;stroke-width:2.0px;stroke-linecap:butt;stroke-linejoin:miter;stroke-miterlimit:10;stroke-opacity:1;\"/>\n",
       "<path d=\"M 321.9,249.4 L 320.4,252.0 L 317.4,252.0\" style=\"fill:none;stroke:#000000;stroke-width:2.0px;stroke-linecap:butt;stroke-linejoin:miter;stroke-miterlimit:10;stroke-opacity:1;\"/>\n",
       "<path d=\"M 263.2,252.0 L 260.2,252.0 L 258.7,249.4\" style=\"fill:none;stroke:#000000;stroke-width:2.0px;stroke-linecap:butt;stroke-linejoin:miter;stroke-miterlimit:10;stroke-opacity:1;\"/>\n",
       "<path d=\"M 141.3,150.4 L 139.8,147.8 L 136.8,147.8\" style=\"fill:none;stroke:#000000;stroke-width:2.0px;stroke-linecap:butt;stroke-linejoin:miter;stroke-miterlimit:10;stroke-opacity:1;\"/>\n",
       "<path d=\"M 82.6,147.8 L 79.6,147.8 L 78.1,150.4\" style=\"fill:none;stroke:#000000;stroke-width:2.0px;stroke-linecap:butt;stroke-linejoin:miter;stroke-miterlimit:10;stroke-opacity:1;\"/>\n",
       "<path d=\"M 51.0,197.3 L 49.5,199.9 L 51.0,202.5\" style=\"fill:none;stroke:#000000;stroke-width:2.0px;stroke-linecap:butt;stroke-linejoin:miter;stroke-miterlimit:10;stroke-opacity:1;\"/>\n",
       "<path d=\"M 78.1,249.4 L 79.6,252.0 L 80.9,252.0\" style=\"fill:none;stroke:#000000;stroke-width:2.0px;stroke-linecap:butt;stroke-linejoin:miter;stroke-miterlimit:10;stroke-opacity:1;\"/>\n",
       "<path d=\"M 319.1,147.8 L 320.4,147.8 L 321.9,150.4\" style=\"fill:none;stroke:#000000;stroke-width:2.0px;stroke-linecap:butt;stroke-linejoin:miter;stroke-miterlimit:10;stroke-opacity:1;\"/>\n",
       "<path class=\"atom-9\" d=\"M 136.0 243.5 L 141.6 252.5 Q 142.2 253.4, 143.1 255.0 Q 144.0 256.6, 144.0 256.7 L 144.0 243.5 L 146.3 243.5 L 146.3 260.5 L 143.9 260.5 L 137.9 250.7 Q 137.2 249.5, 136.5 248.2 Q 135.8 246.9, 135.6 246.5 L 135.6 260.5 L 133.3 260.5 L 133.3 243.5 L 136.0 243.5 \" fill=\"#0000FF\"/>\n",
       "<path class=\"atom-10\" d=\"M 256.4 139.2 L 262.0 148.3 Q 262.6 149.2, 263.5 150.8 Q 264.3 152.4, 264.4 152.5 L 264.4 139.2 L 266.7 139.2 L 266.7 156.3 L 264.3 156.3 L 258.3 146.4 Q 257.6 145.3, 256.9 143.9 Q 256.2 142.6, 255.9 142.2 L 255.9 156.3 L 253.7 156.3 L 253.7 139.2 L 256.4 139.2 \" fill=\"#0000FF\"/>\n",
       "<path class=\"note\" d=\"M 361.4 202.9 Q 361.5 202.9, 361.9 203.1 Q 362.3 203.2, 362.8 203.4 Q 363.2 203.4, 363.6 203.4 Q 364.4 203.4, 364.9 203.1 Q 365.4 202.7, 365.4 202.0 Q 365.4 201.5, 365.1 201.2 Q 364.9 200.9, 364.6 200.8 Q 364.2 200.6, 363.6 200.4 Q 362.8 200.2, 362.4 200.0 Q 361.9 199.8, 361.6 199.3 Q 361.3 198.9, 361.3 198.1 Q 361.3 197.0, 362.0 196.4 Q 362.7 195.7, 364.2 195.7 Q 365.2 195.7, 366.3 196.2 L 366.0 197.1 Q 365.0 196.7, 364.2 196.7 Q 363.4 196.7, 362.9 197.0 Q 362.5 197.4, 362.5 197.9 Q 362.5 198.4, 362.7 198.7 Q 363.0 199.0, 363.3 199.1 Q 363.6 199.3, 364.2 199.5 Q 365.0 199.7, 365.5 199.9 Q 365.9 200.2, 366.2 200.7 Q 366.6 201.1, 366.6 202.0 Q 366.6 203.2, 365.8 203.8 Q 365.0 204.4, 363.7 204.4 Q 362.9 204.4, 362.3 204.3 Q 361.8 204.1, 361.1 203.8 L 361.4 202.9 \" fill=\"#000000\"/>\n",
       "<path class=\"note\" d=\"M 370.2 195.7 Q 371.7 195.7, 372.4 196.3 Q 373.1 197.0, 373.1 198.2 Q 373.1 199.4, 372.4 200.0 Q 371.6 200.7, 370.2 200.7 L 368.9 200.7 L 368.9 204.2 L 367.7 204.2 L 367.7 195.7 L 370.2 195.7 M 370.2 199.7 Q 371.0 199.7, 371.5 199.3 Q 371.9 198.9, 371.9 198.2 Q 371.9 197.4, 371.5 197.0 Q 371.1 196.6, 370.2 196.6 L 368.9 196.6 L 368.9 199.7 L 370.2 199.7 \" fill=\"#000000\"/>\n",
       "<path class=\"note\" d=\"M 374.3 197.3 Q 374.6 196.5, 375.3 196.0 Q 376.1 195.6, 377.1 195.6 Q 378.4 195.6, 379.1 196.3 Q 379.9 197.0, 379.9 198.2 Q 379.9 199.5, 378.9 200.7 Q 378.0 201.8, 376.1 203.2 L 380.0 203.2 L 380.0 204.2 L 374.3 204.2 L 374.3 203.4 Q 375.8 202.3, 376.8 201.4 Q 377.7 200.6, 378.2 199.8 Q 378.7 199.1, 378.7 198.3 Q 378.7 197.5, 378.2 197.0 Q 377.8 196.5, 377.1 196.5 Q 376.4 196.5, 376.0 196.8 Q 375.5 197.1, 375.2 197.7 L 374.3 197.3 \" fill=\"#000000\"/>\n",
       "<path class=\"note\" d=\"M 316.3 263.7 Q 316.4 263.7, 316.8 263.9 Q 317.2 264.1, 317.6 264.2 Q 318.1 264.3, 318.5 264.3 Q 319.3 264.3, 319.8 263.9 Q 320.2 263.5, 320.2 262.8 Q 320.2 262.3, 320.0 262.0 Q 319.8 261.8, 319.4 261.6 Q 319.0 261.4, 318.4 261.3 Q 317.7 261.0, 317.2 260.8 Q 316.8 260.6, 316.5 260.1 Q 316.1 259.7, 316.1 258.9 Q 316.1 257.8, 316.9 257.2 Q 317.6 256.5, 319.0 256.5 Q 320.0 256.5, 321.2 257.0 L 320.9 257.9 Q 319.9 257.5, 319.1 257.5 Q 318.2 257.5, 317.8 257.8 Q 317.3 258.2, 317.3 258.8 Q 317.3 259.2, 317.6 259.5 Q 317.8 259.8, 318.2 259.9 Q 318.5 260.1, 319.1 260.3 Q 319.9 260.5, 320.3 260.8 Q 320.8 261.0, 321.1 261.5 Q 321.4 262.0, 321.4 262.8 Q 321.4 264.0, 320.6 264.6 Q 319.9 265.2, 318.5 265.2 Q 317.8 265.2, 317.2 265.1 Q 316.6 264.9, 316.0 264.6 L 316.3 263.7 \" fill=\"#000000\"/>\n",
       "<path class=\"note\" d=\"M 325.1 256.5 Q 326.5 256.5, 327.3 257.2 Q 328.0 257.8, 328.0 259.0 Q 328.0 260.2, 327.2 260.8 Q 326.5 261.5, 325.1 261.5 L 323.7 261.5 L 323.7 265.0 L 322.5 265.0 L 322.5 256.5 L 325.1 256.5 M 325.1 260.5 Q 325.9 260.5, 326.3 260.2 Q 326.8 259.8, 326.8 259.0 Q 326.8 258.2, 326.3 257.9 Q 325.9 257.5, 325.1 257.5 L 323.7 257.5 L 323.7 260.5 L 325.1 260.5 \" fill=\"#000000\"/>\n",
       "<path class=\"note\" d=\"M 329.1 258.1 Q 329.4 257.3, 330.2 256.9 Q 330.9 256.4, 332.0 256.4 Q 333.3 256.4, 334.0 257.1 Q 334.7 257.8, 334.7 259.0 Q 334.7 260.3, 333.8 261.5 Q 332.8 262.7, 330.9 264.1 L 334.9 264.1 L 334.9 265.0 L 329.1 265.0 L 329.1 264.2 Q 330.7 263.1, 331.6 262.2 Q 332.6 261.4, 333.0 260.6 Q 333.5 259.9, 333.5 259.1 Q 333.5 258.3, 333.1 257.8 Q 332.7 257.4, 332.0 257.4 Q 331.3 257.4, 330.8 257.6 Q 330.4 257.9, 330.0 258.5 L 329.1 258.1 \" fill=\"#000000\"/>\n",
       "<path class=\"note\" d=\"M 246.1 263.7 Q 246.2 263.7, 246.6 263.9 Q 246.9 264.1, 247.4 264.2 Q 247.8 264.3, 248.3 264.3 Q 249.1 264.3, 249.5 263.9 Q 250.0 263.5, 250.0 262.8 Q 250.0 262.3, 249.8 262.0 Q 249.5 261.8, 249.2 261.6 Q 248.8 261.4, 248.2 261.3 Q 247.5 261.0, 247.0 260.8 Q 246.6 260.6, 246.2 260.1 Q 245.9 259.7, 245.9 258.9 Q 245.9 257.8, 246.6 257.2 Q 247.4 256.5, 248.8 256.5 Q 249.8 256.5, 250.9 257.0 L 250.6 257.9 Q 249.6 257.5, 248.9 257.5 Q 248.0 257.5, 247.6 257.8 Q 247.1 258.2, 247.1 258.8 Q 247.1 259.2, 247.3 259.5 Q 247.6 259.8, 247.9 259.9 Q 248.3 260.1, 248.9 260.3 Q 249.6 260.5, 250.1 260.8 Q 250.5 261.0, 250.9 261.5 Q 251.2 262.0, 251.2 262.8 Q 251.2 264.0, 250.4 264.6 Q 249.6 265.2, 248.3 265.2 Q 247.6 265.2, 247.0 265.1 Q 246.4 264.9, 245.7 264.6 L 246.1 263.7 \" fill=\"#000000\"/>\n",
       "<path class=\"note\" d=\"M 254.8 256.5 Q 256.3 256.5, 257.0 257.2 Q 257.8 257.8, 257.8 259.0 Q 257.8 260.2, 257.0 260.8 Q 256.3 261.5, 254.8 261.5 L 253.5 261.5 L 253.5 265.0 L 252.3 265.0 L 252.3 256.5 L 254.8 256.5 M 254.8 260.5 Q 255.7 260.5, 256.1 260.2 Q 256.6 259.8, 256.6 259.0 Q 256.6 258.2, 256.1 257.9 Q 255.7 257.5, 254.8 257.5 L 253.5 257.5 L 253.5 260.5 L 254.8 260.5 \" fill=\"#000000\"/>\n",
       "<path class=\"note\" d=\"M 258.9 258.1 Q 259.2 257.3, 260.0 256.9 Q 260.7 256.4, 261.7 256.4 Q 263.0 256.4, 263.8 257.1 Q 264.5 257.8, 264.5 259.0 Q 264.5 260.3, 263.5 261.5 Q 262.6 262.7, 260.7 264.1 L 264.6 264.1 L 264.6 265.0 L 258.9 265.0 L 258.9 264.2 Q 260.5 263.1, 261.4 262.2 Q 262.4 261.4, 262.8 260.6 Q 263.3 259.9, 263.3 259.1 Q 263.3 258.3, 262.9 257.8 Q 262.5 257.4, 261.7 257.4 Q 261.1 257.4, 260.6 257.6 Q 260.1 257.9, 259.8 258.5 L 258.9 258.1 \" fill=\"#000000\"/>\n",
       "<path class=\"note\" d=\"M 210.9 220.2 Q 211.0 220.3, 211.4 220.5 Q 211.8 220.6, 212.3 220.7 Q 212.7 220.8, 213.1 220.8 Q 214.0 220.8, 214.4 220.4 Q 214.9 220.0, 214.9 219.4 Q 214.9 218.9, 214.7 218.6 Q 214.4 218.3, 214.1 218.2 Q 213.7 218.0, 213.1 217.8 Q 212.3 217.6, 211.9 217.4 Q 211.4 217.2, 211.1 216.7 Q 210.8 216.2, 210.8 215.5 Q 210.8 214.4, 211.5 213.7 Q 212.3 213.1, 213.7 213.1 Q 214.7 213.1, 215.8 213.5 L 215.5 214.5 Q 214.5 214.0, 213.7 214.0 Q 212.9 214.0, 212.4 214.4 Q 212.0 214.7, 212.0 215.3 Q 212.0 215.8, 212.2 216.1 Q 212.5 216.3, 212.8 216.5 Q 213.2 216.6, 213.7 216.8 Q 214.5 217.1, 215.0 217.3 Q 215.4 217.6, 215.7 218.0 Q 216.1 218.5, 216.1 219.4 Q 216.1 220.5, 215.3 221.2 Q 214.5 221.8, 213.2 221.8 Q 212.4 221.8, 211.9 221.6 Q 211.3 221.5, 210.6 221.2 L 210.9 220.2 \" fill=\"#000000\"/>\n",
       "<path class=\"note\" d=\"M 219.7 213.0 Q 221.2 213.0, 221.9 213.7 Q 222.6 214.4, 222.6 215.6 Q 222.6 216.7, 221.9 217.4 Q 221.1 218.1, 219.7 218.1 L 218.4 218.1 L 218.4 221.6 L 217.2 221.6 L 217.2 213.0 L 219.7 213.0 M 219.7 217.1 Q 220.6 217.1, 221.0 216.7 Q 221.4 216.3, 221.4 215.6 Q 221.4 214.8, 221.0 214.4 Q 220.6 214.0, 219.7 214.0 L 218.4 214.0 L 218.4 217.1 L 219.7 217.1 \" fill=\"#000000\"/>\n",
       "<path class=\"note\" d=\"M 223.8 214.7 Q 224.1 213.9, 224.9 213.4 Q 225.6 213.0, 226.6 213.0 Q 227.9 213.0, 228.6 213.7 Q 229.4 214.3, 229.4 215.6 Q 229.4 216.9, 228.4 218.0 Q 227.5 219.2, 225.6 220.6 L 229.5 220.6 L 229.5 221.6 L 223.8 221.6 L 223.8 220.8 Q 225.4 219.6, 226.3 218.8 Q 227.2 217.9, 227.7 217.2 Q 228.2 216.4, 228.2 215.6 Q 228.2 214.8, 227.8 214.4 Q 227.3 213.9, 226.6 213.9 Q 225.9 213.9, 225.5 214.2 Q 225.0 214.5, 224.7 215.1 L 223.8 214.7 \" fill=\"#000000\"/>\n",
       "<path class=\"note\" d=\"M 170.8 185.5 Q 170.9 185.5, 171.3 185.7 Q 171.7 185.9, 172.1 186.0 Q 172.6 186.1, 173.0 186.1 Q 173.8 186.1, 174.3 185.7 Q 174.8 185.3, 174.8 184.6 Q 174.8 184.1, 174.5 183.8 Q 174.3 183.6, 173.9 183.4 Q 173.6 183.2, 173.0 183.1 Q 172.2 182.8, 171.8 182.6 Q 171.3 182.4, 171.0 181.9 Q 170.7 181.5, 170.7 180.7 Q 170.7 179.6, 171.4 179.0 Q 172.1 178.3, 173.6 178.3 Q 174.6 178.3, 175.7 178.8 L 175.4 179.7 Q 174.4 179.3, 173.6 179.3 Q 172.8 179.3, 172.3 179.6 Q 171.9 180.0, 171.9 180.6 Q 171.9 181.0, 172.1 181.3 Q 172.3 181.6, 172.7 181.7 Q 173.0 181.9, 173.6 182.1 Q 174.4 182.3, 174.8 182.6 Q 175.3 182.8, 175.6 183.3 Q 176.0 183.8, 176.0 184.6 Q 176.0 185.8, 175.2 186.4 Q 174.4 187.0, 173.1 187.0 Q 172.3 187.0, 171.7 186.9 Q 171.2 186.7, 170.5 186.4 L 170.8 185.5 \" fill=\"#000000\"/>\n",
       "<path class=\"note\" d=\"M 179.6 178.3 Q 181.0 178.3, 181.8 179.0 Q 182.5 179.6, 182.5 180.8 Q 182.5 182.0, 181.8 182.7 Q 181.0 183.3, 179.6 183.3 L 178.2 183.3 L 178.2 186.8 L 177.1 186.8 L 177.1 178.3 L 179.6 178.3 M 179.6 182.4 Q 180.4 182.4, 180.9 182.0 Q 181.3 181.6, 181.3 180.8 Q 181.3 180.0, 180.9 179.7 Q 180.4 179.3, 179.6 179.3 L 178.2 179.3 L 178.2 182.4 L 179.6 182.4 \" fill=\"#000000\"/>\n",
       "<path class=\"note\" d=\"M 183.7 179.9 Q 184.0 179.1, 184.7 178.7 Q 185.5 178.2, 186.5 178.2 Q 187.8 178.2, 188.5 178.9 Q 189.2 179.6, 189.2 180.8 Q 189.2 182.1, 188.3 183.3 Q 187.4 184.5, 185.4 185.9 L 189.4 185.9 L 189.4 186.8 L 183.6 186.8 L 183.6 186.0 Q 185.2 184.9, 186.2 184.0 Q 187.1 183.2, 187.6 182.4 Q 188.0 181.7, 188.0 180.9 Q 188.0 180.1, 187.6 179.6 Q 187.2 179.2, 186.5 179.2 Q 185.8 179.2, 185.4 179.4 Q 184.9 179.7, 184.6 180.3 L 183.7 179.9 \" fill=\"#000000\"/>\n",
       "<path class=\"note\" d=\"M 135.7 142.1 Q 135.8 142.1, 136.2 142.3 Q 136.6 142.4, 137.0 142.5 Q 137.5 142.6, 137.9 142.6 Q 138.7 142.6, 139.2 142.2 Q 139.6 141.8, 139.6 141.2 Q 139.6 140.7, 139.4 140.4 Q 139.2 140.1, 138.8 140.0 Q 138.5 139.8, 137.9 139.6 Q 137.1 139.4, 136.6 139.2 Q 136.2 139.0, 135.9 138.5 Q 135.6 138.0, 135.6 137.3 Q 135.6 136.2, 136.3 135.5 Q 137.0 134.9, 138.5 134.9 Q 139.4 134.9, 140.6 135.3 L 140.3 136.3 Q 139.3 135.9, 138.5 135.9 Q 137.7 135.9, 137.2 136.2 Q 136.7 136.5, 136.8 137.1 Q 136.8 137.6, 137.0 137.9 Q 137.2 138.1, 137.6 138.3 Q 137.9 138.5, 138.5 138.6 Q 139.3 138.9, 139.7 139.1 Q 140.2 139.4, 140.5 139.8 Q 140.8 140.3, 140.8 141.2 Q 140.8 142.3, 140.0 143.0 Q 139.3 143.6, 138.0 143.6 Q 137.2 143.6, 136.6 143.4 Q 136.0 143.3, 135.4 143.0 L 135.7 142.1 \" fill=\"#000000\"/>\n",
       "<path class=\"note\" d=\"M 144.5 134.9 Q 145.9 134.9, 146.7 135.5 Q 147.4 136.2, 147.4 137.4 Q 147.4 138.5, 146.6 139.2 Q 145.9 139.9, 144.5 139.9 L 143.1 139.9 L 143.1 143.4 L 142.0 143.4 L 142.0 134.9 L 144.5 134.9 M 144.5 138.9 Q 145.3 138.9, 145.8 138.5 Q 146.2 138.1, 146.2 137.4 Q 146.2 136.6, 145.8 136.2 Q 145.3 135.8, 144.5 135.8 L 143.1 135.8 L 143.1 138.9 L 144.5 138.9 \" fill=\"#000000\"/>\n",
       "<path class=\"note\" d=\"M 148.5 136.5 Q 148.9 135.7, 149.6 135.2 Q 150.4 134.8, 151.4 134.8 Q 152.7 134.8, 153.4 135.5 Q 154.1 136.2, 154.1 137.4 Q 154.1 138.7, 153.2 139.8 Q 152.3 141.0, 150.3 142.4 L 154.3 142.4 L 154.3 143.4 L 148.5 143.4 L 148.5 142.6 Q 150.1 141.4, 151.1 140.6 Q 152.0 139.8, 152.5 139.0 Q 152.9 138.2, 152.9 137.5 Q 152.9 136.6, 152.5 136.2 Q 152.1 135.7, 151.4 135.7 Q 150.7 135.7, 150.2 136.0 Q 149.8 136.3, 149.5 136.9 L 148.5 136.5 \" fill=\"#000000\"/>\n",
       "<path class=\"note\" d=\"M 65.5 142.1 Q 65.6 142.1, 66.0 142.3 Q 66.4 142.4, 66.8 142.5 Q 67.2 142.6, 67.7 142.6 Q 68.5 142.6, 69.0 142.2 Q 69.4 141.8, 69.4 141.2 Q 69.4 140.7, 69.2 140.4 Q 69.0 140.1, 68.6 140.0 Q 68.2 139.8, 67.6 139.6 Q 66.9 139.4, 66.4 139.2 Q 66.0 139.0, 65.6 138.5 Q 65.3 138.0, 65.3 137.3 Q 65.3 136.2, 66.0 135.5 Q 66.8 134.9, 68.2 134.9 Q 69.2 134.9, 70.3 135.3 L 70.1 136.3 Q 69.0 135.9, 68.3 135.9 Q 67.4 135.9, 67.0 136.2 Q 66.5 136.5, 66.5 137.1 Q 66.5 137.6, 66.8 137.9 Q 67.0 138.1, 67.3 138.3 Q 67.7 138.5, 68.3 138.6 Q 69.0 138.9, 69.5 139.1 Q 70.0 139.4, 70.3 139.8 Q 70.6 140.3, 70.6 141.2 Q 70.6 142.3, 69.8 143.0 Q 69.0 143.6, 67.7 143.6 Q 67.0 143.6, 66.4 143.4 Q 65.8 143.3, 65.1 143.0 L 65.5 142.1 \" fill=\"#000000\"/>\n",
       "<path class=\"note\" d=\"M 74.2 134.9 Q 75.7 134.9, 76.4 135.5 Q 77.2 136.2, 77.2 137.4 Q 77.2 138.5, 76.4 139.2 Q 75.7 139.9, 74.2 139.9 L 72.9 139.9 L 72.9 143.4 L 71.7 143.4 L 71.7 134.9 L 74.2 134.9 M 74.2 138.9 Q 75.1 138.9, 75.5 138.5 Q 76.0 138.1, 76.0 137.4 Q 76.0 136.6, 75.5 136.2 Q 75.1 135.8, 74.2 135.8 L 72.9 135.8 L 72.9 138.9 L 74.2 138.9 \" fill=\"#000000\"/>\n",
       "<path class=\"note\" d=\"M 78.3 136.5 Q 78.6 135.7, 79.4 135.2 Q 80.1 134.8, 81.2 134.8 Q 82.4 134.8, 83.2 135.5 Q 83.9 136.2, 83.9 137.4 Q 83.9 138.7, 83.0 139.8 Q 82.0 141.0, 80.1 142.4 L 84.0 142.4 L 84.0 143.4 L 78.3 143.4 L 78.3 142.6 Q 79.9 141.4, 80.8 140.6 Q 81.8 139.8, 82.2 139.0 Q 82.7 138.2, 82.7 137.5 Q 82.7 136.6, 82.3 136.2 Q 81.9 135.7, 81.2 135.7 Q 80.5 135.7, 80.0 136.0 Q 79.6 136.3, 79.2 136.9 L 78.3 136.5 \" fill=\"#000000\"/>\n",
       "<path class=\"note\" d=\"M 20.3 202.9 Q 20.4 202.9, 20.8 203.1 Q 21.2 203.2, 21.6 203.4 Q 22.1 203.4, 22.5 203.4 Q 23.3 203.4, 23.8 203.1 Q 24.3 202.7, 24.3 202.0 Q 24.3 201.5, 24.0 201.2 Q 23.8 200.9, 23.4 200.8 Q 23.1 200.6, 22.5 200.4 Q 21.7 200.2, 21.3 200.0 Q 20.8 199.8, 20.5 199.3 Q 20.2 198.9, 20.2 198.1 Q 20.2 197.0, 20.9 196.4 Q 21.6 195.7, 23.1 195.7 Q 24.1 195.7, 25.2 196.2 L 24.9 197.1 Q 23.9 196.7, 23.1 196.7 Q 22.3 196.7, 21.8 197.0 Q 21.4 197.4, 21.4 197.9 Q 21.4 198.4, 21.6 198.7 Q 21.9 199.0, 22.2 199.1 Q 22.5 199.3, 23.1 199.5 Q 23.9 199.7, 24.3 199.9 Q 24.8 200.2, 25.1 200.7 Q 25.5 201.1, 25.5 202.0 Q 25.5 203.2, 24.7 203.8 Q 23.9 204.4, 22.6 204.4 Q 21.8 204.4, 21.2 204.3 Q 20.7 204.1, 20.0 203.8 L 20.3 202.9 \" fill=\"#000000\"/>\n",
       "<path class=\"note\" d=\"M 29.1 195.7 Q 30.6 195.7, 31.3 196.3 Q 32.0 197.0, 32.0 198.2 Q 32.0 199.4, 31.3 200.0 Q 30.5 200.7, 29.1 200.7 L 27.7 200.7 L 27.7 204.2 L 26.6 204.2 L 26.6 195.7 L 29.1 195.7 M 29.1 199.7 Q 29.9 199.7, 30.4 199.3 Q 30.8 198.9, 30.8 198.2 Q 30.8 197.4, 30.4 197.0 Q 29.9 196.6, 29.1 196.6 L 27.7 196.6 L 27.7 199.7 L 29.1 199.7 \" fill=\"#000000\"/>\n",
       "<path class=\"note\" d=\"M 33.2 197.3 Q 33.5 196.5, 34.2 196.0 Q 35.0 195.6, 36.0 195.6 Q 37.3 195.6, 38.0 196.3 Q 38.7 197.0, 38.7 198.2 Q 38.7 199.5, 37.8 200.7 Q 36.9 201.8, 35.0 203.2 L 38.9 203.2 L 38.9 204.2 L 33.1 204.2 L 33.1 203.4 Q 34.7 202.3, 35.7 201.4 Q 36.6 200.6, 37.1 199.8 Q 37.5 199.1, 37.5 198.3 Q 37.5 197.5, 37.1 197.0 Q 36.7 196.5, 36.0 196.5 Q 35.3 196.5, 34.9 196.8 Q 34.4 197.1, 34.1 197.7 L 33.2 197.3 \" fill=\"#000000\"/>\n",
       "<path class=\"note\" d=\"M 65.5 263.7 Q 65.6 263.7, 66.0 263.9 Q 66.4 264.1, 66.8 264.2 Q 67.2 264.3, 67.7 264.3 Q 68.5 264.3, 69.0 263.9 Q 69.4 263.5, 69.4 262.8 Q 69.4 262.3, 69.2 262.0 Q 69.0 261.8, 68.6 261.6 Q 68.2 261.4, 67.6 261.3 Q 66.9 261.0, 66.4 260.8 Q 66.0 260.6, 65.6 260.1 Q 65.3 259.7, 65.3 258.9 Q 65.3 257.8, 66.0 257.2 Q 66.8 256.5, 68.2 256.5 Q 69.2 256.5, 70.3 257.0 L 70.1 257.9 Q 69.0 257.5, 68.3 257.5 Q 67.4 257.5, 67.0 257.8 Q 66.5 258.2, 66.5 258.8 Q 66.5 259.2, 66.8 259.5 Q 67.0 259.8, 67.3 259.9 Q 67.7 260.1, 68.3 260.3 Q 69.0 260.5, 69.5 260.8 Q 70.0 261.0, 70.3 261.5 Q 70.6 262.0, 70.6 262.8 Q 70.6 264.0, 69.8 264.6 Q 69.0 265.2, 67.7 265.2 Q 67.0 265.2, 66.4 265.1 Q 65.8 264.9, 65.1 264.6 L 65.5 263.7 \" fill=\"#000000\"/>\n",
       "<path class=\"note\" d=\"M 74.2 256.5 Q 75.7 256.5, 76.4 257.2 Q 77.2 257.8, 77.2 259.0 Q 77.2 260.2, 76.4 260.8 Q 75.7 261.5, 74.2 261.5 L 72.9 261.5 L 72.9 265.0 L 71.7 265.0 L 71.7 256.5 L 74.2 256.5 M 74.2 260.5 Q 75.1 260.5, 75.5 260.2 Q 76.0 259.8, 76.0 259.0 Q 76.0 258.2, 75.5 257.9 Q 75.1 257.5, 74.2 257.5 L 72.9 257.5 L 72.9 260.5 L 74.2 260.5 \" fill=\"#000000\"/>\n",
       "<path class=\"note\" d=\"M 78.3 258.1 Q 78.6 257.3, 79.4 256.9 Q 80.1 256.4, 81.2 256.4 Q 82.4 256.4, 83.2 257.1 Q 83.9 257.8, 83.9 259.0 Q 83.9 260.3, 83.0 261.5 Q 82.0 262.7, 80.1 264.1 L 84.0 264.1 L 84.0 265.0 L 78.3 265.0 L 78.3 264.2 Q 79.9 263.1, 80.8 262.2 Q 81.8 261.4, 82.2 260.6 Q 82.7 259.9, 82.7 259.1 Q 82.7 258.3, 82.3 257.8 Q 81.9 257.4, 81.2 257.4 Q 80.5 257.4, 80.0 257.6 Q 79.6 257.9, 79.2 258.5 L 78.3 258.1 \" fill=\"#000000\"/>\n",
       "<path class=\"note\" d=\"M 140.7 272.4 Q 140.8 272.4, 141.2 272.6 Q 141.6 272.8, 142.0 272.9 Q 142.5 273.0, 142.9 273.0 Q 143.7 273.0, 144.2 272.6 Q 144.7 272.2, 144.7 271.5 Q 144.7 271.0, 144.4 270.7 Q 144.2 270.4, 143.8 270.3 Q 143.5 270.1, 142.9 269.9 Q 142.1 269.7, 141.7 269.5 Q 141.2 269.3, 140.9 268.8 Q 140.6 268.4, 140.6 267.6 Q 140.6 266.5, 141.3 265.9 Q 142.0 265.2, 143.5 265.2 Q 144.5 265.2, 145.6 265.7 L 145.3 266.6 Q 144.3 266.2, 143.5 266.2 Q 142.7 266.2, 142.2 266.5 Q 141.8 266.9, 141.8 267.5 Q 141.8 267.9, 142.0 268.2 Q 142.2 268.5, 142.6 268.6 Q 142.9 268.8, 143.5 269.0 Q 144.3 269.2, 144.7 269.4 Q 145.2 269.7, 145.5 270.2 Q 145.9 270.7, 145.9 271.5 Q 145.9 272.7, 145.1 273.3 Q 144.3 273.9, 143.0 273.9 Q 142.2 273.9, 141.6 273.8 Q 141.1 273.6, 140.4 273.3 L 140.7 272.4 \" fill=\"#000000\"/>\n",
       "<path class=\"note\" d=\"M 149.5 265.2 Q 151.0 265.2, 151.7 265.8 Q 152.4 266.5, 152.4 267.7 Q 152.4 268.9, 151.7 269.5 Q 150.9 270.2, 149.5 270.2 L 148.1 270.2 L 148.1 273.7 L 147.0 273.7 L 147.0 265.2 L 149.5 265.2 M 149.5 269.2 Q 150.3 269.2, 150.8 268.8 Q 151.2 268.4, 151.2 267.7 Q 151.2 266.9, 150.8 266.5 Q 150.3 266.1, 149.5 266.1 L 148.1 266.1 L 148.1 269.2 L 149.5 269.2 \" fill=\"#000000\"/>\n",
       "<path class=\"note\" d=\"M 153.6 266.8 Q 153.9 266.0, 154.6 265.5 Q 155.4 265.1, 156.4 265.1 Q 157.7 265.1, 158.4 265.8 Q 159.1 266.5, 159.1 267.7 Q 159.1 269.0, 158.2 270.2 Q 157.3 271.3, 155.3 272.7 L 159.3 272.7 L 159.3 273.7 L 153.5 273.7 L 153.5 272.9 Q 155.1 271.8, 156.1 270.9 Q 157.0 270.1, 157.5 269.3 Q 157.9 268.6, 157.9 267.8 Q 157.9 267.0, 157.5 266.5 Q 157.1 266.0, 156.4 266.0 Q 155.7 266.0, 155.3 266.3 Q 154.8 266.6, 154.5 267.2 L 153.6 266.8 \" fill=\"#000000\"/>\n",
       "<path class=\"note\" d=\"M 241.0 133.4 Q 241.1 133.4, 241.5 133.6 Q 241.9 133.7, 242.4 133.8 Q 242.8 133.9, 243.2 133.9 Q 244.1 133.9, 244.5 133.6 Q 245.0 133.2, 245.0 132.5 Q 245.0 132.0, 244.8 131.7 Q 244.5 131.4, 244.2 131.3 Q 243.8 131.1, 243.2 130.9 Q 242.4 130.7, 242.0 130.5 Q 241.5 130.3, 241.2 129.8 Q 240.9 129.4, 240.9 128.6 Q 240.9 127.5, 241.6 126.9 Q 242.4 126.2, 243.8 126.2 Q 244.8 126.2, 245.9 126.7 L 245.6 127.6 Q 244.6 127.2, 243.8 127.2 Q 243.0 127.2, 242.5 127.5 Q 242.1 127.8, 242.1 128.4 Q 242.1 128.9, 242.3 129.2 Q 242.6 129.5, 242.9 129.6 Q 243.3 129.8, 243.8 129.9 Q 244.6 130.2, 245.1 130.4 Q 245.5 130.7, 245.8 131.2 Q 246.2 131.6, 246.2 132.5 Q 246.2 133.7, 245.4 134.3 Q 244.6 134.9, 243.3 134.9 Q 242.5 134.9, 242.0 134.7 Q 241.4 134.6, 240.7 134.3 L 241.0 133.4 \" fill=\"#000000\"/>\n",
       "<path class=\"note\" d=\"M 249.8 126.2 Q 251.3 126.2, 252.0 126.8 Q 252.7 127.5, 252.7 128.7 Q 252.7 129.8, 252.0 130.5 Q 251.2 131.2, 249.8 131.2 L 248.5 131.2 L 248.5 134.7 L 247.3 134.7 L 247.3 126.2 L 249.8 126.2 M 249.8 130.2 Q 250.7 130.2, 251.1 129.8 Q 251.5 129.4, 251.5 128.7 Q 251.5 127.9, 251.1 127.5 Q 250.7 127.1, 249.8 127.1 L 248.5 127.1 L 248.5 130.2 L 249.8 130.2 \" fill=\"#000000\"/>\n",
       "<path class=\"note\" d=\"M 253.9 127.8 Q 254.2 127.0, 254.9 126.5 Q 255.7 126.1, 256.7 126.1 Q 258.0 126.1, 258.7 126.8 Q 259.5 127.5, 259.5 128.7 Q 259.5 130.0, 258.5 131.1 Q 257.6 132.3, 255.7 133.7 L 259.6 133.7 L 259.6 134.7 L 253.9 134.7 L 253.9 133.9 Q 255.5 132.7, 256.4 131.9 Q 257.3 131.1, 257.8 130.3 Q 258.3 129.5, 258.3 128.8 Q 258.3 127.9, 257.9 127.5 Q 257.4 127.0, 256.7 127.0 Q 256.0 127.0, 255.6 127.3 Q 255.1 127.6, 254.8 128.2 L 253.9 127.8 \" fill=\"#000000\"/>\n",
       "<path class=\"note\" d=\"M 316.3 142.1 Q 316.4 142.1, 316.8 142.3 Q 317.2 142.4, 317.6 142.5 Q 318.1 142.6, 318.5 142.6 Q 319.3 142.6, 319.8 142.2 Q 320.2 141.8, 320.2 141.2 Q 320.2 140.7, 320.0 140.4 Q 319.8 140.1, 319.4 140.0 Q 319.0 139.8, 318.4 139.6 Q 317.7 139.4, 317.2 139.2 Q 316.8 139.0, 316.5 138.5 Q 316.1 138.0, 316.1 137.3 Q 316.1 136.2, 316.9 135.5 Q 317.6 134.9, 319.0 134.9 Q 320.0 134.9, 321.2 135.3 L 320.9 136.3 Q 319.9 135.9, 319.1 135.9 Q 318.2 135.9, 317.8 136.2 Q 317.3 136.5, 317.3 137.1 Q 317.3 137.6, 317.6 137.9 Q 317.8 138.1, 318.2 138.3 Q 318.5 138.5, 319.1 138.6 Q 319.9 138.9, 320.3 139.1 Q 320.8 139.4, 321.1 139.8 Q 321.4 140.3, 321.4 141.2 Q 321.4 142.3, 320.6 143.0 Q 319.9 143.6, 318.5 143.6 Q 317.8 143.6, 317.2 143.4 Q 316.6 143.3, 316.0 143.0 L 316.3 142.1 \" fill=\"#000000\"/>\n",
       "<path class=\"note\" d=\"M 325.1 134.9 Q 326.5 134.9, 327.3 135.5 Q 328.0 136.2, 328.0 137.4 Q 328.0 138.5, 327.2 139.2 Q 326.5 139.9, 325.1 139.9 L 323.7 139.9 L 323.7 143.4 L 322.5 143.4 L 322.5 134.9 L 325.1 134.9 M 325.1 138.9 Q 325.9 138.9, 326.3 138.5 Q 326.8 138.1, 326.8 137.4 Q 326.8 136.6, 326.3 136.2 Q 325.9 135.8, 325.1 135.8 L 323.7 135.8 L 323.7 138.9 L 325.1 138.9 \" fill=\"#000000\"/>\n",
       "<path class=\"note\" d=\"M 329.1 136.5 Q 329.4 135.7, 330.2 135.2 Q 330.9 134.8, 332.0 134.8 Q 333.3 134.8, 334.0 135.5 Q 334.7 136.2, 334.7 137.4 Q 334.7 138.7, 333.8 139.8 Q 332.8 141.0, 330.9 142.4 L 334.9 142.4 L 334.9 143.4 L 329.1 143.4 L 329.1 142.6 Q 330.7 141.4, 331.6 140.6 Q 332.6 139.8, 333.0 139.0 Q 333.5 138.2, 333.5 137.5 Q 333.5 136.6, 333.1 136.2 Q 332.7 135.7, 332.0 135.7 Q 331.3 135.7, 330.8 136.0 Q 330.4 136.3, 330.0 136.9 L 329.1 136.5 \" fill=\"#000000\"/>\n",
       "</svg>"
      ],
      "text/plain": [
       "<IPython.core.display.SVG object>"
      ]
     },
     "metadata": {},
     "output_type": "display_data"
    }
   ],
   "source": [
    "# example d'application\n",
    "histidine = easy_rdkit(\"c2ccc(c1ccccn1)nc2\")\n",
    "histidine.show_mol(show_hybrid=True,plot_conjugation=True)"
   ]
  },
  {
   "cell_type": "code",
   "execution_count": 50,
   "id": "1603ba68-74f0-4468-8e02-3f4f2358ddae",
   "metadata": {},
   "outputs": [
    {
     "name": "stdout",
     "output_type": "stream",
     "text": [
      "Help on function show_mol in module __main__:\n",
      "\n",
      "show_mol(self, size: tuple = (400, 400), show_Lewis: bool = False, plot_conjugation: bool = False, plot_aromatic: bool = False, show_n: bool = False, show_hybrid: bool = False, show_H: bool = False, rep3D: bool = False, highlightAtoms: list = [], legend: str = '')\n",
      "    Exploite les outils d'affichage 2D de RDKit, et permet de superposer certaines propriétés\n",
      "    Ne peut afficher qu'une molécule à la fois\n",
      "    - size : dimension de la figure en pixels (défaut : 400x400)\n",
      "    - show_Lewis : analyse la structure de Lewis et ajout de labels sur chaque atome (défaut : False)\n",
      "    - plot_conjugation : surligne les liaisons conjuguées (défaut : False)\n",
      "    - plot_aromatic : surligne les atomes et liaisons des fragments moléculaires aromatiques (défaut : False)\n",
      "    - show_n : ajoute le numéro de chaque atome (défaut : False)\n",
      "    - show_hybrid : ajoute l'état d'hybridation des atomes non terminaux (défaut : False)\n",
      "    - show_H : ajoute les hydrogènes, considérés comme implicites par défaut (défaut : False)\n",
      "    - rep3D : pseudo dessin 3D qui prend en compte les conflits stériques entre atomes (défaut : False). Active show_H à True \n",
      "    - highlightAtoms : liste des numéros des atomes qu'on souhaite surligner\n",
      "    - legend : ajoute le contenu de la variable comme légende du dessin\n",
      "\n"
     ]
    }
   ],
   "source": [
    "# documentation de show_mol, pour voir les autres options de show_mol\n",
    "help(easy_rdkit.show_mol)"
   ]
  },
  {
   "cell_type": "markdown",
   "id": "e6bbb83d-8e28-42ed-b8de-7e7ee162052a",
   "metadata": {},
   "source": [
    "#### Exemples d'utilisation de la classe `easy_rdkit`"
   ]
  },
  {
   "cell_type": "markdown",
   "id": "2281ce00-4520-459b-8d89-cf0a46cc0726",
   "metadata": {},
   "source": [
    "<div class=\"ex\" title=\"Utilisation de la classe easy_rdkit\">\n",
    "\n",
    "Cet exercice s'adresse à tou(te)s\n",
    "\n",
    "**1.** Lire le sujet de l'exercice précédent, ainsi que la documentation de la fonction `show_mol()` qui est intégrée à son code Python et qui a été affichée par `help(easy_rdkit.show_mol)`. Exécuter ensuite la cellule qui contient la classe `easy_rdkit`, et enfin appliquer la classe au cas de l'histidine\n",
    "\n",
    "**2.** Le code SMILES de la molécule de paracétamol, composé chimique bien connu utilisé comme antalgique (anti-douleur) et antipyrétique (anti-fièvre), est : `CC(=O)NC1=CC=C(C=C1)O`.\n",
    "- créer un objet `mol` à l'aide de la classe `easy_rdkit`\n",
    "- afficher la molécule, à l'aide de la fonction `show_mol` de la classe `easy_rdkit`, en y ajoutant d'éventuels fragments moléculaires aromatiques\n",
    "- afficher à nouveau la molécule en y soulignant le(s) système(s) conjugué(s) éventuellement trouvés par `RDKit` et en ajoutant les hydrogènes\n",
    "\n",
    "<div style=\"color:#4a7d93\">\n",
    "    \n",
    "<u>**Compétences Python travaillées**:</u>\n",
    "    \n",
    "- exploiter une classe de \"macro-commandes\" exploitant une ou plusieurs bibliothèques Python\n",
    "- lire la documentation d'une classe ou de ses fonctions (si elle est bien faite, il n'est pas utile de d'analyser le code Python pour comprendre ce que fait la fonction)\n",
    "\n",
    "</div>\n",
    "</div>"
   ]
  },
  {
   "cell_type": "code",
   "execution_count": 51,
   "id": "8b09a533-5c06-4c69-b36c-a86fb01a78c9",
   "metadata": {},
   "outputs": [],
   "source": [
    "# entrez votre code dans cette cellule \"Python\"\n",
    "\n",
    "#Q2\n"
   ]
  },
  {
   "cell_type": "markdown",
   "id": "5af03379-9452-4591-9785-c7eac2123072",
   "metadata": {},
   "source": [
    "<div class=\"solFr\">\n",
    "\n",
    "Vous voulez une solution possible à cet exercice ? Décommentez la commande `# %load ./SolutionsToExercises/...` ci-dessous (*il faut exécuter deux fois le contenu de la cellule : la première fois pour charger le contenu du fichier python et la deuxième pour exécuter le code python qui a été charge*) \n",
    "\n",
    "</div>"
   ]
  },
  {
   "cell_type": "code",
   "execution_count": 52,
   "id": "eb4ca8a3-558f-4a45-b5df-890694209320",
   "metadata": {
    "tags": []
   },
   "outputs": [],
   "source": [
    "# %load ./SolutionsToExercises/CTM/rdkit_paracetamol.py"
   ]
  },
  {
   "cell_type": "markdown",
   "id": "7d9355f7-9647-4846-bfeb-9b9debc70e1d",
   "metadata": {},
   "source": [
    "### Structures de Lewis"
   ]
  },
  {
   "cell_type": "markdown",
   "id": "c9516d97-8ee3-4384-8e58-d72461bbb332",
   "metadata": {},
   "source": [
    "<div class=\"ex\">\n",
    "\n",
    "Dans cette partie, vous pouvez entrer une molécule sous forme de **SMILES**  et le script calcule et produit automatiquement :  \n",
    "- les doublets non liants,  \n",
    "- les lacunes électroniques,  \n",
    "- un schéma annoté de la molécule,  \n",
    "- et des warnings si la règle de l’octet est dépassée ou si le SMILES n'est pas valide.  \n",
    "\n",
    "Voici quelques exemples que vous pouvez tester\n",
    "- Eau : `O`  \n",
    "- Ammoniac : `N`  \n",
    "- Dioxygène : `O=O`  \n",
    "- Trifluorure de bore : `B(F)(F)(F)` (exemple de composé où B est **déficient en électrons**)\n",
    "- Dioxyde de carbone : `O=C=O`  \n",
    "- Hexafluorure de soufre : `S(F)(F)(F)(F)(F)(F)` (exemple de composé où S est **hypervalent**)\n",
    "- l'iodure de méthylmagnésium : `[CH3][Mg][I]` (exemple de composé où Mg est **déficient en électrons**)\n",
    "\n",
    "</div>"
   ]
  },
  {
   "cell_type": "code",
   "execution_count": 53,
   "id": "54256b11",
   "metadata": {},
   "outputs": [],
   "source": [
    "# entrez votre code dans cette cellule \"Python\"\n",
    "\n"
   ]
  },
  {
   "cell_type": "markdown",
   "id": "c1d6df34-3d03-44f2-b20b-d78a219d6f3b",
   "metadata": {},
   "source": [
    "<div class=\"solFr\">\n",
    "\n",
    "Vous voulez une solution possible à cet exercice ? Décommentez la commande `# %load ./SolutionsToExercises/...` ci-dessous (*il faut exécuter deux fois le contenu de la cellule : la première fois pour charger le contenu du fichier python et la deuxième pour exécuter le code python qui a été charge*) \n",
    "\n",
    "</div>"
   ]
  },
  {
   "cell_type": "code",
   "execution_count": 54,
   "id": "6dee6252",
   "metadata": {
    "tags": []
   },
   "outputs": [],
   "source": [
    "# %load ./SolutionsToExercises/CTM/rdkit_Lewis_simple.py"
   ]
  },
  {
   "cell_type": "markdown",
   "id": "2c1777c5-09bb-4a4f-a45a-821226f99da8",
   "metadata": {},
   "source": [
    "<div class=\"ex\">\n",
    "\n",
    "Entrez le SMILES de la molécule de monoxyde de carbone. On rappelle que le code pour une liaison triple est #.\n",
    "\n",
    "En cas d'affichage d'un message d'erreur, peut-être est-ce le SMILES qui est incorrect. Consultez le cours et les TD, ainsi que la [page PubChem du monoxyde de carbone](https://pubchem.ncbi.nlm.nih.gov/compound/Carbon-Monoxide#section=Names-and-Identifiers), où vous trouverez le SMILES correct\n",
    "\n",
    "</div>"
   ]
  },
  {
   "cell_type": "code",
   "execution_count": 55,
   "id": "6d2b7558-e753-48a6-a7c6-bdce0b8ca517",
   "metadata": {},
   "outputs": [],
   "source": [
    "# entrez votre code dans cette cellule \"Python\"\n",
    "\n"
   ]
  },
  {
   "cell_type": "markdown",
   "id": "8cd5b4d0-66b7-4acf-9219-f1923eb26ba7",
   "metadata": {},
   "source": [
    "<div class=\"solFr\">\n",
    "\n",
    "Vous voulez une solution possible à cet exercice ? Décommentez la commande `# %load ./SolutionsToExercises/...` ci-dessous (*il faut exécuter deux fois le contenu de la cellule : la première fois pour charger le contenu du fichier python et la deuxième pour exécuter le code python qui a été charge*) \n",
    "\n",
    "</div>"
   ]
  },
  {
   "cell_type": "code",
   "execution_count": 56,
   "id": "99e667cd-051c-4d8a-9721-8e58749be2a0",
   "metadata": {
    "tags": []
   },
   "outputs": [],
   "source": [
    "# %load ./SolutionsToExercises/CTM/rdkit_Lewis_CO.py"
   ]
  },
  {
   "cell_type": "markdown",
   "id": "cdc81825-2376-44e2-8a3f-225e6823447b",
   "metadata": {},
   "source": [
    "<div class=\"ex\">\n",
    "\n",
    "Entrez le SMILES des molécules suivantes\n",
    "\n",
    "- l'acide phosphorique, `\"P(=O)(O)(O)(O)\"`\n",
    "- le tétrafluorure de xénon, `\"[Xe](F)(F)(F)(F)\"`\n",
    "- la molécule de purine, `\"C1=C2C(=NC=N1)N=CN2\"`\n",
    "- le tétrafluoroborate, BF<sub>4</sub><sup>–</sup>\n",
    "\n",
    "</div>"
   ]
  },
  {
   "cell_type": "code",
   "execution_count": 57,
   "id": "ec4aa910-d5fa-4341-a4be-c1aa4a043ea3",
   "metadata": {},
   "outputs": [],
   "source": [
    "# entrez votre code dans cette cellule \"Python\"\n",
    "\n"
   ]
  },
  {
   "cell_type": "markdown",
   "id": "e8fa0a1a-9a90-4ff6-88e9-1fbbf9bab3a0",
   "metadata": {},
   "source": [
    "<div class=\"solFr\">\n",
    "\n",
    "Vous voulez une solution possible à cet exercice ? Décommentez la commande `# %load ./SolutionsToExercises/...` ci-dessous (*il faut exécuter deux fois le contenu de la cellule : la première fois pour charger le contenu du fichier python et la deuxième pour exécuter le code python qui a été charge*) \n",
    "\n",
    "</div>"
   ]
  },
  {
   "cell_type": "code",
   "execution_count": 58,
   "id": "ff791a89-2cc7-4f16-a977-f71270bdf3b8",
   "metadata": {
    "tags": []
   },
   "outputs": [],
   "source": [
    "# %load ./SolutionsToExercises/CTM/rdkit_Lewis_autres.py"
   ]
  },
  {
   "cell_type": "markdown",
   "id": "3b158411-2def-4275-b0e3-e36a3f938f4e",
   "metadata": {},
   "source": [
    "### Conjugaison\n",
    "\n",
    "<div class=\"ex\" title=\" Liaisons π localisées et délocalisées\">\n",
    "\n",
    "On considère les composés suivants :\n",
    "\n",
    "<img src=\"MiscImages/Exercises/pi-localisés-délocalisés.png\" style=\"margin-left:auto; margin-right:auto; display: block; width:400px\" id=\"img_MolConji\" alt=\"systèmes pi conjugués ou non?\"/>\n",
    "\n",
    "**1.** Identifiez, d'après vos connaissances, ceux dont les liaisons π sont localisées ou délocalisées.\n",
    "\n",
    "**2.** Vérifiez graphiquement vos réponses à l'aide de la fonction `show_mol()` de `rdkit_madeSimpler`, sachant que leurs codes SMILES sont : \n",
    "- 1: `C=CC=C`\n",
    "- 2 : `C/C=C/C`\n",
    "- 3 : `C=CCC=C`\n",
    "- 4 : `C1C=CC=C1`\n",
    "- 5 : `C1CC=CC1`\n",
    "- 6 : `C1C(C=CC1=C)=C`\n",
    "- 7 : `C1CCC=CC1`\n",
    "- 8 : `C1=CC=CC=C1`\n",
    "\n",
    "Indiquer le numéro du composé dans la légende de chaque schéma.\n",
    "\n",
    "**3.** Affichez les états d'hybridation des composés 3 et 6.\n",
    "</div>"
   ]
  },
  {
   "cell_type": "code",
   "execution_count": 59,
   "id": "640685a9-0cb5-4efe-b417-549dbe059176",
   "metadata": {},
   "outputs": [],
   "source": [
    "# entrez votre code dans cette cellule \"Python\"\n",
    "\n",
    "#Q2\n",
    "\n",
    "#Q3\n"
   ]
  },
  {
   "cell_type": "markdown",
   "id": "dadf3ab1-ee27-4285-8595-ed6734eb23f5",
   "metadata": {},
   "source": [
    "<div class=\"solFr\">\n",
    "\n",
    "Vous voulez une solution possible à cet exercice ? Décommentez la commande `# %load ./SolutionsToExercises/...` ci-dessous (*il faut exécuter deux fois le contenu de la cellule : la première fois pour charger le contenu du fichier python et la deuxième pour exécuter le code python qui a été charge*) \n",
    "\n",
    "</div>"
   ]
  },
  {
   "cell_type": "code",
   "execution_count": 60,
   "id": "380b24da-1f26-44d6-a758-2451207e835a",
   "metadata": {
    "tags": []
   },
   "outputs": [],
   "source": [
    "# %load ./SolutionsToExercises/CTM/rdkit_piLocDeloc.py"
   ]
  },
  {
   "cell_type": "markdown",
   "id": "2951c475-b956-4666-b4da-84890ae2354e",
   "metadata": {},
   "source": [
    "## Want to know more about Python?\n",
    "\n",
    "<div class=\"intro\">\n",
    "\n",
    "- [\"Python in the Physical Chemistry Lab (PPCL)\" in a nutshell (pyPhysChem)/Eng](./PPCL.ipynb). Écrit dans un contexte physico-chimique et pour un apprentissage progressif, et un peu superficiel. Des tas de notions ne sont pas abordées, mais c'est un bon point de départ pour survoler le sujet\n",
    "- Le tutoriel python de référence :\n",
    "    - [en Français](https://docs.python.org/fr/3/tutorial/)\n",
    "    - [in English](https://docs.python.org/3/tutorial/index.html)\n",
    "</div>"
   ]
  },
  {
   "cell_type": "markdown",
   "id": "2855956b-abbf-4d22-a9f5-ca87559bd04a",
   "metadata": {},
   "source": [
    "## Fin... provisoire"
   ]
  },
  {
   "cell_type": "code",
   "execution_count": 61,
   "id": "d8a65063-d6e4-4da5-b5f3-8c809f9545aa",
   "metadata": {},
   "outputs": [
    {
     "name": "stdout",
     "output_type": "stream",
     "text": [
      "Ceci est la version 20250915\n"
     ]
    }
   ],
   "source": [
    "print(f\"Ceci est la version {__version__}\")"
   ]
  },
  {
   "cell_type": "code",
   "execution_count": 62,
   "id": "8320ad0b-06ee-4903-bca4-2aa28e0b5985",
   "metadata": {},
   "outputs": [
    {
     "data": {
      "text/markdown": [
       "**End at:** Friday 12 September 2025, 21:17:32  \n",
       "**Duration:** 00:00:04 547ms"
      ],
      "text/plain": [
       "<IPython.core.display.Markdown object>"
      ]
     },
     "metadata": {},
     "output_type": "display_data"
    },
    {
     "data": {
      "text/markdown": [
       "<p style=\"text-align: center\"><img width=\"800px\" src=\"./config/svg/logoEnd.svg\" style=\"margin-left:auto; margin-right:auto\"/></p>"
      ],
      "text/plain": [
       "<IPython.core.display.Markdown object>"
      ]
     },
     "metadata": {},
     "output_type": "display_data"
    }
   ],
   "source": [
    "vID.end(cwd0)"
   ]
  },
  {
   "cell_type": "code",
   "execution_count": null,
   "id": "6305ecf5-d785-4012-8bb2-74ac91218794",
   "metadata": {},
   "outputs": [],
   "source": []
  }
 ],
 "metadata": {
  "kernelspec": {
   "display_name": "Python 3 (ipykernel)",
   "language": "python",
   "name": "python3"
  },
  "language_info": {
   "codemirror_mode": {
    "name": "ipython",
    "version": 3
   },
   "file_extension": ".py",
   "mimetype": "text/x-python",
   "name": "python",
   "nbconvert_exporter": "python",
   "pygments_lexer": "ipython3",
   "version": "3.11.13"
  }
 },
 "nbformat": 4,
 "nbformat_minor": 5
}
