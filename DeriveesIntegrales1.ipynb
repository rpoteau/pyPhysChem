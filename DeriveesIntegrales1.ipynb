{
 "cells": [
  {
   "cell_type": "code",
   "execution_count": 1,
   "id": "269396e1-4699-46d7-b7bc-8ef342174c94",
   "metadata": {},
   "outputs": [
    {
     "name": "stdout",
     "output_type": "stream",
     "text": [
      "/home/romuald/ENSEIGNEMENT/0-JupyterNotebooks/pyPhysChem\n"
     ]
    },
    {
     "data": {
      "text/html": [
       "<style>\n",
       "h1, h2, h3, h4, h5, h6 {\n",
       "  font-family: Verdana, \"DejaVu Sans\", \"Bitstream Vera Sans\", Geneva, sans-serif;\n",
       "  font-weight: bold;\n",
       "}\n",
       "body, ex, exE {\n",
       "  font-family: Verdana, \"DejaVu Sans\", \"Bitstream Vera Sans\", Geneva, sans-serif;\n",
       "  font-weight: 200;\n",
       "}\n",
       "h1 {\n",
       "  border: 0 solid #333;\n",
       "  padding: 30px ;\n",
       "  color: white;\n",
       "  background: #b11d01;\n",
       "  text-align: center;\n",
       "}\n",
       "h2 {\n",
       "  border: 3px solid #333;\n",
       "  padding: 18px ;\n",
       "  color: #b11d01;\n",
       "  background: #ffffff;\n",
       "  text-align: center;\n",
       "}\n",
       "h3 {\n",
       "  border: 0 solid #333;\n",
       "  padding: 12px ;\n",
       "  color: #000000;\n",
       "  background: #c1c1c1;\n",
       "  text-align: left;\n",
       "}\n",
       "h4 {\n",
       "  border: 0 solid #333;\n",
       "  padding: 2px ;\n",
       "  color: #000000;\n",
       "  background: #d9fffc;\n",
       "  text-align: left;\n",
       "}\n",
       "h5 {\n",
       "  border: 1px solid #333;\n",
       "  padding: 2px ;\n",
       "  color: #000000;\n",
       "  background: #ffffff;\n",
       "  text-align: left;\n",
       "}\n",
       ".intro {    \n",
       "    background-color: #f1f1f1;\n",
       "    border-color: #969696;\n",
       "    border-left: 5px solid #969696;\n",
       "    padding: 0.5em;\n",
       "    font-weight: 200;\n",
       "    }\n",
       ".introE {    \n",
       "    background-color: #f1f1f1;\n",
       "    border-color: #969696;\n",
       "    border-left: 5px solid #969696;\n",
       "    padding: 0.5em;\n",
       "    font-weight: 200;\n",
       "    color : #117996;\n",
       "    }\n",
       ".rq {    \n",
       "    background-color: #fcf2f2;\n",
       "    border-color: #dFb5b4;\n",
       "    border-left: 5px solid #dfb5b4;\n",
       "    padding: 0.5em;\n",
       "    font-weight: 200;\n",
       "    }\n",
       ".rqE {    \n",
       "    background-color: #fcf2f2;\n",
       "    border-color: #dFb5b4;\n",
       "    border-left: 5px solid #dfb5b4;\n",
       "    padding: 0.5em;\n",
       "    font-weight: 200;\n",
       "    color : #117996;\n",
       "    }\n",
       ".exold {    \n",
       "    background-color: #b2dbea80;\n",
       "    border-color: #0055ff;\n",
       "    border-left: 10px solid #0055ff;\n",
       "    padding: 0.5em;\n",
       "    font-weight: 200;\n",
       "    }\n",
       ".ex {    \n",
       "    background-color: #b2dbea80;\n",
       "    padding: 0.5em;\n",
       "    padding-top: 0em;\n",
       "    font-weight: 200;\n",
       "    position:relative;\n",
       "    }\n",
       ".ex::before {\n",
       "    background-color: #b2dbea;\n",
       "    content:\"Exercice\";\n",
       "    margin-left:-0.5em;\n",
       "    margin-right:-0.5em;\n",
       "    padding-left:0.5em;\n",
       "    padding-right:0.5em;\n",
       "    font-weight: 600;\n",
       "    display: block;\n",
       "    }\n",
       ".exE {    \n",
       "    background-color: #b2dbea80;\n",
       "    padding: 0.5em;\n",
       "    padding-top: 0em;\n",
       "    font-weight: 200;\n",
       "    position:relative;\n",
       "    color : #117996;\n",
       "    }\n",
       ".exE::before {\n",
       "    background-color: #b2dbea;\n",
       "    content:\"Exercise\";\n",
       "    margin-left:-0.5em;\n",
       "    margin-right:-0.5em;\n",
       "    padding-left:0.5em;\n",
       "    padding-right:0.5em;\n",
       "    font-weight: 600;\n",
       "    display: block;\n",
       "    color : #117996;\n",
       "    }\n",
       ".app {    \n",
       "    background-color: #b2dbea80;\n",
       "    padding: 0.5em;\n",
       "    padding-top: 0em;\n",
       "    font-weight: 200;\n",
       "    position:relative;\n",
       "    }\n",
       ".app::before {\n",
       "    background-color: #b2dbea;\n",
       "    content:\"Application\";\n",
       "    margin-left:-0.5em;\n",
       "    margin-right:-0.5em;\n",
       "    padding-left:0.5em;\n",
       "    padding-right:0.5em;\n",
       "    font-weight: 600;\n",
       "    display: block;\n",
       "    }\n",
       ".appE {    \n",
       "    background-color: #b2dbea80;\n",
       "    padding: 0.5em;\n",
       "    padding-top: 0em;\n",
       "    font-weight: 200;\n",
       "    color : #117996;\n",
       "    position:relative;\n",
       "    }\n",
       ".appE::before {\n",
       "    background-color: #b2dbea;\n",
       "    content:\"Application\";\n",
       "    margin-left:-0.5em;\n",
       "    margin-right:-0.5em;\n",
       "    padding-left:0.5em;\n",
       "    padding-right:0.5em;\n",
       "    font-weight: 600;\n",
       "    color : #117996;\n",
       "    display: block;\n",
       "    }\n",
       "</style>\n"
      ],
      "text/plain": [
       "<IPython.core.display.HTML object>"
      ]
     },
     "metadata": {},
     "output_type": "display_data"
    },
    {
     "data": {
      "text/markdown": [
       "**Start at:** Saturday 08 July 2023, 17:07:22  \n",
       "**Hostname:** ip-sw-install-nico.insa-toulouse.fr (Linux)"
      ],
      "text/plain": [
       "<IPython.core.display.Markdown object>"
      ]
     },
     "metadata": {},
     "output_type": "display_data"
    },
    {
     "data": {
      "text/markdown": [
       "<p style=\"text-align: center\"><img width=\"800px\" src=\"./config/svg/pyPhysChemBanner.svg\" style=\"margin-left:auto; margin-right:auto\"/></p>"
      ],
      "text/plain": [
       "<IPython.core.display.Markdown object>"
      ]
     },
     "metadata": {},
     "output_type": "display_data"
    }
   ],
   "source": [
    "import os\n",
    "import sys\n",
    "\n",
    "print(os.getcwd())\n",
    "cwd0 = './config/'\n",
    "sys.path.append(cwd0)\n",
    "\n",
    "import visualID_Eng as vID\n",
    "from visualID_Eng import color\n",
    "vID.init(cwd0)\n",
    "import tools4pyPhysChem as t4pPC"
   ]
  },
  {
   "cell_type": "markdown",
   "id": "a1b3496a-7f24-4bef-ae7c-617f267ab7ad",
   "metadata": {
    "tags": []
   },
   "source": [
    "# Dérivées et intégrales<br>**work in progress....**\n",
    "\n",
    "## **1.** Introduction  \n",
    "\n"
   ]
  },
  {
   "cell_type": "markdown",
   "id": "5648866f-8941-4756-9f3f-0d9fb546eb7d",
   "metadata": {},
   "source": [
    "### **1.1.** Dérivées et intégrales ? Rafraîchissons-nous la mémoire avec un point de vue simple"
   ]
  },
  {
   "cell_type": "markdown",
   "id": "02430379-dcd0-4d0f-8df8-ff0a2515e4cd",
   "metadata": {},
   "source": [
    "#### **1.1.a.** Qu'est-ce qu'une dérivée d'une fonction ?"
   ]
  },
  {
   "cell_type": "markdown",
   "id": "7f7de407-02a0-4f3e-b0f4-216f3d2119c5",
   "metadata": {},
   "source": [
    "#### **1.1.b.** Qu'est-ce qu'une intégrale d'une fonction?"
   ]
  },
  {
   "cell_type": "code",
   "execution_count": 2,
   "id": "18afd352-4dfb-40a8-b050-a3ad305e3863",
   "metadata": {},
   "outputs": [],
   "source": [
    "%matplotlib inline\n",
    "import numpy as np\n",
    "import matplotlib.pyplot as plt"
   ]
  },
  {
   "cell_type": "markdown",
   "id": "dbc59925-c398-4af8-925d-7d07aeef3d4c",
   "metadata": {
    "tags": []
   },
   "source": [
    "## **2.** Dérivées"
   ]
  },
  {
   "cell_type": "markdown",
   "id": "f813f8f8-6fee-4e42-8a64-0bc56d191c68",
   "metadata": {},
   "source": [
    "On va tout au long de ce paragraphe étudier trois fonctions simples :\n",
    "\n",
    "$f_1(x)=x^2$\n",
    "\n",
    "$f_2(x)=\\sin(x)$\n",
    "\n",
    "$f_3(x)=x^3+x^2-x$"
   ]
  },
  {
   "cell_type": "code",
   "execution_count": 3,
   "id": "74797da0-e494-40c1-bce9-e118e79f8c44",
   "metadata": {},
   "outputs": [],
   "source": [
    "def f1(x):\n",
    "    return x**2\n",
    "\n",
    "def f2(x):\n",
    "    return np.sin(x)\n",
    "\n",
    "def f3(x):\n",
    "    return x**3+x**2-x"
   ]
  },
  {
   "cell_type": "markdown",
   "id": "144541e0-96fc-4512-a630-bf992948b044",
   "metadata": {
    "tags": []
   },
   "source": [
    "### **2.1.** Dérivée numérique"
   ]
  },
  {
   "cell_type": "code",
   "execution_count": 4,
   "id": "34140863-4d33-4ad1-b85c-0ed4f23549f7",
   "metadata": {},
   "outputs": [
    {
     "name": "stdout",
     "output_type": "stream",
     "text": [
      "\u001b[91mf1\u001b[0m\n",
      "6.0\n",
      "0.0\n",
      "-6.0\n",
      "\u001b[91mf2\u001b[0m\n",
      "-0.833049961066805\n",
      "0.8414709848078965\n",
      "-0.833049961066805\n",
      "\u001b[91mf3\u001b[0m\n",
      "33.0\n",
      "0.0\n",
      "21.0\n"
     ]
    },
    {
     "name": "stderr",
     "output_type": "stream",
     "text": [
      "/tmp/ipykernel_28083/3210042646.py:4: DeprecationWarning: scipy.misc.derivative is deprecated in SciPy v1.10.0; and will be completely removed in SciPy v1.12.0. You may consider using findiff: https://github.com/maroba/findiff or numdifftools: https://github.com/pbrod/numdifftools\n",
      "  print(df(f1,3,dx=1))\n",
      "/tmp/ipykernel_28083/3210042646.py:5: DeprecationWarning: scipy.misc.derivative is deprecated in SciPy v1.10.0; and will be completely removed in SciPy v1.12.0. You may consider using findiff: https://github.com/maroba/findiff or numdifftools: https://github.com/pbrod/numdifftools\n",
      "  print(df(f1,0,dx=1))\n",
      "/tmp/ipykernel_28083/3210042646.py:6: DeprecationWarning: scipy.misc.derivative is deprecated in SciPy v1.10.0; and will be completely removed in SciPy v1.12.0. You may consider using findiff: https://github.com/maroba/findiff or numdifftools: https://github.com/pbrod/numdifftools\n",
      "  print(df(f1,-3,dx=1))\n",
      "/tmp/ipykernel_28083/3210042646.py:8: DeprecationWarning: scipy.misc.derivative is deprecated in SciPy v1.10.0; and will be completely removed in SciPy v1.12.0. You may consider using findiff: https://github.com/maroba/findiff or numdifftools: https://github.com/pbrod/numdifftools\n",
      "  print(df(f2,3,dx=1))\n",
      "/tmp/ipykernel_28083/3210042646.py:9: DeprecationWarning: scipy.misc.derivative is deprecated in SciPy v1.10.0; and will be completely removed in SciPy v1.12.0. You may consider using findiff: https://github.com/maroba/findiff or numdifftools: https://github.com/pbrod/numdifftools\n",
      "  print(df(f2,0,dx=1))\n",
      "/tmp/ipykernel_28083/3210042646.py:10: DeprecationWarning: scipy.misc.derivative is deprecated in SciPy v1.10.0; and will be completely removed in SciPy v1.12.0. You may consider using findiff: https://github.com/maroba/findiff or numdifftools: https://github.com/pbrod/numdifftools\n",
      "  print(df(f2,-3,dx=1))\n",
      "/tmp/ipykernel_28083/3210042646.py:12: DeprecationWarning: scipy.misc.derivative is deprecated in SciPy v1.10.0; and will be completely removed in SciPy v1.12.0. You may consider using findiff: https://github.com/maroba/findiff or numdifftools: https://github.com/pbrod/numdifftools\n",
      "  print(df(f3,3,dx=1))\n",
      "/tmp/ipykernel_28083/3210042646.py:13: DeprecationWarning: scipy.misc.derivative is deprecated in SciPy v1.10.0; and will be completely removed in SciPy v1.12.0. You may consider using findiff: https://github.com/maroba/findiff or numdifftools: https://github.com/pbrod/numdifftools\n",
      "  print(df(f3,0,dx=1))\n",
      "/tmp/ipykernel_28083/3210042646.py:14: DeprecationWarning: scipy.misc.derivative is deprecated in SciPy v1.10.0; and will be completely removed in SciPy v1.12.0. You may consider using findiff: https://github.com/maroba/findiff or numdifftools: https://github.com/pbrod/numdifftools\n",
      "  print(df(f3,-3,dx=1))\n",
      "/tmp/ipykernel_28083/3210042646.py:27: DeprecationWarning: scipy.misc.derivative is deprecated in SciPy v1.10.0; and will be completely removed in SciPy v1.12.0. You may consider using findiff: https://github.com/maroba/findiff or numdifftools: https://github.com/pbrod/numdifftools\n",
      "  graph[f1].plot(x,df(f1,x,dx=1),linewidth=2,color='blue',linestyle=\"--\",label=\"df(x)/dx\")\n",
      "/tmp/ipykernel_28083/3210042646.py:34: DeprecationWarning: scipy.misc.derivative is deprecated in SciPy v1.10.0; and will be completely removed in SciPy v1.12.0. You may consider using findiff: https://github.com/maroba/findiff or numdifftools: https://github.com/pbrod/numdifftools\n",
      "  graph[f2].plot(x,df(f2,x,dx=1),linewidth=2,color='blue',linestyle=\"--\",label=\"df(x)/dx\")\n",
      "/tmp/ipykernel_28083/3210042646.py:41: DeprecationWarning: scipy.misc.derivative is deprecated in SciPy v1.10.0; and will be completely removed in SciPy v1.12.0. You may consider using findiff: https://github.com/maroba/findiff or numdifftools: https://github.com/pbrod/numdifftools\n",
      "  graph[f3].plot(x,df(f3,x,dx=1),linewidth=2,color='blue',linestyle=\"--\",label=\"df(x)/dx\")\n"
     ]
    },
    {
     "data": {
      "text/plain": [
       "<matplotlib.legend.Legend at 0x7fc033f08f50>"
      ]
     },
     "execution_count": 4,
     "metadata": {},
     "output_type": "execute_result"
    },
    {
     "data": {
      "image/png": "[encoded data removed]",
      "text/plain": [
       "<Figure size 1200x400 with 3 Axes>"
      ]
     },
     "metadata": {},
     "output_type": "display_data"
    }
   ],
   "source": [
    "from scipy.misc import derivative as df\n",
    "\n",
    "print(f\"{color.RED}f1{color.OFF}\")\n",
    "print(df(f1,3,dx=1))\n",
    "print(df(f1,0,dx=1))\n",
    "print(df(f1,-3,dx=1))\n",
    "print(f\"{color.RED}f2{color.OFF}\")\n",
    "print(df(f2,3,dx=1))\n",
    "print(df(f2,0,dx=1))\n",
    "print(df(f2,-3,dx=1))\n",
    "print(f\"{color.RED}f3{color.OFF}\")\n",
    "print(df(f3,3,dx=1))\n",
    "print(df(f3,0,dx=1))\n",
    "print(df(f3,-3,dx=1))\n",
    "\n",
    "xmin = -2*np.pi\n",
    "xmax = 2*np.pi\n",
    "npt = 100\n",
    "# génération de npt points équirépartis entre xmin et xmax\n",
    "x = np.linspace(xmin,xmax,npt)\n",
    "\n",
    "plt.rcParams.update({'font.size': 14})\n",
    "mosaic = [[f1,f2,f3]]\n",
    "fig, graph = plt.subplot_mosaic(mosaic, constrained_layout=False,figsize=(12,4),sharex=False,sharey=False)\n",
    "\n",
    "graph[f1].plot(x, f1(x),linewidth=2,color='red',label=\"f(x)\")\n",
    "graph[f1].plot(x,df(f1,x,dx=1),linewidth=2,color='blue',linestyle=\"--\",label=\"df(x)/dx\")\n",
    "graph[f1].set_title(\"$f_1(x)=x^2$\", fontsize=14, color=\"black\")\n",
    "graph[f1].axvline(x = 0, color = '0.7',linestyle='--')\n",
    "graph[f1].axhline(y = 0, color = '0.7',linestyle='--')\n",
    "graph[f1].legend()\n",
    "\n",
    "graph[f2].plot(x, f2(x),linewidth=2,color='red',label=\"f(x)\")\n",
    "graph[f2].plot(x,df(f2,x,dx=1),linewidth=2,color='blue',linestyle=\"--\",label=\"df(x)/dx\")\n",
    "graph[f2].set_title(\"$f_2(x)=\\sin(x)$\", fontsize=14, color=\"black\")\n",
    "graph[f2].axvline(x = 0, color = '0.7',linestyle='--')\n",
    "graph[f2].axhline(y = 0, color = '0.7',linestyle='--')\n",
    "graph[f2].legend()\n",
    "\n",
    "graph[f3].plot(x, f3(x),linewidth=2,color='red',label=\"f(x)\")\n",
    "graph[f3].plot(x,df(f3,x,dx=1),linewidth=2,color='blue',linestyle=\"--\",label=\"df(x)/dx\")\n",
    "graph[f3].set_title(\"$f_3(x)=x^3+x^2-x-2$\", fontsize=14, color=\"black\")\n",
    "graph[f3].axvline(x = 0, color = '0.7',linestyle='--')\n",
    "graph[f3].axhline(y = 0, color = '0.7',linestyle='--')\n",
    "graph[f3].legend()\n"
   ]
  },
  {
   "cell_type": "markdown",
   "id": "bca9ed95-1ff7-48d2-8df3-0283ff18d059",
   "metadata": {
    "tags": []
   },
   "source": [
    "### **2.2.** Fonction dérivée (calcul symbolique)"
   ]
  },
  {
   "cell_type": "markdown",
   "id": "2150ca98-d0b8-4494-b8d4-80dd48dc1857",
   "metadata": {},
   "source": [
    "Le symbole est la classe la plus importante de la bibliothèque `SymPy`. Comme mentionné précédemment, les calculs symboliques sont effectués avec des symboles. Les variables `SymPy` sont des objets de la classe `Symbol`."
   ]
  },
  {
   "cell_type": "code",
   "execution_count": 5,
   "id": "5877021a-bfb2-41ed-be02-9948fdeeb8c3",
   "metadata": {},
   "outputs": [
    {
     "name": "stdout",
     "output_type": "stream",
     "text": [
      "\u001b[91mf1\u001b[0m\n",
      "df1/dx =  2*x\n"
     ]
    }
   ],
   "source": [
    "import sympy as sym\n",
    "from tools4pyPhysChem import PrintLatexStyleSymPyEquation as ple\n",
    "\n",
    "x = sym.Symbol('x')\n",
    "df1dx = f1(x).diff(x)\n",
    "df3dx = f3(x).diff(x)\n",
    "def f2b(x):\n",
    "    return sym.sin(x)\n",
    "df2dx = f2b(x).diff(x)\n",
    "\n",
    "print(f\"{color.RED}f1{color.OFF}\")\n",
    "print(\"df1/dx = \",df1dx)"
   ]
  },
  {
   "cell_type": "markdown",
   "id": "a17bcc59-48d5-4c77-9ac6-0d086ee75e8c",
   "metadata": {},
   "source": [
    "`df1dx` est un objet au format `SymPy`, qui permet de faire du calcul symbolique. Il n'est pas donc possible de directement utiliser cette fonction `SymPy` comme une fonction classique. La preuve avec l'exécution ci-dessous, qui va conduire à une erreur :\n"
   ]
  },
  {
   "cell_type": "code",
   "execution_count": 6,
   "id": "05e84337-2c81-42a0-be5f-e6cd510cf1d5",
   "metadata": {},
   "outputs": [
    {
     "name": "stdout",
     "output_type": "stream",
     "text": [
      "<class 'sympy.core.mul.Mul'>\n"
     ]
    },
    {
     "ename": "TypeError",
     "evalue": "'Mul' object is not callable",
     "output_type": "error",
     "traceback": [
      "\u001b[0;31m---------------------------------------------------------------------------\u001b[0m",
      "\u001b[0;31mTypeError\u001b[0m                                 Traceback (most recent call last)",
      "Cell \u001b[0;32mIn[6], line 2\u001b[0m\n\u001b[1;32m      1\u001b[0m \u001b[38;5;28mprint\u001b[39m(\u001b[38;5;28mtype\u001b[39m(df1dx))\n\u001b[0;32m----> 2\u001b[0m \u001b[38;5;28mprint\u001b[39m(\u001b[43mdf1dx\u001b[49m\u001b[43m(\u001b[49m\u001b[38;5;241;43m3\u001b[39;49m\u001b[43m)\u001b[49m)\n",
      "\u001b[0;31mTypeError\u001b[0m: 'Mul' object is not callable"
     ]
    }
   ],
   "source": [
    "print(type(df1dx))\n",
    "print(df1dx(3))"
   ]
  },
  {
   "cell_type": "markdown",
   "id": "9ebbd9fa-d81e-43e5-88f7-99b99ecd1034",
   "metadata": {},
   "source": [
    "On peut quand même faire des applications numériques d'une fonction `SymPy`, grâce à la fonction `subs`. Par exemple : `df1dx.subs(x,2)` renvoie la valeur de `df1dx` après avoir substitué x par le nombre 2. C'est ce qu'on fait systématiquement ci-dessous :"
   ]
  },
  {
   "cell_type": "code",
   "execution_count": null,
   "id": "3b1734c5-4fb4-41d6-b4bf-05aa674d96aa",
   "metadata": {},
   "outputs": [],
   "source": [
    "print(f\"{color.RED}f1{color.OFF}\")\n",
    "print(\"df1/dx = \",df1dx)\n",
    "print(\"df1/dx for x=2 : \",df1dx.subs(x,2))\n",
    "print(f\"{color.RED}f2{color.OFF}\")\n",
    "print(\"df2/dx = \",df2dx)\n",
    "print(\"df2/dx for x=2 : \",df2dx.subs(x,2))\n",
    "print(f\"{color.RED}f3{color.OFF}\")\n",
    "print(\"df3/dx = \",df3dx)\n",
    "print(\"df3/dx for x=2 : \",df3dx.subs(x,2))"
   ]
  },
  {
   "cell_type": "markdown",
   "id": "6f44bf72-ce73-4433-a6f9-fcdc540c10c3",
   "metadata": {},
   "source": [
    "Ce n'est pas toujours pratique d'utiliser la commande `subs`, en particulier si on veut tracer la fonction ou bien faire de nombreux calculs numériques. Heureusement, `SymPy` fournit une fonction, `lambdify`, qui crée une fonction classique à partir d'un objet symbolique.\n",
    "\n",
    "`lambdify` transforme une expression symbolique `SymPy` en fonction qui peut être utilisée pour calculer des valeurs numériques très rapidement\n",
    "\n",
    "(dans le monde python, cette fonction qui diffère d'une fonction définie par `def` est appelée fonction `lambda`)"
   ]
  },
  {
   "cell_type": "code",
   "execution_count": null,
   "id": "2f358f2e-4a8f-45ce-89ff-ceb36cb5a499",
   "metadata": {},
   "outputs": [],
   "source": [
    "from sympy import lambdify\n",
    "df1num = lambdify(x, df1dx)\n",
    "df2num = lambdify(x, df2dx)\n",
    "df3num = lambdify(x, df3dx)\n",
    "print(df1num)\n",
    "print(df1num(3))"
   ]
  },
  {
   "cell_type": "code",
   "execution_count": null,
   "id": "65fc16a7-ab91-4031-a5de-fad3e0d727eb",
   "metadata": {},
   "outputs": [],
   "source": [
    "print(df2num)\n",
    "print(df2num(np.pi))"
   ]
  },
  {
   "cell_type": "code",
   "execution_count": null,
   "id": "e4f13cd9-28cc-4e16-a924-7e14252a5f8b",
   "metadata": {},
   "outputs": [],
   "source": [
    "xmin = -2*np.pi\n",
    "xmax = 2*np.pi\n",
    "npt = 100\n",
    "# génération de npt points équirépartis entre xmin et xmax\n",
    "xx = np.linspace(xmin,xmax,npt)\n",
    "\n",
    "plt.rcParams.update({'font.size': 14})\n",
    "mosaic = [[f1,f2,f3]]\n",
    "fig, graph = plt.subplot_mosaic(mosaic, constrained_layout=False,figsize=(12,4),sharex=False,sharey=False)\n",
    "\n",
    "graph[f1].plot(xx, f1(xx),linewidth=2,color='red',label=\"f(x)\")\n",
    "graph[f1].plot(xx,df1num(xx),linewidth=2,color='blue',linestyle=\"--\",label=\"df(x)/dx\")\n",
    "graph[f1].set_title(\"$f_1(x)=x^2$\", fontsize=14, color=\"black\")\n",
    "graph[f1].axvline(x = 0, color = '0.7',linestyle='--')\n",
    "graph[f1].axhline(y = 0, color = '0.7',linestyle='--')\n",
    "graph[f1].legend()\n",
    "\n",
    "graph[f2].plot(xx, f2(xx),linewidth=2,color='red',label=\"f(x)\")\n",
    "graph[f2].plot(xx,df2num(xx),linewidth=2,color='blue',linestyle=\"--\",label=\"df(x)/dx\")\n",
    "graph[f2].set_title(\"$f_2(x)=\\sin(x)$\", fontsize=14, color=\"black\")\n",
    "graph[f2].axvline(x = 0, color = '0.7',linestyle='--')\n",
    "graph[f2].axhline(y = 0, color = '0.7',linestyle='--')\n",
    "graph[f2].legend()\n",
    "\n",
    "graph[f3].plot(xx, f3(xx),linewidth=2,color='red',label=\"f(x)\")\n",
    "graph[f3].plot(xx,df3num(xx),linewidth=2,color='blue',linestyle=\"--\",label=\"df(x)/dx\")\n",
    "graph[f3].set_title(\"$f_3(x)=x^3+x^2-x$\", fontsize=14, color=\"black\")\n",
    "graph[f3].axvline(x = 0, color = '0.7',linestyle='--')\n",
    "graph[f3].axhline(y = 0, color = '0.7',linestyle='--')\n",
    "graph[f3].legend()"
   ]
  },
  {
   "cell_type": "code",
   "execution_count": null,
   "id": "161f91d4-2532-47ec-828f-9415fdb96c76",
   "metadata": {},
   "outputs": [],
   "source": [
    "import sympy as sym\n",
    "\n",
    "def f4(a,n,x):\n",
    "    return a*x**n\n",
    "\n",
    "x = sym.Symbol('x')\n",
    "a = sym.Symbol('a')\n",
    "n = sym.Symbol('n')\n",
    "df4dx1 = f4(a,n,x).diff(x)\n",
    "df4dx2 = f4(a,n,x).diff(x,2)\n",
    "print(\"dérivée première de f4 :\", df4dx1)"
   ]
  },
  {
   "cell_type": "markdown",
   "id": "6b612f17-b37a-4f0d-a78e-cfea462dc9d6",
   "metadata": {},
   "source": [
    "<div class=\"rq\">\n",
    "L'affichage de l'équation a*n*x**n/x n'est pas très lisible. Il est assez aisé de convertir une expression `SymPy` au format Latex, qui se prête bien à un un affiche élégant dans un notebook. La commande est simplement :\n",
    "    \n",
    "<br>\n",
    "\n",
    "```\n",
    "from IPython.display import display,Math\n",
    "import sympy as sym\n",
    "display(Math(sym.latex(expression_SymPy)))\n",
    "```\n",
    "    \n",
    "<br>\n",
    "\n",
    "Pour éviter de devoir systématiquement lancer la commande `display(Math(sym.latex(expression_SymPy)))`, cette fonctionalité a été implémentée en tant que fonction `PrintLatexStyleSymPyEquation` dans le fichier `tools4pyPhysChem.py`, disponible dans le sous-répertoire `config`. Il faut donc l'importer dans tout notebook où on veut l'utiliser, et lui donner un nom plus compact - par exemple `ple` comme Print Latex Equation. C'est ce qui est fait dans la cellule suivante. `?ple` permet de connaître son descriptif.\n",
    "</div>"
   ]
  },
  {
   "cell_type": "code",
   "execution_count": null,
   "id": "261a4d7a-c28f-48d0-bda9-f9fb28774857",
   "metadata": {},
   "outputs": [],
   "source": [
    "from tools4pyPhysChem import PrintLatexStyleSymPyEquation as ple\n",
    "?ple"
   ]
  },
  {
   "cell_type": "markdown",
   "id": "acdc0731-4d8d-4580-b509-d7beb87ff12c",
   "metadata": {},
   "source": [
    "On va maintenant s'en servir pour afficher les dérivées première et seconde de la fonction $f_4(x)$"
   ]
  },
  {
   "cell_type": "code",
   "execution_count": null,
   "id": "a83a500d-fbb4-4f12-a8e4-c73bf0a0d6c5",
   "metadata": {},
   "outputs": [],
   "source": [
    "ple(df4dx1)\n",
    "ple(sym.simplify(df4dx1))\n",
    "print()\n",
    "print()\n",
    "print(\"dérivée seconde de f4 :\",df4dx2)\n",
    "ple(df4dx2)\n",
    "ple(sym.simplify(df4dx2))"
   ]
  },
  {
   "cell_type": "markdown",
   "id": "0a9f92de-7689-4783-8d45-4fa0ed1e8318",
   "metadata": {
    "tags": []
   },
   "source": [
    "## **3.** Intégrales"
   ]
  },
  {
   "cell_type": "code",
   "execution_count": null,
   "id": "f6d503cf-5f41-4ca4-ae0c-baf15238af01",
   "metadata": {},
   "outputs": [],
   "source": [
    "def g1(x):\n",
    "    return 2*x\n",
    "\n",
    "def g2(x):\n",
    "    return np.cos(x)\n",
    "\n",
    "def g3(x):\n",
    "    return 3*x**2+2*x-1"
   ]
  },
  {
   "cell_type": "markdown",
   "id": "7b1102d5-c06a-44e7-8f74-dc073877cbff",
   "metadata": {
    "tags": []
   },
   "source": [
    "### **3.1.** Intégration numérique"
   ]
  },
  {
   "cell_type": "code",
   "execution_count": null,
   "id": "153a23e9-3ddd-44f7-b6ba-00ef36e57874",
   "metadata": {},
   "outputs": [],
   "source": [
    "import scipy.integrate as integrate\n",
    "\n",
    "Ig1=integrate.quad(g1,-3,3)\n",
    "Ig2=integrate.quad(g2,-np.pi,np.pi)\n",
    "Ig3=integrate.quad(g3,-3,3)\n",
    "print(\"intégration entre -3 et +3\")\n",
    "print(\"∫g1 dx = \",Ig1)\n",
    "print(\"∫g2 dx = \",Ig2)\n",
    "print(\"∫g3 dx = \",Ig3)"
   ]
  },
  {
   "cell_type": "markdown",
   "id": "8066e31c-27a8-44a0-9f10-186857f32331",
   "metadata": {
    "tags": []
   },
   "source": [
    "### **3.2.** Fonction intégrale (calcul symbolique)"
   ]
  },
  {
   "cell_type": "code",
   "execution_count": null,
   "id": "60262ae7-6072-4358-86ab-20b837a472c8",
   "metadata": {},
   "outputs": [],
   "source": [
    "import sympy as sym\n",
    "from tools4pyPhysChem import PrintLatexStyleSymPyEquation as ple\n",
    "\n",
    "x = sym.Symbol('x')\n",
    "def g2b(x):\n",
    "    return sym.cos(x)\n",
    "\n",
    "Ig1 = g1(x).integrate(x)\n",
    "Ig2 = g2b(x).integrate(x)\n",
    "Ig3 = g3(x).integrate(x)\n",
    "print(\"∫g1 dx = \",Ig1)\n",
    "print(\"∫g2 dx = \",Ig2)\n",
    "print(\"∫g3 dx = \",Ig3)\n",
    "\n",
    "#\\n = saut de ligne\n",
    "print(\"\\nintégration entre -a et +a\")\n",
    "Ig1 = g1(x).integrate((x,-3,3))\n",
    "Ig2 = g2b(x).integrate((x,-np.pi,np.pi))\n",
    "Ig3 = g3(x).integrate((x,-3,3))\n",
    "print(\"∫g1 dx = \",Ig1)\n",
    "print(\"∫g2 dx = \",Ig2)\n",
    "print(\"∫g3 dx = \",Ig3)\n"
   ]
  },
  {
   "cell_type": "markdown",
   "id": "0b52a79a-00c8-4b4f-a409-84d93771e8b7",
   "metadata": {
    "tags": []
   },
   "source": [
    "## **4.** Exercices"
   ]
  },
  {
   "cell_type": "markdown",
   "id": "10bef792-7fbf-4a56-a68e-591191d1de0c",
   "metadata": {},
   "source": [
    "### **4.1.** Calcul numérique"
   ]
  },
  {
   "cell_type": "markdown",
   "id": "8cd7f26a-0a5b-488c-a711-3c4533c6bf31",
   "metadata": {},
   "source": [
    "#### **1.** Pobabilité de présence radiale de l'électron 1s de H"
   ]
  },
  {
   "cell_type": "markdown",
   "id": "dfae38af-41ea-4773-a0b8-79535d469e8f",
   "metadata": {},
   "source": [
    "La probabilité de présence radiale de l'électron 1s de l'atome d'hydrogène a pour expression :\n",
    "$$\\mathcal{P}_{1s}(r)=4r^{2}\\exp\\left(-2r\\right)$$\n",
    "\n",
    "où $r$ est exprimé en bohr\n",
    "(1 bohr = 5.29177210903 $\\times$ 10$^{-11}$ m)\n",
    "\n",
    "**1.** Implémenter puis tracer cette fonction ainsi que sa dérivée première dP/dr entre 0 bohr et 6 bohr.\n",
    "\n",
    "- Commenter la variation de $\\mathcal{P}_{1s}(r)$\n",
    "- Commenter la variation de $d\\mathcal{P}_{1s}(r)/dr$"
   ]
  },
  {
   "cell_type": "code",
   "execution_count": null,
   "id": "f637b118-0d35-4602-ae85-a19025406470",
   "metadata": {},
   "outputs": [],
   "source": [
    "%matplotlib inline\n",
    "import numpy as np\n",
    "import matplotlib.pyplot as plt\n",
    "from scipy.misc import derivative as df\n",
    "import scipy.integrate as integrate\n",
    "import scipy.constants as sc\n",
    "\n",
    "print(sc.find(\"bohr\"))\n",
    "print(\"rayon de Bohr : \",sc.physical_constants[\"Bohr radius\"])\n",
    "a0 = sc.value(\"Bohr radius\")\n",
    "\n",
    "def P1s(r):\n",
    "    return 4*r**2*np.exp(-2*r)\n",
    "\n",
    "plt.rcParams[\"figure.figsize\"] = (10,5)\n",
    "plt.rcParams.update({'font.size': 14})\n",
    "\n",
    "r = np.linspace(0.,6.,100) # r en bohr\n",
    "plt.plot(r, P1s(r),linewidth=2,color='red',label=\"P1s(r)\")\n",
    "plt.plot(r,df(P1s,r,dx=1e-12),linewidth=2,color='blue',linestyle=\"--\",label=\"dP1s(r)/dr\")\n",
    "plt.axvline(x = 0, color = '0.7',linestyle='--')\n",
    "plt.axhline(y = 0, color = '0.7',linestyle='--')\n",
    "plt.xlabel(\"bohr\")\n",
    "plt.legend()"
   ]
  },
  {
   "cell_type": "markdown",
   "id": "26e9a9af-30f1-4477-b4b1-433276a2e007",
   "metadata": {},
   "source": [
    "**2.** Calculer l'intégrale de la probabilité de présence radiale entre 0 et +$\\infty$. Commenter.\n",
    "\n",
    "NB. On a besoin ici d'une représentation numérique de l'infini. La bibliothèque `numpy` fournit pour cela `np.inf`  "
   ]
  },
  {
   "cell_type": "code",
   "execution_count": null,
   "id": "19e9dacb-d640-48fe-8b4d-8ed8d2e3f595",
   "metadata": {},
   "outputs": [],
   "source": [
    "import scipy.integrate as integrate\n",
    "\n",
    "print(integrate.quad(P1s,0,np.inf))"
   ]
  },
  {
   "cell_type": "markdown",
   "id": "fee82a14-0012-4087-8e11-7a3fd719f875",
   "metadata": {},
   "source": [
    "**3.** Dans le cadre de la physique quantique, il est facile de montrer que la valeur moyenne $\\left\\langle r\\right\\rangle$ de la position de l'électron est donnée par l'intégrale :\n",
    "$$\\left\\langle r\\right\\rangle =\\int_{0}^{\\infty}r\\mathcal{P}_{1s}(r)dr$$\n",
    "\n",
    "- Calculer $\\left\\langle r\\right\\rangle$.\n",
    "- Reporter la valeur trouvée sur le graphe précédent en traçant une ligne verticale. La valeur obtenue vous semble-t-elle qualitativement correcte ?"
   ]
  },
  {
   "cell_type": "code",
   "execution_count": null,
   "id": "2afa74fb-7b2c-4096-8b42-125991bd62ef",
   "metadata": {},
   "outputs": [],
   "source": [
    "def frmoyen(r):\n",
    "    return r*P1s(r)\n",
    "print(integrate.quad(frmoyen,0,np.inf))"
   ]
  },
  {
   "cell_type": "code",
   "execution_count": null,
   "id": "0748b3e4-623b-4060-9ce4-7c465a3ee098",
   "metadata": {},
   "outputs": [],
   "source": [
    "plt.rcParams[\"figure.figsize\"] = (10,5)\n",
    "plt.rcParams.update({'font.size': 14})\n",
    "\n",
    "r = np.linspace(0.,6.,100) # r en bohr\n",
    "plt.plot(r, P1s(r),linewidth=2,color='red',label=\"P1s(r)\")\n",
    "plt.plot(r,df(P1s,r,dx=1e-12),linewidth=2,color='blue',linestyle=\"--\",label=\"dP1s(r)/dr\")\n",
    "plt.axvline(x = 0, color = '0.7',linestyle='--')\n",
    "plt.axvline(x = 1.5, color = 'blue',linestyle='-.',linewidth=1)\n",
    "plt.axhline(y = 0, color = '0.7',linestyle='--')\n",
    "plt.xlabel(\"bohr\")\n",
    "plt.legend()"
   ]
  },
  {
   "cell_type": "markdown",
   "id": "ece989db-ae99-4856-9753-8a07732a81d4",
   "metadata": {},
   "source": [
    "### **4.2.** Calcul symbolique\n",
    "#### **1.** Dérivées identiques\n",
    "Donner l'expression de la dérivée en fonction de x de\n",
    "- $h_1(x)=2x^3 -x + 1$\n",
    "- $h_2(x)=2x^3 -x + 7$\n",
    "\n",
    "Comparer les deux dérivées.\n",
    "\n",
    "Donner, sans calcul, l'expression de l'intégrale de $6x^2-1$\n",
    "\n"
   ]
  },
  {
   "cell_type": "code",
   "execution_count": null,
   "id": "6669d8b9-bda3-4a44-856c-401629c879ea",
   "metadata": {},
   "outputs": [],
   "source": [
    "import sympy as sym\n",
    "from tools4pyPhysChem import PrintLatexStyleSymPyEquation as ple\n",
    "\n",
    "def h1(x):\n",
    "    return 2*x**3-x+1\n",
    "def h2(x):\n",
    "    return 2*x**3-x+7\n",
    "\n",
    "x = sym.Symbol('x')\n",
    "dh1dx = h1(x).diff(x)\n",
    "dh2dx = h2(x).diff(x)\n",
    "print(\"dh1/dx\",dh1dx)\n",
    "ple(dh1dx)\n",
    "print()\n",
    "print(\"dh2/dx = \",dh2dx)\n",
    "ple(dh2dx)"
   ]
  },
  {
   "cell_type": "markdown",
   "id": "36407158-f2fa-4d6d-90e2-8c063ee6d730",
   "metadata": {},
   "source": [
    "#### **2.** Dérivation d'une loi de cinétique chimique\n",
    "\n",
    "**2a.** Donner l'expression de la dérivée en fonction de t de :\n",
    "$$[\\mathrm{B}]_t=\\frac{k_{1}}{k_{2}-k_{1}}a_{0}\\left(\\mathrm{e}^{-k_{1}t}-\\mathrm{e}^{-k_{2}t}\\right)$$\n",
    "où $k_1$, $k_2$ et $a_0$ sont des constantes<br>\n",
    "($a_0$ ici est une concentration, à ne pas confondre donc avec le rayon de Bohr, également noté $a_0$)"
   ]
  },
  {
   "cell_type": "code",
   "execution_count": null,
   "id": "8a07c6da-6208-428b-a377-3d502dd6137c",
   "metadata": {},
   "outputs": [],
   "source": [
    "import sympy as sym\n",
    "from tools4pyPhysChem import PrintLatexStyleSymPyEquation as ple\n",
    "\n",
    "def b(k1,k2,a0,t):\n",
    "    return (k1/(k2-k1))*a0*(sym.exp(-k1*t) - sym.exp(-k2*t))\n",
    "\n",
    "t = sym.Symbol('t')\n",
    "k1 = sym.Symbol('k1')\n",
    "k2 = sym.Symbol('k2')\n",
    "a0 = sym.Symbol('a0')\n",
    "\n",
    "dbdt = b(k1,k2,a0,t).diff(t)\n",
    "print(\"db/dt = \",dbdt)\n",
    "ple(dbdt)"
   ]
  },
  {
   "cell_type": "markdown",
   "id": "c3f5791d-1a2e-49e8-a8c9-1941492e86c5",
   "metadata": {},
   "source": [
    "**2b.** On va poser $k_1$ = 10, $k_2$ = 1, $a_0$ = 0,1.\n",
    "\n",
    "Tracer $[\\mathrm{B}]_t$ et $[\\mathrm{B}]_t'=d[\\mathrm{B}]_t/dt$ entre 0 et 5 et avec [-0.1 : 0.2] comme intervalle des ordonnées."
   ]
  },
  {
   "cell_type": "code",
   "execution_count": null,
   "id": "69415040-40cc-41de-91e7-148a986fd3f0",
   "metadata": {},
   "outputs": [],
   "source": [
    "%matplotlib inline\n",
    "import numpy as np\n",
    "import matplotlib.pyplot as plt\n",
    "from sympy import lambdify\n",
    "\n",
    "#initialisation des variables. Ne pas écraser les variables symboliques k1, k2 et a0\n",
    "# -> on utilise les variables k1_, k2_ et a0_ pour leur équivalent numérique\n",
    "# convention perso. On aurait très bien pu les appeler titi, tata et toto\n",
    "k1_ = 10\n",
    "k2_ = 1\n",
    "a0_ = 0.1\n",
    "\n",
    "bnum = lambdify([k1,k2,a0,t], b(k1,k2,a0,t))\n",
    "dbnum = lambdify([k1,k2,a0,t], dbdt)\n",
    "xx = np.linspace(0.,5.,100)\n",
    "plt.plot(xx, bnum(k1_,k2_,a0_,xx),linewidth=2,color='red',label=\"b(t)\")\n",
    "plt.plot(xx,dbnum(k1_,k2_,a0_,xx),linewidth=2,color='blue',linestyle=\"--\",label=\"db(t)/dt\")\n",
    "plt.axvline(x = 0, color = '0.7',linestyle='--')\n",
    "plt.axhline(y = 0, color = '0.7',linestyle='--')\n",
    "plt.xlim(0,5)\n",
    "plt.ylim(-0.1,0.2)\n",
    "plt.legend()"
   ]
  },
  {
   "cell_type": "markdown",
   "id": "b9a84d89-53f6-4fd2-9d8f-c0ac7cb6b6ce",
   "metadata": {},
   "source": [
    "#### **3.** Résolution d'une égalité\n",
    "L'objectif est de trouver l'expression de $t$ pour laquelle la dérivée première s'annule, ce qui va nous donner le temps pour lequel la [B] est maximale.\n",
    "\n",
    "On va encore utiliser `SymPy` pour cela."
   ]
  },
  {
   "cell_type": "code",
   "execution_count": null,
   "id": "b278f3a6-eac2-4887-afad-343351de137b",
   "metadata": {},
   "outputs": [],
   "source": [
    "tmax = sym.solveset(sym.Eq(dbdt, 0), t)\n",
    "ple(tmax)\n",
    "# résultat renvoyé dans un dictionnaire. On va le convertir en liste\n",
    "# afin de récupérer le premier élement de la liste pour pouvoir travailler avec\n",
    "tmax1 = list(tmax)[0]\n",
    "ple(tmax1)\n",
    "# comme précédemment, il faut utiliser `lambdify` pour transformer la fonction analytique en une fonction python classique\n",
    "tmaxnum = lambdify([k1,k2],tmax1)\n",
    "print(f\"k1 = {k1_} et k2 = {k2_} --> tmax = {tmaxnum(k1_,k2_)}\")"
   ]
  },
  {
   "cell_type": "code",
   "execution_count": null,
   "id": "898a0af5-6513-4be2-8538-0d741a4c4478",
   "metadata": {},
   "outputs": [],
   "source": [
    "vID.end(cwd0)"
   ]
  },
  {
   "cell_type": "code",
   "execution_count": null,
   "id": "e0e0f687-17f3-40b6-8ad1-9f06616a7cd4",
   "metadata": {},
   "outputs": [],
   "source": []
  }
 ],
 "metadata": {
  "kernelspec": {
   "display_name": "Python 3 (ipykernel)",
   "language": "python",
   "name": "python3"
  },
  "language_info": {
   "codemirror_mode": {
    "name": "ipython",
    "version": 3
   },
   "file_extension": ".py",
   "mimetype": "text/x-python",
   "name": "python",
   "nbconvert_exporter": "python",
   "pygments_lexer": "ipython3",
   "version": "3.11.13"
  }
 },
 "nbformat": 4,
 "nbformat_minor": 5
}
