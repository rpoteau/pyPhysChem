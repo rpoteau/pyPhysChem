{
 "cells": [
  {
   "cell_type": "code",
   "execution_count": null,
   "id": "269396e1-4699-46d7-b7bc-8ef342174c94",
   "metadata": {},
   "outputs": [],
   "source": [
    "import os\n",
    "import sys\n",
    "\n",
    "print(os.getcwd())\n",
    "cwd0 = './config/'\n",
    "sys.path.append(cwd0)\n",
    "\n",
    "import visualID_Eng as vID\n",
    "from visualID_Eng import color,bg,fg,hl\n",
    "vID.init(cwd0)\n",
    "import tools4pyPhysChem as t4pPC\n",
    "\n",
    "__author__ = \"romuald.poteau@utoulouse.fr\"\n",
    "__version__ = \"20250925\""
   ]
  },
  {
   "cell_type": "markdown",
   "id": "856de24c-ddcb-46b2-a794-7ea0365df87c",
   "metadata": {
    "tags": []
   },
   "source": [
    "# Molecular representations\n",
    "\n",
    "<div class=\"introT\" title=\"What is a molecule?\">\n",
    "\n",
    "A molecule is a group of atoms that are connected through chemical bonds. The number of atoms can range from only a few (e.g., in low molecular weight drugs) to several thousand (e.g., in proteins) or even millions (e.g., in DNA molecules). \n",
    "\n",
    "The properties of a molecule emerge in a non-trivial way from the interplay of its constituent atoms. From the viewpoint of physics, molecules are complex three-dimensional objects that are dynamic rather than static and that exhibit quantum mechanical properties. Given the principles of quantum physics, the knowledge of the exact wavefunction $\\Psi(\\textbf{R},t)$ of a molecule gives access to all its properties.\n",
    "\n",
    "Depending on the task you want to solve, a simplified view of molecules might be helpful. \n",
    "\n",
    "</div>\n",
    "<br>\n",
    "<div class=\"introT\" title=\"Molecular representations for humans\">\n",
    "\n",
    "The easiest way to identify a molecule is its trivial name. For example, aspirin. This is only possible for well-known molecules.\n",
    "\n",
    "Alternatively, the IUPAC nomenclatures of organic and inorganic chemistry can be used. The goal is that each possible molecule is associated with a name that is easy to understand and that unambiguously identifies the molecule. \n",
    "\n",
    "*Example*: The aspirin molecule has the IUPAC name: 2-acetyloxybenzoic acid. It is then possible, from this name, to draw the 2D representation of aspirin. Chemists actually most frequently think about **chemical structure in 2D**, whereas **molecules actually exist in 3D physical space**. 2D representations are designed to mimic the experience of drawing structural formulas on paper. \n",
    "\n",
    "\n",
    "<p style=\"text-align:center;\"><img src=\"./Molecules-data/Aspirin.png\" alt=\"aspirin\" width=\"15%\"/></p>\n",
    "\n",
    "</div>\n",
    "<br>\n",
    "<div class=\"introT\" title=\"Molecular representations in the age of cheminformatics\">\n",
    "    \n",
    "In order for chemists to rely on insights from cheminformatics, it is important to understand the way in which standard chemical softwares or computer libraries store and analyze chemical structure. Therefore, cheminformatics depends upon the **coding and the use of representations of molecular structures and related data** that are understandable both to human scientists and to machine algorithms, including **machine learning algorithms**.\n",
    "    \n",
    "The 3D conformation of a molecule, and the relative position of functional groups is however often of key importance since it determines its properties. Atomic coordinates may be determined experimentally (typically via x-ray crystallography), or calculated (using force-fields, quantum chemistry, molecular dynamics or composite models such as docking)\n",
    "\n",
    "---\n",
    "\n",
    "**SMILES** (Simplified Molecular Input Line Entry Specification) is the most widely used text-based representation and can be handled by all common frameworks, so it is probably be a good starting point. SMILES uses a combination of letters, numbers, and symbols to represent the atoms and bonds in a molecule. The letters identify the elements, the symbols specify the connectivity/branching structure. The SMILES coding of aspirin is: `CC(=O)OC1=CC=CC=C1C(=O)O`, where the `C1=CC=CC=C1` is the aromatic ring, whereas `CC(=O)O` and `C(=O)O` stand for the acetyloxy and carboxylic acids functional groups. \n",
    "\n",
    "</div>\n",
    "<br>\n",
    "<div class=\"rqE\">\n",
    "\n",
    "**<span style=\"color:red\">Prerequisite.</span> Basic knowledge on:**\n",
    "- chemical databases, such as [PubChem](https://pubchem.ncbi.nlm.nih.gov/) or [ChemSpider](https://www.chemspider.com/)\n",
    "- the simplified molecular-input line-entry system (SMILES), which is a specification in the form of a line notation for describing the structure of chemical species using short ASCII strings ([wikipedia](https://en.wikipedia.org/wiki/Simplified_molecular-input_line-entry_system))\n",
    "\n",
    "</div>"
   ]
  },
  {
   "cell_type": "markdown",
   "id": "8dbe235f-03ec-43ee-9646-0917318abc3e",
   "metadata": {},
   "source": [
    "## 3D representation"
   ]
  },
  {
   "cell_type": "markdown",
   "id": "e88ccf52-35b0-45b1-8f37-ee49e6cae0d2",
   "metadata": {},
   "source": [
    "<div class=\"intro\">\n",
    "    \n",
    "3D modeling software are powerful tools that help many professionals create complex 3D graphics and visualize their work. In the field of chemistry, there is various software for molecular modeling and visualization. We will use in the present notebook the `py3Dmol` widget in order to embed an interactive [3Dmol.js](http://3dmol.org) viewer in a notebook. It will actually return a 3D representation of a molecule that may be used as a teaching tool, or for research e.g., in chemistry and biochemistry. \n",
    "</div>"
   ]
  },
  {
   "cell_type": "code",
   "execution_count": null,
   "id": "a3a93eb4-b4a1-44a1-a4a9-62d62b077bf2",
   "metadata": {},
   "outputs": [],
   "source": [
    "# uncomment this line if you need to install py3Dmol\n",
    "# !pip install py3Dmol"
   ]
  },
  {
   "cell_type": "code",
   "execution_count": null,
   "id": "1a01369a-5b6d-4975-9c01-84ebc5c6fa67",
   "metadata": {},
   "outputs": [],
   "source": [
    "import py3Dmol"
   ]
  },
  {
   "cell_type": "markdown",
   "id": "408a500e-49b5-4864-b76f-3815aebcb3b9",
   "metadata": {},
   "source": [
    "### The Molfile format\n",
    "\n",
    "<div class=\"intro\">\n",
    "MDL Molfile is a file format for holding information about the atoms, bonds, connectivity and coordinates of a molecule.\n",
    "    \n",
    "Let's first briefly see on an example how a Molfile looks like. It is the anisole molecule, downloaded from the [PubChem database](https://pubchem.ncbi.nlm.nih.gov/compound/Anisole).\n",
    "</div>"
   ]
  },
  {
   "cell_type": "code",
   "execution_count": null,
   "id": "dffba526-2484-4e1c-a548-80371101da53",
   "metadata": {},
   "outputs": [],
   "source": [
    "anisoleMolFile = open(\"./Molecules-data/anisole.mol\", \"r\")\n",
    "print(anisoleMolFile.read())\n",
    "anisoleMolFile.close()"
   ]
  },
  {
   "cell_type": "markdown",
   "id": "344347ef-e84c-413b-81fc-fd323e0dccd2",
   "metadata": {},
   "source": [
    "<div class=\"intro\">\n",
    "\n",
    "`py3Dmol` can nicely give an interactive representation of this MDL Molfile coding. \n",
    "</div>"
   ]
  },
  {
   "cell_type": "code",
   "execution_count": null,
   "id": "d613cd1e-1a94-47af-a83b-5106f7c15d60",
   "metadata": {},
   "outputs": [],
   "source": [
    "MolView = py3Dmol.view(width=400,height=400)\n",
    "with open(\"./Molecules-data/anisole.mol\") as ifile:\n",
    "    mol = ifile.read()\n",
    "MolView.addModel(mol)\n",
    "MolView.setStyle({'sphere':{'scale':0.5},'stick':{}})\n",
    "MolView.show()"
   ]
  },
  {
   "cell_type": "markdown",
   "id": "9e4c4892-f194-4e7b-bfd1-e64d167e3b9d",
   "metadata": {},
   "source": [
    "<div class=\"intro\">\n",
    "\n",
    "Let's write a class\n",
    "</div>"
   ]
  },
  {
   "cell_type": "code",
   "execution_count": null,
   "id": "1894136b-571a-44df-8d44-fe4e4273cb0c",
   "metadata": {},
   "outputs": [],
   "source": [
    "import py3Dmol\n",
    "class molView:\n",
    "    def __init__(self,mol,source='file',w=400,h=400):\n",
    "        self.mol = mol\n",
    "        self.source = source\n",
    "        self.w = w\n",
    "        self.h = h\n",
    "        self.view()\n",
    "\n",
    "    def view(self):\n",
    "        if self.source == 'file':\n",
    "            v = py3Dmol.view(width=self.w,height=self.h)\n",
    "            with open(self.mol) as ifile:\n",
    "                mol = ifile.read()\n",
    "            v.addModel(mol)\n",
    "        elif self.source == 'mol':\n",
    "            v = py3Dmol.view(width=self.w,height=self.h)\n",
    "            v.addModel(self.mol)\n",
    "        elif self.source == 'cid':\n",
    "            v = py3Dmol.view(query=f'cid:{self.mol}',width=self.w,height=self.h)\n",
    "        v.setStyle({'sphere':{'scale':0.3},'stick':{}})\n",
    "        v.show()\n"
   ]
  },
  {
   "cell_type": "code",
   "execution_count": null,
   "id": "07e33b10-596d-4e35-b3fb-008e9f71f189",
   "metadata": {},
   "outputs": [],
   "source": [
    "t4pPC.centerTitle(\"Application of the molView class\")\n",
    "# example 1\n",
    "mv1 = molView(\"./Molecules-data/anisole.mol\")\n",
    "\n",
    "# example 2\n",
    "mv2 = molView(241,\"cid\")"
   ]
  },
  {
   "cell_type": "markdown",
   "id": "7577e987-257d-4337-ab38-d2b2858ad9da",
   "metadata": {},
   "source": [
    "### The xyz format\n",
    "\n",
    "<div class=\"intro\">\n",
    "The xyz file format is a simple format that usually gives the number of atoms in the first line, a comment on the second, followed by a number of lines with atomic symbols (or atomic numbers) and cartesian coordinates. There is no information about connectivity, so that graphical softwares that depict chemical structures in 3-dimensions only show the skeleton of a coumpound\n",
    "</div>"
   ]
  },
  {
   "cell_type": "code",
   "execution_count": null,
   "id": "2b4845c9-4bd9-4c24-866c-64b80ed30be6",
   "metadata": {},
   "outputs": [],
   "source": [
    "anisolexyzFile = open(\"./Molecules-data/anisole.xyz\", \"r\")\n",
    "print(anisolexyzFile.read())\n",
    "anisolexyzFile.seek(0)\n",
    "anisole_xyz = anisolexyzFile.read()\n",
    "anisolexyzFile.close()"
   ]
  },
  {
   "cell_type": "code",
   "execution_count": null,
   "id": "42193005-2254-4190-930c-c9ae2e2907f0",
   "metadata": {},
   "outputs": [],
   "source": [
    "mv = molView(\"./Molecules-data/anisole.xyz\")"
   ]
  },
  {
   "cell_type": "markdown",
   "id": "fded5034-dfeb-496f-aa95-82604fcfb69b",
   "metadata": {},
   "source": [
    "### The cif format\n",
    "\n",
    "<div class=\"intro\">\n",
    "\n",
    "Crystallographic Information File (CIF) is a standard text file format for representing crystallographic information, promulgated by the International Union of Crystallography (IUCr). Cristallographic data can be downloaded at CCDC, the free access being restricted to a [basic search interface](https://www.ccdc.cam.ac.uk/structures/?) - you primarily have to know the DOI of the article where the X-ray data were published. The totally free [Crystallography Open Database](http://www.crystallography.net/cod/search.html) also contains a lot of structures.\n",
    "</div>"
   ]
  },
  {
   "cell_type": "code",
   "execution_count": null,
   "id": "6b82d111-9d52-4cc8-9e4d-6dba7feb5e42",
   "metadata": {},
   "outputs": [],
   "source": [
    "anisolexyzFile = open(\"./Molecules-data/1158630.cif\", \"r\")\n",
    "print(anisolexyzFile.read())\n",
    "anisolexyzFile.close()"
   ]
  },
  {
   "cell_type": "code",
   "execution_count": null,
   "id": "005031cc-9867-4072-ac0d-82a03ac66ef0",
   "metadata": {},
   "outputs": [],
   "source": [
    "mv = molView(\"./Molecules-data/1158630.cif\")\n"
   ]
  },
  {
   "cell_type": "markdown",
   "id": "a1b3496a-7f24-4bef-ae7c-617f267ab7ad",
   "metadata": {
    "tags": []
   },
   "source": [
    "## RDKit, a toolkit for cheminformatics\n",
    "\n",
    "<figure> \n",
    "<img width = \"200px\" src=\"./ML-Figures/ImagesDivers/rdkit.png\" alt=\"API\" />\n",
    "</figure>\n",
    "\n",
    "<div class=\"intro\">\n",
    "    \n",
    "```RDKit``` is a collection of cheminformatics and machine-learning software written in C++ and Python. It is designed to assist in the analysis and design of small molecules and chemical compounds. It provides a set of libraries and tools for the manipulation or analysis of:\n",
    "- Molecular visualization\n",
    "- Molecular fingerprints & descriptors\n",
    "- Substructure searching\n",
    "- Chemical reactions\n",
    "- Enhanced stereochemistry\n",
    "- Molecular standardization\n",
    "- Conformation generation\n",
    "- UFF and MMFF94/MMFF94S force fields, very useful for cleaning up molecular structures\n",
    "- Shape-based similarity\n",
    "- Molecule-molecule alignment\n",
    "    \n",
    "It reads and writes a lot of formats, including MDL Molfiles and SMILES.\n",
    "\n",
    "`RDKit` is widely used in academia, as well as in the pharmaceutical, biotech, and chemical industries for a variety of tasks such as virtual screening, lead optimization, and chemical database management. Regular updates are released at 6 months intervals.\n",
    "\n",
    "It has a very good integration with Jupyter and pandas.The easiest way to install it is to run the command:\n",
    "```bash\n",
    "pip install rdkit\n",
    "```\n",
    "\n",
    "  \n",
    "There are nice online documentations:\n",
    "- you can first start with the [Getting Started with the RDKit in Python document](https://www.rdkit.org/docs/GettingStartedInPython.html)\n",
    "- an [RDKit cookbook](https://www.rdkit.org/docs/Cookbook.html) provides example recipes of how to carry out particular tasks using the RDKit functionality from Python\n",
    "\n",
    "The present Jupyter notebook is inspired from these two documents and from the [RDKit basics notebook of EPFL](https://github.com/schwallergroup/ai4chem_course/blob/main/notebooks/01%20-%20Basics/01d_rdkit_basics_demo.ipynb).\n",
    "\n",
    "</div>"
   ]
  },
  {
   "cell_type": "markdown",
   "id": "9029a767-47ae-4ac3-a087-a6878fe58ea0",
   "metadata": {},
   "source": [
    "<div class=\"intro\">\n",
    "    \n",
    "Let's first start importing relevant modules. The majority of the basic molecular functionality is found in module [rdkit.Chem](https://www.rdkit.org/docs/source/rdkit.Chem.html#module-rdkit.Chem)\n",
    "\n",
    "</div>"
   ]
  },
  {
   "cell_type": "code",
   "execution_count": null,
   "id": "325555f8-6c4b-4873-adb3-01ed32bf463f",
   "metadata": {},
   "outputs": [],
   "source": [
    "import numpy as np\n",
    "from matplotlib import pyplot as plt\n",
    "import pandas as pd\n",
    "\n",
    "# This is JSmol viewer widget which can be used in Jupyter Notebooks and JupyterLab\n",
    "from ipywidgets import Layout\n",
    "\n",
    "import rdkit\n",
    "from rdkit import Chem\n",
    "from rdkit.Chem import (\n",
    "    AllChem,\n",
    "    PandasTools,\n",
    "    Draw,\n",
    "    Descriptors,\n",
    "    MACCSkeys,\n",
    "    rdFingerprintGenerator,\n",
    ")\n",
    "\n",
    "#cancel the \"last operation show-up\" specific of Jupyter notebooks\n",
    "from IPython.core.interactiveshell import InteractiveShell\n",
    "InteractiveShell.ast_node_interactivity = \"all\"\n",
    "\n",
    "print(rdkit.__version__)"
   ]
  },
  {
   "cell_type": "markdown",
   "id": "a9fab9e8-4cb8-4596-98fa-83dbbfbcb0a6",
   "metadata": {},
   "source": [
    "### SMILES format\n",
    "\n",
    "<div class=\"intro\">\n",
    "    \n",
    "SMILES refers to a line notation for encoding molecular structures, using chemical symbols, and specifying bonds, rings, branching, aromaticity and even stereochemistry or isotopes. ```CC```, ```C=C```, ```C#C``` stand for ethane, ethene and ethyne, respectively. Typically, a number of equally valid SMILES strings can be written for a molecule. For example, ```CCO```, ```OCC``` and ```C(O)C``` all specify the structure of ethanol.\n",
    "\n",
    "</div>"
   ]
  },
  {
   "cell_type": "markdown",
   "id": "4b135055-dcf4-4f7b-8a31-d08f4bb9c61c",
   "metadata": {},
   "source": [
    "#### Creating molecules\n",
    "\n",
    "<div class=\"intro\">\n",
    "\n",
    "The methoxybenzene molecule, also known as anisole, a colorless liquid with a smell reminiscent of anise seed, will be used in the first part of this notebook. Ring structures are written by breaking each ring at an **arbitrary point**, and adding numerical ring closure labels to show connectivity between non-adjacent atoms. For example, cyclohexane may be written as ```C1CCCCC1```. \n",
    "\n",
    "One possible SMILES description for anisole is: ```C1=CC(OC)=CC=C1```. Let's check that and let's also see the difference with ```C1=CC(CO)=CC=C1```: \n",
    "    \n",
    "</div>"
   ]
  },
  {
   "cell_type": "code",
   "execution_count": null,
   "id": "f2aca4e0-7c62-4538-b538-f3b7577bad0e",
   "metadata": {},
   "outputs": [],
   "source": [
    "Chem.MolFromSmiles('C1=C(OC)C=CC=C1')\n",
    "Chem.MolFromSmiles('C1=C(CO)C=CC=C1')"
   ]
  },
  {
   "cell_type": "markdown",
   "id": "69fd9c63-6096-4c8c-9877-7c3d83e95a54",
   "metadata": {},
   "source": [
    "<div class=\"intro\">\n",
    "\n",
    "A ```Mol``` ```RDKit``` object has actually been created by calling ```Chem.MolFromSmiles```. It can be stored into a variable representing anisole. It seems quite convenient to call it ```anisole```. The value of this variable can be displayed in the notebook by typing its name and then running the cell. \n",
    "    \n",
    "</div>"
   ]
  },
  {
   "cell_type": "code",
   "execution_count": null,
   "id": "e6878cda-11d9-4533-bebd-865f18cc2ec2",
   "metadata": {},
   "outputs": [],
   "source": [
    "anisole = 'C1=C(OC)C=CC=C1'\n",
    "print(\"type of the anisole SMILES variable = \",type(anisole)) #string format\n",
    "anisoleMol = Chem.MolFromSmiles(anisole)\n",
    "print(\"type of the anisole variable after call to Chem.MolFromSmiles = \",type(anisoleMol)) #rdkit Mol format\n",
    "display(anisoleMol)"
   ]
  },
  {
   "cell_type": "markdown",
   "id": "9ef67911-86a5-4a57-a0d4-1698a6d0be6e",
   "metadata": {},
   "source": [
    "<div class=\"rqE\">\n",
    "    \n",
    "The 3D mol format has nothing to do with the ```Mol``` type of RDKit objects\n",
    "    \n",
    "</div>"
   ]
  },
  {
   "cell_type": "markdown",
   "id": "94a3c610-16a1-45c1-b16f-208b08fd52cc",
   "metadata": {},
   "source": [
    "<div class=\"exE\">\n",
    "\n",
    "Define a `Mol RDKit` object that will contain the vitamin C molecule\n",
    "</div>"
   ]
  },
  {
   "cell_type": "code",
   "execution_count": null,
   "id": "5ad893ec-4b13-4bbd-9d5f-1dcb40cac1ba",
   "metadata": {},
   "outputs": [],
   "source": [
    "# Enter your code here\n"
   ]
  },
  {
   "cell_type": "markdown",
   "id": "ce3a9fba-403c-434c-b795-7db55e938ffe",
   "metadata": {},
   "source": [
    "<div class=\"sol\">\n",
    "\n",
    "Want to see a possible answer? Uncomment the `# %load ./SolutionsToExercises/...` command below\n",
    "\n",
    "</div>"
   ]
  },
  {
   "cell_type": "code",
   "execution_count": null,
   "id": "3c57c688-98ca-4f7b-bf2a-d1ae08f4c8a0",
   "metadata": {},
   "outputs": [],
   "source": [
    "# %load ./SolutionsToExercises/Molecules/ascorbic.py"
   ]
  },
  {
   "cell_type": "markdown",
   "id": "68c15edc-eba7-4371-b74a-53a47d86c82b",
   "metadata": {},
   "source": [
    "#### Canonicalization\n",
    "\n",
    "<div class=\"intro\">\n",
    "    \n",
    "Different SMILES can represent the same molecule. This is a big problem in the context of cheminformatics, where you want unambiguous and unique compound descriptors. To do this, we can apply a canonicalization process. This concept refers to the generation of a unique SMILES for each molecule. We can use the ```MolToSmiles``` function in ```RDKit``` to get the SMILES of a ```Mol``` object. By default, ```RDKit``` canonicalizes the SMILES when applying this function.\n",
    "    \n",
    "</div>\n",
    "<br>\n",
    "<div class=\"rqE\">\n",
    "    \n",
    "`MolToSmiles` returns a string \n",
    "    \n",
    "</div>"
   ]
  },
  {
   "cell_type": "code",
   "execution_count": null,
   "id": "f9dd1891-2ecd-4471-ba62-3f8df7eb2d42",
   "metadata": {},
   "outputs": [],
   "source": [
    "anisoleCan=Chem.MolToSmiles(anisoleMol)\n",
    "print(\"initial SMILES = \",anisole)\n",
    "print(\"canonicalized anisoleCan variable = \",anisoleCan) #is a string at this step \n",
    "anisoleCan = Chem.MolFromSmiles(anisoleCan)\n",
    "print(\"type of the anisoleCan variable, i.e. after the call to Chem.MolFromSmiles = \",type(anisoleCan)) # it is now an RDKit Mol object\n",
    "display(anisoleCan) #plot in 2D"
   ]
  },
  {
   "cell_type": "markdown",
   "id": "8915b607-8c9e-45f9-97ea-bda94571ccb0",
   "metadata": {},
   "source": [
    "<div class=\"rqE\">\n",
    "    \n",
    "**There is no standard canonicalization**. The resulting SMILES will depend on the cheminformatics toolkit and the version that is used. If you want to perform a comparison/similarity/machine learning study using SMILES, you must first apply the same canonicalization process to ALL the molecules of interest.\n",
    "    \n",
    "</div>"
   ]
  },
  {
   "cell_type": "markdown",
   "id": "545af762-4237-4277-b110-ad800ff3899e",
   "metadata": {},
   "source": [
    "#### Conversion from MDL Molfile to SMILES"
   ]
  },
  {
   "cell_type": "code",
   "execution_count": null,
   "id": "6e6a7925-c195-4e1d-b5c1-8de0fe50bbe2",
   "metadata": {},
   "outputs": [],
   "source": [
    "# reading of a mol file \n",
    "anisole = Chem.MolFromMolFile('./Molecules-data/anisole.mol')\n",
    "anisole\n",
    "# again, the Mol type of anisole has nothing to do with the MDL molfile format\n",
    "type(anisole)"
   ]
  },
  {
   "cell_type": "markdown",
   "id": "1dcd5feb-daa7-4cc4-b3e1-78811d0b0b85",
   "metadata": {},
   "source": [
    "<div class=\"intro\">\n",
    "    \n",
    "Single molecules can be converted to text using several functions present in the ```rdkit.Chem``` module\n",
    "    \n",
    "</div>"
   ]
  },
  {
   "cell_type": "code",
   "execution_count": null,
   "id": "965998e1-3991-4c3d-9ecd-e0d76567f36d",
   "metadata": {},
   "outputs": [],
   "source": [
    "Chem.MolToSmiles(anisole)"
   ]
  },
  {
   "cell_type": "markdown",
   "id": "c62e05d1-419a-4073-b225-2cb41d85a7e8",
   "metadata": {},
   "source": [
    "<div class=\"intro\">\n",
    "    \n",
    "If you’d like to have the Kekule form of the SMILES, first Kekulize the molecule, then use the “kekuleSmiles” option    \n",
    "</div>"
   ]
  },
  {
   "cell_type": "code",
   "execution_count": null,
   "id": "ddbd8dc9-8ea2-4a8b-af97-6b70fafa5016",
   "metadata": {},
   "outputs": [],
   "source": [
    "Chem.Kekulize(anisole)\n",
    "Chem.MolToSmiles(anisole,kekuleSmiles=True)\n",
    "# It changes nothing to the 2D drawing\n",
    "anisole"
   ]
  },
  {
   "cell_type": "markdown",
   "id": "b275dc7f-932b-4ee0-84e7-bf41e73b1278",
   "metadata": {},
   "source": [
    "#### Conversion from SMILES to MDL Mol format "
   ]
  },
  {
   "cell_type": "markdown",
   "id": "ceb40843-3aec-4a0b-bb63-110b656f4b1c",
   "metadata": {},
   "source": [
    "<div class=\"intro\">\n",
    "\n",
    "MDL Mol blocks are also available, but hydrogen atoms are not infered in the first place, it's only the skeleton that is expanded into a 3D space. Let's see that for cyclobutane:\n",
    "</div>"
   ]
  },
  {
   "cell_type": "code",
   "execution_count": null,
   "id": "9068c7be-1709-4626-90b8-73279026a826",
   "metadata": {},
   "outputs": [],
   "source": [
    "cyclobutane = Chem.MolFromSmiles('C1CCC1')\n",
    "print(Chem.MolToMolBlock(cyclobutane))"
   ]
  },
  {
   "cell_type": "markdown",
   "id": "d1843472-e90d-4f0e-b673-e1c5780f5d19",
   "metadata": {},
   "source": [
    "<div class=\"intro\">\n",
    "\n",
    "To visualize it with the `molView()` class that actually uses the `py3Dmol` viewer widget, this MolFile format must be converted as a string\n",
    "</div>"
   ]
  },
  {
   "cell_type": "code",
   "execution_count": null,
   "id": "be43b578-b3ed-4e3c-bb9e-ddd9a1b6bd7c",
   "metadata": {},
   "outputs": [],
   "source": [
    "m = Chem.MolToMolBlock(cyclobutane)\n",
    "mv = molView(m,'mol')"
   ]
  },
  {
   "cell_type": "markdown",
   "id": "1d1b7d77-f490-40b5-bf81-6193bbced152",
   "metadata": {},
   "source": [
    "<div class=\"intro\">\n",
    "\n",
    "Now, add hydrogen atoms\n",
    "</div>"
   ]
  },
  {
   "cell_type": "code",
   "execution_count": null,
   "id": "17acae89-af90-47c7-9e45-e96a6e7b3cb5",
   "metadata": {},
   "outputs": [],
   "source": [
    "cyclobutaneH = Chem.AddHs(cyclobutane)\n",
    "print(Chem.MolToMolBlock(cyclobutaneH))\n",
    "cyclobutaneH"
   ]
  },
  {
   "cell_type": "code",
   "execution_count": null,
   "id": "7f55d3d8-859c-44d8-8e3c-082ce24b6756",
   "metadata": {},
   "outputs": [],
   "source": [
    "mH = Chem.MolToMolBlock(cyclobutaneH)\n",
    "m = molView(mH,'mol')"
   ]
  },
  {
   "cell_type": "markdown",
   "id": "8aa2214d-4adb-437d-8a58-f5e234afa99d",
   "metadata": {},
   "source": [
    "<div class=\"rqE\">\n",
    "    \n",
    "Cyclobutane is planar! It must be cleaned.\n",
    "    \n",
    "</div>"
   ]
  },
  {
   "cell_type": "markdown",
   "id": "aaeafd16-c79d-48ee-b5ab-a7dea8a0da2d",
   "metadata": {},
   "source": [
    "<div class=\"intro\">\n",
    "\n",
    "Cleaning of the structure, using the so-called ETKDG method. **This is not a geometry optimization based on the minimzation of the energy of the molecule!**\n",
    "</div>"
   ]
  },
  {
   "cell_type": "code",
   "execution_count": null,
   "id": "9fe26591-7676-4ace-8f80-ca785d4444b1",
   "metadata": {},
   "outputs": [],
   "source": [
    "AllChem.EmbedMolecule(cyclobutaneH)\n",
    "print(Chem.MolToMolBlock(cyclobutaneH))\n",
    "cyclobutaneH"
   ]
  },
  {
   "cell_type": "code",
   "execution_count": null,
   "id": "e4977487-9f21-4b9b-b773-e60cec56aee7",
   "metadata": {},
   "outputs": [],
   "source": [
    "mHopt = Chem.MolToMolBlock(cyclobutaneH)\n",
    "m = molView(mHopt,'mol')"
   ]
  },
  {
   "cell_type": "markdown",
   "id": "31bcf1a9-2d28-4f01-a7d3-6d648674300e",
   "metadata": {},
   "source": [
    "<div class=\"rqE\">\n",
    "    \n",
    "That's much better. In summary, it is possible, starting from a 2D SMILES coding, to end-up with a plausible 3D structure candidate.\n",
    "    \n",
    "</div>"
   ]
  },
  {
   "cell_type": "markdown",
   "id": "0630cff1-c5a3-44a8-9660-201c82fc62df",
   "metadata": {},
   "source": [
    "<div class=\"exE\">\n",
    "\n",
    "Do the same to propose a possible 3D geometry for vitamin C. Print the mol3D coding and display it with the `molView()` tool\n",
    "</div>"
   ]
  },
  {
   "cell_type": "code",
   "execution_count": null,
   "id": "29f392d3-f2b0-4429-80ba-7523c68b4c87",
   "metadata": {},
   "outputs": [],
   "source": [
    "# enter your code here\n",
    "\n"
   ]
  },
  {
   "cell_type": "markdown",
   "id": "c7234348-aa02-4865-ba82-d435534795dd",
   "metadata": {},
   "source": [
    "<div class=\"sol\">\n",
    "\n",
    "Want to see a possible answer? Uncomment the `# %load ./SolutionsToExercises/...` command below\n",
    "\n",
    "</div>"
   ]
  },
  {
   "cell_type": "code",
   "execution_count": null,
   "id": "42119120-912a-4675-a5c6-55e1cc8d7320",
   "metadata": {},
   "outputs": [],
   "source": [
    "# %load ./SolutionsToExercises/Molecules/ascorbic3D.py"
   ]
  },
  {
   "cell_type": "markdown",
   "id": "e4d471c1-ced4-44a7-8877-1a2f6580a71e",
   "metadata": {
    "tags": []
   },
   "source": [
    "### Playing with an RDKit Mol Object\n",
    "\n",
    "<div class=\"intro\">\n",
    "\n",
    "An  `RDKit Mol` object is actually a graph representing the molecule. In this graph, vertices represents the atoms and edges the bonds in the molecule. Therefore, atoms and bonds can be retrieved from this object\n",
    "\n",
    "</div>"
   ]
  },
  {
   "cell_type": "code",
   "execution_count": null,
   "id": "5e084514-fa28-4bea-b21b-6161c9fbdeaf",
   "metadata": {},
   "outputs": [],
   "source": [
    "anisole = 'C1=C(OC)C=CC=C1'\n",
    "anisoleMol = Chem.MolFromSmiles(anisole)\n",
    "anisoleCan = Chem.MolToSmiles(anisoleMol)\n",
    "anisoleCan = Chem.MolFromSmiles(anisoleCan)\n",
    "\n",
    "# standard way to copy molecules with rdkit\n",
    "anisoleCanOrg = Chem.Mol(anisoleCan)\n",
    "#Get total number of atoms\n",
    "n_atoms = anisoleCan.GetNumAtoms()\n",
    "print(f'Number of atoms: {n_atoms}')\n",
    "#Get total number of sigma bonds, i.e. the sigma skeleton of the molecule\n",
    "n_bonds = anisoleCan.GetNumBonds()\n",
    "print(f'Number of bonds: {n_bonds}')\n",
    "print()\n",
    "\n",
    "#create a list containing the atoms of the molecule\n",
    "atoms = list(anisoleCan.GetAtoms())\n",
    "#print the atomic number, atomicsymbol and hybridization for each atom in the molecule\n",
    "for i,atom in enumerate(atoms):\n",
    "    print(f\"Atom {i:3}: {atom.GetAtomicNum():3d} {atom.GetSymbol():>2} {atom.GetHybridization()}\")"
   ]
  },
  {
   "cell_type": "code",
   "execution_count": null,
   "id": "f4a7b4aa-9107-4fe2-9456-25802e296c0e",
   "metadata": {},
   "outputs": [],
   "source": [
    "display(anisoleCan)\n",
    "#create a list containing the bonds in the molecule\n",
    "bonds = list(anisoleCan.GetBonds())\n",
    "for i,bond in enumerate(bonds):\n",
    "    print(f\"Bond {i:3}: {bond.GetBeginAtomIdx():3}({bond.GetBeginAtom().GetSymbol():>2})-{bond.GetEndAtomIdx()}({bond.GetEndAtom().GetSymbol():>2}), {bond.GetBondType()} \")"
   ]
  },
  {
   "cell_type": "markdown",
   "id": "5219a3c4-0c9f-4d06-b661-db1acadbb58b",
   "metadata": {},
   "source": [
    "### Substructure search and highlight\n",
    "\n",
    "<div class=\"intro\">\n",
    "\n",
    "Atoms in a molecule can be highlighted by drawing a coloured solid or open circle around them, and bonds likewise can have a coloured outline applied. An obvious use is to show atoms and bonds that have matched a substructure query. The process in RDKit is based on [SMILES arbitrary target specification (SMARTS)](https://en.wikipedia.org/wiki/SMILES_arbitrary_target_specification), a language for describing molecular pattern.\n",
    "    \n",
    "Substructure searching, the process of finding a particular pattern (subgraph) in a molecule (graph), is one of the most important tasks for computers in chemistry. It is used in virtually every application that employs a digital representation of a molecule, including depiction (to highlight a particular functional group), drug design (searching a database for similar structures and activity), analytical chemistry (looking for previously-characterized structures and comparing their data to that of an unknown), and a host of other problems.\n",
    "\n",
    "SMARTS is a language that allows you to specify substructures using rules that are straightforward extensions of SMILES. For example, to search a database for phenol-containing structures, one would use the SMARTS string [OH]c1ccccc1 ([introduction copied from daylight.com](https://www.daylight.com/dayhtml/doc/theory/theory.smarts.html))\n",
    "\n",
    "</div>"
   ]
  },
  {
   "cell_type": "code",
   "execution_count": null,
   "id": "feb6158b-cb08-4042-b2fa-58f5fef36bef",
   "metadata": {},
   "outputs": [],
   "source": [
    "substructure = Chem.MolFromSmarts('c') #aromatic carbons\n",
    "substructure\n",
    "anisoleCan.HasSubstructMatch(substructure)\n",
    "m = anisoleCan.GetSubstructMatches(substructure)\n",
    "print(m)\n",
    "anisoleCan"
   ]
  },
  {
   "cell_type": "code",
   "execution_count": null,
   "id": "9e8d28f1-1fa9-485d-a8d1-ca777561fcd3",
   "metadata": {},
   "outputs": [],
   "source": [
    "substructure = Chem.MolFromSmarts('CO')  #CO, where is C is not aromatic\n",
    "substructure\n",
    "anisoleCan.HasSubstructMatch(substructure)\n",
    "m = anisoleCan.GetSubstructMatches(substructure)\n",
    "print(m)\n",
    "anisoleCan"
   ]
  },
  {
   "cell_type": "code",
   "execution_count": null,
   "id": "e3220fc5-64e2-4e0a-8b21-9f27e468ffbc",
   "metadata": {},
   "outputs": [],
   "source": [
    "substructure = Chem.MolFromSmarts('cO')  #CO, where is C is aromatic\n",
    "substructure\n",
    "anisoleCan.HasSubstructMatch(substructure)\n",
    "m = anisoleCan.GetSubstructMatches(substructure)\n",
    "print(m)\n",
    "anisoleCan"
   ]
  },
  {
   "cell_type": "code",
   "execution_count": null,
   "id": "41bd706c-f536-4d4e-9e3d-41f622791700",
   "metadata": {},
   "outputs": [],
   "source": [
    "substructure = Chem.MolFromSmarts('[C,c]O')  #CO, where is C is aromatic or not\n",
    "substructure\n",
    "anisoleCan.HasSubstructMatch(substructure)\n",
    "m = anisoleCan.GetSubstructMatches(substructure)\n",
    "print(m)\n",
    "anisoleCan"
   ]
  },
  {
   "cell_type": "markdown",
   "id": "07f6c7c0-7c99-4b0e-98e1-47ad88b490e2",
   "metadata": {},
   "source": [
    "### Morgan fingerprints\n",
    "\n",
    "\n",
    "<div class=\"intro\">\n",
    "\n",
    "ML algorithms usually take vectors as inputs and operate with them. 3D or 2D descriptors must be put into a vector form, without loosing their meaning. It is the case with molecules. How can we transform them into numbers to feed our ML algorithms?\n",
    "\n",
    "One common option is using molecular fingerprints. We will use here the so-called Morgan Fingerprint, that describes molecules as bit arrays (arrays of 1s and 0s).\n",
    "    \n",
    "The bits correspond to the circular environments of each atom in a molecule. The number of neighboring bonds and atoms to consider is set by the radius\n",
    "    \n",
    "</div>"
   ]
  },
  {
   "cell_type": "code",
   "execution_count": null,
   "id": "2a78d92e-db62-4c0f-8e85-cd678b762974",
   "metadata": {},
   "outputs": [],
   "source": [
    "import numpy as np\n",
    "import rdkit\n",
    "from rdkit import Chem\n",
    "from rdkit.Chem import (\n",
    "    AllChem,\n",
    "    PandasTools,\n",
    "    Draw,\n",
    "    Descriptors,\n",
    "    MACCSkeys,\n",
    "    rdFingerprintGenerator,\n",
    ")\n",
    "\n",
    "mfpgen = rdFingerprintGenerator.GetMorganGenerator(radius=3,fpSize=2048,includeChirality=True)\n",
    "\n",
    "anisoleMol = Chem.MolFromSmiles('COC1=CC=CC=C1')\n",
    "print(\"type of anisoleMol variable = \",type(anisoleMol))\n",
    "anisoleFp = mfpgen.GetFingerprint(anisoleMol)\n",
    "print(anisoleFp.GetNumBits()) #print vector length\n",
    "\n",
    "anisoleFPL = anisoleFp.ToList() #visualize vector as list.\n",
    "print(anisoleFPL)\n",
    "print(F\"{fg.BLUE}non-zero bits = {hl.BOLD}{np.nonzero(anisoleFp)}{fg.OFF}\")"
   ]
  },
  {
   "cell_type": "markdown",
   "id": "12945f3a-a14f-4bde-83d8-809759c1ac20",
   "metadata": {},
   "source": [
    "<div class=\"rq\">\n",
    "    \n",
    "A Morgan fingerprint is sparse. Let's illustrate this visually, like a kind of **barcode**.\n",
    "    \n",
    "</div>"
   ]
  },
  {
   "cell_type": "code",
   "execution_count": null,
   "id": "8c85ef43-3830-4fe0-b82c-e3c244ce50bb",
   "metadata": {},
   "outputs": [],
   "source": [
    "from matplotlib import pyplot as plt\n",
    "_ = plt.figure(figsize=(10,0.5))\n",
    "_ = plt.vlines(\n",
    "    [i for i, fp in enumerate(anisoleFPL) if fp > 0.5], ymin=0, ymax=1\n",
    ")\n",
    "_ = plt.xlabel(\"bit index\")\n",
    "_ = plt.yticks([])\n",
    "_ = plt.show()"
   ]
  },
  {
   "cell_type": "markdown",
   "id": "ad6daa5a-7783-408f-8efd-b890092a82d3",
   "metadata": {},
   "source": [
    "<div class=\"rq\">\n",
    "    \n",
    "The canonicalized SMILES of anisole is now available as a 1D vector fingerprint, that can be used as an input vector in an ML framework.\n",
    "    \n",
    "</div>"
   ]
  },
  {
   "cell_type": "markdown",
   "id": "503a3adf-7f69-4da0-8039-2c9a39831fdf",
   "metadata": {},
   "source": [
    "<div class=\"introT\" title=\"Do these bits have a meaning?\">\n",
    "\n",
    "Yes, let's plot their chemical counterpart. **NB** We are going to use `GetMorganFingerprintAsBitVect()`, a deprecated function \n",
    "</div>"
   ]
  },
  {
   "cell_type": "code",
   "execution_count": null,
   "id": "62975c3b-bffd-4d89-80b6-71b182cf6542",
   "metadata": {},
   "outputs": [],
   "source": [
    "bit={}\n",
    "anisoleFp = AllChem.GetMorganFingerprintAsBitVect(anisoleMol, radius=3, nBits=2048, useChirality=True, bitInfo=bit) #nBits is the number of bits (length) of the fingerprint\n",
    "print(anisoleFp.GetNumBits()) #print vector length\n",
    "\n",
    "anisoleFPL = anisoleFp.ToList() #visualize vector as list.\n",
    "print(F\"{fg.BLUE}non-zero bits = {hl.BOLD}{np.nonzero(anisoleFp)}{fg.OFF}\")\n",
    "\n",
    "list_bits = [(anisoleMol, x, bit) for x in anisoleFp.GetOnBits()]\n",
    "legends = [f\"bit-{str(x)}\" for x in anisoleFp.GetOnBits()]\n",
    "Draw.DrawMorganBits(list_bits, molsPerRow=6,legends=legends)   "
   ]
  },
  {
   "cell_type": "markdown",
   "id": "98133891-e582-491b-aae8-8d4a1e07b455",
   "metadata": {},
   "source": [
    "<div class=\"rqT\" title = \"Default highlight colors for the Morgan bits:\">\n",
    "\n",
    "- blue: the central atom in the environment\n",
    "- yellow: aromatic atoms\n",
    "- gray: aliphatic ring atoms\n",
    "</div>"
   ]
  },
  {
   "cell_type": "markdown",
   "id": "f8c393fa-e2df-4435-8353-64461c778b8c",
   "metadata": {},
   "source": [
    "<div class=\"exE\">\n",
    "\n",
    "Visualize the 2048-bits Morgan fingerprint of the canonicalized vitamin C (radius = 2Å)\n",
    "</div>"
   ]
  },
  {
   "cell_type": "code",
   "execution_count": null,
   "id": "86afbd83-fd8b-4c25-94fa-82db3ccd6549",
   "metadata": {},
   "outputs": [],
   "source": [
    "# enter your code here\n"
   ]
  },
  {
   "cell_type": "markdown",
   "id": "e57826a1-6f9d-41f4-a745-fbb87087bab5",
   "metadata": {},
   "source": [
    "<div class=\"sol\">\n",
    "\n",
    "Want to see a possible answer? Uncomment the `# %load ./SolutionsToExercises/...` command below\n",
    "\n",
    "</div>"
   ]
  },
  {
   "cell_type": "code",
   "execution_count": null,
   "id": "22b98aef-2db8-4b59-bcbb-77a076792c46",
   "metadata": {},
   "outputs": [],
   "source": [
    "# %load ./SolutionsToExercises/Molecules/ascorbicMFP.py"
   ]
  },
  {
   "cell_type": "markdown",
   "id": "d6ba0238-cbd6-4b2a-bbb1-4084bd2f6ce0",
   "metadata": {
    "tags": []
   },
   "source": [
    "### Reading and using molecular databases with SMILES encoding, using pandas\n",
    "\n",
    "<div class=\"intro\">\n",
    "\n",
    "*En route* toward data science and machine learning, thanks to the coupling between ```RDKit``` and ```pandas```! We will use a csv file that contains organic molecules and several data, mainly obtained from quantum chemistry calculations (DFT/B3LYP/6-31G(2df,p)). It is a small selection of the [GDB-9 134k molecules database](https://datarepository.wolframcloud.com/resources/GDB9-Database/), aiming at benchmarking existing methods, developing new methods, such as hybrid quantum mechanics/machine learning, and systematic identifying structure-property relationships ([doi: 10.1038/sdata.2014.22](https://www.nature.com/articles/sdata201422)).\n",
    "    \n",
    "Importing ```pandasTools``` enables several features that allow for using RDKit molecules as columns of a Pandas dataframe\n",
    "</div>"
   ]
  },
  {
   "cell_type": "code",
   "execution_count": null,
   "id": "80a5fc68-f784-4362-8817-2ba26e37ee94",
   "metadata": {},
   "outputs": [],
   "source": [
    "from rdkit.Chem import PandasTools\n",
    "import pandas as pd"
   ]
  },
  {
   "cell_type": "markdown",
   "id": "2c841581-e896-4893-9272-56c32974f3b3",
   "metadata": {},
   "source": [
    "#### Read the database"
   ]
  },
  {
   "cell_type": "code",
   "execution_count": null,
   "id": "6ed18c7a-4345-4f9a-bf43-8c126a8c2a9d",
   "metadata": {},
   "outputs": [],
   "source": [
    "df = pd.read_csv('./Molecules-data/dsgdb9-299xtr.csv',sep=\"\\t\")\n",
    "display(df)\n",
    "df.count()\n",
    "display(df.describe().style.format(\"{0:.2f}\"))"
   ]
  },
  {
   "cell_type": "markdown",
   "id": "61c3e4a1-a3f7-4ea9-a4f7-53be41fdeec1",
   "metadata": {},
   "source": [
    "#### Create new columns with RDKit objects or properties\n",
    "\n",
    "<div class=\"intro\">\n",
    "\n",
    "A new column can be created holding the respective RDKit molecule objects. Fingerprints can be included to accelerate substructure searches on the dataframe. The 'SMILES BASIC' data in the df dataframe will be converted into  ```mol``` objects that can be processed by RDKit. You can do this using the ```PandasTools.AddMoleculeColumnToFrame``` function.\n",
    "    \n",
    "But we will first apply the same canonicalization operation to all the examples we have in the dataframe, using the aptly named ```apply()``` function.\n",
    "</div>"
   ]
  },
  {
   "cell_type": "code",
   "execution_count": null,
   "id": "2787c6f9-c120-4a0b-9e62-df165784e467",
   "metadata": {},
   "outputs": [],
   "source": [
    "def canonicalize_smiles(smiles):\n",
    "    '''This function takes a non-canonical SMILES and returns the canonical version\n",
    "    \n",
    "    Args: \n",
    "        -smiles: str, non-canonical SMILES of a molecule\n",
    "    \n",
    "    Out:\n",
    "        - canonical_smiles: str, canonical SMILES of the molecule\n",
    "    '''\n",
    "    \n",
    "    mol = Chem.MolFromSmiles(smiles) #create a mol object from input smiles.\n",
    "    can = Chem.MolToSmiles(mol) #convert the previous mol object to SMILES. By default, RDKit canonicalizes the SMILES when applying this MolToSmiles() function\n",
    "\n",
    "    return can\n",
    "\n",
    "df['CANONICAL SMILES BASIC'] = df['SMILES BASIC'].apply(canonicalize_smiles)\n",
    "display(df)"
   ]
  },
  {
   "cell_type": "code",
   "execution_count": null,
   "id": "09c2c8cb-897d-4fed-966a-eb84c7783e75",
   "metadata": {},
   "outputs": [],
   "source": [
    "df2=df.copy()\n",
    "PandasTools.AddMoleculeColumnToFrame(df2, smilesCol='SMILES BASIC',includeFingerprints=True,molCol='Molecule') #inserted as the last column\n",
    "df2.insert(1, 'Molecule', df2.pop('Molecule')) #move after column 1\n",
    "display(df2)"
   ]
  },
  {
   "cell_type": "markdown",
   "id": "1e9b8df0-f56b-4b6c-bdf1-85e494b4a857",
   "metadata": {},
   "source": [
    "<div class=\"intro\">\n",
    "\n",
    "We will now use the `apply()` function of Pandas to compute the molecular weight of all our molecules. This function takes a `mol` object as input and returns its molecular weight.\n",
    "</div>"
   ]
  },
  {
   "cell_type": "code",
   "execution_count": null,
   "id": "fc63830f-4013-4053-97b8-407158c966a0",
   "metadata": {},
   "outputs": [],
   "source": [
    "from rdkit.Chem.Descriptors import MolWt\n",
    "df2['MW'] = df2['Molecule'].apply(MolWt)\n",
    "df2.insert(4, 'MW', df2.pop('MW')) #move after column 4\n",
    "display(df2)"
   ]
  },
  {
   "cell_type": "markdown",
   "id": "be6b0cfb-ad07-436c-a3ec-d3f0e91580b2",
   "metadata": {},
   "source": [
    "<div class=\"intro\">\n",
    "\n",
    "Let's add other descriptors, such as the number of hydrogen bond donor (`HBD`) and acceptors (`HBA`) in a molecule.\n",
    "</div>"
   ]
  },
  {
   "cell_type": "code",
   "execution_count": null,
   "id": "1e38b067-b4e0-4bd6-95a1-cb5d38d36c12",
   "metadata": {},
   "outputs": [],
   "source": [
    "from rdkit.Chem.rdMolDescriptors import CalcNumHBA, CalcNumHBD\n",
    "df2['HBA'] = df2['Molecule'].apply(Chem.AddHs)\n",
    "df2['HBD'] = df2['Molecule'].apply(Chem.AddHs)\n",
    "df2['HBA'] = df2['HBA'].apply(CalcNumHBA)\n",
    "df2['HBD'] = df2['HBD'].apply(CalcNumHBD)\n",
    "df2.insert(5, 'HBA', df2.pop('HBA')) #move after column 5\n",
    "df2.insert(6, 'HBD', df2.pop('HBD')) #move after column 6\n",
    "display(df2)"
   ]
  },
  {
   "cell_type": "markdown",
   "id": "d5b4f2f2-001a-4af7-9f3a-1cd2c591c560",
   "metadata": {},
   "source": [
    "#### Visualize the molecules in a grid, together with some properties"
   ]
  },
  {
   "cell_type": "code",
   "execution_count": null,
   "id": "71afc138-cbae-455d-9a64-ded1643d9c2a",
   "metadata": {
    "tags": []
   },
   "outputs": [],
   "source": [
    "from rdkit.Chem.Draw import IPythonConsole\n",
    "IPythonConsole.drawOptions.bondLineWidth=2\n",
    "#FrameToGridImage: Draw grid image of mols in pandas DataFrame\n",
    "PandasTools.FrameToGridImage(df2, molsPerRow=3, column='Molecule',legends=[\n",
    "        f\"{molecule['dsgdb9 ID']}: {molecule['MW']:.2f} Da. HB {molecule['HBD']}D:{molecule['HBA']}A\"\n",
    "        for index, molecule in df2.iterrows()],\n",
    "        useSVG=True, subImgSize=(400, 200), maxMols=df2.shape[0])"
   ]
  },
  {
   "cell_type": "markdown",
   "id": "b624ea38-44d1-4811-aa3b-4b13292f7ec4",
   "metadata": {},
   "source": [
    "#### Select molecules that match a pattern and visualize them on a grid \n",
    "\n",
    "<div class=\"intro\">\n",
    "\n",
    "The substructure will be given as a SMARTS ([see examples on the Daylight website](https://www.daylight.com/dayhtml_tutorials/languages/smarts/smarts_examples.html))\n",
    "\n",
    "We will search for ketones. A carbonyl group can be simply identified by `[CX3]=[OX1]` (a carbon that has exactly three connections is double bonded to an oxygen atom that has a single connection). But it hits  carboxylic acid, ester, ketone, aldehyde, carbonic acid/ester,anhydride, carbamic acid/ester, acyl halide, amide.\n",
    "\n",
    "This is why the SMARTS for ketones is `[#6][CX3](=O)[#6]`\n",
    "- [CX3] = C with exactly 3 connections\n",
    "- [#6] carbon atom\n",
    "- (=O) oxygen involved in a double bond\n",
    "\n",
    "</div>"
   ]
  },
  {
   "cell_type": "code",
   "execution_count": null,
   "id": "810b082c-4c00-49d6-b492-73c177abbc2c",
   "metadata": {},
   "outputs": [],
   "source": [
    "substructure = Chem.MolFromSmarts('[#6][CX3](=O)[#6]') #N-containing compounds\n",
    "df2['ketone'] = df2['Molecule'].apply(lambda x: x.HasSubstructMatch(substructure))\n",
    "df2.insert(2, 'ketone', df2.pop('ketone')) #move after column 2\n",
    "display(df2)"
   ]
  },
  {
   "cell_type": "markdown",
   "id": "a0d5c743-b3d3-409b-b80f-28889cce5581",
   "metadata": {},
   "source": [
    "<div class=\"rqT\" title=\"There is trick right here\">\n",
    "\n",
    "A very important one: how to save an svg file\n",
    "</div>"
   ]
  },
  {
   "cell_type": "code",
   "execution_count": null,
   "id": "5229bbcc-9e2b-4126-8271-40197fac52c0",
   "metadata": {},
   "outputs": [],
   "source": [
    "print(f\"There are {df2.loc[df2['ketone']].shape[0]} molecules containing at least one ketone group\")\n",
    "\n",
    "svg = PandasTools.FrameToGridImage(df2.loc[df2['ketone']], molsPerRow=3, column='Molecule',legends=[\n",
    "        f\"{molecule['dsgdb9 ID']}: {molecule['MW']:.2f} Da. HB {molecule['HBD']}D:{molecule['HBA']}A\"\n",
    "        for index, molecule in df2.iterrows()],\n",
    "        useSVG=True, subImgSize=(400, 200), maxMols=df2.loc[df2['ketone']].shape[0])\n",
    "\n",
    "display(svg)\n",
    "\n",
    "open('FiguresCreatedInNotebooks/rdkit/MoleculesWithKetones.svg', 'w').write(svg.data)"
   ]
  },
  {
   "cell_type": "markdown",
   "id": "259023a4-7fb5-4e24-943d-47450d58dc63",
   "metadata": {
    "tags": []
   },
   "source": [
    "## Chemical (or molecular) similarity visualized as a heatmap\n",
    "\n",
    "<div class=\"intro\">\n",
    "\n",
    "[Chemical similarity](https://en.wikipedia.org/wiki/Chemical_similarity) refers to the similarity of chemical elements, molecules or chemical compounds with respect to either structural or functional qualities. It is often described as an inverse of a measure of distance in descriptor space. The most popular similarity measure for comparing chemical structures represented by means of fingerprints is the **Tanimoto** (or Jaccard) coefficient *T*. Two structures are usually considered similar if *T* > 0.85. Let's enter into more details.\n",
    "\n",
    "**Similarity measures**, calculations that quantify the similarity of two molecules, and screening, a way of rapidly eliminating molecules as candidates in a substructure search, are both processes that use **fingerprints**. Fingerprints are a very abstract representation of certain **structural features** of a molecule. Structure in a broad sense, it can be either 3D coordinates or the identification of chemical groups.\n",
    "\n",
    "**Structural keys** were the first type of screen employed for high-speed screening of chemical databases. A structural key is usually represented as a boolean array. It is a bitmap in which each bit represents the presence (TRUE) or absence (FALSE) of a specific **structural feature**.\n",
    "\n",
    "**Structural keys suffer from a lack of generality**. The choice of patterns depends on the nature of the queries to be made: A structural key used by a group of pharmaceutical researchers might be nearly worthless to a group of petrochemical researchers. **Fingerprints** address this lack of generality by eliminating the idea of pre-defined patterns\n",
    "\n",
    "---\n",
    "\n",
    "A **fingerprint** is a boolean array, or bitmap, but unlike a structural key there is no assigned meaning to each bit. Your own fingerprint is very characteristic of you, yet there is no meaning to any particular feature. Similarly, a pattern's fingerprint characterizes the pattern, but **the meaning of any particular bit is not well defined**. \n",
    "Unlike a structural key with its pre-defined patterns, the patterns for a molecule's fingerprint are generated from the molecule itself. The fingerprinting algorithm examines the molecule and generates the following:\n",
    "\n",
    "- a pattern for each atom\n",
    "- a pattern representing each atom and its nearest neighbors (plus the bonds that join them)\n",
    "- a pattern representing each group of atoms and bonds connected by paths up to 2 bonds long\n",
    "- ... atoms and bonds connected by paths up to 3 bonds long\n",
    "- ... continuing....\n",
    "\n",
    "**For example, the molecule OC=CN would generate the following patterns**:\n",
    "\n",
    "- 0-bond paths:\t  C\t  O\t  N\n",
    "- 1-bond paths:\t  OC\t  C=C\t  CN\n",
    "- 2-bond paths:\t  OC=C\t  C=CN\t\n",
    "- 3-bond paths:\t  OC=CN\t\n",
    "\n",
    "---\n",
    "\n",
    "**Fingerprints allow to evaluate the structural similarity between two compounds**. Another approach would consist in ranking them according to the number of physical properties and reactions they share. Fingerprints effectively encode the substructures present in a molecule. It would not seem unreasonable that the proportion of substructures in common between two molecules should be a reasonable measure of similarity of the overall molecules. In mathematical terms this is a comparison of the bits in the fingerprints which are set on. Let's define a, b, c, and d as:\n",
    "- a is the count of bits on in system A but not in system B\n",
    "- b is the count of bits on in system B but not in system A\n",
    "- c is the count of the bits on in both system A and system B\n",
    "- d is the count of the bits off in both system A and system B\n",
    "\n",
    "The popular so-called **Tanimoto (or Jaccard) similarity coefficient** is calculated as:\n",
    "$$\\frac{c}{a+b+c}$$\n",
    "It may be regarded as the proportion of the \"on-bits\" which are shared.\n",
    "\n",
    "</div>"
   ]
  },
  {
   "cell_type": "markdown",
   "id": "059fcf0a-450f-4263-bd4f-f0307640eabf",
   "metadata": {},
   "source": [
    "### Read the database\n",
    "\n",
    "We will play with a reduced subset of 25 compounds"
   ]
  },
  {
   "cell_type": "code",
   "execution_count": null,
   "id": "9fe6b666-fa0c-4af3-8fff-3de7d708e5fe",
   "metadata": {},
   "outputs": [],
   "source": [
    "df25mols = pd.read_csv('./Molecules-data/dsgdb9-25xtr.csv',sep=\"\\t\")\n",
    "df25mols.count()\n",
    "PandasTools.AddMoleculeColumnToFrame(df25mols, smilesCol='SMILES BASIC',includeFingerprints=True,molCol='Molecule')\n",
    "PandasTools.FrameToGridImage(df25mols, molsPerRow=3, column='Molecule',legends=[\n",
    "        f\"{molecule['dsgdb9 ID']}: {molecule['composition']}\"\n",
    "        for index, molecule in df25mols.iterrows()],\n",
    "        useSVG=True, subImgSize=(400, 200), maxMols=df25mols.shape[0])"
   ]
  },
  {
   "cell_type": "markdown",
   "id": "088e7c5f-fde3-4203-81e2-dd41b7cca310",
   "metadata": {},
   "source": [
    "### Calculate the similarity criterion between all pairs of molecules\n",
    "\n",
    "<div class = \"intro\">\n",
    "\n",
    "The MACCS (Molecular ACCess System) keys are one of the most commonly used structural keys. They are sometimes referred to as the MDL keys, named after the company that developed them. While there are two sets of MACCS keys (one with 960 keys and the other containing a subset of 166 keys), only the shorter fragment definitions are available to the public. These 166 public keys are implemented in popular open-source cheminformatics software packages, including RDKit. The fragment definitions for the MACCS 166 keys can be found in [this document](https://github.com/rdkit/rdkit/blob/master/rdkit/Chem/MACCSkeys.py), under the form of [SMARTS](https://www.daylight.com/dayhtml/doc/theory/theory.smarts.html) patterns.\n",
    "\n",
    "</div>"
   ]
  },
  {
   "cell_type": "code",
   "execution_count": null,
   "id": "44276852-ea96-4a23-9643-66fa27c596fc",
   "metadata": {},
   "outputs": [],
   "source": [
    "from rdkit import DataStructs\n",
    "from rdkit.Chem import MACCSkeys\n",
    "\n",
    "fpsMK = [MACCSkeys.GenMACCSKeys(mi['Molecule']) for i,mi in df25mols.iterrows()]\n",
    "\n",
    "Similarity = np.zeros((len(fpsMK),len(fpsMK)))\n",
    "IDMol = []\n",
    "\n",
    "for i,mi in df25mols.iterrows():\n",
    "    IDMol.append(mi['dsgdb9 ID'])\n",
    "    for j,mj in df25mols.iterrows():\n",
    "        Similarity[i][j] = DataStructs.DiceSimilarity(fpsMK[i],fpsMK[j])"
   ]
  },
  {
   "cell_type": "code",
   "execution_count": null,
   "id": "5bada408-7922-497b-88f2-27a02e38a6bb",
   "metadata": {},
   "outputs": [],
   "source": [
    "dfSimilarity = pd.DataFrame(Similarity, columns=IDMol, index=IDMol) \n",
    "display(dfSimilarity)"
   ]
  },
  {
   "cell_type": "markdown",
   "id": "434ad58a-58f2-4df3-98fd-43043a3035b9",
   "metadata": {},
   "source": [
    "### Heatmap of the chemical similarity, using seaborn"
   ]
  },
  {
   "cell_type": "code",
   "execution_count": null,
   "id": "44f95b56-33ce-4944-9f00-cd6786e83b90",
   "metadata": {},
   "outputs": [],
   "source": [
    "import seaborn as sns\n",
    "plt.figure(figsize=(16,16))\n",
    "sns.heatmap(dfSimilarity, cmap='seismic', annot = False)\n",
    "plt.show()"
   ]
  },
  {
   "cell_type": "markdown",
   "id": "ac536c1e-e669-4cd8-b8a5-2e9b086def0f",
   "metadata": {},
   "source": [
    "### Heatmap of the chemical similarity, using plotly"
   ]
  },
  {
   "cell_type": "code",
   "execution_count": null,
   "id": "d0ca055a-9c14-4a89-9220-0d5d8ab51cbd",
   "metadata": {},
   "outputs": [],
   "source": [
    "import plotly.express as px\n",
    "fig = px.imshow(dfSimilarity, x=dfSimilarity.columns.astype(str), y=dfSimilarity.index.astype(str),color_continuous_scale='RdBu_r')\n",
    "fig.update_layout(width=1000,height=1000)"
   ]
  },
  {
   "cell_type": "markdown",
   "id": "9c8599c1-c8a8-42e0-99b0-3a6a64b07a2a",
   "metadata": {},
   "source": [
    "## The maximum common structure\n",
    "\n",
    "<div class='intro'>\n",
    "    \n",
    "MCS is defined as the largest substructure that appears in two or more candidate molecules\n",
    "    \n",
    "</div>\n",
    "\n",
    "<div class='rq'>\n",
    "    \n",
    "To be developed...\n",
    "</div>"
   ]
  },
  {
   "cell_type": "code",
   "execution_count": null,
   "id": "d11476eb-3b0b-48f7-b9f9-5c3bf3a3bac2",
   "metadata": {
    "tags": []
   },
   "outputs": [],
   "source": [
    "from rdkit.Chem import rdFMCS"
   ]
  },
  {
   "cell_type": "markdown",
   "id": "6c5e3644-802d-4ed7-8113-f9af6d4d2fcd",
   "metadata": {},
   "source": [
    "## Molecular networks\n",
    "\n",
    "<div class=\"intro\">\n",
    "\n",
    "A molecular network is a graph in which the nodes represent molecules (or chemical entities such as fragments, conformers, spectra, etc.), and the edges encode a relationship or similarity between those molecules. It is a way to represent and analyze complex collections of molecules by leveraging tools from graph theory and machine learning.\n",
    "\n",
    "Depending on the context, it can take several forms:\n",
    "\n",
    "- In mass spectrometry (MS/MS)\n",
    "    - A graph is built where molecules (MS/MS spectra) are connected if they share similar fragments.\n",
    "    - Example: GNPS (Global Natural Products Social Molecular Networking) is a well-known platform for constructing such networks from metabolomics data.\n",
    "- In cheminformatics / drug design\n",
    "    - Nodes = molecules (SMILES, 2D/3D structures).\n",
    "    - Edges = a similarity measure (e.g., Tanimoto on molecular fingerprints such as Morgan fingerprints).\n",
    "\n",
    "This enables grouping chemical families, exploring diversity, or visualizing reaction trajectories.\n",
    "</div>"
   ]
  },
  {
   "cell_type": "markdown",
   "id": "a35bfe24-3e13-4dcb-995f-f64c5d0d5e3c",
   "metadata": {},
   "source": [
    "### Tools"
   ]
  },
  {
   "cell_type": "code",
   "execution_count": null,
   "id": "0bed7199-746d-468e-9ace-23e004f7c3fd",
   "metadata": {},
   "outputs": [],
   "source": [
    "def canonical_smiles_and_mfp(smiles, radius=3, nBits=2048, isomeric=True, countSimulation=False):\n",
    "    from rdkit.Chem import AllChem\n",
    "    from rdkit.Chem.rdFingerprintGenerator import GetMorganGenerator\n",
    "    \"\"\"\n",
    "    Return the RDKit-canonical SMILES, the RDKit Mol, and a Morgan fingerprint\n",
    "    (ECFP) for an input SMILES string.\n",
    "\n",
    "    Parameters\n",
    "    ----------\n",
    "    smiles : str\n",
    "        Input (possibly non-canonical) SMILES string.\n",
    "    radius : int, default=3\n",
    "        Radius for the Morgan fingerprint.\n",
    "        `radius=2` corresponds to ECFP4,\n",
    "        `radius=3` to ECFP6.\n",
    "    nBits : int, default=2048\n",
    "        Length (number of bits) of the fingerprint vector.\n",
    "    isomeric : bool, default=True\n",
    "        Whether to include stereochemistry in the canonical SMILES.\n",
    "    countSimulation : bool, default=False\n",
    "        Count fingerprints preserve multiplicity of features, which can improve similarity metrics and ML models when repetition matters\n",
    "\n",
    "    Returns\n",
    "    -------\n",
    "    canonical_smiles : str or None\n",
    "        Canonical SMILES generated by RDKit, or ``None`` if parsing fails.\n",
    "    mol : rdkit.Chem.rdchem.Mol or None\n",
    "        RDKit molecule object, or ``None`` if parsing fails.\n",
    "    mfp : rdkit.DataStructs.cDataStructs.ExplicitBitVect or None\n",
    "        Morgan fingerprint bit vector, or ``None`` if parsing fails.\n",
    "\n",
    "    Notes\n",
    "    -----\n",
    "    - Canonicalization is performed by ``Chem.MolToSmiles`` with RDKit defaults.\n",
    "      If you need stereochemistry encoded, consider using\n",
    "      ``Chem.MolToSmiles(mol, isomericSmiles=True)``.\n",
    "    - On invalid SMILES, the function returns ``(None, None, None)``.\n",
    "\n",
    "    Examples\n",
    "    --------\n",
    "    >>> canonical_smiles_and_mfp(\"OC(C)C\")[0]\n",
    "    'CC(C)O'\n",
    "    \"\"\"\n",
    "    \n",
    "    mol = Chem.MolFromSmiles(smiles) #create a mol object from input smiles.\n",
    "    if mol is None:\n",
    "        return None, None, None\n",
    "    canonical_smiles = Chem.MolToSmiles(mol, isomericSmiles=isomeric)\n",
    "    genmfp = GetMorganGenerator(\n",
    "        radius=radius,\n",
    "        fpSize=nBits,\n",
    "        includeChirality=isomeric,  # include stereochemistry bits if desired\n",
    "        countSimulation=countSimulation # captures repetition of motifs (e.g., multiple phenyls, many tert-butyls) if desired\n",
    "    )\n",
    "    mfp = genmfp.GetFingerprint(mol)\n",
    "    gencnt = GetMorganGenerator(radius=radius,\n",
    "                                fpSize=nBits,\n",
    "                                includeChirality=isomeric)\n",
    "    cmfp = gencnt.GetCountFingerprint(mol)\n",
    "    return canonical_smiles, mol, mfp, cmfp\n",
    "\n"
   ]
  },
  {
   "cell_type": "markdown",
   "id": "ec56ae76-d691-4c46-9d2e-ec66e2c686da",
   "metadata": {},
   "source": [
    "### Application"
   ]
  },
  {
   "cell_type": "code",
   "execution_count": null,
   "id": "9b073a71-595f-4cdb-b107-97cce5dcede8",
   "metadata": {},
   "outputs": [],
   "source": [
    "from rdkit import Chem\n",
    "from rdkit.Chem import AllChem, DataStructs, Draw\n",
    "from rdkit.Chem import rdFingerprintGenerator\n",
    "from rdkit.Chem.Draw import IPythonConsole\n",
    "from rdkit.Chem import PandasTools\n",
    "# nicer drawings in notebooks\n",
    "IPythonConsole.ipython_useSVG = True  # crisp SVGs\n",
    "import networkx as nx\n",
    "import matplotlib.pyplot as plt\n",
    "import pandas as pd\n",
    "\n",
    "IPythonConsole.drawOptions.bondLineWidth=2\n",
    "PandasTools.ChangeMoleculeRendering(renderer=\"SVG\")\n",
    "\n",
    "# Your SMILES list\n",
    "smiles_list = [\"CCCCO\", \"CCO\", \"CCOC\", \"CCN\", \"c1ccccc1\", \"c1ccncc1\", \"CC(=O)O\", \"CC(=O)OC\"]\n",
    "\n",
    "# Build a DataFrame\n",
    "df = pd.DataFrame({\n",
    "    \"SMILES\": smiles_list,\n",
    "})\n",
    "\n",
    "display(df)"
   ]
  },
  {
   "cell_type": "code",
   "execution_count": null,
   "id": "2146e1dc-6ce1-4f03-9b8e-6cf42d08314d",
   "metadata": {},
   "outputs": [],
   "source": [
    "df['CANONICAL SMILES'],df['ROMol'], df['mfp'], df['cmfp'] = zip(*df['SMILES'].apply(lambda s: canonical_smiles_and_mfp(s, countSimulation=True)))\n",
    "display(df)\n",
    "\n",
    "PandasTools.FrameToGridImage(df, molsPerRow=5, column='ROMol',legends=[\n",
    "        f\"{index}. {molecule['CANONICAL SMILES']}\"\n",
    "        for index, molecule in df.iterrows()],\n",
    "        useSVG=True, subImgSize=(200, 200), maxMols=df.shape[0])"
   ]
  },
  {
   "cell_type": "code",
   "execution_count": null,
   "id": "0412f76f-6f22-409e-aa29-886cf2c16982",
   "metadata": {},
   "outputs": [],
   "source": [
    "import numpy as np\n",
    "import networkx as nx\n",
    "import matplotlib.pyplot as plt\n",
    "from rdkit import DataStructs\n",
    "\n",
    "def build_similarity_graph(fps, threshold=0.45, knn=None):\n",
    "    \"\"\"\n",
    "    Build a molecular network from a list of RDKit fingerprints.\n",
    "    - If knn is set (e.g., 8), connects each node to its k nearest neighbors.\n",
    "    - Otherwise connects pairs whose Tanimoto >= threshold.\n",
    "    \"\"\"\n",
    "    G = nx.Graph()\n",
    "    n = len(fps)\n",
    "    G.add_nodes_from(range(n))\n",
    "    for i in range(n):\n",
    "        sims = DataStructs.BulkTanimotoSimilarity(fps[i], fps)\n",
    "        sims[i] = 0.0  # remove self\n",
    "        if knn is not None:\n",
    "            nbrs = np.argsort(sims)[-knn:]\n",
    "            for j in nbrs:\n",
    "                w = float(sims[j])\n",
    "                if w > 0:\n",
    "                    G.add_edge(i, j, weight=w)\n",
    "        else:\n",
    "            for j, w in enumerate(sims):\n",
    "                if w >= threshold:\n",
    "                    G.add_edge(i, j, weight=float(w))\n",
    "    return G\n",
    "\n",
    "# Build graph (choose one of the two approaches)\n",
    "G = build_similarity_graph(df['mfp'].tolist(), threshold=0.2)\n",
    "\n",
    "# Add handy node attributes for later (labels, etc.)\n",
    "for i in G.nodes():\n",
    "    G.nodes[i]['smiles'] = df.loc[i, 'SMILES']\n",
    "    if 'CANONICAL SMILES' in df.columns:\n",
    "        G.nodes[i]['canonical'] = df.loc[i, 'CANONICAL SMILES']\n",
    "    print(i,G[i])\n",
    "\n",
    "# Draw (quick look)\n",
    "pos = nx.spring_layout(G, weight='weight', seed=42)\n",
    "edge_w = [1.0 + 3.0 * G[u][v]['weight'] for u, v in G.edges()]\n",
    "labels = {i: G.nodes[i].get('canonical', G.nodes[i]['smiles']) for i in G.nodes()}\n",
    "\n",
    "plt.figure(figsize=(7,6))\n",
    "nx.draw_networkx_edges(G, pos, width=edge_w, alpha=0.3)\n",
    "nx.draw_networkx_nodes(G, pos, node_size=100)\n",
    "nx.draw_networkx_labels(G, pos, labels=labels, font_size=12)\n",
    "plt.axis('off')\n",
    "plt.title('Molecular network (Morgan/Tanimoto)')\n",
    "plt.show()\n",
    "\n",
    "# Optional: export to Cytoscape/Gephi\n",
    "nx.write_graphml(G, 'molecular_network.graphml')\n"
   ]
  },
  {
   "cell_type": "markdown",
   "id": "c2f0ad46-35ba-4120-9d4e-5be6c1bc21c7",
   "metadata": {},
   "source": [
    "# A word about descriptors and fingerprints\n",
    "\n",
    "<div class = \"intro\">\n",
    "    \n",
    "A fingerprint is a structural descriptor\n",
    "\n",
    "- **1D molecular descriptor**\n",
    "    - Global descriptor: only one value represents the whole molecule\n",
    "    - Example: : solubility, logP, molecular weight, melting point, ...\n",
    "    - Usually do not contain enough information to be applied to machine learning (ML)\n",
    "    - Can be added to 2D fingerprints to improve molecular encoding for ML\n",
    "    \n",
    "- **2D molecular descriptors**: \n",
    "    - Detailed representation of individual parts of the molecule\n",
    "    - Example: molecular graphs, paths, fragments, atom environments\n",
    "    - Contains many features/bits per molecule called fingerprints\n",
    "    - Very often used in similarity search and ML\n",
    "\n",
    "- **3D molecular descriptors**: \n",
    "    - Example: shape, stereochemistry\n",
    "    - Less robust than 2D representations because of molecule flexibility (what is the “right” conformation of a molecule?) Biological similarity\n",
    "    - Biological fingerprint, e.g. individual bits represent bioactivity measure against different targets\n",
    "    - Independent of molecular structure\n",
    "    - Requires experimental (or predicted) data\n",
    "\n",
    "</div>"
   ]
  },
  {
   "cell_type": "markdown",
   "id": "d764f617-d387-4442-b869-4baed7d1bfaf",
   "metadata": {},
   "source": [
    "# Useful resources\n",
    "\n",
    "<div class=\"intro\">\n",
    "   \n",
    "- [Teaching material for computer-aided drug design, TeachOpenCADD](https://projects.volkamerlab.org/teachopencadd/index.html)\n",
    "- [Daylight theory manual](https://www.daylight.com/dayhtml/doc/theory/index.html)\n",
    "- [Creation of easily interpretable visualization for SMARTS expression](https://smarts.plus/)\n",
    "</div>"
   ]
  },
  {
   "cell_type": "markdown",
   "id": "01f7abae-3a1c-4126-9e28-c3872acbbcf0",
   "metadata": {},
   "source": [
    "# End"
   ]
  },
  {
   "cell_type": "code",
   "execution_count": null,
   "id": "898a0af5-6513-4be2-8538-0d741a4c4478",
   "metadata": {},
   "outputs": [],
   "source": [
    "vID.end(cwd0)"
   ]
  },
  {
   "cell_type": "code",
   "execution_count": null,
   "id": "c8db19ab-fbc6-4dba-9e81-495313b7b692",
   "metadata": {},
   "outputs": [],
   "source": []
  }
 ],
 "metadata": {
  "kernelspec": {
   "display_name": "Python 3 (ipykernel)",
   "language": "python",
   "name": "python3"
  },
  "language_info": {
   "codemirror_mode": {
    "name": "ipython",
    "version": 3
   },
   "file_extension": ".py",
   "mimetype": "text/x-python",
   "name": "python",
   "nbconvert_exporter": "python",
   "pygments_lexer": "ipython3",
   "version": "3.11.13"
  },
  "toc-autonumbering": true,
  "toc-showcode": false,
  "toc-showmarkdowntxt": false,
  "toc-showtags": false
 },
 "nbformat": 4,
 "nbformat_minor": 5
}
