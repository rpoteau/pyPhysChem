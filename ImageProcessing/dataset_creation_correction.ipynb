{
 "cells": [
  {
   "cell_type": "code",
   "execution_count": 2,
   "id": "8624dfca",
   "metadata": {},
   "outputs": [
    {
     "name": "stdout",
     "output_type": "stream",
     "text": [
      "/home/romuald/ENSEIGNEMENT/1-JupyterNotebooks/pyPhysChem/ImageProcessing\n"
     ]
    },
    {
     "data": {
      "text/html": [
       "<style>\n",
       "h1, h2, h3, h4, h5, h6 {\n",
       "  font-family: Verdana, \"DejaVu Sans\", \"Bitstream Vera Sans\", Geneva, sans-serif;\n",
       "  font-weight: bold;\n",
       "}\n",
       "body, intro, introE, introT, rq, rqE, rqT, ex, exE, app, appE, sol, todo, hint, hintE, figure  {\n",
       "  font-family: Verdana, \"DejaVu Sans\", \"Bitstream Vera Sans\", Geneva, sans-serif;\n",
       "  font-weight: 400;\n",
       "  font-size: 12px;\n",
       "}\n",
       "h1 {\n",
       "  border: 0 solid #333;\n",
       "  padding: 30px ;\n",
       "  color: white;\n",
       "  background: #b11d01;\n",
       "  text-align: center;\n",
       "}\n",
       "h2 {\n",
       "  border: 3px solid #333;\n",
       "  padding: 18px ;\n",
       "  color: #b11d01;\n",
       "  background: #ffffff;\n",
       "  text-align: center;\n",
       "}\n",
       "h3 {\n",
       "  border: 0 solid #333;\n",
       "  padding: 12px ;\n",
       "  color: #000000;\n",
       "  background: #c1c1c1;\n",
       "  text-align: left;\n",
       "}\n",
       "h4 {\n",
       "  border: 0 solid #333;\n",
       "  padding: 2px ;\n",
       "  color: #000000;\n",
       "  background: #d9fffc;\n",
       "  text-align: left;\n",
       "}\n",
       "h5 {\n",
       "  border: 1px solid #333;\n",
       "  padding: 2px ;\n",
       "  color: #000000;\n",
       "  background: #ffffff;\n",
       "  text-align: left;\n",
       "}\n",
       ".introT::before {    \n",
       "    content: attr(title);\n",
       "    background-color: #cecece;\n",
       "    margin-left:-0.5em;\n",
       "    margin-right:-0.5em;\n",
       "    padding-left:0.5em;\n",
       "    padding-right:0.5em;\n",
       "    font-weight: 600;\n",
       "    display: block;\n",
       "}\n",
       ".introT {    \n",
       "    background-color: #cecece80;\n",
       "    border-color: #969696;\n",
       "    border-left: 5px solid #969696;\n",
       "    padding: 0.5em;\n",
       "}\n",
       ".intro {    \n",
       "    background-color: #cecece80;\n",
       "    border-color: #969696;\n",
       "    border-left: 5px solid #969696;\n",
       "    padding: 0.5em;\n",
       "}\n",
       ".introE {    \n",
       "    background-color: #cecece80;\n",
       "    border-color: #969696;\n",
       "    border-left: 5px solid #969696;\n",
       "    padding: 0.5em;\n",
       "    color : #117996;\n",
       "}\n",
       ".rq::before {    \n",
       "    background-color: #fcd3d3;\n",
       "    color: #ff0000;\n",
       "    content:\"Remarque\";\n",
       "    margin-left:-0.5em;\n",
       "    margin-right:-0.5em;\n",
       "    padding-left:0.5em;\n",
       "    padding-right:0.5em;\n",
       "    font-weight: 600;\n",
       "    display: block;\n",
       "}\n",
       ".rq {    \n",
       "    background-color: #fcf2f2;\n",
       "    border-color: #dFb5b4;\n",
       "    border-left: 5px solid #dfb5b4;\n",
       "    padding: 0.5em;\n",
       "}\n",
       ".rqE::before {    \n",
       "    background-color: #fcd3d3;\n",
       "    color: #ff0000;\n",
       "    content:\"Pay attention\";\n",
       "    margin-left:-0.5em;\n",
       "    margin-right:-0.5em;\n",
       "    padding-left:0.5em;\n",
       "    padding-right:0.5em;\n",
       "    font-weight: 600;\n",
       "    display: block;\n",
       "}\n",
       ".rqE {    \n",
       "    background-color: #fcd3d380;\n",
       "    border-color: #dFb5b4;\n",
       "    border-left: 5px solid #dfb5b4;\n",
       "    padding: 0.5em;\n",
       "}\n",
       ".rqT::before {    \n",
       "    background-color: #fcd3d3;\n",
       "    color: #ff0000;\n",
       "    content: attr(title);\n",
       "    margin-left:-0.5em;\n",
       "    margin-right:-0.5em;\n",
       "    padding-left:0.5em;\n",
       "    padding-right:0.5em;\n",
       "    font-weight: 600;\n",
       "    display: block;\n",
       "}\n",
       ".rqT {    \n",
       "    background-color: #fcd3d380;\n",
       "    border-color: #dFb5b4;\n",
       "    border-left: 5px solid #dfb5b4;\n",
       "    padding: 0.5em;\n",
       "}\n",
       ".exold {    \n",
       "    background-color: #b2dbea80;\n",
       "    border-color: #0055ff;\n",
       "    border-left: 10px solid #0055ff;\n",
       "    padding: 0.5em;\n",
       "}\n",
       ".ex {    \n",
       "    background-color: #b2dbea80;\n",
       "    padding: 0.5em;\n",
       "    padding-top: 0em;\n",
       "    position:relative;\n",
       "}\n",
       ".ex::before {\n",
       "    background-color: #b2dbea;\n",
       "    content:\"Exercice. \" attr(title);\n",
       "    margin-left:-0.5em;\n",
       "    margin-right:-0.5em;\n",
       "    padding-left:0.5em;\n",
       "    padding-right:0.5em;\n",
       "    font-weight: 600;\n",
       "    display: block;\n",
       "}\n",
       ".exE {    \n",
       "    background-color: #b2dbea80;\n",
       "    padding: 0.5em;\n",
       "    padding-top: 0em;\n",
       "    position:relative;\n",
       "    color : #117996;\n",
       "}\n",
       ".exE::before {\n",
       "    background-color: #b2dbea;\n",
       "    content:\"Exercise. \" attr(title);\n",
       "    margin-left:-0.5em;\n",
       "    margin-right:-0.5em;\n",
       "    padding-left:0.5em;\n",
       "    padding-right:0.5em;\n",
       "    font-weight: 600;\n",
       "    display: block;\n",
       "    color : #117996;\n",
       "}\n",
       ".hint {    \n",
       "    background-color: #dede6f80;\n",
       "    padding: 0.5em;\n",
       "    padding-top: 0em;\n",
       "    position:relative;\n",
       "    color : ##37665f;\n",
       "}\n",
       ".hint::before {\n",
       "    background-color: #dede6f;\n",
       "    content:\"Indice(s). \" attr(title);\n",
       "    margin-left:-0.5em;\n",
       "    margin-right:-0.5em;\n",
       "    padding-left:0.5em;\n",
       "    padding-right:0.5em;\n",
       "    font-weight: 600;\n",
       "    display: block;\n",
       "    color : ##37665f;\n",
       "}\n",
       ".hintE {    \n",
       "    background-color: #dede6f80;\n",
       "    padding: 0.5em;\n",
       "    padding-top: 0em;\n",
       "    position:relative;\n",
       "    color : ##37665f;\n",
       "}\n",
       ".hintE::before {\n",
       "    background-color: #dede6f;\n",
       "    content:\"Hint(s). \" attr(title);\n",
       "    margin-left:-0.5em;\n",
       "    margin-right:-0.5em;\n",
       "    padding-left:0.5em;\n",
       "    padding-right:0.5em;\n",
       "    font-weight: 600;\n",
       "    display: block;\n",
       "    color : ##37665f;\n",
       "}\n",
       ".app {    \n",
       "    background-color: #b2dbea80;\n",
       "    padding: 0.5em;\n",
       "    padding-top: 0em;\n",
       "    position:relative;\n",
       "}\n",
       ".app::before {\n",
       "    background-color: #b2dbea;\n",
       "    content:\"Application\";\n",
       "    margin-left:-0.5em;\n",
       "    margin-right:-0.5em;\n",
       "    padding-left:0.5em;\n",
       "    padding-right:0.5em;\n",
       "    font-weight: 600;\n",
       "    display: block;\n",
       "}\n",
       ".appE {    \n",
       "    background-color: #b2dbea80;\n",
       "    padding: 0.5em;\n",
       "    padding-top: 0em;\n",
       "    color : #117996;\n",
       "    position:relative;\n",
       "}\n",
       ".appE::before {\n",
       "    background-color: #b2dbea;\n",
       "    content:\"Application\";\n",
       "    margin-left:-0.5em;\n",
       "    margin-right:-0.5em;\n",
       "    padding-left:0.5em;\n",
       "    padding-right:0.5em;\n",
       "    font-weight: 600;\n",
       "    color : #117996;\n",
       "    display: block;\n",
       "}\n",
       ".solFr {    \n",
       "    background-color: #bbeab880;\n",
       "    padding: 0.5em;\n",
       "    padding-top: 0em;\n",
       "    position:relative;\n",
       "}\n",
       ".solFr::before {\n",
       "    background-color: #bbeab8;\n",
       "    content:\"Solution\";\n",
       "    margin-left:-0.5em;\n",
       "    margin-right:-0.5em;\n",
       "    padding-left:0.5em;\n",
       "    padding-right:0.5em;\n",
       "    font-weight: 600;\n",
       "    display: block;\n",
       "}.sol {    \n",
       "    background-color: #bbeab880;\n",
       "    padding: 0.5em;\n",
       "    padding-top: 0em;\n",
       "    position:relative;\n",
       "}\n",
       ".sol::before {\n",
       "    background-color: #bbeab8;\n",
       "    content:\"Answer\";\n",
       "    margin-left:-0.5em;\n",
       "    margin-right:-0.5em;\n",
       "    padding-left:0.5em;\n",
       "    padding-right:0.5em;\n",
       "    font-weight: 600;\n",
       "    display: block;\n",
       "}\n",
       ".com {    \n",
       "    background-color: #ffff7f80;\n",
       "    padding: 0.5em;\n",
       "    padding-top: 0em;\n",
       "    position:relative;\n",
       "}\n",
       ".com::before {\n",
       "    background-color: #ffff7f;\n",
       "    content:\"Comment.\";\n",
       "    margin-left:-0.5em;\n",
       "    margin-right:-0.5em;\n",
       "    padding-left:0.5em;\n",
       "    padding-right:0.5em;\n",
       "    font-weight: 600;\n",
       "    display: block;\n",
       "}\n",
       "div.todo:before {\n",
       "    content:url(data:image/png;base64,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);\n",
       "    float:left;\n",
       "    margin-left:20px;\n",
       "    margin-right:20px;\n",
       "    margin-top:20px;\n",
       "    margin-bottom:20px;\n",
       "}\n",
       "div.todo{\n",
       "    font-size: 1.1em;\n",
       "    margin-top:40px;\n",
       "    background-color: #b2dbea80;\n",
       "}\n",
       "div.todo ul{\n",
       "    margin: 0.2em;\n",
       "}\n",
       "div.todo li{\n",
       "    margin-left:60px;\n",
       "    margin-top:0;\n",
       "    margin-bottom:0;\n",
       "}\n",
       "\n",
       "figure {\n",
       "    border: 0px;\n",
       "    text-align: center;\n",
       "    margin: 5px; /* adjust as needed */\n",
       "    display: block;\n",
       "    margin: auto;\n",
       "}\n",
       "figure img {\n",
       "    vertical-align: top;\n",
       "    text-align: center;\n",
       "    display: block;\n",
       "    margin: auto;\n",
       "}\n",
       "figure figcaption {\n",
       "    border: 0px;\n",
       "    text-align: center;\n",
       "    font-size: 11px;\n",
       "    margin: auto;\n",
       "}\n",
       "\n",
       "</style>\n"
      ],
      "text/plain": [
       "<IPython.core.display.HTML object>"
      ]
     },
     "metadata": {},
     "output_type": "display_data"
    },
    {
     "data": {
      "text/markdown": [
       "**Start at:** Thursday 02 October 2025, 22:04:12  \n",
       "**Hostname:** device-8.home (Linux)"
      ],
      "text/plain": [
       "<IPython.core.display.Markdown object>"
      ]
     },
     "metadata": {},
     "output_type": "display_data"
    },
    {
     "data": {
      "text/markdown": [
       "<p style=\"text-align: center\"><img width=\"800px\" src=\"../config/svg/pyPhysChemBanner.svg\" style=\"margin-left:auto; margin-right:auto\"/></p>"
      ],
      "text/plain": [
       "<IPython.core.display.Markdown object>"
      ]
     },
     "metadata": {},
     "output_type": "display_data"
    }
   ],
   "source": [
    "import os\n",
    "import sys\n",
    "\n",
    "print(os.getcwd())\n",
    "cwd0 = '../config/'\n",
    "sys.path.append(cwd0)\n",
    "\n",
    "import visualID_Eng as vID\n",
    "from visualID_Eng import fg,bg,hl,color\n",
    "vID.init(cwd0)\n",
    "\n",
    "import tools4pyPhysChem as t4pPC\n",
    "\n",
    "#cancel the \"last show-up\" behaviour of Jupyter notebooks\n",
    "from IPython.core.interactiveshell import InteractiveShell\n",
    "InteractiveShell.ast_node_interactivity = \"all\"\n",
    "\n",
    "__author__ = \"Simon Cayez, LPCNO / Département Génie Physique (INSA Toulouse, France)\""
   ]
  },
  {
   "cell_type": "markdown",
   "id": "77f129d2",
   "metadata": {},
   "source": [
    "<h2 style=\"text-align: center;\">\n",
    "  <b><u>Dataset Preparation</u>:<br>\n",
    "  Step 2 – Full Dataset Assembly and CNN Training</b>\n",
    "</h2>\n"
   ]
  },
  {
   "cell_type": "markdown",
   "id": "8a8d0f47",
   "metadata": {},
   "source": [
    "<div class=\"intro\">\n",
    "    \n",
    "In the previous notebook, we processed the images for each shape separately, preparing them for deep learning.  \n",
    "In this notebook, we will **aggregate the three classes** (`circle`, `triangle`, `square`) into a single dataset, **assign labels**, **shuffle and normalize** the data, and **split it into training and test sets**.  \n",
    "\n",
    "Finally, we will **train a 2D CNN** on this dataset and **make predictions**.  \n",
    "This notebook continues directly from the previous one: [Step 1 – Image Processing](image_processing_correction.ipynb).  \n",
    "\n",
    "Or download [preprocess numpy data](https://drive.google.com/drive/folders/1K_GZnZvr9dbCMc8GtGkxUprQGn78BOGo?usp=sharing)\n",
    "\n",
    "</div>"
   ]
  },
  {
   "cell_type": "markdown",
   "id": "e2f7b572",
   "metadata": {},
   "source": [
    "## 1- Create Numpy array datasets with all geometries"
   ]
  },
  {
   "cell_type": "markdown",
   "id": "03c21f3a",
   "metadata": {},
   "source": [
    "### 1-1- Images array (X)"
   ]
  },
  {
   "cell_type": "markdown",
   "id": "26900eda",
   "metadata": {},
   "source": [
    "#### 1-1-1- Load images"
   ]
  },
  {
   "cell_type": "markdown",
   "id": "33f31026",
   "metadata": {},
   "source": [
    "<div class=\"intro\">\n",
    "\n",
    "Load the preprocessed images for each shape as NumPy arrays and check their dimensions. Use `np.load`\n",
    "</div>"
   ]
  },
  {
   "cell_type": "code",
   "execution_count": 3,
   "id": "d81566d1",
   "metadata": {},
   "outputs": [
    {
     "name": "stdout",
     "output_type": "stream",
     "text": [
      "(616, 128, 128)\n",
      "(535, 128, 128)\n",
      "(691, 128, 128)\n"
     ]
    }
   ],
   "source": [
    "import numpy as np\n",
    "import os\n",
    "\n",
    "base_dir = 'data/'\n",
    "\n",
    "path_circle = os.path.join(base_dir,\"circle_data_preprocess.npy\")\n",
    "path_square = os.path.join(base_dir,\"square_data_preprocess.npy\")\n",
    "path_triangle = os.path.join(base_dir,\"triangle_data_preprocess.npy\")\n",
    "\n",
    "\n",
    "circle = np.load(path_circle)\n",
    "square = np.load(path_square)    \n",
    "triangle = np.load(path_triangle)\n",
    "\n",
    "print(circle.shape)\n",
    "print(square.shape)\n",
    "print(triangle.shape)"
   ]
  },
  {
   "cell_type": "markdown",
   "id": "d7242e0b",
   "metadata": {},
   "source": [
    "#### 1-1-2- Concatenate arrays"
   ]
  },
  {
   "cell_type": "markdown",
   "id": "3cfa98ea",
   "metadata": {},
   "source": [
    "<div class=\"intro\">\n",
    "    \n",
    "**concatenate** the three image arrays (`circle`, `square`, `triangle`) along the first axis to combine them into a single dataset `X`.\n",
    "\n",
    "- Before concatenation:  \n",
    "  - `circle` : shape `(a, 128, 128)`  \n",
    "  - `square` : shape `(b, 128, 128)`  \n",
    "  - `triangle`: shape `(c, 128, 128)`  \n",
    "\n",
    "- After concatenation:  \n",
    "  - `X` : shape `(a+b+c, 128, 128)`  \n",
    "\n",
    "This combined array `X` now contains **all images from the three classes** in one single dataset.\n",
    "</div>"
   ]
  },
  {
   "cell_type": "markdown",
   "id": "eb8285d7",
   "metadata": {},
   "source": [
    "- Concatenate numpy arrays"
   ]
  },
  {
   "cell_type": "code",
   "execution_count": 4,
   "id": "08740197",
   "metadata": {},
   "outputs": [
    {
     "name": "stdout",
     "output_type": "stream",
     "text": [
      "(1842, 128, 128)\n"
     ]
    }
   ],
   "source": [
    "X = np.concatenate([circle, square, triangle], axis=0) \n",
    "print(X.shape)"
   ]
  },
  {
   "cell_type": "markdown",
   "id": "7f424694",
   "metadata": {},
   "source": [
    "#### 1-2- Labels array (y)"
   ]
  },
  {
   "cell_type": "markdown",
   "id": "9aeb6776",
   "metadata": {},
   "source": [
    "#### 1-2-1- Create labels arrays"
   ]
  },
  {
   "cell_type": "markdown",
   "id": "7c099b22",
   "metadata": {},
   "source": [
    "<div class=\"intro\">\n",
    "    \n",
    "Create the **labels** for each image set.  \n",
    "In a classification problem, a **label** is a numeric value representing the class of each sample.  \n",
    "\n",
    "- All circle images are assigned the label `0`  \n",
    "- All square images are assigned the label `1`  \n",
    "- All triangle images are assigned the label `2`  \n",
    " **create the corresponding labels** for each shape.  \n",
    "For this, we build three NumPy arrays:  \n",
    "\n",
    "- One filled with `0` for circles (`len(circle)` elements)  \n",
    "- One filled with `1` for squares (`len(square)` elements)  \n",
    "- One filled with `2` for triangles (`len(triangle)` elements)  \n",
    "\n",
    "These arrays give each image its **class label** (circle, square, triangle) and will be combined with the image data in the next step.\n",
    "\n",
    "</div>"
   ]
  },
  {
   "cell_type": "markdown",
   "id": "8084bfa3",
   "metadata": {},
   "source": [
    "- Define 3 numpy arrays for circle , square and triangles labels"
   ]
  },
  {
   "cell_type": "code",
   "execution_count": 5,
   "id": "52c8eeb5",
   "metadata": {},
   "outputs": [
    {
     "name": "stdout",
     "output_type": "stream",
     "text": [
      "(616,)\n",
      "(535,)\n",
      "(691,)\n"
     ]
    }
   ],
   "source": [
    "y_circle = np.zeros(len(circle), dtype=int)           # classe 0\n",
    "y_square = np.ones(len(square), dtype=int)            # class 1\n",
    "y_triangle = np.full(len(triangle), 2, dtype=int) \n",
    "\n",
    "print(y_circle.shape)\n",
    "print(y_square.shape)\n",
    "print(y_triangle.shape)"
   ]
  },
  {
   "cell_type": "markdown",
   "id": "eeab5ee2",
   "metadata": {},
   "source": [
    "#### 1-1-2- Concatenate arrays"
   ]
  },
  {
   "cell_type": "markdown",
   "id": "591eb412",
   "metadata": {},
   "source": [
    "<div class=\"intro\">\n",
    "\n",
    "**concatenate** the three label arrays (`y_circle`, `y_square`, `y_triangle`) into a single array `y` using `np.concatenate`.  \n",
    "\n",
    "- Before concatenation, we had three separate 1-D arrays of shapes `(a,)`, `(b,)`, and `(c,)`.  \n",
    "- After concatenation, we obtain a single 1-D array of shape `(a+b+c,)`, which contains the labels for **all images combined** (circles, squares, and triangles).  \n",
    "\n",
    "The variable name `y` is the **convention in machine learning** again, to denote the array of **labels/targets** corresponding to the input data `X`.\n",
    "We name the combined image array **`X`** because, by convention in machine learning, `X` represents the **input data** (features) fed into a model.  \n",
    "</div>"
   ]
  },
  {
   "cell_type": "markdown",
   "id": "1be3e556",
   "metadata": {},
   "source": [
    "- Concatenate y arrays"
   ]
  },
  {
   "cell_type": "code",
   "execution_count": 6,
   "id": "952179f9",
   "metadata": {},
   "outputs": [
    {
     "name": "stdout",
     "output_type": "stream",
     "text": [
      "(1842,)\n"
     ]
    }
   ],
   "source": [
    "y = np.concatenate([y_circle, y_square, y_triangle], axis=0)\n",
    "print(y.shape)"
   ]
  },
  {
   "cell_type": "markdown",
   "id": "e8820e85",
   "metadata": {},
   "source": [
    "<div class=\"intro\">\n",
    "    \n",
    "Now the NumPy arrays are prepared. We have:\n",
    "\n",
    "- A **stack of images**:\n",
    "  - The first *a* images are **circles**  \n",
    "  - The next *b* images are **squares**  \n",
    "  - The following *c* images are **triangles**\n",
    "\n",
    "- And a **label array**:\n",
    "  - The first *a* values are **0**  \n",
    "  - The next *b* values are **1**  \n",
    "  - The following *c* values are **2**  \n",
    "\n",
    "Keep in mind the correspondence between labels and classes:\n",
    "\n",
    "- **0 = circle**  \n",
    "- **1 = square**  \n",
    "- **2 = triangle**\n",
    "</div>"
   ]
  },
  {
   "cell_type": "markdown",
   "id": "abc051bc",
   "metadata": {},
   "source": [
    "### 1-3- Dataset overview"
   ]
  },
  {
   "cell_type": "markdown",
   "id": "904f1ca7",
   "metadata": {},
   "source": [
    "<div class=\"intro\">\n",
    "\n",
    "To get an overview of the dataset, we can create a video of the image sequence and overlay a small shape on each frame to indicate its label.  \n",
    "This is done with the function `create_video_from_images_with_labels`.  \n",
    "\n",
    "For the shapes, we use OpenCV drawing functions:  \n",
    "- `cv2.circle` for circles  \n",
    "- `cv2.rectangle` for squares  \n",
    "- `cv2.fillPoly` for triangles  \n",
    "</div>"
   ]
  },
  {
   "cell_type": "code",
   "execution_count": 7,
   "id": "0b1ce50a",
   "metadata": {},
   "outputs": [
    {
     "name": "stdout",
     "output_type": "stream",
     "text": [
      "Creating video with 1842 frames at 5 FPS...\n",
      "Processed frame 1/1842\n",
      "Processed frame 5/1842\n",
      "Processed frame 10/1842\n",
      "Processed frame 15/1842\n",
      "Processed frame 20/1842\n",
      "Processed frame 25/1842\n",
      "Processed frame 30/1842\n",
      "Processed frame 35/1842\n",
      "Processed frame 40/1842\n",
      "Processed frame 45/1842\n",
      "Processed frame 50/1842\n",
      "Processed frame 55/1842\n",
      "Processed frame 60/1842\n",
      "Processed frame 65/1842\n",
      "Processed frame 70/1842\n",
      "Processed frame 75/1842\n",
      "Processed frame 80/1842\n",
      "Processed frame 85/1842\n",
      "Processed frame 90/1842\n",
      "Processed frame 95/1842\n",
      "Processed frame 100/1842\n",
      "Processed frame 105/1842\n",
      "Processed frame 110/1842\n",
      "Processed frame 115/1842\n",
      "Processed frame 120/1842\n",
      "Processed frame 125/1842\n",
      "Processed frame 130/1842\n",
      "Processed frame 135/1842\n",
      "Processed frame 140/1842\n",
      "Processed frame 145/1842\n",
      "Processed frame 150/1842\n",
      "Processed frame 155/1842\n",
      "Processed frame 160/1842\n",
      "Processed frame 165/1842\n",
      "Processed frame 170/1842\n",
      "Processed frame 175/1842\n",
      "Processed frame 180/1842\n",
      "Processed frame 185/1842\n",
      "Processed frame 190/1842\n",
      "Processed frame 195/1842\n",
      "Processed frame 200/1842\n",
      "Processed frame 205/1842\n",
      "Processed frame 210/1842\n",
      "Processed frame 215/1842\n",
      "Processed frame 220/1842\n",
      "Processed frame 225/1842\n",
      "Processed frame 230/1842\n",
      "Processed frame 235/1842\n",
      "Processed frame 240/1842\n",
      "Processed frame 245/1842\n",
      "Processed frame 250/1842\n",
      "Processed frame 255/1842\n",
      "Processed frame 260/1842\n",
      "Processed frame 265/1842\n",
      "Processed frame 270/1842\n",
      "Processed frame 275/1842\n",
      "Processed frame 280/1842\n",
      "Processed frame 285/1842\n",
      "Processed frame 290/1842\n",
      "Processed frame 295/1842\n",
      "Processed frame 300/1842\n",
      "Processed frame 305/1842\n",
      "Processed frame 310/1842\n",
      "Processed frame 315/1842\n",
      "Processed frame 320/1842\n",
      "Processed frame 325/1842\n",
      "Processed frame 330/1842\n",
      "Processed frame 335/1842\n",
      "Processed frame 340/1842\n",
      "Processed frame 345/1842\n",
      "Processed frame 350/1842\n",
      "Processed frame 355/1842\n",
      "Processed frame 360/1842\n",
      "Processed frame 365/1842\n",
      "Processed frame 370/1842\n",
      "Processed frame 375/1842\n",
      "Processed frame 380/1842\n",
      "Processed frame 385/1842\n",
      "Processed frame 390/1842\n",
      "Processed frame 395/1842\n",
      "Processed frame 400/1842\n",
      "Processed frame 405/1842\n",
      "Processed frame 410/1842\n",
      "Processed frame 415/1842\n",
      "Processed frame 420/1842\n",
      "Processed frame 425/1842\n",
      "Processed frame 430/1842\n",
      "Processed frame 435/1842\n",
      "Processed frame 440/1842\n",
      "Processed frame 445/1842\n",
      "Processed frame 450/1842\n",
      "Processed frame 455/1842\n",
      "Processed frame 460/1842\n",
      "Processed frame 465/1842\n",
      "Processed frame 470/1842\n",
      "Processed frame 475/1842\n",
      "Processed frame 480/1842\n",
      "Processed frame 485/1842\n",
      "Processed frame 490/1842\n",
      "Processed frame 495/1842\n",
      "Processed frame 500/1842\n",
      "Processed frame 505/1842\n",
      "Processed frame 510/1842\n",
      "Processed frame 515/1842\n",
      "Processed frame 520/1842\n",
      "Processed frame 525/1842\n",
      "Processed frame 530/1842\n",
      "Processed frame 535/1842\n",
      "Processed frame 540/1842\n",
      "Processed frame 545/1842\n",
      "Processed frame 550/1842\n",
      "Processed frame 555/1842\n",
      "Processed frame 560/1842\n",
      "Processed frame 565/1842\n",
      "Processed frame 570/1842\n",
      "Processed frame 575/1842\n",
      "Processed frame 580/1842\n",
      "Processed frame 585/1842\n",
      "Processed frame 590/1842\n",
      "Processed frame 595/1842\n",
      "Processed frame 600/1842\n",
      "Processed frame 605/1842\n",
      "Processed frame 610/1842\n",
      "Processed frame 615/1842\n",
      "Processed frame 620/1842\n",
      "Processed frame 625/1842\n",
      "Processed frame 630/1842\n",
      "Processed frame 635/1842\n",
      "Processed frame 640/1842\n",
      "Processed frame 645/1842\n",
      "Processed frame 650/1842\n",
      "Processed frame 655/1842\n",
      "Processed frame 660/1842\n",
      "Processed frame 665/1842\n",
      "Processed frame 670/1842\n",
      "Processed frame 675/1842\n",
      "Processed frame 680/1842\n",
      "Processed frame 685/1842\n",
      "Processed frame 690/1842\n",
      "Processed frame 695/1842\n",
      "Processed frame 700/1842\n",
      "Processed frame 705/1842\n",
      "Processed frame 710/1842\n",
      "Processed frame 715/1842\n",
      "Processed frame 720/1842\n",
      "Processed frame 725/1842\n",
      "Processed frame 730/1842\n",
      "Processed frame 735/1842\n",
      "Processed frame 740/1842\n",
      "Processed frame 745/1842\n",
      "Processed frame 750/1842\n",
      "Processed frame 755/1842\n",
      "Processed frame 760/1842\n",
      "Processed frame 765/1842\n",
      "Processed frame 770/1842\n",
      "Processed frame 775/1842\n",
      "Processed frame 780/1842\n",
      "Processed frame 785/1842\n",
      "Processed frame 790/1842\n",
      "Processed frame 795/1842\n",
      "Processed frame 800/1842\n",
      "Processed frame 805/1842\n",
      "Processed frame 810/1842\n",
      "Processed frame 815/1842\n",
      "Processed frame 820/1842\n",
      "Processed frame 825/1842\n",
      "Processed frame 830/1842\n",
      "Processed frame 835/1842\n",
      "Processed frame 840/1842\n",
      "Processed frame 845/1842\n",
      "Processed frame 850/1842\n",
      "Processed frame 855/1842\n",
      "Processed frame 860/1842\n",
      "Processed frame 865/1842\n",
      "Processed frame 870/1842\n",
      "Processed frame 875/1842\n",
      "Processed frame 880/1842\n",
      "Processed frame 885/1842\n",
      "Processed frame 890/1842\n",
      "Processed frame 895/1842\n",
      "Processed frame 900/1842\n",
      "Processed frame 905/1842\n",
      "Processed frame 910/1842\n",
      "Processed frame 915/1842\n",
      "Processed frame 920/1842\n",
      "Processed frame 925/1842\n",
      "Processed frame 930/1842\n",
      "Processed frame 935/1842\n",
      "Processed frame 940/1842\n",
      "Processed frame 945/1842\n",
      "Processed frame 950/1842\n",
      "Processed frame 955/1842\n",
      "Processed frame 960/1842\n",
      "Processed frame 965/1842\n",
      "Processed frame 970/1842\n",
      "Processed frame 975/1842\n",
      "Processed frame 980/1842\n",
      "Processed frame 985/1842\n",
      "Processed frame 990/1842\n",
      "Processed frame 995/1842\n",
      "Processed frame 1000/1842\n",
      "Processed frame 1005/1842\n",
      "Processed frame 1010/1842\n",
      "Processed frame 1015/1842\n",
      "Processed frame 1020/1842\n",
      "Processed frame 1025/1842\n",
      "Processed frame 1030/1842\n",
      "Processed frame 1035/1842\n",
      "Processed frame 1040/1842\n",
      "Processed frame 1045/1842\n",
      "Processed frame 1050/1842\n",
      "Processed frame 1055/1842\n",
      "Processed frame 1060/1842\n",
      "Processed frame 1065/1842\n",
      "Processed frame 1070/1842\n",
      "Processed frame 1075/1842\n",
      "Processed frame 1080/1842\n",
      "Processed frame 1085/1842\n",
      "Processed frame 1090/1842\n",
      "Processed frame 1095/1842\n",
      "Processed frame 1100/1842\n",
      "Processed frame 1105/1842\n",
      "Processed frame 1110/1842\n",
      "Processed frame 1115/1842\n",
      "Processed frame 1120/1842\n",
      "Processed frame 1125/1842\n",
      "Processed frame 1130/1842\n",
      "Processed frame 1135/1842\n",
      "Processed frame 1140/1842\n",
      "Processed frame 1145/1842\n",
      "Processed frame 1150/1842\n",
      "Processed frame 1155/1842\n",
      "Processed frame 1160/1842\n",
      "Processed frame 1165/1842\n",
      "Processed frame 1170/1842\n",
      "Processed frame 1175/1842\n",
      "Processed frame 1180/1842\n",
      "Processed frame 1185/1842\n",
      "Processed frame 1190/1842\n",
      "Processed frame 1195/1842\n",
      "Processed frame 1200/1842\n",
      "Processed frame 1205/1842\n",
      "Processed frame 1210/1842\n",
      "Processed frame 1215/1842\n",
      "Processed frame 1220/1842\n",
      "Processed frame 1225/1842\n",
      "Processed frame 1230/1842\n",
      "Processed frame 1235/1842\n",
      "Processed frame 1240/1842\n",
      "Processed frame 1245/1842\n",
      "Processed frame 1250/1842\n",
      "Processed frame 1255/1842\n",
      "Processed frame 1260/1842\n",
      "Processed frame 1265/1842\n",
      "Processed frame 1270/1842\n",
      "Processed frame 1275/1842\n",
      "Processed frame 1280/1842\n",
      "Processed frame 1285/1842\n",
      "Processed frame 1290/1842\n",
      "Processed frame 1295/1842\n",
      "Processed frame 1300/1842\n",
      "Processed frame 1305/1842\n",
      "Processed frame 1310/1842\n",
      "Processed frame 1315/1842\n",
      "Processed frame 1320/1842\n",
      "Processed frame 1325/1842\n",
      "Processed frame 1330/1842\n",
      "Processed frame 1335/1842\n",
      "Processed frame 1340/1842\n",
      "Processed frame 1345/1842\n",
      "Processed frame 1350/1842\n",
      "Processed frame 1355/1842\n",
      "Processed frame 1360/1842\n",
      "Processed frame 1365/1842\n",
      "Processed frame 1370/1842\n",
      "Processed frame 1375/1842\n",
      "Processed frame 1380/1842\n",
      "Processed frame 1385/1842\n",
      "Processed frame 1390/1842\n",
      "Processed frame 1395/1842\n",
      "Processed frame 1400/1842\n",
      "Processed frame 1405/1842\n",
      "Processed frame 1410/1842\n",
      "Processed frame 1415/1842\n",
      "Processed frame 1420/1842\n",
      "Processed frame 1425/1842\n",
      "Processed frame 1430/1842\n",
      "Processed frame 1435/1842\n",
      "Processed frame 1440/1842\n",
      "Processed frame 1445/1842\n",
      "Processed frame 1450/1842\n",
      "Processed frame 1455/1842\n",
      "Processed frame 1460/1842\n",
      "Processed frame 1465/1842\n",
      "Processed frame 1470/1842\n",
      "Processed frame 1475/1842\n",
      "Processed frame 1480/1842\n",
      "Processed frame 1485/1842\n",
      "Processed frame 1490/1842\n",
      "Processed frame 1495/1842\n",
      "Processed frame 1500/1842\n",
      "Processed frame 1505/1842\n",
      "Processed frame 1510/1842\n",
      "Processed frame 1515/1842\n",
      "Processed frame 1520/1842\n",
      "Processed frame 1525/1842\n",
      "Processed frame 1530/1842\n",
      "Processed frame 1535/1842\n",
      "Processed frame 1540/1842\n",
      "Processed frame 1545/1842\n",
      "Processed frame 1550/1842\n",
      "Processed frame 1555/1842\n",
      "Processed frame 1560/1842\n",
      "Processed frame 1565/1842\n",
      "Processed frame 1570/1842\n",
      "Processed frame 1575/1842\n",
      "Processed frame 1580/1842\n",
      "Processed frame 1585/1842\n",
      "Processed frame 1590/1842\n",
      "Processed frame 1595/1842\n",
      "Processed frame 1600/1842\n",
      "Processed frame 1605/1842\n",
      "Processed frame 1610/1842\n",
      "Processed frame 1615/1842\n",
      "Processed frame 1620/1842\n",
      "Processed frame 1625/1842\n",
      "Processed frame 1630/1842\n",
      "Processed frame 1635/1842\n",
      "Processed frame 1640/1842\n",
      "Processed frame 1645/1842\n",
      "Processed frame 1650/1842\n",
      "Processed frame 1655/1842\n",
      "Processed frame 1660/1842\n",
      "Processed frame 1665/1842\n",
      "Processed frame 1670/1842\n",
      "Processed frame 1675/1842\n",
      "Processed frame 1680/1842\n",
      "Processed frame 1685/1842\n",
      "Processed frame 1690/1842\n",
      "Processed frame 1695/1842\n",
      "Processed frame 1700/1842\n",
      "Processed frame 1705/1842\n",
      "Processed frame 1710/1842\n",
      "Processed frame 1715/1842\n",
      "Processed frame 1720/1842\n",
      "Processed frame 1725/1842\n",
      "Processed frame 1730/1842\n",
      "Processed frame 1735/1842\n",
      "Processed frame 1740/1842\n",
      "Processed frame 1745/1842\n",
      "Processed frame 1750/1842\n",
      "Processed frame 1755/1842\n",
      "Processed frame 1760/1842\n",
      "Processed frame 1765/1842\n",
      "Processed frame 1770/1842\n",
      "Processed frame 1775/1842\n",
      "Processed frame 1780/1842\n",
      "Processed frame 1785/1842\n",
      "Processed frame 1790/1842\n",
      "Processed frame 1795/1842\n",
      "Processed frame 1800/1842\n",
      "Processed frame 1805/1842\n",
      "Processed frame 1810/1842\n",
      "Processed frame 1815/1842\n",
      "Processed frame 1820/1842\n",
      "Processed frame 1825/1842\n",
      "Processed frame 1830/1842\n",
      "Processed frame 1835/1842\n",
      "Processed frame 1840/1842\n",
      "Processed frame 1842/1842\n",
      "Video saved as data/video_shuffleXy.mp4\n",
      "Video dimensions: 128x128, Duration: 368.4 s\n"
     ]
    }
   ],
   "source": [
    "import cv2\n",
    "def create_video_from_images_with_labels(images, labels, output_path='output_video.mp4', fps=5):\n",
    "    \"\"\"\n",
    "    Create a video from grayscale images with a small shape drawn according to the label.\n",
    "\n",
    "    Parameters\n",
    "    ----------\n",
    "    images : np.ndarray of shape (n_images, height, width)\n",
    "        Grayscale images.\n",
    "    labels : np.ndarray of shape (n_images,)\n",
    "        Labels (0=circle, 1=square, 2=triangle).\n",
    "    output_path : str\n",
    "        Path to save the video file.\n",
    "    fps : int\n",
    "        Frames per second (speed of the video).\n",
    "    \"\"\"\n",
    "    n_images, height, width = images.shape\n",
    "\n",
    "    # Video writer in color (3 channels)\n",
    "    fourcc = cv2.VideoWriter_fourcc(*'mp4v')\n",
    "    out = cv2.VideoWriter(output_path, fourcc, fps, (width, height), isColor=True)\n",
    "\n",
    "    print(f\"Creating video with {n_images} frames at {fps} FPS...\")\n",
    "\n",
    "    for i in range(n_images):\n",
    "        current_image = images[i].astype(np.float32)\n",
    "\n",
    "        # Normalize to 0-255 and convert to uint8\n",
    "        img_normalized = cv2.normalize(current_image, None, 0, 255, cv2.NORM_MINMAX)\n",
    "        img_uint8 = img_normalized.astype(np.uint8)\n",
    "\n",
    "        # Convert grayscale to BGR for color drawing\n",
    "        img_color = cv2.cvtColor(img_uint8, cv2.COLOR_GRAY2BGR)\n",
    "\n",
    "        # Coordinates for annotation (top right corner)\n",
    "        x, y = width - 20, 20  # top-right corner\n",
    "\n",
    "        # Choose shape and draw it in yellow (BGR=(0,255,255))\n",
    "        if labels[i] == 0:  # circle\n",
    "            cv2.circle(img_color, (x, y), 8, (0, 255, 255), -1)\n",
    "        elif labels[i] == 1:  # square\n",
    "            cv2.rectangle(img_color, (x - 10, y - 10), (x + 10, y + 10), (0, 255, 255), -1)\n",
    "        elif labels[i] == 2:  # triangle\n",
    "            pts = np.array([[x, y - 10], [x - 10, y + 10], [x + 10, y + 10]], np.int32)\n",
    "            pts = pts.reshape((-1, 1, 2))\n",
    "            cv2.fillPoly(img_color, [pts], (0, 255, 255))\n",
    "\n",
    "        # Write frame\n",
    "        out.write(img_color)\n",
    "\n",
    "        if (i + 1) % 5 == 0 or i == 0 or i == n_images - 1:\n",
    "            print(f\"Processed frame {i+1}/{n_images}\")\n",
    "\n",
    "    out.release()\n",
    "    print(f\"Video saved as {output_path}\")\n",
    "    print(f\"Video dimensions: {width}x{height}, Duration: {n_images/fps:.1f} s\")\n",
    "\n",
    "create_video_from_images_with_labels(X, y, output_path='data/video_shuffleXy.mp4', fps=5)"
   ]
  },
  {
   "cell_type": "markdown",
   "id": "d05040a3",
   "metadata": {},
   "source": [
    "## 2- Prepare dataset for building Keras Tensorflow model"
   ]
  },
  {
   "cell_type": "markdown",
   "id": "39d96528",
   "metadata": {},
   "source": [
    "### 2-1- Add a Channel Dimension"
   ]
  },
  {
   "cell_type": "markdown",
   "id": "f1741828",
   "metadata": {},
   "source": [
    "<div class=\"intro\">\n",
    "\n",
    "Our current data array `X` has the shape `(n_samples, 128, 128)`, which represents  \n",
    "`n_samples` grayscale images of size `128 × 128`.\n",
    "\n",
    "However, most **Keras/TensorFlow CNN layers** expect an input shape of  \n",
    "`(n_samples, height, width, channels)` — the last dimension corresponds to the number of channels  \n",
    "(e.g. `3` for RGB images, `1` for grayscale).\n",
    "\n",
    "In short, we will have to pass from `(n_samples, 128, 128)` to `(n_samples, 128, 128, 1)`\n",
    "\n",
    "\n",
    "To make our grayscale images compatible with CNNs, we need to **add a channel dimension** equal to `1`.  \n",
    "We can do this with:\n",
    "\n",
    "</div>"
   ]
  },
  {
   "cell_type": "markdown",
   "id": "1e053003",
   "metadata": {},
   "source": [
    "- Add an axis "
   ]
  },
  {
   "cell_type": "code",
   "execution_count": 8,
   "id": "66ff9882",
   "metadata": {},
   "outputs": [
    {
     "name": "stdout",
     "output_type": "stream",
     "text": [
      "(1842, 128, 128)\n",
      "(1842, 128, 128, 1)\n"
     ]
    }
   ],
   "source": [
    "print(X.shape)\n",
    "X = X[:, :, :, np.newaxis]\n",
    "print(X.shape)"
   ]
  },
  {
   "cell_type": "markdown",
   "id": "0fd56747",
   "metadata": {},
   "source": [
    "### 2-2- Shuffle data"
   ]
  },
  {
   "cell_type": "markdown",
   "id": "4fb3c0fe",
   "metadata": {},
   "source": [
    "<div class=\"intro\">\n",
    "\n",
    "Shuffling randomly mixes samples so that the order of data (e.g., all circles first, then all squares, then all triangles) does not bias the training process.  \n",
    "This ensures that batches fed to the model are representative of all classes and helps the model learn better.\n",
    "</div>"
   ]
  },
  {
   "cell_type": "markdown",
   "id": "dc9ff6d5",
   "metadata": {},
   "source": [
    "#### 2-2-1- Set random seeds"
   ]
  },
  {
   "cell_type": "markdown",
   "id": "2aa4e56e",
   "metadata": {},
   "source": [
    "<div class=\"intro\">\n",
    "\n",
    "Setting seeds (for NumPy, Python’s `random`, TensorFlow, etc.) forces all random operations to produce the same sequence of random numbers each time you run the script.  \n",
    "this makes your data preparation and model training **reproducible** — you’ll get the same shuffled dataset and the same initial weights at every run.\n",
    "</div>"
   ]
  },
  {
   "cell_type": "code",
   "execution_count": 9,
   "id": "82ed6289",
   "metadata": {},
   "outputs": [],
   "source": [
    "import os\n",
    "os.environ['PYTHONHASHSEED'] = '42'   \n",
    "import random\n",
    "import tensorflow as tf\n",
    "\n",
    "seed = 42\n",
    "random.seed(seed)\n",
    "np.random.seed(seed)\n",
    "tf.random.set_seed(seed)"
   ]
  },
  {
   "cell_type": "markdown",
   "id": "0aa2dcbc",
   "metadata": {},
   "source": [
    "#### 2-2-2- Apply Shuffle"
   ]
  },
  {
   "cell_type": "markdown",
   "id": "b344745c",
   "metadata": {},
   "source": [
    "<div class=\"intro\">\n",
    "    \n",
    "Now use `sklearn.utils.shuffle` to randomly reorder `X` and `y` **in the same way** so that the correspondence between images and labels is preserved:\n",
    "</div>"
   ]
  },
  {
   "cell_type": "markdown",
   "id": "d3fb8bd8",
   "metadata": {},
   "source": [
    "- Shuffle dataset"
   ]
  },
  {
   "cell_type": "code",
   "execution_count": 10,
   "id": "695f28ff",
   "metadata": {},
   "outputs": [
    {
     "name": "stdout",
     "output_type": "stream",
     "text": [
      "[2 2 0 ... 1 2 1]\n"
     ]
    }
   ],
   "source": [
    "from sklearn.utils import shuffle\n",
    "\n",
    "X, y = shuffle(X, y, random_state=seed)\n",
    "print(y)"
   ]
  },
  {
   "cell_type": "markdown",
   "id": "535c7e49",
   "metadata": {},
   "source": [
    "### 2-3- Split Dataset into Training and Test Sets  "
   ]
  },
  {
   "cell_type": "markdown",
   "id": "79033000",
   "metadata": {},
   "source": [
    "<div class=\"intro\">\n",
    "    \n",
    "After shuffling, we split our dataset into **training** and **test** sets.  \n",
    "- The **training set** is used to train the CNN.  \n",
    "- The **test set** is used to evaluate its performance on unseen data.  \n",
    "\n",
    "We use `train_test_split` from `sklearn.model_selection`, with the following considerations:  \n",
    "- `test_size=0.2` → 20% of the data is reserved for testing.  \n",
    "- `random_state=seed` → ensures reproducibility.  \n",
    "- `stratify=y` → preserves the class proportions in both training and test sets.\n",
    "\n",
    "</div>"
   ]
  },
  {
   "cell_type": "markdown",
   "id": "54cc981e",
   "metadata": {},
   "source": [
    "- Split dataset in train en test"
   ]
  },
  {
   "cell_type": "code",
   "execution_count": 11,
   "id": "d980908d",
   "metadata": {},
   "outputs": [
    {
     "name": "stdout",
     "output_type": "stream",
     "text": [
      "Training set: X_train = (1473, 128, 128, 1), y_train = (1473,)\n",
      "Test set:     X_test  = (369, 128, 128, 1), y_test  = (369,)\n"
     ]
    }
   ],
   "source": [
    "from sklearn.model_selection import train_test_split\n",
    "\n",
    "#Assume X and y are already built\n",
    "X_train, X_test, y_train, y_test = train_test_split(\n",
    "    X, y, \n",
    "    test_size=0.2,         # 20% en test\n",
    "    random_state=seed,       # pour reproductibilité\n",
    "    stratify=y             # pour garder la proportion des classes\n",
    ")\n",
    "\n",
    "print(f\"Training set: X_train = {X_train.shape}, y_train = {y_train.shape}\")\n",
    "print(f\"Test set:     X_test  = {X_test.shape}, y_test  = {y_test.shape}\")"
   ]
  },
  {
   "cell_type": "markdown",
   "id": "7d50be3b",
   "metadata": {},
   "source": [
    "## 3- Convolutional Neural Network (CNN)"
   ]
  },
  {
   "cell_type": "markdown",
   "id": "de56fe9c",
   "metadata": {},
   "source": [
    "### 3-1 — Create a 2D CNN Model"
   ]
  },
  {
   "cell_type": "markdown",
   "id": "247189ed",
   "metadata": {},
   "source": [
    "<div class=\"intro\">\n",
    "    \n",
    "Now that the dataset is ready, we can define a **2D CNN** for classifying our images into three classes: circle, square, or triangle.  \n",
    "\n",
    "Our model uses the following layers:\n",
    "\n",
    "1. **Conv2D + ReLU** → Extracts spatial features from the images.  \n",
    "2. **MaxPooling2D** → Reduces spatial dimensions while keeping important features.  \n",
    "3. **Another Conv2D + ReLU** → Learns more complex patterns.  \n",
    "4. **MaxPooling2D** → Further reduces feature map size.  \n",
    "5. **Flatten** → Converts 2D feature maps into a 1D vector for the dense layers.  \n",
    "6. **Dense (64, ReLU)** → Fully connected layer to combine features.  \n",
    "7. **Dense (3, softmax)** → Output layer with 3 neurons for our 3 classes.  \n",
    "\n",
    "We compile the model using:  \n",
    "- **Optimizer:** `adam`  \n",
    "- **Loss function:** `sparse_categorical_crossentropy` (because our labels are integer-encoded)  \n",
    "- **Metric:** `accuracy` to monitor performance during training.  \n",
    "</div>"
   ]
  },
  {
   "cell_type": "markdown",
   "id": "20a663eb",
   "metadata": {},
   "source": [
    "- Create you CNN2D Mode"
   ]
  },
  {
   "cell_type": "code",
   "execution_count": 12,
   "id": "35c7d550",
   "metadata": {},
   "outputs": [
    {
     "name": "stderr",
     "output_type": "stream",
     "text": [
      "c:\\Users\\cayez\\Documents\\DONNEES_SIMON\\python_env\\donnees\\Lib\\site-packages\\keras\\src\\layers\\convolutional\\base_conv.py:113: UserWarning: Do not pass an `input_shape`/`input_dim` argument to a layer. When using Sequential models, prefer using an `Input(shape)` object as the first layer in the model instead.\n",
      "  super().__init__(activity_regularizer=activity_regularizer, **kwargs)\n"
     ]
    }
   ],
   "source": [
    "from tensorflow.keras import layers, models\n",
    "\n",
    "model = models.Sequential([\n",
    "    layers.Conv2D(32, (3,3), activation='relu', input_shape=(X.shape[1],X.shape[2],X.shape[3])),\n",
    "    #layers.Conv2D(32, (3,3), activation='relu', input_shape=(128,128,1)),\n",
    "    layers.MaxPooling2D((2,2)),\n",
    "    layers.Conv2D(64, (3,3), activation='relu'),\n",
    "    layers.MaxPooling2D((2,2)),\n",
    "    layers.Flatten(),\n",
    "    layers.Dense(64, activation='relu'),\n",
    "    layers.Dense(3, activation='softmax')  # 3 classes\n",
    "])\n",
    "\n",
    "model.compile(optimizer='adam',\n",
    "              loss='sparse_categorical_crossentropy',\n",
    "              metrics=['accuracy'])\n",
    "\n",
    "\n"
   ]
  },
  {
   "cell_type": "markdown",
   "id": "c62fa4e4",
   "metadata": {},
   "source": [
    "### 3-2- Train model"
   ]
  },
  {
   "cell_type": "markdown",
   "id": "10133138",
   "metadata": {},
   "source": [
    "<div class=\"intro\">\n",
    "    \n",
    "**Training a model** means adjusting its internal parameters (weights and biases) so that it can learn to map input data (`X_train`) to the correct output labels (`y_train`).  \n",
    "During training, the model makes predictions on the input data, computes the error (loss) compared to the true labels, and updates its parameters using an optimization algorithm (here, **Adam**) to minimize this error.\n",
    "\n",
    "- **`X_train` and `y_train`**: the input images and their corresponding labels for training.  \n",
    "- **`epochs=20`**: the model will iterate 20 times over the entire training dataset.  \n",
    "- **`batch_size=64`**: the number of samples processed before the model updates its weights.  \n",
    "- **`validation_split=0.2`**: 20% of the training data is held out for validation to monitor performance during training.  \n",
    "- **`verbose=1`**: print progress and metrics for each epoch.\n",
    "\n",
    "The function returns a `history` object that stores the evolution of training and validation metrics over epochs, which can be used later for plotting learning curves.\n",
    "</div>"
   ]
  },
  {
   "cell_type": "markdown",
   "id": "12ffcb82",
   "metadata": {},
   "source": [
    "- Train the model"
   ]
  },
  {
   "cell_type": "code",
   "execution_count": 13,
   "id": "d0d670f3",
   "metadata": {},
   "outputs": [
    {
     "name": "stdout",
     "output_type": "stream",
     "text": [
      "Epoch 1/20\n",
      "\u001b[1m19/19\u001b[0m \u001b[32m━━━━━━━━━━━━━━━━━━━━\u001b[0m\u001b[37m\u001b[0m \u001b[1m9s\u001b[0m 387ms/step - accuracy: 0.3450 - loss: 1.1199 - val_accuracy: 0.4203 - val_loss: 1.0796\n",
      "Epoch 2/20\n",
      "\u001b[1m19/19\u001b[0m \u001b[32m━━━━━━━━━━━━━━━━━━━━\u001b[0m\u001b[37m\u001b[0m \u001b[1m7s\u001b[0m 372ms/step - accuracy: 0.3839 - loss: 1.0846 - val_accuracy: 0.4203 - val_loss: 1.0390\n",
      "Epoch 3/20\n",
      "\u001b[1m19/19\u001b[0m \u001b[32m━━━━━━━━━━━━━━━━━━━━\u001b[0m\u001b[37m\u001b[0m \u001b[1m7s\u001b[0m 368ms/step - accuracy: 0.4715 - loss: 1.0404 - val_accuracy: 0.7017 - val_loss: 0.8796\n",
      "Epoch 4/20\n",
      "\u001b[1m19/19\u001b[0m \u001b[32m━━━━━━━━━━━━━━━━━━━━\u001b[0m\u001b[37m\u001b[0m \u001b[1m8s\u001b[0m 398ms/step - accuracy: 0.6586 - loss: 0.8334 - val_accuracy: 0.6881 - val_loss: 0.6596\n",
      "Epoch 5/20\n",
      "\u001b[1m19/19\u001b[0m \u001b[32m━━━━━━━━━━━━━━━━━━━━\u001b[0m\u001b[37m\u001b[0m \u001b[1m8s\u001b[0m 433ms/step - accuracy: 0.7955 - loss: 0.5377 - val_accuracy: 0.7186 - val_loss: 0.5395\n",
      "Epoch 6/20\n",
      "\u001b[1m19/19\u001b[0m \u001b[32m━━━━━━━━━━━━━━━━━━━━\u001b[0m\u001b[37m\u001b[0m \u001b[1m9s\u001b[0m 466ms/step - accuracy: 0.8523 - loss: 0.3798 - val_accuracy: 0.9356 - val_loss: 0.2217\n",
      "Epoch 7/20\n",
      "\u001b[1m19/19\u001b[0m \u001b[32m━━━━━━━━━━━━━━━━━━━━\u001b[0m\u001b[37m\u001b[0m \u001b[1m7s\u001b[0m 393ms/step - accuracy: 0.8685 - loss: 0.2757 - val_accuracy: 0.7864 - val_loss: 0.4739\n",
      "Epoch 8/20\n",
      "\u001b[1m19/19\u001b[0m \u001b[32m━━━━━━━━━━━━━━━━━━━━\u001b[0m\u001b[37m\u001b[0m \u001b[1m9s\u001b[0m 457ms/step - accuracy: 0.8906 - loss: 0.2514 - val_accuracy: 0.9085 - val_loss: 0.2187\n",
      "Epoch 9/20\n",
      "\u001b[1m19/19\u001b[0m \u001b[32m━━━━━━━━━━━━━━━━━━━━\u001b[0m\u001b[37m\u001b[0m \u001b[1m8s\u001b[0m 402ms/step - accuracy: 0.9541 - loss: 0.1639 - val_accuracy: 0.9220 - val_loss: 0.1875\n",
      "Epoch 10/20\n",
      "\u001b[1m19/19\u001b[0m \u001b[32m━━━━━━━━━━━━━━━━━━━━\u001b[0m\u001b[37m\u001b[0m \u001b[1m7s\u001b[0m 375ms/step - accuracy: 0.9379 - loss: 0.1521 - val_accuracy: 0.9661 - val_loss: 0.1359\n",
      "Epoch 11/20\n",
      "\u001b[1m19/19\u001b[0m \u001b[32m━━━━━━━━━━━━━━━━━━━━\u001b[0m\u001b[37m\u001b[0m \u001b[1m7s\u001b[0m 387ms/step - accuracy: 0.9328 - loss: 0.1581 - val_accuracy: 0.8915 - val_loss: 0.2446\n",
      "Epoch 12/20\n",
      "\u001b[1m19/19\u001b[0m \u001b[32m━━━━━━━━━━━━━━━━━━━━\u001b[0m\u001b[37m\u001b[0m \u001b[1m8s\u001b[0m 394ms/step - accuracy: 0.9458 - loss: 0.1446 - val_accuracy: 0.9153 - val_loss: 0.2039\n",
      "Epoch 13/20\n",
      "\u001b[1m19/19\u001b[0m \u001b[32m━━━━━━━━━━━━━━━━━━━━\u001b[0m\u001b[37m\u001b[0m \u001b[1m7s\u001b[0m 390ms/step - accuracy: 0.9500 - loss: 0.1225 - val_accuracy: 0.9186 - val_loss: 0.1995\n",
      "Epoch 14/20\n",
      "\u001b[1m19/19\u001b[0m \u001b[32m━━━━━━━━━━━━━━━━━━━━\u001b[0m\u001b[37m\u001b[0m \u001b[1m7s\u001b[0m 365ms/step - accuracy: 0.9645 - loss: 0.1125 - val_accuracy: 0.9254 - val_loss: 0.1928\n",
      "Epoch 15/20\n",
      "\u001b[1m19/19\u001b[0m \u001b[32m━━━━━━━━━━━━━━━━━━━━\u001b[0m\u001b[37m\u001b[0m \u001b[1m8s\u001b[0m 428ms/step - accuracy: 0.9666 - loss: 0.1033 - val_accuracy: 0.9254 - val_loss: 0.1885\n",
      "Epoch 16/20\n",
      "\u001b[1m19/19\u001b[0m \u001b[32m━━━━━━━━━━━━━━━━━━━━\u001b[0m\u001b[37m\u001b[0m \u001b[1m11s\u001b[0m 475ms/step - accuracy: 0.9699 - loss: 0.1018 - val_accuracy: 0.9424 - val_loss: 0.1657\n",
      "Epoch 17/20\n",
      "\u001b[1m19/19\u001b[0m \u001b[32m━━━━━━━━━━━━━━━━━━━━\u001b[0m\u001b[37m\u001b[0m \u001b[1m9s\u001b[0m 449ms/step - accuracy: 0.9663 - loss: 0.0982 - val_accuracy: 0.9458 - val_loss: 0.1544\n",
      "Epoch 18/20\n",
      "\u001b[1m19/19\u001b[0m \u001b[32m━━━━━━━━━━━━━━━━━━━━\u001b[0m\u001b[37m\u001b[0m \u001b[1m9s\u001b[0m 478ms/step - accuracy: 0.9684 - loss: 0.0941 - val_accuracy: 0.9356 - val_loss: 0.1773\n",
      "Epoch 19/20\n",
      "\u001b[1m19/19\u001b[0m \u001b[32m━━━━━━━━━━━━━━━━━━━━\u001b[0m\u001b[37m\u001b[0m \u001b[1m9s\u001b[0m 462ms/step - accuracy: 0.9659 - loss: 0.0946 - val_accuracy: 0.9220 - val_loss: 0.1974\n",
      "Epoch 20/20\n",
      "\u001b[1m19/19\u001b[0m \u001b[32m━━━━━━━━━━━━━━━━━━━━\u001b[0m\u001b[37m\u001b[0m \u001b[1m9s\u001b[0m 490ms/step - accuracy: 0.9672 - loss: 0.0953 - val_accuracy: 0.9390 - val_loss: 0.1635\n"
     ]
    }
   ],
   "source": [
    "\n",
    "history = model.fit(\n",
    "    X_train, y_train,          \n",
    "    epochs=20,                \n",
    "    batch_size=64,            \n",
    "    validation_split=0.2,      \n",
    "    verbose=1                 \n",
    ")"
   ]
  },
  {
   "cell_type": "markdown",
   "id": "0a27072e",
   "metadata": {},
   "source": [
    "### 3-3- Evaluate model performances"
   ]
  },
  {
   "cell_type": "markdown",
   "id": "2147cf3e",
   "metadata": {},
   "source": [
    "#### 3-3-1- Plot metrics"
   ]
  },
  {
   "cell_type": "markdown",
   "id": "7a8a1c27",
   "metadata": {},
   "source": [
    "<div class=\"intro\">\n",
    "    \n",
    "After training, we can **visualize how the model’s performance evolved** over epochs.  \n",
    "Here, we plot the **training accuracy** and **validation accuracy** for each epoch.  \n",
    "\n",
    "- **Training accuracy** shows how well the model fits the training data.  \n",
    "- **Validation accuracy** shows how well the model generalizes to unseen data (here, a fraction of the training set held out for validation).  \n",
    "\n",
    "By comparing the two curves, we can detect **overfitting** (training accuracy much higher than validation) or **underfitting** (both accuracies low).\n",
    "</div>"
   ]
  },
  {
   "cell_type": "markdown",
   "id": "26432230",
   "metadata": {},
   "source": [
    "- Plot history of accuracy on train and validation"
   ]
  },
  {
   "cell_type": "code",
   "execution_count": 14,
   "id": "0e355530",
   "metadata": {},
   "outputs": [
    {
     "data": {
      "image/png": "[encoded data removed]",
      "text/plain": [
       "<Figure size 640x480 with 1 Axes>"
      ]
     },
     "metadata": {},
     "output_type": "display_data"
    }
   ],
   "source": [
    "import matplotlib.pyplot as plt\n",
    "\n",
    "plt.plot(history.history['accuracy'], label='train accuracy')\n",
    "plt.plot(history.history['val_accuracy'], label='val accuracy')\n",
    "plt.xlabel('Epoch')\n",
    "plt.ylabel('Accuracy')\n",
    "plt.legend()\n",
    "plt.show();"
   ]
  },
  {
   "cell_type": "markdown",
   "id": "c817e08a",
   "metadata": {},
   "source": [
    "#### 3-3-2- Predictions on test dataset"
   ]
  },
  {
   "cell_type": "markdown",
   "id": "2aaa7aaf",
   "metadata": {},
   "source": [
    "##### 3-3-3-2- Compute prediction"
   ]
  },
  {
   "cell_type": "markdown",
   "id": "e927fc7a",
   "metadata": {},
   "source": [
    "<div class=\"intro\">\n",
    "\n",
    "Now that the model is trained, we can **make predictions on the test set**.  \n",
    "We will compute the predicted class for each test image by taking the class with the highest probability.  \n",
    "</div>"
   ]
  },
  {
   "cell_type": "markdown",
   "id": "2db2a34f",
   "metadata": {},
   "source": [
    "- Predict probility and find class for X_test"
   ]
  },
  {
   "cell_type": "code",
   "execution_count": 15,
   "id": "24d6d4d2",
   "metadata": {},
   "outputs": [
    {
     "name": "stdout",
     "output_type": "stream",
     "text": [
      "\u001b[1m12/12\u001b[0m \u001b[32m━━━━━━━━━━━━━━━━━━━━\u001b[0m\u001b[37m\u001b[0m \u001b[1m1s\u001b[0m 68ms/step\n"
     ]
    }
   ],
   "source": [
    "y_pred_proba = model.predict(X_test)              # probability for each class (nb_images, 3)\n",
    "y_pred = np.argmax(y_pred_proba, axis=1)          # predicted class (0 or 1 or 2)"
   ]
  },
  {
   "cell_type": "markdown",
   "id": "8ab0c611",
   "metadata": {},
   "source": [
    "After predicting on the test set, `y_pred_proba` contains the **predicted probabilities for each class** for every image, while `y_pred` contains the **predicted class** based on the maximum probability.\n",
    "For example, for the first 5 images:"
   ]
  },
  {
   "cell_type": "code",
   "execution_count": 16,
   "id": "e458f2d1",
   "metadata": {},
   "outputs": [
    {
     "name": "stdout",
     "output_type": "stream",
     "text": [
      "Predicted probabilities for the first 5 test images:\n",
      "Image 0: [4.4256383e-05 6.0916107e-05 9.9989486e-01]\n",
      "Image 1: [1.3613629e-09 3.3566978e-09 1.0000000e+00]\n",
      "Image 2: [0.36044535 0.63219297 0.00736163]\n",
      "Image 3: [5.1023747e-04 1.5325215e-05 9.9947447e-01]\n",
      "Image 4: [9.9999881e-01 7.1403264e-07 4.7659086e-07]\n",
      "\n",
      "Predicted classes for the first 5 test images:\n",
      "Image 0: class 2\n",
      "Image 1: class 2\n",
      "Image 2: class 1\n",
      "Image 3: class 2\n",
      "Image 4: class 0\n"
     ]
    }
   ],
   "source": [
    "# Probabilities for each class\n",
    "print(\"Predicted probabilities for the first 5 test images:\")\n",
    "for i, probs in enumerate(y_pred_proba[:5]):\n",
    "    print(f\"Image {i}: {probs}\")\n",
    "\n",
    "# Predicted class\n",
    "print(\"\\nPredicted classes for the first 5 test images:\")\n",
    "for i, pred in enumerate(y_pred[:5]):\n",
    "    print(f\"Image {i}: class {pred}\")"
   ]
  },
  {
   "cell_type": "markdown",
   "id": "ab1e99e9",
   "metadata": {},
   "source": [
    "#### 3-3-3- Accuracy and confusion matrix"
   ]
  },
  {
   "cell_type": "markdown",
   "id": "6d55e10c",
   "metadata": {},
   "source": [
    "##### 3-3-3-1 — Compute Test Accuracy\n",
    "\n",
    "<div class=\"intro\">\n",
    "    \n",
    "Once we have the predicted classes (`y_pred`) for the test set, we can measure how well our CNN performs using the **accuracy score**.\n",
    "</div>"
   ]
  },
  {
   "cell_type": "markdown",
   "id": "0df79f29",
   "metadata": {},
   "source": [
    "- find accuracy score on test set"
   ]
  },
  {
   "cell_type": "code",
   "execution_count": 17,
   "id": "19efcadb",
   "metadata": {},
   "outputs": [
    {
     "name": "stdout",
     "output_type": "stream",
     "text": [
      "Accuracy on test set: 0.935\n",
      "Meaning: 93.5% of the predictions are correct\n"
     ]
    }
   ],
   "source": [
    "from sklearn.metrics import accuracy_score\n",
    "# --- accuracy ---\n",
    "acc = accuracy_score(y_test, y_pred)\n",
    "\n",
    "print(f\"Accuracy on test set: {acc:.3f}\")\n",
    "print(f\"Meaning: {100*acc:.1f}% of the predictions are correct\")\n"
   ]
  },
  {
   "cell_type": "markdown",
   "id": "2e8b32d9",
   "metadata": {},
   "source": [
    "##### 3-3-3-1- Confusion matrix"
   ]
  },
  {
   "cell_type": "markdown",
   "id": "5f9e57e5",
   "metadata": {},
   "source": [
    "<div class=\"intro\">\n",
    "    \n",
    "A **confusion matrix** is a table that summarizes the performance of a classification model by comparing the **true labels** `(y_test)` with the **predicted labels** `(y_pred)`.\n",
    "</div>"
   ]
  },
  {
   "cell_type": "markdown",
   "id": "578c5afb",
   "metadata": {},
   "source": [
    "- Print confusion matrix"
   ]
  },
  {
   "cell_type": "code",
   "execution_count": 18,
   "id": "282e1116",
   "metadata": {},
   "outputs": [
    {
     "name": "stdout",
     "output_type": "stream",
     "text": [
      "Confusion Matrix :\n",
      "[[123   0   0]\n",
      " [ 18  85   4]\n",
      " [  1   1 137]]\n"
     ]
    }
   ],
   "source": [
    "from sklearn.metrics import confusion_matrix\n",
    "\n",
    "cm = confusion_matrix(y_test, y_pred)\n",
    "print(\"Confusion Matrix :\")\n",
    "print(cm)"
   ]
  },
  {
   "cell_type": "markdown",
   "id": "324c8482",
   "metadata": {},
   "source": [
    "<div class=\"intro\">\n",
    "    \n",
    "We can visualize the confusion matrix as a **heatmap** to make it easier to interpret the model's performance.\n",
    "\n",
    "- Each **cell** shows the number of samples with a given true label (row) predicted as a given class (column).  \n",
    "- The **diagonal** shows the correctly classified samples.  \n",
    "- The **off-diagonal** shows misclassifications.  \n",
    "- Using colors (Blues) allows us to quickly see which classes are predicted well (darker = more samples).  \n",
    "\n",
    "The x-axis represents the **predicted classes**, the y-axis the **true classes**.  \n",
    "The **accuracy** of the model is also displayed in the title for quick reference.\n",
    "\n",
    "</div>"
   ]
  },
  {
   "cell_type": "markdown",
   "id": "34436679",
   "metadata": {},
   "source": [
    "- Plot confusion matrix"
   ]
  },
  {
   "cell_type": "code",
   "execution_count": 19,
   "id": "cf3064a4",
   "metadata": {},
   "outputs": [
    {
     "data": {
      "image/png": "[encoded data removed]",
      "text/plain": [
       "<Figure size 600x500 with 2 Axes>"
      ]
     },
     "metadata": {},
     "output_type": "display_data"
    }
   ],
   "source": [
    "import seaborn as sns\n",
    "plt.figure(figsize=(6,5))\n",
    "sns.heatmap(cm, annot=True, fmt='d', cmap='Blues',\n",
    "            xticklabels=['circle','square','triangle'],\n",
    "            yticklabels=['circle','square','triangle'])\n",
    "plt.xlabel('Prediction')\n",
    "plt.ylabel('True')\n",
    "plt.title(f'Confusion Matrix (Accuracy {acc:.2%})')\n",
    "plt.tight_layout()\n",
    "plt.show();\n"
   ]
  },
  {
   "cell_type": "markdown",
   "id": "1907a708",
   "metadata": {},
   "source": [
    "<div class=\"rqE\">\n",
    "\n",
    "We have now completed the full workflow: from raw files to image processing, dataset preparation, model definition, training, and evaluation. But the process is never really finished — you can always aim for better accuracy or improved generalization of your model. Why not try to improve it, for example by:\n",
    "\n",
    "\n",
    "- Compare **raw vs preprocessed** input: Train the *same* CNN on the raw images (or raw but resized to 128×128 to keep time reasonable).  \n",
    "\n",
    "- Data augmentation \n",
    "\n",
    "    - Intensity: multiply image by factor in `[0.8, 1.2]` or apply random gamma `gamma ∈ [0.8,1.2]`.  \n",
    "    - Add noise: small Gaussian noise  or Poisson noise .  \n",
    "    - Contrast adjustments: small contrast scaling    \n",
    "    - Small blur / smoothing: Gaussian blur.  \n",
    "    - Small translations: This simulates small misalignments.  \n",
    "    - Random detector artifacts: occasional dead pixels or small bright spots to simulate detector defects.\n",
    "    - ...\n",
    "  \n",
    "\n",
    "- Network architecture experiments\n",
    "    - Increase depth: add one or two conv blocks (Conv → BN → ReLU → MaxPool).  \n",
    "    - Use BatchNorm after convs for stability.  \n",
    "    - Add Dropout (e.g. `0.25–0.5`) before dense layers to reduce overfitting.  \n",
    "    - Change kernel sizes: try `3×3` vs `5×5` (SAXS spots are extended; larger kernels can capture broader features).  \n",
    "    - ...\n",
    "\n",
    "- Training & regularization tips\n",
    "    - Use `EarlyStopping(monitor='val_loss', patience=5)` and `ReduceLROnPlateau`.  \n",
    "    - Try `optimizer=Adam(learning_rate=1e-3)` then lower LR (`1e-4`) for fine tuning.  \n",
    "    - Change `batch_size=32` .\n",
    "    - ...\n",
    "\n",
    "</div>"
   ]
  },
  {
   "cell_type": "code",
   "execution_count": null,
   "id": "25f1df91",
   "metadata": {},
   "outputs": [],
   "source": [
    "vID.end(cwd0)"
   ]
  }
 ],
 "metadata": {
  "kernelspec": {
   "display_name": "donnees",
   "language": "python",
   "name": "python3"
  },
  "language_info": {
   "codemirror_mode": {
    "name": "ipython",
    "version": 3
   },
   "file_extension": ".py",
   "mimetype": "text/x-python",
   "name": "python",
   "nbconvert_exporter": "python",
   "pygments_lexer": "ipython3",
   "version": "3.12.1"
  }
 },
 "nbformat": 4,
 "nbformat_minor": 5
}
