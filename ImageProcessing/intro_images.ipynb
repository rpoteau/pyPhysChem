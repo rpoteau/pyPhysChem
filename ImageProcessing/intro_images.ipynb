{
 "cells": [
  {
   "cell_type": "code",
   "execution_count": 1,
   "id": "4a5f5a5c",
   "metadata": {},
   "outputs": [
    {
     "name": "stdout",
     "output_type": "stream",
     "text": [
      "/home/romuald/ENSEIGNEMENT/1-JupyterNotebooks/pyPhysChem/ImageProcessing\n"
     ]
    },
    {
     "data": {
      "text/html": [
       "<style>\n",
       "h1, h2, h3, h4, h5, h6 {\n",
       "  font-family: Verdana, \"DejaVu Sans\", \"Bitstream Vera Sans\", Geneva, sans-serif;\n",
       "  font-weight: bold;\n",
       "}\n",
       "body, intro, introE, introT, rq, rqE, rqT, ex, exE, app, appE, sol, todo, hint, hintE, figure  {\n",
       "  font-family: Verdana, \"DejaVu Sans\", \"Bitstream Vera Sans\", Geneva, sans-serif;\n",
       "  font-weight: 400;\n",
       "  font-size: 12px;\n",
       "}\n",
       "h1 {\n",
       "  border: 0 solid #333;\n",
       "  padding: 30px ;\n",
       "  color: white;\n",
       "  background: #b11d01;\n",
       "  text-align: center;\n",
       "}\n",
       "h2 {\n",
       "  border: 3px solid #333;\n",
       "  padding: 18px ;\n",
       "  color: #b11d01;\n",
       "  background: #ffffff;\n",
       "  text-align: center;\n",
       "}\n",
       "h3 {\n",
       "  border: 0 solid #333;\n",
       "  padding: 12px ;\n",
       "  color: #000000;\n",
       "  background: #c1c1c1;\n",
       "  text-align: left;\n",
       "}\n",
       "h4 {\n",
       "  border: 0 solid #333;\n",
       "  padding: 2px ;\n",
       "  color: #000000;\n",
       "  background: #d9fffc;\n",
       "  text-align: left;\n",
       "}\n",
       "h5 {\n",
       "  border: 1px solid #333;\n",
       "  padding: 2px ;\n",
       "  color: #000000;\n",
       "  background: #ffffff;\n",
       "  text-align: left;\n",
       "}\n",
       ".introT::before {    \n",
       "    content: attr(title);\n",
       "    background-color: #cecece;\n",
       "    margin-left:-0.5em;\n",
       "    margin-right:-0.5em;\n",
       "    padding-left:0.5em;\n",
       "    padding-right:0.5em;\n",
       "    font-weight: 600;\n",
       "    display: block;\n",
       "}\n",
       ".introT {    \n",
       "    background-color: #cecece80;\n",
       "    border-color: #969696;\n",
       "    border-left: 5px solid #969696;\n",
       "    padding: 0.5em;\n",
       "}\n",
       ".intro {    \n",
       "    background-color: #cecece80;\n",
       "    border-color: #969696;\n",
       "    border-left: 5px solid #969696;\n",
       "    padding: 0.5em;\n",
       "}\n",
       ".introE {    \n",
       "    background-color: #cecece80;\n",
       "    border-color: #969696;\n",
       "    border-left: 5px solid #969696;\n",
       "    padding: 0.5em;\n",
       "    color : #117996;\n",
       "}\n",
       ".rq::before {    \n",
       "    background-color: #fcd3d3;\n",
       "    color: #ff0000;\n",
       "    content:\"Remarque\";\n",
       "    margin-left:-0.5em;\n",
       "    margin-right:-0.5em;\n",
       "    padding-left:0.5em;\n",
       "    padding-right:0.5em;\n",
       "    font-weight: 600;\n",
       "    display: block;\n",
       "}\n",
       ".rq {    \n",
       "    background-color: #fcf2f2;\n",
       "    border-color: #dFb5b4;\n",
       "    border-left: 5px solid #dfb5b4;\n",
       "    padding: 0.5em;\n",
       "}\n",
       ".rqE::before {    \n",
       "    background-color: #fcd3d3;\n",
       "    color: #ff0000;\n",
       "    content:\"Pay attention\";\n",
       "    margin-left:-0.5em;\n",
       "    margin-right:-0.5em;\n",
       "    padding-left:0.5em;\n",
       "    padding-right:0.5em;\n",
       "    font-weight: 600;\n",
       "    display: block;\n",
       "}\n",
       ".rqE {    \n",
       "    background-color: #fcd3d380;\n",
       "    border-color: #dFb5b4;\n",
       "    border-left: 5px solid #dfb5b4;\n",
       "    padding: 0.5em;\n",
       "}\n",
       ".rqT::before {    \n",
       "    background-color: #fcd3d3;\n",
       "    color: #ff0000;\n",
       "    content: attr(title);\n",
       "    margin-left:-0.5em;\n",
       "    margin-right:-0.5em;\n",
       "    padding-left:0.5em;\n",
       "    padding-right:0.5em;\n",
       "    font-weight: 600;\n",
       "    display: block;\n",
       "}\n",
       ".rqT {    \n",
       "    background-color: #fcd3d380;\n",
       "    border-color: #dFb5b4;\n",
       "    border-left: 5px solid #dfb5b4;\n",
       "    padding: 0.5em;\n",
       "}\n",
       ".exold {    \n",
       "    background-color: #b2dbea80;\n",
       "    border-color: #0055ff;\n",
       "    border-left: 10px solid #0055ff;\n",
       "    padding: 0.5em;\n",
       "}\n",
       ".ex {    \n",
       "    background-color: #b2dbea80;\n",
       "    padding: 0.5em;\n",
       "    padding-top: 0em;\n",
       "    position:relative;\n",
       "}\n",
       ".ex::before {\n",
       "    background-color: #b2dbea;\n",
       "    content:\"Exercice. \" attr(title);\n",
       "    margin-left:-0.5em;\n",
       "    margin-right:-0.5em;\n",
       "    padding-left:0.5em;\n",
       "    padding-right:0.5em;\n",
       "    font-weight: 600;\n",
       "    display: block;\n",
       "}\n",
       ".exE {    \n",
       "    background-color: #b2dbea80;\n",
       "    padding: 0.5em;\n",
       "    padding-top: 0em;\n",
       "    position:relative;\n",
       "    color : #117996;\n",
       "}\n",
       ".exE::before {\n",
       "    background-color: #b2dbea;\n",
       "    content:\"Exercise. \" attr(title);\n",
       "    margin-left:-0.5em;\n",
       "    margin-right:-0.5em;\n",
       "    padding-left:0.5em;\n",
       "    padding-right:0.5em;\n",
       "    font-weight: 600;\n",
       "    display: block;\n",
       "    color : #117996;\n",
       "}\n",
       ".hint {    \n",
       "    background-color: #dede6f80;\n",
       "    padding: 0.5em;\n",
       "    padding-top: 0em;\n",
       "    position:relative;\n",
       "    color : ##37665f;\n",
       "}\n",
       ".hint::before {\n",
       "    background-color: #dede6f;\n",
       "    content:\"Indice(s). \" attr(title);\n",
       "    margin-left:-0.5em;\n",
       "    margin-right:-0.5em;\n",
       "    padding-left:0.5em;\n",
       "    padding-right:0.5em;\n",
       "    font-weight: 600;\n",
       "    display: block;\n",
       "    color : ##37665f;\n",
       "}\n",
       ".hintE {    \n",
       "    background-color: #dede6f80;\n",
       "    padding: 0.5em;\n",
       "    padding-top: 0em;\n",
       "    position:relative;\n",
       "    color : ##37665f;\n",
       "}\n",
       ".hintE::before {\n",
       "    background-color: #dede6f;\n",
       "    content:\"Hint(s). \" attr(title);\n",
       "    margin-left:-0.5em;\n",
       "    margin-right:-0.5em;\n",
       "    padding-left:0.5em;\n",
       "    padding-right:0.5em;\n",
       "    font-weight: 600;\n",
       "    display: block;\n",
       "    color : ##37665f;\n",
       "}\n",
       ".app {    \n",
       "    background-color: #b2dbea80;\n",
       "    padding: 0.5em;\n",
       "    padding-top: 0em;\n",
       "    position:relative;\n",
       "}\n",
       ".app::before {\n",
       "    background-color: #b2dbea;\n",
       "    content:\"Application\";\n",
       "    margin-left:-0.5em;\n",
       "    margin-right:-0.5em;\n",
       "    padding-left:0.5em;\n",
       "    padding-right:0.5em;\n",
       "    font-weight: 600;\n",
       "    display: block;\n",
       "}\n",
       ".appE {    \n",
       "    background-color: #b2dbea80;\n",
       "    padding: 0.5em;\n",
       "    padding-top: 0em;\n",
       "    color : #117996;\n",
       "    position:relative;\n",
       "}\n",
       ".appE::before {\n",
       "    background-color: #b2dbea;\n",
       "    content:\"Application\";\n",
       "    margin-left:-0.5em;\n",
       "    margin-right:-0.5em;\n",
       "    padding-left:0.5em;\n",
       "    padding-right:0.5em;\n",
       "    font-weight: 600;\n",
       "    color : #117996;\n",
       "    display: block;\n",
       "}\n",
       ".solFr {    \n",
       "    background-color: #bbeab880;\n",
       "    padding: 0.5em;\n",
       "    padding-top: 0em;\n",
       "    position:relative;\n",
       "}\n",
       ".solFr::before {\n",
       "    background-color: #bbeab8;\n",
       "    content:\"Solution\";\n",
       "    margin-left:-0.5em;\n",
       "    margin-right:-0.5em;\n",
       "    padding-left:0.5em;\n",
       "    padding-right:0.5em;\n",
       "    font-weight: 600;\n",
       "    display: block;\n",
       "}.sol {    \n",
       "    background-color: #bbeab880;\n",
       "    padding: 0.5em;\n",
       "    padding-top: 0em;\n",
       "    position:relative;\n",
       "}\n",
       ".sol::before {\n",
       "    background-color: #bbeab8;\n",
       "    content:\"Answer\";\n",
       "    margin-left:-0.5em;\n",
       "    margin-right:-0.5em;\n",
       "    padding-left:0.5em;\n",
       "    padding-right:0.5em;\n",
       "    font-weight: 600;\n",
       "    display: block;\n",
       "}\n",
       ".com {    \n",
       "    background-color: #ffff7f80;\n",
       "    padding: 0.5em;\n",
       "    padding-top: 0em;\n",
       "    position:relative;\n",
       "}\n",
       ".com::before {\n",
       "    background-color: #ffff7f;\n",
       "    content:\"Comment.\";\n",
       "    margin-left:-0.5em;\n",
       "    margin-right:-0.5em;\n",
       "    padding-left:0.5em;\n",
       "    padding-right:0.5em;\n",
       "    font-weight: 600;\n",
       "    display: block;\n",
       "}\n",
       "div.todo:before {\n",
       "    content:url(data:image/png;base64,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);\n",
       "    float:left;\n",
       "    margin-left:20px;\n",
       "    margin-right:20px;\n",
       "    margin-top:20px;\n",
       "    margin-bottom:20px;\n",
       "}\n",
       "div.todo{\n",
       "    font-size: 1.1em;\n",
       "    margin-top:40px;\n",
       "    background-color: #b2dbea80;\n",
       "}\n",
       "div.todo ul{\n",
       "    margin: 0.2em;\n",
       "}\n",
       "div.todo li{\n",
       "    margin-left:60px;\n",
       "    margin-top:0;\n",
       "    margin-bottom:0;\n",
       "}\n",
       "\n",
       "figure {\n",
       "    border: 0px;\n",
       "    text-align: center;\n",
       "    margin: 5px; /* adjust as needed */\n",
       "    display: block;\n",
       "    margin: auto;\n",
       "}\n",
       "figure img {\n",
       "    vertical-align: top;\n",
       "    text-align: center;\n",
       "    display: block;\n",
       "    margin: auto;\n",
       "}\n",
       "figure figcaption {\n",
       "    border: 0px;\n",
       "    text-align: center;\n",
       "    font-size: 11px;\n",
       "    margin: auto;\n",
       "}\n",
       "\n",
       "</style>\n"
      ],
      "text/plain": [
       "<IPython.core.display.HTML object>"
      ]
     },
     "metadata": {},
     "output_type": "display_data"
    },
    {
     "data": {
      "text/markdown": [
       "**Start at:** Thursday 02 October 2025, 22:19:32  \n",
       "**Hostname:** device-8.home (Linux)"
      ],
      "text/plain": [
       "<IPython.core.display.Markdown object>"
      ]
     },
     "metadata": {},
     "output_type": "display_data"
    },
    {
     "data": {
      "text/markdown": [
       "<p style=\"text-align: center\"><img width=\"800px\" src=\"../config/svg/pyPhysChemBanner.svg\" style=\"margin-left:auto; margin-right:auto\"/></p>"
      ],
      "text/plain": [
       "<IPython.core.display.Markdown object>"
      ]
     },
     "metadata": {},
     "output_type": "display_data"
    }
   ],
   "source": [
    "import os\n",
    "import sys\n",
    "\n",
    "print(os.getcwd())\n",
    "cwd0 = '../config/'\n",
    "sys.path.append(cwd0)\n",
    "\n",
    "import visualID_Eng as vID\n",
    "from visualID_Eng import fg,bg,hl,color\n",
    "vID.init(cwd0)\n",
    "\n",
    "import tools4pyPhysChem as t4pPC\n",
    "\n",
    "#cancel the \"last show-up\" behaviour of Jupyter notebooks\n",
    "from IPython.core.interactiveshell import InteractiveShell\n",
    "InteractiveShell.ast_node_interactivity = \"all\"\n",
    "\n",
    "__author__ = \"Simon Cayez, LPCNO / Département Génie Physique (INSA Toulouse, France)\""
   ]
  },
  {
   "cell_type": "markdown",
   "id": "1d83a477",
   "metadata": {},
   "source": [
    "<h2 style=\"text-align: center;\">\n",
    "  <b><u>Introduction to Image Processing in Python</u>:<br></b>\n",
    "</h2>"
   ]
  },
  {
   "cell_type": "markdown",
   "id": "0ae5e768",
   "metadata": {},
   "source": [
    "## 1- Numpy Library basics"
   ]
  },
  {
   "cell_type": "markdown",
   "id": "a3e6765c",
   "metadata": {},
   "source": [
    "<div class=\"intro\">\n",
    "\n",
    "NumPy is a library designed for manipulating **multidimensional arrays**.  \n",
    "It is an essential tool for data science and research. NumPy enables you to perform complex mathematical operations, data manipulations, and logical operations efficiently and with a clear syntax.  \n",
    "It forms the foundation of many other scientific Python libraries.  \n",
    "Because NumPy is **written in C**, it can handle **complex operations** on **large amounts of data** much faster than pure Python code.\n",
    "</div>"
   ]
  },
  {
   "cell_type": "markdown",
   "id": "16c28585",
   "metadata": {},
   "source": [
    "### 1-1-  Dimension and shape"
   ]
  },
  {
   "cell_type": "markdown",
   "id": "9a532039",
   "metadata": {},
   "source": [
    "#### 1-1-1- Read dimension and shape"
   ]
  },
  {
   "cell_type": "markdown",
   "id": "5168f22d",
   "metadata": {},
   "source": [
    "<div class=\"intro\">\n",
    "\n",
    "- **shape** returns a tuple indicating the size of the array along each dimension.  \n",
    "- **ndim** returns the number of dimensions of the array.\n",
    "\n",
    "</div>"
   ]
  },
  {
   "cell_type": "code",
   "execution_count": null,
   "id": "fc598454",
   "metadata": {},
   "outputs": [],
   "source": [
    "import numpy as np\n",
    "\n",
    "# --- 1D array ---\n",
    "array_1d = np.array([1, 2, 3])\n",
    "print(\"1D array:\\n\", array_1d)\n",
    "print(f\"  ndim  : {array_1d.ndim} (number of dimensions)\")\n",
    "print(f\"  shape : {array_1d.shape} (size along each dimension)\")\n",
    "print(\"-\" * 40)\n",
    "\n",
    "# --- 2D array ---\n",
    "array_2d = np.array([[1, 2, 3],\n",
    "                     [4, 5, 6]])\n",
    "print(\"2D array:\\n\", array_2d)\n",
    "print(f\"  ndim  : {array_2d.ndim}\")\n",
    "print(f\"  shape : {array_2d.shape}\")\n",
    "print(\"-\" * 40)\n",
    "\n",
    "# --- 3D array ---\n",
    "array_3d = np.array([\n",
    "    [[1, 2], [3, 4]],\n",
    "    [[5, 6], [7, 8]]\n",
    "])\n",
    "print(\"3D array:\\n\", array_3d)\n",
    "print(f\"  ndim  : {array_3d.ndim}\")\n",
    "print(f\"  shape : {array_3d.shape}\")"
   ]
  },
  {
   "cell_type": "markdown",
   "id": "dfb17baf",
   "metadata": {},
   "source": [
    "#### 1-1-2- Change dimension and shape"
   ]
  },
  {
   "cell_type": "markdown",
   "id": "21ccd4de",
   "metadata": {},
   "source": [
    "<div class=\"intro\">\n",
    "\n",
    "**Reshape**. If you need to change the shape of an array without altering its data, for example to use tools that expect NumPy arrays with specific dimensions as input.\n",
    "`np.reshape` will create a new array with the specified shape.\n",
    "</div>"
   ]
  },
  {
   "cell_type": "code",
   "execution_count": null,
   "id": "de456992",
   "metadata": {},
   "outputs": [],
   "source": [
    "array_1 = np.array([1, 2, 3, 4, 5, 6])\n",
    "array_2 = np.reshape(array_1, (2, 3))  # Request to reshape into 2 rows and 3 columns\n",
    "\n",
    "print('Before:')\n",
    "print(array_1)\n",
    "print('Shape =', array_1.shape)\n",
    "print('Number of dimensions =', array_1.ndim)\n",
    "print('------------------')\n",
    "print('After:')\n",
    "print(array_2)\n",
    "print('Shape =', array_2.shape)\n",
    "print('Number of dimensions =', array_2.ndim)\n"
   ]
  },
  {
   "cell_type": "markdown",
   "id": "94cc7a8e",
   "metadata": {},
   "source": [
    "<div class=\"intro\">\n",
    "    \n",
    "**Flatten Array**. `my_array.flatten`  transforms a multi-dimensional into a single dimension array\n",
    "</div>"
   ]
  },
  {
   "cell_type": "code",
   "execution_count": null,
   "id": "f66d0551",
   "metadata": {},
   "outputs": [],
   "source": [
    "# 3D array (2 blocs de 2×3)\n",
    "my_array = np.array([\n",
    "    [[1, 2, 3],\n",
    "     [4, 5, 6]],\n",
    "    [[7, 8, 9],\n",
    "     [10, 11, 12]]\n",
    "])\n",
    "\n",
    "print('----- my_array -----')\n",
    "print(my_array)\n",
    "print('Shape of my_array:', my_array.shape)\n",
    "\n",
    "# Flatten (convertir en tableau 1D)\n",
    "my_flatten_array = my_array.flatten()\n",
    "\n",
    "print('----- my_array (flattened) -----')\n",
    "print(my_flatten_array)\n",
    "print('Shape of flattened array:', my_flatten_array.shape)\n"
   ]
  },
  {
   "cell_type": "markdown",
   "id": "d77253d3",
   "metadata": {},
   "source": [
    "<div class=\"intro\">\n",
    "    \n",
    "**Squeeze a dimension**. It often happens that one of the array’s dimensions is equal to 1 without it being necessary; to remove this or these dimensions, we can use `np.squeeze`.\n",
    "</div>"
   ]
  },
  {
   "cell_type": "code",
   "execution_count": null,
   "id": "634a64bb",
   "metadata": {},
   "outputs": [],
   "source": [
    "# Create a 3D array with an unnecessary dimension of size 1\n",
    "my_array = np.array([[[1], [2], [3]]])\n",
    "\n",
    "print(\"Original array:\")\n",
    "print(my_array)\n",
    "print(\"Shape of the array:\", my_array.shape)   # (3,1,?) depending on how you build it\n",
    "print(\"Number of dimensions:\", my_array.ndim)\n",
    "print('---------------')\n",
    "\n",
    "# Automatically remove all dimensions of size 1\n",
    "squeezed_array = np.squeeze(my_array)\n",
    "\n",
    "print(\"Array after np.squeeze:\")\n",
    "print(squeezed_array)\n",
    "print(\"Shape of the array:\", squeezed_array.shape)  # Reduced dimensions\n",
    "print(\"Number of dimensions:\", squeezed_array.ndim)\n",
    "\n"
   ]
  },
  {
   "cell_type": "markdown",
   "id": "8ec63a29",
   "metadata": {},
   "source": [
    "<div class=\"intro\">\n",
    "\n",
    "`np.squeeze()` removes all axes (dimensions) of size **1** from a NumPy array.  \n",
    "This is useful when an array has redundant singleton dimensions and you want a simpler shape without altering the data itself.\n",
    "\n",
    "</div>"
   ]
  },
  {
   "cell_type": "markdown",
   "id": "5edb1c1c",
   "metadata": {},
   "source": [
    "### 1-2- Statistics on an array"
   ]
  },
  {
   "cell_type": "markdown",
   "id": "81bf1359",
   "metadata": {},
   "source": [
    "<div class=\"intro\">\n",
    "    \n",
    "NumPy allows you to perform various **statistical operations** on arrays, such as finding the **minimum**, **maximum**, or **mean** values. These operations can be applied to the whole array or along a specific axis.\n",
    "\n",
    "By specifying the `axis` argument, you can choose the dimension along which the operation is performed:\n",
    "\n",
    "- `axis=0` → operate **along columns** (down the rows)  \n",
    "- `axis=1` → operate **along rows** (across columns)\n",
    "</div>"
   ]
  },
  {
   "cell_type": "code",
   "execution_count": null,
   "id": "0adef0c0",
   "metadata": {},
   "outputs": [],
   "source": [
    "# Create a 2D array\n",
    "arr = np.array([[1, 5, 3],\n",
    "                [4, 2, 6]])\n",
    "\n",
    "print(\"Original array:\")\n",
    "print(arr)\n",
    "\n",
    "# Maximum of the entire array\n",
    "print(\"Max of the whole array:\", np.max(arr))\n",
    "\n",
    "# Maximum of each column\n",
    "print(\"Max of each column:\", np.max(arr, axis=0))\n",
    "\n",
    "# Maximum of each row\n",
    "print(\"Max of each row:\", np.max(arr, axis=1))"
   ]
  },
  {
   "cell_type": "markdown",
   "id": "dc467bf4",
   "metadata": {},
   "source": [
    "### 1-4- Select Parts of arrays\n",
    "\n",
    "#### 1-3-1- Slice Notation\n",
    "\n",
    "<div class=\"intro\">\n",
    "    \n",
    "In NumPy, you can extract specific elements, rows, columns, or entire sub-arrays using **slicing**\n",
    "</div>"
   ]
  },
  {
   "cell_type": "code",
   "execution_count": null,
   "id": "cc46ef0c",
   "metadata": {},
   "outputs": [],
   "source": [
    "# Define a simple 1D array with 8 elements\n",
    "my_array = np.array([10, 20, 30, 40, 50, 60, 70, 80])\n",
    "\n",
    "print(\"Original 1D array (shape: {}):\\n\".format(my_array.shape), my_array)\n",
    "\n",
    "# Access a single element\n",
    "print(\"\\nmy_array[3] -> element at index 3:\")\n",
    "print(my_array[3])  # 40\n",
    "\n",
    "# Slice from index 2 to 5 (include 2, exclude 5)\n",
    "print(\"\\nmy_array[2:5] -> elements from index 2 up to (but not including) 5:\")\n",
    "print(my_array[2:5])  # [30 40 50]\n",
    "\n",
    "# Slice from start up to index 4\n",
    "print(\"\\nmy_array[:4] -> first 4 elements (indices 0,1,2,3):\")\n",
    "print(my_array[:4])  # [10 20 30 40]\n",
    "\n",
    "# Slice from index 5 to the end\n",
    "print(\"\\nmy_array[5:] -> elements from index 5 to the end:\")\n",
    "print(my_array[5:])  # [60 70 80]\n",
    "\n",
    "# Slice with a step\n",
    "print(\"\\nmy_array[::2] -> every 2nd element:\")\n",
    "print(my_array[::2])  # [10 30 50 70]\n"
   ]
  },
  {
   "cell_type": "markdown",
   "id": "b1997ddd",
   "metadata": {},
   "source": [
    "<div class=\"intro\">\n",
    "\n",
    "On higher dimension\n",
    "</div>"
   ]
  },
  {
   "cell_type": "code",
   "execution_count": null,
   "id": "4b6d7ce8",
   "metadata": {},
   "outputs": [],
   "source": [
    "# Define a 3D array (2 layers, 2 rows, 3 columns)\n",
    "my_array = np.array([[[1, 2, 3], [4, 5, 6]],\n",
    "                     [[7, 8, 9], [10, 11, 12]]])\n",
    "\n",
    "print(\"Original 3D array (shape: {}):\\n\".format(my_array.shape), my_array)\n",
    "\n",
    "# Access a single element: layer 0, row 1, column 2\n",
    "print(\"\\nmy_array[0, 1, 2] -> channel 0, row 1, column 2:\")\n",
    "print(my_array[0, 1, 2])\n",
    "\n",
    "# Access all layers, row 0, all columns\n",
    "print(\"\\nmy_array[:, 0, :] -> all channels, row 0, all columns:\")\n",
    "print(my_array[:, 0, :])\n",
    "\n",
    "# Access all elements of the last layer\n",
    "print(\"\\nmy_array[-1, :, :] -> all rows and columns of the last channel:\")\n",
    "print(my_array[-1, :, :])\n"
   ]
  },
  {
   "cell_type": "markdown",
   "id": "b74e9be7",
   "metadata": {},
   "source": [
    "#### 1-3-2- Conditional Selection\n",
    "\n",
    "<div class=\"app\">\n",
    "\n",
    "`np.where` returns the indices where a condition is true. It is commonly used to filter or replace values. The function returns a tuple, with each element being an array containing the indices of elements that satisfy the condition.\n",
    "</div>"
   ]
  },
  {
   "cell_type": "code",
   "execution_count": null,
   "id": "55547ee9",
   "metadata": {},
   "outputs": [],
   "source": [
    "my_array = np.array([[0,8,6],[2,6,1]])\n",
    "print(\"Original 3D array (shape: {}):\\n\".format(my_array.shape), my_array)\n",
    "print(50*'*')\n",
    "print(np.where(my_array> 3))"
   ]
  },
  {
   "cell_type": "markdown",
   "id": "7e1ffd21",
   "metadata": {},
   "source": [
    "<div class=\"rqE\">\n",
    "\n",
    "How to read this result:\n",
    "\n",
    "`np.where` returns a tuple of arrays, one for each dimension of the input array.\n",
    "\n",
    "The first array contains the row indices, and the second array contains the corresponding column indices.\n",
    "\n",
    "So `(array([0, 0, 1]), array([1, 2, 1]))` means:\n",
    "\n",
    "| Element | Row index | Column index | Value |\n",
    "|---------|-----------|--------------|-------|\n",
    "| 1       | 0         | 1            | 8     |\n",
    "| 2       | 0         | 2            | 6     |\n",
    "| 3       | 1         | 1            | 6     |\n",
    "</div>"
   ]
  },
  {
   "cell_type": "markdown",
   "id": "4de41a8f",
   "metadata": {},
   "source": [
    "## 2- Images in numpy\n",
    "\n",
    "<div class=\"intro\">\n",
    "\n",
    "Working with images in Python heavily relies on **NumPy**, an image can naturally be represented as a **NumPy array**:\n",
    "\n",
    "NumPy provides:\n",
    "- Efficient storage of pixel values (integer or float types).\n",
    "- Fast mathematical and logical operations on all pixels at once (vectorization).\n",
    "- Easy reshaping, slicing, masking, and statistical analysis.\n",
    "\n",
    "Thanks to this, most image-processing libraries (OpenCV, scikit-image, PIL, etc.) internally use NumPy arrays for their data representation.  \n",
    "\n",
    "</div>"
   ]
  },
  {
   "cell_type": "markdown",
   "id": "e99ac7f5",
   "metadata": {},
   "source": [
    "### 2-1 Build images from different numpy arrays shapes\n",
    "#### 2-1-1- 1D numpy aray\n",
    "- First image array"
   ]
  },
  {
   "cell_type": "code",
   "execution_count": null,
   "id": "1c74ce7c",
   "metadata": {},
   "outputs": [],
   "source": [
    "my_image = np.random.randint(0, 255, size=(12, 12))\n",
    "print(my_image)"
   ]
  },
  {
   "cell_type": "markdown",
   "id": "abff69b5",
   "metadata": {},
   "source": [
    "- Display image with matplotlib\n",
    "\n",
    "`matplotlib.pyplot.imshow()` is a convenient function to **display NumPy arrays as images** directly inside a Jupyter Notebook."
   ]
  },
  {
   "cell_type": "code",
   "execution_count": null,
   "id": "e90f09ab",
   "metadata": {},
   "outputs": [],
   "source": [
    "%matplotlib widget\n",
    "# In case of issue with package installation, try:\n",
    "#%matplotlib inline\n",
    "import matplotlib.pyplot as plt\n",
    "\n",
    "fig,ax = plt.subplots()\n",
    "ax.imshow(my_image)\n",
    "plt.show();"
   ]
  },
  {
   "cell_type": "markdown",
   "id": "b1d1cec8",
   "metadata": {},
   "source": [
    "<div class=\"intro\">\n",
    "    \n",
    "The parameter `cmap` (short for **colormap**) controls **how pixel values are mapped to colors**.  \n",
    "It determines the color scale used to represent the numerical data of an image.\n",
    "\n",
    "</div>\n",
    "\n",
    "#### Common Colormaps\n",
    "\n",
    "<div class=\"intro\">\n",
    "\n",
    "| Colormap name | Description |\n",
    "|---------------|-------------|\n",
    "| `gray` / `Greys` | Black-to-white grayscale (default for many images) |\n",
    "| `viridis` | Perceptually uniform, good for scientific data |\n",
    "| `plasma` | Bright purple-to-yellow gradient |\n",
    "| `inferno` | Dark purple-to-yellow gradient (high contrast) |\n",
    "| `magma` | Dark purple-to-orange gradient |\n",
    "| `jet` | Classic rainbow colormap (not recommended for quantitative data) |\n",
    "| `hot` | Black-red-yellow-white gradient (heatmap style) |\n",
    "</div>"
   ]
  },
  {
   "cell_type": "code",
   "execution_count": null,
   "id": "73c0292b",
   "metadata": {},
   "outputs": [],
   "source": [
    "fig,ax = plt.subplots()\n",
    "ax.imshow(my_image, cmap='gray');"
   ]
  },
  {
   "cell_type": "markdown",
   "id": "6cca2e59",
   "metadata": {},
   "source": [
    "#### 2-1-2- 2D numpy aray: 3 Channels"
   ]
  },
  {
   "cell_type": "markdown",
   "id": "d4f13818",
   "metadata": {},
   "source": [
    "<div class=\"intro\">\n",
    "\n",
    "For color images, you usually have 3 channels:\n",
    "\n",
    "- **R**: Red  \n",
    "- **G**: Green  \n",
    "- **B**: Blue  \n",
    "\n",
    "\n",
    "Note that on some librarie, channels are coded as BGR.\n",
    "</div>"
   ]
  },
  {
   "cell_type": "code",
   "execution_count": null,
   "id": "2185e56d",
   "metadata": {},
   "outputs": [],
   "source": [
    "my_image_rgb = np.random.randint(0, 256, size=(12, 12, 3), dtype=np.uint8)\n",
    "print(\"Shape:\", my_image_rgb.shape)  \n",
    "fig, ax = plt.subplots()\n",
    "ax.imshow(my_image_rgb)\n",
    "ax.axis('off');"
   ]
  },
  {
   "cell_type": "markdown",
   "id": "b6c709f3",
   "metadata": {},
   "source": [
    "#### 2-1-3- 2D numpy ara: 4 Channels"
   ]
  },
  {
   "cell_type": "markdown",
   "id": "595c12bf",
   "metadata": {},
   "source": [
    "<div class=\"intro\">\n",
    "    \n",
    "Sometimes a **4th channel** is added, called the **alpha channel**, which represents **transparency**.  \n",
    "This is common in formats like **PNG**, where each pixel has RGBA values.\n",
    "\n",
    "\n",
    "| Shape Example      | Meaning |\n",
    "|-------------------|---------|\n",
    "| `(height, width)` | Grayscale image (single channel) |\n",
    "| `(height, width, 3)` | RGB image (3 channels: Red, Green, Blue) |\n",
    "| `(height, width, 4)` | RGBA image (4 channels: Red, Green, Blue, Alpha = transparency) |\n",
    "</div>"
   ]
  },
  {
   "cell_type": "code",
   "execution_count": null,
   "id": "6917b42b",
   "metadata": {},
   "outputs": [],
   "source": [
    "# 2x2 pixels, RGBA (R, G, B, A)\n",
    "\n",
    "# Image 1 : alpha = transparency (very transparent)\n",
    "transparency = 20\n",
    "img_alpha_20 = np.array([\n",
    "    [[255,   0,   0, transparency], [  0, 255,   0, transparency]],  # red    (255,0,0,transparency)   , green  (0,255,0,transparency)\n",
    "    [[  0,   0, 255, transparency], [255, 255,   0, transparency]]   # blue   (0,0,255,transparency)  , yellow (255,255,0,transparency)\n",
    "], dtype=np.uint8)\n",
    "\n",
    "\n",
    "# Image 2 : alpha = transparency (half-transparent)\n",
    "transparency = 128\n",
    "img_alpha_128 = np.array([\n",
    "    [[255,   0,   0, transparency], [  0, 255,   0, transparency]],  # red    (255,0,0,transparency)   , green  (0,255,0,transparency)\n",
    "    [[  0,   0, 255, transparency], [255, 255,   0, transparency]]   # blue   (0,0,255,transparency)  , yellow (255,255,0,transparency)\n",
    "], dtype=np.uint8)\n",
    "\n",
    "# Image 3 : alpha = transparency (no transparency)\n",
    "transparency = 255\n",
    "img_alpha_255 = np.array([\n",
    "    [[255,   0,   0, transparency], [  0, 255,   0, transparency]],  # red    (255,0,0,transparency)   , green  (0,255,0,transparency)\n",
    "    [[  0,   0, 255, transparency], [255, 255,   0, transparency]]   # blue   (0,0,255,transparency)  , yellow (255,255,0,transparency)\n",
    "], dtype=np.uint8)\n",
    "\n",
    "fig, axes = plt.subplots(1, 3, figsize=(6, 2))\n",
    "\n",
    "axes[0].imshow(img_alpha_20)\n",
    "axes[0].set_title(\"alpha = 20\")\n",
    "axes[0].axis(\"off\")\n",
    "\n",
    "axes[1].imshow(img_alpha_128)\n",
    "axes[1].set_title(\"alpha = 128\")\n",
    "axes[1].axis(\"off\")\n",
    "\n",
    "axes[2].imshow(img_alpha_255)\n",
    "axes[2].set_title(\"alpha = 255\")\n",
    "axes[2].axis(\"off\")\n",
    "\n",
    "\n",
    "plt.show();"
   ]
  },
  {
   "cell_type": "markdown",
   "id": "bda1aa5d",
   "metadata": {},
   "source": [
    "#### 2-1-4- 3D numpy arrays: Image stack"
   ]
  },
  {
   "cell_type": "markdown",
   "id": "6f472223",
   "metadata": {},
   "source": [
    "<div class=\"intro\">\n",
    "\n",
    "In addition to single images (2D for grayscale or 3D for RGB/RGBA), **NumPy arrays with 3 or more dimensions** can store **stacks of images**.  \n",
    "\n",
    "This is common in:\n",
    "- Deep learning datasets (batch of images)\n",
    "- Time series of images (video frames)\n",
    "- Multi-spectral imaging  \n",
    "\n",
    "We create a **stack of 6 random RGB images** with shape `(6, 12, 12, 3)`\n",
    "</div>\n"
   ]
  },
  {
   "cell_type": "code",
   "execution_count": null,
   "id": "cae96aa1",
   "metadata": {},
   "outputs": [],
   "source": [
    "# Create a stack of 6 RGB images (12x12 pixels each)\n",
    "image_stack = np.random.randint(0, 256, size=(6, 12, 12, 3), dtype=np.uint8)\n",
    "print(\"Shape of image stack:\", image_stack.shape)  # (6, 12, 12, 3)\n",
    "\n",
    "# Plot each image in a 2×3 grid\n",
    "fig, axes = plt.subplots(2, 3, figsize=(8, 6))\n",
    "axes = axes.ravel()  # Flatten axes for easy iteration\n",
    "\n",
    "for i in range(6):\n",
    "    axes[i].imshow(image_stack[i])  # Show i-th image\n",
    "    axes[i].set_title(f\"Image {i}\")\n",
    "    axes[i].axis('off')\n",
    "\n",
    "plt.tight_layout()\n",
    "plt.show();"
   ]
  },
  {
   "cell_type": "markdown",
   "id": "88161a60",
   "metadata": {},
   "source": [
    "\n",
    "<div class=\"rqT\" title=\"Recap of NumPy array sizes for image data\">\n",
    "\n",
    "| Shape Example        | Meaning |\n",
    "|---------------------|---------|\n",
    "| `(height, width)`   | Grayscale image (single channel, intensity only) |\n",
    "| `(height, width, 3)` | RGB image (3 channels: Red, Green, Blue) |\n",
    "| `(height, width, 4)` | RGBA image (4 channels: Red, Green, Blue, Alpha for transparency) |\n",
    "| `(n_images, height, width)` | Stack of grayscale images (batch of images) |\n",
    "| `(n_images, height, width, 3)` | Stack of RGB images |\n",
    "| `(n_images, height, width, 4)` | Stack of RGBA images (with transparency) |\n",
    "</div>"
   ]
  },
  {
   "cell_type": "markdown",
   "id": "f280a440",
   "metadata": {},
   "source": [
    "### 2-2- Open and save images\n",
    "#### 2-2-1- Images with matplotlib"
   ]
  },
  {
   "cell_type": "markdown",
   "id": "a955dfee",
   "metadata": {},
   "source": [
    "<div class=\"intro\">\n",
    "\n",
    "The function `matplotlib.pyplot.imread` reads an image from disk and returns it as a NumPy array.  \n",
    "Each pixel is represented as numbers (for example, RGB values between 0 and 1 or 0 and 255 depending on the file type).  \n",
    "</div>"
   ]
  },
  {
   "cell_type": "code",
   "execution_count": null,
   "id": "480dbf50",
   "metadata": {},
   "outputs": [],
   "source": [
    "# Read image with matplotlib\n",
    "#image = plt.imread('data/image1.jpg')\n",
    "image = plt.imread('data/nino.jpg')\n",
    "# Convert to numpy array\n",
    "image = np.array(image)\n",
    "print(image.shape)\n",
    "fig,ax = plt.subplots()\n",
    "ax.imshow(image)\n",
    "ax.axis('off');"
   ]
  },
  {
   "cell_type": "markdown",
   "id": "22187e52",
   "metadata": {},
   "source": [
    "<div class=\"intro\">\n",
    "\n",
    "You can also **save images** back to disk using `matplotlib.pyplot.imsave`, which writes a NumPy array (image data) to a file in formats like PNG or JPEG.\n",
    "</div>"
   ]
  },
  {
   "cell_type": "code",
   "execution_count": null,
   "id": "053d45ee",
   "metadata": {},
   "outputs": [],
   "source": [
    "# Create a random RGB image\n",
    "my_image_rgb = np.random.randint(0, 256, size=(128, 128, 3), dtype=np.uint8)\n",
    "\n",
    "# Save the image to disk as PNG\n",
    "plt.imsave('data/my_image_rgb.png', my_image_rgb)\n",
    "\n",
    "print(\"Image saved\")"
   ]
  },
  {
   "cell_type": "markdown",
   "id": "bba9429e",
   "metadata": {},
   "source": [
    "<div class=\"intro\">\n",
    "\n",
    "Display multi channels image \n",
    "</div>"
   ]
  },
  {
   "cell_type": "code",
   "execution_count": null,
   "id": "107fc198",
   "metadata": {},
   "outputs": [],
   "source": [
    "# representing RGBA (Red, Green, Blue, Alpha) channels.\n",
    "# Example (random RGBA image):\n",
    "\n",
    "image = plt.imread('data/rgb.png')\n",
    "fig, axes = plt.subplots(1, 5, figsize=(12, 3))  # 1 row, 4 columns of subplots\n",
    "\n",
    "channel_names = ['Red', 'Green', 'Blue', 'Alpha']\n",
    "\n",
    "for i in range(4):\n",
    "    # Show the i-th channel as a grayscale image\n",
    "    axes[i].imshow(image[:, :, i], cmap='gray')\n",
    "    axes[i].set_title(channel_names[i])  # Label the channel\n",
    "    axes[i].axis('off')  # Remove axes for clarity\n",
    "\n",
    "axes[4].imshow(image)\n",
    "axes[4].set_title('Original')  # Label the channel\n",
    "axes[4].axis('off')  # Remove axes for clarity\n",
    "\n",
    "plt.tight_layout()\n",
    "plt.show();"
   ]
  },
  {
   "cell_type": "markdown",
   "id": "0b2046a5",
   "metadata": {},
   "source": [
    "### 2-1- Python libraries for images"
   ]
  },
  {
   "cell_type": "markdown",
   "id": "e23ed923",
   "metadata": {},
   "source": [
    "<div class=\"intro\">\n",
    "\n",
    "Python also offers several dedicated image-processing libraries.  \n",
    "Each of them complements NumPy by adding higher-level functions for opening, manipulating, and saving images.\n",
    "\n",
    "**OpenCV (cv2)**  \n",
    "OpenCV is a powerful library mainly used for computer vision tasks. It provides fast image display and processing capabilities, but note that `cv2.imshow` opens a separate window outside the notebook.\n",
    "\n",
    "**Pillow (PIL)**  \n",
    "Pillow is a friendly and easy-to-use library for opening, manipulating, and displaying images. It is often used for simple image processing tasks in scientific workflows.\n",
    "\n",
    "\n",
    "**scikit-image (skimage)**  \n",
    "scikit-image is designed for scientific image processing. It integrates well with NumPy and Matplotlib, making it convenient for analysis and visualization of microscopy or experimental images.\n",
    "</div>"
   ]
  },
  {
   "cell_type": "markdown",
   "id": "afe770e3",
   "metadata": {},
   "source": [
    "#### 2-1-1- Open CV\n",
    "\n",
    "<div class=\"intro\">\n",
    "\n",
    "A high-performance library widely used in **computer vision**.  \n",
    "It excels at fast image I/O, transformations, and real-time processing.  \n",
    "Note: `cv2.imshow` opens an external window (not inline in notebooks).  \n",
    "\n",
    "[opencv documentation](https://docs.opencv.org/4.x/d6/d00/tutorial_py_root.html)\n",
    "</div>"
   ]
  },
  {
   "cell_type": "code",
   "execution_count": null,
   "id": "04573139",
   "metadata": {},
   "outputs": [],
   "source": [
    "import cv2\n",
    "image  = cv2.imread('data/nino.jpg')\n",
    "cv2.imshow(\"My Image\", image)\n",
    "cv2.waitKey(0) \n",
    "cv2.destroyAllWindows()"
   ]
  },
  {
   "cell_type": "markdown",
   "id": "0174f93a",
   "metadata": {},
   "source": [
    "#### 2-1-2- Pillow (Pil)\n",
    "\n",
    "<div class=\"intro\">\n",
    "\n",
    "A **simple and user-friendly** library for opening, manipulating, and displaying images.\n",
    "It’s great for lightweight image tasks directly inside a notebook.   \n",
    "\n",
    "[pil documentation](https://hugovk-pillow.readthedocs.io/en/stable/index.html)\n",
    "</div>"
   ]
  },
  {
   "cell_type": "code",
   "execution_count": null,
   "id": "c48dd3b5",
   "metadata": {},
   "outputs": [],
   "source": [
    "from PIL import Image\n",
    "image = Image.open('data/nino.jpg')\n",
    "\n",
    "#pil_img = Image.fromarray(image.astype(np.uint8))\n",
    "display(image)  # affiche directement dans le notebook"
   ]
  },
  {
   "cell_type": "markdown",
   "id": "e0dcb92f",
   "metadata": {},
   "source": [
    "#### 2-1-3- Scikit image\n",
    "\n",
    "<div class=\"intro\">\n",
    "\n",
    "A **scientific image** processing library built on NumPy and Matplotlib.\n",
    "It’s ideal for analysis and visualization of microscopy or experimental images.  \n",
    "\n",
    "[scikit image documentation](https://scikit-image.org/docs/stable/)\n",
    "</div>"
   ]
  },
  {
   "cell_type": "code",
   "execution_count": null,
   "id": "5eb5fb9d",
   "metadata": {},
   "outputs": [],
   "source": [
    "from skimage import io\n",
    "import matplotlib.pyplot as plt\n",
    "\n",
    "image = io.imread('data/nino.jpg')\n",
    "\n",
    "plt.figure()  # crée une nouvelle figure vierge\n",
    "plt.imshow(image)\n",
    "plt.title(\"Displayed with scikit-image\")\n",
    "plt.axis('off')\n",
    "plt.show();\n"
   ]
  },
  {
   "cell_type": "markdown",
   "id": "65387547",
   "metadata": {},
   "source": [
    "## 3- Some examples in opencv"
   ]
  },
  {
   "cell_type": "markdown",
   "id": "9511316b",
   "metadata": {},
   "source": [
    "### 3-1- Thresholding and Contour Detection for Particle Analysis\n",
    "\n",
    "<div class=\"intro\">\n",
    "\n",
    "In image processing, **thresholding** is often used to separate objects of interest from the background by converting an image to binary (black and white) based on pixel intensity.  \n",
    "\n",
    "Once objects are isolated, **contour detection** can be applied to find the boundaries of each object.  \n",
    "\n",
    "This combination is very useful for **particle analysis**, allowing us to:  \n",
    "- **Count objects** in an image.  \n",
    "- **Measure their size** (area, width, height, or approximate diameter).  \n",
    "- Analyze distributions of particle sizes using histograms.  \n",
    "\n",
    "Libraries like **OpenCV** provide efficient tools for thresholding (`cv2.threshold`) and contour detection (`cv2.findContours`), making this workflow straightforward in Python.\n",
    "</div>"
   ]
  },
  {
   "cell_type": "code",
   "execution_count": null,
   "id": "77fa7aee",
   "metadata": {},
   "outputs": [],
   "source": [
    "\n",
    "# --- Read the image ---\n",
    "image = cv2.imread('data/fluo_latex_1.tif')\n",
    "\n",
    "# --- Convert to grayscale ---\n",
    "gray = cv2.cvtColor(image, cv2.COLOR_BGR2GRAY)\n",
    "\n",
    "# --- Apply binary threshold ---\n",
    "ret, threshold = cv2.threshold(gray, 100, 255, cv2.THRESH_BINARY)\n",
    "\n",
    "# --- Find contours ---\n",
    "contours, hierarchy = cv2.findContours(threshold, cv2.RETR_TREE, cv2.CHAIN_APPROX_SIMPLE)\n",
    "\n",
    "# --- Draw contours on a copy of the original image ---\n",
    "image_with_contours = image.copy()\n",
    "for cnt in contours:\n",
    "    cv2.drawContours(image_with_contours, [cnt], 0, (0, 0, 255), 1)  # Red contours\n",
    "\n",
    "# --- Display results in subplots (columns) ---\n",
    "fig, axes = plt.subplots(3, 1, figsize=(8, 16))  # 3 rows, 1 column\n",
    "\n",
    "# Original image\n",
    "axes[0].imshow(cv2.cvtColor(image, cv2.COLOR_BGR2RGB))\n",
    "axes[0].set_title(\"Original Image\")\n",
    "axes[0].axis('off')\n",
    "\n",
    "# threshold\n",
    "axes[1].imshow(cv2.cvtColor(threshold, cv2.COLOR_BGR2RGB))\n",
    "axes[1].set_title(\"Threshold image\")\n",
    "axes[1].axis('off')\n",
    "\n",
    "# Image with contours\n",
    "axes[2].imshow(cv2.cvtColor(image_with_contours, cv2.COLOR_BGR2RGB))\n",
    "axes[2].set_title(\"Image with contours\")\n",
    "axes[2].axis('off')\n",
    "\n",
    "plt.tight_layout()\n",
    "plt.show();\n",
    "\n"
   ]
  },
  {
   "cell_type": "code",
   "execution_count": null,
   "id": "3385ecba",
   "metadata": {},
   "outputs": [],
   "source": [
    "print(f\"Number of contours detected: {len(contours)}\")"
   ]
  },
  {
   "cell_type": "code",
   "execution_count": null,
   "id": "eba4ca51",
   "metadata": {},
   "outputs": [],
   "source": [
    "# --- Compute contour areas ---\n",
    "contour_areas = [cv2.contourArea(cnt) for cnt in contours]\n",
    "# Histogram of contour areas\n",
    "fig, ax = plt.subplots()\n",
    "ax.hist(contour_areas, bins=100, color='skyblue', edgecolor='black')\n",
    "ax.set_title(\"Histogram of Contour Areas\")\n",
    "ax.set_xlabel(\"Area (pixels)\")\n",
    "ax.set_ylabel(\"Number of Contours\");"
   ]
  },
  {
   "cell_type": "markdown",
   "id": "5757caf5",
   "metadata": {},
   "source": [
    "## 3-2- Video"
   ]
  },
  {
   "cell_type": "markdown",
   "id": "976a50e0",
   "metadata": {},
   "source": [
    "<div class=\"intro\">\n",
    "\n",
    "OpenCV allows you to **read and process videos frame by frame** in Python. This is useful for tasks such as video analysis, object tracking, or real-time image processing.\n",
    "\n",
    "The basic workflow is:\n",
    "\n",
    "1. **Load the video** using `cv2.VideoCapture(video_path)`.\n",
    "2. **Loop through each frame**:\n",
    "   - Read a frame with `cap.read()`.\n",
    "   - Break the loop if the frame cannot be read.\n",
    "   - Process or display the frame (e.g., convert to grayscale or show it in a window).\n",
    "3. **Exit the loop** when a specific key is pressed (e.g., 'q').\n",
    "4. **Release the video capture** and close all OpenCV windows with `cap.release()` and `cv2.destroyAllWindows()`.\n",
    "</div>"
   ]
  },
  {
   "cell_type": "code",
   "execution_count": null,
   "id": "1045f7c7",
   "metadata": {},
   "outputs": [],
   "source": [
    "# Path to the video\n",
    "#video_path = \"data/ma_video.mp4\"\n",
    "video_path = \"data/in_situ_TEM_Ni_deposition.mp4\"\n",
    "\n",
    "# Load the video\n",
    "cap = cv2.VideoCapture(video_path)\n",
    "\n",
    "# Loop to read each frame of the video\n",
    "while True:\n",
    "    # Read a frame\n",
    "    ret, frame = cap.read()\n",
    "    # Exit the loop if the frame is not read correctly\n",
    "    if not ret:\n",
    "        break \n",
    "    # Display the frame in grayscale\n",
    "    cv2.imshow('in situ TEM Ni deposition', frame)  \n",
    "    # Wait for 'q' key to exit the loop\n",
    "    if cv2.waitKey(25) & 0xFF == ord('q'):\n",
    "        break\n",
    "\n",
    "# Release the video capture\n",
    "cap.release()\n",
    "# Close all windows\n",
    "cv2.destroyAllWindows()\n"
   ]
  },
  {
   "cell_type": "markdown",
   "id": "be811c95",
   "metadata": {},
   "source": [
    "<div class=\"intro\">\n",
    "\n",
    "Just like with individual images, you can apply **image processing operations** to each frame of a video. For example, you can perform segmentation using .\n",
    "\n",
    "Below is an example that **threshold video** of in situ TEM of Ni deposition. \n",
    "</div>"
   ]
  },
  {
   "cell_type": "code",
   "execution_count": null,
   "id": "70036b31",
   "metadata": {},
   "outputs": [],
   "source": [
    "video_path = \"data/in_situ_TEM_Ni_deposition.mp4\"\n",
    "cap = cv2.VideoCapture(video_path)\n",
    "\n",
    "while True:\n",
    "    # Read a frame from the video\n",
    "    ret, frame = cap.read()\n",
    "\n",
    "    # Stop if the video has ended\n",
    "    if not ret:\n",
    "        break\n",
    "\n",
    "    # Convert the frame to grayscale\n",
    "    frame_gray = cv2.cvtColor(frame, cv2.COLOR_BGR2GRAY)\n",
    "\n",
    "    # Apply binary threshold at 140\n",
    "    _, thresh = cv2.threshold(frame_gray, 160, 255, cv2.THRESH_BINARY)\n",
    "\n",
    "    # Display the thresholded frame\n",
    "    cv2.imshow(\"Binary Threshold (140)\", thresh)\n",
    "\n",
    "    # Wait 25 ms and allow exit with 'q'\n",
    "    if cv2.waitKey(25) & 0xFF == ord('q'):\n",
    "        break\n",
    "\n",
    "# Release resources\n",
    "cap.release()\n",
    "cv2.destroyAllWindows()\n"
   ]
  },
  {
   "cell_type": "markdown",
   "id": "e3557367",
   "metadata": {},
   "source": [
    "<div class=\"intro\">\n",
    "\n",
    "From the previous code we can from example extract the ratio of black pixel/white pixels.\n",
    "</div>"
   ]
  },
  {
   "cell_type": "code",
   "execution_count": null,
   "id": "c81299e4",
   "metadata": {},
   "outputs": [],
   "source": [
    "video_path = \"data/in_situ_TEM_Ni_deposition.mp4\"\n",
    "cap = cv2.VideoCapture(video_path)\n",
    "\n",
    "ratios = []\n",
    "frame_numbers = []\n",
    "\n",
    "frame_id = 0\n",
    "\n",
    "while True:\n",
    "    ret, frame = cap.read()\n",
    "    if not ret:\n",
    "        break\n",
    "\n",
    "    frame_id += 1\n",
    "\n",
    "    # Convert to grayscale\n",
    "    frame_gray = cv2.cvtColor(frame, cv2.COLOR_BGR2GRAY)\n",
    "\n",
    "    # Apply binary threshold at 140\n",
    "    _, thresh = cv2.threshold(frame_gray, 160, 255, cv2.THRESH_BINARY)\n",
    "\n",
    "    # Count black and white pixels\n",
    "    nb_white = cv2.countNonZero(thresh)\n",
    "    nb_total = thresh.size\n",
    "    nb_black = nb_total - nb_white\n",
    "\n",
    "    # Avoid division by zero\n",
    "    ratio = nb_black / nb_white if nb_white > 0 else 0\n",
    "\n",
    "    ratios.append(ratio)\n",
    "    frame_numbers.append(frame_id)\n",
    "\n",
    "cap.release()\n",
    "\n",
    "# Plot ratio vs frame number\n",
    "fig,ax = plt.subplots()\n",
    "ax.plot(frame_numbers, ratios)\n",
    "ax.set_xlabel(\"Frame number\")\n",
    "ax.set_ylabel(\"Black/White pixel ratio\")\n",
    "ax.set_title(\"Pixel ratio evolution over video\")\n",
    "plt.show();\n"
   ]
  },
  {
   "cell_type": "markdown",
   "id": "89058ec1",
   "metadata": {},
   "source": [
    "## Next Steps: Applying the Basics to a Real Problem\n",
    "\n",
    "<div class=\"intro\">\n",
    "\n",
    "Now that we have covered the fundamentals of image manipulation, visualization, and basic processing in Python, we will apply these skills to a concrete problem: **preparing a dataset for training an AI model** using synchrotron image data.  \n",
    "\n",
    "In the next notebook, you will see how to handle real experimental images, perform preprocessing, and structure the data for machine learning workflows.\n",
    "\n",
    "[Open the notebook to start working with the synchrotron dataset](image_processing_workshop.ipynb)  \n",
    "\n",
    "</div>\n"
   ]
  },
  {
   "cell_type": "code",
   "execution_count": 2,
   "id": "3b8d84f4",
   "metadata": {},
   "outputs": [
    {
     "data": {
      "text/markdown": [
       "**End at:** Thursday 02 October 2025, 22:20:31  \n",
       "**Duration:** 00:00:59 975ms"
      ],
      "text/plain": [
       "<IPython.core.display.Markdown object>"
      ]
     },
     "metadata": {},
     "output_type": "display_data"
    },
    {
     "data": {
      "text/markdown": [
       "<p style=\"text-align: center\"><img width=\"800px\" src=\"../config/svg/logoEnd.svg\" style=\"margin-left:auto; margin-right:auto\"/></p>"
      ],
      "text/plain": [
       "<IPython.core.display.Markdown object>"
      ]
     },
     "metadata": {},
     "output_type": "display_data"
    }
   ],
   "source": [
    "vID.end(cwd0)"
   ]
  },
  {
   "cell_type": "code",
   "execution_count": null,
   "id": "70cf477c-dfcf-451c-b5b9-7252edac9038",
   "metadata": {},
   "outputs": [],
   "source": []
  }
 ],
 "metadata": {
  "kernelspec": {
   "display_name": "Python 3 (ipykernel)",
   "language": "python",
   "name": "python3"
  },
  "language_info": {
   "codemirror_mode": {
    "name": "ipython",
    "version": 3
   },
   "file_extension": ".py",
   "mimetype": "text/x-python",
   "name": "python",
   "nbconvert_exporter": "python",
   "pygments_lexer": "ipython3",
   "version": "3.11.13"
  }
 },
 "nbformat": 4,
 "nbformat_minor": 5
}
