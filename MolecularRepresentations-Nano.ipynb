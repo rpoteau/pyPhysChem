{
 "cells": [
  {
   "cell_type": "code",
   "execution_count": null,
   "id": "269396e1-4699-46d7-b7bc-8ef342174c94",
   "metadata": {},
   "outputs": [],
   "source": [
    "import os\n",
    "import sys\n",
    "\n",
    "print(os.getcwd())\n",
    "cwd0 = './config/'\n",
    "sys.path.append(cwd0)\n",
    "\n",
    "import visualID_Eng as vID\n",
    "from visualID_Eng import color,bg,fg,hl\n",
    "vID.init(cwd0)\n",
    "import tools4pyPhysChem as t4pPC"
   ]
  },
  {
   "cell_type": "markdown",
   "id": "856de24c-ddcb-46b2-a794-7ea0365df87c",
   "metadata": {
    "tags": []
   },
   "source": [
    "# Representation and Metadata Generation of Nanomaterials for Machine Learning\n",
    "\n",
    "## Building things with ase\n",
    "\n",
    "<div class=\"intro\">\n",
    "    \n",
    "ASE is an Atomic Simulation Environment written in the Python programming language with the aim of setting up, steering, and analyzing atomistic simulations. ASE is quite flexible, and you can indeed build clusters, carbon nanotubes, molecules, bulk crystals, and surfaces with it. It provides a set of constructors and utilities for setting up atomic structures before running calculations (DFT, classical, machine learning, etc.)\n",
    "\n",
    "In this tutorial, we will focus on the construction of clusters and nanoparticles (NPs) using the Atomic Simulation Environment (ASE).\n",
    "Unlike bulk crystals or surfaces, clusters and nanoparticles represent finite systems with a large surface-to-volume ratio, making them highly relevant in nanoscience and catalysis.\n",
    "\n",
    "ASE provides convenient tools to generate such systems:\n",
    "\n",
    "- Geometric clusters such as icosahedra, cuboctahedra, and octahedra, which are common motifs in metallic nanoparticles. These clusters are useful for studying size effects, stability, or as starting points for further optimization.\n",
    "- Wulff constructions, which allow the creation of nanoparticles with shapes determined by surface energies of different crystallographic facets. This method is closer to realistic nanoparticles observed in experiments, as it predicts the equilibrium morphology for a given material and particle size.\n",
    "\n",
    "In the following, we will illustrate how to:\n",
    "\n",
    "- Build clusters with predefined symmetries (icosahedral, cuboctahedral, octahedral).\n",
    "- Generate Wulff-shaped nanoparticles by providing surface energies for selected facets.\n",
    "</div>"
   ]
  },
  {
   "cell_type": "markdown",
   "id": "5d518b52-1051-4705-85d1-6b20024b5e05",
   "metadata": {},
   "source": [
    "### `Atoms` objects\n",
    "\n",
    "<div class=\"intro\">\n",
    "\n",
    "Before diving into clusters and nanoparticles with ASE, it’s really important that students/users understand the basics. ASE revolves around one central concept: the `Atoms` object. It represents a collection of atoms, i.e., the atomic positions, cell, and properties. Let's obtain a compound by using the [PubChem API integration in the `pubchem_atoms_search()`](https://ase-lib.org/ase/build/build.html#ase.build.molecule).\n",
    "</div>"
   ]
  },
  {
   "cell_type": "code",
   "execution_count": null,
   "id": "dc091b20-8573-4123-9df5-2e06c56f0791",
   "metadata": {},
   "outputs": [],
   "source": [
    "from ase.data.pubchem import pubchem_atoms_search\n",
    "\n",
    "mol = pubchem_atoms_search(name='vitamin')\n",
    "\n",
    "print(mol)\n",
    "print()\n",
    "for atom in mol:\n",
    "    Z = atom.number\n",
    "    print(atom.index, atom.symbol, atom.position, atom.mass)"
   ]
  },
  {
   "cell_type": "markdown",
   "id": "f63caf03-ec34-4789-9ad8-903b4c7539e7",
   "metadata": {},
   "source": [
    "<div class=\"rqE\">\n",
    "\n",
    "We will interactively visualize this structure with`py3Dmol`, which is a Python interface to the `3Dmol.js` molecular viewer. It allows you to:\n",
    "- Display interactive 3D molecular structures directly in Jupyter notebooks or web pages\n",
    "- Rotate, zoom, and inspect molecules, nanoparticles, or crystal fragments\n",
    "- Visualize outputs from various chemistry/physics libraries (e.g. ASE, RDKit, PDB files)\n",
    "\n",
    "Last but not least, it’s often more reliable in modern JupyterLab setups. \n",
    "\n",
    "The main drawback is that it is necessary to convert as ASE `Atoms` object as a string under the so-called xyz format.\n",
    "</div>"
   ]
  },
  {
   "cell_type": "code",
   "execution_count": null,
   "id": "41c1bbf8-9b95-4d2c-982d-41f7023c4360",
   "metadata": {},
   "outputs": [],
   "source": [
    "import py3Dmol\n",
    "import io\n",
    "from ase.io import write\n",
    "\n",
    "buf = io.StringIO()\n",
    "write(buf, mol, format=\"xyz\")\n",
    "xyz_string = buf.getvalue()\n",
    "buf.close()\n"
   ]
  },
  {
   "cell_type": "markdown",
   "id": "5a97d0dd-49a3-4e3d-b99f-c58f541b7fa6",
   "metadata": {},
   "source": [
    "<div class=\"intro\">\n",
    "\n",
    "You will see now the raw **xyz** coordinates of every atom in this molecule.\n",
    "</div>"
   ]
  },
  {
   "cell_type": "code",
   "execution_count": null,
   "id": "cda40109-eb2c-4bfb-9e24-7b68ed54ae92",
   "metadata": {},
   "outputs": [],
   "source": [
    "# Check result\n",
    "print(xyz_string)"
   ]
  },
  {
   "cell_type": "markdown",
   "id": "b65e0214-4361-46e0-ad9d-b0e43cc51013",
   "metadata": {},
   "source": [
    "<div class=\"intro\">\n",
    "\n",
    "Visualization of the ase molecule, converted as an xyz string\n",
    "</div>"
   ]
  },
  {
   "cell_type": "code",
   "execution_count": null,
   "id": "3b674b6c-ac58-4885-9ceb-5c729cbb3a1c",
   "metadata": {},
   "outputs": [],
   "source": [
    "# Create a 3Dmol.js view\n",
    "view = py3Dmol.view(width=600, height=400)\n",
    "# Add the XYZ model\n",
    "view.addModel(xyz_string, \"xyz\")\n",
    "# Ball-and-stick style\n",
    "view.setStyle({\n",
    "    'stick': {'radius': 0.15, 'colorscheme': 'element'},\n",
    "    'sphere': {'scale': 0.3, 'colorscheme': 'element'}\n",
    "})\n",
    "view.setHoverable({}, True, \n",
    "    \"function(atom,viewer,event,container) { viewer.addLabel(atom.elem+atom.serial,{position:atom, backgroundColor:'black'}); }\",\n",
    "    \"function(atom,viewer) { viewer.removeAllLabels(); }\")\n",
    "# Center and zoom\n",
    "view.zoomTo()\n",
    "# Show it\n",
    "view.show()"
   ]
  },
  {
   "cell_type": "markdown",
   "id": "e6122ec8-85fc-4fb9-8dcd-5751f2b35a02",
   "metadata": {},
   "source": [
    "### in-house molView interface\n",
    "\n",
    "<div class=\"intro\">\n",
    "\n",
    "Next, we will convert this procedure into a reusable function for the rest of this notebook (done with the valuable help of ChatGPT)\n",
    "</div>"
   ]
  },
  {
   "cell_type": "code",
   "execution_count": null,
   "id": "eb9d8634-32b8-4829-ad9c-8e434ce1fcc7",
   "metadata": {},
   "outputs": [],
   "source": [
    "import py3Dmol\n",
    "import io\n",
    "from ase import Atoms\n",
    "from ase.io import write\n",
    "\n",
    "class molView:\n",
    "    \"\"\"\n",
    "    Display molecular structures in py3Dmol from various sources:\n",
    "    - XYZ/PDB/etc. file\n",
    "    - XYZ-format string\n",
    "    - PubChem CID\n",
    "    - ASE Atoms object\n",
    "\n",
    "    Two visualization styles are available:\n",
    "      - 'bs'  : ball-and-stick (default)\n",
    "      - 'cpk' : CPK space-filling spheres (with adjustable size)\n",
    "      \n",
    "    Upon creation, an interactive 3D viewer is shown directly\n",
    "    in a Jupyter notebook cell.\n",
    "\n",
    "    Parameters\n",
    "    ----------\n",
    "    mol : str or ase.Atoms\n",
    "        The molecular structure to visualize.\n",
    "        - If `source='file'`, this should be a path to a structure file (XYZ, PDB, etc.)\n",
    "        - If `source='mol'`, this should be a string containing the structure (XYZ, PDB...)\n",
    "        - If `source='cid'`, this should be a PubChem CID (string or int)\n",
    "        - If `source='ase'`, this should be an `ase.Atoms` object\n",
    "    source : {'file', 'mol', 'cid', 'ase'}, optional\n",
    "        The type of the input `mol` (default: 'file').\n",
    "    style : {'bs', 'cpk'}, optional\n",
    "        Visualization style (default: 'bs').\n",
    "        - 'bs'  → ball-and-stick\n",
    "        - 'cpk' → CPK space-filling spheres\n",
    "    cpk_scale : float, optional\n",
    "        Overall scaling factor for sphere size in CPK style (default: 0.5).\n",
    "        Ignored when `style='bs'`.\n",
    "    w : int, optional\n",
    "        Width of the viewer in pixels (default: 600).\n",
    "    h : int, optional\n",
    "        Height of the viewer in pixels (default: 400).\n",
    "\n",
    "    Examples\n",
    "    --------\n",
    "    >>> molView(\"molecule.xyz\", source=\"file\")\n",
    "    >>> molView(xyz_string, source=\"mol\")\n",
    "    >>> molView(\"2244\", source=\"cid\")   # PubChem benzene\n",
    "    >>> from ase.build import molecule\n",
    "    >>> molView(molecule(\"H2O\"), source=\"ase\")\n",
    "    \"\"\"\n",
    "\n",
    "    def __init__(self, mol, source='file', style='bs', cpk_scale=0.6, w=600, h=400):\n",
    "        self.mol = mol\n",
    "        self.source = source\n",
    "        self.style = style\n",
    "        self.cpk_scale = cpk_scale\n",
    "        self.w = w\n",
    "        self.h = h\n",
    "        self.view()\n",
    "\n",
    "    def view(self):\n",
    "        def ase2xyz(atoms: Atoms) -> str:\n",
    "            \"\"\"\n",
    "            Convert an ASE Atoms object into an XYZ-format string.\n",
    "        \n",
    "            This is useful when you want to pass atomic structures directly\n",
    "            to visualization tools such as py3Dmol without creating a file on disk.\n",
    "        \n",
    "            Parameters\n",
    "            ----------\n",
    "            atoms : ase.Atoms\n",
    "                The atomic structure to export.\n",
    "        \n",
    "            Returns\n",
    "            -------\n",
    "            str\n",
    "                The XYZ-formatted structure as a string.\n",
    "            \"\"\"\n",
    "            buf = io.StringIO()\n",
    "            write(buf, atoms, format=\"xyz\")\n",
    "            xyz_string = buf.getvalue()\n",
    "            buf.close()\n",
    "            return xyz_string\n",
    "\n",
    "        # Create viewer for all but CID\n",
    "        if self.source == 'file':\n",
    "            v = py3Dmol.view(width=self.w, height=self.h)\n",
    "            with open(self.mol) as ifile:\n",
    "                moltxt = ifile.read()\n",
    "            v.addModel(moltxt)\n",
    "\n",
    "        elif self.source == 'mol':\n",
    "            v = py3Dmol.view(width=self.w, height=self.h)\n",
    "            v.addModel(self.mol, \"xyz\")\n",
    "        \n",
    "        elif self.source == 'cif':\n",
    "            v = py3Dmol.view(width=self.w, height=self.h)\n",
    "            v.addModel(self.mol, \"cif\")  # <-- explicitly declare CIF\n",
    "            v.addUnitCell()\n",
    "\n",
    "        elif self.source == 'cid':\n",
    "            v = py3Dmol.view(query=f'cid:{self.mol}', width=self.w, height=self.h)\n",
    "            self._apply_style(v)\n",
    "            v.setHoverable({}, True, \n",
    "                \"function(atom,viewer,event,container) { viewer.addLabel(atom.elem+atom.serial,{position:atom, backgroundColor:'black'}); }\",\n",
    "                \"function(atom,viewer) { viewer.removeAllLabels(); }\")\n",
    "            v.zoomTo()\n",
    "            v.zoom(0.9)\n",
    "            v.show()\n",
    "            return\n",
    "        \n",
    "        elif self.source == 'ase':\n",
    "            if not isinstance(self.mol, Atoms):\n",
    "                raise TypeError(\"Expected an ASE Atoms object for source='ase'\")\n",
    "        \n",
    "            v = py3Dmol.view(width=self.w, height=self.h)\n",
    "            xyz_str = ase2xyz(self.mol)\n",
    "            v.addModel(xyz_str, \"xyz\")\n",
    "\n",
    "        # Apply chosen style\n",
    "        self._apply_style(v)\n",
    "        v.setHoverable({}, True, \n",
    "            \"function(atom,viewer,event,container) { viewer.addLabel(atom.elem+atom.serial,{position:atom, backgroundColor:'black'}); }\",\n",
    "            \"function(atom,viewer) { viewer.removeAllLabels(); }\")\n",
    "        v.zoomTo()\n",
    "        v.zoom(0.9)\n",
    "        v.show()\n",
    "        \n",
    "    def _apply_style(self, v):\n",
    "        \"\"\"Apply either ball-and-stick or CPK style.\"\"\"\n",
    "        if self.style == 'bs':\n",
    "            v.setStyle({'sphere': {'scale': 0.25, 'colorscheme': 'element'},\n",
    "                        'stick': {'radius': 0.15}})\n",
    "        elif self.style == 'cpk':\n",
    "            v.setStyle({'sphere': {'scale': self.cpk_scale,\n",
    "                                   'colorscheme': 'element'}})\n",
    "        else:\n",
    "            raise ValueError(\"style must be 'bs' or 'cpk'\")"
   ]
  },
  {
   "cell_type": "code",
   "execution_count": null,
   "id": "2f0fe111-9add-446c-8260-d1b8de145e0a",
   "metadata": {},
   "outputs": [],
   "source": [
    "# let's use molView\n",
    "from ase.data.pubchem import pubchem_atoms_search\n",
    "mol = pubchem_atoms_search(name='retinal')\n",
    "v = molView(mol,\"ase\")"
   ]
  },
  {
   "cell_type": "markdown",
   "id": "333e680c-8307-47f0-a0df-e419d74c8b16",
   "metadata": {},
   "source": [
    "### Clusters\n",
    "\n",
    "<div class=\"intro\">\n",
    "\n",
    "ASE provides a ready-made class `Icosahedron` in `ase.cluster` that automatically generates this geometry.\n",
    "\n",
    "- `Au` tells ASE the chemical element: gold.\n",
    "- noshells=4 means we build an icosahedron with 4 shells around the central atom.\n",
    "- ASE automatically places the atoms at the vertices of nested icosahedra.\n",
    "\n",
    "The number of atoms is not arbitrary. For icosahedra, only certain “magic numbers” are possible:\n",
    "- 1 shell → 13 atoms\n",
    "- 2 shells → 55 atoms\n",
    "- 3 shells → 147 atoms\n",
    "- 4 shells → 309 atoms\n",
    "- ...\n",
    "</div>"
   ]
  },
  {
   "cell_type": "code",
   "execution_count": null,
   "id": "ca7b43bd-054d-4f32-9ab1-a4f8fc5f02ad",
   "metadata": {},
   "outputs": [],
   "source": [
    "from ase.cluster import Icosahedron\n",
    "ico = Icosahedron('Au', noshells=4)\n",
    "v = molView(ico,'ase','cpk',cpk_scale=1.0,w=600,h=600)"
   ]
  },
  {
   "cell_type": "markdown",
   "id": "260dd08c-b86f-4438-aa88-4b35d91e4449",
   "metadata": {},
   "source": [
    "<div class=\"intro\">\n",
    "\n",
    "You will see now the raw coordinates of every atom in the Au<sub>309</sub> cluster.\n",
    "\n",
    "As already said, the string `icoxyz` can be passed to visualization tools like `py3Dmol`. It’s a way to move smoothly between ASE and external tools without writing files to disk.\n",
    "\n",
    "It can also be saved later with `open(\"file.xyz\",\"w\").write(icoxyz)`.\n",
    "</div>"
   ]
  },
  {
   "cell_type": "code",
   "execution_count": null,
   "id": "c4c2f044-4b47-46d3-852f-2bf500abd475",
   "metadata": {},
   "outputs": [],
   "source": [
    "import io\n",
    "from ase.io import write\n",
    "# Write into a string buffer\n",
    "buf = io.StringIO()\n",
    "write(buf, ico, format=\"xyz\")\n",
    "icoxyz = buf.getvalue()\n",
    "buf.close()\n",
    "\n",
    "# Check result\n",
    "print(icoxyz)"
   ]
  },
  {
   "cell_type": "markdown",
   "id": "77486722-b8cd-470b-af4a-5708647d36cb",
   "metadata": {},
   "source": [
    "<div class=\"intro\">\n",
    "\n",
    "Let's coordination numbers (CNs), assign a unique color to each CN, visualize the cluster with py3Dmol, and then generate a legend that explains the color–CN mapping. Everything has been generated with the help of a generative AI. Several functions were defined, that directly work with ase `Atoms` objects.\n",
    "\n",
    "The viewer used here is again `py3Dmol`\n",
    "\n",
    "</div>"
   ]
  },
  {
   "cell_type": "code",
   "execution_count": null,
   "id": "75835344-21d4-45b4-8e88-ac8a66d0591b",
   "metadata": {},
   "outputs": [],
   "source": [
    "import numpy as np\n",
    "\n",
    "import matplotlib.cm as cm\n",
    "import matplotlib.colors as mcolors\n",
    "from matplotlib.patches import Patch\n",
    "from matplotlib import pyplot as plt\n",
    "from ase import Atoms\n",
    "\n",
    "def coordination_numbers(mol: Atoms, cutoff=3.0):\n",
    "    \"\"\"returns as an array the coordination number for each atom of mol\"\"\"\n",
    "    from ase.neighborlist import NeighborList\n",
    "    nat = len(mol)\n",
    "    cutoffs = [cutoff/2.0] * nat  # cutoff radius (simplified)\n",
    "    nl = NeighborList(cutoffs, self_interaction=False, bothways=True)\n",
    "    nl.update(mol)\n",
    "\n",
    "    cn = np.zeros(nat, dtype=int)\n",
    "    for i in range(nat):\n",
    "        indices, offsets = nl.get_neighbors(i)\n",
    "        cn[i] = len(indices)\n",
    "    return cn\n",
    "\n",
    "# --- palette fixe CN 1→20 ---\n",
    "def cn_palette():\n",
    "    import matplotlib\n",
    "    cmap = matplotlib.colormaps.get_cmap(\"tab20\").resampled(20)  # 20 couleurs discrètes\n",
    "    return {cn: matplotlib.colors.to_hex(cmap(cn-1)) for cn in range(1, 21)}\n",
    "\n",
    "def colors_for_cn(cn, palette):\n",
    "    return [palette[val] for val in cn]\n",
    "import py3Dmol\n",
    "\n",
    "def view_atoms_colored(mol: Atoms, colors, stick_radius=0.1, sphere_scale=0.6):\n",
    "    \"\"\"displays an ASE Atoms object as ball&stick with personalized colors.\"\"\"\n",
    "    from ase.io import write\n",
    "    import io\n",
    "    buf = io.StringIO()\n",
    "    write(buf, mol, format=\"xyz\")\n",
    "    xyz_str = buf.getvalue()\n",
    "    buf.close()\n",
    "\n",
    "    v = py3Dmol.view(width=600, height=600)\n",
    "    v.addModel(xyz_str, \"xyz\")\n",
    "\n",
    "    # appliquer les couleurs atome par atome\n",
    "    for atom, color in zip(mol, colors):\n",
    "        v.setStyle({\"serial\": atom.index},\n",
    "                        {\"sphere\": {\"color\": color, \"scale\": sphere_scale},\n",
    "                         \"stick\": {\"radius\": stick_radius, \"color\": \"gray\"}})\n",
    "    v.zoomTo()\n",
    "    v.zoom(0.9)\n",
    "    return v\n",
    "\n",
    "\n"
   ]
  },
  {
   "cell_type": "code",
   "execution_count": null,
   "id": "95ae896c-7971-4fc3-a351-013393fd2a6f",
   "metadata": {},
   "outputs": [],
   "source": [
    "# Calculate coordination numbers (CNs)\n",
    "cn = coordination_numbers(ico, cutoff=3.2)\n",
    "\n",
    "# Palette CN 1→20\n",
    "palette = cn_palette()\n",
    "colors = colors_for_cn(cn, palette)\n",
    "\n",
    "# Visualise\n",
    "v = view_atoms_colored(ico, colors)\n",
    "v.show()\n",
    "\n",
    "# --- graphical caption: one line per CN ---\n",
    "unique_cns = sorted(set(cn))\n",
    "legend_elements = [Patch(facecolor=palette[val], edgecolor=\"k\", label=f\"CN = {val}\")\n",
    "                   for val in unique_cns]\n",
    "\n",
    "fig, ax = plt.subplots(figsize=(3, len(unique_cns)*0.4))\n",
    "ax.axis(\"off\")\n",
    "ax.legend(handles=legend_elements, loc=\"center left\", frameon=False)\n",
    "plt.show()"
   ]
  },
  {
   "cell_type": "markdown",
   "id": "980dece4-7b9e-46c1-86b2-fc11ce9d0d9d",
   "metadata": {},
   "source": [
    "<div class=\"exE\">\n",
    "\n",
    "Use [ASE Nanoparticles and Clusters Module](https://ase-lib.org/ase/cluster/cluster.html#) and the previous pieces of code to generate a gold cuboctahedron with 4 layers cut at each vertex . \n",
    "</div>"
   ]
  },
  {
   "cell_type": "code",
   "execution_count": null,
   "id": "a78ac291-9ff0-4f58-85f6-64eb21ab0ff8",
   "metadata": {},
   "outputs": [],
   "source": [
    "# Enter your code here\n"
   ]
  },
  {
   "cell_type": "markdown",
   "id": "c73dd94b-700b-4cb2-8130-187ed6a8c5d2",
   "metadata": {},
   "source": [
    "<div class=\"sol\">\n",
    "\n",
    "Want to see a possible answer? Uncomment the `# %load ./SolutionsToExercises/...` command below\n",
    "\n",
    "</div>"
   ]
  },
  {
   "cell_type": "code",
   "execution_count": null,
   "id": "fe1bbf25-b532-44a0-9871-c7c5a2c7c6ea",
   "metadata": {},
   "outputs": [],
   "source": [
    "# %load ./SolutionsToExercises/Molecules/cubo.py"
   ]
  },
  {
   "cell_type": "markdown",
   "id": "5def4635-3925-4537-9497-c85303106e4c",
   "metadata": {},
   "source": [
    "### Wulff constructions\n",
    "\n",
    "<div class=\"intro\">\n",
    "\n",
    "Let's try to make an hcp cobalt nanorod with 6 hexagonal facets. It consists in using ASE’s Wulff construction for hcp cobalt and choose facets that give you a nanowire shape with 6 prismatic (hexagonal) side facets and two basal facets at the ends. \n",
    "\n",
    "An hcp structure like Co has two important families of surfaces:\n",
    "- Basal plane → (0001) (flat hexagonal face at top and bottom).\n",
    "- Prismatic planes → (10-10), (11-20) (the 6 vertical faces forming a hexagonal prism).\n",
    "\n",
    "If you give the prismatic planes much lower surface energy than the basal planes, the Wulff construction will elongate along the c-axis, producing a nanowire-like particle.\n",
    "\n",
    "ASE uses the space group symmetry of the hcp lattice to automatically generate all symmetry-equivalent planes from the ones you provide\n",
    "</div>\n",
    "<br>\n",
    "\n",
    "<div class=\"rqE\">\n",
    "\n",
    "Why 4 indices?\n",
    "In cubic crystals we use 3 Miller indices (*hkl*) because the lattice is described by 3 axes, wheras in hexagonal crystals, the basal plane is hexagonal (3 equivalent directions 120° apart). To treat these directions symmetrically, we introduce a 4th index, *i*, where *i* = -(*h* + *k*).\n",
    "\n",
    "The system is called the Miller–Bravais index notation.\n",
    "</div>"
   ]
  },
  {
   "cell_type": "code",
   "execution_count": null,
   "id": "6f5d37ba-bafa-46db-8aa3-c12a49838969",
   "metadata": {},
   "outputs": [],
   "source": [
    "from ase.cluster.wulff import wulff_construction\n",
    "\n",
    "surfaces = [(0,0,0,1),  # basal\n",
    "            (1,0,-1,0)] # prismatic\n",
    "\n",
    "# Surface energies in eV/Å² (relative values matter)\n",
    "# -> make prismatic facets very stable (low energy)\n",
    "esurf = [1.0, 0.3]\n",
    "\n",
    "# Target size ~2000 atoms, hcp lattice\n",
    "CoNW = wulff_construction('Co', surfaces, esurf, size=2000, structure='hcp', rounding=\"closest\")\n",
    "\n",
    "v = molView(CoNW,'ase','cpk',cpk_scale=1.0,w=600,h=600)"
   ]
  },
  {
   "cell_type": "markdown",
   "id": "79f1d116-0243-4d22-8a83-57c680c84306",
   "metadata": {},
   "source": [
    "<div class=\"intro\">\n",
    "\n",
    "This part is devoted to the calculation of the diameter and lengths of the nanowire\n",
    "</div>"
   ]
  },
  {
   "cell_type": "code",
   "execution_count": null,
   "id": "f346201e-8db7-4a0c-b477-206f1c9d0bc7",
   "metadata": {},
   "outputs": [],
   "source": [
    "def nanowire_dimensions(atoms):\n",
    "    import numpy as np\n",
    "    pos = atoms.get_positions() # in Å\n",
    "    \n",
    "    # length along c-axis (z)\n",
    "    zmin, zmax = pos[:,2].min(), pos[:,2].max()\n",
    "    length = zmax - zmin\n",
    "    \n",
    "    # diameter in xy-plane (max radial distance from center)\n",
    "    xy = pos[:,:2]\n",
    "    center = xy.mean(axis=0)\n",
    "    r = np.linalg.norm(xy - center, axis=1)\n",
    "    diameter = 2 * r.max()\n",
    "    \n",
    "    return length/10, diameter/10 #nm\n",
    "\n",
    "L, D = nanowire_dimensions(CoNW)\n",
    "print(f\"Length = {L:.2f} nm, Diameter = {D:.2f} nm, Aspect ratio = {L/D:.2f}\")"
   ]
  },
  {
   "cell_type": "markdown",
   "id": "4e1be758-3c54-4e95-9d33-401eed884321",
   "metadata": {},
   "source": [
    "<div class=\"intro\">\n",
    "\n",
    "Let's now control the aspect ratio (length vs diameter) explicitly, by tuning the ratio of surface energies between (0001) and the prismatic facets.\n",
    "\n",
    "**Key principle**\n",
    "- Low surface energy → large facet area\n",
    "- High surface energy → small facet area\n",
    "\n",
    "It comes:\n",
    "\n",
    "- If *E*(0001) ≫ *E*(prismatics) → the (0001) facets shrink, particle grows longer along c-axis → nanowire.\n",
    "- If *E*(0001) ≪ *E*(prismatics) → the (0001) facets expand, particle flattens → nanoplatelet.\n",
    "- If *E*(0001) ≈ *E*(prismatics) → more balanced shape (near isotropic).\n",
    "</div>"
   ]
  },
  {
   "cell_type": "code",
   "execution_count": null,
   "id": "3ce501ae-e584-4296-bfb8-1c344f3ebbbb",
   "metadata": {},
   "outputs": [],
   "source": [
    "from ase.cluster.wulff import wulff_construction\n",
    "from ase.visualize import view\n",
    "\n",
    "surfaces = [(0,0,0,1),  # basal\n",
    "            (1,0,-1,0)] # prismatic\n",
    "\n",
    "def make_wulff(E0001, Eprism, size=2000):\n",
    "    esurf = [E0001, Eprism]\n",
    "    atoms = wulff_construction('Co', surfaces, esurf,\n",
    "                               size=size, structure='hcp',\n",
    "                               rounding=\"closest\")\n",
    "    return atoms\n",
    "\n",
    "# Three cases: wire-like, balanced, platelet\n",
    "wire   = make_wulff(2.0, 0.3)   # E(0001) >> E(prism) → nanowire\n",
    "L, D = nanowire_dimensions(wire)\n",
    "print(f\"Length = {L:.2f} nm, Diameter = {D:.2f} nm, Aspect ratio = {L/D:.2f}\")\n",
    "\n",
    "equal  = make_wulff(1.0, 1.0)   # E(0001) = E(prism) → isotropic prism\n",
    "L, D = nanowire_dimensions(equal)\n",
    "print(f\"Length = {L:.2f} nm, Diameter = {D:.2f} nm, Aspect ratio = {L/D:.2f}\")\n",
    "\n",
    "plate  = make_wulff(0.3, 2.0)   # E(0001) << E(prism) → nanoplatelet\n",
    "L, D = nanowire_dimensions(plate)\n",
    "print(f\"Length = {L:.2f} nm, Diameter = {D:.2f} nm, Aspect ratio = {L/D:.2f}\")\n",
    "\n",
    "from IPython.display import display\n",
    "v1 = molView(wire,'ase','cpk',cpk_scale=1.0,w=300,h=300)\n",
    "v2 = molView(equal,'ase','cpk',cpk_scale=1.0,w=300,h=300)\n",
    "v3 = molView(plate,'ase','cpk',cpk_scale=1.0,w=300,h=300)"
   ]
  },
  {
   "cell_type": "markdown",
   "id": "cd7f71e4-b195-4ed8-ab05-435215a77a68",
   "metadata": {},
   "source": [
    "### Build a database of nanorods\n",
    "\n",
    "<div class=\"intro\">\n",
    "\n",
    "The next script generates a systematic dataset of cobalt (Co) nanowires using the Wulff construction implemented in ASE.\n",
    "It explores a range of anisotropy ratios between the basal and prismatic surfaces of hcp cobalt :\n",
    "\n",
    "$$\n",
    "R = \\frac{E_{0001}}{E_{\\text{prism}}}\n",
    "$$\n",
    "\n",
    "#### ⚙️ Method\n",
    "\n",
    "- The `wulff_construction()` function builds equilibrium crystal shapes from surface energies.\n",
    "- Increasing $E_{0001}$ relative to $E_{\\text{prism}}$ gradually shifts the morphology from\n",
    "  **compact shapes** to **elongated nanowires** along the c-axis.\n",
    "- For each structure, the script:\n",
    "  - computes the **length (L)** along the c-axis  \n",
    "  - computes the **diameter (D)** in the xy-plane  \n",
    "  - derives the **aspect ratio**: $ AR = \\frac{L}{D} $\n",
    "  - counts the **number of atoms (natoms)**  \n",
    "\n",
    "#### 💾 Output\n",
    "\n",
    "- Each nanowire is saved as an `.xyz` file in `ML-data/Co_nanowires/`,\n",
    "  with its metadata stored in the **comment (title) line** of the file.\n",
    "- A csv file `Co_nanowires_metadata.csv` collects all metadata in tabular form:\n",
    "\n",
    "| AR | E0001 | Eprism | length_nm | diameter_nm | natoms | xyz_file |\n",
    "|---|---|---|---|---|---|---|\n",
    "\n",
    "This dataset can be used to train **machine learning models** to relate crystal shape descriptors\n",
    "(AR, size, surface energy ratio) to physical or chemical properties.\n",
    "</div>"
   ]
  },
  {
   "cell_type": "code",
   "execution_count": null,
   "id": "9f620802-f369-4e77-85c0-f0c7ea012e7d",
   "metadata": {},
   "outputs": [],
   "source": [
    "import os\n",
    "# === Create output folder ===\n",
    "os.makedirs(\"ML-data/Co_nanowires\", exist_ok=True)\n",
    "\n",
    "# === Grid of surface energies ===\n",
    "nNR = 30\n",
    "ratios = np.logspace(-1, 2, nNR)         # E0001 / Eprism comprised between 10^(-1) and 10^(2)\n",
    "Eprism = 1.0\n",
    "index = 0\n",
    "\n",
    "records = []\n",
    "\n",
    "for i, R in enumerate(ratios):\n",
    "    E0001 = R * Eprism\n",
    "    NR = make_wulff(E0001, Eprism, size=3000)\n",
    "    nat = len(NR)\n",
    "    L, D = nanowire_dimensions(NR)\n",
    "    AR = L/D if D>0 else 0\n",
    "    title = f\"natoms={nat} E0001={E0001:.2f} Eprism={Eprism:.2f} L={L:.2f}nm D={D:.2f}nm AR={AR:.2f}\"\n",
    "    fname = f\"CoNR_{i:03d}.xyz\"\n",
    "    write(f\"ML-data/Co_nanowires/{fname}\", NR, format=\"xyz\", comment=title)\n",
    "\n",
    "    # Save metadata record\n",
    "    records.append({\n",
    "        \"AR\": AR,\n",
    "        \"E0001\": E0001,\n",
    "        \"Eprism\": Eprism,\n",
    "        \"length_nm\": L,\n",
    "        \"diameter_nm\": D,\n",
    "        \"natoms\": nat,\n",
    "        \"xyz_file\": fname\n",
    "    })\n"
   ]
  },
  {
   "cell_type": "code",
   "execution_count": null,
   "id": "7a50ea58-358d-4ce1-a887-a5a025588028",
   "metadata": {},
   "outputs": [],
   "source": [
    "# === Save CSV ===\n",
    "import pandas as pd\n",
    "df = pd.DataFrame(records)\n",
    "display(df)\n",
    "df.to_csv(\"ML-data/Co_nanowires/Co_nanowires_metadata.csv\", index=False)\n",
    "print(f\"✅ {i+1} nanowires generated in ML-data/Co_nanowires/\")"
   ]
  },
  {
   "cell_type": "markdown",
   "id": "2fcb0a23-ac5f-40d4-bbd6-4420f0b22aa4",
   "metadata": {},
   "source": [
    "<div class=\"rqE\">\n",
    "\n",
    "Open the csv file with the file explorer of `JupyterLab` or with any external spreadsheet editor, just to see its structure.\n",
    "</div>"
   ]
  },
  {
   "cell_type": "markdown",
   "id": "d0ddcade-fff1-4acb-93ba-1f255c9aef01",
   "metadata": {},
   "source": [
    "<div class=\"intro\">\n",
    "\n",
    "#### Plot\n",
    "\n",
    "The next figure shows how the shape of an hcp cobalt nanorod depends on the relative stability of two types of crystal facets: the basal plane (0001) and the prismatic planes {10-10}.\n",
    "\n",
    "- When the basal surface is less stable (higher energy), the particle avoids exposing it → it grows tall along c-axis (nanowire, large aspect ratio).\n",
    "- When the basal surface is very stable, the particle expands laterally → it becomes a thin platelet (small aspect ratio).\n",
    "- In between, when the energies are equal, the particle is nearly isotropic (hexagonal prism).\n",
    "\n",
    "</div>"
   ]
  },
  {
   "cell_type": "code",
   "execution_count": null,
   "id": "8dfe36a8-542c-4f80-8c3d-323e194b404e",
   "metadata": {},
   "outputs": [],
   "source": [
    "import matplotlib.pyplot as plt\n",
    "\n",
    "plt.figure(figsize=(6,4))\n",
    "# Switch both axes to log scale\n",
    "plt.xscale(\"log\")\n",
    "plt.yscale(\"log\")\n",
    "plt.plot(df[\"E0001\"], df[\"AR\"], marker='o')\n",
    "plt.xlabel(f\"$E_{{0001}}/E_\\mathrm{{prism}}$ surface energy / arb. unit\")\n",
    "plt.ylabel(\"Aspect ratio (L/D)\")\n",
    "plt.title(f\"Evolution of CoNR aspect ratio vs surface energy ratio\")\n",
    "plt.grid(True)\n",
    "plt.tight_layout()\n",
    "plt.show()\n"
   ]
  },
  {
   "cell_type": "markdown",
   "id": "414dbb04-5169-4681-8163-eaceb15ce77d",
   "metadata": {},
   "source": [
    "## pymatgen\n",
    "\n",
    "<div class=\"intro\">\n",
    "\n",
    "**Pymatgen** (Python Materials Genomics) is a robust, open-source Python library for materials analysis. These are some of the main features:\n",
    "\n",
    "- Highly flexible classes for the representation of Element, Site, Molecule, Structure objects.\n",
    "- Extensive input/output support, including support for VASP, ABINIT, CIF, Gaussian, XYZ, and many other file formats.\n",
    "- Powerful analysis tools, including generation of phase diagrams, Pourbaix diagrams, diffusion analyses, reactions, etc.\n",
    "- Electronic structure analyses, such as density of states and band structure.\n",
    "- Integration with the **[Materials Project](https://next-gen.materialsproject.org/)** REST API, [Crystallography Open Database](http://www.crystallography.net/) and other external data sources\n",
    "\n",
    "<figure> \n",
    "<img width = \"300px\" src=\"./MiscImages/pyMatGen_MaterialsProject.png\" alt=\"matgen\" />\n",
    "</figure> \n",
    "</div>"
   ]
  },
  {
   "cell_type": "markdown",
   "id": "4c72460c-cdcd-4a50-a4f9-c6fdb9b6cf83",
   "metadata": {},
   "source": [
    "<div class=\"intro\">\n",
    "\n",
    "Pymatgen contains a high-level interface to the Materials Project, which can be used to query for structures very easily.\n",
    "Note that you will need to add your Materials API key in your .pmgrc.yaml file as \"PMG_MAPI_KEY\". Alternatively, you will need to supply the API key as an arg to MPRester.\n",
    "\n",
    "To use the new API, you should install the `mp-api` library by running the following command:\n",
    "\n",
    "```\n",
    "pip install mp-api\n",
    "```\n",
    "\n",
    "If you do not install `mp-api`, pymatgen offers only basic built-in functionality for using the Materials Project API.\n",
    "</div>"
   ]
  },
  {
   "cell_type": "code",
   "execution_count": null,
   "id": "1105defb-ce5a-4559-b342-dc2abf1333a1",
   "metadata": {},
   "outputs": [],
   "source": [
    "# uncomment the next line if needed\n",
    "#!pip install mp-api"
   ]
  },
  {
   "cell_type": "markdown",
   "id": "a9706aea-18a9-4819-95cc-c9ce2e7d0433",
   "metadata": {},
   "source": [
    "### Download structures from the Materials Project"
   ]
  },
  {
   "cell_type": "code",
   "execution_count": null,
   "id": "f03ab524-ff93-4b9e-b7e8-112b05db1196",
   "metadata": {},
   "outputs": [],
   "source": [
    "from mp_api.client import MPRester\n",
    "mpr = MPRester()  # use this line if you set up the configuration file\n",
    "# mpr = MPRester(\"YOUR_API_KEY\")  # use this line to enter your API key manually\n",
    "\n",
    "# Querying by chemical system only.\n",
    "# This will result in faster queries and less data transfer\n",
    "results = mpr.materials.summary.search(elements=[\"Fe\", \"N\"], \n",
    "                                       num_elements=2,\n",
    "                                       # exclude_elements=[\"Ca\"], # no Calcium allowed\n",
    "                                       # band_gap=(0.5, 1.0),\n",
    "                                       fields=[\"material_id\",  # We will just retrieve the data in these fields\n",
    "                                               \"band_gap\", \n",
    "                                               \"symmetry\",\n",
    "                                               \"composition\",\n",
    "                                               \"origins\",\n",
    "                                               \"formula_pretty\"])\n",
    "t4pPC.centerTitle(\"Basic printing\")\n",
    "for i,r in enumerate(results):\n",
    "    print(f\"entry {i}. ID: {r.material_id}. Composition: {r.composition} ({r.formula_pretty}). Symmetry: {r.symmetry.symbol}\")\n",
    "t4pPC.centerTitle(\"Formatted printing\")\n",
    "for i,r in enumerate(results):\n",
    "    print(f\"entry {i:3d}. ID: {r.material_id:>{10}}. Composition: {str(r.composition):>{10}} ({r.formula_pretty:>{10}}). Symmetry: {r.symmetry.symbol:>{10}}\")"
   ]
  },
  {
   "cell_type": "code",
   "execution_count": null,
   "id": "5af018c4-b08d-401a-bc2c-e5891a689787",
   "metadata": {},
   "outputs": [],
   "source": [
    "# Retrieve the crystal structure for a specific material by its Materials Project ID\n",
    "\n",
    "material_id = \"mp-1080202\"  # Example material ID for GaAs\n",
    "# \n",
    "t4pPC.centerTitle(\"Summary\")\n",
    "docs = mpr.materials.summary.search(material_ids=material_id)\n",
    "print(docs)\n",
    "t4pPC.centerTitle(\"Structure\")\n",
    "# Fetch structure for the material\n",
    "structure = mpr.get_structure_by_material_id(material_id)\n",
    "\n",
    "# Print fetched data\n",
    "print(f\"--Structure:--\\n {structure}\")\n"
   ]
  },
  {
   "cell_type": "markdown",
   "id": "b7006fe3-8f0e-4b3e-8573-a0874070742c",
   "metadata": {},
   "source": [
    "<div class=\"intro\">\n",
    "\n",
    "You will see now the raw **cif** coordinates of every atom in this molecule.\n",
    "</div>"
   ]
  },
  {
   "cell_type": "code",
   "execution_count": null,
   "id": "4087f8d9-7c0e-483f-bb70-ca859d850386",
   "metadata": {},
   "outputs": [],
   "source": [
    "# Convert to CIF string\n",
    "cif_str = structure.to(fmt=\"cif\")\n",
    "print(cif_str)"
   ]
  },
  {
   "cell_type": "markdown",
   "id": "03c35bdb-ccc4-4c4d-9131-676ca1fa0299",
   "metadata": {},
   "source": [
    "<div class=\"intro\">\n",
    "\n",
    "Visualization of the pymatgen material, converted as a cif string, and using the previously implemented `molView` utility\n",
    "</div>"
   ]
  },
  {
   "cell_type": "code",
   "execution_count": null,
   "id": "cf18426d-41d6-41dd-89db-a334dcad2164",
   "metadata": {},
   "outputs": [],
   "source": [
    "v = molView(cif_str,'cif',w=600,h=600)"
   ]
  },
  {
   "cell_type": "markdown",
   "id": "438b335d-f797-473f-84dd-bd0f50f7b2a6",
   "metadata": {},
   "source": [
    "### Select compounds with a given property and build a database\n",
    "\n",
    "<div class='intro'>\n",
    "\n",
    "The Materials Project API imposes rate limits on requests starting at 25/second\n",
    "\n",
    "Let's list all stable materials (on the GGA/GGA+U hull) of the database with large band gaps (>3eV)\n",
    "</div>"
   ]
  },
  {
   "cell_type": "code",
   "execution_count": null,
   "id": "fd750975-4067-43e8-b8e4-74df2d08085d",
   "metadata": {},
   "outputs": [],
   "source": [
    "from mp_api.client import MPRester\n",
    "import pandas as pd\n",
    "\n",
    "with MPRester() as mpr:\n",
    "    docs = mpr.materials.summary.search(\n",
    "        band_gap=(3, None), is_stable=True, fields=[\"elements\", \"material_id\", \"band_gap\", \"formula_pretty\",\n",
    "                                                    \"nsites\", \"theoretical\", \"total_magnetization\",\"efermi\",\n",
    "                                                    \"density\", 'symmetry']\n",
    "    )\n",
    "\n",
    "# Convert to DataFrame\n",
    "df = pd.DataFrame([doc.dict() for doc in docs])\n",
    "# Drop columns that are completely None/NaN\n",
    "df = df.dropna(axis=1, how=\"all\")\n",
    "display(df)\n",
    "\n"
   ]
  },
  {
   "cell_type": "code",
   "execution_count": null,
   "id": "e2f59abb-6175-40c8-99ee-d2dbe97bc722",
   "metadata": {},
   "outputs": [],
   "source": [
    "t4pPC.centerTitle(\"Basic statistical analysis of the numerical descriptors\")\n",
    "display(df.describe())\n",
    "\n",
    "t4pPC.centerTitle(\"Are there missing data?\")\n",
    "display(df.isna().sum())\n"
   ]
  },
  {
   "cell_type": "code",
   "execution_count": null,
   "id": "59a457c1-9f74-4211-abc5-09544c81d5ab",
   "metadata": {},
   "outputs": [],
   "source": [
    "t4pPC.centerTitle(\"Which are the compounds with missing Fermi energies?\")\n",
    "df[df[\"efermi\"].isna()]"
   ]
  },
  {
   "cell_type": "code",
   "execution_count": null,
   "id": "7f8c2bf7-5cdf-475f-9815-01138272c91b",
   "metadata": {},
   "outputs": [],
   "source": [
    "df.to_csv(\"ML-data/bandgaps/MaterialsProject-bandgap.csv\", index=False)\n",
    "print(f\"✅ {len(df)} nanowires saved in ML-data/bandgaps/\")"
   ]
  },
  {
   "cell_type": "code",
   "execution_count": null,
   "id": "bd478ab7-7b1e-4871-bcbb-0c1f4746219a",
   "metadata": {},
   "outputs": [],
   "source": [
    "import matplotlib.pyplot as plt\n",
    "df[\"band_gap\"].hist(bins=30)\n",
    "plt.xlabel(\"Band gap (eV)\")\n",
    "plt.ylabel(\"Count\")\n",
    "plt.show()"
   ]
  },
  {
   "cell_type": "markdown",
   "id": "d764f617-d387-4442-b869-4baed7d1bfaf",
   "metadata": {
    "jp-MarkdownHeadingCollapsed": true
   },
   "source": [
    "# Useful resources\n",
    "\n",
    "<div class=\"intro\">\n",
    "   \n",
    "- [Atomic Simulation Environment (ase)](https://ase-lib.org)\n",
    "- [Python Materials Genomics (pymatgen)](https://pymatgen.org/) and [matgenb, a website with Materials Science Jupyter Notebooks](https://matgenb.materialsvirtuallab.org/)\n",
    "- [Tutorials for using the pymatgen library](https://github.com/computron/pymatgen_tutorials)\n",
    "</div>"
   ]
  },
  {
   "cell_type": "markdown",
   "id": "01f7abae-3a1c-4126-9e28-c3872acbbcf0",
   "metadata": {},
   "source": [
    "# End"
   ]
  },
  {
   "cell_type": "code",
   "execution_count": null,
   "id": "898a0af5-6513-4be2-8538-0d741a4c4478",
   "metadata": {},
   "outputs": [],
   "source": [
    "vID.end(cwd0)"
   ]
  },
  {
   "cell_type": "code",
   "execution_count": null,
   "id": "c8db19ab-fbc6-4dba-9e81-495313b7b692",
   "metadata": {},
   "outputs": [],
   "source": []
  }
 ],
 "metadata": {
  "kernelspec": {
   "display_name": "Python 3 (ipykernel)",
   "language": "python",
   "name": "python3"
  },
  "language_info": {
   "codemirror_mode": {
    "name": "ipython",
    "version": 3
   },
   "file_extension": ".py",
   "mimetype": "text/x-python",
   "name": "python",
   "nbconvert_exporter": "python",
   "pygments_lexer": "ipython3",
   "version": "3.11.13"
  },
  "toc-autonumbering": true,
  "toc-showcode": false,
  "toc-showmarkdowntxt": false,
  "toc-showtags": false
 },
 "nbformat": 4,
 "nbformat_minor": 5
}
